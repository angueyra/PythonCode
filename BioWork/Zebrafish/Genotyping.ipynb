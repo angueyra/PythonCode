{
 "cells": [
  {
   "cell_type": "markdown",
   "metadata": {},
   "source": [
    "DNA lysis"
   ]
  },
  {
   "cell_type": "markdown",
   "metadata": {},
   "source": [
    "###### Phusion PCR setup:\n",
    "    DNA (1:10) dilution = 2uL\n",
    "    Water = 10.4 uL\n",
    "    F primer (10 uL)\n",
    "    R\n",
    "    \n",
    "    "
   ]
  },
  {
   "cell_type": "code",
   "execution_count": 15,
   "metadata": {
    "collapsed": true
   },
   "outputs": [],
   "source": [
    "import numpy as np\n",
    "import pandas as pd"
   ]
  },
  {
   "cell_type": "code",
   "execution_count": 21,
   "metadata": {
    "collapsed": true
   },
   "outputs": [],
   "source": [
    "volumes  = [10.4, 4, 0.4, 1, 1, 1, 0.2];\n",
    "names = ['Water','Buffer5x','dNTP mix','FWD','REV','M13-FAM','Phusion'];"
   ]
  },
  {
   "cell_type": "code",
   "execution_count": 42,
   "metadata": {
    "collapsed": false
   },
   "outputs": [
    {
     "data": {
      "text/html": [
       "<div>\n",
       "<table border=\"1\" class=\"dataframe\">\n",
       "  <thead>\n",
       "    <tr style=\"text-align: right;\">\n",
       "      <th></th>\n",
       "      <th>1x</th>\n",
       "    </tr>\n",
       "  </thead>\n",
       "  <tbody>\n",
       "    <tr>\n",
       "      <th>Water</th>\n",
       "      <td>10.4</td>\n",
       "    </tr>\n",
       "    <tr>\n",
       "      <th>Buffer5x</th>\n",
       "      <td>4.0</td>\n",
       "    </tr>\n",
       "    <tr>\n",
       "      <th>dNTP mix</th>\n",
       "      <td>0.4</td>\n",
       "    </tr>\n",
       "    <tr>\n",
       "      <th>FWD</th>\n",
       "      <td>1.0</td>\n",
       "    </tr>\n",
       "    <tr>\n",
       "      <th>REV</th>\n",
       "      <td>1.0</td>\n",
       "    </tr>\n",
       "    <tr>\n",
       "      <th>M13-FAM</th>\n",
       "      <td>1.0</td>\n",
       "    </tr>\n",
       "    <tr>\n",
       "      <th>Phusion</th>\n",
       "      <td>0.2</td>\n",
       "    </tr>\n",
       "  </tbody>\n",
       "</table>\n",
       "</div>"
      ],
      "text/plain": [
       "            1x\n",
       "Water     10.4\n",
       "Buffer5x   4.0\n",
       "dNTP mix   0.4\n",
       "FWD        1.0\n",
       "REV        1.0\n",
       "M13-FAM    1.0\n",
       "Phusion    0.2"
      ]
     },
     "execution_count": 42,
     "metadata": {},
     "output_type": "execute_result"
    }
   ],
   "source": [
    "PhusionDefault = pd.DataFrame(data=volumes, index=names, columns=['1x']);\n",
    "PhusionDefault"
   ]
  },
  {
   "cell_type": "code",
   "execution_count": 69,
   "metadata": {
    "collapsed": false
   },
   "outputs": [],
   "source": [
    "genes = ['cadm1a (n=4)','cadm1b (n=4)', 'cpne3 (n=4)','eml1 (n=1)','tjp2a (n=1)', 'tjp2b (n=1)'];\n",
    "n_reactions = [(4*8)+4, (4*8)+4, (3*8)+3+3, (1.5*8), (1.5*8), (1.5*8)];"
   ]
  },
  {
   "cell_type": "code",
   "execution_count": 70,
   "metadata": {
    "collapsed": false
   },
   "outputs": [],
   "source": [
    "PCR = pd.DataFrame.copy(PhusionDefault)\n",
    "for i in range(len(genes)):\n",
    "    PCR[genes[i]] = pd.Series(PCR['1x'] * (n_reactions[i] * 1.1))\n",
    "    "
   ]
  },
  {
   "cell_type": "code",
   "execution_count": 71,
   "metadata": {
    "collapsed": false
   },
   "outputs": [
    {
     "data": {
      "text/html": [
       "<div>\n",
       "<table border=\"1\" class=\"dataframe\">\n",
       "  <thead>\n",
       "    <tr style=\"text-align: right;\">\n",
       "      <th></th>\n",
       "      <th>1x</th>\n",
       "      <th>cadm1a (n=4)</th>\n",
       "      <th>cadm1b (n=4)</th>\n",
       "      <th>cpne3 (n=4)</th>\n",
       "      <th>eml1 (n=1)</th>\n",
       "      <th>tjp2a (n=1)</th>\n",
       "      <th>tjp2b (n=1)</th>\n",
       "    </tr>\n",
       "  </thead>\n",
       "  <tbody>\n",
       "    <tr>\n",
       "      <th>Water</th>\n",
       "      <td>10.4</td>\n",
       "      <td>411.84</td>\n",
       "      <td>411.84</td>\n",
       "      <td>343.2</td>\n",
       "      <td>137.28</td>\n",
       "      <td>137.28</td>\n",
       "      <td>137.28</td>\n",
       "    </tr>\n",
       "    <tr>\n",
       "      <th>Buffer5x</th>\n",
       "      <td>4.0</td>\n",
       "      <td>158.40</td>\n",
       "      <td>158.40</td>\n",
       "      <td>132.0</td>\n",
       "      <td>52.80</td>\n",
       "      <td>52.80</td>\n",
       "      <td>52.80</td>\n",
       "    </tr>\n",
       "    <tr>\n",
       "      <th>dNTP mix</th>\n",
       "      <td>0.4</td>\n",
       "      <td>15.84</td>\n",
       "      <td>15.84</td>\n",
       "      <td>13.2</td>\n",
       "      <td>5.28</td>\n",
       "      <td>5.28</td>\n",
       "      <td>5.28</td>\n",
       "    </tr>\n",
       "    <tr>\n",
       "      <th>FWD</th>\n",
       "      <td>1.0</td>\n",
       "      <td>39.60</td>\n",
       "      <td>39.60</td>\n",
       "      <td>33.0</td>\n",
       "      <td>13.20</td>\n",
       "      <td>13.20</td>\n",
       "      <td>13.20</td>\n",
       "    </tr>\n",
       "    <tr>\n",
       "      <th>REV</th>\n",
       "      <td>1.0</td>\n",
       "      <td>39.60</td>\n",
       "      <td>39.60</td>\n",
       "      <td>33.0</td>\n",
       "      <td>13.20</td>\n",
       "      <td>13.20</td>\n",
       "      <td>13.20</td>\n",
       "    </tr>\n",
       "    <tr>\n",
       "      <th>M13-FAM</th>\n",
       "      <td>1.0</td>\n",
       "      <td>39.60</td>\n",
       "      <td>39.60</td>\n",
       "      <td>33.0</td>\n",
       "      <td>13.20</td>\n",
       "      <td>13.20</td>\n",
       "      <td>13.20</td>\n",
       "    </tr>\n",
       "    <tr>\n",
       "      <th>Phusion</th>\n",
       "      <td>0.2</td>\n",
       "      <td>7.92</td>\n",
       "      <td>7.92</td>\n",
       "      <td>6.6</td>\n",
       "      <td>2.64</td>\n",
       "      <td>2.64</td>\n",
       "      <td>2.64</td>\n",
       "    </tr>\n",
       "  </tbody>\n",
       "</table>\n",
       "</div>"
      ],
      "text/plain": [
       "            1x  cadm1a (n=4)  cadm1b (n=4)  cpne3 (n=4)  eml1 (n=1)  \\\n",
       "Water     10.4        411.84        411.84        343.2      137.28   \n",
       "Buffer5x   4.0        158.40        158.40        132.0       52.80   \n",
       "dNTP mix   0.4         15.84         15.84         13.2        5.28   \n",
       "FWD        1.0         39.60         39.60         33.0       13.20   \n",
       "REV        1.0         39.60         39.60         33.0       13.20   \n",
       "M13-FAM    1.0         39.60         39.60         33.0       13.20   \n",
       "Phusion    0.2          7.92          7.92          6.6        2.64   \n",
       "\n",
       "          tjp2a (n=1)  tjp2b (n=1)  \n",
       "Water          137.28       137.28  \n",
       "Buffer5x        52.80        52.80  \n",
       "dNTP mix         5.28         5.28  \n",
       "FWD             13.20        13.20  \n",
       "REV             13.20        13.20  \n",
       "M13-FAM         13.20        13.20  \n",
       "Phusion          2.64         2.64  "
      ]
     },
     "execution_count": 71,
     "metadata": {},
     "output_type": "execute_result"
    }
   ],
   "source": [
    "PCR\n",
    "#PCR = pd.DataFrame(data = n_reactions, columns=genes)"
   ]
  },
  {
   "cell_type": "code",
   "execution_count": null,
   "metadata": {
    "collapsed": false
   },
   "outputs": [],
   "source": []
  },
  {
   "cell_type": "code",
   "execution_count": null,
   "metadata": {
    "collapsed": true
   },
   "outputs": [],
   "source": []
  }
 ],
 "metadata": {
  "kernelspec": {
   "display_name": "Python 3",
   "language": "python",
   "name": "python3"
  },
  "language_info": {
   "codemirror_mode": {
    "name": "ipython",
    "version": 3
   },
   "file_extension": ".py",
   "mimetype": "text/x-python",
   "name": "python",
   "nbconvert_exporter": "python",
   "pygments_lexer": "ipython3",
   "version": "3.5.2"
  }
 },
 "nbformat": 4,
 "nbformat_minor": 0
}
