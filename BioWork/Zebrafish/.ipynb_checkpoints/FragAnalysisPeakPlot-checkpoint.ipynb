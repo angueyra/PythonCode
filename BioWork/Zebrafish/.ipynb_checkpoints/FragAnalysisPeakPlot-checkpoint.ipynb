{
 "cells": [
  {
   "cell_type": "code",
   "execution_count": 2,
   "metadata": {
    "collapsed": true
   },
   "outputs": [],
   "source": [
    "import pygal\n",
    "import numpy as np\n",
    "import pandas as pd\n",
    "import IPython\n",
    "from pygal.style import CleanStyle"
   ]
  },
  {
   "cell_type": "code",
   "execution_count": 3,
   "metadata": {
    "collapsed": true
   },
   "outputs": [],
   "source": [
    "def svgreload():\n",
    "    !osascript -e 'tell application \"Google Chrome\" to tell the active tab of second window to reload'"
   ]
  },
  {
   "cell_type": "code",
   "execution_count": 4,
   "metadata": {
    "collapsed": false
   },
   "outputs": [
    {
     "data": {
      "text/html": [
       "<div>\n",
       "<table border=\"1\" class=\"dataframe\">\n",
       "  <thead>\n",
       "    <tr style=\"text-align: right;\">\n",
       "      <th></th>\n",
       "      <th>sample</th>\n",
       "      <th>size1</th>\n",
       "      <th>height1</th>\n",
       "      <th>size2</th>\n",
       "      <th>height2</th>\n",
       "      <th>size3</th>\n",
       "      <th>height3</th>\n",
       "      <th>size4</th>\n",
       "      <th>height4</th>\n",
       "    </tr>\n",
       "  </thead>\n",
       "  <tbody>\n",
       "    <tr>\n",
       "      <th>0</th>\n",
       "      <td>tjp2b-6-wt</td>\n",
       "      <td>283.55</td>\n",
       "      <td>9170.0</td>\n",
       "      <td>NaN</td>\n",
       "      <td>NaN</td>\n",
       "      <td>NaN</td>\n",
       "      <td>NaN</td>\n",
       "      <td>NaN</td>\n",
       "      <td>NaN</td>\n",
       "    </tr>\n",
       "    <tr>\n",
       "      <th>1</th>\n",
       "      <td>tjp2b-6-H</td>\n",
       "      <td>233.06</td>\n",
       "      <td>1288.0</td>\n",
       "      <td>283.4</td>\n",
       "      <td>5107.0</td>\n",
       "      <td>NaN</td>\n",
       "      <td>NaN</td>\n",
       "      <td>NaN</td>\n",
       "      <td>NaN</td>\n",
       "    </tr>\n",
       "    <tr>\n",
       "      <th>2</th>\n",
       "      <td>tjp2b-6-G</td>\n",
       "      <td>283.82</td>\n",
       "      <td>6118.0</td>\n",
       "      <td>NaN</td>\n",
       "      <td>NaN</td>\n",
       "      <td>NaN</td>\n",
       "      <td>NaN</td>\n",
       "      <td>NaN</td>\n",
       "      <td>NaN</td>\n",
       "    </tr>\n",
       "    <tr>\n",
       "      <th>3</th>\n",
       "      <td>tjp2b-6-F</td>\n",
       "      <td>283.74</td>\n",
       "      <td>5968.0</td>\n",
       "      <td>NaN</td>\n",
       "      <td>NaN</td>\n",
       "      <td>NaN</td>\n",
       "      <td>NaN</td>\n",
       "      <td>NaN</td>\n",
       "      <td>NaN</td>\n",
       "    </tr>\n",
       "    <tr>\n",
       "      <th>4</th>\n",
       "      <td>tjp2b-6-E</td>\n",
       "      <td>283.84</td>\n",
       "      <td>4478.0</td>\n",
       "      <td>NaN</td>\n",
       "      <td>NaN</td>\n",
       "      <td>NaN</td>\n",
       "      <td>NaN</td>\n",
       "      <td>NaN</td>\n",
       "      <td>NaN</td>\n",
       "    </tr>\n",
       "  </tbody>\n",
       "</table>\n",
       "</div>"
      ],
      "text/plain": [
       "       sample   size1  height1  size2  height2  size3  height3  size4  height4\n",
       "0  tjp2b-6-wt  283.55   9170.0    NaN      NaN    NaN      NaN    NaN      NaN\n",
       "1   tjp2b-6-H  233.06   1288.0  283.4   5107.0    NaN      NaN    NaN      NaN\n",
       "2   tjp2b-6-G  283.82   6118.0    NaN      NaN    NaN      NaN    NaN      NaN\n",
       "3   tjp2b-6-F  283.74   5968.0    NaN      NaN    NaN      NaN    NaN      NaN\n",
       "4   tjp2b-6-E  283.84   4478.0    NaN      NaN    NaN      NaN    NaN      NaN"
      ]
     },
     "execution_count": 4,
     "metadata": {},
     "output_type": "execute_result"
    }
   ],
   "source": [
    "# load file\n",
    "frags = pd.read_csv('20170426_FragAnalysisResults.txt', sep = '\\t', header = 0)\n",
    "frags.columns =  frags.columns.str.replace(' ','').str.lower().str.replace('samplename','sample');\n",
    "# remove unnecessary columns by just keeping size and height\n",
    "fragsfilter = frags.columns.values.tolist();\n",
    "fragsfilter = [x for x in fragsfilter if 'sample' not in x];\n",
    "fragsfilter = [x for x in fragsfilter if 'size' not in x];\n",
    "fragsfilter = [x for x in fragsfilter if 'height' not in x];\n",
    "frags.drop(fragsfilter, axis=1, inplace=True);\n",
    "frags.head()"
   ]
  },
  {
   "cell_type": "code",
   "execution_count": 5,
   "metadata": {
    "collapsed": false
   },
   "outputs": [
    {
     "data": {
      "text/html": [
       "<div>\n",
       "<table border=\"1\" class=\"dataframe\">\n",
       "  <thead>\n",
       "    <tr style=\"text-align: right;\">\n",
       "      <th></th>\n",
       "      <th>sample</th>\n",
       "      <th>size1</th>\n",
       "      <th>height1</th>\n",
       "      <th>size2</th>\n",
       "      <th>height2</th>\n",
       "      <th>size3</th>\n",
       "      <th>height3</th>\n",
       "      <th>size4</th>\n",
       "      <th>height4</th>\n",
       "    </tr>\n",
       "  </thead>\n",
       "  <tbody>\n",
       "    <tr>\n",
       "      <th>104</th>\n",
       "      <td>cadm1a-9-wt</td>\n",
       "      <td>171.20</td>\n",
       "      <td>1005.0</td>\n",
       "      <td>173.36</td>\n",
       "      <td>913.0</td>\n",
       "      <td>188.00</td>\n",
       "      <td>819.0</td>\n",
       "      <td>189.95</td>\n",
       "      <td>703.0</td>\n",
       "    </tr>\n",
       "    <tr>\n",
       "      <th>111</th>\n",
       "      <td>cadm1a-9-C</td>\n",
       "      <td>171.14</td>\n",
       "      <td>693.0</td>\n",
       "      <td>213.04</td>\n",
       "      <td>1264.0</td>\n",
       "      <td>227.66</td>\n",
       "      <td>2271.0</td>\n",
       "      <td>238.36</td>\n",
       "      <td>1017.0</td>\n",
       "    </tr>\n",
       "    <tr>\n",
       "      <th>112</th>\n",
       "      <td>cadm1a-9-B</td>\n",
       "      <td>224.71</td>\n",
       "      <td>1810.0</td>\n",
       "      <td>234.37</td>\n",
       "      <td>1011.0</td>\n",
       "      <td>NaN</td>\n",
       "      <td>NaN</td>\n",
       "      <td>NaN</td>\n",
       "      <td>NaN</td>\n",
       "    </tr>\n",
       "    <tr>\n",
       "      <th>113</th>\n",
       "      <td>cadm1a-8-wt</td>\n",
       "      <td>227.75</td>\n",
       "      <td>6070.0</td>\n",
       "      <td>238.30</td>\n",
       "      <td>4505.0</td>\n",
       "      <td>NaN</td>\n",
       "      <td>NaN</td>\n",
       "      <td>NaN</td>\n",
       "      <td>NaN</td>\n",
       "    </tr>\n",
       "    <tr>\n",
       "      <th>122</th>\n",
       "      <td>cadm1a-7-wt</td>\n",
       "      <td>227.65</td>\n",
       "      <td>17632.0</td>\n",
       "      <td>NaN</td>\n",
       "      <td>NaN</td>\n",
       "      <td>NaN</td>\n",
       "      <td>NaN</td>\n",
       "      <td>NaN</td>\n",
       "      <td>NaN</td>\n",
       "    </tr>\n",
       "    <tr>\n",
       "      <th>127</th>\n",
       "      <td>cadm1a-7-E</td>\n",
       "      <td>227.78</td>\n",
       "      <td>788.0</td>\n",
       "      <td>238.33</td>\n",
       "      <td>1244.0</td>\n",
       "      <td>280.91</td>\n",
       "      <td>420.0</td>\n",
       "      <td>301.33</td>\n",
       "      <td>972.0</td>\n",
       "    </tr>\n",
       "    <tr>\n",
       "      <th>129</th>\n",
       "      <td>cadm1a-7-C</td>\n",
       "      <td>227.73</td>\n",
       "      <td>2238.0</td>\n",
       "      <td>238.46</td>\n",
       "      <td>760.0</td>\n",
       "      <td>301.48</td>\n",
       "      <td>1182.0</td>\n",
       "      <td>NaN</td>\n",
       "      <td>NaN</td>\n",
       "    </tr>\n",
       "  </tbody>\n",
       "</table>\n",
       "</div>"
      ],
      "text/plain": [
       "          sample   size1  height1   size2  height2   size3  height3   size4  \\\n",
       "104  cadm1a-9-wt  171.20   1005.0  173.36    913.0  188.00    819.0  189.95   \n",
       "111   cadm1a-9-C  171.14    693.0  213.04   1264.0  227.66   2271.0  238.36   \n",
       "112   cadm1a-9-B  224.71   1810.0  234.37   1011.0     NaN      NaN     NaN   \n",
       "113  cadm1a-8-wt  227.75   6070.0  238.30   4505.0     NaN      NaN     NaN   \n",
       "122  cadm1a-7-wt  227.65  17632.0     NaN      NaN     NaN      NaN     NaN   \n",
       "127   cadm1a-7-E  227.78    788.0  238.33   1244.0  280.91    420.0  301.33   \n",
       "129   cadm1a-7-C  227.73   2238.0  238.46    760.0  301.48   1182.0     NaN   \n",
       "\n",
       "     height4  \n",
       "104    703.0  \n",
       "111   1017.0  \n",
       "112      NaN  \n",
       "113      NaN  \n",
       "122      NaN  \n",
       "127    972.0  \n",
       "129      NaN  "
      ]
     },
     "execution_count": 5,
     "metadata": {},
     "output_type": "execute_result"
    }
   ],
   "source": [
    "frags.loc[\n",
    "    (frags['sample']=='cadm1a-9-wt')  |\n",
    "    (frags['sample']=='cadm1a-8-wt')  |\n",
    "    (frags['sample']=='cadm1a-7-wt')  | \n",
    "    (frags['sample']=='cadm1a-7-C')  | \n",
    "    (frags['sample']=='cadm1a-7-E')  | \n",
    "    (frags['sample']=='cadm1a-9-B')  | \n",
    "    (frags['sample']=='cadm1a-9-C')]"
   ]
  },
  {
   "cell_type": "code",
   "execution_count": 6,
   "metadata": {
    "collapsed": false
   },
   "outputs": [
    {
     "data": {
      "text/html": [
       "<div>\n",
       "<table border=\"1\" class=\"dataframe\">\n",
       "  <thead>\n",
       "    <tr style=\"text-align: right;\">\n",
       "      <th></th>\n",
       "      <th>sample</th>\n",
       "      <th>size1</th>\n",
       "      <th>height1</th>\n",
       "      <th>size2</th>\n",
       "      <th>height2</th>\n",
       "      <th>size3</th>\n",
       "      <th>height3</th>\n",
       "      <th>size4</th>\n",
       "      <th>height4</th>\n",
       "    </tr>\n",
       "  </thead>\n",
       "  <tbody>\n",
       "    <tr>\n",
       "      <th>20</th>\n",
       "      <td>eml1-8-wt</td>\n",
       "      <td>265.98</td>\n",
       "      <td>430.0</td>\n",
       "      <td>281.02</td>\n",
       "      <td>689.0</td>\n",
       "      <td>284.46</td>\n",
       "      <td>555.0</td>\n",
       "      <td>301.33</td>\n",
       "      <td>1094.0</td>\n",
       "    </tr>\n",
       "    <tr>\n",
       "      <th>22</th>\n",
       "      <td>eml1-8-K</td>\n",
       "      <td>301.31</td>\n",
       "      <td>639.0</td>\n",
       "      <td>307.85</td>\n",
       "      <td>1519.0</td>\n",
       "      <td>NaN</td>\n",
       "      <td>NaN</td>\n",
       "      <td>NaN</td>\n",
       "      <td>NaN</td>\n",
       "    </tr>\n",
       "    <tr>\n",
       "      <th>24</th>\n",
       "      <td>eml1-8-I</td>\n",
       "      <td>301.31</td>\n",
       "      <td>459.0</td>\n",
       "      <td>307.73</td>\n",
       "      <td>1830.0</td>\n",
       "      <td>NaN</td>\n",
       "      <td>NaN</td>\n",
       "      <td>NaN</td>\n",
       "      <td>NaN</td>\n",
       "    </tr>\n",
       "    <tr>\n",
       "      <th>30</th>\n",
       "      <td>eml1-8-C</td>\n",
       "      <td>256.56</td>\n",
       "      <td>252.0</td>\n",
       "      <td>281.16</td>\n",
       "      <td>193.0</td>\n",
       "      <td>301.34</td>\n",
       "      <td>652.0</td>\n",
       "      <td>307.73</td>\n",
       "      <td>579.0</td>\n",
       "    </tr>\n",
       "  </tbody>\n",
       "</table>\n",
       "</div>"
      ],
      "text/plain": [
       "       sample   size1  height1   size2  height2   size3  height3   size4  \\\n",
       "20  eml1-8-wt  265.98    430.0  281.02    689.0  284.46    555.0  301.33   \n",
       "22   eml1-8-K  301.31    639.0  307.85   1519.0     NaN      NaN     NaN   \n",
       "24   eml1-8-I  301.31    459.0  307.73   1830.0     NaN      NaN     NaN   \n",
       "30   eml1-8-C  256.56    252.0  281.16    193.0  301.34    652.0  307.73   \n",
       "\n",
       "    height4  \n",
       "20   1094.0  \n",
       "22      NaN  \n",
       "24      NaN  \n",
       "30    579.0  "
      ]
     },
     "execution_count": 6,
     "metadata": {},
     "output_type": "execute_result"
    }
   ],
   "source": [
    "frags.loc[\n",
    "    (frags['sample']=='eml1-8-wt')  |\n",
    "    (frags['sample']=='eml1-8-I')  |\n",
    "    (frags['sample']=='eml1-8-K')  |\n",
    "    (frags['sample']=='eml1-8-C')]"
   ]
  },
  {
   "cell_type": "code",
   "execution_count": null,
   "metadata": {
    "collapsed": false
   },
   "outputs": [],
   "source": [
    "# plot peaks for a single larvae\n",
    "chart = pygal.XY(\n",
    "    stroke=True,\n",
    "    fill=True,\n",
    "    x_title='log2(baseMean)',\n",
    "    y_title='log2(foldChange)',\n",
    "    show_legend=False,\n",
    "    show_dots=False,\n",
    "    colors=('#E853A0', '#E8537A','#E8537A'),\n",
    ")\n",
    "a = frags.loc[(frags['sample']=='eml1-8-K')]\n",
    "a = a.values[0,1:]\n",
    "for i in range(int(len(a)/2)):\n",
    "    chart.add(['p'+ str(i)],[(a[i]-5,a[i+1]),(a[i]+5,a[i+1])])\n",
    "chart.render_to_file('test.svg')\n",
    "svgreload()"
   ]
  },
  {
   "cell_type": "code",
   "execution_count": null,
   "metadata": {
    "collapsed": false
   },
   "outputs": [],
   "source": []
  },
  {
   "cell_type": "code",
   "execution_count": null,
   "metadata": {
    "collapsed": false
   },
   "outputs": [],
   "source": []
  },
  {
   "cell_type": "code",
   "execution_count": 211,
   "metadata": {
    "collapsed": false
   },
   "outputs": [],
   "source": [
    "# start of code to get color list to distinguish two individuals\n",
    "from pygal.style import Style\n",
    "custom_style = Style(\n",
    "  background='transparent',\n",
    "  plot_background='transparent',\n",
    "  foreground='rgba(0, 0, 0, .87)',\n",
    "  foreground_strong='rgba(0, 0, 0, 1)',\n",
    "  foreground_subtle='rgba(0, 0, 0, .54)',\n",
    "  opacity='.7',\n",
    "  opacity_hover='.8',\n",
    "  transition='400ms ease-in',\n",
    "  colors=('rgba(0, 0, 0, 1)'))\n",
    "\n",
    "chart = pygal.StackedLine(fill=True, interpolate='cubic', style=custom_style)"
   ]
  },
  {
   "cell_type": "code",
   "execution_count": 212,
   "metadata": {
    "collapsed": false
   },
   "outputs": [],
   "source": [
    "chart = pygal.XY(\n",
    "    stroke=True,\n",
    "    fill=True,\n",
    "    x_title='log2(baseMean)',\n",
    "    y_title='log2(foldChange)',\n",
    "    show_legend=False,\n",
    "    show_dots=False,\n",
    "    style=custom_style,\n",
    ")\n",
    "a = frags.loc[(frags['sample']=='eml1-8-K')]\n",
    "a = a.values[0,1:]\n",
    "for i in range(int(len(a)/2)):\n",
    "    chart.add(['p'+ str(i)],[(a[i]-5,a[i+1]),(a[i]+5,a[i+1])])\n",
    "chart.render_to_file('test.svg')\n",
    "svgreload()"
   ]
  },
  {
   "cell_type": "code",
   "execution_count": null,
   "metadata": {
    "collapsed": false
   },
   "outputs": [],
   "source": []
  },
  {
   "cell_type": "code",
   "execution_count": null,
   "metadata": {
    "collapsed": false
   },
   "outputs": [],
   "source": []
  },
  {
   "cell_type": "code",
   "execution_count": 7,
   "metadata": {
    "collapsed": true
   },
   "outputs": [],
   "source": [
    "from Bio import SeqIO"
   ]
  },
  {
   "cell_type": "code",
   "execution_count": 41,
   "metadata": {
    "collapsed": false
   },
   "outputs": [],
   "source": [
    "record = SeqIO.parse(\"cpne3-1-B_B09.fsa\", \"abi\")"
   ]
  },
  {
   "cell_type": "code",
   "execution_count": 42,
   "metadata": {
    "collapsed": false
   },
   "outputs": [
    {
     "data": {
      "text/plain": [
       "<generator object parse at 0x1152c1f10>"
      ]
     },
     "execution_count": 42,
     "metadata": {},
     "output_type": "execute_result"
    }
   ],
   "source": [
    "record"
   ]
  },
  {
   "cell_type": "code",
   "execution_count": null,
   "metadata": {
    "collapsed": true
   },
   "outputs": [],
   "source": []
  }
 ],
 "metadata": {
  "kernelspec": {
   "display_name": "Python 3",
   "language": "python",
   "name": "python3"
  },
  "language_info": {
   "codemirror_mode": {
    "name": "ipython",
    "version": 3
   },
   "file_extension": ".py",
   "mimetype": "text/x-python",
   "name": "python",
   "nbconvert_exporter": "python",
   "pygments_lexer": "ipython3",
   "version": "3.5.2"
  }
 },
 "nbformat": 4,
 "nbformat_minor": 0
}
