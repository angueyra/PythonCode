{
 "cells": [
  {
   "cell_type": "code",
   "execution_count": null,
   "metadata": {
    "collapsed": false
   },
   "outputs": [],
   "source": []
  },
  {
   "cell_type": "code",
   "execution_count": 3,
   "metadata": {
    "collapsed": false
   },
   "outputs": [
    {
     "data": {
      "text/plain": [
       "{'gene': 'cpne3',\n",
       " 'idnumbers': [1, 2, 3, 5],\n",
       " 'letters': ['wt', 'B', 'C', 'D', 'E', 'F', 'G', 'H']}"
      ]
     },
     "execution_count": 3,
     "metadata": {},
     "output_type": "execute_result"
    }
   ],
   "source": []
  },
  {
   "cell_type": "code",
   "execution_count": 1,
   "metadata": {
    "collapsed": false
   },
   "outputs": [],
   "source": [
    "d1 = {'gene': 'eml1', 'idnumbers': [5,6,7,9,10,11,12,13], 'letters': ['wt','B','C','D','E','F','G','H']}\n",
    "d2 = {'gene': 'cpne3', 'idnumbers': [1,2,3,5], 'letters': ['wt','B','C','D','E','F','G','H']}\n",
    "metad = [d1,d2]"
   ]
  },
  {
   "cell_type": "code",
   "execution_count": 25,
   "metadata": {
    "collapsed": false
   },
   "outputs": [
    {
     "name": "stdout",
     "output_type": "stream",
     "text": [
      "eml1-5-wt\n",
      "eml1-5-B\n",
      "eml1-5-C\n",
      "eml1-5-D\n",
      "eml1-5-E\n",
      "eml1-5-F\n",
      "eml1-5-G\n",
      "eml1-5-H\n",
      "eml1-6-wt\n",
      "eml1-6-B\n",
      "eml1-6-C\n",
      "eml1-6-D\n",
      "eml1-6-E\n",
      "eml1-6-F\n",
      "eml1-6-G\n",
      "eml1-6-H\n",
      "eml1-7-wt\n",
      "eml1-7-B\n",
      "eml1-7-C\n",
      "eml1-7-D\n",
      "eml1-7-E\n",
      "eml1-7-F\n",
      "eml1-7-G\n",
      "eml1-7-H\n",
      "eml1-9-wt\n",
      "eml1-9-B\n",
      "eml1-9-C\n",
      "eml1-9-D\n",
      "eml1-9-E\n",
      "eml1-9-F\n",
      "eml1-9-G\n",
      "eml1-9-H\n",
      "eml1-10-wt\n",
      "eml1-10-B\n",
      "eml1-10-C\n",
      "eml1-10-D\n",
      "eml1-10-E\n",
      "eml1-10-F\n",
      "eml1-10-G\n",
      "eml1-10-H\n",
      "eml1-11-wt\n",
      "eml1-11-B\n",
      "eml1-11-C\n",
      "eml1-11-D\n",
      "eml1-11-E\n",
      "eml1-11-F\n",
      "eml1-11-G\n",
      "eml1-11-H\n",
      "eml1-12-wt\n",
      "eml1-12-B\n",
      "eml1-12-C\n",
      "eml1-12-D\n",
      "eml1-12-E\n",
      "eml1-12-F\n",
      "eml1-12-G\n",
      "eml1-12-H\n",
      "eml1-13-wt\n",
      "eml1-13-B\n",
      "eml1-13-C\n",
      "eml1-13-D\n",
      "eml1-13-E\n",
      "eml1-13-F\n",
      "eml1-13-G\n",
      "eml1-13-H\n",
      "cpne3-1-wt\n",
      "cpne3-1-B\n",
      "cpne3-1-C\n",
      "cpne3-1-D\n",
      "cpne3-1-E\n",
      "cpne3-1-F\n",
      "cpne3-1-G\n",
      "cpne3-1-H\n",
      "cpne3-2-wt\n",
      "cpne3-2-B\n",
      "cpne3-2-C\n",
      "cpne3-2-D\n",
      "cpne3-2-E\n",
      "cpne3-2-F\n",
      "cpne3-2-G\n",
      "cpne3-2-H\n",
      "cpne3-3-wt\n",
      "cpne3-3-B\n",
      "cpne3-3-C\n",
      "cpne3-3-D\n",
      "cpne3-3-E\n",
      "cpne3-3-F\n",
      "cpne3-3-G\n",
      "cpne3-3-H\n",
      "cpne3-5-wt\n",
      "cpne3-5-B\n",
      "cpne3-5-C\n",
      "cpne3-5-D\n",
      "cpne3-5-E\n",
      "cpne3-5-F\n",
      "cpne3-5-G\n",
      "cpne3-5-H\n"
     ]
    }
   ],
   "source": [
    "for i in range(len(metad)):\n",
    "    gname = (metad[i]['gene'])\n",
    "    for j in range(len(metad[i]['idnumbers'])):\n",
    "        gidn = gname + '-' + str(metad[i]['idnumbers'][j])\n",
    "        for k in range(len(metad[i]['letters'])):\n",
    "            print (gidn + '-' + metad[i]['letters'][k])"
   ]
  },
  {
   "cell_type": "code",
   "execution_count": 23,
   "metadata": {
    "collapsed": false
   },
   "outputs": [
    {
     "data": {
      "text/plain": [
       "\"['eml1-5']\""
      ]
     },
     "execution_count": 23,
     "metadata": {},
     "output_type": "execute_result"
    }
   ],
   "source": [
    "str(gidn)"
   ]
  },
  {
   "cell_type": "code",
   "execution_count": null,
   "metadata": {
    "collapsed": true
   },
   "outputs": [],
   "source": []
  }
 ],
 "metadata": {
  "kernelspec": {
   "display_name": "Python 3",
   "language": "python",
   "name": "python3"
  },
  "language_info": {
   "codemirror_mode": {
    "name": "ipython",
    "version": 3
   },
   "file_extension": ".py",
   "mimetype": "text/x-python",
   "name": "python",
   "nbconvert_exporter": "python",
   "pygments_lexer": "ipython3",
   "version": "3.5.2"
  }
 },
 "nbformat": 4,
 "nbformat_minor": 0
}
