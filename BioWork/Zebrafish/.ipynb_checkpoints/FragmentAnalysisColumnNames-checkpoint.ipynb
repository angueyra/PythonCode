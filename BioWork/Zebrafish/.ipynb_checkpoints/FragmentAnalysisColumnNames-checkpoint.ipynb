{
 "cells": [
  {
   "cell_type": "code",
   "execution_count": null,
   "metadata": {
    "collapsed": false
   },
   "outputs": [],
   "source": []
  },
  {
   "cell_type": "markdown",
   "metadata": {
    "collapsed": false
   },
   "source": [
    "### Example\n",
    "d1 = {'gene': 'eml1', 'idnumbers': [5,6,7,9,10,11,12,13], 'letters': ['wt','B','C','D','E','F','G','H']}\n",
    "\n",
    "d2 = {'gene': 'cpne3', 'idnumbers': [1,2,3,5], 'letters': ['wt','B','C','D','E','F','G','H']}\n",
    "\n",
    "metad = [d1,d2]"
   ]
  },
  {
   "cell_type": "code",
   "execution_count": 1,
   "metadata": {
    "collapsed": false
   },
   "outputs": [],
   "source": [
    "d1 = {'gene': 'cadm1a', 'idnumbers': [2,7,8,9], 'letters': ['wt','B','C','D','E','F','G','H']}\n",
    "d2 = {'gene': 'cadm1b', 'idnumbers': [2,7,8,9], 'letters': ['wt','B','C','D','E','F','G','H']}\n",
    "metad = [d1,d2]"
   ]
  },
  {
   "cell_type": "code",
   "execution_count": 15,
   "metadata": {
    "collapsed": true
   },
   "outputs": [],
   "source": [
    "d1 = {'gene': 'cpne3', 'idnumbers': [4,6,7,8], 'letters': ['wt','B','C','D','E','F','G','H']}\n",
    "d1e = {'gene': 'EMPTY', 'idnumbers': [0,0,0,0], 'letters': ['']}\n",
    "d1b = {'gene': 'cpne3', 'idnumbers': [8,7,6,4], 'letters': ['I']}\n",
    "d2 = {'gene': 'eml1', 'idnumbers': [8], 'letters': ['wt','B','C','D','E','F','G','H']}\n",
    "d2e = {'gene': 'EMPTY', 'idnumbers': [0,0,0,0], 'letters': ['']}\n",
    "d2b = {'gene': 'eml1', 'idnumbers': [8], 'letters': ['I','J','K','L']}\n",
    "d3 = {'gene': 'tjp2a', 'idnumbers': [6], 'letters': ['wt','B','C','D','E','F','G','H']}\n",
    "d3e = {'gene': 'EMPTY', 'idnumbers': [0,0,0,0], 'letters': ['']}\n",
    "d3b = {'gene': 'tjp2a', 'idnumbers': [6], 'letters': ['I','J','K','L']}\n",
    "d4 = {'gene': 'tjp2b', 'idnumbers': [6], 'letters': ['wt','B','C','D','E','F','G','H']}\n",
    "metad = [d1,d1e,d1b,d2,d2e,d2b,d3,d3e,d3b,d4]"
   ]
  },
  {
   "cell_type": "code",
   "execution_count": 16,
   "metadata": {
    "collapsed": false
   },
   "outputs": [
    {
     "name": "stdout",
     "output_type": "stream",
     "text": [
      "cpne3-4-wt\n",
      "cpne3-4-B\n",
      "cpne3-4-C\n",
      "cpne3-4-D\n",
      "cpne3-4-E\n",
      "cpne3-4-F\n",
      "cpne3-4-G\n",
      "cpne3-4-H\n",
      "cpne3-6-wt\n",
      "cpne3-6-B\n",
      "cpne3-6-C\n",
      "cpne3-6-D\n",
      "cpne3-6-E\n",
      "cpne3-6-F\n",
      "cpne3-6-G\n",
      "cpne3-6-H\n",
      "cpne3-7-wt\n",
      "cpne3-7-B\n",
      "cpne3-7-C\n",
      "cpne3-7-D\n",
      "cpne3-7-E\n",
      "cpne3-7-F\n",
      "cpne3-7-G\n",
      "cpne3-7-H\n",
      "cpne3-8-wt\n",
      "cpne3-8-B\n",
      "cpne3-8-C\n",
      "cpne3-8-D\n",
      "cpne3-8-E\n",
      "cpne3-8-F\n",
      "cpne3-8-G\n",
      "cpne3-8-H\n",
      "EMPTY-0-\n",
      "EMPTY-0-\n",
      "EMPTY-0-\n",
      "EMPTY-0-\n",
      "cpne3-8-I\n",
      "cpne3-7-I\n",
      "cpne3-6-I\n",
      "cpne3-4-I\n",
      "eml1-8-wt\n",
      "eml1-8-B\n",
      "eml1-8-C\n",
      "eml1-8-D\n",
      "eml1-8-E\n",
      "eml1-8-F\n",
      "eml1-8-G\n",
      "eml1-8-H\n",
      "EMPTY-0-\n",
      "EMPTY-0-\n",
      "EMPTY-0-\n",
      "EMPTY-0-\n",
      "eml1-8-I\n",
      "eml1-8-J\n",
      "eml1-8-K\n",
      "eml1-8-L\n",
      "tjp2a-6-wt\n",
      "tjp2a-6-B\n",
      "tjp2a-6-C\n",
      "tjp2a-6-D\n",
      "tjp2a-6-E\n",
      "tjp2a-6-F\n",
      "tjp2a-6-G\n",
      "tjp2a-6-H\n",
      "EMPTY-0-\n",
      "EMPTY-0-\n",
      "EMPTY-0-\n",
      "EMPTY-0-\n",
      "tjp2a-6-I\n",
      "tjp2a-6-J\n",
      "tjp2a-6-K\n",
      "tjp2a-6-L\n",
      "tjp2b-6-wt\n",
      "tjp2b-6-B\n",
      "tjp2b-6-C\n",
      "tjp2b-6-D\n",
      "tjp2b-6-E\n",
      "tjp2b-6-F\n",
      "tjp2b-6-G\n",
      "tjp2b-6-H\n"
     ]
    }
   ],
   "source": [
    "for i in range(len(metad)):\n",
    "    gname = (metad[i]['gene'])\n",
    "    for j in range(len(metad[i]['idnumbers'])):\n",
    "        gidn = gname + '-' + str(metad[i]['idnumbers'][j])\n",
    "        for k in range(len(metad[i]['letters'])):\n",
    "            print (gidn + '-' + metad[i]['letters'][k])"
   ]
  },
  {
   "cell_type": "code",
   "execution_count": 23,
   "metadata": {
    "collapsed": false
   },
   "outputs": [
    {
     "data": {
      "text/plain": [
       "\"['eml1-5']\""
      ]
     },
     "execution_count": 23,
     "metadata": {},
     "output_type": "execute_result"
    }
   ],
   "source": [
    "str(gidn)"
   ]
  },
  {
   "cell_type": "code",
   "execution_count": null,
   "metadata": {
    "collapsed": true
   },
   "outputs": [],
   "source": []
  }
 ],
 "metadata": {
  "kernelspec": {
   "display_name": "Python 3",
   "language": "python",
   "name": "python3"
  },
  "language_info": {
   "codemirror_mode": {
    "name": "ipython",
    "version": 3
   },
   "file_extension": ".py",
   "mimetype": "text/x-python",
   "name": "python",
   "nbconvert_exporter": "python",
   "pygments_lexer": "ipython3",
   "version": "3.5.2"
  }
 },
 "nbformat": 4,
 "nbformat_minor": 0
}
