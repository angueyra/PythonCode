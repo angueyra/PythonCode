{
 "cells": [
  {
   "cell_type": "code",
   "execution_count": null,
   "metadata": {
    "collapsed": false
   },
   "outputs": [],
   "source": [
    "def printNames(nameDict):\n",
    "    for i in range(len(nameDict)):\n",
    "        gname = (nameDict[i]['gene'])\n",
    "        for j in range(len(nameDict[i]['idnumbers'])):\n",
    "            gidn = gname + '-' + str(nameDict[i]['idnumbers'][j])\n",
    "            for k in range(len(nameDict[i]['letters'])):\n",
    "                print (gidn + '-' + nameDict[i]['letters'][k])"
   ]
  },
  {
   "cell_type": "markdown",
   "metadata": {
    "collapsed": false
   },
   "source": [
    "### Example\n",
    "d1 = {'gene': 'eml1', 'idnumbers': [5,6,7,9,10,11,12,13], 'letters': ['wt','B','C','D','E','F','G','H']}\n",
    "\n",
    "d2 = {'gene': 'cpne3', 'idnumbers': [1,2,3,5], 'letters': ['wt','B','C','D','E','F','G','H']}\n",
    "\n",
    "metad = [d1,d2]"
   ]
  },
  {
   "cell_type": "code",
   "execution_count": null,
   "metadata": {
    "collapsed": false
   },
   "outputs": [],
   "source": [
    "d4s = {'gene': 'nrxn3aS', 'idnumbers': [4,3,2], 'letters': ['A','B','C','D','E','F','G','wt']}\n",
    "d4l = {'gene': 'nrxn3aL', 'idnumbers': [4,3,2], 'letters': ['A','B','C','D','E','F','G','wt']}\n",
    "d5s = {'gene': 'nrxn3bS', 'idnumbers': [4,3,2], 'letters': ['A','B','C','D','E','F','G','wt']}\n",
    "d5l = {'gene': 'nrxn3bL', 'idnumbers': [4,3,2], 'letters': ['A','B','C','D','E','F','G','wt']}\n",
    "printNames([d5l,d5s,d4l,d4s])"
   ]
  },
  {
   "cell_type": "code",
   "execution_count": null,
   "metadata": {
    "collapsed": false
   },
   "outputs": [],
   "source": [
    "d4s = {'gene': 'nrxn3aS', 'idnumbers': [6,7,8], 'letters': ['wt','B','C','D','E','F','G','H']}\n",
    "d4l = {'gene': 'nrxn3aL', 'idnumbers': [6,7,8], 'letters': ['wt','B','C','D','E','F','G','H']}\n",
    "d5s = {'gene': 'nrxn3bS', 'idnumbers': [6,7,8], 'letters': ['wt','B','C','D','E','F','G','H']}\n",
    "d5l = {'gene': 'nrxn3bL', 'idnumbers': [6,7,8], 'letters': ['wt','B','C','D','E','F','G','H']}\n",
    "printNames([d4s,d4l,d5s,d5l])"
   ]
  },
  {
   "cell_type": "code",
   "execution_count": null,
   "metadata": {
    "collapsed": true
   },
   "outputs": [],
   "source": [
    "d1 = {'gene': 'tjp2a', 'idnumbers': [8,11,12], 'letters': ['wt','B','C','D','E','F','G','H']}\n",
    "d2 = {'gene': 'tjp2b', 'idnumbers': [8,11,12], 'letters': ['wt','B','C','D','E','F','G','H']}\n",
    "d3 = {'gene': 'cadm1a', 'idnumbers': [10,11,12], 'letters': ['wt','B','C','D','E','F','G','H']}\n",
    "d4 = {'gene': 'cpne3', 'idnumbers': [11], 'letters': ['wt','B','C','D','E','F','G','H']}\n",
    "d5 = {'gene': 'tjp2a_bis', 'idnumbers': [8,11], 'letters': ['wt','B','C','D','E','F','G','H']}\n",
    "metad = [d1,d2,d3,d4,d5]\n",
    "printNames(metad)"
   ]
  },
  {
   "cell_type": "code",
   "execution_count": null,
   "metadata": {
    "collapsed": false
   },
   "outputs": [],
   "source": []
  },
  {
   "cell_type": "code",
   "execution_count": null,
   "metadata": {
    "collapsed": true
   },
   "outputs": [],
   "source": []
  }
 ],
 "metadata": {
  "kernelspec": {
   "display_name": "Python 3",
   "language": "python",
   "name": "python3"
  },
  "language_info": {
   "codemirror_mode": {
    "name": "ipython",
    "version": 3
   },
   "file_extension": ".py",
   "mimetype": "text/x-python",
   "name": "python",
   "nbconvert_exporter": "python",
   "pygments_lexer": "ipython3",
   "version": "3.5.2"
  }
 },
 "nbformat": 4,
 "nbformat_minor": 0
}
