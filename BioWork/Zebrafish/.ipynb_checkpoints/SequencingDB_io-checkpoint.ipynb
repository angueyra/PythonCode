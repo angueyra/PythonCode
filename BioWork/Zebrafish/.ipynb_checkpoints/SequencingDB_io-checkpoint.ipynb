{
 "cells": [
  {
   "cell_type": "markdown",
   "metadata": {},
   "source": [
    "### Create and modify sqllite3 database to manage eurofins sequencing results"
   ]
  },
  {
   "cell_type": "code",
   "execution_count": 1,
   "metadata": {
    "collapsed": false
   },
   "outputs": [],
   "source": [
    "from IPython.display import HTML, display\n",
    "import sqlite3\n",
    "conn = sqlite3.connect('SeqDB.db')\n",
    "c = conn.cursor()"
   ]
  },
  {
   "cell_type": "code",
   "execution_count": 27,
   "metadata": {
    "collapsed": true
   },
   "outputs": [],
   "source": [
    "def printall():\n",
    "    c.execute(\"SELECT * FROM SeqInfo ORDER BY date, gene,id, barcode\")\n",
    "    columnnames = tuple([member[0] for member in c.description]);\n",
    "    seqdata = c.fetchall();\n",
    "    seqdata.insert(0,columnnames)\n",
    "    display(HTML(\n",
    "    '<table><tr>{}</tr></table>'.format(\n",
    "        '</tr><tr>'.join(\n",
    "            '<td>{}</td>'.format('</td><td>'.join(str(_) for _ in row)) for row in seqdata)\n",
    "                    )\n",
    "                 )\n",
    "           )"
   ]
  },
  {
   "cell_type": "markdown",
   "metadata": {},
   "source": [
    "#### Create table (only runs once to create database)\n",
    "> c.execute('''CREATE TABLE SeqInfo(gene text,\n",
    "id text,\n",
    "barcode text,\n",
    "primer text,\n",
    "DNAqspec numeric,\n",
    "date date,\n",
    "sequenced boolean,\n",
    "expectation text\n",
    "results text);''')\n",
    "\n",
    "#### Insert a new row of data\n",
    "> c.execute('''INSERT INTO SeqInfo VALUES (\n",
    "              'cadm1a', \n",
    "              '3C', \n",
    "              'AWT000', \n",
    "              '2017-04-24',\n",
    "              1,\n",
    "              'not mutant')''')"
   ]
  },
  {
   "cell_type": "code",
   "execution_count": 32,
   "metadata": {
    "collapsed": false
   },
   "outputs": [
    {
     "data": {
      "text/plain": [
       "<sqlite3.Cursor at 0x106562ea0>"
      ]
     },
     "execution_count": 32,
     "metadata": {},
     "output_type": "execute_result"
    }
   ],
   "source": [
    "c.execute('''CREATE TABLE SeqInfo(\n",
    "            gene text,\n",
    "            id text,\n",
    "            barcode text,\n",
    "            primer text,\n",
    "            DNAqspec numeric,\n",
    "            date date,\n",
    "            sequenced boolean,\n",
    "            expectation text,\n",
    "            results text);''')"
   ]
  },
  {
   "cell_type": "code",
   "execution_count": 22,
   "metadata": {
    "collapsed": false
   },
   "outputs": [
    {
     "data": {
      "text/plain": [
       "<sqlite3.Cursor at 0x106562ea0>"
      ]
     },
     "execution_count": 22,
     "metadata": {},
     "output_type": "execute_result"
    }
   ],
   "source": [
    "# Insert a new row of data\n",
    "# c.execute('''INSERT INTO SeqInfo VALUES (\n",
    "#              'cadm1a', \n",
    "#              '3H',\n",
    "#              'ANW091',\n",
    "#              'FWD',\n",
    "#              23.6,\n",
    "#              '2017-04-04',\n",
    "#              1,\n",
    "#              '+26bp?',\n",
    "#              'not mutant')''')"
   ]
  },
  {
   "cell_type": "code",
   "execution_count": 33,
   "metadata": {
    "collapsed": false
   },
   "outputs": [
    {
     "data": {
      "text/plain": [
       "<sqlite3.Cursor at 0x106562ea0>"
      ]
     },
     "execution_count": 33,
     "metadata": {},
     "output_type": "execute_result"
    }
   ],
   "source": [
    "# Insert a new row of data\n",
    "c.execute('''INSERT INTO SeqInfo VALUES ('cadm1a','3H','ANW091','FWD',23.6,'2017-04-04',1,'deletion?','not mutant')''')\n",
    "c.execute('''INSERT INTO SeqInfo VALUES ('cadm1a','5F','ANW090','FWD',25.2,'2017-04-04',1,'+26bp?','not mutant')''')\n",
    "c.execute('''INSERT INTO SeqInfo VALUES ('cadm1a','4wt','ANW089','FWD',21.3,'2017-04-04',1,'wild type','wild type')''')"
   ]
  },
  {
   "cell_type": "code",
   "execution_count": 34,
   "metadata": {
    "collapsed": false
   },
   "outputs": [
    {
     "data": {
      "text/html": [
       "<table><tr><td>gene</td><td>id</td><td>barcode</td><td>primer</td><td>DNAqspec</td><td>date</td><td>sequenced</td><td>expectation</td><td>results</td></tr><tr><td>cadm1a</td><td>3H</td><td>ANW091</td><td>FWD</td><td>23.6</td><td>2017-04-04</td><td>1</td><td>deletion?</td><td>not mutant</td></tr><tr><td>cadm1a</td><td>4wt</td><td>ANW089</td><td>FWD</td><td>21.3</td><td>2017-04-04</td><td>1</td><td>wild type</td><td>wild type</td></tr><tr><td>cadm1a</td><td>5F</td><td>ANW090</td><td>FWD</td><td>25.2</td><td>2017-04-04</td><td>1</td><td>+26bp?</td><td>not mutant</td></tr></table>"
      ],
      "text/plain": [
       "<IPython.core.display.HTML object>"
      ]
     },
     "metadata": {},
     "output_type": "display_data"
    }
   ],
   "source": [
    "conn.commit();\n",
    "printall();"
   ]
  },
  {
   "cell_type": "code",
   "execution_count": null,
   "metadata": {
    "collapsed": false
   },
   "outputs": [],
   "source": [
    "conn.close();"
   ]
  },
  {
   "cell_type": "code",
   "execution_count": 29,
   "metadata": {
    "collapsed": false
   },
   "outputs": [
    {
     "data": {
      "text/plain": [
       "<sqlite3.Cursor at 0x106562ea0>"
      ]
     },
     "execution_count": 29,
     "metadata": {},
     "output_type": "execute_result"
    }
   ],
   "source": [
    "# # # # # # # #  c.execute('DROP TABLE SeqInfo')"
   ]
  },
  {
   "cell_type": "code",
   "execution_count": null,
   "metadata": {
    "collapsed": true
   },
   "outputs": [],
   "source": []
  }
 ],
 "metadata": {
  "kernelspec": {
   "display_name": "Python 3",
   "language": "python",
   "name": "python3"
  },
  "language_info": {
   "codemirror_mode": {
    "name": "ipython",
    "version": 3
   },
   "file_extension": ".py",
   "mimetype": "text/x-python",
   "name": "python",
   "nbconvert_exporter": "python",
   "pygments_lexer": "ipython3",
   "version": "3.5.2"
  }
 },
 "nbformat": 4,
 "nbformat_minor": 0
}
