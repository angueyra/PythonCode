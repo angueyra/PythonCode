{
 "cells": [
  {
   "cell_type": "markdown",
   "metadata": {},
   "source": [
    "### Create and modify sqllite3 database to manage eurofins sequencing results\n",
    "> Database can be manually modified, browsed, etc. through SQLLiteManager"
   ]
  },
  {
   "cell_type": "code",
   "execution_count": 2,
   "metadata": {
    "collapsed": false
   },
   "outputs": [],
   "source": [
    "from IPython.display import HTML, display\n",
    "import sqlite3\n",
    "conn = sqlite3.connect('SeqDB.db')\n",
    "c = conn.cursor()"
   ]
  },
  {
   "cell_type": "code",
   "execution_count": 3,
   "metadata": {
    "collapsed": true
   },
   "outputs": [],
   "source": [
    "def printall():\n",
    "    c.execute(\"SELECT * FROM SeqInfo ORDER BY date, gene,id, barcode\")\n",
    "    columnnames = tuple([member[0] for member in c.description]);\n",
    "    seqdata = c.fetchall();\n",
    "    seqdata.insert(0,columnnames)\n",
    "    display(HTML(\n",
    "    '<table><tr>{}</tr></table>'.format(\n",
    "        '</tr><tr>'.join(\n",
    "            '<td>{}</td>'.format('</td><td>'.join(str(_) for _ in row)) for row in seqdata)\n",
    "                    )\n",
    "                 )\n",
    "           )"
   ]
  },
  {
   "cell_type": "markdown",
   "metadata": {},
   "source": [
    "#### Create table (only runs once to create database)\n",
    "> c.execute('''CREATE TABLE SeqInfo(gene text,\n",
    "id text,\n",
    "barcode text,\n",
    "primer text,\n",
    "DNAqspec numeric,\n",
    "date date,\n",
    "sequenced boolean,\n",
    "expectation text\n",
    "results text);''')\n",
    "\n",
    "#### Insert a new row of data\n",
    "> c.execute('''INSERT INTO SeqInfo VALUES (\n",
    "              'cadm1a', \n",
    "              '3C', \n",
    "              'AWT000', \n",
    "              '2017-04-24',\n",
    "              1,\n",
    "              'not mutant')''')"
   ]
  },
  {
   "cell_type": "code",
   "execution_count": 14,
   "metadata": {
    "collapsed": false
   },
   "outputs": [
    {
     "data": {
      "text/plain": [
       "<sqlite3.Cursor at 0x106c0dc70>"
      ]
     },
     "execution_count": 14,
     "metadata": {},
     "output_type": "execute_result"
    }
   ],
   "source": [
    "c.execute('''CREATE TABLE SeqInfo(\n",
    "            gene text,\n",
    "            id text,\n",
    "            barcode text,\n",
    "            primer text,\n",
    "            DNAqspec numeric,\n",
    "            date date,\n",
    "            sequenced boolean,\n",
    "            expectation text,\n",
    "            results text);''')"
   ]
  },
  {
   "cell_type": "code",
   "execution_count": 22,
   "metadata": {
    "collapsed": false
   },
   "outputs": [
    {
     "data": {
      "text/plain": [
       "<sqlite3.Cursor at 0x106562ea0>"
      ]
     },
     "execution_count": 22,
     "metadata": {},
     "output_type": "execute_result"
    }
   ],
   "source": [
    "# Insert a new row of data\n",
    "# c.execute('''INSERT INTO SeqInfo VALUES (\n",
    "#              'cadm1a', \n",
    "#              '3H',\n",
    "#              'ANW091',\n",
    "#              'FWD',\n",
    "#              23.6,\n",
    "#              '2017-04-04',\n",
    "#              1,\n",
    "#              '+26bp?',\n",
    "#              'not mutant')''')"
   ]
  },
  {
   "cell_type": "code",
   "execution_count": 16,
   "metadata": {
    "collapsed": false
   },
   "outputs": [
    {
     "data": {
      "text/plain": [
       "<sqlite3.Cursor at 0x106c0dc70>"
      ]
     },
     "execution_count": 16,
     "metadata": {},
     "output_type": "execute_result"
    }
   ],
   "source": [
    "# Insert a new row of data (if commented, already added)\n",
    "c.execute('''INSERT INTO SeqInfo VALUES ('cadm1a','3.H','ANW091','Fwd',23.6,'2017-04-04',1,'deletion','not mutant')''')\n",
    "c.execute('''INSERT INTO SeqInfo VALUES ('cadm1a','5.F','ANW090','Fwd',25.2,'2017-04-04',1,'+26bp','not mutant')''')\n",
    "c.execute('''INSERT INTO SeqInfo VALUES ('cadm1a','4.wt','ANW089','Fwd',21.3,'2017-04-04',1,'wt','wt')''')\n",
    "# missing values in between HERE\n",
    "c.execute('''INSERT INTO SeqInfo VALUES ('cadm1a','10.E','AMT236','Fwd',29.8,'2017-05-24',1,'-10bp','ooooooo')''')\n",
    "c.execute('''INSERT INTO SeqInfo VALUES ('cadm1a','10.F','AMT237','Fwd',27.0,'2017-05-24',1,'+3bp','ooooooo')''')\n",
    "c.execute('''INSERT INTO SeqInfo VALUES ('cadm1a','10.wt','AMT238','Fwd',NULL,'2017-05-24',1,'wt','ooooooo')''')\n",
    "c.execute('''INSERT INTO SeqInfo VALUES ('cadm1a','11.C','AMT239','Fwd',26.9,'2017-05-24',1,'-11bp','ooooooo')''')\n",
    "\n",
    "c.execute('''INSERT INTO SeqInfo VALUES ('cadm1b','11.D','AMT245','Rev',26.1,'2017-05-24',1,'-12bp','ooooooo')''')\n",
    "\n",
    "c.execute('''INSERT INTO SeqInfo VALUES ('tjp2a','7.B','AMT228','Rev',9.9,'2017-05-24',1,'+5bp','ooooooo')''')\n",
    "c.execute('''INSERT INTO SeqInfo VALUES ('tjp2a','9.B','AMT229','Rev',14.1,'2017-05-24',1,'+10bp','ooooooo')''')\n",
    "c.execute('''INSERT INTO SeqInfo VALUES ('tjp2a','9.H','AMT230','Rev',15.4,'2017-05-24',1,'-2bp','ooooooo')''')\n",
    "c.execute('''INSERT INTO SeqInfo VALUES ('tjp2a','8.E','AMT231','Rev',10,'2017-05-24',1,'-6bp','ooooooo')''')\n",
    "c.execute('''INSERT INTO SeqInfo VALUES ('tjp2a','8.F','AMT232','Rev',8.7,'2017-05-24',1,'-6bp','ooooooo')''')\n",
    "c.execute('''INSERT INTO SeqInfo VALUES ('tjp2a','8.G','AMT233','Rev',NULL,'2017-05-24',1,'+11bp','ooooooo')''')\n",
    "c.execute('''INSERT INTO SeqInfo VALUES ('tjp2a','8.wt','AMT235','Rev',NULL,'2017-05-24',1,'wt','ooooooo')''')\n",
    "\n",
    "c.execute('''INSERT INTO SeqInfo VALUES ('tjp2b','8.H','AMT234','Rev',NULL,'2017-05-24',1,'+28bp','ooooooo')''')\n",
    "c.execute('''INSERT INTO SeqInfo VALUES ('tjp2b','9.C','AMT240','Rev',26.9,'2017-05-24',1,'+5bp','ooooooo')''')\n",
    "c.execute('''INSERT INTO SeqInfo VALUES ('tjp2b','9.D','AMT241','Rev',NULL,'2017-05-24',1,'-45bp','ooooooo')''')\n",
    "c.execute('''INSERT INTO SeqInfo VALUES ('tjp2b','9.E','AMT242','Rev',NULL,'2017-05-24',1,'-12bp','ooooooo')''')\n",
    "c.execute('''INSERT INTO SeqInfo VALUES ('tjp2b','9.F','AMT243','Rev',NULL,'2017-05-24',1,'+5bp','ooooooo')''')\n",
    "c.execute('''INSERT INTO SeqInfo VALUES ('tjp2b','9.wt','AMT244','Rev',23.5,'2017-05-24',1,'wt','ooooooo')''')\n",
    "\n",
    "c.execute('''INSERT INTO SeqInfo VALUES ('nrxn3aL','7.G','AMT246','Rev',21.5,'2017-05-24',1,'-1or2bp','ooooooo')''')\n",
    "c.execute('''INSERT INTO SeqInfo VALUES ('nrxn3aL','7.wt','AMT247','Rev',26.2,'2017-05-24',1,'wt','wt')''')"
   ]
  },
  {
   "cell_type": "code",
   "execution_count": 17,
   "metadata": {
    "collapsed": false
   },
   "outputs": [
    {
     "data": {
      "text/html": [
       "<table><tr><td>gene</td><td>id</td><td>barcode</td><td>primer</td><td>DNAqspec</td><td>date</td><td>sequenced</td><td>expectation</td><td>results</td></tr><tr><td>cadm1a</td><td>3.H</td><td>ANW091</td><td>Fwd</td><td>23.6</td><td>2017-04-04</td><td>1</td><td>deletion</td><td>not mutant</td></tr><tr><td>cadm1a</td><td>3.H</td><td>ANW091</td><td>Fwd</td><td>23.6</td><td>2017-04-04</td><td>1</td><td>deletion</td><td>not mutant</td></tr><tr><td>cadm1a</td><td>4.wt</td><td>ANW089</td><td>Fwd</td><td>21.3</td><td>2017-04-04</td><td>1</td><td>wt</td><td>wt</td></tr><tr><td>cadm1a</td><td>4.wt</td><td>ANW089</td><td>Fwd</td><td>21.3</td><td>2017-04-04</td><td>1</td><td>wt</td><td>wt</td></tr><tr><td>cadm1a</td><td>5.F</td><td>ANW090</td><td>Fwd</td><td>25.2</td><td>2017-04-04</td><td>1</td><td>+26bp</td><td>not mutant</td></tr><tr><td>cadm1a</td><td>5.F</td><td>ANW090</td><td>Fwd</td><td>25.2</td><td>2017-04-04</td><td>1</td><td>+26bp</td><td>not mutant</td></tr><tr><td>cadm1a</td><td>10.E</td><td>AMT236</td><td>Fwd</td><td>29.8</td><td>2017-05-24</td><td>1</td><td>-10bp</td><td>ooooooo</td></tr><tr><td>cadm1a</td><td>10.E</td><td>AMT236</td><td>Fwd</td><td>29.8</td><td>2017-05-24</td><td>1</td><td>-10bp</td><td>ooooooo</td></tr><tr><td>cadm1a</td><td>10.F</td><td>AMT237</td><td>Fwd</td><td>27</td><td>2017-05-24</td><td>1</td><td>+3bp</td><td>ooooooo</td></tr><tr><td>cadm1a</td><td>10.F</td><td>AMT237</td><td>Fwd</td><td>27</td><td>2017-05-24</td><td>1</td><td>+3bp</td><td>ooooooo</td></tr><tr><td>cadm1a</td><td>10.wt</td><td>AMT238</td><td>Fwd</td><td>None</td><td>2017-05-24</td><td>1</td><td>wt</td><td>ooooooo</td></tr><tr><td>cadm1a</td><td>10.wt</td><td>AMT238</td><td>Fwd</td><td>None</td><td>2017-05-24</td><td>1</td><td>wt</td><td>ooooooo</td></tr><tr><td>cadm1a</td><td>11.C</td><td>AMT239</td><td>Fwd</td><td>26.9</td><td>2017-05-24</td><td>1</td><td>-11bp</td><td>ooooooo</td></tr><tr><td>cadm1a</td><td>11.C</td><td>AMT239</td><td>Fwd</td><td>26.9</td><td>2017-05-24</td><td>1</td><td>-11bp</td><td>ooooooo</td></tr><tr><td>cadm1b</td><td>11.D</td><td>AMT245</td><td>Rev</td><td>26.1</td><td>2017-05-24</td><td>1</td><td>-12bp</td><td>ooooooo</td></tr><tr><td>cadm1b</td><td>11.D</td><td>AMT245</td><td>Rev</td><td>26.1</td><td>2017-05-24</td><td>1</td><td>-12bp</td><td>ooooooo</td></tr><tr><td>nrxn3aL</td><td>7.G</td><td>AMT246</td><td>Rev</td><td>21.5</td><td>2017-05-24</td><td>1</td><td>-1or2bp</td><td>ooooooo</td></tr><tr><td>nrxn3aL</td><td>7.G</td><td>AMT246</td><td>Rev</td><td>21.5</td><td>2017-05-24</td><td>1</td><td>-1or2bp</td><td>ooooooo</td></tr><tr><td>nrxn3aL</td><td>7.wt</td><td>AMT247</td><td>Rev</td><td>26.2</td><td>2017-05-24</td><td>1</td><td>wt</td><td>wt</td></tr><tr><td>nrxn3aL</td><td>7.wt</td><td>AMT247</td><td>Rev</td><td>26.2</td><td>2017-05-24</td><td>1</td><td>wt</td><td>wt</td></tr><tr><td>tjp2a</td><td>7.B</td><td>AMT228</td><td>Rev</td><td>9.9</td><td>2017-05-24</td><td>1</td><td>+5bp</td><td>ooooooo</td></tr><tr><td>tjp2a</td><td>7.B</td><td>AMT228</td><td>Rev</td><td>9.9</td><td>2017-05-24</td><td>1</td><td>+5bp</td><td>ooooooo</td></tr><tr><td>tjp2a</td><td>8.E</td><td>AMT231</td><td>Rev</td><td>10</td><td>2017-05-24</td><td>1</td><td>-6bp</td><td>ooooooo</td></tr><tr><td>tjp2a</td><td>8.E</td><td>AMT231</td><td>Rev</td><td>10</td><td>2017-05-24</td><td>1</td><td>-6bp</td><td>ooooooo</td></tr><tr><td>tjp2a</td><td>8.F</td><td>AMT232</td><td>Rev</td><td>8.7</td><td>2017-05-24</td><td>1</td><td>-6bp</td><td>ooooooo</td></tr><tr><td>tjp2a</td><td>8.F</td><td>AMT232</td><td>Rev</td><td>8.7</td><td>2017-05-24</td><td>1</td><td>-6bp</td><td>ooooooo</td></tr><tr><td>tjp2a</td><td>8.G</td><td>AMT233</td><td>Rev</td><td>None</td><td>2017-05-24</td><td>1</td><td>+11bp</td><td>ooooooo</td></tr><tr><td>tjp2a</td><td>8.G</td><td>AMT233</td><td>Rev</td><td>None</td><td>2017-05-24</td><td>1</td><td>+11bp</td><td>ooooooo</td></tr><tr><td>tjp2a</td><td>8.wt</td><td>AMT235</td><td>Rev</td><td>None</td><td>2017-05-24</td><td>1</td><td>wt</td><td>ooooooo</td></tr><tr><td>tjp2a</td><td>8.wt</td><td>AMT235</td><td>Rev</td><td>None</td><td>2017-05-24</td><td>1</td><td>wt</td><td>ooooooo</td></tr><tr><td>tjp2a</td><td>9.B</td><td>AMT229</td><td>Rev</td><td>14.1</td><td>2017-05-24</td><td>1</td><td>+10bp</td><td>ooooooo</td></tr><tr><td>tjp2a</td><td>9.B</td><td>AMT229</td><td>Rev</td><td>14.1</td><td>2017-05-24</td><td>1</td><td>+10bp</td><td>ooooooo</td></tr><tr><td>tjp2a</td><td>9.H</td><td>AMT230</td><td>Rev</td><td>15.4</td><td>2017-05-24</td><td>1</td><td>-2bp</td><td>ooooooo</td></tr><tr><td>tjp2a</td><td>9.H</td><td>AMT230</td><td>Rev</td><td>15.4</td><td>2017-05-24</td><td>1</td><td>-2bp</td><td>ooooooo</td></tr><tr><td>tjp2b</td><td>8.H</td><td>AMT234</td><td>Rev</td><td>None</td><td>2017-05-24</td><td>1</td><td>+28bp</td><td>ooooooo</td></tr><tr><td>tjp2b</td><td>8.H</td><td>AMT234</td><td>Rev</td><td>None</td><td>2017-05-24</td><td>1</td><td>+28bp</td><td>ooooooo</td></tr><tr><td>tjp2b</td><td>9.C</td><td>AMT240</td><td>Rev</td><td>26.9</td><td>2017-05-24</td><td>1</td><td>+5bp</td><td>ooooooo</td></tr><tr><td>tjp2b</td><td>9.C</td><td>AMT240</td><td>Rev</td><td>26.9</td><td>2017-05-24</td><td>1</td><td>+5bp</td><td>ooooooo</td></tr><tr><td>tjp2b</td><td>9.D</td><td>AMT241</td><td>Rev</td><td>None</td><td>2017-05-24</td><td>1</td><td>-45bp</td><td>ooooooo</td></tr><tr><td>tjp2b</td><td>9.D</td><td>AMT241</td><td>Rev</td><td>None</td><td>2017-05-24</td><td>1</td><td>-45bp</td><td>ooooooo</td></tr><tr><td>tjp2b</td><td>9.E</td><td>AMT242</td><td>Rev</td><td>None</td><td>2017-05-24</td><td>1</td><td>-12bp</td><td>ooooooo</td></tr><tr><td>tjp2b</td><td>9.E</td><td>AMT242</td><td>Rev</td><td>None</td><td>2017-05-24</td><td>1</td><td>-12bp</td><td>ooooooo</td></tr><tr><td>tjp2b</td><td>9.F</td><td>AMT243</td><td>Rev</td><td>None</td><td>2017-05-24</td><td>1</td><td>+5bp</td><td>ooooooo</td></tr><tr><td>tjp2b</td><td>9.F</td><td>AMT243</td><td>Rev</td><td>None</td><td>2017-05-24</td><td>1</td><td>+5bp</td><td>ooooooo</td></tr><tr><td>tjp2b</td><td>9.wt</td><td>AMT244</td><td>Rev</td><td>23.5</td><td>2017-05-24</td><td>1</td><td>wt</td><td>ooooooo</td></tr><tr><td>tjp2b</td><td>9.wt</td><td>AMT244</td><td>Rev</td><td>23.5</td><td>2017-05-24</td><td>1</td><td>wt</td><td>ooooooo</td></tr></table>"
      ],
      "text/plain": [
       "<IPython.core.display.HTML object>"
      ]
     },
     "metadata": {},
     "output_type": "display_data"
    }
   ],
   "source": [
    "conn.commit();\n",
    "printall();"
   ]
  },
  {
   "cell_type": "code",
   "execution_count": null,
   "metadata": {
    "collapsed": false
   },
   "outputs": [],
   "source": [
    "conn.close();"
   ]
  },
  {
   "cell_type": "code",
   "execution_count": 29,
   "metadata": {
    "collapsed": false
   },
   "outputs": [
    {
     "data": {
      "text/plain": [
       "<sqlite3.Cursor at 0x106562ea0>"
      ]
     },
     "execution_count": 29,
     "metadata": {},
     "output_type": "execute_result"
    }
   ],
   "source": [
    "# delete database and restart from scratch\n",
    "# # # # # # # #  c.execute('DROP TABLE SeqInfo')"
   ]
  },
  {
   "cell_type": "code",
   "execution_count": 13,
   "metadata": {
    "collapsed": false
   },
   "outputs": [
    {
     "data": {
      "text/plain": [
       "<sqlite3.Cursor at 0x106c0dc70>"
      ]
     },
     "execution_count": 13,
     "metadata": {},
     "output_type": "execute_result"
    }
   ],
   "source": [
    "c.execute('DROP TABLE SeqInfo')"
   ]
  },
  {
   "cell_type": "code",
   "execution_count": null,
   "metadata": {
    "collapsed": true
   },
   "outputs": [],
   "source": []
  }
 ],
 "metadata": {
  "kernelspec": {
   "display_name": "Python 3",
   "language": "python",
   "name": "python3"
  },
  "language_info": {
   "codemirror_mode": {
    "name": "ipython",
    "version": 3
   },
   "file_extension": ".py",
   "mimetype": "text/x-python",
   "name": "python",
   "nbconvert_exporter": "python",
   "pygments_lexer": "ipython3",
   "version": "3.5.2"
  }
 },
 "nbformat": 4,
 "nbformat_minor": 0
}
