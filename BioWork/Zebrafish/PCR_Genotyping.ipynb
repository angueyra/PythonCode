{
 "cells": [
  {
   "cell_type": "markdown",
   "metadata": {},
   "source": [
    "DNA lysis"
   ]
  },
  {
   "cell_type": "markdown",
   "metadata": {},
   "source": [
    "###### Phusion PCR setup:\n",
    "    DNA (1:10) dilution = 2 uL\n",
    "    Water = 10.4 uL\n",
    "    F primer (10 uL) = 1 uL\n",
    "    R primer (10 uL) = 1 uL\n",
    "    M13-FAM primer (10 uM) = 1 uL\n",
    "    Phusion polymerase = 0.2 uL\n",
    "    5x buffer = 4 uL\n",
    "    dNTP mix = 0.4 uL\n",
    "    "
   ]
  },
  {
   "cell_type": "code",
   "execution_count": 117,
   "metadata": {
    "collapsed": false
   },
   "outputs": [],
   "source": [
    "import numpy as np\n",
    "import pandas as pd\n",
    "\n",
    "class gene:\n",
    "    def __init__(self, gene_name, id_numbers):\n",
    "        self.name = gene_name\n",
    "        self.ids = id_numbers\n",
    "        self.n = len(self.ids.split(','))\n",
    "        self.string = self.name + '\\n (n='+ str(self.n) + ')'\n",
    "        \n",
    "        tested_Tms = {'tjp2a': 58, #inconsistent results here. Should order new primers\n",
    "                      'tjp2b': 64 ,\n",
    "                      'cadm1a': 64, #tested 67C on 2017/03/30 and bands disappeared\n",
    "                      'cadm1b': 67,\n",
    "                      'eml1': 67,\n",
    "                      'cpne3': 67,\n",
    "                      'nrxn3aS': 72,\n",
    "                      'nrxn3aL': 72,\n",
    "                      'nrxn3bS': 72,\n",
    "                      'nrxn3bL': 72,\n",
    "                     }\n",
    "        self.Tm = tested_Tms.get(self.name, 'default')\n",
    "\n",
    "volumes  = [10.4, 4, 0.4, 1, 1, 1, 0.2];\n",
    "names = ['Water','Buffer5x','dNTP mix','FWD','REV','M13-FAM','Phusion'];\n",
    "PhusionDefault = pd.DataFrame(data=volumes, index=names, columns=['1x']);"
   ]
  },
  {
   "cell_type": "code",
   "execution_count": 120,
   "metadata": {
    "collapsed": false
   },
   "outputs": [],
   "source": [
    "genes=[];\n",
    "genes.append(gene('nrxn3aS',('2, 3, 4, 6, 7, 8')));\n",
    "genes.append(gene('nrxn3aL',('2, 3, 4, 6, 7, 8')));\n",
    "genes.append(gene('nrxn3bS',('2, 3, 4, 6, 7, 8')));\n",
    "genes.append(gene('nrxn3bL',('2, 3, 4, 6, 7, 8')));\n",
    "genes.append(gene('tjp2a',('8, 9, 11, 6')));\n",
    "genes.append(gene('tjp2b',('8, 9, 11')));\n",
    "genes.append(gene('cadm1a',('10, 11, 12')));\n",
    "genes.append(gene('cpne3',('11')));\n",
    "\n"
   ]
  },
  {
   "cell_type": "code",
   "execution_count": 121,
   "metadata": {
    "collapsed": false
   },
   "outputs": [
    {
     "data": {
      "text/html": [
       "<div>\n",
       "<table border=\"1\" class=\"dataframe\">\n",
       "  <thead>\n",
       "    <tr style=\"text-align: right;\">\n",
       "      <th></th>\n",
       "      <th>1x</th>\n",
       "      <th>nrxn3aS\n",
       " (n=6)</th>\n",
       "      <th>nrxn3aL\n",
       " (n=6)</th>\n",
       "      <th>nrxn3bS\n",
       " (n=6)</th>\n",
       "      <th>nrxn3bL\n",
       " (n=6)</th>\n",
       "      <th>tjp2a\n",
       " (n=4)</th>\n",
       "      <th>tjp2b\n",
       " (n=3)</th>\n",
       "      <th>cadm1a\n",
       " (n=3)</th>\n",
       "      <th>cpne3\n",
       " (n=1)</th>\n",
       "    </tr>\n",
       "  </thead>\n",
       "  <tbody>\n",
       "    <tr>\n",
       "      <th>Water</th>\n",
       "      <td>10.4</td>\n",
       "      <td>549.12</td>\n",
       "      <td>549.12</td>\n",
       "      <td>549.12</td>\n",
       "      <td>549.12</td>\n",
       "      <td>366.08</td>\n",
       "      <td>274.56</td>\n",
       "      <td>274.56</td>\n",
       "      <td>91.52</td>\n",
       "    </tr>\n",
       "    <tr>\n",
       "      <th>Buffer5x</th>\n",
       "      <td>4.0</td>\n",
       "      <td>211.20</td>\n",
       "      <td>211.20</td>\n",
       "      <td>211.20</td>\n",
       "      <td>211.20</td>\n",
       "      <td>140.80</td>\n",
       "      <td>105.60</td>\n",
       "      <td>105.60</td>\n",
       "      <td>35.20</td>\n",
       "    </tr>\n",
       "    <tr>\n",
       "      <th>dNTP mix</th>\n",
       "      <td>0.4</td>\n",
       "      <td>21.12</td>\n",
       "      <td>21.12</td>\n",
       "      <td>21.12</td>\n",
       "      <td>21.12</td>\n",
       "      <td>14.08</td>\n",
       "      <td>10.56</td>\n",
       "      <td>10.56</td>\n",
       "      <td>3.52</td>\n",
       "    </tr>\n",
       "    <tr>\n",
       "      <th>FWD</th>\n",
       "      <td>1.0</td>\n",
       "      <td>52.80</td>\n",
       "      <td>52.80</td>\n",
       "      <td>52.80</td>\n",
       "      <td>52.80</td>\n",
       "      <td>35.20</td>\n",
       "      <td>26.40</td>\n",
       "      <td>26.40</td>\n",
       "      <td>8.80</td>\n",
       "    </tr>\n",
       "    <tr>\n",
       "      <th>REV</th>\n",
       "      <td>1.0</td>\n",
       "      <td>52.80</td>\n",
       "      <td>52.80</td>\n",
       "      <td>52.80</td>\n",
       "      <td>52.80</td>\n",
       "      <td>35.20</td>\n",
       "      <td>26.40</td>\n",
       "      <td>26.40</td>\n",
       "      <td>8.80</td>\n",
       "    </tr>\n",
       "    <tr>\n",
       "      <th>M13-FAM</th>\n",
       "      <td>1.0</td>\n",
       "      <td>52.80</td>\n",
       "      <td>52.80</td>\n",
       "      <td>52.80</td>\n",
       "      <td>52.80</td>\n",
       "      <td>35.20</td>\n",
       "      <td>26.40</td>\n",
       "      <td>26.40</td>\n",
       "      <td>8.80</td>\n",
       "    </tr>\n",
       "    <tr>\n",
       "      <th>Phusion</th>\n",
       "      <td>0.2</td>\n",
       "      <td>10.56</td>\n",
       "      <td>10.56</td>\n",
       "      <td>10.56</td>\n",
       "      <td>10.56</td>\n",
       "      <td>7.04</td>\n",
       "      <td>5.28</td>\n",
       "      <td>5.28</td>\n",
       "      <td>1.76</td>\n",
       "    </tr>\n",
       "  </tbody>\n",
       "</table>\n",
       "</div>"
      ],
      "text/plain": [
       "            1x  nrxn3aS\\n (n=6)  nrxn3aL\\n (n=6)  nrxn3bS\\n (n=6)  \\\n",
       "Water     10.4           549.12           549.12           549.12   \n",
       "Buffer5x   4.0           211.20           211.20           211.20   \n",
       "dNTP mix   0.4            21.12            21.12            21.12   \n",
       "FWD        1.0            52.80            52.80            52.80   \n",
       "REV        1.0            52.80            52.80            52.80   \n",
       "M13-FAM    1.0            52.80            52.80            52.80   \n",
       "Phusion    0.2            10.56            10.56            10.56   \n",
       "\n",
       "          nrxn3bL\\n (n=6)  tjp2a\\n (n=4)  tjp2b\\n (n=3)  cadm1a\\n (n=3)  \\\n",
       "Water              549.12         366.08         274.56          274.56   \n",
       "Buffer5x           211.20         140.80         105.60          105.60   \n",
       "dNTP mix            21.12          14.08          10.56           10.56   \n",
       "FWD                 52.80          35.20          26.40           26.40   \n",
       "REV                 52.80          35.20          26.40           26.40   \n",
       "M13-FAM             52.80          35.20          26.40           26.40   \n",
       "Phusion             10.56           7.04           5.28            5.28   \n",
       "\n",
       "          cpne3\\n (n=1)  \n",
       "Water             91.52  \n",
       "Buffer5x          35.20  \n",
       "dNTP mix           3.52  \n",
       "FWD                8.80  \n",
       "REV                8.80  \n",
       "M13-FAM            8.80  \n",
       "Phusion            1.76  "
      ]
     },
     "execution_count": 121,
     "metadata": {},
     "output_type": "execute_result"
    }
   ],
   "source": [
    "PCR = pd.DataFrame.copy(PhusionDefault)\n",
    "for g in genes:\n",
    "    PCR[g.string] = pd.Series(PCR['1x'] * round((g.n*8*1.1),1))\n",
    "\n",
    "PCR.rename_axis('_')\n",
    "PCR"
   ]
  },
  {
   "cell_type": "code",
   "execution_count": 110,
   "metadata": {
    "collapsed": false
   },
   "outputs": [
    {
     "data": {
      "text/plain": [
       "'<table border=\"1\" class=\"dataframe\">\\n  <thead>\\n    <tr style=\"text-align: right;\">\\n      <th></th>\\n      <th>1x</th>\\n      <th>nrxn3aS\\n (n=6)</th>\\n      <th>nrxn3aL\\n (n=6)</th>\\n      <th>nrxn3bS\\n (n=6)</th>\\n      <th>nrxn3bL\\n (n=6)</th>\\n      <th>tjp2a\\n (n=4)</th>\\n      <th>tjp2b\\n (n=3)</th>\\n      <th>cpne3\\n (n=1)</th>\\n      <th>cadm1a\\n (n=3)</th>\\n    </tr>\\n  </thead>\\n  <tbody>\\n    <tr>\\n      <th>Water</th>\\n      <td>10.4</td>\\n      <td>549.12</td>\\n      <td>549.12</td>\\n      <td>549.12</td>\\n      <td>549.12</td>\\n      <td>366.08</td>\\n      <td>274.56</td>\\n      <td>91.52</td>\\n      <td>274.56</td>\\n    </tr>\\n    <tr>\\n      <th>Buffer5x</th>\\n      <td>4.0</td>\\n      <td>211.20</td>\\n      <td>211.20</td>\\n      <td>211.20</td>\\n      <td>211.20</td>\\n      <td>140.80</td>\\n      <td>105.60</td>\\n      <td>35.20</td>\\n      <td>105.60</td>\\n    </tr>\\n    <tr>\\n      <th>dNTP mix</th>\\n      <td>0.4</td>\\n      <td>21.12</td>\\n      <td>21.12</td>\\n      <td>21.12</td>\\n      <td>21.12</td>\\n      <td>14.08</td>\\n      <td>10.56</td>\\n      <td>3.52</td>\\n      <td>10.56</td>\\n    </tr>\\n    <tr>\\n      <th>FWD</th>\\n      <td>1.0</td>\\n      <td>52.80</td>\\n      <td>52.80</td>\\n      <td>52.80</td>\\n      <td>52.80</td>\\n      <td>35.20</td>\\n      <td>26.40</td>\\n      <td>8.80</td>\\n      <td>26.40</td>\\n    </tr>\\n    <tr>\\n      <th>REV</th>\\n      <td>1.0</td>\\n      <td>52.80</td>\\n      <td>52.80</td>\\n      <td>52.80</td>\\n      <td>52.80</td>\\n      <td>35.20</td>\\n      <td>26.40</td>\\n      <td>8.80</td>\\n      <td>26.40</td>\\n    </tr>\\n    <tr>\\n      <th>M13-FAM</th>\\n      <td>1.0</td>\\n      <td>52.80</td>\\n      <td>52.80</td>\\n      <td>52.80</td>\\n      <td>52.80</td>\\n      <td>35.20</td>\\n      <td>26.40</td>\\n      <td>8.80</td>\\n      <td>26.40</td>\\n    </tr>\\n    <tr>\\n      <th>Phusion</th>\\n      <td>0.2</td>\\n      <td>10.56</td>\\n      <td>10.56</td>\\n      <td>10.56</td>\\n      <td>10.56</td>\\n      <td>7.04</td>\\n      <td>5.28</td>\\n      <td>1.76</td>\\n      <td>5.28</td>\\n    </tr>\\n  </tbody>\\n</table>'"
      ]
     },
     "execution_count": 110,
     "metadata": {},
     "output_type": "execute_result"
    }
   ],
   "source": [
    "#Need to create html output into a letter sized\n",
    "PCR.to_html()"
   ]
  },
  {
   "cell_type": "code",
   "execution_count": 86,
   "metadata": {
    "collapsed": false
   },
   "outputs": [
    {
     "data": {
      "text/html": [
       "<div>\n",
       "<table border=\"1\" class=\"dataframe\">\n",
       "  <thead>\n",
       "    <tr style=\"text-align: right;\">\n",
       "      <th></th>\n",
       "      <th>Tm (°C)</th>\n",
       "      <th>id#</th>\n",
       "    </tr>\n",
       "  </thead>\n",
       "  <tbody>\n",
       "    <tr>\n",
       "      <th>nrxn3aS</th>\n",
       "      <td>72</td>\n",
       "      <td>6, 7, 8, 2, 3, 4</td>\n",
       "    </tr>\n",
       "    <tr>\n",
       "      <th>nrxn3aL</th>\n",
       "      <td>72</td>\n",
       "      <td>6, 7, 8</td>\n",
       "    </tr>\n",
       "    <tr>\n",
       "      <th>nrxn3bS</th>\n",
       "      <td>72</td>\n",
       "      <td>6, 7, 8, 2, 3, 4</td>\n",
       "    </tr>\n",
       "    <tr>\n",
       "      <th>nrxn3bL</th>\n",
       "      <td>72</td>\n",
       "      <td>6, 7, 8</td>\n",
       "    </tr>\n",
       "    <tr>\n",
       "      <th>tjp2a</th>\n",
       "      <td>58</td>\n",
       "      <td>8, 9, 11, 6</td>\n",
       "    </tr>\n",
       "    <tr>\n",
       "      <th>tjp2b</th>\n",
       "      <td>64</td>\n",
       "      <td>8, 9, 11</td>\n",
       "    </tr>\n",
       "    <tr>\n",
       "      <th>cpne3</th>\n",
       "      <td>67</td>\n",
       "      <td>11</td>\n",
       "    </tr>\n",
       "    <tr>\n",
       "      <th>cadm1a</th>\n",
       "      <td>64</td>\n",
       "      <td>10, 11, 12</td>\n",
       "    </tr>\n",
       "  </tbody>\n",
       "</table>\n",
       "</div>"
      ],
      "text/plain": [
       "         Tm (°C)               id#\n",
       "nrxn3aS       72  6, 7, 8, 2, 3, 4\n",
       "nrxn3aL       72           6, 7, 8\n",
       "nrxn3bS       72  6, 7, 8, 2, 3, 4\n",
       "nrxn3bL       72           6, 7, 8\n",
       "tjp2a         58       8, 9, 11, 6\n",
       "tjp2b         64          8, 9, 11\n",
       "cpne3         67                11\n",
       "cadm1a        64        10, 11, 12"
      ]
     },
     "execution_count": 86,
     "metadata": {},
     "output_type": "execute_result"
    }
   ],
   "source": [
    "names = [];\n",
    "ids = [];\n",
    "tms = [];\n",
    "for g in genes:\n",
    "    names.append(g.name)\n",
    "    ids.append(g.ids)\n",
    "    tms.append(g.Tm)\n",
    "\n",
    "IDs = pd.DataFrame({'id#': ids, 'Tm (°C)' : tms}, index=names)\n",
    "#IDs[['id#','Tm (°C)']]\n",
    "IDs"
   ]
  },
  {
   "cell_type": "code",
   "execution_count": null,
   "metadata": {
    "collapsed": true
   },
   "outputs": [],
   "source": [
    "IDs.to_html()"
   ]
  },
  {
   "cell_type": "code",
   "execution_count": 99,
   "metadata": {
    "collapsed": false
   },
   "outputs": [
    {
     "data": {
      "text/plain": [
       "6"
      ]
     },
     "execution_count": 99,
     "metadata": {},
     "output_type": "execute_result"
    }
   ],
   "source": []
  },
  {
   "cell_type": "code",
   "execution_count": 98,
   "metadata": {
    "collapsed": false
   },
   "outputs": [
    {
     "data": {
      "text/plain": [
       "6"
      ]
     },
     "execution_count": 98,
     "metadata": {},
     "output_type": "execute_result"
    }
   ],
   "source": []
  },
  {
   "cell_type": "code",
   "execution_count": null,
   "metadata": {
    "collapsed": false
   },
   "outputs": [],
   "source": []
  },
  {
   "cell_type": "code",
   "execution_count": null,
   "metadata": {
    "collapsed": true
   },
   "outputs": [],
   "source": []
  }
 ],
 "metadata": {
  "kernelspec": {
   "display_name": "Python 3",
   "language": "python",
   "name": "python3"
  },
  "language_info": {
   "codemirror_mode": {
    "name": "ipython",
    "version": 3
   },
   "file_extension": ".py",
   "mimetype": "text/x-python",
   "name": "python",
   "nbconvert_exporter": "python",
   "pygments_lexer": "ipython3",
   "version": "3.5.2"
  }
 },
 "nbformat": 4,
 "nbformat_minor": 0
}
