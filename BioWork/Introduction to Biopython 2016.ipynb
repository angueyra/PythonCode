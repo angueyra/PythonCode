{
 "cells": [
  {
   "cell_type": "markdown",
   "metadata": {
    "slideshow": {
     "slide_type": "slide"
    }
   },
   "source": [
    "# Introduction to Biopython\n",
    "---\n",
    "### R. Burke Squires\n",
    "### NIAID Bioinformatics & Computational Biosciences Branch"
   ]
  },
  {
   "cell_type": "markdown",
   "metadata": {
    "slideshow": {
     "slide_type": "slide"
    }
   },
   "source": [
    "## Python Programming for Scientists Series\n",
    "---\n",
    "- Introduction to Jupyter Notebook\n",
    "- Introduction to Python Programming\n",
    "- Introduction to Biopython Programming\n",
    "- Introduction to Data Analysis with Python\n",
    "- Introduction to Data Visualization with Python"
   ]
  },
  {
   "cell_type": "markdown",
   "metadata": {
    "slideshow": {
     "slide_type": "skip"
    }
   },
   "source": [
    "---"
   ]
  },
  {
   "cell_type": "markdown",
   "metadata": {
    "slideshow": {
     "slide_type": "subslide"
    }
   },
   "source": [
    "This notebook is adapted from:\n",
    "- the [biopython tutorial and cookbook](http://biopython.org/DIST/docs/tutorial/Tutorial.html) and \n",
    "- a workshop given by Peter Cock [here](https://github.com/peterjc/biopython_workshop)"
   ]
  },
  {
   "cell_type": "markdown",
   "metadata": {
    "slideshow": {
     "slide_type": "skip"
    }
   },
   "source": [
    "---"
   ]
  },
  {
   "cell_type": "markdown",
   "metadata": {
    "slideshow": {
     "slide_type": "slide"
    }
   },
   "source": [
    "## How to install biopython\n",
    "\n",
    "- This notebook assumes you have the the [Anaconda python distribution](https://www.continuum.io/downloads) installed for your platform. If you do not please see the \n",
    "\n",
    "- Use the **conda** package manager to install the biopython package. You can run the following command (without the preceeding exclimation mark (!) in the terminal or command prompt or you can run the cell below."
   ]
  },
  {
   "cell_type": "code",
   "execution_count": 1,
   "metadata": {
    "collapsed": false,
    "slideshow": {
     "slide_type": "slide"
    }
   },
   "outputs": [
    {
     "name": "stdout",
     "output_type": "stream",
     "text": [
      "Using Anaconda Cloud api site https://api.anaconda.org\n",
      "Fetching package metadata: ....\n",
      "# All requested packages already installed.\n",
      "# packages in environment at //anaconda:\n",
      "#\n",
      "conda                     4.0.5                    py35_0  \n"
     ]
    }
   ],
   "source": [
    "!conda update -y conda"
   ]
  },
  {
   "cell_type": "code",
   "execution_count": 2,
   "metadata": {
    "collapsed": false,
    "slideshow": {
     "slide_type": "slide"
    }
   },
   "outputs": [
    {
     "name": "stdout",
     "output_type": "stream",
     "text": [
      "Using Anaconda Cloud api site https://api.anaconda.org\n",
      "Fetching package metadata: ....\n",
      "# All requested packages already installed.\n",
      "# packages in environment at //anaconda:\n",
      "#\n",
      "anaconda                  4.0.0               np110py35_0  \n"
     ]
    }
   ],
   "source": [
    "!conda update -y anaconda"
   ]
  },
  {
   "cell_type": "code",
   "execution_count": 3,
   "metadata": {
    "collapsed": false,
    "slideshow": {
     "slide_type": "slide"
    }
   },
   "outputs": [
    {
     "name": "stdout",
     "output_type": "stream",
     "text": [
      "Using Anaconda Cloud api site https://api.anaconda.org\n",
      "Fetching package metadata: ....\n",
      "Solving package specifications: .........\n",
      "\n",
      "Package plan for installation in environment //anaconda:\n",
      "\n",
      "The following packages will be downloaded:\n",
      "\n",
      "    package                    |            build\n",
      "    ---------------------------|-----------------\n",
      "    biopython-1.66             |      np110py35_0         2.1 MB\n",
      "\n",
      "The following NEW packages will be INSTALLED:\n",
      "\n",
      "    biopython: 1.66-np110py35_0 (soft-link)\n",
      "\n",
      "Error: Missing write permissions in: //anaconda\n",
      "#\n",
      "# You don't appear to have the necessary permissions to install packages\n",
      "# into the install area '//anaconda'.\n",
      "# However you can clone this environment into your home directory and\n",
      "# then make changes to it.\n",
      "# This may be done using the command:\n",
      "#\n",
      "# $ conda create -n my_root --clone=//anaconda\n",
      "\n"
     ]
    }
   ],
   "source": [
    "!conda install -y biopython"
   ]
  },
  {
   "cell_type": "markdown",
   "metadata": {
    "slideshow": {
     "slide_type": "slide"
    }
   },
   "source": [
    "You can confirm the installation by importing the module and checking its version."
   ]
  },
  {
   "cell_type": "code",
   "execution_count": 1,
   "metadata": {
    "collapsed": false,
    "slideshow": {
     "slide_type": "fragment"
    }
   },
   "outputs": [
    {
     "data": {
      "text/plain": [
       "'1.66'"
      ]
     },
     "execution_count": 1,
     "metadata": {},
     "output_type": "execute_result"
    }
   ],
   "source": [
    "import Bio\n",
    "Bio.__version__"
   ]
  },
  {
   "cell_type": "markdown",
   "metadata": {
    "slideshow": {
     "slide_type": "skip"
    }
   },
   "source": [
    "---"
   ]
  },
  {
   "cell_type": "markdown",
   "metadata": {
    "slideshow": {
     "slide_type": "slide"
    }
   },
   "source": [
    "# What is biopython\n",
    "\n",
    "\"Biopython is a set of freely available tools for **biological** computation written in **Python** by an international team of developers.\"\n",
    "\n",
    "\"￼It is a distributed **collaborative** effort to develop Python libraries and applications which address the needs of current and future work in bioinformatics￼\""
   ]
  },
  {
   "cell_type": "markdown",
   "metadata": {
    "slideshow": {
     "slide_type": "skip"
    }
   },
   "source": [
    "---"
   ]
  },
  {
   "cell_type": "markdown",
   "metadata": {
    "slideshow": {
     "slide_type": "slide"
    }
   },
   "source": [
    "What areas of bioinformatics does biopython support? (This could also be labelled: How do I get help for biopython?):"
   ]
  },
  {
   "cell_type": "code",
   "execution_count": null,
   "metadata": {
    "collapsed": false,
    "scrolled": true,
    "slideshow": {
     "slide_type": "slide"
    }
   },
   "outputs": [],
   "source": [
    "help(Bio)"
   ]
  },
  {
   "cell_type": "markdown",
   "metadata": {
    "slideshow": {
     "slide_type": "slide"
    }
   },
   "source": [
    "# Lets gets started!"
   ]
  },
  {
   "cell_type": "markdown",
   "metadata": {
    "slideshow": {
     "slide_type": "slide"
    }
   },
   "source": [
    "Lets download the sequence file we will be using but implementing some biopython code:"
   ]
  },
  {
   "cell_type": "code",
   "execution_count": 2,
   "metadata": {
    "collapsed": false,
    "slideshow": {
     "slide_type": "fragment"
    }
   },
   "outputs": [],
   "source": [
    "from Bio import Entrez\n",
    "from Bio import SeqIO\n",
    "\n",
    "Entrez.email='angueyra@nih.gov' #please update with your email address\n",
    "#gb = genbank format\n",
    "#fasta = fasta format\n",
    "temp = Entrez.efetch(db=\"nucleotide\", rettype=\"gb\", id=\"NC_002549\") \n",
    "gbseq = SeqIO.read(temp, \"gb\")\n",
    "\n",
    "#open an output file in the current directory and write data to it\n",
    "out = open(\"data/ebola.gbk\",'w')\n",
    "\n",
    "# To download to a specific location using an absolute path try something like this:\n",
    "#out = open(\"/Users/squiresrb/Documents/BCBB/Seminars/2015/Introduction to Biopython/ebola.gbk\",'w')\n",
    "\n",
    "SeqIO.write(gbseq, out, \"gb\")\n",
    "\n",
    "temp.close()\n",
    "out.close()"
   ]
  },
  {
   "cell_type": "code",
   "execution_count": 3,
   "metadata": {
    "collapsed": false,
    "slideshow": {
     "slide_type": "slide"
    }
   },
   "outputs": [
    {
     "name": "stdout",
     "output_type": "stream",
     "text": [
      "/Users/angueyraaristjm/Documents/Python/PythonIntro/03_Intro to Biopython\r\n"
     ]
    }
   ],
   "source": [
    "# What is our current diectory?\n",
    "!pwd"
   ]
  },
  {
   "cell_type": "code",
   "execution_count": 4,
   "metadata": {
    "collapsed": true,
    "slideshow": {
     "slide_type": "slide"
    }
   },
   "outputs": [],
   "source": [
    "# To see the file open the data folder in the current directory (Mac specific):\n",
    "\n",
    "!open ./data/"
   ]
  },
  {
   "cell_type": "markdown",
   "metadata": {
    "slideshow": {
     "slide_type": "slide"
    }
   },
   "source": [
    "Next lets convert the GenBank file to a FASTA file for us to use..."
   ]
  },
  {
   "cell_type": "markdown",
   "metadata": {
    "slideshow": {
     "slide_type": "slide"
    }
   },
   "source": [
    "# What features are available in the Genbank file?"
   ]
  },
  {
   "cell_type": "code",
   "execution_count": 5,
   "metadata": {
    "collapsed": false,
    "slideshow": {
     "slide_type": "fragment"
    }
   },
   "outputs": [
    {
     "data": {
      "text/plain": [
       "{\"3'UTR\",\n",
       " \"5'UTR\",\n",
       " 'CDS',\n",
       " 'gene',\n",
       " 'mRNA',\n",
       " 'misc_feature',\n",
       " 'regulatory',\n",
       " 'source'}"
      ]
     },
     "execution_count": 5,
     "metadata": {},
     "output_type": "execute_result"
    }
   ],
   "source": [
    "genome = SeqIO.read('data/ebola.gbk','genbank') #you MUST tell SeqIO what format is being read\n",
    "feats = set()\n",
    "for feat in genome.features:\n",
    "    feats.add(feat.type)\n",
    "feats"
   ]
  },
  {
   "cell_type": "markdown",
   "metadata": {
    "slideshow": {
     "slide_type": "slide"
    }
   },
   "source": [
    "## Converting a Sequence File"
   ]
  },
  {
   "cell_type": "code",
   "execution_count": 6,
   "metadata": {
    "collapsed": false,
    "slideshow": {
     "slide_type": "fragment"
    }
   },
   "outputs": [
    {
     "name": "stdout",
     "output_type": "stream",
     "text": [
      "You have converted 1 file(s).\n"
     ]
    }
   ],
   "source": [
    "from Bio import SeqIO\n",
    "count = SeqIO.convert(\"data/ebola.gbk\", \"gb\", \"data/ebola.fa\", \"fasta\")\n",
    "print(\"You have converted %i file(s).\" % count)"
   ]
  },
  {
   "cell_type": "markdown",
   "metadata": {
    "slideshow": {
     "slide_type": "slide"
    }
   },
   "source": [
    "Now we want to extract the proteins translations from the GenBank file and save them to a new file:"
   ]
  },
  {
   "cell_type": "code",
   "execution_count": 7,
   "metadata": {
    "collapsed": false,
    "slideshow": {
     "slide_type": "fragment"
    }
   },
   "outputs": [
    {
     "name": "stdout",
     "output_type": "stream",
     "text": [
      "Dealing with GenBank record NC_002549.1\n"
     ]
    }
   ],
   "source": [
    "from Bio import SeqIO\n",
    "gbk_filename = \"data/ebola.gbk\"\n",
    "faa_filename = \"data/ebola.fa\"\n",
    "input_handle  = open(gbk_filename, \"r\")\n",
    "output_handle = open(faa_filename, \"w\")\n",
    "\n",
    "for seq_record in SeqIO.parse(input_handle, \"genbank\") :\n",
    "    print(\"Dealing with GenBank record %s\" % seq_record.id)\n",
    "    for seq_feature in seq_record.features :\n",
    "        if seq_feature.type==\"CDS\" : #CDS = coding sequence\n",
    "            loc = seq_feature.location\n",
    "            output_handle.write(\">%s from %s\\n%s\\n\" % (\n",
    "                    seq_feature.qualifiers['gene'][0],\n",
    "                    seq_feature.qualifiers['locus_tag'][0],\n",
    "                    seq_record.seq[loc.start.position:loc.end.position]))\n",
    "\n",
    "output_handle.close()\n",
    "input_handle.close()"
   ]
  },
  {
   "cell_type": "markdown",
   "metadata": {
    "slideshow": {
     "slide_type": "slide"
    }
   },
   "source": [
    "We would normally extract the transcript from the GenBank file, but for our purposes today we are going to translate the gene sequences."
   ]
  },
  {
   "cell_type": "code",
   "execution_count": 9,
   "metadata": {
    "collapsed": false,
    "slideshow": {
     "slide_type": "slide"
    }
   },
   "outputs": [
    {
     "name": "stderr",
     "output_type": "stream",
     "text": [
      "//anaconda/lib/python3.5/site-packages/Bio/Seq.py:2041: BiopythonWarning: Partial codon, len(sequence) not a multiple of three. Explicitly trim the sequence or add trailing N before translation. This may become an error in future.\n",
      "  BiopythonWarning)\n"
     ]
    }
   ],
   "source": [
    "from Bio import SeqIO\n",
    "gbk_filename = \"data/ebola.fa\"\n",
    "faa_filename = \"data/ebola.faa\"\n",
    "input_handle  = open(gbk_filename, \"r\")\n",
    "output_handle = open(faa_filename, \"w\")\n",
    "\n",
    "for seq_record in SeqIO.parse(input_handle, \"fasta\") :\n",
    "    output_handle.write(\">%s\\n%s\\n\" % (\n",
    "       seq_record.id,\n",
    "       seq_record.seq.translate()))\n",
    "\n",
    "output_handle.close()\n",
    "input_handle.close()"
   ]
  },
  {
   "cell_type": "code",
   "execution_count": 8,
   "metadata": {
    "collapsed": false
   },
   "outputs": [
    {
     "name": "stdout",
     "output_type": "stream",
     "text": [
      "Variable        Type               Data/Info\n",
      "--------------------------------------------\n",
      "Bio             module             <module 'Bio' from '//ana<...>ackages/Bio/__init__.py'>\n",
      "Entrez          module             <module 'Bio.Entrez' from<...>/Bio/Entrez/__init__.py'>\n",
      "SeqIO           module             <module 'Bio.SeqIO' from <...>s/Bio/SeqIO/__init__.py'>\n",
      "count           int                1\n",
      "faa_filename    str                data/ebola.fa\n",
      "feat            SeqFeature         type: 3'UTR\\nlocation: [1<...>tative trailer region']\\n\n",
      "feats           set                {'mRNA', 'gene', 'CDS', \"<...>, 'source', 'regulatory'}\n",
      "gbk_filename    str                data/ebola.gbk\n",
      "gbseq           SeqRecord          ID: NC_002549.1\\nName: NC<...>CA', IUPACAmbiguousDNA())\n",
      "genome          SeqRecord          ID: NC_002549.1\\nName: NC<...>CA', IUPACAmbiguousDNA())\n",
      "input_handle    TextIOWrapper      <_io.TextIOWrapper name='<...>ode='r' encoding='UTF-8'>\n",
      "loc             FeatureLocation    [11580:18219](+)\n",
      "out             TextIOWrapper      <_io.TextIOWrapper name='<...>ode='w' encoding='UTF-8'>\n",
      "output_handle   TextIOWrapper      <_io.TextIOWrapper name='<...>ode='w' encoding='UTF-8'>\n",
      "seq_feature     SeqFeature         type: 3'UTR\\nlocation: [1<...>tative trailer region']\\n\n",
      "seq_record      SeqRecord          ID: NC_002549.1\\nName: NC<...>CA', IUPACAmbiguousDNA())\n",
      "temp            EvilHandleHack     <Bio._py3k._binary_to_str<...>ck object at 0x10569c4a8>\n"
     ]
    }
   ],
   "source": [
    "whos"
   ]
  },
  {
   "cell_type": "markdown",
   "metadata": {
    "collapsed": true,
    "slideshow": {
     "slide_type": "slide"
    }
   },
   "source": [
    "## Looking at the Sequence Records\n",
    "\n",
    "\"SeqIO.parse\" function creates SeqRecord objects. \n",
    "\n",
    "Biopython's \"SeqRecord\" objects are a container holding the sequence, and any annotation about it - most importantly the identifier.\n",
    "\n",
    "For FASTA files, the record identifier is taken to be the first word on the \">\" line -- anything after a space is *not* part of the identifier.\n",
    "\n",
    "This simple example prints out the record identifers and their lengths\n"
   ]
  },
  {
   "cell_type": "code",
   "execution_count": 10,
   "metadata": {
    "collapsed": false,
    "slideshow": {
     "slide_type": "slide"
    }
   },
   "outputs": [
    {
     "name": "stdout",
     "output_type": "stream",
     "text": [
      "Record NP, length 2220\n",
      "Record VP35, length 1023\n",
      "Record VP40, length 981\n",
      "Record GP, length 2030\n",
      "Record GP, length 1095\n",
      "Record GP, length 895\n",
      "Record VP30, length 867\n",
      "Record VP24, length 756\n",
      "Record L, length 6639\n"
     ]
    }
   ],
   "source": [
    "from Bio import SeqIO\n",
    "filename = \"data/ebola.fa\"\n",
    "for record in SeqIO.parse(filename, \"fasta\"):\n",
    "    print(\"Record %s, length %i\" % (record.id, len(record.seq)))"
   ]
  },
  {
   "cell_type": "markdown",
   "metadata": {
    "slideshow": {
     "slide_type": "subslide"
    }
   },
   "source": [
    "### Excercise \n",
    "\n",
    "    A. Count how many sequences are <100 amino acids long\n",
    "    \n",
    "    B. Create a modified script \"total_length.py\" based on the above examples which counts the number of records and calculates the total length of all the sequences (i.e. \"21 + 820 + 310 + 428 + ... + 46 + 228\"), giving:\n",
    "        \n",
    "        a. $ python total_length.py\n",
    "        b. 4141 records, total length 1311442\n",
    "    \n",
    "    C. Plot a histogram of the sequence length distribution (tip - see the `Biopython Tutorial & Cookbook)\n"
   ]
  },
  {
   "cell_type": "markdown",
   "metadata": {
    "slideshow": {
     "slide_type": "slide"
    }
   },
   "source": [
    "\n",
    "\n",
    "1. The \"SeqRecord\" objects the identifiers are stored as standard Python strings (e.g. \".id\"). For the sequence, Biopython uses a string-like \"Seq\" object, accessed as \".seq\".\n",
    "\n",
    "2. In many ways the \"Seq\" objects act like Python strings, you can print them, take their length using the \"len(...)\" function, and slice them with square brackets to get a sub-sequence or a single letter.\n"
   ]
  },
  {
   "cell_type": "markdown",
   "metadata": {
    "slideshow": {
     "slide_type": "slide"
    }
   },
   "source": [
    "## Record Lengths\n",
    "\n",
    "1. Using \"SeqIO.parse(...)\" in a for loop, for each record print out the identifier, the first 10 letters of each sequences, the last 10 letters\n"
   ]
  },
  {
   "cell_type": "code",
   "execution_count": null,
   "metadata": {
    "collapsed": false,
    "slideshow": {
     "slide_type": "slide"
    }
   },
   "outputs": [],
   "source": [
    "from Bio import SeqIO\n",
    "filename = \"data/ebola.fa\"\n",
    "for record in SeqIO.parse(filename, \"fasta\"):\n",
    "    start_seq = record.seq[:10] # first 10 letters\n",
    "    end_seq = record.seq[-10:] # last 10 letters\n",
    "    print(record.id + \" \" + start_seq + \"...\" + end_seq)"
   ]
  },
  {
   "cell_type": "markdown",
   "metadata": {
    "slideshow": {
     "slide_type": "slide"
    }
   },
   "source": [
    "## Check for Initial Methionine"
   ]
  },
  {
   "cell_type": "code",
   "execution_count": 11,
   "metadata": {
    "collapsed": false,
    "slideshow": {
     "slide_type": "fragment"
    }
   },
   "outputs": [
    {
     "name": "stdout",
     "output_type": "stream",
     "text": [
      "Found 0 records in data/ebola.faa which did NOT start with M\n"
     ]
    }
   ],
   "source": [
    "from Bio import SeqIO\n",
    "\n",
    "filename = \"data/ebola.faa\"\n",
    "bad = 0\n",
    "for record in SeqIO.parse(filename, \"fasta\"):\n",
    "    if not record.seq.startswith(\"M\"):\n",
    "        bad = bad + 1\n",
    "        print(record.id + \" starts \" + record.seq[0])\n",
    "\n",
    "print(\"Found \" + str(bad) + \" records in \" + filename + \" which did NOT start with M\")"
   ]
  },
  {
   "cell_type": "markdown",
   "metadata": {
    "slideshow": {
     "slide_type": "subslide"
    }
   },
   "source": [
    "Excercise:\n",
    "\n",
    "   1. Modify this script to print out the description of the problem records, not just the identifier. *Tip*: Try reading the documentation, e.g. Biopython's wiki page on the `SeqRecord <http://biopython.org/wiki/SeqRecord>`.\n"
   ]
  },
  {
   "cell_type": "markdown",
   "metadata": {
    "slideshow": {
     "slide_type": "slide"
    }
   },
   "source": [
    "## Check for Stop Codons\n",
    "\n",
    "1. Let's check the example protein FASTA files for any \"*\" symbols in the sequence. For this you can use several of the standard Python string operations which also apply to \"Seq\" objects\n"
   ]
  },
  {
   "cell_type": "code",
   "execution_count": 13,
   "metadata": {
    "collapsed": false,
    "slideshow": {
     "slide_type": "slide"
    }
   },
   "outputs": [
    {
     "name": "stdout",
     "output_type": "stream",
     "text": [
      "Checking data/ebola.faa for terminal stop codons\n",
      "8 records with * in them\n",
      "7 with * at the end\n"
     ]
    }
   ],
   "source": [
    "from Bio import SeqIO\n",
    "filename = \"data/ebola.faa\"\n",
    "contains_star = 0\n",
    "ends_with_star = 0\n",
    "print(\"Checking \" + filename + \" for terminal stop codons\")\n",
    "for record in SeqIO.parse(filename, \"fasta\"):\n",
    "    if record.seq.count(\"*\"):\n",
    "        contains_star = contains_star + 1\n",
    "    if record.seq.endswith(\"*\"):\n",
    "        ends_with_star = ends_with_star + 1\n",
    "print(str(contains_star) + \" records with * in them\")\n",
    "print(str(ends_with_star) + \" with * at the end\")"
   ]
  },
  {
   "cell_type": "markdown",
   "metadata": {
    "slideshow": {
     "slide_type": "slide"
    }
   },
   "source": [
    "## Different File Formats:\n",
    "\n",
    "1. If you work with finished genomes, you'll often see nicely annotated files in the EMBL or GenBank format. Let's try this with the *Ebola* GenBank file, \"data/ebola.gbk\", based on the previous example:\n"
   ]
  },
  {
   "cell_type": "code",
   "execution_count": null,
   "metadata": {
    "collapsed": false,
    "slideshow": {
     "slide_type": "slide"
    }
   },
   "outputs": [],
   "source": [
    "from Bio import SeqIO\n",
    "genbank_record = SeqIO.read(\"data/ebola.gb\", \"genbank\")\n",
    "print(genbank_record.id + \" length \" + str(len(genbank_record)))"
   ]
  },
  {
   "cell_type": "code",
   "execution_count": null,
   "metadata": {
    "collapsed": false,
    "slideshow": {
     "slide_type": "fragment"
    }
   },
   "outputs": [],
   "source": [
    "from Bio import SeqIO\n",
    "help(SeqIO.convert)"
   ]
  },
  {
   "cell_type": "code",
   "execution_count": null,
   "metadata": {
    "collapsed": false,
    "slideshow": {
     "slide_type": "fragment"
    }
   },
   "outputs": [],
   "source": [
    "from Bio import SeqIO\n",
    "input_filename = \"data/ebola.gb\"\n",
    "output_filename = \"data/ebola.fasta\"\n",
    "count = SeqIO.convert(input_filename, \"gb\", output_filename, \"fasta\")\n",
    "print(str(count) + \" records converted\")"
   ]
  },
  {
   "cell_type": "markdown",
   "metadata": {
    "slideshow": {
     "slide_type": "subslide"
    }
   },
   "source": [
    "### Exercise: \n",
    "   \n",
    "   1.Modify this to add command line parsing to take the input and output filenames as arguments\n"
   ]
  },
  {
   "cell_type": "markdown",
   "metadata": {
    "slideshow": {
     "slide_type": "slide"
    }
   },
   "source": [
    "## Filtering a Sequence File: \n",
    "\n",
    "1. Suppose we wanted to filter a FASTA file by length, for example exclude protein sequences less than 500 amino acids long."
   ]
  },
  {
   "cell_type": "code",
   "execution_count": 14,
   "metadata": {
    "collapsed": false,
    "slideshow": {
     "slide_type": "slide"
    }
   },
   "outputs": [
    {
     "name": "stdout",
     "output_type": "stream",
     "text": [
      "3 records selected out of 9\n"
     ]
    }
   ],
   "source": [
    "from Bio import SeqIO\n",
    "\n",
    "input_filename = \"data/ebola.faa\"\n",
    "output_filename = \"data/ebola_long_only.faa\"\n",
    "\n",
    "count = 0\n",
    "total = 0\n",
    "\n",
    "output_handle = open(output_filename, \"w\")\n",
    "\n",
    "for record in SeqIO.parse(input_filename, \"fasta\"):\n",
    "    total = total + 1\n",
    "    if 500 <= len(record.seq):\n",
    "        count = count + 1\n",
    "        SeqIO.write(record, output_handle, \"fasta\")\n",
    "\n",
    "output_handle.close()\n",
    "print(str(count) + \" records selected out of \" + str(total))"
   ]
  },
  {
   "cell_type": "markdown",
   "metadata": {
    "slideshow": {
     "slide_type": "slide"
    }
   },
   "source": [
    "## Editing Sequences\n",
    "\n",
    "1. Previous examples had a terminal \"*” character (stop codon). Python strings, Biopython \"Seq\" and \"SeqRecord\" objects can all be *sliced* to extract a sub-sequence or partial record. In this case, we want to take everything up to but excluding the final letter:\n"
   ]
  },
  {
   "cell_type": "code",
   "execution_count": 15,
   "metadata": {
    "collapsed": false,
    "slideshow": {
     "slide_type": "slide"
    }
   },
   "outputs": [],
   "source": [
    "from Bio import SeqIO\n",
    "input_filename = \"data/ebola.faa\"\n",
    "output_filename = \"data/ebola_no_stars.faa\"\n",
    "output_handle = open(output_filename, \"w\")\n",
    "for record in SeqIO.parse(input_filename, \"fasta\"):\n",
    "    if record.seq.endswith(\"*\"):\n",
    "        record = record[:-1]\n",
    "        SeqIO.write(record,output_handle, \"fasta\")\n",
    "    else:\n",
    "        SeqIO.write(record,output_handle, \"fasta\")\n",
    "        \n",
    "output_handle.close()"
   ]
  },
  {
   "cell_type": "markdown",
   "metadata": {
    "slideshow": {
     "slide_type": "slide"
    }
   },
   "source": [
    "## Filtering by Record Name\n",
    "\n",
    "1. A very common task is pulling out particular sequences from a large sequence file. Membership testing with Python lists (or sets) is one neat way to do this.\n",
    "\n",
    "2. Write a new script starting as follows which writes out the potato proteins on this list\n"
   ]
  },
  {
   "cell_type": "code",
   "execution_count": null,
   "metadata": {
    "collapsed": false,
    "slideshow": {
     "slide_type": "slide"
    }
   },
   "outputs": [],
   "source": [
    "from Bio import SeqIO\n",
    "wanted_ids = [\"VP30\", \"VP35\", \"VP40\"]\n",
    "input_filename = \"data/ebola.faa\"\n",
    "output_filename = \"data/wanted_proteins.fasta\"\n",
    "count = 0\n",
    "total = 0\n",
    "output_handle = open(output_filename, \"w\")\n",
    "for record in SeqIO.parse(input_filename, \"fasta\"):\n",
    "    total = total + 1\n",
    "    if record.id in wanted_ids:\n",
    "        count = count + 1\n",
    "        SeqIO.write(record, output_handle, \"fasta\")\n",
    "output_handle.close()\n",
    "print(str(count) + \" records selected out of \" + str(total))"
   ]
  },
  {
   "cell_type": "markdown",
   "metadata": {
    "slideshow": {
     "slide_type": "subslide"
    }
   },
   "source": [
    "### Advanced Exercise \n",
    "\n",
    "    A. Modify this to read the list of wanted identifiers from a plain text input file (one identifier per line).\n",
    "\n",
    "### Discussion:\n",
    "\n",
    "    A. What happens if a wanted identifier is not in the input file? \n",
    "    \n",
    "    B. What happens if an identifier appears twice? \n",
    "    \n",
    "    C. What order is the output file?\n"
   ]
  },
  {
   "cell_type": "markdown",
   "metadata": {
    "slideshow": {
     "slide_type": "slide"
    }
   },
   "source": [
    "## Histogram of sequence lengths"
   ]
  },
  {
   "cell_type": "code",
   "execution_count": 19,
   "metadata": {
    "collapsed": false,
    "slideshow": {
     "slide_type": "slide"
    }
   },
   "outputs": [
    {
     "data": {
      "image/png": "[encoded data removed]",
      "text/plain": [
       "<matplotlib.figure.Figure at 0x10e90a278>"
      ]
     },
     "metadata": {},
     "output_type": "display_data"
    }
   ],
   "source": [
    "%matplotlib inline\n",
    "\n",
    "from Bio import SeqIO\n",
    "#list compression command = enclosing for loop in []\n",
    "sizes = [len(rec) for rec in SeqIO.parse(\"data/ls_orchid.fasta\", \"fasta\")]\n",
    "\n",
    "import pylab\n",
    "pylab.hist(sizes, bins=30)\n",
    "pylab.title(\"%i orchid sequences\\nLengths %i to %i\" \\\n",
    "            % (len(sizes),min(sizes),max(sizes)))\n",
    "pylab.xlabel(\"Sequence length (bp)\")\n",
    "pylab.ylabel(\"Count\")\n",
    "pylab.show()"
   ]
  },
  {
   "cell_type": "markdown",
   "metadata": {
    "slideshow": {
     "slide_type": "slide"
    }
   },
   "source": [
    "## Reading Multiple Sequence Alignments"
   ]
  },
  {
   "cell_type": "code",
   "execution_count": 20,
   "metadata": {
    "collapsed": false,
    "scrolled": true,
    "slideshow": {
     "slide_type": "slide"
    }
   },
   "outputs": [
    {
     "name": "stdout",
     "output_type": "stream",
     "text": [
      "SingleLetterAlphabet() alignment with 7 rows and 52 columns\n",
      "AEPNAATNYATEAMDSLKTQAIDLISQTWPVVTTVVVAGLVIRL...SKA COATB_BPIKE/30-81\n",
      "AEPNAATNYATEAMDSLKTQAIDLISQTWPVVTTVVVAGLVIKL...SRA Q9T0Q8_BPIKE/1-52\n",
      "DGTSTATSYATEAMNSLKTQATDLIDQTWPVVTSVAVAGLAIRL...SKA COATB_BPI22/32-83\n",
      "AEGDDP---AKAAFNSLQASATEYIGYAWAMVVVIVGATIGIKL...SKA COATB_BPM13/24-72\n",
      "AEGDDP---AKAAFDSLQASATEYIGYAWAMVVVIVGATIGIKL...SKA COATB_BPZJ2/1-49\n",
      "AEGDDP---AKAAFDSLQASATEYIGYAWAMVVVIVGATIGIKL...SKA Q9T0Q9_BPFD/1-49\n",
      "FAADDATSQAKAAFDSLTAQATEMSGYAWALVVLVVGATVGIKL...SRA COATB_BPIF1/22-73\n"
     ]
    }
   ],
   "source": [
    "from Bio import AlignIO\n",
    "alignment = AlignIO.read(\"data/PF05371_seed.sth\", \"stockholm\")\n",
    "print(alignment)"
   ]
  },
  {
   "cell_type": "markdown",
   "metadata": {
    "slideshow": {
     "slide_type": "slide"
    }
   },
   "source": [
    "In many ways, the alignment acts like a list of \"SeqRecord\" objects (just like you would get from \"SeqIO\"). \n"
   ]
  },
  {
   "cell_type": "code",
   "execution_count": 21,
   "metadata": {
    "collapsed": false,
    "slideshow": {
     "slide_type": "fragment"
    }
   },
   "outputs": [
    {
     "name": "stdout",
     "output_type": "stream",
     "text": [
      "7\n"
     ]
    }
   ],
   "source": [
    "print(len(alignment))"
   ]
  },
  {
   "cell_type": "markdown",
   "metadata": {
    "slideshow": {
     "slide_type": "fragment"
    }
   },
   "source": [
    "The length of the alignment is the number of rows for example, and you can loop over the rows as individual \"SeqRecord\" objects:\n"
   ]
  },
  {
   "cell_type": "code",
   "execution_count": 22,
   "metadata": {
    "collapsed": false,
    "slideshow": {
     "slide_type": "slide"
    }
   },
   "outputs": [
    {
     "name": "stdout",
     "output_type": "stream",
     "text": [
      "COATB_BPIKE/30-81 has 0 gaps\n",
      "Q9T0Q8_BPIKE/1-52 has 0 gaps\n",
      "COATB_BPI22/32-83 has 0 gaps\n",
      "COATB_BPM13/24-72 has 3 gaps\n",
      "COATB_BPZJ2/1-49 has 3 gaps\n",
      "Q9T0Q9_BPFD/1-49 has 3 gaps\n",
      "COATB_BPIF1/22-73 has 0 gaps\n"
     ]
    }
   ],
   "source": [
    "for record in alignment:\n",
    "    print(record.id + \" has \" + str(record.seq.count(\"-\")) + \" gaps\")"
   ]
  },
  {
   "cell_type": "markdown",
   "metadata": {
    "slideshow": {
     "slide_type": "subslide"
    }
   },
   "source": [
    "## Exercise:\n",
    "    \n",
    "    A. Write a python script called \"count_gaps.py\" which reports the number or records, the total number of gaps, and the mean (average) number of gaps per record:\n"
   ]
  },
  {
   "cell_type": "markdown",
   "metadata": {
    "slideshow": {
     "slide_type": "slide"
    }
   },
   "source": [
    "## Writing Multiple Sequence Alignment Files\n",
    "\n",
    "1. As you might guess from using \"SeqIO.convert(...)\" and \"SeqIO.write(...)\", there are matching \"AlignIO.convert()\" and \"AlignIO.write(...)\" functions.\n",
    "\n",
    "2. For example, this will convert the Stockholm formatted alignment into a relaxed PHYLIP format file:\n",
    "\n"
   ]
  },
  {
   "cell_type": "code",
   "execution_count": null,
   "metadata": {
    "collapsed": false,
    "slideshow": {
     "slide_type": "fragment"
    }
   },
   "outputs": [],
   "source": [
    "from Bio import AlignIO\n",
    "input_filename = \"data/PF05371_seed.sth\"\n",
    "output_filename = \"data/PF05371_seed_converted.phy\"\n",
    "AlignIO.convert(input_filename, \"stockholm\", output_filename, \"phylip-relaxed\")"
   ]
  },
  {
   "cell_type": "markdown",
   "metadata": {
    "slideshow": {
     "slide_type": "subslide"
    }
   },
   "source": [
    "Homework: \n",
    "\n",
    "1. Modify this example to convert the Stockholm file into a FASTA alignment file.\n"
   ]
  },
  {
   "cell_type": "markdown",
   "metadata": {
    "slideshow": {
     "slide_type": "slide"
    }
   },
   "source": [
    "## Sorting the Rows\n",
    "\n",
    "How you can sort the rows by identifier within Biopython:\n"
   ]
  },
  {
   "cell_type": "code",
   "execution_count": null,
   "metadata": {
    "collapsed": false,
    "slideshow": {
     "slide_type": "fragment"
    }
   },
   "outputs": [],
   "source": [
    "from Bio import AlignIO\n",
    "alignment = AlignIO.read(\"data/PF05371_seed.sth\", \"stockholm\")\n",
    "alignment.sort()\n",
    "print(alignment)"
   ]
  },
  {
   "cell_type": "markdown",
   "metadata": {
    "slideshow": {
     "slide_type": "subslide"
    }
   },
   "source": [
    "### Exercise:\n",
    "    \n",
    "1. Write a Python script \"sort_alignment_by_id.py\" which uses \"AlignIO.read(..)\" and \"AlignIO.write(..)\" to convert \"PF08792_seed.sth\" into a sorted FASTA file.\n",
    "    \n",
    "2. By default the alignment's sort method uses the identifers as the sort key, but much like how sorting a Python list works, you can override this.\n",
    "\n",
    "3. Define your own function taking a single argument (a \"SeqRecord\") which returns the number of gaps in the sequence. Use this to sort the alignment and print it to screen (or save it as a new file)\n"
   ]
  },
  {
   "cell_type": "markdown",
   "metadata": {
    "slideshow": {
     "slide_type": "slide"
    }
   },
   "source": [
    "# Sequence Features"
   ]
  },
  {
   "cell_type": "markdown",
   "metadata": {
    "slideshow": {
     "slide_type": "fragment"
    }
   },
   "source": [
    "## Working with Sequence Features\n",
    "1. Most of the time GenBank files contain a single record for a single chromosome or plasmid, so we'll generally use the \"SeqIO.read(...)\" function. Remember the second argument is the file format, so if we start from the code to read in a FASTA file\n"
   ]
  },
  {
   "cell_type": "code",
   "execution_count": 23,
   "metadata": {
    "collapsed": false,
    "slideshow": {
     "slide_type": "fragment"
    }
   },
   "outputs": [
    {
     "name": "stdout",
     "output_type": "stream",
     "text": [
      "NC_002549.1\n"
     ]
    }
   ],
   "source": [
    "from Bio import SeqIO\n",
    "record = SeqIO.read(\"data/ebola.gbk\", \"gb\")\n",
    "print(record.id)"
   ]
  },
  {
   "cell_type": "code",
   "execution_count": 24,
   "metadata": {
    "collapsed": false,
    "slideshow": {
     "slide_type": "slide"
    }
   },
   "outputs": [
    {
     "name": "stdout",
     "output_type": "stream",
     "text": [
      "NC_002549.1\n",
      "18959\n",
      "49\n"
     ]
    }
   ],
   "source": [
    "from Bio import SeqIO\n",
    "record = SeqIO.read(\"data/ebola.gbk\", \"genbank\")\n",
    "print(record.id)\n",
    "print(len(record))\n",
    "print(len(record.features))\n"
   ]
  },
  {
   "cell_type": "code",
   "execution_count": 25,
   "metadata": {
    "collapsed": false,
    "slideshow": {
     "slide_type": "fragment"
    }
   },
   "outputs": [
    {
     "name": "stdout",
     "output_type": "stream",
     "text": [
      "type: mRNA\n",
      "location: [55:3026](+)\n",
      "qualifiers:\n",
      "    Key: db_xref, Value: ['GeneID:911830']\n",
      "    Key: gene, Value: ['NP']\n",
      "    Key: locus_tag, Value: ['ZEBOVgp1']\n",
      "    Key: product, Value: ['nucleoprotein']\n",
      "\n"
     ]
    }
   ],
   "source": [
    "my_gene = record.features[3]\n",
    "print(my_gene)"
   ]
  },
  {
   "cell_type": "markdown",
   "metadata": {
    "slideshow": {
     "slide_type": "slide"
    }
   },
   "source": [
    "Doing a print like this tries to give a human readable display. There are three key properties:\n",
    "    \n",
    "    1. \".type\" which is a string like \"gene\" or \"CDS\"\n",
    "\n",
    "    2. \".location\" which describes where on the genome this feature is, and\n",
    "    \n",
    "    3. \".qualifiers\" which is a Python dictionary full of all the annotation for the feature (things like gene identifiers).\n",
    "    \n",
    "This is what this gene looks like in the raw GenBank file::\n",
    "\n",
    "gene     337..2799\n",
    "\t/gene=\"thrA”\n",
    "\t/locus_tag=\"b0002\n",
    "\t/gene_synonym=\"ECK0002; Hs; JW0001; thrA1; thrA2; thrD”\n",
    "\t/db_xref=\"EcoGene:EG10998”\n",
    "\t/db_xref=\"GeneID:945803”\n",
    "\n"
   ]
  },
  {
   "cell_type": "markdown",
   "metadata": {
    "slideshow": {
     "slide_type": "slide"
    }
   },
   "source": [
    "## Sequence Features: Feature Locations\n",
    "\n",
    "We're going to focus on using the location information for different feature types. Continuint with the same example:"
   ]
  },
  {
   "cell_type": "code",
   "execution_count": null,
   "metadata": {
    "collapsed": false,
    "slideshow": {
     "slide_type": "slide"
    }
   },
   "outputs": [],
   "source": [
    "from Bio import SeqIO\n",
    "record = SeqIO.read(\"data/ebola.gbk\", \"genbank\")\n",
    "my_gene = record.features[3]\n",
    "print(my_gene.qualifiers[\"locus_tag\"])"
   ]
  },
  {
   "cell_type": "code",
   "execution_count": null,
   "metadata": {
    "collapsed": false,
    "slideshow": {
     "slide_type": "fragment"
    }
   },
   "outputs": [],
   "source": [
    "print(my_gene.location)"
   ]
  },
  {
   "cell_type": "code",
   "execution_count": null,
   "metadata": {
    "collapsed": false,
    "slideshow": {
     "slide_type": "fragment"
    }
   },
   "outputs": [],
   "source": [
    "print(my_gene.location.start)"
   ]
  },
  {
   "cell_type": "code",
   "execution_count": null,
   "metadata": {
    "collapsed": false,
    "slideshow": {
     "slide_type": "fragment"
    }
   },
   "outputs": [],
   "source": [
    "print(my_gene.location.end)"
   ]
  },
  {
   "cell_type": "code",
   "execution_count": null,
   "metadata": {
    "collapsed": false,
    "slideshow": {
     "slide_type": "fragment"
    }
   },
   "outputs": [],
   "source": [
    "print(my_gene.location.strand)"
   ]
  },
  {
   "cell_type": "markdown",
   "metadata": {
    "slideshow": {
     "slide_type": "slide"
    }
   },
   "source": [
    "## Extracting Info from GenBank record"
   ]
  },
  {
   "cell_type": "code",
   "execution_count": null,
   "metadata": {
    "collapsed": false,
    "slideshow": {
     "slide_type": "fragment"
    }
   },
   "outputs": [],
   "source": [
    "from Bio import SeqIO\n",
    "for index, record in enumerate(SeqIO.parse(open(\"data/ebola.gbk\"), \"genbank\")):\n",
    "     print(\"index %i, ID = %s, length %i, with %i feat. \" \\\n",
    "\t% (index, record.id, len(record.seq), len(record.features)))"
   ]
  },
  {
   "cell_type": "markdown",
   "metadata": {
    "slideshow": {
     "slide_type": "slide"
    }
   },
   "source": [
    "## BLAST"
   ]
  },
  {
   "cell_type": "markdown",
   "metadata": {
    "slideshow": {
     "slide_type": "slide"
    }
   },
   "source": [
    "## A Few BLAST Details\n",
    "\n",
    "(note: there was a picture on this slide. I need to figure that out)"
   ]
  },
  {
   "cell_type": "markdown",
   "metadata": {
    "collapsed": true,
    "slideshow": {
     "slide_type": "slide"
    }
   },
   "source": [
    "## BLAST Output (Text)\n",
    "    BLASTN 2.2.28+\n",
    "    Reference: Zheng Zhang, Scott Schwartz, Lukas Wagner, and\n",
    "    Webb Miller (2000), \"A greedy algorithm for aligning DNA\n",
    "    sequences\", J Comput Biol 2000; 7(1-2):203-14.\n",
    "\n",
    "    Reference for database indexing: Aleksandr Morgulis, George\n",
    "    Coulouris, Yan Raytselis, Thomas L. Madden, Richa Agarwala,\n",
    "    Alejandro A. Schaffer (2008), \"Database Indexing for\n",
    "    Production MegaBLAST Searches\", Bioinformatics 24:1757-1764.\n",
    "\n",
    "    RID: SJ2EFD07014\n",
    "\n",
    "    Database: Nucleotide collection (nt)\n",
    "               26,000,382 sequences; 49,159,429,833 total letters\n",
    "    Query= gi|2765658|emb|Z78533.1| C.irapeanum 5.8S rRNA gene and ITS1 and ITS2\n",
    "    DNA\n",
    "\n",
    "    Length=740\n",
    "\n",
    "                                                                 Score     E\n",
    "    Sequences producing significant alignments:                       (Bits)  Value\n",
    "\n",
    "    emb|Z78533.1|  C.irapeanum 5.8S rRNA gene and ITS1 and ITS2 DNA     1367   0.0   \n",
    "    emb|FR720328.1|  Cypripedium irapeanum ITS1, 5.8S rRNA gene, I...   1210   0.0  \n"
   ]
  },
  {
   "cell_type": "markdown",
   "metadata": {
    "slideshow": {
     "slide_type": "slide"
    }
   },
   "source": [
    "## BLAST Output (XML)\n",
    "\n",
    "    <?xml version=\"1.0\"?>\n",
    "    <!DOCTYPE BlastOutput PUBLIC \"-//NCBI//NCBI BlastOutput/EN\" \"http://www.ncbi.nlm.nih.gov/dtd/NCBI_BlastOutput.dtd\">\n",
    "    <BlastOutput>\n",
    "      <BlastOutput_program>blastn</BlastOutput_program>\n",
    "      <BlastOutput_version>BLASTN 2.2.28+</BlastOutput_version>\n",
    "      <BlastOutput_reference>Zheng Zhang, Scott Schwartz, Lukas Wagner, and Webb Miller (2000), &quot;A greedy algorithm for aligning DNA sequences&quot;, J Comput Biol 2000; 7(1-2):203-14.</BlastOutput_reference>\n",
    "      <BlastOutput_db>nr</BlastOutput_db>\n",
    "      <BlastOutput_query-ID>gi|2765658|emb|Z78533.1|</BlastOutput_query-ID>\n",
    "      <BlastOutput_query-def>C.irapeanum 5.8S rRNA gene and ITS1 and ITS2 DNA</BlastOutput_query-def>\n",
    "      <BlastOutput_query-len>740</BlastOutput_query-len>\n",
    "      <BlastOutput_param>\n",
    "        <Parameters>\n",
    "          <Parameters_expect>10</Parameters_expect>\n",
    "          <Parameters_sc-match>1</Parameters_sc-match>\n",
    "          <Parameters_sc-mismatch>-2</Parameters_sc-mismatch>\n",
    "          <Parameters_gap-open>0</Parameters_gap-open>\n",
    "          <Parameters_gap-extend>0</Parameters_gap-extend>\n",
    "          <Parameters_filter>L;m;</Parameters_filter>\n",
    "        </Parameters>\n",
    "      </BlastOutput_param>\n",
    "    <BlastOutput_iterations>\n",
    "    <Iteration>\n",
    "      <Iteration_iter-num>1</Iteration_iter-num>\n",
    "      <Iteration_query-ID>gi|2765658|emb|Z78533.1|</Iteration_query-ID>\n",
    "      <Iteration_query-def>C.irapeanum 5.8S rRNA gene and ITS1 and ITS2 DNA</Iteration_query-def>\n",
    "      <Iteration_query-len>740</Iteration_query-len>\n",
    "    <Iteration_hits>\n"
   ]
  },
  {
   "cell_type": "markdown",
   "metadata": {
    "slideshow": {
     "slide_type": "slide"
    }
   },
   "source": [
    "## BLAST a Sequence to File"
   ]
  },
  {
   "cell_type": "code",
   "execution_count": 26,
   "metadata": {
    "collapsed": false,
    "slideshow": {
     "slide_type": "slide"
    }
   },
   "outputs": [
    {
     "data": {
      "text/plain": [
       "1"
      ]
     },
     "execution_count": 26,
     "metadata": {},
     "output_type": "execute_result"
    }
   ],
   "source": [
    "from Bio import SeqIO\n",
    "SeqIO.convert(\"data/ebola.gbk\", \"gb\", \"data/ebola.fa\", \"fasta\")"
   ]
  },
  {
   "cell_type": "code",
   "execution_count": 27,
   "metadata": {
    "collapsed": false,
    "slideshow": {
     "slide_type": "fragment"
    }
   },
   "outputs": [],
   "source": [
    "from Bio.Blast import NCBIWWW\n",
    "from Bio import SeqIO\n",
    "\n",
    "record = SeqIO.read(open(\"data/ebola.fa\"), format=\"fasta\")\n",
    "result_handle = NCBIWWW.qblast(\"blastn\", \"nt\", record.seq)\n",
    "save_file = open(\"my_blast.xml\", \"w\")\n",
    "save_file.write(result_handle.read())\n",
    "save_file.close()\n",
    "result_handle.close()"
   ]
  },
  {
   "cell_type": "markdown",
   "metadata": {
    "slideshow": {
     "slide_type": "slide"
    }
   },
   "source": [
    "## Parse BLAST Output"
   ]
  },
  {
   "cell_type": "code",
   "execution_count": 28,
   "metadata": {
    "collapsed": false,
    "slideshow": {
     "slide_type": "fragment"
    }
   },
   "outputs": [
    {
     "name": "stdout",
     "output_type": "stream",
     "text": [
      "****Alignment****\n",
      "sequence: gi|10141003|gb|AF086833.2| Ebola virus - Mayinga, Zaire, 1976, complete genome\n",
      "length: 18959\n",
      "e value: 0.0\n",
      "CGGACACACAAAAAGAAAGAAGAATTTTTAGGATCTTTTGTGTGCGAATAACTATGAGGAAGATTAATAATTTTC...\n",
      "|||||||||||||||||||||||||||||||||||||||||||||||||||||||||||||||||||||||||||...\n",
      "CGGACACACAAAAAGAAAGAAGAATTTTTAGGATCTTTTGTGTGCGAATAACTATGAGGAAGATTAATAATTTTC...\n",
      "****Alignment****\n",
      "sequence: gi|23630482|gb|AY142960.1| Zaire Ebola virus strain Mayinga subtype Zaire, complete genome\n",
      "length: 18959\n",
      "e value: 0.0\n",
      "CGGACACACAAAAAGAAAGAAGAATTTTTAGGATCTTTTGTGTGCGAATAACTATGAGGAAGATTAATAATTTTC...\n",
      "|||||||||||||||||||||||||||||||||||||||||||||||||||||||||||||||||||||||||||...\n",
      "CGGACACACAAAAAGAAAGAAGAATTTTTAGGATCTTTTGTGTGCGAATAACTATGAGGAAGATTAATAATTTTC...\n",
      "****Alignment****\n",
      "sequence: gi|803773858|gb|KR063671.1| Ebola virus isolate Ebola virus/H.sapiens-tc/COD/1976/Yambuku-Mayinga, complete genome\n",
      "length: 18957\n",
      "e value: 0.0\n",
      "GGACACACAAAAAGAAAGAAGAATTTTTAGGATCTTTTGTGTGCGAATAACTATGAGGAAGATTAATAATTTTCC...\n",
      "|||||||||||||||||||||||||||||||||||||||||||||||||||||||||||||||||||||||||||...\n",
      "GGACACACAAAAAGAAAGAAGAATTTTTAGGATCTTTTGTGTGCGAATAACTATGAGGAAGATTAATAATTTTCC...\n",
      "****Alignment****\n",
      "sequence: gi|436409439|gb|KC242801.1| Zaire ebolavirus isolate EBOV/H.sapiens-tc/COD/1976/deRoover, complete genome\n",
      "length: 18959\n",
      "e value: 0.0\n",
      "CGGACACACAAAAAGAAAGAAGAATTTTTAGGATCTTTTGTGTGCGAATAACTATGAGGAAGATTAATAATTTTC...\n",
      "|||||||||||||||||||||||||||||||||||||||||||||||||||||||||||||||||||||||||||...\n",
      "CGGACACACAAAAAGAAAGAAGAATTTTTAGGATCTTTTGTGTGCGAATAACTATGAGGAAGATTAATAATTTTC...\n",
      "****Alignment****\n",
      "sequence: gi|436409339|gb|KC242791.1| Zaire ebolavirus isolate EBOV/H.sapiens-tc/COD/1977/Bonduni, complete genome\n",
      "length: 18959\n",
      "e value: 0.0\n",
      "CGGACACACAAAAAGAAAGAAGAATTTTTAGGATCTTTTGTGTGCGAATAACTATGAGGAAGATTAATAATTTTC...\n",
      "|||||||||||||||||||||||||||||||||||||||||||||||||||||||||||||||||||||||||||...\n",
      "CGGACACACAAAAAGAAAGAAGAATTTTTAGGATCTTTTGTGTGCGAATAACTATGAGGAAGATTAATAATTTTC...\n",
      "****Alignment****\n",
      "sequence: gi|566573369|gb|KF827427.1| Mutant Zaire ebolavirus, complete sequence\n",
      "length: 18959\n",
      "e value: 0.0\n",
      "CGGACACACAAAAAGAAAGAAGAATTTTTAGGATCTTTTGTGTGCGAATAACTATGAGGAAGATTAATAATTTTC...\n",
      "|||||||||||||||||||||||||||||||||||||||||||||||||||||||||||||||||||||||||||...\n",
      "CGGACACACAAAAAGAAAGAAGAATTTTTAGGATCTTTTGTGTGCGAATAACTATGAGGAAGATTAATAATTTTC...\n",
      "****Alignment****\n",
      "sequence: gi|11761745|gb|AF272001.1| Zaire Ebola virus strain Mayinga, complete genome\n",
      "length: 18959\n",
      "e value: 0.0\n",
      "CGGACACACAAAAAGAAAGAAGAATTTTTAGGATCTTTTGTGTGCGAATAACTATGAGGAAGATTAATAATTTTC...\n",
      "|||||||||||||||||||||||||||||||||||||||||||||||||||||||||||||||||||||||||||...\n",
      "CGGACACACAAAAAGAAAGAAGAATTTTTAGGATCTTTTGTGTGCGAATAACTATGAGGAAGATTAATAATTTTC...\n",
      "****Alignment****\n",
      "sequence: gi|21702647|gb|AF499101.1| Zaire Ebola virus strain Mayinga, complete genome\n",
      "length: 18960\n",
      "e value: 0.0\n",
      "CGGACACACAAAAAGAAAGAAGAATTTTTAGGATCTTTTGTGTGCGAATAACTATGAGGAAGATTAATAATTTTC...\n",
      "|||||||||||||||||||||||||||||||||||||||||||||||||||||||||||||||||||||||||||...\n",
      "CGGACACACAAAAAGAAAGAAGAATTTTTAGGATCTTTTGTGTGCGAATAACTATGAGGAAGATTAATAATTTTC...\n",
      "****Alignment****\n",
      "sequence: gi|297340571|gb|EU224440.2| Zaire ebolavirus strain Mayinga, complete genome\n",
      "length: 18959\n",
      "e value: 0.0\n",
      "CGGACACACAAAAAGAAAGAAGAATTTTTAGGATCTTTTGTGTGCGAATAACTATGAGGAAGATTAATAATTTTC...\n",
      "|||||||||||||||||||||||||||||||||||||||||||||||||||||||||||||||||||||||||||...\n",
      "CGGACACACAAAAAGAAAGAAGAATTTTTAGGATCTTTTGTGTGCGAATAACTATGAGGAAGATTAATAATTTTC...\n",
      "****Alignment****\n",
      "sequence: gi|692112628|gb|KM655246.1| Zaire ebolavirus isolate Ebola virus/H.sapiens-tc/COD/1976/Yambuku-Ecran, complete genome\n",
      "length: 18797\n",
      "e value: 0.0\n",
      "GAATAACTATGAGGAAGATTAATAATTTTCCTCTCATTGAAATTTATATCGGAATTTAAATTGAAATTGTTACTG...\n",
      "|||||||||||||||||||||||||||||||||||||||||||||||||||||||||||||||||||||| ||||...\n",
      "GAATAACTATGAGGAAGATTAATAATTTTCCTCTCATTGAAATTTATATCGGAATTTAAATTGAAATTGTCACTG...\n",
      "****Alignment****\n",
      "sequence: gi|965570353|gb|KU182909.1| Ebola virus isolate Ebola virus/H. sapiens-tc/COD/1995/Kikwit-9510622, complete genome\n",
      "length: 18959\n",
      "e value: 0.0\n",
      "CGGACACACAAAAAGAAAGAAGAATTTTTAGGATCTTTTGTGTGCGAATAACTATGAGGAAGATTAATAATTTTC...\n",
      "|||||||||||||||||||||||||||||||||||||||||||||||||||||||||||||||||||||||||||...\n",
      "CGGACACACAAAAAGAAAGAAGAATTTTTAGGATCTTTTGTGTGCGAATAACTATGAGGAAGATTAATAATTTTC...\n",
      "****Alignment****\n",
      "sequence: gi|965570341|gb|KU182908.1| Ebola virus isolate Ebola virus/H. sapiens-tc/COD/1995/Kikwit-9510632, complete genome\n",
      "length: 18959\n",
      "e value: 0.0\n",
      "CGGACACACAAAAAGAAAGAAGAATTTTTAGGATCTTTTGTGTGCGAATAACTATGAGGAAGATTAATAATTTTC...\n",
      "|||||||||||||||||||||||||||||||||||||||||||||||||||||||||||||||||||||||||||...\n",
      "CGGACACACAAAAAGAAAGAAGAATTTTTAGGATCTTTTGTGTGCGAATAACTATGAGGAAGATTAATAATTTTC...\n",
      "****Alignment****\n",
      "sequence: gi|965570330|gb|KU182907.1| Ebola virus isolate Ebola virus/H. sapiens-tc/COD/1995/Kikwit-9510627, complete genome\n",
      "length: 18959\n",
      "e value: 0.0\n",
      "CGGACACACAAAAAGAAAGAAGAATTTTTAGGATCTTTTGTGTGCGAATAACTATGAGGAAGATTAATAATTTTC...\n",
      "|||||||||||||||||||||||||||||||||||||||||||||||||||||||||||||||||||||||||||...\n",
      "CGGACACACAAAAAGAAAGAAGAATTTTTAGGATCTTTTGTGTGCGAATAACTATGAGGAAGATTAATAATTTTC...\n",
      "****Alignment****\n",
      "sequence: gi|965570319|gb|KU182906.1| Ebola virus isolate Ebola virus/H. sapiens-tc/COD/1995/Kikwit-9510628, complete genome\n",
      "length: 18959\n",
      "e value: 0.0\n",
      "CGGACACACAAAAAGAAAGAAGAATTTTTAGGATCTTTTGTGTGCGAATAACTATGAGGAAGATTAATAATTTTC...\n",
      "|||||||||||||||||||||||||||||||||||||||||||||||||||||||||||||||||||||||||||...\n",
      "CGGACACACAAAAAGAAAGAAGAATTTTTAGGATCTTTTGTGTGCGAATAACTATGAGGAAGATTAATAATTTTC...\n",
      "****Alignment****\n",
      "sequence: gi|965570261|gb|KU182901.1| Ebola virus isolate Ebola virus/H. sapiens-tc/COD/1995/Kikwit-9510629, complete genome\n",
      "length: 18959\n",
      "e value: 0.0\n",
      "CGGACACACAAAAAGAAAGAAGAATTTTTAGGATCTTTTGTGTGCGAATAACTATGAGGAAGATTAATAATTTTC...\n",
      "|||||||||||||||||||||||||||||||||||||||||||||||||||||||||||||||||||||||||||...\n",
      "CGGACACACAAAAAGAAAGAAGAATTTTTAGGATCTTTTGTGTGCGAATAACTATGAGGAAGATTAATAATTTTC...\n",
      "****Alignment****\n",
      "sequence: gi|965570250|gb|KU182900.1| Ebola virus isolate Ebola virus/H. sapiens-tc/COD/1995/Kikwit-9510630, complete genome\n",
      "length: 18959\n",
      "e value: 0.0\n",
      "CGGACACACAAAAAGAAAGAAGAATTTTTAGGATCTTTTGTGTGCGAATAACTATGAGGAAGATTAATAATTTTC...\n",
      "|||||||||||||||||||||||||||||||||||||||||||||||||||||||||||||||||||||||||||...\n",
      "CGGACACACAAAAAGAAAGAAGAATTTTTAGGATCTTTTGTGTGCGAATAACTATGAGGAAGATTAATAATTTTC...\n",
      "****Alignment****\n",
      "sequence: gi|965570239|gb|KU182899.1| Ebola virus isolate Ebola virus/H. sapiens-tc/COD/1995/Kikwit-9510631, complete genome\n",
      "length: 18959\n",
      "e value: 0.0\n",
      "CGGACACACAAAAAGAAAGAAGAATTTTTAGGATCTTTTGTGTGCGAATAACTATGAGGAAGATTAATAATTTTC...\n",
      "|||||||||||||||||||||||||||||||||||||||||||||||||||||||||||||||||||||||||||...\n",
      "CGGACACACAAAAAGAAAGAAGAATTTTTAGGATCTTTTGTGTGCGAATAACTATGAGGAAGATTAATAATTTTC...\n",
      "****Alignment****\n",
      "sequence: gi|936345247|gb|KT762962.1| Zaire ebolavirus isolate Ebola virus/H.sapiens-tc/COD/1995/Kikwit-9510621 clone R4415, complete genome\n",
      "length: 18958\n",
      "e value: 0.0\n",
      "CGGACACACAAAAAGAAAGAAGAATTTTTAGGATCTTTTGTGTGCGAATAACTATGAGGAAGATTAATAATTTTC...\n",
      "|||||||||||||||||||||||||||||||||||||||||||||||||||||||||||||||||||||||||||...\n",
      "CGGACACACAAAAAGAAAGAAGAATTTTTAGGATCTTTTGTGTGCGAATAACTATGAGGAAGATTAATAATTTTC...\n",
      "****Alignment****\n",
      "sequence: gi|965570308|gb|KU182905.1| Ebola virus isolate Ebola virus/H. sapiens-tc/COD/1995/Kikwit-9510621, complete genome\n",
      "length: 18959\n",
      "e value: 0.0\n",
      "CGGACACACAAAAAGAAAGAAGAATTTTTAGGATCTTTTGTGTGCGAATAACTATGAGGAAGATTAATAATTTTC...\n",
      "|||||||||||||||||||||||||||||||||||||||||||||||||||||||||||||||||||||||||||...\n",
      "CGGACACACAAAAAGAAAGAAGAATTTTTAGGATCTTTTGTGTGCGAATAACTATGAGGAAGATTAATAATTTTC...\n",
      "****Alignment****\n",
      "sequence: gi|965570296|gb|KU182904.1| Ebola virus isolate Ebola virus/H. sapiens-tc/COD/1995/Kikwit-9510626, complete genome\n",
      "length: 18959\n",
      "e value: 0.0\n",
      "CGGACACACAAAAAGAAAGAAGAATTTTTAGGATCTTTTGTGTGCGAATAACTATGAGGAAGATTAATAATTTTC...\n",
      "|||||||||||||||||||||||||||||||||||||||||||||||||||||||||||||||||||||||||||...\n",
      "CGGACACACAAAAAGAAAGAAGAATTTTTAGGATCTTTTGTGTGCGAATAACTATGAGGAAGATTAATAATTTTC...\n",
      "****Alignment****\n",
      "sequence: gi|965570285|gb|KU182903.1| Ebola virus isolate Ebola virus/H. sapiens-tc/COD/1995/Kikwit-9510625, complete genome\n",
      "length: 18959\n",
      "e value: 0.0\n",
      "CGGACACACAAAAAGAAAGAAGAATTTTTAGGATCTTTTGTGTGCGAATAACTATGAGGAAGATTAATAATTTTC...\n",
      "|||||||||||||||||||||||||||||||||||||||||||||||||||||||||||||||||||||||||||...\n",
      "CGGACACACAAAAAGAAAGAAGAATTTTTAGGATCTTTTGTGTGCGAATAACTATGAGGAAGATTAATAATTTTC...\n",
      "****Alignment****\n",
      "sequence: gi|965570273|gb|KU182902.1| Ebola virus isolate Ebola virus/H. sapiens-tc/COD/1995/Kikwit-9510624, complete genome\n",
      "length: 18959\n",
      "e value: 0.0\n",
      "CGGACACACAAAAAGAAAGAAGAATTTTTAGGATCTTTTGTGTGCGAATAACTATGAGGAAGATTAATAATTTTC...\n",
      "|||||||||||||||||||||||||||||||||||||||||||||||||||||||||||||||||||||||||||...\n",
      "CGGACACACAAAAAGAAAGAAGAATTTTTAGGATCTTTTGTGTGCGAATAACTATGAGGAAGATTAATAATTTTC...\n",
      "****Alignment****\n",
      "sequence: gi|965570221|gb|KU182898.1| Ebola virus isolate Ebola virus/H. sapiens-tc/COD/1995/Kikwit-9510623, complete genome\n",
      "length: 18959\n",
      "e value: 0.0\n",
      "CGGACACACAAAAAGAAAGAAGAATTTTTAGGATCTTTTGTGTGCGAATAACTATGAGGAAGATTAATAATTTTC...\n",
      "|||||||||||||||||||||||||||||||||||||||||||||||||||||||||||||||||||||||||||...\n",
      "CGGACACACAAAAAGAAAGAAGAATTTTTAGGATCTTTTGTGTGCGAATAACTATGAGGAAGATTAATAATTTTC...\n",
      "****Alignment****\n",
      "sequence: gi|436409419|gb|KC242799.1| Zaire ebolavirus isolate EBOV/H.sapiens-tc/COD/1995/13709 Kikwit, complete genome\n",
      "length: 18959\n",
      "e value: 0.0\n",
      "CGGACACACAAAAAGAAAGAAGAATTTTTAGGATCTTTTGTGTGCGAATAACTATGAGGAAGATTAATAATTTTC...\n",
      "|||||||||||||||||||||||||||||||||||||||||||||||||||||||||||||||||||||||||||...\n",
      "CGGACACACAAAAAGAAAGAAGAATTTTTAGGATCTTTTGTGTGCGAATAACTATGAGGAAGATTAATAATTTTC...\n",
      "****Alignment****\n",
      "sequence: gi|936345216|gb|KT762961.1| Zaire ebolavirus isolate Ebola virus/H.sapiens-tc/COD/1995/Kikwit-9510621 clone R4414, complete genome\n",
      "length: 18958\n",
      "e value: 0.0\n",
      "CGGACACACAAAAAGAAAGAAGAATTTTTAGGATCTTTTGTGTGCGAATAACTATGAGGAAGATTAATAATTTTC...\n",
      "|||||||||||||||||||||||||||||||||||||||||||||||||||||||||||||||||||||||||||...\n",
      "CGGACACACAAAAAGAAAGAAGAATTTTTAGGATCTTTTGTGTGCGAATAACTATGAGGAAGATTAATAATTTTC...\n",
      "****Alignment****\n",
      "sequence: gi|436409389|gb|KC242796.1| Zaire ebolavirus isolate EBOV/H.sapiens-tc/COD/1995/13625 Kikwit, complete genome\n",
      "length: 18959\n",
      "e value: 0.0\n",
      "CGGACACACAAAAAGAAAGAAGAATTTTTAGGATCTTTTGTGTGCGAATAACTATGAGGAAGATTAATAATTTTC...\n",
      "|||||||||||||||||||||||||||||||||||||||||||||||||||||||||||||||||||||||||||...\n",
      "CGGACACACAAAAAGAAAGAAGAATTTTTAGGATCTTTTGTGTGCGAATAACTATGAGGAAGATTAATAATTTTC...\n",
      "****Alignment****\n",
      "sequence: gi|824041261|gb|KR867676.1| Zaire ebolavirus isolate Ebola virus/H.sapiens-tc/COD/1995/Kikwit-9510621, complete genome\n",
      "length: 18956\n",
      "e value: 0.0\n",
      "GGACACACAAAAAGAAAGAAGAATTTTTAGGATCTTTTGTGTGCGAATAACTATGAGGAAGATTAATAATTTTCC...\n",
      "|||||||||||||||||||||||||||||||||||||||||||||||||||||||||||||||||||||||||||...\n",
      "GGACACACAAAAAGAAAGAAGAATTTTTAGGATCTTTTGTGTGCGAATAACTATGAGGAAGATTAATAATTTTCC...\n",
      "****Alignment****\n",
      "sequence: gi|803773882|gb|KR063672.1| Ebola virus isolate Ebola virus/H.sapiens-tc/COD/1995/Kikwit-807223, complete genome\n",
      "length: 18956\n",
      "e value: 0.0\n",
      "GGACACACAAAAAGAAAGAAGAATTTTTAGGATCTTTTGTGTGCGAATAACTATGAGGAAGATTAATAATTTTCC...\n",
      "|||||||||||||||||||||||||||||||||||||||||||||||||||||||||||||||||||||||||||...\n",
      "GGACACACAAAAAGAAAGAAGAATTTTTAGGATCTTTTGTGTGCGAATAACTATGAGGAAGATTAATAATTTTCC...\n",
      "****Alignment****\n",
      "sequence: gi|33860540|gb|AY354458.1| Zaire ebolavirus strain Zaire 1995, complete genome\n",
      "length: 18961\n",
      "e value: 0.0\n",
      "CGGACACACAAAAAGAAAGAAGAATTTTTAGGATCTTTTGTGTGCGAATAACTATGAGGAAGATTAATAATTTTC...\n",
      "|||||||||||||||||||||||||||||||||||||||||||||||||||||||||||||||||||||||||||...\n",
      "CGGACACACAAAAAGAAAGAAGAATTTTTAGGATCTTTTGTGTGCGAATAACTATGAGGAAGATTAATAATTTTC...\n",
      "****Alignment****\n",
      "sequence: gi|384406804|gb|JQ352763.1| Zaire ebolavirus strain Kikwit, complete genome\n",
      "length: 18944\n",
      "e value: 0.0\n",
      "GAAAGAAGAATTTTTAGGATCTTTTGTGTGCGAATAACTATGAGGAAGATTAATAATTTTCCTCTCATTGAAATT...\n",
      "||||||||||||||| |||||||||||||||||||||||||||||||||||||||||||||||||||||||||||...\n",
      "GAAAGAAGAATTTTTWGGATCTTTTGTGTGCGAATAACTATGAGGAAGATTAATAATTTTCCTCTCATTGAAATT...\n",
      "****Alignment****\n",
      "sequence: gi|685509613|gb|KM519951.1| Zaire ebolavirus isolate Ebola virus/H.sap-wt/COD/2014/Boende-Lokolia, partial genome\n",
      "length: 18953\n",
      "e value: 0.0\n",
      "ACACACAAAAAGAAAGAAGAATTTTTAGGATCTTTTGTGTGCGAATAACTATGAGGAAGATTAATAATTTTCCTC...\n",
      "|||||||||||||||||||||||||||||||||||||||||||||||||||||||||||||||||||||||||||...\n",
      "ACACACAAAAAGAAAGAAGAATTTTTAGGATCTTTTGTGTGCGAATAACTATGAGGAAGATTAATAATTTTCCTC...\n",
      "****Alignment****\n",
      "sequence: gi|824041176|gb|KR824526.1| Zaire ebolavirus isolate Zaire ebolavirus H. sapiens-tc/ZAI/1995/Zaire-199510621, partial genome\n",
      "length: 18920\n",
      "e value: 0.0\n",
      "GGACACACAAAAAGAAAGAAGAATTTTTAGGATCTTTTGTGTGCGAATAACTATGAGGAAGATTAATAATTTTCC...\n",
      "|||||||||||||||||||||||||||||||||||||||||||||||||||||||||||||||||||||||||||...\n",
      "GGACACACAAAAAGAAAGAAGAATTTTTAGGATCTTTTGTGTGCGAATAACTATGAGGAAGATTAATAATTTTCC...\n",
      "****Alignment****\n",
      "sequence: gi|926464677|gb|KT582109.1| Zaire ebolavirus isolate Ebola virus/H.sapiens-tc/COD/1995/Kikwit-9510621, complete genome\n",
      "length: 18918\n",
      "e value: 0.0\n",
      "CGGACACACAAAAAGAAAGAAGAATTTTTAGGATCTTTTGTGTGCGAATAACTATGAGGAAGATTAATAATTTTC...\n",
      "|||||||||||||||||||||||||||||||||||||||||||||||||||||||||||||||||||||||||||...\n",
      "CGGACACACAAAAAGAAAGAAGAATTTTTAGGATCTTTTGTGTGCGAATAACTATGAGGAAGATTAATAATTTTC...\n",
      "****Alignment****\n",
      "sequence: gi|733962878|gb|KP271018.1| Zaire ebolavirus isolate Ebola virus/H.sapiens-wt/COD/2014/Lomela-Lokolia16, complete genome\n",
      "length: 18941\n",
      "e value: 0.0\n",
      "AAGAAGAATTTTTAGGATCTTTTGTGTGCGAATAACTATGAGGAAGATTAATAATTTTCCTCTCATTGAAATTTA...\n",
      "|||||||||||||||||||||||||||||||||||||||||||||||||||||||||||||||||||||||||||...\n",
      "AAGAAGAATTTTTAGGATCTTTTGTGTGCGAATAACTATGAGGAAGATTAATAATTTTCCTCTCATTGAAATTTA...\n",
      "****Alignment****\n",
      "sequence: gi|436409349|gb|KC242792.1| Zaire ebolavirus isolate EBOV/H.sapiens-tc/GAB/1994/Gabon, complete genome\n",
      "length: 18959\n",
      "e value: 0.0\n",
      "CGGACACACAAAAAGAAAGAAGAATTTTTAGGATCTTTTGTGTGCGAATAACTATGAGGAAGATTAATAATTTTC...\n",
      "|||||||||||||||||||||||||||||||||||||||||||||||||||||||||||||||||||||||||||...\n",
      "CGGACACACAAAAAGAAAGAAGAATTTTTAGGATCTTTTGTGTGCGAATAACTATGAGGAAGATTAATAATTTTC...\n",
      "****Alignment****\n",
      "sequence: gi|436409359|gb|KC242793.1| Zaire ebolavirus isolate EBOV/H.sapiens-tc/GAB/1996/1Eko, complete genome >gi|436409379|gb|KC242795.1| Zaire ebolavirus isolate EBOV/H.sapiens-tc/GAB/1996/1Mbie, complete genome >gi|436409399|gb|KC242797.1| Zaire ebolavirus isolate EBOV/H.sapiens-tc/GAB/1996/1Oba, complete genome\n",
      "length: 18958\n",
      "e value: 0.0\n",
      "CGGACACACAAAAAGAAAGAAGAATTTTTAGGATCTTTTGTGTGCGAATAACTATGAGGAAGATTAATAATTTTC...\n",
      "|||||||||||||||||||||||||||||||||||||||||||||||||||||||||||||||||||||||||||...\n",
      "CGGACACACAAAAAGAAAGAAGAATTTTTAGGATCTTTTGTGTGCGAATAACTATGAGGAAGATTAATAATTTTC...\n",
      "****Alignment****\n",
      "sequence: gi|824041056|gb|KR819004.1| Zaire ebolavirus isolate Ebola virus/H.sapiens-wt/COD/2014/Lomela-Lokolia-B11, partial genome\n",
      "length: 18861\n",
      "e value: 0.0\n",
      "ATGAGGAAGATTAATAATTTTCCTCTCATTGAAATTTATATCGGAATTTAAATTGAAATTGTTACTGTAATCACA...\n",
      "|||||||||||||||||||||||||||||||||||||||||||||||||||||||||||||||||||||||||||...\n",
      "ATGAGGAAGATTAATAATTTTCCTCTCATTGAAATTTATATCGGAATTTAAATTGAAATTGTTACTGTAATCACA...\n",
      "****Alignment****\n",
      "sequence: gi|436409369|gb|KC242794.1| Zaire ebolavirus isolate EBOV/H.sapiens-tc/GAB/1996/2Nza, complete genome >gi|436409409|gb|KC242798.1| Zaire ebolavirus isolate EBOV/H.sapiens-tc/GAB/1996/1Ikot, complete genome\n",
      "length: 18959\n",
      "e value: 0.0\n",
      "CGGACACACAAAAAGAAAGAAGAATTTTTAGGATCTTTTGTGTGCGAATAACTATGAGGAAGATTAATAATTTTC...\n",
      "|||||||||||||||||||||||||||||||||||||||||||||||||||||||||||||||||||||||||||...\n",
      "CGGACACACAAAAAGAAAGAAGAATTTTTAGGATCTTTTGTGTGCGAATAACTATGAGGAAGATTAATAATTTTC...\n",
      "****Alignment****\n",
      "sequence: gi|733962926|gb|KP271020.1| Zaire ebolavirus isolate Ebola virus/H.sapiens-wt/COD/2014/Lomela-Lokolia19, complete genome\n",
      "length: 18861\n",
      "e value: 0.0\n",
      "ATGAGGAAGATTAATAATTTTCCTCTCATTGAAATTTATATCGGAATTTAAATTGAAATTGTTACTGTAATCACA...\n",
      "|||||||||||||||||||||||||||||||||||||||||||||||||||||||||||||||||||||||||||...\n",
      "ATGAGGAAGATTAATAATTTTCCTCTCATTGAAATTTATATCGGAATTTAAATTGAAATTGTTACTGTAATCACA...\n",
      "****Alignment****\n",
      "sequence: gi|436409289|gb|KC242786.1| Zaire ebolavirus isolate EBOV/H.sapiens-tc/COD/2007/1 Luebo, complete genome\n",
      "length: 18958\n",
      "e value: 0.0\n",
      "CGGACACACAAAAAGAAAGAAGAATTTTTAGGATCTTTTGTGTGCGAATAACTATGAGGAAGATTAATAATTTTC...\n",
      "|||||||||||||||||||||||||||||||||||||||||||||||||||||||||||||||||||||||||||...\n",
      "CGGACACACAAAAAGAAAGAAGAATTTTTAGGATCTTTTGTGTGCGAATAACTATGAGGAAGATTAATAATTTTC...\n",
      "****Alignment****\n",
      "sequence: gi|436409299|gb|KC242787.1| Zaire ebolavirus isolate EBOV/H.sapiens-tc/COD/2007/23 Luebo, complete genome\n",
      "length: 18958\n",
      "e value: 0.0\n",
      "CGGACACACAAAAAGAAAGAAGAATTTTTAGGATCTTTTGTGTGCGAATAACTATGAGGAAGATTAATAATTTTC...\n",
      "|||||||||||||||||||||||||||||||||||||||||||||||||||||||||||||||||||||||||||...\n",
      "CGGACACACAAAAAGAAAGAAGAATTTTTAGGATCTTTTGTGTGCGAATAACTATGAGGAAGATTAATAATTTTC...\n",
      "****Alignment****\n",
      "sequence: gi|436409319|gb|KC242789.1| Zaire ebolavirus isolate EBOV/H.sapiens-tc/COD/2007/4 Luebo, complete genome\n",
      "length: 18958\n",
      "e value: 0.0\n",
      "CGGACACACAAAAAGAAAGAAGAATTTTTAGGATCTTTTGTGTGCGAATAACTATGAGGAAGATTAATAATTTTC...\n",
      "|||||||||||||||||||||||||||||||||||||||||||||||||||||||||||||||||||||||||||...\n",
      "CGGACACACAAAAAGAAAGAAGAATTTTTAGGATCTTTTGTGTGCGAATAACTATGAGGAAGATTAATAATTTTC...\n",
      "****Alignment****\n",
      "sequence: gi|436409279|gb|KC242785.1| Zaire ebolavirus isolate EBOV/H.sapiens-tc/COD/2007/0 Luebo, complete genome\n",
      "length: 18958\n",
      "e value: 0.0\n",
      "CGGACACACAAAAAGAAAGAAGAATTTTTAGGATCTTTTGTGTGCGAATAACTATGAGGAAGATTAATAATTTTC...\n",
      "|||||||||||||||||||||||||||||||||||||||||||||||||||||||||||||||||||||||||||...\n",
      "CGGACACACAAAAAGAAAGAAGAATTTTTAGGATCTTTTGTGTGCGAATAACTATGAGGAAGATTAATAATTTTC...\n",
      "****Alignment****\n",
      "sequence: gi|436409269|gb|KC242784.1| Zaire ebolavirus isolate EBOV/H.sapiens-tc/COD/2007/9 Luebo, complete genome\n",
      "length: 18958\n",
      "e value: 0.0\n",
      "CGGACACACAAAAAGAAAGAAGAATTTTTAGGATCTTTTGTGTGCGAATAACTATGAGGAAGATTAATAATTTTC...\n",
      "|||||||||||||||||||||||||||||||||||||||||||||||||||||||||||||||||||||||||||...\n",
      "CGGACACACAAAAAGAAAGAAGAATTTTTAGGATCTTTTGTGTGCGAATAACTATGAGGAAGATTAATAATTTTC...\n",
      "****Alignment****\n",
      "sequence: gi|436409329|gb|KC242790.1| Zaire ebolavirus isolate EBOV/H.sapiens-tc/COD/2007/5 Luebo, complete genome\n",
      "length: 18958\n",
      "e value: 0.0\n",
      "CGGACACACAAAAAGAAAGAAGAATTTTTAGGATCTTTTGTGTGCGAATAACTATGAGGAAGATTAATAATTTTC...\n",
      "|||||||||||||||||||||||||||||||||||||||||||||||||||||||||||||||||||||||||||...\n",
      "CGGACACACAAAAAGAAAGAAGAATTTTTAGGATCTTTTGTGTGCGAATAACTATGAGGAAGATTAATAATTTTC...\n",
      "****Alignment****\n",
      "sequence: gi|436409309|gb|KC242788.1| Zaire ebolavirus isolate EBOV/H.sapiens-tc/COD/2007/43 Luebo, complete genome\n",
      "length: 18958\n",
      "e value: 0.0\n",
      "CGGACACACAAAAAGAAAGAAGAATTTTTAGGATCTTTTGTGTGCGAATAACTATGAGGAAGATTAATAATTTTC...\n",
      "|||||||||||||||||||||||||||||||||||||||||||||||||||||||||||||||||||||||||||...\n",
      "CGGACACACAAAAAGAAAGAAGAATTTTTAGGATCTTTTGTGTGCGAATAACTATGAGGAAGATTAATAATTTTC...\n",
      "****Alignment****\n",
      "sequence: gi|436409429|gb|KC242800.1| Zaire ebolavirus isolate EBOV/H.sapiens-tc/GAB/2002/Ilembe, complete genome\n",
      "length: 18958\n",
      "e value: 0.0\n",
      "CGGACACACAAAAAGAAAGAAGAATTTTTAGGATCTTTTGTGTGCGAATAACTATGAGGAAGATTAATAATTTTC...\n",
      "|||||||||||||||||||||||||||||||||||||||||||||||||||||||||||||||||||||||||||...\n",
      "CGGACACACAAAAAGAAAGAAGAATTTTTAGGATCTTTTGTGTGCGAATAACTATGAGGAAGATTAATAATTTTC...\n",
      "****Alignment****\n",
      "sequence: gi|355344232|gb|HQ613403.1| Zaire ebolavirus isolate M-M, partial genome\n",
      "length: 18807\n",
      "e value: 0.0\n",
      "TAACTATGAGGAAGATTAATAATTTTCCTCTCATTGAAATTTATATCGGAATTTAAATTGAAATTGTTACTGTAA...\n",
      "|||||||||||||||||||||||||||||||||||||||||||||||||||||||||||||||||||||||||||...\n",
      "TAACTATGAGGAAGATTAATAATTTTCCTCTCATTGAAATTTATATCGGAATTTAAATTGAAATTGTTACTGTAA...\n",
      "****Alignment****\n",
      "sequence: gi|355344222|gb|HQ613402.1| Zaire ebolavirus isolate 034-KS, partial genome\n",
      "length: 18774\n",
      "e value: 0.0\n",
      "TTGAAATTTATATCGGAATTTAAATTGAAATTGTTACTGTAATCACACCTGGTTTGTTTCAGAGCCACATCACAA...\n",
      "||||||||||||||||||||||||||||||||||||||||||||||||||| |||||||||||||||  ||||||...\n",
      "TTGAAATTTATATCGGAATTTAAATTGAAATTGTTACTGTAATCACACCTGTTTTGTTTCAGAGCCATGTCACAA...\n",
      "****Alignment****\n",
      "sequence: gi|768029139|gb|KF113528.1| Zaire ebolavirus isolate Kelle 1 NP protein (NP), VP35 protein (VP35), VP40 protein (VP40), GP protein (GP), VP30 protein (VP30), VP24 protein (VP24), and L protein (L) genes, complete cds\n",
      "length: 18901\n",
      "e value: 0.0\n",
      "CACACAAAAAGAAAGAAGAATTTTTAGGATCTTTTGTGTGCGAATAACTATGAGGAAGATTAATAATTTTCCTCT...\n",
      "||||||||||||||||||||||||||||||||||||| ||||||||||||||||||||||||||||| |||||||...\n",
      "CACACAAAAAGAAAGAAGAATTTTTAGGATCTTTTGTATGCGAATAACTATGAGGAAGATTAATAATCTTCCTCT...\n"
     ]
    }
   ],
   "source": [
    "from Bio.Blast import NCBIXML\n",
    "result_handle = open(\"my_blast.xml\")\n",
    "blast_record = NCBIXML.read(result_handle)\n",
    "E_VALUE_THRESH = 0.04\n",
    "for alignment in blast_record.alignments:\n",
    "     for hsp in alignment.hsps:\n",
    "         if hsp.expect < E_VALUE_THRESH:\n",
    "             print ('****Alignment****')\n",
    "             print ('sequence:', alignment.title)\n",
    "             print ('length:', alignment.length)\n",
    "             print ('e value:', hsp.expect)\n",
    "             print (hsp.query[0:75] + '...')\n",
    "             print (hsp.match[0:75] + '...')\n",
    "             print (hsp.sbjct[0:75] + '...')\n"
   ]
  },
  {
   "cell_type": "markdown",
   "metadata": {
    "slideshow": {
     "slide_type": "slide"
    }
   },
   "source": [
    "## SeqIO for Next Generation Sequencing"
   ]
  },
  {
   "cell_type": "markdown",
   "metadata": {
    "slideshow": {
     "slide_type": "slide"
    }
   },
   "source": [
    "## FASTA, QUAL <=> FASTQ Conversion"
   ]
  },
  {
   "cell_type": "code",
   "execution_count": null,
   "metadata": {
    "collapsed": false,
    "slideshow": {
     "slide_type": "fragment"
    }
   },
   "outputs": [],
   "source": [
    "!wget ftp://ftp.sra.ebi.ac.uk/vol1/fastq/SRR020/SRR020192/SRR020192.fastq.gz\n",
    "!gunzip SRR020192.fastq.gz"
   ]
  },
  {
   "cell_type": "code",
   "execution_count": null,
   "metadata": {
    "collapsed": false,
    "slideshow": {
     "slide_type": "fragment"
    }
   },
   "outputs": [],
   "source": [
    "from Bio import SeqIO\n",
    "SeqIO.convert(\"data/SRR020192.fastq\", \"fastq\", \"data/SRR020192.fasta\", \"fasta\")"
   ]
  },
  {
   "cell_type": "code",
   "execution_count": null,
   "metadata": {
    "collapsed": false,
    "slideshow": {
     "slide_type": "fragment"
    }
   },
   "outputs": [],
   "source": [
    "from Bio import SeqIO\n",
    "SeqIO.convert(\"data/SRR020192.fastq\", \"fastq\", \"data/SRR020192.qual\", \"qual\")"
   ]
  },
  {
   "cell_type": "markdown",
   "metadata": {
    "slideshow": {
     "slide_type": "slide"
    }
   },
   "source": [
    "### FASTA and QUAL file to FASTQ:\n"
   ]
  },
  {
   "cell_type": "code",
   "execution_count": null,
   "metadata": {
    "collapsed": false,
    "scrolled": true,
    "slideshow": {
     "slide_type": "fragment"
    }
   },
   "outputs": [],
   "source": [
    "from Bio.SeqIO.QualityIO import PairedFastaQualIterator\n",
    "for record in PairedFastaQualIterator(open(\"data/SRR020192.fasta\"), open(\"data/SRR020192.qual\")):\n",
    "   print (record)\n"
   ]
  },
  {
   "cell_type": "markdown",
   "metadata": {
    "slideshow": {
     "slide_type": "slide"
    }
   },
   "source": [
    "## Clean up FASTQ Files by Phred Score"
   ]
  },
  {
   "cell_type": "code",
   "execution_count": null,
   "metadata": {
    "collapsed": false,
    "slideshow": {
     "slide_type": "fragment"
    }
   },
   "outputs": [],
   "source": [
    "from Bio import SeqIO\n",
    "good_reads = (rec for rec in \\\n",
    "\tSeqIO.parse(\"data/SRR020192.fastq\", \"fastq\") \\\n",
    "\tif min(rec.letter_annotations[\"phred_quality\"]) >= 20)\n",
    "count = SeqIO.write(good_reads, \"data/good_quality.fastq\", \"fastq\")\n",
    "print (\"Saved %i reads\" % count)"
   ]
  },
  {
   "cell_type": "markdown",
   "metadata": {
    "slideshow": {
     "slide_type": "slide"
    }
   },
   "source": [
    "## Trimming Off Adaptor Sequences"
   ]
  },
  {
   "cell_type": "code",
   "execution_count": null,
   "metadata": {
    "collapsed": false,
    "slideshow": {
     "slide_type": "fragment"
    }
   },
   "outputs": [],
   "source": [
    "from Bio import SeqIO\n",
    "def trim_adaptors(records, adaptor, min_len):\n",
    "    len_adaptor = len(adaptor) \t\t# cache this for later\n",
    "    for record in records:\n",
    "        len_record = len(record) \t# Cache this for later\n",
    "        if len(record) < min_len:\t# Too short to keep\n",
    "            continue\n",
    "        index = record.seq.find(adaptor)\n",
    "        if index == -1:\t\t# Aadaptor not found, so won't trim\n",
    "             yield record\n",
    "        elif len_record - index - len_adaptor >= min_len:\n",
    "            #after trimming this will still be long enough\n",
    "            yield record[index+len_adaptor:]\n",
    "\n",
    "original_reads = SeqIO.parse(\"data/SRR020192.fastq\", \"fastq\")\n",
    "trimmed_reads = trim_adaptors(original_reads, \"GATGACGGTGT\", 100)\n",
    "count = SeqIO.write(trimmed_reads, \"data/trimmed.fastq\", \"fastq\") \n",
    "print (\"Saved %i reads\" % count)\n"
   ]
  },
  {
   "cell_type": "markdown",
   "metadata": {
    "slideshow": {
     "slide_type": "slide"
    }
   },
   "source": [
    "# Bio.SearchIO\n",
    "￼￼\n",
    "## Unified interface for sequence search outputs (e.g. BLAST, HMMER)"
   ]
  },
  {
   "cell_type": "code",
   "execution_count": null,
   "metadata": {
    "collapsed": false,
    "slideshow": {
     "slide_type": "fragment"
    }
   },
   "outputs": [],
   "source": [
    "from Bio import SearchIO\n",
    "blast_qresult = SearchIO.read('data/my_blast.xml', 'blast-xml')\n",
    "print(blast_qresult)"
   ]
  },
  {
   "cell_type": "markdown",
   "metadata": {
    "slideshow": {
     "slide_type": "slide"
    }
   },
   "source": [
    "# Bio.SeqUtils"
   ]
  },
  {
   "cell_type": "code",
   "execution_count": null,
   "metadata": {
    "collapsed": false,
    "slideshow": {
     "slide_type": "fragment"
    }
   },
   "outputs": [],
   "source": [
    "%matplotlib inline\n",
    "from Bio import SeqIO\n",
    "from Bio.SeqUtils import GC\n",
    "\n",
    "gc_values = sorted(GC(rec.seq) for rec in SeqIO.parse(\"data/ls_orchid.fasta\", \"fasta\"))\n",
    "\n",
    "#Having read in each sequence and calculated the GC%, we then sorted them into ascending order. Now we’ll take this list of floating point values and plot them with matplotlib:\n",
    "\n",
    "import pylab\n",
    "pylab.plot(gc_values)\n",
    "pylab.title(\"%i orchid sequences\\nGC%% %0.1f to %0.1f\" \\\n",
    "            % (len(gc_values),min(gc_values),max(gc_values)))\n",
    "pylab.xlabel(\"Genes\")\n",
    "pylab.ylabel(\"GC%\")\n",
    "pylab.show()"
   ]
  },
  {
   "cell_type": "markdown",
   "metadata": {
    "slideshow": {
     "slide_type": "slide"
    }
   },
   "source": [
    "# Bio.KEGG"
   ]
  },
  {
   "cell_type": "code",
   "execution_count": null,
   "metadata": {
    "collapsed": false,
    "slideshow": {
     "slide_type": "slide"
    }
   },
   "outputs": [],
   "source": [
    "# Rendering central metabolism\n",
    "from Bio.KEGG.REST import *\n",
    "from IPython.display import Image, HTML\n",
    "Image(kegg_get(\"ko03030\", \"image\").read())"
   ]
  },
  {
   "cell_type": "markdown",
   "metadata": {
    "slideshow": {
     "slide_type": "slide"
    }
   },
   "source": [
    "# Bio.Data\n",
    "\n",
    "Storage module for assorted information"
   ]
  },
  {
   "cell_type": "code",
   "execution_count": null,
   "metadata": {
    "collapsed": true,
    "slideshow": {
     "slide_type": "fragment"
    }
   },
   "outputs": [],
   "source": [
    "from Bio.Data import CodonTable\n",
    "standard_table = CodonTable.unambiguous_dna_by_name[\"Standard\"]"
   ]
  },
  {
   "cell_type": "code",
   "execution_count": null,
   "metadata": {
    "collapsed": false,
    "slideshow": {
     "slide_type": "slide"
    }
   },
   "outputs": [],
   "source": [
    "# You can compare the actual tables visually by printing them:\n",
    "print(standard_table)"
   ]
  },
  {
   "cell_type": "code",
   "execution_count": null,
   "metadata": {
    "collapsed": false,
    "slideshow": {
     "slide_type": "slide"
    }
   },
   "outputs": [],
   "source": [
    "standard_table.start_codons"
   ]
  },
  {
   "cell_type": "code",
   "execution_count": null,
   "metadata": {
    "collapsed": false,
    "slideshow": {
     "slide_type": "fragment"
    }
   },
   "outputs": [],
   "source": [
    "standard_table.stop_codons"
   ]
  },
  {
   "cell_type": "markdown",
   "metadata": {
    "slideshow": {
     "slide_type": "slide"
    }
   },
   "source": [
    "# Bio.Phylo\n",
    "\n",
    "## Phylogenetics module"
   ]
  },
  {
   "cell_type": "code",
   "execution_count": null,
   "metadata": {
    "collapsed": false,
    "slideshow": {
     "slide_type": "fragment"
    }
   },
   "outputs": [],
   "source": [
    "from Bio import Phylo\n",
    "tree = Phylo.read(\"data/simple.dnd\", \"newick\")\n",
    "Phylo.draw_ascii(tree)"
   ]
  },
  {
   "cell_type": "code",
   "execution_count": null,
   "metadata": {
    "collapsed": false,
    "slideshow": {
     "slide_type": "slide"
    }
   },
   "outputs": [],
   "source": [
    "tree.rooted = True\n",
    "Phylo.draw(tree)"
   ]
  },
  {
   "cell_type": "code",
   "execution_count": null,
   "metadata": {
    "collapsed": false,
    "slideshow": {
     "slide_type": "slide"
    }
   },
   "outputs": [],
   "source": [
    "mrca = tree.common_ancestor({\"name\": \"E\"}, {\"name\": \"F\"})\n",
    "mrca.color = \"salmon\"\n",
    "tree.clade[0, 1].color = \"blue\"\n",
    "Phylo.draw(tree)\n"
   ]
  },
  {
   "cell_type": "markdown",
   "metadata": {
    "slideshow": {
     "slide_type": "slide"
    }
   },
   "source": [
    "# Bio.PDB\n",
    "\n",
    "## Structural Biology module\n",
    "\n",
    "[Source](http://pelican.rsvs.ulaval.ca/mediawiki/index.php/Manipulating_PDB_files_using_BioPython)"
   ]
  },
  {
   "cell_type": "markdown",
   "metadata": {
    "slideshow": {
     "slide_type": "slide"
    }
   },
   "source": [
    "Download a PDB file from the Protein Databank"
   ]
  },
  {
   "cell_type": "code",
   "execution_count": null,
   "metadata": {
    "collapsed": false,
    "slideshow": {
     "slide_type": "fragment"
    }
   },
   "outputs": [],
   "source": [
    "from Bio.PDB import PDBList\n",
    "pdbl = PDBList()\n",
    "pdbl.retrieve_pdb_file('1FAT')"
   ]
  },
  {
   "cell_type": "code",
   "execution_count": null,
   "metadata": {
    "collapsed": false,
    "slideshow": {
     "slide_type": "slide"
    }
   },
   "outputs": [],
   "source": [
    "from Bio.PDB.PDBParser import PDBParser\n",
    "\n",
    "parser = PDBParser()\n",
    "\n",
    "structure = parser.get_structure('1FAT', 'fa/pdb1fat.ent')\n",
    "header = parser.get_header()\n",
    "trailer = parser.get_trailer()"
   ]
  },
  {
   "cell_type": "code",
   "execution_count": null,
   "metadata": {
    "collapsed": false,
    "slideshow": {
     "slide_type": "slide"
    }
   },
   "outputs": [],
   "source": [
    "print(\"Resolution: %s\" % structure.header['resolution'])\n",
    "print(\"Keywords: %s\" % structure.header['keywords'])"
   ]
  },
  {
   "cell_type": "markdown",
   "metadata": {
    "slideshow": {
     "slide_type": "fragment"
    }
   },
   "source": [
    "Additional capabilities include: \n",
    "3. Accessing the informationm\n",
    "    3. Retrieving element properties\n",
    "    3. Accessing child elements as a list\n",
    "    3. Iterating on an element\n",
    "4. Modifying the structure\n",
    "    4. Removing residues\n",
    "    4. Renumbering residues\n",
    "    4. Renaming residues\n",
    "    4. Renaming atoms\n",
    "    4. Writing the structure"
   ]
  },
  {
   "cell_type": "markdown",
   "metadata": {
    "slideshow": {
     "slide_type": "slide"
    }
   },
   "source": [
    "## Data mining Pubmed with Biopython"
   ]
  },
  {
   "cell_type": "code",
   "execution_count": null,
   "metadata": {
    "collapsed": false,
    "slideshow": {
     "slide_type": "slide"
    }
   },
   "outputs": [],
   "source": [
    "from Bio import Entrez\n",
    "from Bio import Medline\n",
    "\n",
    "MAX_COUNT = 3\n",
    "TERM = 'ebola'\n",
    "\n",
    "print('Getting {0} publications containing {1}...'.format(MAX_COUNT, TERM))\n",
    "Entrez.email = 'richard.squires@nih.gov'\n",
    "h = Entrez.esearch(db='pubmed', retmax=MAX_COUNT, term=TERM)\n",
    "result = Entrez.read(h)\n",
    "print('Total number of publications containing {0}: {1}'.format(TERM, result['Count']))\n",
    "ids = result['IdList']\n",
    "h = Entrez.efetch(db='pubmed', id=ids, rettype='medline', retmode='text')\n",
    "records = Medline.parse(h)\n",
    "print()\n",
    "handle = Entrez.efetch(db=\"pubmed\", id=ids, rettype=\"medline\", retmode=\"text\")\n",
    "records = Medline.parse(handle)\n",
    "\n",
    "for record in records:\n",
    "    print(\"title:\", record.get(\"TI\", \"?\"))\n",
    "    print(\"authors:\", record.get(\"AU\", \"?\"))\n",
    "    print(\"source:\", record.get(\"SO\", \"?\"))\n",
    "    print()"
   ]
  },
  {
   "cell_type": "markdown",
   "metadata": {},
   "source": [
    "Search PubMed for your publications:"
   ]
  },
  {
   "cell_type": "code",
   "execution_count": 105,
   "metadata": {
    "collapsed": false
   },
   "outputs": [
    {
     "name": "stdout",
     "output_type": "stream",
     "text": [
      "Getting 5 publications containing R. Burke Squires...\n",
      "Total number of publications containing R. Burke Squires: 9\n",
      "\n",
      "title: DBAASP v.2: an enhanced database of structure and antimicrobial/cytotoxic activity of natural and synthetic peptides.\n",
      "authors: ['Pirtskhalava M', 'Gabrielian A', 'Cruz P', 'Griggs HL', 'Squires RB', 'Hurt DE', 'Grigolava M', 'Chubinidze M', 'Gogoladze G', 'Vishnepolsky B', 'Alekseyev V', 'Rosenthal A', 'Tartakovsky M']\n",
      "source: Nucleic Acids Res. 2016 Apr 8. pii: gkw243.\n",
      "\n",
      "title: Nanopore Sequencing as a Rapidly Deployable Ebola Outbreak Tool.\n",
      "authors: ['Hoenen T', 'Groseth A', 'Rosenke K', 'Fischer RJ', 'Hoenen A', 'Judson SD', 'Martellaro C', 'Falzarano D', 'Marzi A', 'Squires RB', 'Wollenberg KR', 'de Wit E', 'Prescott J', 'Safronetz D', 'van Doremalen N', 'Bushmaker T', 'Feldmann F', 'McNally K', 'Bolay FK', 'Fields B', 'Sealy T', 'Rayfield M', 'Nichol ST', 'Zoon KC', 'Massaquoi M', 'Munster VJ', 'Feldmann H']\n",
      "source: Emerg Infect Dis. 2016 Feb;22(2). doi: 10.3201/eid2202.151796.\n",
      "\n",
      "title: DBAASP v.2: an enhanced database of structure and antimicrobial/cytotoxic activity of natural and synthetic peptides.\n",
      "authors: ['Pirtskhalava M', 'Gabrielian A', 'Cruz P', 'Griggs HL', 'Squires RB', 'Hurt DE', 'Grigolava M', 'Chubinidze M', 'Gogoladze G', 'Vishnepolsky B', 'Alekseev V', 'Rosenthal A', 'Tartakovsky M']\n",
      "source: Nucleic Acids Res. 2016 Jan 4;44(D1):D1104-12. doi: 10.1093/nar/gkv1174. Epub 2015 Nov 17.\n",
      "\n",
      "title: Finding our way through phenotypes.\n",
      "authors: ['Deans AR', 'Lewis SE', 'Huala E', 'Anzaldo SS', 'Ashburner M', 'Balhoff JP', 'Blackburn DC', 'Blake JA', 'Burleigh JG', 'Chanet B', 'Cooper LD', 'Courtot M', 'Csosz S', 'Cui H', 'Dahdul W', 'Das S', 'Dececchi TA', 'Dettai A', 'Diogo R', 'Druzinsky RE', 'Dumontier M', 'Franz NM', 'Friedrich F', 'Gkoutos GV', 'Haendel M', 'Harmon LJ', 'Hayamizu TF', 'He Y', 'Hines HM', 'Ibrahim N', 'Jackson LM', 'Jaiswal P', 'James-Zorn C', 'Kohler S', 'Lecointre G', 'Lapp H', 'Lawrence CJ', 'Le Novere N', 'Lundberg JG', 'Macklin J', 'Mast AR', 'Midford PE', 'Miko I', 'Mungall CJ', 'Oellrich A', 'Osumi-Sutherland D', 'Parkinson H', 'Ramirez MJ', 'Richter S', 'Robinson PN', 'Ruttenberg A', 'Schulz KS', 'Segerdell E', 'Seltmann KC', 'Sharkey MJ', 'Smith AD', 'Smith B', 'Specht CD', 'Squires RB', 'Thacker RW', 'Thessen A', 'Fernandez-Triana J', 'Vihinen M', 'Vize PD', 'Vogt L', 'Wall CE', 'Walls RL', 'Westerfeld M', 'Wharton RA', 'Wirkner CS', 'Woolley JB', 'Yoder MJ', 'Zorn AM', 'Mabee P']\n",
      "source: PLoS Biol. 2015 Jan 6;13(1):e1002033. doi: 10.1371/journal.pbio.1002033. eCollection 2015 Jan.\n",
      "\n",
      "title: Toward a method for tracking virus evolutionary trajectory applied to the pandemic H1N1 2009 influenza virus.\n",
      "authors: ['Squires RB', 'Pickett BE', 'Das S', 'Scheuermann RH']\n",
      "source: Infect Genet Evol. 2014 Dec;28:351-7. doi: 10.1016/j.meegid.2014.07.015. Epub 2014 Jul 24.\n",
      "\n"
     ]
    }
   ],
   "source": [
    "from Bio import Entrez\n",
    "from Bio import Medline\n",
    "\n",
    "MAX_COUNT = 5\n",
    "TERM = 'R. Burke Squires' # replace your name here\n",
    "\n",
    "print('Getting {0} publications containing {1}...'.format(MAX_COUNT, TERM))\n",
    "Entrez.email = 'richard.squires@nih.gov' # Please replace your email address here\n",
    "h = Entrez.esearch(db='pubmed', retmax=MAX_COUNT, term=TERM)\n",
    "result = Entrez.read(h)\n",
    "print('Total number of publications containing {0}: {1}'.format(TERM, result['Count']))\n",
    "ids = result['IdList']\n",
    "h = Entrez.efetch(db='pubmed', id=ids, rettype='medline', retmode='text')\n",
    "records = Medline.parse(h)\n",
    "print()\n",
    "handle = Entrez.efetch(db=\"pubmed\", id=ids, rettype=\"medline\", retmode=\"text\")\n",
    "records = Medline.parse(handle)\n",
    "\n",
    "for record in records:\n",
    "    print(\"title:\", record.get(\"TI\", \"?\"))\n",
    "    print(\"authors:\", record.get(\"AU\", \"?\"))\n",
    "    print(\"source:\", record.get(\"SO\", \"?\"))\n",
    "    print()"
   ]
  },
  {
   "cell_type": "markdown",
   "metadata": {
    "slideshow": {
     "slide_type": "slide"
    }
   },
   "source": [
    "# Entrez"
   ]
  },
  {
   "cell_type": "code",
   "execution_count": null,
   "metadata": {
    "collapsed": true,
    "slideshow": {
     "slide_type": "fragment"
    }
   },
   "outputs": [],
   "source": [
    "from Bio import Entrez\n",
    "handle = Entrez.einfo()\n",
    "record = Entrez.read(handle)"
   ]
  },
  {
   "cell_type": "code",
   "execution_count": null,
   "metadata": {
    "collapsed": false,
    "slideshow": {
     "slide_type": "slide"
    }
   },
   "outputs": [],
   "source": [
    "record[\"DbList\"]"
   ]
  },
  {
   "cell_type": "markdown",
   "metadata": {
    "slideshow": {
     "slide_type": "slide"
    }
   },
   "source": [
    "## EMBOSS / Running Molecular Biology Programs"
   ]
  },
  {
   "cell_type": "markdown",
   "metadata": {
    "slideshow": {
     "slide_type": "slide"
    }
   },
   "source": [
    "### EMBOSS\n",
    "European Molecular Biology Open Source Suite ([EMBOSS](http://emboss.sourceforge.net)) of command line programs to accomplish many bioinformatics tasks\n",
    "3. It has a graphical user interface (GUI). Try it out [here](http://www.bioinformatics.nl/emboss-explorer/)\n",
    "4. Biopython supports through [Bio.EMBOSS](http://Biopython.org/DIST/docs/api/Bio.Emboss-module.html)"
   ]
  },
  {
   "cell_type": "code",
   "execution_count": null,
   "metadata": {
    "collapsed": true,
    "slideshow": {
     "slide_type": "skip"
    }
   },
   "outputs": [],
   "source": [
    "# If you ahve a Mac with homebrew installed:\n",
    "# !brew install homebrew/science/emboss"
   ]
  },
  {
   "cell_type": "code",
   "execution_count": null,
   "metadata": {
    "collapsed": false,
    "slideshow": {
     "slide_type": "slide"
    }
   },
   "outputs": [],
   "source": [
    "from Bio.Emboss.Applications import WaterCommandline\n",
    "water_cmd = WaterCommandline(gapopen=10, gapextend=0.5)\n",
    "water_cmd.asequence = \"asis:ACCCGGGCGCGGT\"\n",
    "water_cmd.bsequence = \"asis:ACCCGAGCGCGGT\"\n",
    "water_cmd.outfile = \"data/temp_water.txt\"\n",
    "print(water_cmd)\n",
    "stdout, stderr = water_cmd()"
   ]
  },
  {
   "cell_type": "code",
   "execution_count": null,
   "metadata": {
    "collapsed": true,
    "slideshow": {
     "slide_type": "slide"
    }
   },
   "outputs": [],
   "source": [
    "%load data/temp_water.txt"
   ]
  },
  {
   "cell_type": "markdown",
   "metadata": {
    "slideshow": {
     "slide_type": "slide"
    }
   },
   "source": [
    "## Resources: Biopython Programming\n",
    "\n",
    "- Notebooks for \"Python cookbook for bioinformatics\" Book:\n",
    "    - https://github.com/tiagoantao/bioinf-python\n",
    "    - https://github.com/tiagoantao/biopython-notebook/tree/master/notebooks"
   ]
  },
  {
   "cell_type": "markdown",
   "metadata": {},
   "source": [
    "## Bioconda\n",
    "\n",
    "If you installed teh Anaconda distribution to get python, jupyter notebook and biopython there is a new iniative to enable bioinformatics applications to be installed with conda called [bioconda](https://github.com/bioconda).\n",
    "\n",
    "Bioconda is a distribution of bioinformatics software realized as a channel for the versatile Conda package manager. Key features of Conda are\n",
    "\n",
    "- a command line client for simple installation and dependency handling in the spirit of conda install mypackage,\n",
    "- very easy package creation,\n",
    "- a mechanism for creating isolated environments that allows different package versions to coexist."
   ]
  },
  {
   "cell_type": "markdown",
   "metadata": {
    "slideshow": {
     "slide_type": "slide"
    }
   },
   "source": [
    "## Goals\n",
    "1. Introduce you to the basics of the Biopython package and some of the more popular Biopython modules\n",
    "\n",
    "2. Enable you to find the information you need about Biopython \n",
    "\n",
    "3. Demonstrate how to apply Biopython to next-generation sequences data preparation\n",
    "\n",
    "4. Enable you to write or assemble scripts of your own or modify existing scripts for your own purposes\n",
    "\n",
    "5. Introduce you to EMBOSS software suite and ways to extend python and Biopython utilizing it.\n"
   ]
  },
  {
   "cell_type": "markdown",
   "metadata": {
    "slideshow": {
     "slide_type": "slide"
    }
   },
   "source": [
    "## Q & A\n",
    "\n",
    "Collaborations welcome\n",
    "\n",
    "richard.squires@nih.gov\n",
    "\n",
    "ScienceApps@niaid.nih.gov\n"
   ]
  }
 ],
 "metadata": {
  "kernelspec": {
   "display_name": "Python 3",
   "language": "python",
   "name": "python3"
  },
  "language_info": {
   "codemirror_mode": {
    "name": "ipython",
    "version": 3
   },
   "file_extension": ".py",
   "mimetype": "text/x-python",
   "name": "python",
   "nbconvert_exporter": "python",
   "pygments_lexer": "ipython3",
   "version": "3.5.1"
  }
 },
 "nbformat": 4,
 "nbformat_minor": 0
}
