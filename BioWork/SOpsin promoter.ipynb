{
 "cells": [
  {
   "cell_type": "code",
   "execution_count": 1,
   "metadata": {
    "collapsed": false
   },
   "outputs": [],
   "source": [
    "from Bio import Entrez\n",
    "from Bio import SeqIO\n",
    "Entrez.email='angueyra@nih.gov'\n",
    "def fetchgene(gbid,filename):\n",
    "    temp = Entrez.efetch(db=\"nucleotide\", rettype=\"gb\", id=gbid)\n",
    "    gbseq = SeqIO.read(temp, \"gb\") #gb - genebank file format\n",
    "    #open an output file in the current directory and write data to it\n",
    "    out = open(\"data/\"+filename+\".gbk\",'w')\n",
    "    # To download to a specific location using an absolute path try something like this:\n",
    "    #out = open(\"/Users/squiresrb/Documents/BCBB/Seminars/2015/Introduction to Biopython/ebola.gbk\",'w')\n",
    "    SeqIO.write(gbseq, out, \"gb\")\n",
    "    temp.close()\n",
    "    out.close()\n",
    "    SeqIO.convert(\"data/\"+filename+\".gbk\", \"gb\",\"data/\"+filename+\".fa\", \"fasta\")"
   ]
  },
  {
   "cell_type": "code",
   "execution_count": 2,
   "metadata": {
    "collapsed": false
   },
   "outputs": [
    {
     "name": "stderr",
     "output_type": "stream",
     "text": [
      "//anaconda/lib/python3.5/site-packages/Bio/SeqIO/InsdcIO.py:437: BiopythonWarning: Annotation 'BioProject:PRJNA210856 BioSample:SAMN00210855 Assembly:GCF_000236235.1' too long for 'DBLINK' line\n",
      "  BiopythonWarning)\n"
     ]
    }
   ],
   "source": [
    "fetchgene(\"L27830\",\"h_OPN1_Promoter\")\n",
    "fetchgene(\"NW_004936479\",\"sq_OPN1_Gene\")\n"
   ]
  },
  {
   "cell_type": "code",
   "execution_count": 3,
   "metadata": {
    "collapsed": true
   },
   "outputs": [],
   "source": [
    "fetchgene(\"NC_000007.14\",\"h_OPN1_Gene\")"
   ]
  },
  {
   "cell_type": "code",
   "execution_count": 4,
   "metadata": {
    "collapsed": false
   },
   "outputs": [
    {
     "name": "stdout",
     "output_type": "stream",
     "text": [
      "ACCGT\n",
      "|||||\n",
      "AC-G-\n",
      "  Score=3\n",
      "\n",
      "ACCGT\n",
      "|||||\n",
      "A-CG-\n",
      "  Score=3\n",
      "\n"
     ]
    }
   ],
   "source": [
    "from Bio import pairwise2\n",
    "from Bio.pairwise2 import format_alignment\n",
    "for a in pairwise2.align.globalxx(\"ACCGT\", \"ACG\"):\n",
    "    print(format_alignment(*a))"
   ]
  },
  {
   "cell_type": "code",
   "execution_count": 5,
   "metadata": {
    "collapsed": false
   },
   "outputs": [],
   "source": [
    "hS_Pro = SeqIO.read(open(\"data/h_OPN1_Promoter.fa\"), format=\"fasta\")\n",
    "hS_G = SeqIO.read(open(\"data/h_OPN1_Gene.fa\"), format=\"fasta\")"
   ]
  },
  {
   "cell_type": "code",
   "execution_count": 14,
   "metadata": {
    "collapsed": false
   },
   "outputs": [],
   "source": [
    "a=hS_Pro.seq[0:10]"
   ]
  },
  {
   "cell_type": "code",
   "execution_count": 19,
   "metadata": {
    "collapsed": false
   },
   "outputs": [
    {
     "name": "stdout",
     "output_type": "stream",
     "text": [
      "CTAGGCATTGTCAAGTTGCCTAAGTCCTGTTCCATCAAGGCTGTTTACTGATGTGCTTCCAGGGCACTCCCCACTCCCAGCCCTTTCCTGCAGCCCAGGGCTGGTTCCTAGCCTCTCAGCAGACTTAAGATGGGCACCTTCCACAAAGGGGCAGATGAGTTGAGGAAAACTTAACTGATACAGTTGTGCCAGAAGCCAAAATAAGAGGCGTGCCCTTTCTATAGCCCCATTAAAAGAACAAAAAAGTGGAAGCATCTTCAGTGAATATGGGTCAGCACCTCCCAGACCTCAGGGAGTCCACTTCTGTTCATCCCAGCACCCAGCATTGCATATCCAGATTATTTGAGCCCAATCTCTTATCCTCTGAAGAACACAATCGGCTTTGGGGCCACAGAAGGTTTAGGTAGTGGTTTAGGGATTTCTAATCCCAAACTTTGTCCTTGGGAGGTTTAGGATTAGTATTGATCATTCACAGAGCCCAAGTGTTTTTAGAGGAGGGGTTTTGTGGGGTGGGAGGATCACCTATAAGAGGACTCAGAGGGGGGTGTGGGGCATCCATG\n"
     ]
    }
   ],
   "source": [
    "from Bio.pairwise2 import format_alignment\n",
    "for a in pairwise2.align.globalxx(hS_Pro.Seq,hS_G.Seq):\n",
    "    print(format_alignment(*a))"
   ]
  },
  {
   "cell_type": "code",
   "execution_count": 17,
   "metadata": {
    "collapsed": false
   },
   "outputs": [
    {
     "name": "stdout",
     "output_type": "stream",
     "text": [
      "CTAGGCATTG\n"
     ]
    }
   ],
   "source": [
    "b=print(a)\n"
   ]
  },
  {
   "cell_type": "code",
   "execution_count": 18,
   "metadata": {
    "collapsed": false
   },
   "outputs": [],
   "source": []
  },
  {
   "cell_type": "code",
   "execution_count": null,
   "metadata": {
    "collapsed": true
   },
   "outputs": [],
   "source": []
  }
 ],
 "metadata": {
  "kernelspec": {
   "display_name": "Python 3",
   "language": "python",
   "name": "python3"
  },
  "language_info": {
   "codemirror_mode": {
    "name": "ipython",
    "version": 3
   },
   "file_extension": ".py",
   "mimetype": "text/x-python",
   "name": "python",
   "nbconvert_exporter": "python",
   "pygments_lexer": "ipython3",
   "version": "3.5.1"
  }
 },
 "nbformat": 4,
 "nbformat_minor": 0
}
