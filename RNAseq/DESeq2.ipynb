{
 "cells": [
  {
   "cell_type": "code",
   "execution_count": null,
   "metadata": {},
   "outputs": [],
   "source": [
    "# if (!requireNamespace(\"BiocManager\"))\n",
    "#  install.packages(\"BiocManager\")\n",
    "# BiocManager::install()"
   ]
  },
  {
   "cell_type": "code",
   "execution_count": null,
   "metadata": {},
   "outputs": [],
   "source": [
    "# BiocManager::install(c(\"DESeq2\", \"GenomicFeatures\", \"AnnotationDbi\"))\n",
    "# BiocManager::install(c(\"org.Dr.eg.db\"))\n",
    "# BiocManager::install(c(\"apeglm\"))\n",
    "# BiocManager::install(c(\"pheatmap\"))\n",
    "# BiocManager::install(\"ReportingTools\")\n",
    "# BiocManager::install(\"pcaExplorer\")"
   ]
  },
  {
   "cell_type": "code",
   "execution_count": null,
   "metadata": {},
   "outputs": [],
   "source": []
  },
  {
   "cell_type": "code",
   "execution_count": 2,
   "metadata": {},
   "outputs": [],
   "source": [
    "library(\"DESeq2\")\n",
    "library(\"apeglm\")\n",
    "library(\"ggplot2\")\n",
    "library(\"org.Dr.eg.db\")\n",
    "library(\"ReportingTools\")\n",
    "library(\"pcaExplorer\")\n",
    "library(\"purrr\")"
   ]
  },
  {
   "cell_type": "code",
   "execution_count": 3,
   "metadata": {},
   "outputs": [],
   "source": [
    "setwd(\"/Users/angueyraaristjm/Documents/LiMolec/zfRNAseq/20181018/20181018_DESeq2/\")\n",
    "directory <- \"/Users/angueyraaristjm/Documents/LiMolec/zfRNAseq/20181018/20181018_DESeq2/\"\n",
    "getwd()"
   ]
  },
  {
   "cell_type": "code",
   "execution_count": 5,
   "metadata": {},
   "outputs": [
    {
     "data": {
      "text/html": [
       "<table>\n",
       "<thead><tr><th></th><th scope=col>photoreceptor</th><th scope=col>tgLine</th><th scope=col>gtf_file</th></tr></thead>\n",
       "<tbody>\n",
       "\t<tr><th scope=row>UV01</th><td>UV         </td><td>sws1GFP    </td><td>04_zfUV.gtf</td></tr>\n",
       "\t<tr><th scope=row>UV02</th><td>UV         </td><td>sws1GFP    </td><td>05_zfUV.gtf</td></tr>\n",
       "\t<tr><th scope=row>UV03</th><td>UV         </td><td>sws1GFP    </td><td>06_zfUV.gtf</td></tr>\n",
       "\t<tr><th scope=row>UV04</th><td>UV         </td><td>sws1GFP    </td><td>07_zfUV.gtf</td></tr>\n",
       "\t<tr><th scope=row>S01</th><td>S          </td><td>sws2GFP    </td><td>08_zfS.gtf </td></tr>\n",
       "\t<tr><th scope=row>S02</th><td>S          </td><td>sws2GFP    </td><td>09_zfS.gtf </td></tr>\n",
       "\t<tr><th scope=row>S03</th><td>S          </td><td>sws2GFP    </td><td>10_zfS.gtf </td></tr>\n",
       "\t<tr><th scope=row>S04</th><td>S          </td><td>sws2GFP    </td><td>11_zfS.gtf </td></tr>\n",
       "</tbody>\n",
       "</table>\n"
      ],
      "text/latex": [
       "\\begin{tabular}{r|lll}\n",
       "  & photoreceptor & tgLine & gtf\\_file\\\\\n",
       "\\hline\n",
       "\tUV01 & UV            & sws1GFP       & 04\\_zfUV.gtf\\\\\n",
       "\tUV02 & UV            & sws1GFP       & 05\\_zfUV.gtf\\\\\n",
       "\tUV03 & UV            & sws1GFP       & 06\\_zfUV.gtf\\\\\n",
       "\tUV04 & UV            & sws1GFP       & 07\\_zfUV.gtf\\\\\n",
       "\tS01 & S             & sws2GFP       & 08\\_zfS.gtf \\\\\n",
       "\tS02 & S             & sws2GFP       & 09\\_zfS.gtf \\\\\n",
       "\tS03 & S             & sws2GFP       & 10\\_zfS.gtf \\\\\n",
       "\tS04 & S             & sws2GFP       & 11\\_zfS.gtf \\\\\n",
       "\\end{tabular}\n"
      ],
      "text/markdown": [
       "\n",
       "| <!--/--> | photoreceptor | tgLine | gtf_file | \n",
       "|---|---|---|---|---|---|---|---|\n",
       "| UV01 | UV          | sws1GFP     | 04_zfUV.gtf | \n",
       "| UV02 | UV          | sws1GFP     | 05_zfUV.gtf | \n",
       "| UV03 | UV          | sws1GFP     | 06_zfUV.gtf | \n",
       "| UV04 | UV          | sws1GFP     | 07_zfUV.gtf | \n",
       "| S01 | S           | sws2GFP     | 08_zfS.gtf  | \n",
       "| S02 | S           | sws2GFP     | 09_zfS.gtf  | \n",
       "| S03 | S           | sws2GFP     | 10_zfS.gtf  | \n",
       "| S04 | S           | sws2GFP     | 11_zfS.gtf  | \n",
       "\n",
       "\n"
      ],
      "text/plain": [
       "     photoreceptor tgLine  gtf_file   \n",
       "UV01 UV            sws1GFP 04_zfUV.gtf\n",
       "UV02 UV            sws1GFP 05_zfUV.gtf\n",
       "UV03 UV            sws1GFP 06_zfUV.gtf\n",
       "UV04 UV            sws1GFP 07_zfUV.gtf\n",
       "S01  S             sws2GFP 08_zfS.gtf \n",
       "S02  S             sws2GFP 09_zfS.gtf \n",
       "S03  S             sws2GFP 10_zfS.gtf \n",
       "S04  S             sws2GFP 11_zfS.gtf "
      ]
     },
     "metadata": {},
     "output_type": "display_data"
    }
   ],
   "source": [
    "countData <- as.matrix(read.csv(\"gCount.csv\", row.names=\"gene_id\"))\n",
    "colData <- read.csv(\"PHENO_DATA.csv\", sep=\"\\t\", row.names=1)\n",
    "colData"
   ]
  },
  {
   "cell_type": "code",
   "execution_count": 6,
   "metadata": {},
   "outputs": [
    {
     "data": {
      "text/html": [
       "TRUE"
      ],
      "text/latex": [
       "TRUE"
      ],
      "text/markdown": [
       "TRUE"
      ],
      "text/plain": [
       "[1] TRUE"
      ]
     },
     "metadata": {},
     "output_type": "display_data"
    },
    {
     "name": "stderr",
     "output_type": "stream",
     "text": [
      "estimating size factors\n",
      "estimating dispersions\n",
      "gene-wise dispersion estimates\n",
      "mean-dispersion relationship\n",
      "final dispersion estimates\n",
      "fitting model and testing\n"
     ]
    },
    {
     "name": "stdout",
     "output_type": "stream",
     "text": [
      "\n",
      "out of 13520 with nonzero total read count\n",
      "adjusted p-value < 0.1\n",
      "LFC > 0 (up)       : 211, 1.6%\n",
      "LFC < 0 (down)     : 129, 0.95%\n",
      "outliers [1]       : 3044, 23%\n",
      "low counts [2]     : 2044, 15%\n",
      "(mean count < 4)\n",
      "[1] see 'cooksCutoff' argument of ?results\n",
      "[2] see 'independentFiltering' argument of ?results\n",
      "\n"
     ]
    }
   ],
   "source": [
    "countData <- countData[, rownames(colData)]\n",
    "all(rownames(colData) == colnames(countData))\n",
    "dds <- DESeqDataSetFromMatrix(countData = countData, colData = colData, design = ~photoreceptor)\n",
    "dds <- DESeq(dds)\n",
    "res <- results(dds)\n",
    "summary(res)\n",
    "# sum(res$padj < 0.1, na.rm=TRUE)\n",
    "# write.csv(res, file = \"/data/angueyraaristjm/20181018_DESeq2/results.csv\")"
   ]
  },
  {
   "cell_type": "code",
   "execution_count": 7,
   "metadata": {},
   "outputs": [],
   "source": [
    "resOrdered <- res[order(res$padj),]\n",
    "# write.csv(resOrdered, file = \"results_allversions/results.csv\")"
   ]
  },
  {
   "cell_type": "markdown",
   "metadata": {},
   "source": [
    "### Save results (but first include genenames in results)"
   ]
  },
  {
   "cell_type": "code",
   "execution_count": 8,
   "metadata": {},
   "outputs": [
    {
     "data": {
      "text/html": [
       "<table>\n",
       "<thead><tr><th scope=col>symbol</th><th scope=col>genename</th></tr></thead>\n",
       "<tbody>\n",
       "\t<tr><td>abcc8b                                                       </td><td>ATP-binding cassette, sub-family C (CFTR/MRP), member 8b     </td></tr>\n",
       "\t<tr><td>hnrnpul1                                                     </td><td>heterogeneous nuclear ribonucleoprotein U-like 1             </td></tr>\n",
       "\t<tr><td>msto1                                                        </td><td>misato 1, mitochondrial distribution and morphology regulator</td></tr>\n",
       "\t<tr><td>mib2                                                         </td><td>mindbomb E3 ubiquitin protein ligase 2                       </td></tr>\n",
       "\t<tr><td>si:ch1073-342h5.2                                            </td><td>si:ch1073-342h5.2                                            </td></tr>\n",
       "\t<tr><td>fkbp14                                                       </td><td>FK506 binding protein 14                                     </td></tr>\n",
       "</tbody>\n",
       "</table>\n"
      ],
      "text/latex": [
       "\\begin{tabular}{r|ll}\n",
       " symbol & genename\\\\\n",
       "\\hline\n",
       "\t abcc8b                                                        & ATP-binding cassette, sub-family C (CFTR/MRP), member 8b     \\\\\n",
       "\t hnrnpul1                                                      & heterogeneous nuclear ribonucleoprotein U-like 1             \\\\\n",
       "\t msto1                                                         & misato 1, mitochondrial distribution and morphology regulator\\\\\n",
       "\t mib2                                                          & mindbomb E3 ubiquitin protein ligase 2                       \\\\\n",
       "\t si:ch1073-342h5.2                                             & si:ch1073-342h5.2                                            \\\\\n",
       "\t fkbp14                                                        & FK506 binding protein 14                                     \\\\\n",
       "\\end{tabular}\n"
      ],
      "text/markdown": [
       "\n",
       "symbol | genename | \n",
       "|---|---|---|---|---|---|\n",
       "| abcc8b                                                        | ATP-binding cassette, sub-family C (CFTR/MRP), member 8b      | \n",
       "| hnrnpul1                                                      | heterogeneous nuclear ribonucleoprotein U-like 1              | \n",
       "| msto1                                                         | misato 1, mitochondrial distribution and morphology regulator | \n",
       "| mib2                                                          | mindbomb E3 ubiquitin protein ligase 2                        | \n",
       "| si:ch1073-342h5.2                                             | si:ch1073-342h5.2                                             | \n",
       "| fkbp14                                                        | FK506 binding protein 14                                      | \n",
       "\n",
       "\n"
      ],
      "text/plain": [
       "  symbol           \n",
       "1 abcc8b           \n",
       "2 hnrnpul1         \n",
       "3 msto1            \n",
       "4 mib2             \n",
       "5 si:ch1073-342h5.2\n",
       "6 fkbp14           \n",
       "  genename                                                     \n",
       "1 ATP-binding cassette, sub-family C (CFTR/MRP), member 8b     \n",
       "2 heterogeneous nuclear ribonucleoprotein U-like 1             \n",
       "3 misato 1, mitochondrial distribution and morphology regulator\n",
       "4 mindbomb E3 ubiquitin protein ligase 2                       \n",
       "5 si:ch1073-342h5.2                                            \n",
       "6 FK506 binding protein 14                                     "
      ]
     },
     "metadata": {},
     "output_type": "display_data"
    }
   ],
   "source": [
    "# Run this only if things have changed:\n",
    "# resdata <- merge(as.data.frame(res), as.data.frame(counts(dds,normalized =TRUE)), by = 'row.names', sort = FALSE)\n",
    "# resdata <- resdata[order(resdata$padj),]\n",
    "# names(resdata)[1] <- 'symbol'\n",
    "# genenames <- mapIds(org.Dr.eg.db, keys=resdata[,c(\"symbol\")], column=c(\"GENENAME\"), keytype=\"SYMBOL\")\n",
    "# write.csv(genenames, file = \"genenames.csv\", col.names=c(\"symbol\",\"genename\"))\n",
    "genenames <- read.csv(\"genenames.csv\", sep=\",\")\n",
    "colnames(genenames) <- c(\"symbol\",\"genename\")\n",
    "head(genenames)"
   ]
  },
  {
   "cell_type": "code",
   "execution_count": 9,
   "metadata": {},
   "outputs": [
    {
     "name": "stdout",
     "output_type": "stream",
     "text": [
      "[1] \"data frames DO match\"\n"
     ]
    }
   ],
   "source": [
    "# results + raw counts\n",
    "resdata <- merge(as.data.frame(res), as.data.frame(counts(dds,normalized =FALSE)), by = 'row.names', sort = FALSE)\n",
    "resdata <- resdata[order(resdata$padj),]\n",
    "names(resdata)[1] <- 'symbol'\n",
    "\n",
    "if (all(genenames$symbol == resdata$symbol)) {\n",
    "    print(\"data frames DO match\")\n",
    "    resdata$genename = genenames$genename\n",
    "    resdata <- resdata[c(1,ncol(resdata),2:ncol(resdata)-1)] #not sure why it's adding symbol again\n",
    "    resdata <- resdata[c(1,2,4:ncol(resdata))]\n",
    "    head(resdata)\n",
    "    write.csv(resdata, file = \"results_allversions/results_rawdata.csv\")\n",
    "} else {\n",
    "    print(\"data frames do NOT match\")\n",
    "}"
   ]
  },
  {
   "cell_type": "code",
   "execution_count": 10,
   "metadata": {},
   "outputs": [
    {
     "name": "stdout",
     "output_type": "stream",
     "text": [
      "[1] \"data frames DO match\"\n"
     ]
    }
   ],
   "source": [
    "# results + normalized counts log2((counts/average sequencing depth across samples)+0.5)\n",
    "resdata <- merge(as.data.frame(res), as.data.frame(counts(dds,normalized =TRUE)), by = 'row.names', sort = FALSE)\n",
    "resdata <- resdata[order(resdata$padj),]\n",
    "names(resdata)[1] <- 'symbol'\n",
    "\n",
    "if (all(genenames$symbol == resdata$symbol)) {\n",
    "    print(\"data frames DO match\")\n",
    "    resdata$genename = genenames$genename\n",
    "    resdata <- resdata[c(1,ncol(resdata),2:ncol(resdata)-1)] #not sure why it's adding symbol again\n",
    "    resdata <- resdata[c(1,2,4:ncol(resdata))]\n",
    "    head(resdata)\n",
    "    write.csv(resdata, file = \"results_allversions/results_normdata.csv\")\n",
    "} else {\n",
    "    print(\"data frames do NOT match\")\n",
    "}"
   ]
  },
  {
   "cell_type": "code",
   "execution_count": 11,
   "metadata": {},
   "outputs": [
    {
     "data": {
      "text/html": [
       "<table>\n",
       "<thead><tr><th></th><th scope=col>symbol</th><th scope=col>genename</th><th scope=col>baseMean</th><th scope=col>log2FoldChange</th><th scope=col>lfcSE</th><th scope=col>stat</th><th scope=col>pvalue</th><th scope=col>padj</th><th scope=col>UV01</th><th scope=col>UV02</th><th scope=col>UV03</th><th scope=col>UV04</th><th scope=col>S01</th><th scope=col>S02</th><th scope=col>S03</th><th scope=col>S04</th></tr></thead>\n",
       "<tbody>\n",
       "\t<tr><th scope=row>1386</th><td>abcc8b                                                       </td><td>ATP-binding cassette, sub-family C (CFTR/MRP), member 8b     </td><td>142.31274                                                    </td><td> 24.44194                                                    </td><td>3.383648                                                     </td><td> 7.223549                                                    </td><td>5.064821e-13                                                 </td><td>1.767334e-10                                                 </td><td>340.8746                                                     </td><td> 797.6273                                                    </td><td>  0.0000                                                     </td><td>  0.0000                                                     </td><td>0                                                            </td><td>  0.0000                                                     </td><td>  0.0000                                                     </td><td>  0.0000                                                     </td></tr>\n",
       "\t<tr><th scope=row>1770</th><td>hnrnpul1                                                     </td><td>heterogeneous nuclear ribonucleoprotein U-like 1             </td><td>267.56757                                                    </td><td> 25.32257                                                    </td><td>3.383518                                                     </td><td> 7.484095                                                    </td><td>7.204198e-14                                                 </td><td>1.767334e-10                                                 </td><td>  0.0000                                                     </td><td>1457.7327                                                    </td><td>  0.0000                                                     </td><td>682.8079                                                     </td><td>0                                                            </td><td>  0.0000                                                     </td><td>  0.0000                                                     </td><td>  0.0000                                                     </td></tr>\n",
       "\t<tr><th scope=row>2839</th><td>msto1                                                        </td><td>misato 1, mitochondrial distribution and morphology regulator</td><td>130.28707                                                    </td><td> 24.31773                                                    </td><td>3.383673                                                     </td><td> 7.186784                                                    </td><td>6.633501e-13                                                 </td><td>1.767334e-10                                                 </td><td>  0.0000                                                     </td><td> 581.7179                                                    </td><td>460.5787                                                     </td><td>  0.0000                                                     </td><td>0                                                            </td><td>  0.0000                                                     </td><td>  0.0000                                                     </td><td>  0.0000                                                     </td></tr>\n",
       "\t<tr><th scope=row>4289</th><td>mib2                                                         </td><td>mindbomb E3 ubiquitin protein ligase 2                       </td><td> 90.28003                                                    </td><td>-24.29415                                                    </td><td>3.376163                                                     </td><td>-7.195787                                                    </td><td>6.210140e-13                                                 </td><td>1.767334e-10                                                 </td><td>  0.0000                                                     </td><td>   0.0000                                                    </td><td>  0.0000                                                     </td><td>  0.0000                                                     </td><td>0                                                            </td><td>362.2895                                                     </td><td>359.9508                                                     </td><td>  0.0000                                                     </td></tr>\n",
       "\t<tr><th scope=row>5095</th><td>si:ch1073-342h5.2                                            </td><td>si:ch1073-342h5.2                                            </td><td> 79.75580                                                    </td><td>-24.12568                                                    </td><td>3.346402                                                     </td><td>-7.209438                                                    </td><td>5.618340e-13                                                 </td><td>1.767334e-10                                                 </td><td>  0.0000                                                     </td><td>   0.0000                                                    </td><td>  0.0000                                                     </td><td>  0.0000                                                     </td><td>0                                                            </td><td>395.4993                                                     </td><td>  0.0000                                                     </td><td>242.5471                                                     </td></tr>\n",
       "\t<tr><th scope=row>5213</th><td>fkbp14                                                       </td><td>FK506 binding protein 14                                     </td><td>142.12461                                                    </td><td>-24.91801                                                    </td><td>3.383614                                                     </td><td>-7.364320                                                    </td><td>1.780526e-13                                                 </td><td>1.767334e-10                                                 </td><td>  0.0000                                                     </td><td>   0.0000                                                    </td><td>  0.0000                                                     </td><td>  0.0000                                                     </td><td>0                                                            </td><td>  0.0000                                                     </td><td>412.9668                                                     </td><td>724.0301                                                     </td></tr>\n",
       "</tbody>\n",
       "</table>\n"
      ],
      "text/latex": [
       "\\begin{tabular}{r|llllllllllllllll}\n",
       "  & symbol & genename & baseMean & log2FoldChange & lfcSE & stat & pvalue & padj & UV01 & UV02 & UV03 & UV04 & S01 & S02 & S03 & S04\\\\\n",
       "\\hline\n",
       "\t1386 & abcc8b                                                        & ATP-binding cassette, sub-family C (CFTR/MRP), member 8b      & 142.31274                                                     &  24.44194                                                     & 3.383648                                                      &  7.223549                                                     & 5.064821e-13                                                  & 1.767334e-10                                                  & 340.8746                                                      &  797.6273                                                     &   0.0000                                                      &   0.0000                                                      & 0                                                             &   0.0000                                                      &   0.0000                                                      &   0.0000                                                     \\\\\n",
       "\t1770 & hnrnpul1                                                      & heterogeneous nuclear ribonucleoprotein U-like 1              & 267.56757                                                     &  25.32257                                                     & 3.383518                                                      &  7.484095                                                     & 7.204198e-14                                                  & 1.767334e-10                                                  &   0.0000                                                      & 1457.7327                                                     &   0.0000                                                      & 682.8079                                                      & 0                                                             &   0.0000                                                      &   0.0000                                                      &   0.0000                                                     \\\\\n",
       "\t2839 & msto1                                                         & misato 1, mitochondrial distribution and morphology regulator & 130.28707                                                     &  24.31773                                                     & 3.383673                                                      &  7.186784                                                     & 6.633501e-13                                                  & 1.767334e-10                                                  &   0.0000                                                      &  581.7179                                                     & 460.5787                                                      &   0.0000                                                      & 0                                                             &   0.0000                                                      &   0.0000                                                      &   0.0000                                                     \\\\\n",
       "\t4289 & mib2                                                          & mindbomb E3 ubiquitin protein ligase 2                        &  90.28003                                                     & -24.29415                                                     & 3.376163                                                      & -7.195787                                                     & 6.210140e-13                                                  & 1.767334e-10                                                  &   0.0000                                                      &    0.0000                                                     &   0.0000                                                      &   0.0000                                                      & 0                                                             & 362.2895                                                      & 359.9508                                                      &   0.0000                                                     \\\\\n",
       "\t5095 & si:ch1073-342h5.2                                             & si:ch1073-342h5.2                                             &  79.75580                                                     & -24.12568                                                     & 3.346402                                                      & -7.209438                                                     & 5.618340e-13                                                  & 1.767334e-10                                                  &   0.0000                                                      &    0.0000                                                     &   0.0000                                                      &   0.0000                                                      & 0                                                             & 395.4993                                                      &   0.0000                                                      & 242.5471                                                     \\\\\n",
       "\t5213 & fkbp14                                                        & FK506 binding protein 14                                      & 142.12461                                                     & -24.91801                                                     & 3.383614                                                      & -7.364320                                                     & 1.780526e-13                                                  & 1.767334e-10                                                  &   0.0000                                                      &    0.0000                                                     &   0.0000                                                      &   0.0000                                                      & 0                                                             &   0.0000                                                      & 412.9668                                                      & 724.0301                                                     \\\\\n",
       "\\end{tabular}\n"
      ],
      "text/markdown": [
       "\n",
       "| <!--/--> | symbol | genename | baseMean | log2FoldChange | lfcSE | stat | pvalue | padj | UV01 | UV02 | UV03 | UV04 | S01 | S02 | S03 | S04 | \n",
       "|---|---|---|---|---|---|\n",
       "| 1386 | abcc8b                                                        | ATP-binding cassette, sub-family C (CFTR/MRP), member 8b      | 142.31274                                                     |  24.44194                                                     | 3.383648                                                      |  7.223549                                                     | 5.064821e-13                                                  | 1.767334e-10                                                  | 340.8746                                                      |  797.6273                                                     |   0.0000                                                      |   0.0000                                                      | 0                                                             |   0.0000                                                      |   0.0000                                                      |   0.0000                                                      | \n",
       "| 1770 | hnrnpul1                                                      | heterogeneous nuclear ribonucleoprotein U-like 1              | 267.56757                                                     |  25.32257                                                     | 3.383518                                                      |  7.484095                                                     | 7.204198e-14                                                  | 1.767334e-10                                                  |   0.0000                                                      | 1457.7327                                                     |   0.0000                                                      | 682.8079                                                      | 0                                                             |   0.0000                                                      |   0.0000                                                      |   0.0000                                                      | \n",
       "| 2839 | msto1                                                         | misato 1, mitochondrial distribution and morphology regulator | 130.28707                                                     |  24.31773                                                     | 3.383673                                                      |  7.186784                                                     | 6.633501e-13                                                  | 1.767334e-10                                                  |   0.0000                                                      |  581.7179                                                     | 460.5787                                                      |   0.0000                                                      | 0                                                             |   0.0000                                                      |   0.0000                                                      |   0.0000                                                      | \n",
       "| 4289 | mib2                                                          | mindbomb E3 ubiquitin protein ligase 2                        |  90.28003                                                     | -24.29415                                                     | 3.376163                                                      | -7.195787                                                     | 6.210140e-13                                                  | 1.767334e-10                                                  |   0.0000                                                      |    0.0000                                                     |   0.0000                                                      |   0.0000                                                      | 0                                                             | 362.2895                                                      | 359.9508                                                      |   0.0000                                                      | \n",
       "| 5095 | si:ch1073-342h5.2                                             | si:ch1073-342h5.2                                             |  79.75580                                                     | -24.12568                                                     | 3.346402                                                      | -7.209438                                                     | 5.618340e-13                                                  | 1.767334e-10                                                  |   0.0000                                                      |    0.0000                                                     |   0.0000                                                      |   0.0000                                                      | 0                                                             | 395.4993                                                      |   0.0000                                                      | 242.5471                                                      | \n",
       "| 5213 | fkbp14                                                        | FK506 binding protein 14                                      | 142.12461                                                     | -24.91801                                                     | 3.383614                                                      | -7.364320                                                     | 1.780526e-13                                                  | 1.767334e-10                                                  |   0.0000                                                      |    0.0000                                                     |   0.0000                                                      |   0.0000                                                      | 0                                                             |   0.0000                                                      | 412.9668                                                      | 724.0301                                                      | \n",
       "\n",
       "\n"
      ],
      "text/plain": [
       "     symbol           \n",
       "1386 abcc8b           \n",
       "1770 hnrnpul1         \n",
       "2839 msto1            \n",
       "4289 mib2             \n",
       "5095 si:ch1073-342h5.2\n",
       "5213 fkbp14           \n",
       "     genename                                                      baseMean \n",
       "1386 ATP-binding cassette, sub-family C (CFTR/MRP), member 8b      142.31274\n",
       "1770 heterogeneous nuclear ribonucleoprotein U-like 1              267.56757\n",
       "2839 misato 1, mitochondrial distribution and morphology regulator 130.28707\n",
       "4289 mindbomb E3 ubiquitin protein ligase 2                         90.28003\n",
       "5095 si:ch1073-342h5.2                                              79.75580\n",
       "5213 FK506 binding protein 14                                      142.12461\n",
       "     log2FoldChange lfcSE    stat      pvalue       padj         UV01    \n",
       "1386  24.44194      3.383648  7.223549 5.064821e-13 1.767334e-10 340.8746\n",
       "1770  25.32257      3.383518  7.484095 7.204198e-14 1.767334e-10   0.0000\n",
       "2839  24.31773      3.383673  7.186784 6.633501e-13 1.767334e-10   0.0000\n",
       "4289 -24.29415      3.376163 -7.195787 6.210140e-13 1.767334e-10   0.0000\n",
       "5095 -24.12568      3.346402 -7.209438 5.618340e-13 1.767334e-10   0.0000\n",
       "5213 -24.91801      3.383614 -7.364320 1.780526e-13 1.767334e-10   0.0000\n",
       "     UV02      UV03     UV04     S01 S02      S03      S04     \n",
       "1386  797.6273   0.0000   0.0000 0     0.0000   0.0000   0.0000\n",
       "1770 1457.7327   0.0000 682.8079 0     0.0000   0.0000   0.0000\n",
       "2839  581.7179 460.5787   0.0000 0     0.0000   0.0000   0.0000\n",
       "4289    0.0000   0.0000   0.0000 0   362.2895 359.9508   0.0000\n",
       "5095    0.0000   0.0000   0.0000 0   395.4993   0.0000 242.5471\n",
       "5213    0.0000   0.0000   0.0000 0     0.0000 412.9668 724.0301"
      ]
     },
     "metadata": {},
     "output_type": "display_data"
    }
   ],
   "source": [
    "head(resdata)"
   ]
  },
  {
   "cell_type": "code",
   "execution_count": 12,
   "metadata": {},
   "outputs": [
    {
     "name": "stderr",
     "output_type": "stream",
     "text": [
      "using 'apeglm' for LFC shrinkage. If used in published research, please cite:\n",
      "    Zhu, A., Ibrahim, J.G., Love, M.I. (2018) Heavy-tailed prior distributions for\n",
      "    sequence count data: removing the noise and preserving large differences.\n",
      "    Bioinformatics. https://doi.org/10.1093/bioinformatics/bty895\n"
     ]
    },
    {
     "data": {
      "text/plain": [
       "log2 fold change (MAP): photoreceptor UV vs S \n",
       "Wald test p-value: photoreceptor UV vs S \n",
       "DataFrame with 28442 rows and 5 columns\n",
       "                         baseMean     log2FoldChange            lfcSE\n",
       "                        <numeric>          <numeric>        <numeric>\n",
       "foxq2            1592.38581303657 -0.724379947935154 1.41423188013175\n",
       "CU657925.1                      0                 NA               NA\n",
       "neurl2                          0                 NA               NA\n",
       "neurl4           22.7952108960837 -0.303278311490007  1.0888752633247\n",
       "lamc2                           0                 NA               NA\n",
       "...                           ...                ...              ...\n",
       "si:ch73-314g15.3                0                 NA               NA\n",
       "ptgdsa                          0                 NA               NA\n",
       "abcb6b                          0                 NA               NA\n",
       "abcb6a            5.1936653738911  0.299499622852028 1.08399975657478\n",
       "ccdc87                          0                 NA               NA\n",
       "                             pvalue              padj\n",
       "                          <numeric>         <numeric>\n",
       "foxq2            0.0212349918871135 0.259122216486456\n",
       "CU657925.1                       NA                NA\n",
       "neurl2                           NA                NA\n",
       "neurl4                           NA                NA\n",
       "lamc2                            NA                NA\n",
       "...                             ...               ...\n",
       "si:ch73-314g15.3                 NA                NA\n",
       "ptgdsa                           NA                NA\n",
       "abcb6b                           NA                NA\n",
       "abcb6a                           NA                NA\n",
       "ccdc87                           NA                NA"
      ]
     },
     "metadata": {},
     "output_type": "display_data"
    }
   ],
   "source": [
    "# Log fold change shrinkage for visualization and ranking\n",
    "# resultsNames(dds)\n",
    "resLFC <- lfcShrink(dds, coef=\"photoreceptor_UV_vs_S\", type=\"apeglm\")\n",
    "resLFC\n",
    "# write.csv(resLFC, file = \"results_LFCestimates.csv\")\n",
    "# REFERENCE: Zhu, A., Ibrahim, J.G., Love, M.I. (2018) Heavy-tailed prior distributions for sequence count data: removing the noise and preserving large differences. bioRxiv. 10.1101/303255"
   ]
  },
  {
   "cell_type": "code",
   "execution_count": 13,
   "metadata": {},
   "outputs": [
    {
     "name": "stdout",
     "output_type": "stream",
     "text": [
      "[1] \"data frames DO match\"\n"
     ]
    }
   ],
   "source": [
    "# results + normalized counts log2((counts/average sequencing depth across samples)+0.5)\n",
    "resdata <- merge(as.data.frame(resLFC), as.data.frame(counts(dds,normalized =TRUE)), by = 'row.names', sort = FALSE)\n",
    "resdata <- resdata[order(resdata$padj),]\n",
    "names(resdata)[1] <- 'symbol'\n",
    "\n",
    "if (all(genenames$symbol == resdata$symbol)) {\n",
    "    print(\"data frames DO match\")\n",
    "    resdata$genename = genenames$genename\n",
    "    resdata <- resdata[c(1,ncol(resdata),2:ncol(resdata)-1)] #not sure why it's adding symbol again\n",
    "    resdata <- resdata[c(1,2,4:ncol(resdata))]\n",
    "    head(resdata)\n",
    "    write.csv(resdata, file = \"results_allversions/results_LFC_normdata.csv\")\n",
    "} else {\n",
    "    print(\"data frames do NOT match\")\n",
    "}"
   ]
  },
  {
   "cell_type": "code",
   "execution_count": 14,
   "metadata": {},
   "outputs": [
    {
     "data": {
      "text/html": [
       "<table>\n",
       "<thead><tr><th></th><th scope=col>symbol</th><th scope=col>genename</th><th scope=col>baseMean</th><th scope=col>log2FoldChange</th><th scope=col>lfcSE</th><th scope=col>pvalue</th><th scope=col>padj</th><th scope=col>UV01</th><th scope=col>UV02</th><th scope=col>UV03</th><th scope=col>UV04</th><th scope=col>S01</th><th scope=col>S02</th><th scope=col>S03</th><th scope=col>S04</th></tr></thead>\n",
       "<tbody>\n",
       "\t<tr><th scope=row>1386</th><td>abcc8b                                                       </td><td>ATP-binding cassette, sub-family C (CFTR/MRP), member 8b     </td><td>142.31274                                                    </td><td> 0.3181714                                                   </td><td>1.095263                                                     </td><td>5.064821e-13                                                 </td><td>1.767334e-10                                                 </td><td>340.8746                                                     </td><td> 797.6273                                                    </td><td>  0.0000                                                     </td><td>  0.0000                                                     </td><td>0                                                            </td><td>  0.0000                                                     </td><td>  0.0000                                                     </td><td>  0.0000                                                     </td></tr>\n",
       "\t<tr><th scope=row>1770</th><td>hnrnpul1                                                     </td><td>heterogeneous nuclear ribonucleoprotein U-like 1             </td><td>267.56757                                                    </td><td> 0.3205617                                                   </td><td>1.096496                                                     </td><td>7.204198e-14                                                 </td><td>1.767334e-10                                                 </td><td>  0.0000                                                     </td><td>1457.7327                                                    </td><td>  0.0000                                                     </td><td>682.8079                                                     </td><td>0                                                            </td><td>  0.0000                                                     </td><td>  0.0000                                                     </td><td>  0.0000                                                     </td></tr>\n",
       "\t<tr><th scope=row>2839</th><td>msto1                                                        </td><td>misato 1, mitochondrial distribution and morphology regulator</td><td>130.28707                                                    </td><td> 0.3178590                                                   </td><td>1.095100                                                     </td><td>6.633501e-13                                                 </td><td>1.767334e-10                                                 </td><td>  0.0000                                                     </td><td> 581.7179                                                    </td><td>460.5787                                                     </td><td>  0.0000                                                     </td><td>0                                                            </td><td>  0.0000                                                     </td><td>  0.0000                                                     </td><td>  0.0000                                                     </td></tr>\n",
       "\t<tr><th scope=row>4289</th><td>mib2                                                         </td><td>mindbomb E3 ubiquitin protein ligase 2                       </td><td> 90.28003                                                    </td><td>-0.3058303                                                   </td><td>1.090592                                                     </td><td>6.210140e-13                                                 </td><td>1.767334e-10                                                 </td><td>  0.0000                                                     </td><td>   0.0000                                                    </td><td>  0.0000                                                     </td><td>  0.0000                                                     </td><td>0                                                            </td><td>362.2895                                                     </td><td>359.9508                                                     </td><td>  0.0000                                                     </td></tr>\n",
       "\t<tr><th scope=row>5095</th><td>si:ch1073-342h5.2                                            </td><td>si:ch1073-342h5.2                                            </td><td> 79.75580                                                    </td><td>-0.3115681                                                   </td><td>1.093309                                                     </td><td>5.618340e-13                                                 </td><td>1.767334e-10                                                 </td><td>  0.0000                                                     </td><td>   0.0000                                                    </td><td>  0.0000                                                     </td><td>  0.0000                                                     </td><td>0                                                            </td><td>395.4993                                                     </td><td>  0.0000                                                     </td><td>242.5471                                                     </td></tr>\n",
       "\t<tr><th scope=row>5213</th><td>fkbp14                                                       </td><td>FK506 binding protein 14                                     </td><td>142.12461                                                    </td><td>-0.3023876                                                   </td><td>1.089036                                                     </td><td>1.780526e-13                                                 </td><td>1.767334e-10                                                 </td><td>  0.0000                                                     </td><td>   0.0000                                                    </td><td>  0.0000                                                     </td><td>  0.0000                                                     </td><td>0                                                            </td><td>  0.0000                                                     </td><td>412.9668                                                     </td><td>724.0301                                                     </td></tr>\n",
       "</tbody>\n",
       "</table>\n"
      ],
      "text/latex": [
       "\\begin{tabular}{r|lllllllllllllll}\n",
       "  & symbol & genename & baseMean & log2FoldChange & lfcSE & pvalue & padj & UV01 & UV02 & UV03 & UV04 & S01 & S02 & S03 & S04\\\\\n",
       "\\hline\n",
       "\t1386 & abcc8b                                                        & ATP-binding cassette, sub-family C (CFTR/MRP), member 8b      & 142.31274                                                     &  0.3181714                                                    & 1.095263                                                      & 5.064821e-13                                                  & 1.767334e-10                                                  & 340.8746                                                      &  797.6273                                                     &   0.0000                                                      &   0.0000                                                      & 0                                                             &   0.0000                                                      &   0.0000                                                      &   0.0000                                                     \\\\\n",
       "\t1770 & hnrnpul1                                                      & heterogeneous nuclear ribonucleoprotein U-like 1              & 267.56757                                                     &  0.3205617                                                    & 1.096496                                                      & 7.204198e-14                                                  & 1.767334e-10                                                  &   0.0000                                                      & 1457.7327                                                     &   0.0000                                                      & 682.8079                                                      & 0                                                             &   0.0000                                                      &   0.0000                                                      &   0.0000                                                     \\\\\n",
       "\t2839 & msto1                                                         & misato 1, mitochondrial distribution and morphology regulator & 130.28707                                                     &  0.3178590                                                    & 1.095100                                                      & 6.633501e-13                                                  & 1.767334e-10                                                  &   0.0000                                                      &  581.7179                                                     & 460.5787                                                      &   0.0000                                                      & 0                                                             &   0.0000                                                      &   0.0000                                                      &   0.0000                                                     \\\\\n",
       "\t4289 & mib2                                                          & mindbomb E3 ubiquitin protein ligase 2                        &  90.28003                                                     & -0.3058303                                                    & 1.090592                                                      & 6.210140e-13                                                  & 1.767334e-10                                                  &   0.0000                                                      &    0.0000                                                     &   0.0000                                                      &   0.0000                                                      & 0                                                             & 362.2895                                                      & 359.9508                                                      &   0.0000                                                     \\\\\n",
       "\t5095 & si:ch1073-342h5.2                                             & si:ch1073-342h5.2                                             &  79.75580                                                     & -0.3115681                                                    & 1.093309                                                      & 5.618340e-13                                                  & 1.767334e-10                                                  &   0.0000                                                      &    0.0000                                                     &   0.0000                                                      &   0.0000                                                      & 0                                                             & 395.4993                                                      &   0.0000                                                      & 242.5471                                                     \\\\\n",
       "\t5213 & fkbp14                                                        & FK506 binding protein 14                                      & 142.12461                                                     & -0.3023876                                                    & 1.089036                                                      & 1.780526e-13                                                  & 1.767334e-10                                                  &   0.0000                                                      &    0.0000                                                     &   0.0000                                                      &   0.0000                                                      & 0                                                             &   0.0000                                                      & 412.9668                                                      & 724.0301                                                     \\\\\n",
       "\\end{tabular}\n"
      ],
      "text/markdown": [
       "\n",
       "| <!--/--> | symbol | genename | baseMean | log2FoldChange | lfcSE | pvalue | padj | UV01 | UV02 | UV03 | UV04 | S01 | S02 | S03 | S04 | \n",
       "|---|---|---|---|---|---|\n",
       "| 1386 | abcc8b                                                        | ATP-binding cassette, sub-family C (CFTR/MRP), member 8b      | 142.31274                                                     |  0.3181714                                                    | 1.095263                                                      | 5.064821e-13                                                  | 1.767334e-10                                                  | 340.8746                                                      |  797.6273                                                     |   0.0000                                                      |   0.0000                                                      | 0                                                             |   0.0000                                                      |   0.0000                                                      |   0.0000                                                      | \n",
       "| 1770 | hnrnpul1                                                      | heterogeneous nuclear ribonucleoprotein U-like 1              | 267.56757                                                     |  0.3205617                                                    | 1.096496                                                      | 7.204198e-14                                                  | 1.767334e-10                                                  |   0.0000                                                      | 1457.7327                                                     |   0.0000                                                      | 682.8079                                                      | 0                                                             |   0.0000                                                      |   0.0000                                                      |   0.0000                                                      | \n",
       "| 2839 | msto1                                                         | misato 1, mitochondrial distribution and morphology regulator | 130.28707                                                     |  0.3178590                                                    | 1.095100                                                      | 6.633501e-13                                                  | 1.767334e-10                                                  |   0.0000                                                      |  581.7179                                                     | 460.5787                                                      |   0.0000                                                      | 0                                                             |   0.0000                                                      |   0.0000                                                      |   0.0000                                                      | \n",
       "| 4289 | mib2                                                          | mindbomb E3 ubiquitin protein ligase 2                        |  90.28003                                                     | -0.3058303                                                    | 1.090592                                                      | 6.210140e-13                                                  | 1.767334e-10                                                  |   0.0000                                                      |    0.0000                                                     |   0.0000                                                      |   0.0000                                                      | 0                                                             | 362.2895                                                      | 359.9508                                                      |   0.0000                                                      | \n",
       "| 5095 | si:ch1073-342h5.2                                             | si:ch1073-342h5.2                                             |  79.75580                                                     | -0.3115681                                                    | 1.093309                                                      | 5.618340e-13                                                  | 1.767334e-10                                                  |   0.0000                                                      |    0.0000                                                     |   0.0000                                                      |   0.0000                                                      | 0                                                             | 395.4993                                                      |   0.0000                                                      | 242.5471                                                      | \n",
       "| 5213 | fkbp14                                                        | FK506 binding protein 14                                      | 142.12461                                                     | -0.3023876                                                    | 1.089036                                                      | 1.780526e-13                                                  | 1.767334e-10                                                  |   0.0000                                                      |    0.0000                                                     |   0.0000                                                      |   0.0000                                                      | 0                                                             |   0.0000                                                      | 412.9668                                                      | 724.0301                                                      | \n",
       "\n",
       "\n"
      ],
      "text/plain": [
       "     symbol           \n",
       "1386 abcc8b           \n",
       "1770 hnrnpul1         \n",
       "2839 msto1            \n",
       "4289 mib2             \n",
       "5095 si:ch1073-342h5.2\n",
       "5213 fkbp14           \n",
       "     genename                                                      baseMean \n",
       "1386 ATP-binding cassette, sub-family C (CFTR/MRP), member 8b      142.31274\n",
       "1770 heterogeneous nuclear ribonucleoprotein U-like 1              267.56757\n",
       "2839 misato 1, mitochondrial distribution and morphology regulator 130.28707\n",
       "4289 mindbomb E3 ubiquitin protein ligase 2                         90.28003\n",
       "5095 si:ch1073-342h5.2                                              79.75580\n",
       "5213 FK506 binding protein 14                                      142.12461\n",
       "     log2FoldChange lfcSE    pvalue       padj         UV01     UV02     \n",
       "1386  0.3181714     1.095263 5.064821e-13 1.767334e-10 340.8746  797.6273\n",
       "1770  0.3205617     1.096496 7.204198e-14 1.767334e-10   0.0000 1457.7327\n",
       "2839  0.3178590     1.095100 6.633501e-13 1.767334e-10   0.0000  581.7179\n",
       "4289 -0.3058303     1.090592 6.210140e-13 1.767334e-10   0.0000    0.0000\n",
       "5095 -0.3115681     1.093309 5.618340e-13 1.767334e-10   0.0000    0.0000\n",
       "5213 -0.3023876     1.089036 1.780526e-13 1.767334e-10   0.0000    0.0000\n",
       "     UV03     UV04     S01 S02      S03      S04     \n",
       "1386   0.0000   0.0000 0     0.0000   0.0000   0.0000\n",
       "1770   0.0000 682.8079 0     0.0000   0.0000   0.0000\n",
       "2839 460.5787   0.0000 0     0.0000   0.0000   0.0000\n",
       "4289   0.0000   0.0000 0   362.2895 359.9508   0.0000\n",
       "5095   0.0000   0.0000 0   395.4993   0.0000 242.5471\n",
       "5213   0.0000   0.0000 0     0.0000 412.9668 724.0301"
      ]
     },
     "metadata": {},
     "output_type": "display_data"
    }
   ],
   "source": [
    "head(resdata)"
   ]
  },
  {
   "cell_type": "code",
   "execution_count": 15,
   "metadata": {},
   "outputs": [
    {
     "data": {
      "text/html": [
       "<table>\n",
       "<thead><tr><th></th><th scope=col>symbol</th><th scope=col>genename</th><th scope=col>baseMean</th><th scope=col>log2FoldChange</th><th scope=col>lfcSE</th><th scope=col>pvalue</th><th scope=col>padj</th><th scope=col>UV01</th><th scope=col>UV02</th><th scope=col>UV03</th><th scope=col>UV04</th><th scope=col>S01</th><th scope=col>S02</th><th scope=col>S03</th><th scope=col>S04</th></tr></thead>\n",
       "<tbody>\n",
       "\t<tr><th scope=row>1386</th><td>abcc8b                                                       </td><td>ATP-binding cassette, sub-family C (CFTR/MRP), member 8b     </td><td>142.31                                                       </td><td> 0.3182                                                      </td><td>1.0953                                                       </td><td>5.064821e-13                                                 </td><td>1.767334e-10                                                 </td><td>341                                                          </td><td> 798                                                         </td><td>  0                                                          </td><td>  0                                                          </td><td>0                                                            </td><td>  0                                                          </td><td>  0                                                          </td><td>  0                                                          </td></tr>\n",
       "\t<tr><th scope=row>1770</th><td>hnrnpul1                                                     </td><td>heterogeneous nuclear ribonucleoprotein U-like 1             </td><td>267.57                                                       </td><td> 0.3206                                                      </td><td>1.0965                                                       </td><td>7.204198e-14                                                 </td><td>1.767334e-10                                                 </td><td>  0                                                          </td><td>1458                                                         </td><td>  0                                                          </td><td>683                                                          </td><td>0                                                            </td><td>  0                                                          </td><td>  0                                                          </td><td>  0                                                          </td></tr>\n",
       "\t<tr><th scope=row>2839</th><td>msto1                                                        </td><td>misato 1, mitochondrial distribution and morphology regulator</td><td>130.29                                                       </td><td> 0.3179                                                      </td><td>1.0951                                                       </td><td>6.633501e-13                                                 </td><td>1.767334e-10                                                 </td><td>  0                                                          </td><td> 582                                                         </td><td>461                                                          </td><td>  0                                                          </td><td>0                                                            </td><td>  0                                                          </td><td>  0                                                          </td><td>  0                                                          </td></tr>\n",
       "\t<tr><th scope=row>4289</th><td>mib2                                                         </td><td>mindbomb E3 ubiquitin protein ligase 2                       </td><td> 90.28                                                       </td><td>-0.3058                                                      </td><td>1.0906                                                       </td><td>6.210140e-13                                                 </td><td>1.767334e-10                                                 </td><td>  0                                                          </td><td>   0                                                         </td><td>  0                                                          </td><td>  0                                                          </td><td>0                                                            </td><td>362                                                          </td><td>360                                                          </td><td>  0                                                          </td></tr>\n",
       "\t<tr><th scope=row>5095</th><td>si:ch1073-342h5.2                                            </td><td>si:ch1073-342h5.2                                            </td><td> 79.76                                                       </td><td>-0.3116                                                      </td><td>1.0933                                                       </td><td>5.618340e-13                                                 </td><td>1.767334e-10                                                 </td><td>  0                                                          </td><td>   0                                                         </td><td>  0                                                          </td><td>  0                                                          </td><td>0                                                            </td><td>395                                                          </td><td>  0                                                          </td><td>243                                                          </td></tr>\n",
       "\t<tr><th scope=row>5213</th><td>fkbp14                                                       </td><td>FK506 binding protein 14                                     </td><td>142.12                                                       </td><td>-0.3024                                                      </td><td>1.0890                                                       </td><td>1.780526e-13                                                 </td><td>1.767334e-10                                                 </td><td>  0                                                          </td><td>   0                                                         </td><td>  0                                                          </td><td>  0                                                          </td><td>0                                                            </td><td>  0                                                          </td><td>413                                                          </td><td>724                                                          </td></tr>\n",
       "</tbody>\n",
       "</table>\n"
      ],
      "text/latex": [
       "\\begin{tabular}{r|lllllllllllllll}\n",
       "  & symbol & genename & baseMean & log2FoldChange & lfcSE & pvalue & padj & UV01 & UV02 & UV03 & UV04 & S01 & S02 & S03 & S04\\\\\n",
       "\\hline\n",
       "\t1386 & abcc8b                                                        & ATP-binding cassette, sub-family C (CFTR/MRP), member 8b      & 142.31                                                        &  0.3182                                                       & 1.0953                                                        & 5.064821e-13                                                  & 1.767334e-10                                                  & 341                                                           &  798                                                          &   0                                                           &   0                                                           & 0                                                             &   0                                                           &   0                                                           &   0                                                          \\\\\n",
       "\t1770 & hnrnpul1                                                      & heterogeneous nuclear ribonucleoprotein U-like 1              & 267.57                                                        &  0.3206                                                       & 1.0965                                                        & 7.204198e-14                                                  & 1.767334e-10                                                  &   0                                                           & 1458                                                          &   0                                                           & 683                                                           & 0                                                             &   0                                                           &   0                                                           &   0                                                          \\\\\n",
       "\t2839 & msto1                                                         & misato 1, mitochondrial distribution and morphology regulator & 130.29                                                        &  0.3179                                                       & 1.0951                                                        & 6.633501e-13                                                  & 1.767334e-10                                                  &   0                                                           &  582                                                          & 461                                                           &   0                                                           & 0                                                             &   0                                                           &   0                                                           &   0                                                          \\\\\n",
       "\t4289 & mib2                                                          & mindbomb E3 ubiquitin protein ligase 2                        &  90.28                                                        & -0.3058                                                       & 1.0906                                                        & 6.210140e-13                                                  & 1.767334e-10                                                  &   0                                                           &    0                                                          &   0                                                           &   0                                                           & 0                                                             & 362                                                           & 360                                                           &   0                                                          \\\\\n",
       "\t5095 & si:ch1073-342h5.2                                             & si:ch1073-342h5.2                                             &  79.76                                                        & -0.3116                                                       & 1.0933                                                        & 5.618340e-13                                                  & 1.767334e-10                                                  &   0                                                           &    0                                                          &   0                                                           &   0                                                           & 0                                                             & 395                                                           &   0                                                           & 243                                                          \\\\\n",
       "\t5213 & fkbp14                                                        & FK506 binding protein 14                                      & 142.12                                                        & -0.3024                                                       & 1.0890                                                        & 1.780526e-13                                                  & 1.767334e-10                                                  &   0                                                           &    0                                                          &   0                                                           &   0                                                           & 0                                                             &   0                                                           & 413                                                           & 724                                                          \\\\\n",
       "\\end{tabular}\n"
      ],
      "text/markdown": [
       "\n",
       "| <!--/--> | symbol | genename | baseMean | log2FoldChange | lfcSE | pvalue | padj | UV01 | UV02 | UV03 | UV04 | S01 | S02 | S03 | S04 | \n",
       "|---|---|---|---|---|---|\n",
       "| 1386 | abcc8b                                                        | ATP-binding cassette, sub-family C (CFTR/MRP), member 8b      | 142.31                                                        |  0.3182                                                       | 1.0953                                                        | 5.064821e-13                                                  | 1.767334e-10                                                  | 341                                                           |  798                                                          |   0                                                           |   0                                                           | 0                                                             |   0                                                           |   0                                                           |   0                                                           | \n",
       "| 1770 | hnrnpul1                                                      | heterogeneous nuclear ribonucleoprotein U-like 1              | 267.57                                                        |  0.3206                                                       | 1.0965                                                        | 7.204198e-14                                                  | 1.767334e-10                                                  |   0                                                           | 1458                                                          |   0                                                           | 683                                                           | 0                                                             |   0                                                           |   0                                                           |   0                                                           | \n",
       "| 2839 | msto1                                                         | misato 1, mitochondrial distribution and morphology regulator | 130.29                                                        |  0.3179                                                       | 1.0951                                                        | 6.633501e-13                                                  | 1.767334e-10                                                  |   0                                                           |  582                                                          | 461                                                           |   0                                                           | 0                                                             |   0                                                           |   0                                                           |   0                                                           | \n",
       "| 4289 | mib2                                                          | mindbomb E3 ubiquitin protein ligase 2                        |  90.28                                                        | -0.3058                                                       | 1.0906                                                        | 6.210140e-13                                                  | 1.767334e-10                                                  |   0                                                           |    0                                                          |   0                                                           |   0                                                           | 0                                                             | 362                                                           | 360                                                           |   0                                                           | \n",
       "| 5095 | si:ch1073-342h5.2                                             | si:ch1073-342h5.2                                             |  79.76                                                        | -0.3116                                                       | 1.0933                                                        | 5.618340e-13                                                  | 1.767334e-10                                                  |   0                                                           |    0                                                          |   0                                                           |   0                                                           | 0                                                             | 395                                                           |   0                                                           | 243                                                           | \n",
       "| 5213 | fkbp14                                                        | FK506 binding protein 14                                      | 142.12                                                        | -0.3024                                                       | 1.0890                                                        | 1.780526e-13                                                  | 1.767334e-10                                                  |   0                                                           |    0                                                          |   0                                                           |   0                                                           | 0                                                             |   0                                                           | 413                                                           | 724                                                           | \n",
       "\n",
       "\n"
      ],
      "text/plain": [
       "     symbol           \n",
       "1386 abcc8b           \n",
       "1770 hnrnpul1         \n",
       "2839 msto1            \n",
       "4289 mib2             \n",
       "5095 si:ch1073-342h5.2\n",
       "5213 fkbp14           \n",
       "     genename                                                      baseMean\n",
       "1386 ATP-binding cassette, sub-family C (CFTR/MRP), member 8b      142.31  \n",
       "1770 heterogeneous nuclear ribonucleoprotein U-like 1              267.57  \n",
       "2839 misato 1, mitochondrial distribution and morphology regulator 130.29  \n",
       "4289 mindbomb E3 ubiquitin protein ligase 2                         90.28  \n",
       "5095 si:ch1073-342h5.2                                              79.76  \n",
       "5213 FK506 binding protein 14                                      142.12  \n",
       "     log2FoldChange lfcSE  pvalue       padj         UV01 UV02 UV03 UV04 S01\n",
       "1386  0.3182        1.0953 5.064821e-13 1.767334e-10 341   798   0    0  0  \n",
       "1770  0.3206        1.0965 7.204198e-14 1.767334e-10   0  1458   0  683  0  \n",
       "2839  0.3179        1.0951 6.633501e-13 1.767334e-10   0   582 461    0  0  \n",
       "4289 -0.3058        1.0906 6.210140e-13 1.767334e-10   0     0   0    0  0  \n",
       "5095 -0.3116        1.0933 5.618340e-13 1.767334e-10   0     0   0    0  0  \n",
       "5213 -0.3024        1.0890 1.780526e-13 1.767334e-10   0     0   0    0  0  \n",
       "     S02 S03 S04\n",
       "1386   0   0   0\n",
       "1770   0   0   0\n",
       "2839   0   0   0\n",
       "4289 362 360   0\n",
       "5095 395   0 243\n",
       "5213   0 413 724"
      ]
     },
     "metadata": {},
     "output_type": "display_data"
    }
   ],
   "source": [
    "#rounding for excel displaying\n",
    "resrounded <-resdata\n",
    "resrounded[\"baseMean\"] <- purrr::modify_if(resrounded[\"baseMean\"], ~is.numeric(.), ~round(., 2))\n",
    "resrounded[\"log2FoldChange\"] <- purrr::modify_if(resrounded[\"log2FoldChange\"], ~is.numeric(.), ~round(., 4))\n",
    "resrounded[\"lfcSE\"] <- purrr::modify_if(resrounded[\"lfcSE\"], ~is.numeric(.), ~round(., 4))\n",
    "resrounded[\"UV01\"] <- purrr::modify_if(resrounded[\"UV01\"], ~is.numeric(.), ~round(., 0))\n",
    "resrounded[\"UV02\"] <- purrr::modify_if(resrounded[\"UV02\"], ~is.numeric(.), ~round(., 0))\n",
    "resrounded[\"UV03\"] <- purrr::modify_if(resrounded[\"UV03\"], ~is.numeric(.), ~round(., 0))\n",
    "resrounded[\"UV04\"] <- purrr::modify_if(resrounded[\"UV04\"], ~is.numeric(.), ~round(., 0))\n",
    "resrounded[\"S01\"] <- purrr::modify_if(resrounded[\"S01\"], ~is.numeric(.), ~round(., 0))\n",
    "resrounded[\"S02\"] <- purrr::modify_if(resrounded[\"S02\"], ~is.numeric(.), ~round(., 0))\n",
    "resrounded[\"S03\"] <- purrr::modify_if(resrounded[\"S03\"], ~is.numeric(.), ~round(., 0))\n",
    "resrounded[\"S04\"] <- purrr::modify_if(resrounded[\"S04\"], ~is.numeric(.), ~round(., 0))\n",
    "head(resrounded)\n",
    "write.csv(resrounded, file = \"results_allversions/results_LFC_norm_round.csv\")\n",
    "\n"
   ]
  },
  {
   "cell_type": "code",
   "execution_count": 20,
   "metadata": {},
   "outputs": [],
   "source": [
    "## save useful versions\n",
    "# write.csv(resrounded, file = \"results_userfriendly/zfUVvsS_sorted.csv\")\n",
    "# write.csv(resrounded[order(resrounded$symbol),], file = \"results_userfriendly/zfUVvsS_alfabethical.csv\")\n",
    "\n",
    "# respvalue <- subset(resrounded, padj<0.1)\n",
    "# write.csv(respvalue[order(respvalue$log2FoldChange),], file = \"results_userfriendly/zfUVvsS_pvalue_FCsorted.csv\")\n",
    "respvalueS <- subset(respvalue, log2FoldChange<0)\n",
    "write.csv(respvalueS[order(respvalueS$baseMean),], file = \"results_userfriendly/zfUVvsS_pvalue_S.csv\")\n",
    "respvalueU <- subset(respvalue, log2FoldChange>0)\n",
    "write.csv(respvalueU[order(respvalueU$baseMean),], file = \"results_userfriendly/zfUVvsS_pvalue_UV.csv\")"
   ]
  },
  {
   "cell_type": "markdown",
   "metadata": {},
   "source": [
    "# HERE"
   ]
  },
  {
   "cell_type": "code",
   "execution_count": 18,
   "metadata": {},
   "outputs": [
    {
     "data": {
      "text/html": [
       "<ol class=list-inline>\n",
       "\t<li>340</li>\n",
       "\t<li>15</li>\n",
       "</ol>\n"
      ],
      "text/latex": [
       "\\begin{enumerate*}\n",
       "\\item 340\n",
       "\\item 15\n",
       "\\end{enumerate*}\n"
      ],
      "text/markdown": [
       "1. 340\n",
       "2. 15\n",
       "\n",
       "\n"
      ],
      "text/plain": [
       "[1] 340  15"
      ]
     },
     "metadata": {},
     "output_type": "display_data"
    }
   ],
   "source": [
    "dim(subset(resrounded, padj<0.1))"
   ]
  },
  {
   "cell_type": "markdown",
   "metadata": {},
   "source": [
    "#### add gene names to data frames"
   ]
  },
  {
   "cell_type": "code",
   "execution_count": null,
   "metadata": {},
   "outputs": [],
   "source": [
    "columns(org.Dr.eg.db)"
   ]
  },
  {
   "cell_type": "code",
   "execution_count": null,
   "metadata": {},
   "outputs": [],
   "source": [
    "# genenames <- mapIds(org.Dr.eg.db, keys=resdata[,c(\"symbol\")], column=c(\"GENENAME\"), keytype=\"SYMBOL\")\n",
    "# write.csv(genenames, file = \"genenames.csv\", col.names=c(\"symbol\",\"genename\"))\n",
    "genenames <- read.csv(\"genenames.csv\", sep=\",\")\n",
    "colnames(genenames) <- c(\"symbol\",\"genename\")\n",
    "head(genenames)\n",
    "all(genenames$symbol == resdata$symbol)\n",
    "\n",
    "# head(resdata)\n",
    "# entrezid <- mapIds(org.Dr.eg.db, keys=resdata[,c(\"Row.names\")], column=c(\"ZFIN\"), keytype=\"SYMBOL\")\n",
    "# head(entrezid)\n",
    "# merge(res, annots, by.x=0, by.y=\"SYMBOL\")\n",
    "\n",
    "\n",
    "# test <- merge(resdata,genenames)"
   ]
  },
  {
   "cell_type": "code",
   "execution_count": null,
   "metadata": {},
   "outputs": [],
   "source": [
    "tres <- head(resdata)\n",
    "tgn <- head(genenames)\n",
    "tres$genename = tgn$genename\n",
    "# tres <- tres[, colnames(tres)[c(1,ncol(tres),2:ncol(tres)-1)]]\n",
    "# tres <- tres[c(1,ncol(tres),2:ncol(tres)-1)]\n",
    "tres <- tres[c(1,ncol(tres),2:ncol(tres)-1)] #not sure why it's adding symbol again\n",
    "tres <- tres[c(1,2,4:ncol(tres))]\n",
    "tres"
   ]
  },
  {
   "cell_type": "code",
   "execution_count": null,
   "metadata": {},
   "outputs": [],
   "source": [
    "# MA plot\n",
    "#log2 fold changes attributable to a given variable over the mean of normalized counts for all the samples in the DESeqDataSet. Points will be colored red if the adjusted p value is less than 0.1. Points which fall out of the window are plotted as open triangles pointing either up or down.\n",
    "# plotMA(res, ylim=c(-20,20)) \n",
    "# to remove noise from log2 changes, it's better to visualize shrunken version\n",
    "test <- plotMA(resLFC, ylim=c(-20,20))\n",
    "\n",
    "#Plot is supposed to be interactive and genes could be recovered using this:\n",
    "# idx <- identify(res$baseMean, res$log2FoldChange)\n",
    "# rownames(res)[idx]"
   ]
  },
  {
   "cell_type": "code",
   "execution_count": null,
   "metadata": {},
   "outputs": [],
   "source": [
    "# plot a single gene: counts (normalized by seq depth and +0.5 for log plotting)\n",
    "test <- plotCounts(dds, gene=\"rho\", intgroup=\"photoreceptor\", col =c('blue','blue'), fg='white', col.lab ='white', col.main ='white', col.sub ='white', col.axis='white', bg='white')"
   ]
  },
  {
   "cell_type": "code",
   "execution_count": null,
   "metadata": {},
   "outputs": [],
   "source": [
    "# more customizable plot of a single gene: counts (normalized by seq depth and +0.5 for log plotting)\n",
    "data <- plotCounts(dds, gene=\"opn1sw1\", intgroup=c(\"photoreceptor\"), returnData=TRUE)\n",
    "data\n",
    "ggplot(data, aes(x=photoreceptor, y=count, color=photoreceptor)) +\n",
    "  scale_y_log10() + \n",
    "  geom_point(position=position_jitter(width=.1,height=0))"
   ]
  },
  {
   "cell_type": "code",
   "execution_count": null,
   "metadata": {},
   "outputs": [],
   "source": [
    "# mcols(resLFC)$description\n",
    "head(df)"
   ]
  },
  {
   "cell_type": "code",
   "execution_count": null,
   "metadata": {},
   "outputs": [],
   "source": [
    "# visualize as heatmap\n",
    "n_genes = 10\n",
    "library(\"pheatmap\")\n",
    "ntd <- normTransform(dds)\n",
    "select <- order(rowMeans(counts(dds,normalized=TRUE)),\n",
    "                decreasing=TRUE)[1:n_genes]\n",
    "df <- as.data.frame(colData(dds)[c(\"photoreceptor\")])\n",
    "assay(ntd)[select,]\n",
    "pheatmap(assay(ntd)[select,], cluster_rows=FALSE, show_rownames=FALSE,\n",
    "         cluster_cols=FALSE, annotation_col=df)"
   ]
  },
  {
   "cell_type": "code",
   "execution_count": null,
   "metadata": {},
   "outputs": [],
   "source": [
    "# sampleDists <- dist(t(assay(ntd)))\n",
    "# sampleDists\n",
    "# library(\"RColorBrewer\")\n",
    "# sampleDistMatrix <- as.matrix(sampleDists)\n",
    "# rownames(sampleDistMatrix) <- paste(ntd$photoreceptor, sep=\"-\")\n",
    "# colnames(sampleDistMatrix) <- NULL\n",
    "# colors <- colorRampPalette( rev(brewer.pal(9, \"Blues\")) )(255)\n",
    "# pheatmap(sampleDistMatrix,\n",
    "#          clustering_distance_rows=sampleDists,\n",
    "#          clustering_distance_cols=sampleDists,\n",
    "#          col=colors)\n",
    "pcaData"
   ]
  },
  {
   "cell_type": "code",
   "execution_count": null,
   "metadata": {},
   "outputs": [],
   "source": [
    "#built-in\n",
    "# plotPCA(ntd, intgroup=c(\"photoreceptor\"))\n",
    "\n",
    "##ggplot\n",
    "pcaData <- plotPCA(ntd, intgroup=c(\"photoreceptor\"), returnData=TRUE)\n",
    "percentVar <- round(100 * attr(pcaData, \"percentVar\"))\n",
    "ggplot(pcaData, aes(PC1, PC2, color=photoreceptor)) +\n",
    "  geom_point(size=3) +\n",
    "  xlab(paste0(\"PC1: \",percentVar[1],\"% variance\")) +\n",
    "  ylab(paste0(\"PC2: \",percentVar[2],\"% variance\")) + \n",
    "  coord_fixed()"
   ]
  },
  {
   "cell_type": "code",
   "execution_count": null,
   "metadata": {},
   "outputs": [],
   "source": [
    "plotDispEsts(dds)\n",
    "#probably means that data should be prefiltered. Maybe remove all lines with very low counts"
   ]
  },
  {
   "cell_type": "code",
   "execution_count": null,
   "metadata": {},
   "outputs": [],
   "source": [
    "pcaExplorer(dds = dds)"
   ]
  },
  {
   "cell_type": "code",
   "execution_count": null,
   "metadata": {},
   "outputs": [],
   "source": []
  }
 ],
 "metadata": {
  "kernelspec": {
   "display_name": "R",
   "language": "R",
   "name": "ir"
  },
  "language_info": {
   "codemirror_mode": "r",
   "file_extension": ".r",
   "mimetype": "text/x-r-source",
   "name": "R",
   "pygments_lexer": "r",
   "version": "3.5.1"
  }
 },
 "nbformat": 4,
 "nbformat_minor": 2
}
