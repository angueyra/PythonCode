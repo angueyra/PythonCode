{
 "cells": [
  {
   "cell_type": "code",
   "execution_count": 6,
   "metadata": {},
   "outputs": [],
   "source": [
    "# if (!requireNamespace(\"BiocManager\"))\n",
    "#  install.packages(\"BiocManager\")\n",
    "# BiocManager::install()"
   ]
  },
  {
   "cell_type": "code",
   "execution_count": 7,
   "metadata": {},
   "outputs": [],
   "source": [
    "# BiocManager::install(c(\"DESeq2\", \"GenomicFeatures\", \"AnnotationDbi\"))\n",
    "# BiocManager::install(c(\"org.Dr.eg.db\"))"
   ]
  },
  {
   "cell_type": "code",
   "execution_count": 8,
   "metadata": {},
   "outputs": [],
   "source": [
    "library(\"DESeq2\")"
   ]
  },
  {
   "cell_type": "code",
   "execution_count": 13,
   "metadata": {},
   "outputs": [],
   "source": [
    "setwd(\"/Users/angueyraaristjm/Documents/LiMolec/zfRNAseq/20181018/20181018_DESeq2/\")\n",
    "directory <- \"/Users/angueyraaristjm/Documents/LiMolec/zfRNAseq/20181018/20181018_DESeq2/\""
   ]
  },
  {
   "cell_type": "code",
   "execution_count": 14,
   "metadata": {},
   "outputs": [
    {
     "data": {
      "text/html": [
       "'/Users/angueyraaristjm/Documents/LiMolec/zfRNAseq/20181018/20181018_DESeq2'"
      ],
      "text/latex": [
       "'/Users/angueyraaristjm/Documents/LiMolec/zfRNAseq/20181018/20181018\\_DESeq2'"
      ],
      "text/markdown": [
       "'/Users/angueyraaristjm/Documents/LiMolec/zfRNAseq/20181018/20181018_DESeq2'"
      ],
      "text/plain": [
       "[1] \"/Users/angueyraaristjm/Documents/LiMolec/zfRNAseq/20181018/20181018_DESeq2\""
      ]
     },
     "metadata": {},
     "output_type": "display_data"
    }
   ],
   "source": [
    "getwd()"
   ]
  },
  {
   "cell_type": "code",
   "execution_count": 15,
   "metadata": {},
   "outputs": [],
   "source": [
    "countData <- as.matrix(read.csv(\"gCount.csv\", row.names=\"gene_id\"))\n",
    "colData <- read.csv(\"PHENO_DATA.csv\", sep=\"\\t\", row.names=1)"
   ]
  },
  {
   "cell_type": "code",
   "execution_count": 16,
   "metadata": {},
   "outputs": [
    {
     "data": {
      "text/html": [
       "TRUE"
      ],
      "text/latex": [
       "TRUE"
      ],
      "text/markdown": [
       "TRUE"
      ],
      "text/plain": [
       "[1] TRUE"
      ]
     },
     "metadata": {},
     "output_type": "display_data"
    },
    {
     "name": "stderr",
     "output_type": "stream",
     "text": [
      "estimating size factors\n",
      "estimating dispersions\n",
      "gene-wise dispersion estimates\n",
      "mean-dispersion relationship\n",
      "final dispersion estimates\n",
      "fitting model and testing\n"
     ]
    },
    {
     "name": "stdout",
     "output_type": "stream",
     "text": [
      "\n",
      "out of 13520 with nonzero total read count\n",
      "adjusted p-value < 0.1\n",
      "LFC > 0 (up)       : 211, 1.6%\n",
      "LFC < 0 (down)     : 129, 0.95%\n",
      "outliers [1]       : 3044, 23%\n",
      "low counts [2]     : 2044, 15%\n",
      "(mean count < 4)\n",
      "[1] see 'cooksCutoff' argument of ?results\n",
      "[2] see 'independentFiltering' argument of ?results\n",
      "\n"
     ]
    }
   ],
   "source": [
    "\n",
    "countData <- countData[, rownames(colData)]\n",
    "all(rownames(colData) == colnames(countData))\n",
    "dds <- DESeqDataSetFromMatrix(countData = countData, colData = colData, design = ~photoreceptor)\n",
    "dds <- DESeq(dds)\n",
    "res <- results(dds)\n",
    "resOrdered <- res[order(res$pvalue),]\n",
    "summary(res)\n",
    "# sum(res$padj < 0.1, na.rm=TRUE)\n",
    "# write.csv(res, file = \"/data/angueyraaristjm/20181018_DESeq2/results.csv\")\n"
   ]
  },
  {
   "cell_type": "code",
   "execution_count": 20,
   "metadata": {},
   "outputs": [
    {
     "data": {
      "text/plain": [
       "log2 fold change (MLE): photoreceptor UV vs S \n",
       "Wald test p-value: photoreceptor UV vs S \n",
       "DataFrame with 28442 rows and 6 columns\n",
       "                         baseMean    log2FoldChange            lfcSE\n",
       "                        <numeric>         <numeric>        <numeric>\n",
       "foxq2            1592.38581303657 -4.97336524824995 2.15878472589115\n",
       "CU657925.1                      0                NA               NA\n",
       "neurl2                          0                NA               NA\n",
       "neurl4           22.7952108960837 -22.4271470205916 3.38487320637541\n",
       "lamc2                           0                NA               NA\n",
       "...                           ...               ...              ...\n",
       "si:ch73-314g15.3                0                NA               NA\n",
       "ptgdsa                          0                NA               NA\n",
       "abcb6b                          0                NA               NA\n",
       "abcb6a            5.1936653738911  6.02034650871068 3.39097167997872\n",
       "ccdc87                          0                NA               NA\n",
       "                              stat             pvalue              padj\n",
       "                         <numeric>          <numeric>         <numeric>\n",
       "foxq2            -2.30378007987662 0.0212349918871135 0.259122216486456\n",
       "CU657925.1                      NA                 NA                NA\n",
       "neurl2                          NA                 NA                NA\n",
       "neurl4           -6.62569781885774                 NA                NA\n",
       "lamc2                           NA                 NA                NA\n",
       "...                            ...                ...               ...\n",
       "si:ch73-314g15.3                NA                 NA                NA\n",
       "ptgdsa                          NA                 NA                NA\n",
       "abcb6b                          NA                 NA                NA\n",
       "abcb6a            1.77540453795487                 NA                NA\n",
       "ccdc87                          NA                 NA                NA"
      ]
     },
     "metadata": {},
     "output_type": "display_data"
    }
   ],
   "source": [
    "res"
   ]
  },
  {
   "cell_type": "code",
   "execution_count": null,
   "metadata": {},
   "outputs": [],
   "source": [
    " \n",
    "Log fold change shrinkage for visualization and ranking\n",
    "resultsNames(dds)\n",
    "resLFC <- lfcShrink(dds, coef=\"photoreceptor_UV_vs_S\", type=\"apeglm\")\n",
    "resLFC\n",
    "write.csv(resLFC, file = \"/data/angueyraaristjm/20181018_DESeq2/results_LFCestimates.csv\")\n",
    "\n",
    "\n",
    "library(ReportingTools)\n",
    "desReport <- HTMLReport(shortName = 'RNAseq_analysis_with_DESeq', title = 'RNA-seq analysis of differential expression using DESeq', reportDirectory = \"./reports\")\n",
    "publish(res,desReport,name=\"df\",countTable=countData, pvalueCutoff=0.1, conditions=photoreceptor,annotation.db=\"org.Mm.eg.db\",expName=\"deseq\",reportDir=\"./reports\", .modifyDF=makeDESeqDF)"
   ]
  }
 ],
 "metadata": {
  "kernelspec": {
   "display_name": "R",
   "language": "R",
   "name": "ir"
  },
  "language_info": {
   "codemirror_mode": "r",
   "file_extension": ".r",
   "mimetype": "text/x-r-source",
   "name": "R",
   "pygments_lexer": "r",
   "version": "3.5.1"
  }
 },
 "nbformat": 4,
 "nbformat_minor": 2
}
