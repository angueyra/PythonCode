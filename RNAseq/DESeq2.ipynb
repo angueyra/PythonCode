{
 "cells": [
  {
   "cell_type": "code",
   "execution_count": 1,
   "metadata": {},
   "outputs": [
    {
     "name": "stderr",
     "output_type": "stream",
     "text": [
      "Loading required namespace: BiocManager\n",
      "Bioconductor version 3.8 (BiocManager 1.30.4), R 3.5.1 (2018-07-02)\n",
      "Update old packages: 'assertthat', 'backports', 'checkmate', 'cli', 'coda',\n",
      "  'colorspace', 'curl', 'devtools', 'fansi', 'ggplot2', 'git2r', 'grpreg',\n",
      "  'gtable', 'highr', 'htmlTable', 'htmlwidgets', 'httr', 'knitr', 'lattice',\n",
      "  'lazyeval', 'markdown', 'MASS', 'Matrix', 'mgcv', 'mime', 'openssl',\n",
      "  'pillar', 'R6', 'RcppArmadillo', 'RCurl', 'rlang', 'rstudioapi', 'scales',\n",
      "  'stringi', 'tibble', 'XML'\n"
     ]
    }
   ],
   "source": [
    "if (!requireNamespace(\"BiocManager\"))\n",
    " install.packages(\"BiocManager\")\n",
    "BiocManager::install()"
   ]
  },
  {
   "cell_type": "code",
   "execution_count": 8,
   "metadata": {},
   "outputs": [
    {
     "ename": "ERROR",
     "evalue": "Error in config.log(): could not find function \"config.log\"\n",
     "output_type": "error",
     "traceback": [
      "Error in config.log(): could not find function \"config.log\"\nTraceback:\n"
     ]
    }
   ],
   "source": [
    "# old.packages()\n",
    "# update.packages(ask = FALSE)\n",
    "config.log()"
   ]
  },
  {
   "cell_type": "code",
   "execution_count": 2,
   "metadata": {},
   "outputs": [
    {
     "name": "stderr",
     "output_type": "stream",
     "text": [
      "Bioconductor version 3.8 (BiocManager 1.30.4), R 3.5.1 (2018-07-02)\n",
      "Installing package(s) 'GenomicRanges'\n",
      "also installing the dependency ‘GenomeInfoDb’\n",
      "\n",
      "Updating HTML index of packages in '.Library'\n",
      "Making 'packages.html' ... done\n",
      "Update old packages: 'assertthat', 'backports', 'checkmate', 'cli', 'coda',\n",
      "  'colorspace', 'curl', 'devtools', 'fansi', 'ggplot2', 'git2r', 'grpreg',\n",
      "  'gtable', 'highr', 'htmlTable', 'htmlwidgets', 'httr', 'knitr', 'lattice',\n",
      "  'lazyeval', 'markdown', 'MASS', 'Matrix', 'mgcv', 'mime', 'openssl',\n",
      "  'pillar', 'R6', 'RcppArmadillo', 'RCurl', 'rlang', 'rstudioapi', 'scales',\n",
      "  'stringi', 'tibble', 'XML'\n"
     ]
    }
   ],
   "source": [
    "if (!requireNamespace(\"BiocManager\", quietly = TRUE))\n",
    "    install.packages(\"BiocManager\")\n",
    "BiocManager::install(\"GenomicRanges\", version = \"3.8\")"
   ]
  },
  {
   "cell_type": "code",
   "execution_count": 13,
   "metadata": {},
   "outputs": [
    {
     "name": "stderr",
     "output_type": "stream",
     "text": [
      "Bioconductor version 3.8 (BiocManager 1.30.4), R 3.5.1 (2018-07-02)\n",
      "Installing package(s) 'Rsamtools'\n",
      "also installing the dependency ‘BiocParallel’\n",
      "\n",
      "Warning message in install.packages(pkgs = doing, lib = lib, repos = repos, ...):\n",
      "“installation of package ‘BiocParallel’ had non-zero exit status”Warning message in install.packages(pkgs = doing, lib = lib, repos = repos, ...):\n",
      "“installation of package ‘Rsamtools’ had non-zero exit status”Updating HTML index of packages in '.Library'\n",
      "Making 'packages.html' ... done\n",
      "Update old packages: 'data.table', 'ggplot2', 'git2r', 'nlme', 'openssl',\n",
      "  'RcppArmadillo', 'RCurl', 'rlang', 'stringi', 'XML'\n"
     ]
    }
   ],
   "source": [
    "# BiocManager::install(c(\"digest\", \"evaluate\", \"IRdisplay\",\"Rcpp\",\"repr\"))\n",
    "# BiocManager::install(c(\"ensembldb\"))\n",
    "# BiocManager::install(c(\"DESeq2\"))\n",
    "# BiocManager::install(c(\"GenomicFeatures\"))\n",
    "# # BiocManager::install(c(\"XML\")) # 'annotate',‘genefilter’, ‘geneplotter’\n",
    "# BiocManager::install(c(\"XML\"), update = TRUE) # '',‘genefilter’, ‘geneplotter’\n",
    "# BiocManager::install(c(\"AnnotationDbi\"))\n",
    "# BiocManager::install(c(\"org.Dr.eg.db\"))\n",
    "# BiocManager::install(c(\"apeglm\"))\n",
    "# BiocManager::install(c(\"pheatmap\"))\n",
    "# BiocManager::install(\"ReportingTools\")\n",
    "# BiocManager::install(\"pcaExplorer\")\n",
    "# BiocManager::install(\"purr\")\n",
    "# BiocManager::install(\"GenomicRanges\")\n",
    "# BiocManager::install(\"rtracklayer\")\n",
    "BiocManager::install(\"Rsamtools\")\n",
    "\n",
    "\n",
    "# BiocManager::install('ensembldb')\n",
    "# BiocManager::install('rtracklayer')\n",
    "# BiocManager::install('edgeR')\n",
    "# BiocManager::install('repr')\n",
    "# BiocManager::install('mgcv')\n",
    "#  'rtracklayer','survival', 'VariantAnnotation', 'XML')\n",
    "# BiocManager::install('BiocParallel', 'ensembldb', 'IRdisplay', 'IRkernel','mclust', 'mgcv', 'openssl', 'RBGL', 'RcppEigen', 'repr', 'rtracklayer','survival', 'VariantAnnotation', 'XML')\n",
    "\n"
   ]
  },
  {
   "cell_type": "code",
   "execution_count": null,
   "metadata": {},
   "outputs": [],
   "source": [
    "\n",
    "if (!requireNamespace(\"BiocManager\", quietly = TRUE))\n",
    "    install.packages(\"BiocManager\")\n",
    "BiocManager::install(\"DESeq2\", version = \"3.8\")"
   ]
  },
  {
   "cell_type": "code",
   "execution_count": null,
   "metadata": {},
   "outputs": [],
   "source": [
    "library(\"DESeq2\")\n",
    "library(\"apeglm\")\n",
    "library(\"ggplot2\")\n",
    "library(\"org.Dr.eg.db\") \n",
    "library(\"ReportingTools\")\n",
    "library(\"pcaExplorer\")\n",
    "library(\"purrr\")"
   ]
  },
  {
   "cell_type": "code",
   "execution_count": null,
   "metadata": {},
   "outputs": [],
   "source": [
    "setwd(\"/Users/angueyraaristjm/Documents/LiMolec/zfRNAseq/20181018/20181018_DESeq2/\")\n",
    "directory <- \"/Users/angueyraaristjm/Documents/LiMolec/zfRNAseq/20181018/20181018_DESeq2/\"\n",
    "getwd()"
   ]
  },
  {
   "cell_type": "code",
   "execution_count": null,
   "metadata": {},
   "outputs": [],
   "source": [
    "countData <- as.matrix(read.csv(\"gCount.csv\", row.names=\"gene_id\"))\n",
    "colData <- read.csv(\"PHENO_DATA.csv\", sep=\"\\t\", row.names=1)\n",
    "colData"
   ]
  },
  {
   "cell_type": "code",
   "execution_count": null,
   "metadata": {},
   "outputs": [],
   "source": [
    "countData <- countData[, rownames(colData)]\n",
    "all(rownames(colData) == colnames(countData))\n",
    "dds <- DESeqDataSetFromMatrix(countData = countData, colData = colData, design = ~photoreceptor)\n",
    "dds <- DESeq(dds)\n",
    "res <- results(dds)\n",
    "summary(res)\n",
    "# sum(res$padj < 0.1, na.rm=TRUE)\n",
    "# write.csv(res, file = \"/data/angueyraaristjm/20181018_DESeq2/results.csv\")"
   ]
  },
  {
   "cell_type": "code",
   "execution_count": null,
   "metadata": {},
   "outputs": [],
   "source": [
    "resOrdered <- res[order(res$padj),]\n",
    "# write.csv(resOrdered, file = \"results_allversions/results.csv\")"
   ]
  },
  {
   "cell_type": "markdown",
   "metadata": {},
   "source": [
    "### Save results (but first include genenames in results)"
   ]
  },
  {
   "cell_type": "code",
   "execution_count": null,
   "metadata": {},
   "outputs": [],
   "source": [
    "# Run this only if things have changed:\n",
    "# resdata <- merge(as.data.frame(res), as.data.frame(counts(dds,normalized =TRUE)), by = 'row.names', sort = FALSE)\n",
    "# resdata <- resdata[order(resdata$padj),]\n",
    "# names(resdata)[1] <- 'symbol'\n",
    "# genenames <- mapIds(org.Dr.eg.db, keys=resdata[,c(\"symbol\")], column=c(\"GENENAME\"), keytype=\"SYMBOL\")\n",
    "# write.csv(genenames, file = \"genenames.csv\", col.names=c(\"symbol\",\"genename\"))\n",
    "genenames <- read.csv(\"genenames.csv\", sep=\",\")\n",
    "colnames(genenames) <- c(\"symbol\",\"genename\")\n",
    "head(genenames)"
   ]
  },
  {
   "cell_type": "code",
   "execution_count": null,
   "metadata": {},
   "outputs": [],
   "source": [
    "# results + raw counts\n",
    "resdata <- merge(as.data.frame(res), as.data.frame(counts(dds,normalized =FALSE)), by = 'row.names', sort = FALSE)\n",
    "resdata <- resdata[order(resdata$padj),]\n",
    "names(resdata)[1] <- 'symbol'\n",
    "\n",
    "# if (all(genenames$symbol == resdata$symbol)) {\n",
    "#     print(\"data frames DO match\")\n",
    "#     resdata$genename = genenames$genename\n",
    "#     resdata <- resdata[c(1,ncol(resdata),2:ncol(resdata)-1)] #not sure why it's adding symbol again\n",
    "#     resdata <- resdata[c(1,2,4:ncol(resdata))]\n",
    "#     head(resdata)\n",
    "#     write.csv(resdata, file = \"results_allversions/results_rawdata.csv\")\n",
    "# } else {\n",
    "#     print(\"data frames do NOT match\")\n",
    "# }"
   ]
  },
  {
   "cell_type": "code",
   "execution_count": null,
   "metadata": {},
   "outputs": [],
   "source": [
    "# results + normalized counts log2((counts/average sequencing depth across samples)+0.5)\n",
    "resdata <- merge(as.data.frame(res), as.data.frame(counts(dds,normalized =TRUE)), by = 'row.names', sort = FALSE)\n",
    "resdata <- resdata[order(resdata$padj),]\n",
    "names(resdata)[1] <- 'symbol'\n",
    "\n",
    "# if (all(genenames$symbol == resdata$symbol)) {\n",
    "#     print(\"data frames DO match\")\n",
    "#     resdata$genename = genenames$genename\n",
    "#     resdata <- resdata[c(1,ncol(resdata),2:ncol(resdata)-1)] #not sure why it's adding symbol again\n",
    "#     resdata <- resdata[c(1,2,4:ncol(resdata))]\n",
    "#     head(resdata)\n",
    "#     write.csv(resdata, file = \"results_allversions/results_normdata.csv\")\n",
    "# } else {\n",
    "#     print(\"data frames do NOT match\")\n",
    "# }"
   ]
  },
  {
   "cell_type": "code",
   "execution_count": null,
   "metadata": {},
   "outputs": [],
   "source": [
    "head(resdata)"
   ]
  },
  {
   "cell_type": "code",
   "execution_count": null,
   "metadata": {},
   "outputs": [],
   "source": [
    "# Log fold change shrinkage for visualization and ranking\n",
    "# resultsNames(dds)\n",
    "resLFC <- lfcShrink(dds, coef=\"photoreceptor_UV_vs_S\", type=\"apeglm\")\n",
    "resLFC\n",
    "# write.csv(resLFC, file = \"results_LFCestimates.csv\")\n",
    "# REFERENCE: Zhu, A., Ibrahim, J.G., Love, M.I. (2018) Heavy-tailed prior distributions for sequence count data: removing the noise and preserving large differences. bioRxiv. 10.1101/303255"
   ]
  },
  {
   "cell_type": "code",
   "execution_count": null,
   "metadata": {},
   "outputs": [],
   "source": [
    "# results + normalized counts log2((counts/average sequencing depth across samples)+0.5)\n",
    "resdata <- merge(as.data.frame(resLFC), as.data.frame(counts(dds,normalized =TRUE)), by = 'row.names', sort = FALSE)\n",
    "resdata <- resdata[order(resdata$padj),]\n",
    "names(resdata)[1] <- 'symbol'\n",
    "\n",
    "# if (all(genenames$symbol == resdata$symbol)) {\n",
    "#     print(\"data frames DO match\")\n",
    "#     resdata$genename = genenames$genename\n",
    "#     resdata <- resdata[c(1,ncol(resdata),2:ncol(resdata)-1)] #not sure why it's adding symbol again\n",
    "#     resdata <- resdata[c(1,2,4:ncol(resdata))]\n",
    "#     head(resdata)\n",
    "#     write.csv(resdata, file = \"results_allversions/results_LFC_normdata.csv\")\n",
    "# } else {\n",
    "#     print(\"data frames do NOT match\")\n",
    "# }"
   ]
  },
  {
   "cell_type": "code",
   "execution_count": null,
   "metadata": {},
   "outputs": [],
   "source": [
    "head(resdata)"
   ]
  },
  {
   "cell_type": "code",
   "execution_count": null,
   "metadata": {},
   "outputs": [],
   "source": [
    "#rounding for excel displaying\n",
    "resrounded <-resdata\n",
    "resrounded[\"baseMean\"] <- purrr::modify_if(resrounded[\"baseMean\"], ~is.numeric(.), ~round(., 2))\n",
    "resrounded[\"log2FoldChange\"] <- purrr::modify_if(resrounded[\"log2FoldChange\"], ~is.numeric(.), ~round(., 4))\n",
    "resrounded[\"lfcSE\"] <- purrr::modify_if(resrounded[\"lfcSE\"], ~is.numeric(.), ~round(., 4))\n",
    "resrounded[\"UV01\"] <- purrr::modify_if(resrounded[\"UV01\"], ~is.numeric(.), ~round(., 0))\n",
    "resrounded[\"UV02\"] <- purrr::modify_if(resrounded[\"UV02\"], ~is.numeric(.), ~round(., 0))\n",
    "resrounded[\"UV03\"] <- purrr::modify_if(resrounded[\"UV03\"], ~is.numeric(.), ~round(., 0))\n",
    "resrounded[\"UV04\"] <- purrr::modify_if(resrounded[\"UV04\"], ~is.numeric(.), ~round(., 0))\n",
    "resrounded[\"S01\"] <- purrr::modify_if(resrounded[\"S01\"], ~is.numeric(.), ~round(., 0))\n",
    "resrounded[\"S02\"] <- purrr::modify_if(resrounded[\"S02\"], ~is.numeric(.), ~round(., 0))\n",
    "resrounded[\"S03\"] <- purrr::modify_if(resrounded[\"S03\"], ~is.numeric(.), ~round(., 0))\n",
    "resrounded[\"S04\"] <- purrr::modify_if(resrounded[\"S04\"], ~is.numeric(.), ~round(., 0))\n",
    "head(resrounded)\n",
    "# write.csv(resrounded, file = \"results_allversions/results_LFC_norm_round.csv\")\n",
    "\n"
   ]
  },
  {
   "cell_type": "code",
   "execution_count": null,
   "metadata": {},
   "outputs": [],
   "source": [
    "## save useful versions\n",
    "# write.csv(resrounded, file = \"results_userfriendly/zfUVvsS_sorted.csv\")\n",
    "# write.csv(resrounded[order(resrounded$symbol),], file = \"results_userfriendly/zfUVvsS_alfabethical.csv\")\n",
    "\n",
    "# respvalue <- subset(resrounded, padj<0.1)\n",
    "# write.csv(respvalue[order(respvalue$log2FoldChange),], file = \"results_userfriendly/zfUVvsS_pvalue_FCsorted.csv\")\n",
    "respvalueS <- subset(respvalue, log2FoldChange<0)\n",
    "write.csv(respvalueS[order(respvalueS$baseMean),], file = \"results_userfriendly/zfUVvsS_pvalue_S.csv\")\n",
    "respvalueU <- subset(respvalue, log2FoldChange>0)\n",
    "write.csv(respvalueU[order(respvalueU$baseMean),], file = \"results_userfriendly/zfUVvsS_pvalue_UV.csv\")"
   ]
  },
  {
   "cell_type": "markdown",
   "metadata": {},
   "source": [
    "# HERE"
   ]
  },
  {
   "cell_type": "code",
   "execution_count": null,
   "metadata": {},
   "outputs": [],
   "source": [
    "dim(subset(resrounded, padj<0.1))"
   ]
  },
  {
   "cell_type": "markdown",
   "metadata": {},
   "source": [
    "#### add gene names to data frames"
   ]
  },
  {
   "cell_type": "code",
   "execution_count": null,
   "metadata": {},
   "outputs": [],
   "source": [
    "columns(org.Dr.eg.db)"
   ]
  },
  {
   "cell_type": "code",
   "execution_count": null,
   "metadata": {},
   "outputs": [],
   "source": [
    "# genenames <- mapIds(org.Dr.eg.db, keys=resdata[,c(\"symbol\")], column=c(\"GENENAME\"), keytype=\"SYMBOL\")\n",
    "# write.csv(genenames, file = \"genenames.csv\", col.names=c(\"symbol\",\"genename\"))\n",
    "genenames <- read.csv(\"genenames.csv\", sep=\",\")\n",
    "colnames(genenames) <- c(\"symbol\",\"genename\")\n",
    "head(genenames)\n",
    "all(genenames$symbol == resdata$symbol)\n",
    "\n",
    "# head(resdata)\n",
    "# entrezid <- mapIds(org.Dr.eg.db, keys=resdata[,c(\"Row.names\")], column=c(\"ZFIN\"), keytype=\"SYMBOL\")\n",
    "# head(entrezid)\n",
    "# merge(res, annots, by.x=0, by.y=\"SYMBOL\")\n",
    "\n",
    "\n",
    "# test <- merge(resdata,genenames)"
   ]
  },
  {
   "cell_type": "code",
   "execution_count": null,
   "metadata": {},
   "outputs": [],
   "source": [
    "tres <- head(resdata)\n",
    "tgn <- head(genenames)\n",
    "tres$genename = tgn$genename\n",
    "# tres <- tres[, colnames(tres)[c(1,ncol(tres),2:ncol(tres)-1)]]\n",
    "# tres <- tres[c(1,ncol(tres),2:ncol(tres)-1)]\n",
    "tres <- tres[c(1,ncol(tres),2:ncol(tres)-1)] #not sure why it's adding symbol again\n",
    "tres <- tres[c(1,2,4:ncol(tres))]\n",
    "tres"
   ]
  },
  {
   "cell_type": "code",
   "execution_count": null,
   "metadata": {},
   "outputs": [],
   "source": [
    "# MA plot\n",
    "#log2 fold changes attributable to a given variable over the mean of normalized counts for all the samples in the DESeqDataSet. Points will be colored red if the adjusted p value is less than 0.1. Points which fall out of the window are plotted as open triangles pointing either up or down.\n",
    "# plotMA(res, ylim=c(-20,20)) \n",
    "# to remove noise from log2 changes, it's better to visualize shrunken version\n",
    "test <- plotMA(resLFC, ylim=c(-20,20))\n",
    "\n",
    "#Plot is supposed to be interactive and genes could be recovered using this:\n",
    "# idx <- identify(res$baseMean, res$log2FoldChange)\n",
    "# rownames(res)[idx]"
   ]
  },
  {
   "cell_type": "code",
   "execution_count": null,
   "metadata": {},
   "outputs": [],
   "source": [
    "# plot a single gene: counts (normalized by seq depth and +0.5 for log plotting)\n",
    "test <- plotCounts(dds, gene=\"rho\", intgroup=\"photoreceptor\", col =c('blue','blue'), fg='white', col.lab ='white', col.main ='white', col.sub ='white', col.axis='white', bg='white')"
   ]
  },
  {
   "cell_type": "code",
   "execution_count": null,
   "metadata": {},
   "outputs": [],
   "source": [
    "# more customizable plot of a single gene: counts (normalized by seq depth and +0.5 for log plotting)\n",
    "data <- plotCounts(dds, gene=\"gnat1\", intgroup=c(\"photoreceptor\"), returnData=TRUE)\n",
    "data\n",
    "ggplot(data, aes(x=photoreceptor, y=count, color=photoreceptor)) +\n",
    "  scale_y_log10() + \n",
    "  geom_point(position=position_jitter(width=.1,height=0))"
   ]
  },
  {
   "cell_type": "code",
   "execution_count": null,
   "metadata": {},
   "outputs": [],
   "source": [
    "# mcols(resLFC)$description\n",
    "head(df)"
   ]
  },
  {
   "cell_type": "code",
   "execution_count": null,
   "metadata": {},
   "outputs": [],
   "source": [
    "# visualize as heatmap\n",
    "n_genes = 10\n",
    "library(\"pheatmap\")\n",
    "ntd <- normTransform(dds)\n",
    "select <- order(rowMeans(counts(dds,normalized=TRUE)),\n",
    "                decreasing=TRUE)[1:n_genes]\n",
    "df <- as.data.frame(colData(dds)[c(\"photoreceptor\")])\n",
    "assay(ntd)[select,]\n",
    "pheatmap(assay(ntd)[select,], cluster_rows=FALSE, show_rownames=FALSE,\n",
    "         cluster_cols=FALSE, annotation_col=df)"
   ]
  },
  {
   "cell_type": "code",
   "execution_count": null,
   "metadata": {},
   "outputs": [],
   "source": [
    "# sampleDists <- dist(t(assay(ntd)))\n",
    "# sampleDists\n",
    "# library(\"RColorBrewer\")\n",
    "# sampleDistMatrix <- as.matrix(sampleDists)\n",
    "# rownames(sampleDistMatrix) <- paste(ntd$photoreceptor, sep=\"-\")\n",
    "# colnames(sampleDistMatrix) <- NULL\n",
    "# colors <- colorRampPalette( rev(brewer.pal(9, \"Blues\")) )(255)\n",
    "# pheatmap(sampleDistMatrix,\n",
    "#          clustering_distance_rows=sampleDists,\n",
    "#          clustering_distance_cols=sampleDists,\n",
    "#          col=colors)\n",
    "pcaData"
   ]
  },
  {
   "cell_type": "code",
   "execution_count": null,
   "metadata": {},
   "outputs": [],
   "source": [
    "#built-in\n",
    "# plotPCA(ntd, intgroup=c(\"photoreceptor\"))\n",
    "\n",
    "##ggplot\n",
    "pcaData <- plotPCA(ntd, intgroup=c(\"photoreceptor\"), returnData=TRUE)\n",
    "percentVar <- round(100 * attr(pcaData, \"percentVar\"))\n",
    "ggplot(pcaData, aes(PC1, PC2, color=photoreceptor)) +\n",
    "  geom_point(size=3) +\n",
    "  xlab(paste0(\"PC1: \",percentVar[1],\"% variance\")) +\n",
    "  ylab(paste0(\"PC2: \",percentVar[2],\"% variance\")) + \n",
    "  coord_fixed()"
   ]
  },
  {
   "cell_type": "code",
   "execution_count": null,
   "metadata": {},
   "outputs": [],
   "source": [
    "plotDispEsts(dds)\n",
    "#probably means that data should be prefiltered. Maybe remove all lines with very low counts"
   ]
  },
  {
   "cell_type": "code",
   "execution_count": null,
   "metadata": {},
   "outputs": [],
   "source": [
    "pcaExplorer(dds = dds)"
   ]
  },
  {
   "cell_type": "code",
   "execution_count": null,
   "metadata": {},
   "outputs": [],
   "source": []
  }
 ],
 "metadata": {
  "kernelspec": {
   "display_name": "R",
   "language": "R",
   "name": "ir"
  },
  "language_info": {
   "codemirror_mode": "r",
   "file_extension": ".r",
   "mimetype": "text/x-r-source",
   "name": "R",
   "pygments_lexer": "r",
   "version": "3.5.1"
  }
 },
 "nbformat": 4,
 "nbformat_minor": 2
}
