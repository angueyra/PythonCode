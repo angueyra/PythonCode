{
 "cells": [
  {
   "cell_type": "markdown",
   "metadata": {},
   "source": [
    "## Load required modules"
   ]
  },
  {
   "cell_type": "code",
   "execution_count": 1,
   "metadata": {},
   "outputs": [
    {
     "name": "stdout",
     "output_type": "stream",
     "text": [
      "LOADED\n"
     ]
    }
   ],
   "source": [
    "# External libraries\n",
    "import numpy as np\n",
    "import pandas as pd\n",
    "import pygal\n",
    "import math\n",
    "import IPython\n",
    "import matplotlib\n",
    "import matplotlib.pyplot as plt\n",
    "import matplotlib.font_manager as font_manager\n",
    "import importlib\n",
    "import svgutils \n",
    "from svgutils.compose import *\n",
    "#import svgwrite\n",
    "\n",
    "# Custom code\n",
    "from fx_RNAseq import *\n",
    "def findgene(genename):\n",
    "    dPath = \"~/Documents/LiMolec/zfRNAseq/20190827/20190827_DESeq2/\" #directory path\n",
    "    fPath = \"00_rodsVcones/rodVCones_raw.csv\" #file path\n",
    "    tempPath = \"temp.txt\" # temporary file to store values\n",
    "    !head -1 {dPath + fPath} > {dPath + tempPath}\n",
    "    # EXACT MATCH ONLY by matching word (-w) and only at the start of each line (^) which corresponds to the symbol\n",
    "    !grep -w ^$genename {dPath + fPath} >> {dPath + tempPath}\n",
    "    gdf = pd.read_csv(dPath + tempPath)\n",
    "    return gdf\n",
    "\n",
    "def findgenelist(genename):\n",
    "    dPath = \"~/Documents/LiMolec/zfRNAseq/20190827/20190827_DESeq2/\" #directory path\n",
    "    fPath = \"00_rodsVcones/rodVCones_raw.csv\" #file path\n",
    "    tempPath = \"temp.txt\" # temporary file to store values\n",
    "    !head -1 {dPath + fPath} > {dPath + tempPath}\n",
    "    # EXACT MATCH ONLY by matching word (-w) and only at the start of each line (^) which corresponds to the symbol\n",
    "    !grep ^$genename {dPath + fPath} >> {dPath + tempPath}\n",
    "    gdf = pd.read_csv(dPath + tempPath)\n",
    "    return gdf\n",
    "\n",
    "# def findgene(genename):\n",
    "#     !head -1 ~/Dropbox/LiLab/RNAseq/20190827_DESeq2/00_rodsVcones/rodVCones_raw.csv > ~/Dropbox/LiLab/RNAseq/20190827_DESeq2/temp.txt\n",
    "#     # EXACT MATCH ONLY by matching word (-w) and only at the start of each line (^) which corresponds to the symbol\n",
    "#     !grep -w ^$genename ~/Dropbox/LiLab/RNAseq/20190827_DESeq2/00_rodsVcones/rodVCones_raw.csv >> ~/Dropbox/LiLab/RNAseq/20190827_DESeq2/temp.txt\n",
    "#     gdf = pd.read_csv(\"~/Dropbox/LiLab/RNAseq/20190827_DESeq2/temp.txt\")\n",
    "    \n",
    "#     return gdf\n",
    "\n",
    "# def findgenelist(genename):\n",
    "#     !head -1 ~/Dropbox/LiLab/RNAseq/20190827_DESeq2/00_rodsVcones/rodVCones_raw.csv > ~/Dropbox/LiLab/RNAseq/20190827_DESeq2/temp.txt\n",
    "#     # EXACT MATCH ONLY by matching word (-w) and only at the start of each line (^) which corresponds to the symbol\n",
    "#     !grep ^$genename ~/Dropbox/LiLab/RNAseq/20190827_DESeq2/00_rodsVcones/rodVCones_raw.csv >> ~/Dropbox/LiLab/RNAseq/20190827_DESeq2/temp.txt\n",
    "#     gdf = pd.read_csv(\"~/Dropbox/LiLab/RNAseq/20190827_DESeq2/temp.txt\")\n",
    "#     return gdf\n",
    "\n",
    "def plotNReads():\n",
    "    rdf = pd.read_csv(\"~/Documents/LiMolec/zfRNAseq/20190827/20190827_DESeq2/nMappedReads.csv\")\n",
    "    h = rdf.iloc[:,1]\n",
    "    h = h / 1e6\n",
    "    n = np.arange(1,7) # Rods\n",
    "    n = np.append(n, 6.5 + np.arange(1,6)) # UV\n",
    "    n = np.append(n, 12 + np.arange(1,7)) # S\n",
    "    n = np.append(n, 18.5 + np.arange(1,8)) # M\n",
    "    n = np.append(n, 26 + np.arange(1,7)) # L\n",
    "    return n, h\n",
    "\n",
    "def plotBars(genename):\n",
    "    gdf = findgene(genename)\n",
    "    n = np.arange(1,7) # Rods\n",
    "    n = np.append(n, 6.5 + np.arange(1,6)) # UV\n",
    "    n = np.append(n, 12 + np.arange(1,7)) # S\n",
    "    n = np.append(n, 18.5 + np.arange(1,8)) # M\n",
    "    n = np.append(n, 26 + np.arange(1,7)) # L\n",
    "    h_start = 7\n",
    "    h_end = 37\n",
    "    h = gdf.iloc[0,h_start:h_end]\n",
    "    return n, h\n",
    "\n",
    "def plotBars_list(genelist):\n",
    "    n=[]\n",
    "    h=[]\n",
    "    for i,gene in enumerate(genelist, start=0):\n",
    "        tempn, temph = plotBars(gene)\n",
    "        n = np.append(n,tempn+(30*i))\n",
    "        h = np.append(h,temph)\n",
    "    return n, h\n",
    "\n",
    "def svgreload():\n",
    "    !osascript -e 'tell application \"Google Chrome\" to tell the active tab of second window to reload'\n",
    "\n",
    "from pygal.style import Style\n",
    "custom_style = Style(\n",
    "    background = 'black',\n",
    "    plot_background = '#111111',\n",
    "    foreground = '#999999',\n",
    "    foreground_strong = '#eeeeee',\n",
    "    foreground_subtle = '#555555',\n",
    "    opacity = '.8',\n",
    "    opacity_hover = '.4',\n",
    "    transition = '10ms',\n",
    "    colors = ('#747474','#B540B7', '#4669F2','#04CD22','#CC2C2A'),\n",
    "    label_font_size = 24,\n",
    "    major_label_font_size = 24,\n",
    "    title_font_size = 24,\n",
    "    legend_font_size = 18\n",
    ")\n",
    "\n",
    "#photoreceptor Colors\n",
    "pC = {\n",
    "    'r' : '#747474',\n",
    "    'u' : '#B540B7',\n",
    "    's' : '#4669F2',\n",
    "    'm' : '#04CD22',\n",
    "    'l' : '#CC2C2A',\n",
    "    'plt' : '',\n",
    "}\n",
    "\n",
    "pC['plt']=[\n",
    "    pC['r'],pC['r'],pC['r'],pC['r'],pC['r'],pC['r'],\n",
    "    pC['u'],pC['u'],pC['u'],pC['u'],pC['u'],\n",
    "    pC['s'],pC['s'],pC['s'],pC['s'],pC['s'],pC['s'],\n",
    "    pC['m'],pC['m'],pC['m'],pC['m'],pC['m'],pC['m'],pC['m'],\n",
    "    pC['l'],pC['l'],pC['l'],pC['l'],pC['l'],pC['l']\n",
    "]\n",
    "\n",
    "print('LOADED')"
   ]
  },
  {
   "cell_type": "code",
   "execution_count": 2,
   "metadata": {},
   "outputs": [
    {
     "name": "stdout",
     "output_type": "stream",
     "text": [
      "/Users/angueyraaristjm/Documents/LiMolec/zfRNAseq/20190827/20190827_DESeq2/genePlots/ForLaura\n"
     ]
    }
   ],
   "source": [
    "# %cd ~/Dropbox/Presentations/RevealReboot/resources/20191002_RNAseq/\n",
    "%cd ~/Documents/LiMolec/zfRNAseq/20190827/20190827_DESeq2/genePlots/ForLaura/"
   ]
  },
  {
   "cell_type": "markdown",
   "metadata": {},
   "source": [
    "***\n",
    "# Index <a id='Index'>∮</a>\n",
    "***\n",
    "- [Plot Total Number of Reads](#nReads)\n",
    "- [PCA Plots](#pcaPlots)\n",
    "- [BarPlot: Opsins](#barOpsins)\n",
    "- [BarPlot: Custom](#barCustom)\n",
    "- [BarPlot: Many Genes](#barMany)\n",
    "- [BarPlot_subPlotsAutomatic: Custom](#barManyAuto)\n",
    "- [Heatmap: Opsins](#heatOpsins)\n",
    "- [Heatmap: Custom](#heatCustom)\n",
    "***"
   ]
  },
  {
   "cell_type": "markdown",
   "metadata": {},
   "source": [
    "***\n",
    "## Total number of reads<a id='nReads'>∮</a>\n",
    "***\n",
    "[Back to Index](#Index)"
   ]
  },
  {
   "cell_type": "markdown",
   "metadata": {},
   "source": [
    "### pygal version (does not import well into Intaglio)\n",
    "> hist = pygal.Histogram(x_title='',y_title='million of mapped reads',show_x_labels=False,title='',style=custom_style,legend_at_bottom=True,legend_at_bottom_columns=4,show_legend=False)  \n",
    "> hist.add('Rod',[(11.27,0.2,0.8),(11.77,1.2,1.8),(9.4,2.2,2.8),(14.99,3.2,3.8),(9.75,4.2,4.8),(9.08,5.2,5.8),])  \n",
    "> hist.add('UV',[(9.42,6.2,6.8),(6.52,7.2,7.8),(10.45,8.2,8.8),(9.46,9.2,9.8),(11.02,10.2,10.8)])  \n",
    "> hist.add('S',[(9.23,11.2,11.8),(9.33,12.2,12.8),(9.37,13.2,13.8),(14.95,14.2,14.8),(12.85,15.2,15.8),(10.96,16.2,16.8)])  \n",
    "> hist.add('M',[(10.40,18.2,18.8),(8.634,19.2,19.8),(7.36,20.2,20.8),(10.32,21.2,21.8),(8.33,22.2,22.8),(9.53,23.2,23.8),(9.526,17.2,17.8)])  \n",
    "> hist.add('L',[(8.99,24.2,24.8),(10.50,25.2,25.8),(10.03,26.2,26.8),(11.08,27.2,27.8),(10.44,28.2,28.8),(10.72,29.2,29.8)])  \n",
    "> hist.render_to_file('test.svg')"
   ]
  },
  {
   "cell_type": "code",
   "execution_count": 3,
   "metadata": {},
   "outputs": [],
   "source": [
    "# dark background\n",
    "params = {\"ytick.color\" : \"w\",\n",
    "          \"xtick.color\" : \"w\",\n",
    "          \"axes.labelcolor\" : \"w\",\n",
    "          \"axes.edgecolor\" : \"w\",\n",
    "         \"axes.linewidth\" : 3,\n",
    "         \"xtick.major.width\" : 3,\n",
    "         \"ytick.major.width\" : 3,\n",
    "         \"xtick.major.size\" : 8,\n",
    "         \"ytick.major.size\" : 8,\n",
    "         \"text.color\" : \"w\"}\n",
    "plt.rcParams.update(params)"
   ]
  },
  {
   "cell_type": "code",
   "execution_count": null,
   "metadata": {},
   "outputs": [],
   "source": [
    "# white background\n",
    "params = {\"ytick.color\" : \"k\",\n",
    "          \"xtick.color\" : \"k\",\n",
    "          \"axes.labelcolor\" : \"k\",\n",
    "          \"axes.edgecolor\" : \"k\",\n",
    "         \"axes.linewidth\" : 3,\n",
    "         \"xtick.major.width\" : 3,\n",
    "         \"ytick.major.width\" : 3,\n",
    "         \"xtick.major.size\" : 8,\n",
    "         \"ytick.major.size\" : 8,\n",
    "         \"text.color\" : \"w\"}\n",
    "plt.rcParams.update(params)"
   ]
  },
  {
   "cell_type": "code",
   "execution_count": null,
   "metadata": {},
   "outputs": [],
   "source": [
    "#pyplot version (Sep_2019)\n",
    "plotname = ''\n",
    "n,h = plotNReads()\n",
    "fH, ax = plt.subplots()\n",
    "pH = plt.bar(n, h, width=0.8, bottom=None, align='center', data=None, color=pC['plt'])\n",
    "formatFigure_nReads(plotname, fH, ax, pH)\n",
    "plt.tight_layout()\n",
    "plt.savefig(\"{0}.svg\".format('nReads'), transparent=True, format=\"svg\")"
   ]
  },
  {
   "cell_type": "code",
   "execution_count": null,
   "metadata": {},
   "outputs": [],
   "source": [
    "np.mean(h)"
   ]
  },
  {
   "cell_type": "markdown",
   "metadata": {},
   "source": []
  },
  {
   "cell_type": "markdown",
   "metadata": {},
   "source": [
    "***\n",
    "## pcaPlots<a id='pcaPlots'>∮</a>\n",
    "***\n",
    "[Back to Index](#Index)"
   ]
  },
  {
   "cell_type": "code",
   "execution_count": null,
   "metadata": {},
   "outputs": [],
   "source": [
    "def formatFigure_pca(plotname, figH, axH, plotH):\n",
    "    font_path = '/System/Library/Fonts/Avenir.ttc'\n",
    "    fontTicks = font_manager.FontProperties(fname=font_path, size=18)\n",
    "    fontLabels = font_manager.FontProperties(fname=font_path, size=22)\n",
    "    fontTitle = font_manager.FontProperties(fname=font_path, size=28)\n",
    "    \n",
    "    axH.ticklabel_format(style='sci',axis='y',scilimits=(0,2))\n",
    "    axH.set_title(plotname, fontproperties=fontTitle)\n",
    "    axH.spines['top'].set_visible(False)\n",
    "    axH.spines['right'].set_visible(False)\n",
    "    \n",
    "    for label in (axH.get_xticklabels() + axH.get_yticklabels()):\n",
    "        label.set_fontproperties(fontTicks)\n",
    "    axH.tick_params(axis = 'both', which = 'major', labelsize = 18)\n",
    "    axH.yaxis.offsetText.set_fontsize(18)"
   ]
  },
  {
   "cell_type": "code",
   "execution_count": null,
   "metadata": {},
   "outputs": [],
   "source": [
    "#pyplot version (Sep_2019)\n",
    "plotname = 'PCA_RodsCones'\n",
    "pc_df = pd.read_csv(\"~/Documents/LiMolec/zfRNAseq/20190827/20190827_DESeq2/00_rodsVcones/pcaData.csv\")\n",
    "pc1 = pc_df.iloc[:,0]\n",
    "pc2 = pc_df.iloc[:,1]\n",
    "fH, ax = plt.subplots(figsize=[5,5])\n",
    "pH = plt.scatter(pc1, pc2, color=pC['plt'])\n",
    "formatFigure_pca(plotname, fH, ax, pH)\n",
    "ax.set_xlabel('PC1 (var = 21%)', fontproperties=font_manager.FontProperties(fname='/System/Library/Fonts/Avenir.ttc', size=22))\n",
    "ax.set_ylabel('PC2 (var = 9%)', fontproperties=font_manager.FontProperties(fname='/System/Library/Fonts/Avenir.ttc', size=22))\n",
    "plt.xlim(-100,50)\n",
    "plt.ylim(-60,60)\n",
    "plt.tight_layout()\n",
    "plt.savefig(\"{0}.svg\".format(plotname), transparent=True, format=\"svg\")"
   ]
  },
  {
   "cell_type": "code",
   "execution_count": null,
   "metadata": {},
   "outputs": [],
   "source": [
    "#pyplot version (Sep_2019)\n",
    "plotname = 'PCA_UVS_ML'\n",
    "pc_df = pd.read_csv(\"~/Documents/LiMolec/zfRNAseq/20190827/20190827_DESeq2/00_USvsLM/pcaData.csv\")\n",
    "pc1 = pc_df.iloc[:,0]\n",
    "pc2 = pc_df.iloc[:,1]\n",
    "fH, ax = plt.subplots(figsize=[5,5])\n",
    "pH = plt.scatter(pc1, pc2, color=[\n",
    "    pC['u'],pC['u'],pC['u'],pC['u'],pC['u'],\n",
    "    pC['s'],pC['s'],pC['s'],pC['s'],pC['s'],pC['s'],\n",
    "    pC['m'],pC['m'],pC['m'],pC['m'],pC['m'],pC['m'],pC['m'],\n",
    "    pC['l'],pC['l'],pC['l'],pC['l'],pC['l'],pC['l']\n",
    "]\n",
    "                )\n",
    "formatFigure_pca(plotname, fH, ax, pH)\n",
    "ax.set_xlabel('PC1 (var = 13%)', fontproperties=font_manager.FontProperties(fname='/System/Library/Fonts/Avenir.ttc', size=22))\n",
    "ax.set_ylabel('PC2 (var = 10%)', fontproperties=font_manager.FontProperties(fname='/System/Library/Fonts/Avenir.ttc', size=22))\n",
    "plt.xlim(-80,80)\n",
    "plt.ylim(-60,60)\n",
    "plt.tight_layout()\n",
    "plt.savefig(\"{0}.svg\".format(plotname), transparent=True, format=\"svg\")"
   ]
  },
  {
   "cell_type": "code",
   "execution_count": null,
   "metadata": {},
   "outputs": [],
   "source": [
    "#pyplot version (Sep_2019)\n",
    "plotname = 'PCA_ML'\n",
    "pc_df = pd.read_csv(\"~/Documents/LiMolec/zfRNAseq/20190827/20190827_DESeq2/00_LvsM/pcaData.csv\")\n",
    "pc1 = pc_df.iloc[:,0]\n",
    "pc2 = pc_df.iloc[:,1]\n",
    "fH, ax = plt.subplots(figsize=[5,5])\n",
    "pH = plt.scatter(pc1, pc2, color=[\n",
    "    pC['m'],pC['m'],pC['m'],pC['m'],pC['m'],pC['m'],pC['m'],\n",
    "    pC['l'],pC['l'],pC['l'],pC['l'],pC['l'],pC['l']\n",
    "]\n",
    "                )\n",
    "formatFigure_pca(plotname, fH, ax, pH)\n",
    "ax.set_xlabel('PC1 (var = 23%)', fontproperties=font_manager.FontProperties(fname='/System/Library/Fonts/Avenir.ttc', size=22))\n",
    "ax.set_ylabel('PC2 (var = 10%)', fontproperties=font_manager.FontProperties(fname='/System/Library/Fonts/Avenir.ttc', size=22))\n",
    "plt.xlim(-80,80)\n",
    "plt.ylim(-80,80)\n",
    "plt.tight_layout()\n",
    "plt.savefig(\"{0}.svg\".format(plotname), transparent=True, format=\"svg\")"
   ]
  },
  {
   "cell_type": "code",
   "execution_count": null,
   "metadata": {},
   "outputs": [],
   "source": [
    "#pyplot version (Sep_2019)\n",
    "plotname = 'PCA_U_S'\n",
    "pc_df = pd.read_csv(\"~/Documents/LiMolec/zfRNAseq/20190827/20190827_DESeq2/00_UvsS/pcaData.csv\")\n",
    "pc1 = pc_df.iloc[:,0]\n",
    "pc2 = pc_df.iloc[:,1]\n",
    "fH, ax = plt.subplots(figsize=[5,5])\n",
    "pH = plt.scatter(pc1, pc2, color=[\n",
    "    pC['u'],pC['u'],pC['u'],pC['u'],pC['u'],\n",
    "    pC['s'],pC['s'],pC['s'],pC['s'],pC['s'],pC['s'],\n",
    "]\n",
    "                )\n",
    "formatFigure_pca(plotname, fH, ax, pH)\n",
    "ax.set_xlabel('PC1 (var = 13%)', fontproperties=font_manager.FontProperties(fname='/System/Library/Fonts/Avenir.ttc', size=22))\n",
    "ax.set_ylabel('PC2 (var = 10%)', fontproperties=font_manager.FontProperties(fname='/System/Library/Fonts/Avenir.ttc', size=22))\n",
    "plt.xlim(-100,100)\n",
    "plt.ylim(-80,80)\n",
    "plt.tight_layout()\n",
    "plt.savefig(\"{0}.svg\".format(plotname), transparent=True, format=\"svg\")"
   ]
  },
  {
   "cell_type": "code",
   "execution_count": null,
   "metadata": {},
   "outputs": [],
   "source": []
  },
  {
   "cell_type": "code",
   "execution_count": null,
   "metadata": {},
   "outputs": [],
   "source": []
  },
  {
   "cell_type": "code",
   "execution_count": null,
   "metadata": {},
   "outputs": [],
   "source": [
    "# US vs LM: PC1 = 13% and PC2 = 10%\n",
    "# M vs L: PC1 = 23% and PC2 = 10%\n",
    "# UV vs S: PC1 = 15% and PC2 = 13%"
   ]
  },
  {
   "cell_type": "markdown",
   "metadata": {},
   "source": [
    "***\n",
    "## barPlot: Opsins<a id='barOpsins'>∮</a>\n",
    "***\n",
    "[Back to Index](#Index)"
   ]
  },
  {
   "cell_type": "code",
   "execution_count": null,
   "metadata": {},
   "outputs": [],
   "source": [
    "# from fx_RNAseq import *"
   ]
  },
  {
   "cell_type": "code",
   "execution_count": null,
   "metadata": {},
   "outputs": [],
   "source": [
    "genename = 'opn1lw2'\n",
    "n,h = plotBars(genename)\n",
    "h = h / 1e6\n",
    "fH, ax = plt.subplots()\n",
    "pH = plt.bar(n, h, width=0.8, bottom=None, align='center', data=None, color=pC['plt'])\n",
    "formatFigure_Opsins(genename, fH, ax, pH)\n",
    "plt.savefig(\"{0}.svg\".format(genename), transparent=True, format=\"svg\")"
   ]
  },
  {
   "cell_type": "code",
   "execution_count": null,
   "metadata": {},
   "outputs": [],
   "source": [
    "findgene('rho')"
   ]
  },
  {
   "cell_type": "markdown",
   "metadata": {},
   "source": [
    "***\n",
    "## barPlot: Custom Gene<a id='barCustom'>∮</a>\n",
    "***\n",
    "[Back to Index](#Index)"
   ]
  },
  {
   "cell_type": "markdown",
   "metadata": {},
   "source": [
    "> Genes to pay attention to but still haven't given interesting results\n",
    "> cdh (cadherins)\n",
    "> protocadherins\n",
    "> semaphorins\n",
    "> plexins (plx)\n",
    "> laminins (lamb) and integrins (itg)\n",
    "> dystroglycan (dag), dystrophin (dmd), pikachurin\n",
    "> neurexins\n",
    "> cadm\n",
    "> dscam and sidekicks (sdk)\n",
    "> pappaa\n"
   ]
  },
  {
   "cell_type": "code",
   "execution_count": null,
   "metadata": {},
   "outputs": [],
   "source": [
    "gdf = findgenelist('lrit')\n",
    "gdf"
   ]
  },
  {
   "cell_type": "code",
   "execution_count": 191,
   "metadata": {},
   "outputs": [
    {
     "data": {
      "image/png": "[encoded data removed]",
      "text/plain": [
       "<Figure size 432x288 with 1 Axes>"
      ]
     },
     "metadata": {
      "needs_background": "dark"
     },
     "output_type": "display_data"
    }
   ],
   "source": [
    "genename = 'prickle3'\n",
    "genename = 'ncdn'\n",
    "genename = 'prickle3'\n",
    "# genename = 'grin1b'\n",
    "# genename = 'cdhr1a'\n",
    "# genename = 'lrit1a'\n",
    "n,h = plotBars(genename)\n",
    "fH, ax = plt.subplots()\n",
    "pH = plt.bar(n, h, width=0.8, bottom=None, align='center', data=None, color=pC['plt'])\n",
    "formatFigure(genename, fH, ax, pH)\n",
    "plt.savefig(\"{0}.svg\".format(genename), transparent=True, format=\"svg\")"
   ]
  },
  {
   "cell_type": "code",
   "execution_count": null,
   "metadata": {},
   "outputs": [],
   "source": []
  },
  {
   "cell_type": "markdown",
   "metadata": {},
   "source": [
    "***\n",
    "## barPlot: Many Genes Layout<a id='barMany'>∮</a>\n",
    "***\n",
    "[Back to Index](#Index)"
   ]
  },
  {
   "cell_type": "code",
   "execution_count": null,
   "metadata": {},
   "outputs": [],
   "source": [
    "cd '~/Dropbox/LiLab/RNAseq/genePlots/combos'"
   ]
  },
  {
   "cell_type": "code",
   "execution_count": null,
   "metadata": {},
   "outputs": [],
   "source": [
    "genelist = ['gnat1','gnat2']\n",
    "n, h = plotBars_list(genelist)\n",
    "fH, ax = plt.subplots()\n",
    "pH = plt.bar(n, h, width=0.8, bottom=None, align='center', data=None, color=pC['plt'])\n",
    "formatFigure_list(genelist, fH, ax, pH)\n",
    "# plt.savefig(\"{0}.svg\".format('gnat'), transparent=True, format=\"svg\")"
   ]
  },
  {
   "cell_type": "code",
   "execution_count": null,
   "metadata": {},
   "outputs": [],
   "source": [
    "genelist = ['rho','opn1sw1','opn1sw2','opn1mw1','opn1mw2','opn1mw3','opn1mw4','opn1lw1','opn1lw2']\n",
    "n, h = plotBars_list(genelist)\n",
    "fH, ax = plt.subplots(figsize=[6*len(genelist),4])\n",
    "pH = plt.bar(n, h, width=0.8, bottom=None, align='center', data=None, color=pC['plt'])\n",
    "formatFigure_list(genelist, fH, ax, pH)\n",
    "plt.xlim(0,len(genelist)*10)\n",
    "# plt.savefig(\"{0}.svg\".format('opn1'), transparent=True, format=\"svg\")"
   ]
  },
  {
   "cell_type": "markdown",
   "metadata": {},
   "source": [
    "***\n",
    "## barPlot: Many Genes Layout Using Subplots (proper way)<a id='barManySubPlots'>∮</a>\n",
    "***\n",
    "[Back to Index](#Index)"
   ]
  },
  {
   "cell_type": "code",
   "execution_count": 46,
   "metadata": {},
   "outputs": [],
   "source": [
    "shrink = 1#2/3"
   ]
  },
  {
   "cell_type": "code",
   "execution_count": null,
   "metadata": {},
   "outputs": [],
   "source": [
    "genelist = ['gnat1','gnat2']\n",
    "fH, axes = plt.subplots(1,len(genelist),sharey=True,figsize=[6*shrink*len(genelist),4*shrink])\n",
    "for i,g in enumerate(genelist,start=0):\n",
    "    n, h = plotBars(g)\n",
    "    plt.sca(axes[i]) \n",
    "    pH = plt.bar(n, h, width=0.8, bottom=None, align='center', data=None,\n",
    "                 color=pC['plt'])\n",
    "    if  i == 0:\n",
    "        formatFigure(g, fH, axes[i], pH)\n",
    "    else:\n",
    "        formatFigure_right(g, fH, axes[i], pH)\n",
    "plt.savefig(\"{0}.svg\".format('gnat'), transparent=True, format=\"svg\")"
   ]
  },
  {
   "cell_type": "code",
   "execution_count": 47,
   "metadata": {},
   "outputs": [
    {
     "data": {
      "image/png": "[encoded data removed]",
      "text/plain": [
       "<Figure size 864x288 with 2 Axes>"
      ]
     },
     "metadata": {
      "needs_background": "light"
     },
     "output_type": "display_data"
    }
   ],
   "source": [
    "genelist = ['rho','rhol']\n",
    "\n",
    "fH, axes = plt.subplots(1,len(genelist),sharey=True,figsize=[6*shrink*len(genelist),4*shrink])\n",
    "for i,g in enumerate(genelist,start=0):\n",
    "    n, h = plotBars(g)\n",
    "    plt.sca(axes[i])\n",
    "    pH = plt.bar(n, h, width=0.8, bottom=None, align='center', data=None,\n",
    "                 color=pC['plt'])\n",
    "    if  i == 0:\n",
    "        formatFigure(g, fH, axes[i], pH)\n",
    "        plt.ylim(0,3.5e6)\n",
    "        axes[0].set_yticks(np.arange(0, 4.0e6, step=0.5e6))\n",
    "    else:\n",
    "        formatFigure_right(g, fH, axes[i], pH)\n",
    "plt.savefig(\"{0}.svg\".format('rho'), transparent=True, format=\"svg\")"
   ]
  },
  {
   "cell_type": "code",
   "execution_count": 48,
   "metadata": {},
   "outputs": [
    {
     "data": {
      "image/png": "[encoded data removed]",
      "text/plain": [
       "<Figure size 864x288 with 2 Axes>"
      ]
     },
     "metadata": {
      "needs_background": "light"
     },
     "output_type": "display_data"
    }
   ],
   "source": [
    "genelist = ['opn1sw1','opn1sw2']\n",
    "\n",
    "fH, axes = plt.subplots(1,len(genelist),sharey=True,figsize=[6*shrink*len(genelist),4*shrink])\n",
    "for i,g in enumerate(genelist,start=0):\n",
    "    n, h = plotBars(g)\n",
    "    plt.sca(axes[i])\n",
    "    pH = plt.bar(n, h, width=0.8, bottom=None, align='center', data=None,\n",
    "                 color=pC['plt'])\n",
    "    if  i == 0:\n",
    "        formatFigure(g, fH, axes[i], pH)\n",
    "        plt.ylim(0,2e6)\n",
    "        axes[0].set_yticks(np.arange(0, 2.5e6, step=0.5e6))\n",
    "    else:\n",
    "        formatFigure_right(g, fH, axes[i], pH)\n",
    "plt.savefig(\"{0}.svg\".format('opn1sw'), transparent=True, format=\"svg\")"
   ]
  },
  {
   "cell_type": "code",
   "execution_count": 49,
   "metadata": {},
   "outputs": [
    {
     "data": {
      "image/png": "[encoded data removed]",
      "text/plain": [
       "<Figure size 864x288 with 2 Axes>"
      ]
     },
     "metadata": {
      "needs_background": "light"
     },
     "output_type": "display_data"
    }
   ],
   "source": [
    "genelist = ['opn1mw1','opn1mw2']\n",
    "\n",
    "fH, axes = plt.subplots(1,len(genelist),sharey=True,figsize=[6*shrink*len(genelist),4*shrink])\n",
    "for i,g in enumerate(genelist,start=0):\n",
    "    n, h = plotBars(g)\n",
    "    plt.sca(axes[i])\n",
    "    pH = plt.bar(n, h, width=0.8, bottom=None, align='center', data=None,\n",
    "                 color=pC['plt'])\n",
    "    if  i == 0:\n",
    "        formatFigure(g, fH, axes[i], pH)\n",
    "    else:\n",
    "        formatFigure_right(g, fH, axes[i], pH)\n",
    "plt.savefig(\"{0}.svg\".format('opn1mwA'), transparent=True, format=\"svg\")"
   ]
  },
  {
   "cell_type": "code",
   "execution_count": 50,
   "metadata": {},
   "outputs": [
    {
     "data": {
      "image/png": "[encoded data removed]",
      "text/plain": [
       "<Figure size 864x288 with 2 Axes>"
      ]
     },
     "metadata": {
      "needs_background": "light"
     },
     "output_type": "display_data"
    }
   ],
   "source": [
    "genelist = ['opn1mw3','opn1mw4']\n",
    "\n",
    "fH, axes = plt.subplots(1,len(genelist),sharey=True,figsize=[6*shrink*len(genelist),4*shrink])\n",
    "for i,g in enumerate(genelist,start=0):\n",
    "    n, h = plotBars(g)\n",
    "    plt.sca(axes[i])\n",
    "    pH = plt.bar(n, h, width=0.8, bottom=None, align='center', data=None,\n",
    "                 color=pC['plt'])\n",
    "    if  i == 0:\n",
    "        formatFigure(g, fH, axes[i], pH)\n",
    "        plt.ylim(0,1.5e6)\n",
    "        axes[0].set_yticks(np.arange(0, 2.0e6, step=0.5e6))\n",
    "    else:\n",
    "        formatFigure_right(g, fH, axes[i], pH)\n",
    "\n",
    "\n",
    "plt.savefig(\"{0}.svg\".format('opn1mwB'), transparent=True, format=\"svg\")"
   ]
  },
  {
   "cell_type": "code",
   "execution_count": 51,
   "metadata": {},
   "outputs": [
    {
     "data": {
      "image/png": "[encoded data removed]",
      "text/plain": [
       "<Figure size 864x288 with 2 Axes>"
      ]
     },
     "metadata": {
      "needs_background": "light"
     },
     "output_type": "display_data"
    }
   ],
   "source": [
    "genelist = ['opn1lw1','opn1lw2']\n",
    "\n",
    "fH, axes = plt.subplots(1,len(genelist),sharey=True,figsize=[6*shrink*len(genelist),4*shrink])\n",
    "for i,g in enumerate(genelist,start=0):\n",
    "    n, h = plotBars(g)\n",
    "    plt.sca(axes[i])\n",
    "    pH = plt.bar(n, h, width=0.8, bottom=None, align='center', data=None,\n",
    "                 color=pC['plt'])\n",
    "    if  i == 0:\n",
    "        formatFigure(g, fH, axes[i], pH)\n",
    "        plt.ylim(0,1e6)\n",
    "        axes[0].set_yticks(np.arange(0, 1.5e6, step=0.5e6))\n",
    "    else:\n",
    "        formatFigure_right(g, fH, axes[i], pH)\n",
    "#         axes[i].set_yticks(np.arange(0, 2.0e6, step=0.5e6))\n",
    "\n",
    "plt.savefig(\"{0}.svg\".format('opn1lw'), transparent=True, format=\"svg\")"
   ]
  },
  {
   "cell_type": "code",
   "execution_count": 52,
   "metadata": {},
   "outputs": [],
   "source": [
    "# Using svgutils to automatically tile these figures the right way\n",
    "Figure(\"2400\", \"2000\",\n",
    "       SVG(\"rho.svg\").move(0, 290*0),\n",
    "       SVG(\"opn1sw.svg\").move(0, 290*1),\n",
    "       SVG(\"opn1mwA.svg\").move(0, 290*2),\n",
    "       SVG(\"opn1mwB.svg\").move(0, 290*3),\n",
    "       SVG(\"opn1lw.svg\").move(0, 290*4)\n",
    "        ).save(\"OpsinsAll.svg\")\n",
    "svgreload()"
   ]
  },
  {
   "cell_type": "markdown",
   "metadata": {},
   "source": [
    "### Phototransduction"
   ]
  },
  {
   "cell_type": "code",
   "execution_count": null,
   "metadata": {},
   "outputs": [],
   "source": [
    "gdf = findgenelist('gngt')\n",
    "gdf = gdf.sort_values(by=['symbol'])\n",
    "gdf"
   ]
  },
  {
   "cell_type": "code",
   "execution_count": null,
   "metadata": {},
   "outputs": [],
   "source": [
    "genelist = ['saga','sagb','arr3a','arr3b']\n",
    "plotName = 'arrestins'\n",
    "\n",
    "genelist = ['gnat1','gnat2']\n",
    "plotName = 'gnat'\n",
    "\n",
    "genelist = ['gngt1','gngt2a','gngt2b']\n",
    "plotName = 'gngt'\n",
    "\n",
    "genelist = ['gnb1a','gnb1b','gnb3a','gnb3b','gnb4b','gnb5a','gnb5b']\n",
    "plotName = 'gnb'\n",
    "\n",
    "genelist = ['pde6a','pde6b','pde6c','pde6d','pde6ga','pde6gb','pde6c','pde6ha']\n",
    "plotName = 'pde'\n",
    "\n",
    "genelist = ['gucy1a1','gucy1b1','gucy1b2','gucy2c','gucy2d','gucy2f','gucy2g']\n",
    "plotName = 'GC'\n",
    "\n",
    "genelist = ['gucy2d','gucy2f']\n",
    "plotName = 'GC_retinaSpecific'\n",
    "\n",
    "genelist = ['guca1a','guca1b','guca1c','guca1d','guca1e','guca1g']\n",
    "plotName = 'GCAP'\n",
    "\n",
    "genelist = ['cnga1a','cnga1b','cnga3a','cnga3b','cnga4','cnga2a','cnga2b']\n",
    "plotName = 'CNGalpha'\n",
    "\n",
    "genelist = ['cnga1a','cnga1b','cnga3a','cnga3b']\n",
    "plotName = 'CNGalpha_retinaSpecific'\n",
    "\n",
    "genelist = ['cngb1a','cngb3.1','cngb3.2']\n",
    "plotName = 'CNGbeta'\n",
    "\n",
    "\n",
    "genelist = ['rgs9a','rgs9b','rgs9bp',\n",
    "            'rgs3a','rgs6',\n",
    "            'rgs11','rgs12a','rgs16','rgs20']\n",
    "plotName = 'RGS'\n",
    "\n",
    "genelist = ['grk1a','grk1b',\n",
    "            'grk3',\n",
    "            'grk4','grk5','grk5l',\n",
    "            'grk6',\n",
    "            'grk7a','grk7b']\n",
    "plotName = 'GRK'\n",
    "\n",
    "genelist = ['rcvrna','rcvrnb','rcvrn2','rcvrn3','ncalda','ncaldb']\n",
    "plotName = 'rcvrn'\n",
    "\n",
    "\n",
    "\n",
    "fH, axes = plt.subplots(1,len(genelist),sharey=True,figsize=[6*len(genelist),4])\n",
    "for i,g in enumerate(genelist,start=0):\n",
    "    n, h = plotBars(g)\n",
    "    plt.sca(axes[i])\n",
    "    pH = plt.bar(n, h, width=0.8, bottom=None, align='center', data=None,\n",
    "                 color=pC['plt'])\n",
    "    if  i == 0:\n",
    "        formatFigure(g, fH, axes[i], pH)\n",
    "    else:\n",
    "        formatFigure_right(g, fH, axes[i], pH)\n",
    "plt.savefig(\"{0}.svg\".format(plotName), transparent=True, format=\"svg\")"
   ]
  },
  {
   "cell_type": "code",
   "execution_count": null,
   "metadata": {},
   "outputs": [],
   "source": []
  },
  {
   "cell_type": "markdown",
   "metadata": {},
   "source": [
    "### Others"
   ]
  },
  {
   "cell_type": "code",
   "execution_count": null,
   "metadata": {},
   "outputs": [],
   "source": [
    "gdf = findgenelist('cacn')\n",
    "gdf = gdf.sort_values(by=['symbol'])\n",
    "gdf"
   ]
  },
  {
   "cell_type": "code",
   "execution_count": 811,
   "metadata": {},
   "outputs": [
    {
     "data": {
      "image/png": "[encoded data removed]",
      "text/plain": [
       "<Figure size 864x288 with 2 Axes>"
      ]
     },
     "metadata": {
      "needs_background": "dark"
     },
     "output_type": "display_data"
    }
   ],
   "source": [
    "# genelist = ['ctbp1','ctbp2a']\n",
    "# plotName = 'ctbp'\n",
    "\n",
    "# genelist = ['cadm1a','cadm1b','cadm2a','cadm2b','cadm3','cadm4']\n",
    "# plotName = 'cadm'\n",
    "\n",
    "# genelist = ['tjp1a','tjp1b','tjp2a','tjp2b','tjp3']\n",
    "# plotName = 'tjp'\n",
    "\n",
    "# genelist = ['nrxn1a','nrxn1b','nrxn2a','nrxn2b','nrxn3a','nrxn3b',]\n",
    "# plotName = 'nrxn'\n",
    "\n",
    "# genelist = ['eml1','eml2','eml3']\n",
    "# plotName = 'eml'\n",
    "\n",
    "# genelist = ['elfn1b','elfn2a']\n",
    "# plotName = 'elfn'\n",
    "\n",
    "# genelist = ['cpne1','cpne2','cpne3','cpne4a','cpne4b','cpne5a','cpne5b','cpne7','cpne8','cpne9']\n",
    "# plotName = 'cpne'\n",
    "\n",
    "# genelist = ['tbx2a','tbx2b','tbxas1','tbx21']\n",
    "# genelist = ['tbx2a','tbx2b']\n",
    "# plotName = 'tbx2'\n",
    "\n",
    "# genelist = ['chn1','chn2']\n",
    "# plotName = 'chn'\n",
    "\n",
    "# genelist = ['ncdn','ncdn']\n",
    "# plotName = 'ncdn'\n",
    "\n",
    "# genelist = ['sema7a','sema6a','sema6d','sema4ab','sema4ba','sema3fa','sema3fb']\n",
    "# plotName = 'sema'\n",
    "\n",
    "# genelist = ['cacna1aa','cacna1ab',\n",
    "#             'cacna1da','cacna1db',\n",
    "#             'cacna1fa','cacna1fb',\n",
    "#             'cacna2d1a','cacna2d2a',\n",
    "#             'cacna2d4a','cacna2d4b',\n",
    "#             'cacna1sb',\n",
    "#            ]\n",
    "# plotName = 'CaV'\n",
    "\n",
    "# genelist = ['stxbp1b','stxbp4','stxbp2','stxbp5a','stxbp5b','stxbp5l','stxbp3']\n",
    "# genelist = ['stxbp1a','stxbp1b',\n",
    "#             'stxbp2','stxbp3','stxbp4',\n",
    "#             'stxbp5a','stxbp5b','stxbp5l',\n",
    "#             'stxbp6','stxbp6l']\n",
    "# plotName = 'stxBP'\n",
    "\n",
    "# genelist = ['stx1a','stx1b','stx2a','stx2b','stx3a',\n",
    "#             'stx4','stx5a','stx5al','stx6','stx7l',\n",
    "#             'stx8','stx10','stx11a','stx11b.1','stx11b.2',\n",
    "#             'stx12','stx12l','stx16','stx17','stx18']\n",
    "# plotName = 'stx'\n",
    "\n",
    "# genelist = ['prickle1a','prickle1b','prickle2a','prickle2b','prickle3',]\n",
    "# plotName = 'prickle'\n",
    "\n",
    "# genelist = ['pcdh15a','pcdh8','pcdh11']\n",
    "# plotName = 'pdch'\n",
    "\n",
    "# genelist = ['chn1','chn2']\n",
    "# plotName = 'chn'\n",
    "\n",
    "# genelist = ['ncdn','prickle3']\n",
    "# plotName = 'ncdn'\n",
    "\n",
    "# genelist = ['tbx2a','tbx2b']\n",
    "# plotName = 'tbx2'\n",
    "\n",
    "# genelist = ['lrit1a','lrit1b','lrit2','lrit3a','lrit3b']\n",
    "# plotName = 'lrit'\n",
    "\n",
    "\n",
    "\n",
    "# genelist = ['gpx1a','gpx1b','gpx4a','gpx4b']\n",
    "# genelist = ['rgs9bp','RGS9BP']\n",
    "# genelist = ['chchd1','chchd10']\n",
    "# genelist = ['yipf6','yipf1']\n",
    "# genelist = ['sema3fb','sema3fa','sema6d']\n",
    "genelist = ['esama','esamb']\n",
    "\n",
    "genelist = ['pcdh1gc6','tex264a']\n",
    "plotName = 'test'\n",
    "\n",
    "            \n",
    "fH, axes = plt.subplots(1,len(genelist),sharey=False,figsize=[6*len(genelist),4])\n",
    "for i,g in enumerate(genelist,start=0):\n",
    "    n, h = plotBars(g)\n",
    "    plt.sca(axes[i])\n",
    "    pH = plt.bar(n, h, width=0.8, bottom=None, align='center', data=None,\n",
    "                 color=pC['plt'])\n",
    "    if  i == 0:\n",
    "        formatFigure(g, fH, axes[i], pH)\n",
    "    else:\n",
    "        formatFigure_right(g, fH, axes[i], pH)\n",
    "plt.savefig(\"{0}.svg\".format(plotName), transparent=True, format=\"svg\")"
   ]
  },
  {
   "cell_type": "code",
   "execution_count": null,
   "metadata": {},
   "outputs": [],
   "source": [
    "gdf = findgenelist('opn1')\n",
    "# gdf = gdf.sort_values(by=['symbol'])\n",
    "# gdf = gdf.sort_values(by=['baseMean'], ascending=False)\n",
    "# gdf['symbol']\n",
    "gdf"
   ]
  },
  {
   "cell_type": "markdown",
   "metadata": {},
   "source": [
    "### According to Neuhauss recoverin1a in enriched in rods and UV-cones"
   ]
  },
  {
   "cell_type": "markdown",
   "metadata": {},
   "source": [
    "***\n",
    "## heatMap: Opsins<a id='barManySubPlots'>∮</a>\n",
    "***\n",
    "[Back to Index](#Index)"
   ]
  },
  {
   "cell_type": "markdown",
   "metadata": {},
   "source": [
    "Not sure this is helpful.  \n",
    "Maybe use this to show differential expression by normalizing by mean expression in correct type"
   ]
  },
  {
   "cell_type": "code",
   "execution_count": null,
   "metadata": {},
   "outputs": [],
   "source": [
    "gdf = findgenelist('opn1')\n",
    "gdf2 = findgene('rho')\n",
    "gdf2\n",
    "gdf = gdf.append(gdf2)\n",
    "gdf.index = range(len(gdf))\n",
    "gdf\n",
    "\n",
    "Opsins = [\"Rhodopsin (rho)\",\"UV-opsin (opn1sw1)\", \"S-opsin (opn1sw2)\",\"M-opsin (opn1mw1)\",\"M-opsin (opn1mw2)\",\"M-opsin (opn1mw3)\",\"M-opsin (opn1mw4)\",\"L-opsin (opn1lw1)\",\"L-opsin (opn1lw2)\"]\n",
    "Samples = [\"\",\"\",\"R\",\"\",\"\",\"\",\n",
    "           \"\",\"\",\"U\",\"\",\"\",\n",
    "           \"\",\"\",\"S\",\"\",\"\",\"\",\n",
    "           \"\",\"\",\"\",\"M\",\"\",\"\",\"\",\n",
    "           \"\",\"\",\"L\",\"\",\"\",\"\",\n",
    "          ]\n",
    "Samples = [\n",
    "          ]\n",
    "\n",
    "data = gdf.iloc[0:9,7:37]\n",
    "data = data.reindex([8,4,5,7,0,2,6,1,3])\n",
    "data.index = range(len(data))\n",
    "np.around(np.divide(data.values,1e6),2)\n",
    "opsinData = np.divide(data.values,1e6)\n",
    "\n",
    "# # log2 representation does not work well\n",
    "# log2matrix = np.vectorize(log2)\n",
    "# opsinData = log2matrix(opsinData)\n",
    "\n",
    "params = {\"ytick.color\" : \"w\",\n",
    "          \"xtick.color\" : \"w\",\n",
    "          \"axes.labelcolor\" : \"w\",\n",
    "          \"axes.edgecolor\" : \"w\",\n",
    "         \"axes.linewidth\" : 2,\n",
    "         \"xtick.major.width\" : 2,\n",
    "         \"ytick.major.width\" : 2,\n",
    "         \"xtick.major.size\" : 0,\n",
    "         \"ytick.major.size\" : 0}\n",
    "plt.rcParams.update(params)\n",
    "\n",
    "plotName = \"heatMap_opsins\"\n",
    "fig, ax = plt.subplots()\n",
    "\n",
    "im, cbar = heatmap(opsinData, Opsins, Samples, ax=ax,\n",
    "                   cmap=\"inferno\", cbarlabel=\"counts per million\")\n",
    "\n",
    "\n",
    "# texts = annotate_heatmap(im, valfmt=\"{x:.1f} t\")\n",
    "\n",
    "# fig.tight_layout()\n",
    "plt.savefig(\"{0}.svg\".format(plotName), transparent=True, format=\"svg\")"
   ]
  },
  {
   "cell_type": "code",
   "execution_count": null,
   "metadata": {},
   "outputs": [],
   "source": []
  },
  {
   "cell_type": "markdown",
   "metadata": {},
   "source": [
    "***\n",
    "## heatMap: Custom<a id='heatCustom'>∮</a>\n",
    "***\n",
    "[Back to Index](#Index)"
   ]
  },
  {
   "cell_type": "code",
   "execution_count": 898,
   "metadata": {},
   "outputs": [
    {
     "data": {
      "text/html": [
       "<div>\n",
       "<style scoped>\n",
       "    .dataframe tbody tr th:only-of-type {\n",
       "        vertical-align: middle;\n",
       "    }\n",
       "\n",
       "    .dataframe tbody tr th {\n",
       "        vertical-align: top;\n",
       "    }\n",
       "\n",
       "    .dataframe thead th {\n",
       "        text-align: right;\n",
       "    }\n",
       "</style>\n",
       "<table border=\"1\" class=\"dataframe\">\n",
       "  <thead>\n",
       "    <tr style=\"text-align: right;\">\n",
       "      <th></th>\n",
       "      <th>symbol</th>\n",
       "      <th>genename</th>\n",
       "      <th>baseMean</th>\n",
       "      <th>log2FoldChange</th>\n",
       "      <th>lfcSE</th>\n",
       "      <th>pvalue</th>\n",
       "      <th>padj</th>\n",
       "      <th>R1</th>\n",
       "      <th>R2</th>\n",
       "      <th>R3</th>\n",
       "      <th>...</th>\n",
       "      <th>M4</th>\n",
       "      <th>M5</th>\n",
       "      <th>M6</th>\n",
       "      <th>S7</th>\n",
       "      <th>L1</th>\n",
       "      <th>L2</th>\n",
       "      <th>L3</th>\n",
       "      <th>L4</th>\n",
       "      <th>L5</th>\n",
       "      <th>L6</th>\n",
       "    </tr>\n",
       "  </thead>\n",
       "  <tbody>\n",
       "    <tr>\n",
       "      <td>0</td>\n",
       "      <td>prrc2c</td>\n",
       "      <td>proline-rich coiled-coil 2C</td>\n",
       "      <td>29.286774</td>\n",
       "      <td>-3.553126e-07</td>\n",
       "      <td>0.001443</td>\n",
       "      <td>0.020878</td>\n",
       "      <td>0.105130</td>\n",
       "      <td>0.00000</td>\n",
       "      <td>0.000000</td>\n",
       "      <td>5.133832</td>\n",
       "      <td>...</td>\n",
       "      <td>54.464534</td>\n",
       "      <td>0.000000</td>\n",
       "      <td>0.000000</td>\n",
       "      <td>0.000000</td>\n",
       "      <td>209.797591</td>\n",
       "      <td>0.000000</td>\n",
       "      <td>70.591278</td>\n",
       "      <td>13.276616</td>\n",
       "      <td>0.000000</td>\n",
       "      <td>20.397186</td>\n",
       "    </tr>\n",
       "    <tr>\n",
       "      <td>1</td>\n",
       "      <td>prrc2a</td>\n",
       "      <td>proline-rich coiled-coil 2A</td>\n",
       "      <td>452.719642</td>\n",
       "      <td>3.797351e-06</td>\n",
       "      <td>0.001443</td>\n",
       "      <td>0.191559</td>\n",
       "      <td>0.467294</td>\n",
       "      <td>753.85122</td>\n",
       "      <td>1297.636294</td>\n",
       "      <td>548.293224</td>\n",
       "      <td>...</td>\n",
       "      <td>725.286039</td>\n",
       "      <td>7.225716</td>\n",
       "      <td>796.506321</td>\n",
       "      <td>0.000000</td>\n",
       "      <td>468.327694</td>\n",
       "      <td>553.356254</td>\n",
       "      <td>770.086673</td>\n",
       "      <td>698.070508</td>\n",
       "      <td>477.903937</td>\n",
       "      <td>535.033884</td>\n",
       "    </tr>\n",
       "    <tr>\n",
       "      <td>2</td>\n",
       "      <td>prrc1</td>\n",
       "      <td>proline-rich coiled-coil 1</td>\n",
       "      <td>119.895295</td>\n",
       "      <td>5.315862e-07</td>\n",
       "      <td>0.001443</td>\n",
       "      <td>0.444048</td>\n",
       "      <td>0.695959</td>\n",
       "      <td>0.00000</td>\n",
       "      <td>1285.731374</td>\n",
       "      <td>253.611285</td>\n",
       "      <td>...</td>\n",
       "      <td>3.630969</td>\n",
       "      <td>273.544977</td>\n",
       "      <td>0.000000</td>\n",
       "      <td>277.692638</td>\n",
       "      <td>0.000000</td>\n",
       "      <td>286.984189</td>\n",
       "      <td>5.615215</td>\n",
       "      <td>17.469232</td>\n",
       "      <td>145.001374</td>\n",
       "      <td>198.480312</td>\n",
       "    </tr>\n",
       "  </tbody>\n",
       "</table>\n",
       "<p>3 rows × 37 columns</p>\n",
       "</div>"
      ],
      "text/plain": [
       "   symbol                     genename    baseMean  log2FoldChange     lfcSE  \\\n",
       "0  prrc2c  proline-rich coiled-coil 2C   29.286774   -3.553126e-07  0.001443   \n",
       "1  prrc2a  proline-rich coiled-coil 2A  452.719642    3.797351e-06  0.001443   \n",
       "2   prrc1   proline-rich coiled-coil 1  119.895295    5.315862e-07  0.001443   \n",
       "\n",
       "     pvalue      padj         R1           R2          R3  ...          M4  \\\n",
       "0  0.020878  0.105130    0.00000     0.000000    5.133832  ...   54.464534   \n",
       "1  0.191559  0.467294  753.85122  1297.636294  548.293224  ...  725.286039   \n",
       "2  0.444048  0.695959    0.00000  1285.731374  253.611285  ...    3.630969   \n",
       "\n",
       "           M5          M6          S7          L1          L2          L3  \\\n",
       "0    0.000000    0.000000    0.000000  209.797591    0.000000   70.591278   \n",
       "1    7.225716  796.506321    0.000000  468.327694  553.356254  770.086673   \n",
       "2  273.544977    0.000000  277.692638    0.000000  286.984189    5.615215   \n",
       "\n",
       "           L4          L5          L6  \n",
       "0   13.276616    0.000000   20.397186  \n",
       "1  698.070508  477.903937  535.033884  \n",
       "2   17.469232  145.001374  198.480312  \n",
       "\n",
       "[3 rows x 37 columns]"
      ]
     },
     "execution_count": 898,
     "metadata": {},
     "output_type": "execute_result"
    }
   ],
   "source": [
    "plotName = \"test\"\n",
    "\n",
    "# gdf = findgene('rho')\n",
    "# gdf2 = findgenelist('opn1sw')\n",
    "# gdf = gdf.append(gdf2)\n",
    "# gdf2 = findgenelist('opn1mw')\n",
    "# gdf2 = gdf2.sort_values(by=[\"symbol\"])\n",
    "# gdf = gdf.append(gdf2)\n",
    "# gdf2 = findgenelist('opn1lw')\n",
    "# gdf2 = gdf2.sort_values(by=[\"symbol\"])\n",
    "# gdf = gdf.append(gdf2)\n",
    "\n",
    "# gdf.index = range(len(gdf))\n",
    "# plotName = \"heatMap_opsins\"\n",
    "\n",
    "# gdf = findgenelist('sema')\n",
    "# gdf = gdf.sort_values(by=[\"symbol\"])\n",
    "# plotName = \"heatMap_sema\"\n",
    "\n",
    "# gdf = findgenelist('cdh')\n",
    "# gdf = gdf.sort_values(by=[\"baseMean\"],ascending=False)\n",
    "# plotName = \"heatMap_cdh\"\n",
    "\n",
    "# gdf = findgenelist('eph')\n",
    "# gdf = gdf.drop([1,14,15,16])\n",
    "# gdf = gdf.sort_values(by=[\"symbol\"])\n",
    "# plotName = \"heatMap_eph\"\n",
    "\n",
    "\n",
    "# gdf = findgenelist('efn')\n",
    "# gdf = gdf.sort_values(by=[\"symbol\"])\n",
    "# plotName = \"heatMap_efn\"\n",
    "\n",
    "# gdf = findgenelist('pdgf')\n",
    "# gdf = findgenelist('rgr')\n",
    "# gdf = findgenelist('lmo')\n",
    "# gdf.index = range(len(gdf))\n",
    "# gdf.sort_values(by=[\"log2FoldChange\"])\n",
    "\n",
    "\n",
    "## genes in 2019 Papal, Swaroop: # igsf11, epha10, tuft1, prtg, lrfn2, vasn\n",
    "\n",
    "# gdf = findgenelist('igsf')\n",
    "# gdf = findgenelist('tuft')\n",
    "# gdf = findgenelist('prtg')\n",
    "# gdf = findgenelist('lrfn')\n",
    "# gdf = findgenelist('vasn')\n",
    "\n",
    "# gdf = findgenelist('rdh')\n",
    "# gdf = gdf.sort_values(by=[\"symbol\"])\n",
    "# plotName = \"rdhHeatMap\"\n",
    "\n",
    "# gdf = findgenelist('cyp2')\n",
    "# gdf = findgenelist('cyb')\n",
    "\n",
    "# gdf = findgenelist('sag')\n",
    "# plotName = \"heatMap_sag\"\n",
    "\n",
    "# gdf = findgenelist('dio')\n",
    "# plotName = \"heatMap_dio\"\n",
    "\n",
    "# gdf = findgenelist('lrrn')\n",
    "# plotName = \"heatMap_lrrn\"\n",
    "# gdf = findgenelist('dnmt')\n",
    "# plotName = \"heatMap_dnmt\"\n",
    "# gdf = findgenelist('tet')\n",
    "\n",
    "# gdf = findgenelist('isl')\n",
    "# gdf = gdf.drop([1])\n",
    "# gdf = findgenelist('gj')\n",
    "# plotName = \"heatMap_gj\"\n",
    "\n",
    "# gdf = findgenelist('fgf')\n",
    "# gdf = findgenelist('bmp')\n",
    "# gdf = findgenelist('fzd')\n",
    "# gdf = findgenelist('edar')\n",
    "# gdf = findgenelist('axin')\n",
    "\n",
    "# gdf = findgenelist('cadm') # cadm2a in S-Cones probably(?) and cadm3 in all photoreceptors (Hunter, JCN, 2011)\n",
    "# gdf = gdf.sort_values(by=[\"symbol\"])\n",
    "# plotName = \"heatMap_cadm\"\n",
    "\n",
    "# gdf = findgenelist('lrit') # lrit1b for rods and cones; lrit2 for cones\n",
    "# gdf = gdf.sort_values(by=[\"symbol\"])\n",
    "# plotName = \"heatMap_lrit\"\n",
    "\n",
    "# gdf = findgenelist('elfn') # not detected\n",
    "# gdf = gdf.sort_values(by=[\"symbol\"])\n",
    "# plotName = \"heatMap_elfn\"\n",
    "\n",
    "# gdf = findgenelist('tenm') # for RGCs in zebrafish (Antinucci, Cell Reports, 2013)\n",
    "\n",
    "# gdf = findgenelist('foxo')\n",
    "\n",
    "# gdf = findgenelist('sdk')\n",
    "\n",
    "# gdf = findgenelist('crmp')\n",
    "\n",
    "\n",
    "\n",
    "# Even More\n",
    "# gdf = findgenelist('thr')\n",
    "# gdf = gdf.sort_values(by=[\"symbol\"])\n",
    "# plotName = \"heatMap_thr\"\n",
    "\n",
    "# gdf = findgenelist('lingo')\n",
    "# gdf = gdf.sort_values(by=[\"symbol\"])\n",
    "# plotName = \"heatMap_lingo\"\n",
    "\n",
    "# gdf = findgenelist('mitf')\n",
    "\n",
    "# gdf = findgenelist('prickle')\n",
    "# gdf = gdf.sort_values(by=[\"symbol\"])\n",
    "# plotName = \"heatMap_prickle\"\n",
    "\n",
    "# gdf = findgenelist('rdh')\n",
    "# gdf = findgenelist('sdh')\n",
    "# lingo, rx, mitf\n",
    "\n",
    "# gdf = findgenelist('dag')\n",
    "# can't find pikachurin: # gdf = findgenelist('egflam') gdf = findgenelist('si:dkeyp-100d11.2-001')\n",
    "\n",
    "# gdf = findgenelist('kcn')\n",
    "# gdf = gdf.sort_values(by=[\"baseMean\"], ascending=False)\n",
    "# gdf = gdf.drop(np.arange(20,109))\n",
    "# gdf\n",
    "\n",
    "# gdf = findgenelist('kcnj')\n",
    "# gdf = gdf.sort_values(by=[\"baseMean\"], ascending=False)\n",
    "# gdf\n",
    "\n",
    "# gdf = findgenelist('slc')\n",
    "# gdf = gdf.sort_values(by=[\"baseMean\"], ascending=False)\n",
    "# gdf = gdf.drop(np.arange(40,410))\n",
    "\n",
    "# gdf = findgenelist('rcv')\n",
    "# gdf = gdf.sort_values(by=[\"symbol\"])\n",
    "# plotName = \"heatMap_recoverin\"\n",
    "\n",
    "# gdf = findgenelist('sag')\n",
    "# gdf = gdf.append(findgenelist('arrb'))\n",
    "# gdf = gdf.append(findgenelist('arr3'))\n",
    "# gdf = gdf.sort_values(by=[\"symbol\"])\n",
    "# plotName = \"heatMap_arr\"\n",
    "\n",
    "\n",
    "# gdf = findgenelist('cng')\n",
    "# gdf = gdf.sort_values(by=[\"symbol\"])\n",
    "# plotName = \"heatMap_cng\"\n",
    "\n",
    "# gdf = findgenelist('cnga')\n",
    "# gdf = gdf.sort_values(by=[\"symbol\"])\n",
    "# plotName = \"heatMap_cnga\"\n",
    "\n",
    "# gdf = findgenelist('cngb')\n",
    "# gdf = gdf.sort_values(by=[\"symbol\"])\n",
    "# plotName = \"heatMap_cngb\"\n",
    "\n",
    "# gdf = findgenelist('myo')\n",
    "# gdf = gdf.sort_values(by=[\"symbol\"])\n",
    "\n",
    "# gdf = findgenelist('crx')\n",
    "# gdf = gdf.sort_values(by=[\"baseMean\"], ascending=False)\n",
    "# plotName = \"heatMap_crx\"\n",
    "\n",
    "\n",
    "# gdf = findgenelist('neurod')\n",
    "# gdf = gdf.sort_values(by=[\"symbol\"])\n",
    "# plotName = \"heatMap_neurod\"\n",
    "\n",
    "# gdf = findgenelist('ror')\n",
    "# gdf = gdf.drop([5,6])\n",
    "# gdf = gdf.sort_values(by=[\"symbol\"])\n",
    "# plotName = \"heatMap_ror\"\n",
    "\n",
    "\n",
    "# gdf = findgenelist('nr')\n",
    "# gdf = gdf.sort_values(by=[\"baseMean\"], ascending=False)\n",
    "# gdf = gdf.drop(np.arange(5,76))\n",
    "# plotName = \"heatMap_nrl\"\n",
    "\n",
    "\n",
    "# gdf = findgenelist('pcdh')\n",
    "# gdf = gdf.drop([1,15]) #highest ones that obscure others.\n",
    "# plotName = \"heatMap_pcdh_partial\"\n",
    "\n",
    "# gdf = findgenelist('hcn')\n",
    "# gdf = gdf.sort_values(by=[\"symbol\"])\n",
    "\n",
    "# gdf = findgenelist('gabr')\n",
    "# gdf = gdf.drop([0,2]) #highest ones that obscure others.\n",
    "# gdf = gdf.sort_values(by=[\"symbol\"])\n",
    "\n",
    "# gdf = findgenelist('opn4')\n",
    "# gdf = gdf.drop([1,2]) #highest ones that obscure others.\n",
    "# gdf = gdf.sort_values(by=[\"baseMean\"], ascending=False)\n",
    "# gdf = gdf.drop(np.arange(5,76))\n",
    "# gdf = gdf.sort_values(by=[\"symbol\"])\n",
    "# plotName = \"heatMap_ror\"\n",
    "\n",
    "# CSNB causes: Nyx, cacna1f, GPR179 (Kamermans, 2019)\n",
    "# gdf = findgenelist('nyx') # bipolar cell -> not expressed in photoreceptors\n",
    "# gdf = findgenelist('gpr1') # bipolar cell -> not expressed in photoreceptors\n",
    "# gdf = findgenelist('cacna') # bipolar cell -> not expressed in photoreceptors\n",
    "\n",
    "\n",
    "# For Karen Carleton\n",
    "\n",
    "# gdf = findgenelist('rx')\n",
    "# gdf = gdf.drop([2,3,4,5,7,8,9,10,11,12,13,14,15,16,17,18,19])\n",
    "# gdf = gdf.sort_values(by=[\"symbol\"])\n",
    "# # gdf = gdf.drop([1])\n",
    "# plotName = \"heatMap_rx\"\n",
    "\n",
    "# gdf = findgenelist('tbx')\n",
    "# gdf = gdf.drop([3,17])\n",
    "# plotName = \"heatMap_tbx\"\n",
    "# gdf = gdf.drop([1,2])\n",
    "\n",
    "# gdf = findgenelist('tbx2')\n",
    "# gdf = gdf.drop([0,3,4])\n",
    "# gdf = gdf.sort_values(by=[\"symbol\"])\n",
    "# plotName = \"heatMap_tbx2\"\n",
    "\n",
    "# gdf = findgenelist('six')\n",
    "# gdf = gdf.sort_values(by=[\"symbol\"])\n",
    "# plotName = \"heatMap_six\"\n",
    "\n",
    "# gdf = findgenelist('lin')\n",
    "# gdf = gdf.drop([1,3,4,5,10,11,13,16])\n",
    "# plotName = \"heatMap_lin\"\n",
    "\n",
    "# For Mark Hankins\n",
    "# gdf = findgenelist('opn')\n",
    "# gdf = gdf.sort_values(by=[\"symbol\"])\n",
    "# gdf = gdf.drop([1,4,24,0,3,23,5,11,2])\n",
    "\n",
    "# gdf = findgenelist('rgr')\n",
    "# gdf = findgenelist('lrit')\n",
    "\n",
    "# gdf = findgenelist('ndrg') #potential target of tbx2\n",
    "\n",
    "# from YiRong Peng's talk: ON SACs: slit2 and fezf1; OFF SACs: tenm3 and rnd1?; contactins; Foveal cones: vtn and cacna1f\n",
    "# gdf = findgenelist('cacna2d2b')\n",
    "# gdf = gdf.drop([0])\n",
    "# gdf = gdf.sort_values(by=[\"symbol\"])\n",
    "\n",
    "# gdf = findgenelist('nrxn')\n",
    "# gdf = gdf.sort_values(by=[\"symbol\"])\n",
    "# plotName = \"heatMap_nrxn\"\n",
    "\n",
    "\n",
    "# gdf = findgenelist('frmpd')\n",
    "# plotName = \"heatMap_frmpd\"\n",
    "\n",
    "gdf = findgenelist('prrc')\n",
    "# gdf = gdf.drop(np.arange(5,31))\n",
    "# gdf = gdf.drop([0])\n",
    "# gdf = gdf.sort_values(by=[\"symbol\"])\n",
    "gdf"
   ]
  },
  {
   "cell_type": "code",
   "execution_count": 899,
   "metadata": {},
   "outputs": [
    {
     "data": {
      "image/png": "[encoded data removed]",
      "text/plain": [
       "<Figure size 864x864 with 2 Axes>"
      ]
     },
     "metadata": {
      "needs_background": "dark"
     },
     "output_type": "display_data"
    }
   ],
   "source": [
    "genenames = gdf['symbol'].values\n",
    "samplenames = [] #skipping names to replace in intaglio\n",
    "log2matrix = np.vectorize(log2)\n",
    "# data = log2matrix(gdf.iloc[0:,7:15].values)\n",
    "data = gdf.iloc[0:,7:37].values\n",
    "\n",
    "\n",
    "fig, ax = plt.subplots(figsize=[12,12])\n",
    "im, cbar = heatmap(data, genenames, samplenames, ax=ax,\n",
    "                   cmap=\"inferno\", cbarlabel=\"counts\")\n",
    "# texts = annotate_heatmap(im, valfmt=\"{x:.1f} t\")\n",
    "\n",
    "plt.savefig(\"{0}.svg\".format(plotName), transparent=True, format=\"svg\")\n",
    "plt.show()"
   ]
  },
  {
   "cell_type": "code",
   "execution_count": 901,
   "metadata": {},
   "outputs": [
    {
     "data": {
      "image/png": "[encoded data removed]",
      "text/plain": [
       "<Figure size 1296x288 with 3 Axes>"
      ]
     },
     "metadata": {
      "needs_background": "dark"
     },
     "output_type": "display_data"
    }
   ],
   "source": [
    "# genelist = ['gpx1a','gpx1b','gpx4a','gpx4b']\n",
    "# genelist = ['rgs9bp','RGS9BP']\n",
    "# genelist = ['chchd1','chchd10']\n",
    "# genelist = ['yipf6','yipf1']\n",
    "# genelist = ['sema3fb','sema3fa','sema6d']\n",
    "genelist = ['esama','esamb']\n",
    "genelist = ['il34','il7r']\n",
    "genelist = ['cxxc4','cxxc1a']\n",
    "genelist = ['mbd3b','mbd3a']\n",
    "genelist = ['cdr2a','cdr2l']\n",
    "genelist = ['coro6','coro2a','coro1ca']\n",
    "genelist = ['auts2a','auts2b']\n",
    "genelist = ['plxnb1a','plxna2']\n",
    "genelist = ['cux1a','cux1b','cux2b']\n",
    "genelist = ['arih1','arih2','arih1l']\n",
    "genelist = ['crhbp','crhr2','crhr1']\n",
    "genelist = ['chn1','chn2']\n",
    "\n",
    "genelist = ['pcloa','pclob']\n",
    "genelist = ['mtdha','mtdhb']\n",
    "genelist = ['igsf9b','igsf21a','igsf21b']\n",
    "genelist = ['rx3','lin9','igsf21b']\n",
    "plotName = 'test'\n",
    "\n",
    "            \n",
    "fH, axes = plt.subplots(1,len(genelist),sharey=False,figsize=[6*len(genelist),4])\n",
    "for i,g in enumerate(genelist,start=0):\n",
    "    n, h = plotBars(g)\n",
    "    plt.sca(axes[i])\n",
    "    pH = plt.bar(n, h, width=0.8, bottom=None, align='center', data=None,\n",
    "                 color=pC['plt'])\n",
    "    if  i == 0:\n",
    "        formatFigure(g, fH, axes[i], pH)\n",
    "    else:\n",
    "        formatFigure_right(g, fH, axes[i], pH)\n",
    "plt.savefig(\"{0}.svg\".format(plotName), transparent=True, format=\"svg\")"
   ]
  },
  {
   "cell_type": "code",
   "execution_count": null,
   "metadata": {},
   "outputs": [],
   "source": [
    "np.size(data)"
   ]
  },
  {
   "cell_type": "code",
   "execution_count": null,
   "metadata": {},
   "outputs": [],
   "source": [
    "360/30"
   ]
  },
  {
   "cell_type": "code",
   "execution_count": null,
   "metadata": {},
   "outputs": [],
   "source": [
    "np.sqrt(2)*2"
   ]
  },
  {
   "cell_type": "code",
   "execution_count": 520,
   "metadata": {},
   "outputs": [
    {
     "data": {
      "text/plain": [
       "'/Users/angueyraaristjm/Documents/LiMolec/zfRNAseq/20190827/20190827_DESeq2/genePlots/ForLaura'"
      ]
     },
     "execution_count": 520,
     "metadata": {},
     "output_type": "execute_result"
    }
   ],
   "source": [
    "pwd"
   ]
  },
  {
   "cell_type": "code",
   "execution_count": null,
   "metadata": {},
   "outputs": [],
   "source": [
    "pC['plt'][20]"
   ]
  },
  {
   "cell_type": "code",
   "execution_count": null,
   "metadata": {},
   "outputs": [],
   "source": [
    "colors"
   ]
  },
  {
   "cell_type": "markdown",
   "metadata": {},
   "source": [
    "### Trying to draw counts for single gene by wedges in a circle \n",
    "> Prob not worth it, difficult to interpret"
   ]
  },
  {
   "cell_type": "code",
   "execution_count": null,
   "metadata": {},
   "outputs": [],
   "source": [
    "fig, ax = plt.subplots(figsize=[12,12])\n",
    "\n",
    "n = 30;\n",
    "wdg_theta = 360/30;\n",
    "\n",
    "patches = []\n",
    "circles = []\n",
    "\n",
    "pM = matplotlib.patches.Wedge(0, np.mean(data[4,0:6]), wdg_theta * (0), (wdg_theta * (6)), edgecolor=\"none\", color = pC['r'], alpha = 0.4)\n",
    "patches.append(pM)\n",
    "\n",
    "pM = matplotlib.patches.Wedge(0, np.mean(data[4,7:11]), wdg_theta * (6), (wdg_theta * (11)), edgecolor=\"none\", color = pC['u'], alpha = 0.4)\n",
    "patches.append(pM)\n",
    "\n",
    "pM = matplotlib.patches.Wedge(0, np.mean(data[4,12:17]), wdg_theta * (11), (wdg_theta * (17)), edgecolor=\"none\", color = pC['s'], alpha = 0.4)\n",
    "patches.append(pM)\n",
    "\n",
    "pM = matplotlib.patches.Wedge(0, np.mean(data[4,18:24]), wdg_theta * (17), (wdg_theta * (24)), edgecolor=\"none\", color = pC['m'], alpha = 0.4)\n",
    "patches.append(pM)\n",
    "\n",
    "pM = matplotlib.patches.Wedge(0, np.mean(data[4,25:30]), wdg_theta * (24), (wdg_theta * (30)), edgecolor=\"none\", color = pC['l'], alpha = 0.4)\n",
    "patches.append(pM)\n",
    "\n",
    "for i in range(n):\n",
    "    p = matplotlib.patches.Wedge(0, data[4,i], wdg_theta * (i), (wdg_theta * (i+1)) -2, edgecolor=\"none\", color = pC['plt'][i], alpha = 0.4)\n",
    "    patches.append(p)\n",
    "\n",
    "\n",
    "                              \n",
    "                              \n",
    "for i in [.25,.5,.75,1]:\n",
    "    c = matplotlib.patches.Circle((0,0), np.max(data[4,:])*i, edgecolor = '#000000', facecolor='none', alpha=0.99)\n",
    "    circles.append(c)\n",
    "\n",
    "plt.xlim(-np.max(data[4,:])*1, np.max(data[4,:])*1)\n",
    "plt.ylim(-np.max(data[4,:])*1, np.max(data[4,:])*1)\n",
    "\n",
    "\n",
    "circleColl = matplotlib.collections.PatchCollection(circles, match_original=True);\n",
    "ax.add_collection(circleColl)\n",
    "\n",
    "patchColl = matplotlib.collections.PatchCollection(patches, match_original=True);\n",
    "ax.add_collection(patchColl)\n"
   ]
  },
  {
   "cell_type": "code",
   "execution_count": null,
   "metadata": {},
   "outputs": [],
   "source": [
    "pC"
   ]
  },
  {
   "cell_type": "code",
   "execution_count": null,
   "metadata": {},
   "outputs": [],
   "source": [
    "np.max(data[4,i])"
   ]
  },
  {
   "cell_type": "code",
   "execution_count": null,
   "metadata": {},
   "outputs": [],
   "source": [
    "data[4,i]"
   ]
  },
  {
   "cell_type": "code",
   "execution_count": null,
   "metadata": {},
   "outputs": [],
   "source": [
    "range(0,4)"
   ]
  },
  {
   "cell_type": "code",
   "execution_count": null,
   "metadata": {},
   "outputs": [],
   "source": [
    "range?"
   ]
  },
  {
   "cell_type": "code",
   "execution_count": null,
   "metadata": {},
   "outputs": [],
   "source": []
  }
 ],
 "metadata": {
  "kernelspec": {
   "display_name": "Python 3",
   "language": "python",
   "name": "python3"
  },
  "language_info": {
   "codemirror_mode": {
    "name": "ipython",
    "version": 3
   },
   "file_extension": ".py",
   "mimetype": "text/x-python",
   "name": "python",
   "nbconvert_exporter": "python",
   "pygments_lexer": "ipython3",
   "version": "3.7.4"
  }
 },
 "nbformat": 4,
 "nbformat_minor": 4
}
