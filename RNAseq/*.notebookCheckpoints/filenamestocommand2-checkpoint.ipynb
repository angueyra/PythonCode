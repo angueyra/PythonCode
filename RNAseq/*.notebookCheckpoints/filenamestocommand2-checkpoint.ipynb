{
 "cells": [
  {
   "cell_type": "markdown",
   "metadata": {},
   "source": [
    "### File baseNames"
   ]
  },
  {
   "cell_type": "code",
   "execution_count": 2,
   "metadata": {},
   "outputs": [],
   "source": [
    "fBase = [\n",
    "    '01_zfL1',\n",
    "    '02_zfL2',\n",
    "    '03_zfL3',\n",
    "    '04_zfU5',\n",
    "    '05_zfM1',\n",
    "    '06_zfM2',\n",
    "    '07_zfM3',\n",
    "    '08_zfR1',\n",
    "    '09_zfR2',\n",
    "    '10_zfR3',\n",
    "    '11_zfR4',\n",
    "    '12_zfL4',\n",
    "    '13_zfL5',\n",
    "    '14_zfL6',\n",
    "    '15_zfS5',\n",
    "    '16_zfS6',\n",
    "    '17_zfM4',\n",
    "    '18_zfM5',\n",
    "    '19_zfM6',\n",
    "    '20_zfS7',\n",
    "    '21_zfR5',\n",
    "    '22_zfR6']"
   ]
  },
  {
   "cell_type": "markdown",
   "metadata": {},
   "source": [
    "### Run _**fastQC**_ on illumina files"
   ]
  },
  {
   "cell_type": "code",
   "execution_count": 8,
   "metadata": {},
   "outputs": [],
   "source": [
    "class fqcCMD:\n",
    "    def __init__(self,fname):\n",
    "        self.tPath = '/data/angueyraaristjm/20190827_RNAseq'\n",
    "        self.fQCPath = self.tPath + '/fastQC'\n",
    "        self.tsuf = ['R1','R2']\n",
    "        self.cmds=[]\n",
    "        for i in range(len(self.tsuf)):\n",
    "            self.cmds.append(f\"fastqc -o {self.fQCPath} -f fastq {self.tPath}/{fname}.{self.tsuf[i]}.fastq.gz\")\n",
    "    \n",
    "    def writeCMD(self,swarmfile):\n",
    "        for cmd in self.cmds:\n",
    "            swarmfile.write(cmd)\n",
    "            swarmfile.write('\\n')"
   ]
  },
  {
   "cell_type": "code",
   "execution_count": 9,
   "metadata": {},
   "outputs": [],
   "source": [
    "f=open(\"/Users/angueyraaristjm/Documents/LiMolec/zfRNAseq/fastQC_illumina.swarm\",\"w+\")\n",
    "for file in fBase:\n",
    "    fqcCMD(file).writeCMD(f)\n",
    "f.close()"
   ]
  },
  {
   "cell_type": "markdown",
   "metadata": {},
   "source": [
    "## Create command for _**trimmomatic**_"
   ]
  },
  {
   "cell_type": "code",
   "execution_count": 12,
   "metadata": {},
   "outputs": [],
   "source": [
    "class trimCMD:\n",
    "    def __init__(self,fname):\n",
    "        self.dPath = '/data/angueyraaristjm/20190827_RNAseq'\n",
    "        self.tPath = '/data/angueyraaristjm/20190827_Trimmed'\n",
    "        self.cmd = f\"java -jar $TRIMMOJAR PE -threads 8 -phred33 {self.dPath}/{fname}.R1.fastq.gz {self.dPath}/{fname}.R2.fastq.gz {self.tPath}/{fname}_fP.fq.gz {self.tPath}/{fname}_fU.fq.gz {self.tPath}/{fname}_rP.fq.gz {self.tPath}/{fname}_rU.fq.gz ILLUMINACLIP:/usr/local/apps/trimmomatic/Trimmomatic-0.36/adapters/TruSeq2-PE.fa:2:30:10 LEADING:3 TRAILING:3 SLIDINGWINDOW:4:20 MINLEN:30\"\n",
    "\n",
    "# cmd = f\"java -jar $TRIMMOJAR PE -phred33 {dPath}/{fBase}_R1.fastq.gz {dPath}/{fBase}_R2.fastq.gz {tPath}/{fBase}_fP.fq.gz {tPath}/{fBase}_fU.fq.gz {tPath}/{fBase}_rP.fq.gz {tPath}/{fBase}_rU.fq.gz ILLUMINACLIP:/usr/local/apps/trimmomatic/Trimmomatic-0.36/adapters/TruSeq2-PE.fa:2:30:10 LEADING:3 TRAILING:3 SLIDINGWINDOW:4:20 MINLEN:7\""
   ]
  },
  {
   "cell_type": "markdown",
   "metadata": {},
   "source": [
    "### Create file for a single pair of files"
   ]
  },
  {
   "cell_type": "code",
   "execution_count": null,
   "metadata": {},
   "outputs": [],
   "source": [
    "f=open(\"/Users/angueyraaristjm/Documents/LiMolec/zfRNAseq/trim_04.sh\",\"w+\")\n",
    "f.write(\"#!/bin/bash\\n\\n\")\n",
    "f.write(\"module load trimmomatic || exit 1\\n\")\n",
    "f.write(trimCMD(fBase[0]).cmd)\n",
    "f.close() \n"
   ]
  },
  {
   "cell_type": "markdown",
   "metadata": {},
   "source": [
    "### Create **swarm** files for all files"
   ]
  },
  {
   "cell_type": "code",
   "execution_count": 14,
   "metadata": {},
   "outputs": [],
   "source": [
    "f=open(\"/Users/angueyraaristjm/Documents/LiMolec/zfRNAseq/trim_all.swarm\",\"w+\")\n",
    "for file in fBase: \n",
    "    f.write(trimCMD(file).cmd)\n",
    "    f.write('\\n')\n",
    "f.close() \n"
   ]
  },
  {
   "cell_type": "code",
   "execution_count": null,
   "metadata": {},
   "outputs": [],
   "source": [
    "# sbatch --mem=32g --cpus-per-task=12 rnaseq/trim_04.sh\n",
    "\n",
    "\n",
    "# java -jar $TRIMMOJAR PE -threads 8 -phred33 input1a input1b [...]\n",
    "\n",
    "# swarm -f trim_all.swarm -g 32 -t 8 --module trimmomatic"
   ]
  },
  {
   "cell_type": "markdown",
   "metadata": {},
   "source": [
    "### Run _**fastQC**_ on trimmed sequences"
   ]
  },
  {
   "cell_type": "code",
   "execution_count": 15,
   "metadata": {},
   "outputs": [],
   "source": [
    "# fastqc -o /data/angueyraaristjm/20181018_RNAseq_fastqc/ -f fastq /data/angueyraaristjm/20181018_RNAseq/08_zfS_R1.fastq.gz\n",
    "class fqcTrimCMD:\n",
    "    def __init__(self,fname):\n",
    "        self.tPath = '/data/angueyraaristjm/20190827_Trimmed'\n",
    "        self.fQCPath = self.tPath + '/fastQC'\n",
    "        self.tsuf = ['fP','fU','rP','rU']\n",
    "        self.cmds=[]\n",
    "        for i in range(len(self.tsuf)):\n",
    "            self.cmds.append(f\"fastqc -o {self.fQCPath} -f fastq {self.tPath}/{fname}_{self.tsuf[i]}.fq.gz\")\n",
    "    \n",
    "    def writeCMD(self,swarmfile):\n",
    "        for cmd in self.cmds:\n",
    "            swarmfile.write(cmd)\n",
    "            swarmfile.write('\\n')"
   ]
  },
  {
   "cell_type": "code",
   "execution_count": 16,
   "metadata": {},
   "outputs": [],
   "source": [
    "f=open(\"/Users/angueyraaristjm/Documents/LiMolec/zfRNAseq/fastQC_trimmed_all.swarm\",\"w+\")\n",
    "for file in fBase:\n",
    "    fqcTrimCMD(file).writeCMD(f)\n",
    "f.close()\n",
    "\n",
    "# mkdir /data/angueyraaristjm/20181018_Trimmed/fastQC\n",
    "# swarm -f rnaseq/fastQC_trimmed_all.swarm -g 10 --module fastqc"
   ]
  },
  {
   "cell_type": "markdown",
   "metadata": {},
   "source": [
    "### Run _**HiSat2**_ alignment on all files"
   ]
  },
  {
   "cell_type": "code",
   "execution_count": 17,
   "metadata": {},
   "outputs": [],
   "source": [
    "# hisat2 -p 8 --rna-strandness FR -x /data/angueyraaristjm/zfGenome/danRer11_index -1 /data/angueyraaristjm/20181018_Trimmed/04_zfUV_fP.fq.gz -2 /data/angueyraaristjm/20181018_Trimmed/04_zfUV_rP.fq.gz -S /data/angueyraaristjm/20181018_aligned/04_zfUV_aligned.sam --summary /data/angueyraaristjm/20181018_aligned/alignedStats/04_zfUV_alignStats.txt\n",
    "class hisatCMD:\n",
    "    def __init__(self,fname):\n",
    "        self.alignPath = '/data/angueyraaristjm/20190827_aligned'\n",
    "        self.indexPath = '/data/angueyraaristjm/zfGenome/danRer11_index'\n",
    "        self.tPath = '/data/angueyraaristjm/20190827_Trimmed'\n",
    "        self.cmd = f\"hisat2 -p 8 --rna-strandness FR -x {self.indexPath} -1 {self.tPath}/{fname}_fP.fq.gz -2 {self.tPath}/{fname}_rP.fq.gz -S {self.alignPath}/{fname}_aligned.sam --summary {self.alignPath}/alignedStats/{fname}_alignStats.txt\"\n",
    "    \n",
    "    def writeCMD(self,swarmfile):\n",
    "        swarmfile.write(self.cmd)\n",
    "        swarmfile.write('\\n')"
   ]
  },
  {
   "cell_type": "code",
   "execution_count": 18,
   "metadata": {},
   "outputs": [],
   "source": [
    "f=open(\"/Users/angueyraaristjm/Documents/LiMolec/zfRNAseq/rnaseq_cmds/hisat2Align_all.swarm\",\"w+\")\n",
    "for file in fBase:\n",
    "    hisatCMD(file).writeCMD(f)\n",
    "f.close()"
   ]
  },
  {
   "cell_type": "markdown",
   "metadata": {},
   "source": [
    "### sort aligned sam files by chromosome location and save as .bam"
   ]
  },
  {
   "cell_type": "code",
   "execution_count": 19,
   "metadata": {},
   "outputs": [],
   "source": [
    "# samtools view -Su /data/angueyraaristjm/20181018_aligned/04_zfUV_aligned.sam | samtools sort -o /data/angueyraaristjm/20181018_bamSorted/04_zfUV_sorted.bam\n",
    "class bamsortCMD:\n",
    "    def __init__(self,fname):\n",
    "        self.alignPath = '/data/angueyraaristjm/20190827_aligned'\n",
    "        self.bamPath = '/data/angueyraaristjm/20190827_bamSorted'\n",
    "        self.cmd = f\"samtools view -Su {self.alignPath}/{fname}_aligned.sam | samtools sort -o {self.bamPath}/{fname}_sorted.bam\"\n",
    "    \n",
    "    def writeCMD(self,swarmfile):\n",
    "        swarmfile.write(self.cmd)\n",
    "        swarmfile.write('\\n')"
   ]
  },
  {
   "cell_type": "code",
   "execution_count": 20,
   "metadata": {},
   "outputs": [],
   "source": [
    "f=open(\"/Users/angueyraaristjm/Documents/LiMolec/zfRNAseq/rnaseq_cmds/sortAligned_all.swarm\",\"w+\")\n",
    "for file in fBase:\n",
    "    bamsortCMD(file).writeCMD(f)\n",
    "f.close()"
   ]
  },
  {
   "cell_type": "markdown",
   "metadata": {},
   "source": [
    "### assemble transcriptome using _**Stringtie**_"
   ]
  },
  {
   "cell_type": "code",
   "execution_count": 21,
   "metadata": {},
   "outputs": [],
   "source": [
    "class stringtieCMD:\n",
    "    def __init__(self,fname):\n",
    "        self.gtfPath = '/data/angueyraaristjm/20190827_assembly'\n",
    "        self.bamPath = '/data/angueyraaristjm/20190827_bamSorted'\n",
    "        self.cmd = f\"stringtie {self.bamPath}/{fname}_sorted.bam -p 8 --rf -o {self.gtfPath}/{fname}.gtf\"\n",
    "    \n",
    "    def writeCMD(self,swarmfile):\n",
    "        swarmfile.write(self.cmd)\n",
    "        swarmfile.write('\\n')\n"
   ]
  },
  {
   "cell_type": "code",
   "execution_count": 22,
   "metadata": {},
   "outputs": [],
   "source": [
    "f=open(\"/Users/angueyraaristjm/Documents/LiMolec/zfRNAseq/rnaseq_cmds/assemble_all.swarm\",\"w+\")\n",
    "for file in fBase:\n",
    "    stringtieCMD(file).writeCMD(f)\n",
    "f.close()"
   ]
  },
  {
   "cell_type": "markdown",
   "metadata": {},
   "source": [
    "### Make stringtie output to be used by ballgown (using assembled transcriptome and to detect novel transcripts)"
   ]
  },
  {
   "cell_type": "code",
   "execution_count": null,
   "metadata": {},
   "outputs": [],
   "source": [
    "class stringtiedeCMD:\n",
    "    def __init__(self,fname):\n",
    "        self.gtfPath = '/data/angueyraaristjm/20181018_assembly'\n",
    "        self.bamPath = '/data/angueyraaristjm/20181018_bamSorted'\n",
    "        self.dePath = '/data/angueyraaristjm/20181018_DE'\n",
    "        self.cmd = f\"stringtie -e -B -p 8 -G {self.gtfPath}/zfAssembly_merged.gtf -o {self.dePath}/{fname}.gtf {self.bamPath}/{fname}_sorted.bam\"\n",
    "        \n",
    "    \n",
    "    def writeCMD(self,swarmfile):\n",
    "        swarmfile.write(self.cmd)\n",
    "        swarmfile.write('\\n')"
   ]
  },
  {
   "cell_type": "code",
   "execution_count": null,
   "metadata": {},
   "outputs": [],
   "source": [
    "f=open(\"/Users/angueyraaristjm/Documents/LiMolec/zfRNAseq/rnaseq_cmds/stringtieDE_all.swarm\",\"w+\")\n",
    "for file in fBase:\n",
    "    stringtiedeCMD(file).writeCMD(f)\n",
    "f.close()"
   ]
  },
  {
   "cell_type": "markdown",
   "metadata": {},
   "source": [
    "### Make stringtie output to be used by DeSeq2 (using reference genome from ensembl)"
   ]
  },
  {
   "cell_type": "code",
   "execution_count": 24,
   "metadata": {},
   "outputs": [
    {
     "name": "stdout",
     "output_type": "stream",
     "text": [
      "swarm -f rnaseq/stringtieDE_all.swarm -g 4 -t 12 --module stringtie\n"
     ]
    }
   ],
   "source": [
    "class stringtiedeCMD:\n",
    "    def __init__(self,fname):\n",
    "        self.gtfPath = '/data/angueyraaristjm/zfGenome'\n",
    "        self.bamPath = '/data/angueyraaristjm/20190827_bamSorted'\n",
    "        self.dePath = '/data/angueyraaristjm/20190827_DE'\n",
    "        self.cmd = f\"stringtie -e -B -p 8 -G {self.gtfPath}/danRer11_ensembl_reName.gtf -o {self.dePath}/{fname}.gtf {self.bamPath}/{fname}_sorted.bam\"\n",
    "        \n",
    "    \n",
    "    def writeCMD(self,swarmfile):\n",
    "        swarmfile.write(self.cmd)\n",
    "        swarmfile.write('\\n')\n",
    "\n",
    "# Write swarm file\n",
    "f=open(\"/Users/angueyraaristjm/Documents/LiMolec/zfRNAseq/rnaseq_cmds/stringtieDE_all.swarm\",\"w+\")\n",
    "for file in fBase:\n",
    "    stringtiedeCMD(file).writeCMD(f)\n",
    "f.close()\n",
    "\n",
    "# Copy file to biowulf and print swarm command\n",
    "!cp /Users/angueyraaristjm/Documents/LiMolec/zfRNAseq/rnaseq_cmds/stringtieDE_all.swarm /Volumes/angueyraaristjm/rnaseq\n",
    "print(f\"swarm -f rnaseq/stringtieDE_all.swarm -g 4 -t 12 --module stringtie\")"
   ]
  },
  {
   "cell_type": "code",
   "execution_count": 3,
   "metadata": {},
   "outputs": [],
   "source": [
    "class gtfList:\n",
    "    def __init__(self,fname):\n",
    "        self.dataPath = '/data/angueyraaristjm/20190827_DE'\n",
    "        self.cmd = f\"{fname}.gtf {self.dataPath}/{fname}.gtf\"\n",
    "        \n",
    "    \n",
    "    def writeCMD(self,swarmfile):\n",
    "        swarmfile.write(self.cmd)\n",
    "        swarmfile.write('\\n')\n",
    "\n",
    "#write txt file\n",
    "f=open(\"/Users/angueyraaristjm/Documents/LiMolec/zfRNAseq/rnaseq_cmds/gtf_list.txt\",\"w+\")\n",
    "for file in fBase:\n",
    "    gtfList(file).writeCMD(f)\n",
    "f.close()"
   ]
  },
  {
   "cell_type": "code",
   "execution_count": null,
   "metadata": {},
   "outputs": [],
   "source": []
  }
 ],
 "metadata": {
  "kernelspec": {
   "display_name": "Python 3",
   "language": "python",
   "name": "python3"
  },
  "language_info": {
   "codemirror_mode": {
    "name": "ipython",
    "version": 3
   },
   "file_extension": ".py",
   "mimetype": "text/x-python",
   "name": "python",
   "nbconvert_exporter": "python",
   "pygments_lexer": "ipython3",
   "version": "3.7.4"
  }
 },
 "nbformat": 4,
 "nbformat_minor": 4
}
