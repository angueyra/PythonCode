{
 "cells": [
  {
   "cell_type": "code",
   "execution_count": 25,
   "metadata": {},
   "outputs": [],
   "source": [
    "import pygal\n",
    "import numpy as np\n",
    "import pandas as pd\n",
    "import IPython\n",
    "from pygal.style import DarkStyle"
   ]
  },
  {
   "cell_type": "code",
   "execution_count": 2,
   "metadata": {},
   "outputs": [],
   "source": [
    "box_plot = pygal.Box(\n",
    "    x_title='cone type',\n",
    "    y_title='read counts (RNAseq)',\n",
    "    show_legend=False,\n",
    "    box_mode=\"stdev\"\n",
    ")\n",
    "\n",
    "box_plot.title = 'cadm1 expression (squirrel)'\n",
    "box_plot.add('S-cone', [18391.92,16836.79,19642.93,18352.73])\n",
    "box_plot.add('M-cone', [42204.16,37888.87,23788.63,27544.04])\n",
    "box_plot.render_to_file('cadm1.svg')"
   ]
  },
  {
   "cell_type": "code",
   "execution_count": 9,
   "metadata": {},
   "outputs": [],
   "source": [
    "line_chart = pygal.Bar()\n",
    "line_chart.title = 'Browser usage evolution (in %)'\n",
    "line_chart.x_labels = ['SCone','MCone']\n",
    "line_chart.add('S-cone', [18391.92,16836.79,19642.93,18352.73])\n",
    "line_chart.add('M-cone', [42204.16,37888.87,23788.63,27544.04])\n",
    "line_chart.render_to_file('cadm1.svg')"
   ]
  },
  {
   "cell_type": "code",
   "execution_count": 79,
   "metadata": {},
   "outputs": [],
   "source": [
    "from pygal.style import Style\n",
    "custom_style = Style(\n",
    "    background = 'black',\n",
    "    plot_background = '#111',\n",
    "    foreground = '#999',\n",
    "    foreground_strong = '#eee',\n",
    "    foreground_subtle = '#555',\n",
    "    opacity = '.8',\n",
    "    opacity_hover = '.4',\n",
    "    transition = '10ms',\n",
    "    colors = ('#0000FF', '#0099FF', '#00FF00', '#00FF99', '#FF0000'),\n",
    "    label_font_size = 24,\n",
    "    major_label_font_size = 24,\n",
    "    title_font_size = 24,\n",
    "    legend_font_size = 18\n",
    "    \n",
    ")"
   ]
  },
  {
   "cell_type": "code",
   "execution_count": 83,
   "metadata": {},
   "outputs": [],
   "source": [
    "hist = pygal.Histogram(\n",
    "    x_title='',\n",
    "    y_title='read counts (RNAseq)',\n",
    "    show_x_labels=False,\n",
    "    title='cadm1',\n",
    "    style=custom_style,\n",
    "    legend_at_bottom=True,\n",
    "    legend_at_bottom_columns=4\n",
    ")\n",
    "\n",
    "hist.add('S-Cone',[\n",
    "    (51,0.2,0.8),\n",
    "    (578,1.2,1.8),\n",
    "    (169,2.2,2.8),\n",
    "    (326,3.2,3.8),\n",
    "    (77,4.2,4.8)\n",
    "])\n",
    "hist.add('S-Cone(hib)',[\n",
    "    (127,5.2,5.8),\n",
    "    (63,6.2,6.8),\n",
    "])\n",
    "hist.add('M-Cone',[\n",
    "    (0,7.2,7.8),\n",
    "    (1,8.2,8.8),\n",
    "    (6,9.2,9.8)\n",
    "])\n",
    "hist.add('M-Cone(hib)',[\n",
    "    (1,10.2,10.8),\n",
    "    (52,11.2,11.8),\n",
    "    (9,12.2,12.8),\n",
    "])\n",
    "\n",
    "hist.render_to_file('cadm1.svg')"
   ]
  },
  {
   "cell_type": "code",
   "execution_count": 85,
   "metadata": {},
   "outputs": [],
   "source": [
    "hist = pygal.Histogram(\n",
    "    x_title='',\n",
    "    y_title='read counts (RNAseq)',\n",
    "    show_x_labels=False,\n",
    "    title='nrxn3',\n",
    "    style=custom_style,\n",
    "    legend_at_bottom=True,\n",
    "    legend_at_bottom_columns=4\n",
    ")\n",
    "\n",
    "hist.add('S-Cone',[\n",
    "    (2823,0.2,0.8),\n",
    "    (2810,1.2,1.8),\n",
    "    (2430,2.2,2.8),\n",
    "    (4880,3.2,3.8),\n",
    "    (2088,4.2,4.8)\n",
    "])\n",
    "hist.add('S-Cone(hib)',[\n",
    "    (1420,5.2,5.8),\n",
    "    (951,6.2,6.8),\n",
    "])\n",
    "hist.add('M-Cone',[\n",
    "    (0,7.2,7.8),\n",
    "    (1,8.2,8.8),\n",
    "    (2,9.2,9.8)\n",
    "])\n",
    "hist.add('M-Cone(hib)',[\n",
    "    (1,10.2,10.8),\n",
    "    (1,11.2,11.8),\n",
    "    (1,12.2,12.8),\n",
    "])\n",
    "\n",
    "hist.render_to_file('nrxn3.svg')"
   ]
  },
  {
   "cell_type": "code",
   "execution_count": 60,
   "metadata": {},
   "outputs": [
    {
     "data": {
      "text/plain": [
       "[(18391, 0.2, 0.8), (16836, 1.2, 1.8), (19642, 2.2, 2.8), (18352, 3.2, 3.8)]"
      ]
     },
     "execution_count": 60,
     "metadata": {},
     "output_type": "execute_result"
    }
   ],
   "source": []
  },
  {
   "cell_type": "code",
   "execution_count": 62,
   "metadata": {},
   "outputs": [
    {
     "data": {
      "text/plain": [
       "(16836, 1.2, 1.8)"
      ]
     },
     "execution_count": 62,
     "metadata": {},
     "output_type": "execute_result"
    }
   ],
   "source": []
  },
  {
   "cell_type": "code",
   "execution_count": null,
   "metadata": {},
   "outputs": [],
   "source": []
  }
 ],
 "metadata": {
  "kernelspec": {
   "display_name": "Python 3",
   "language": "python",
   "name": "python3"
  },
  "language_info": {
   "codemirror_mode": {
    "name": "ipython",
    "version": 3
   },
   "file_extension": ".py",
   "mimetype": "text/x-python",
   "name": "python",
   "nbconvert_exporter": "python",
   "pygments_lexer": "ipython3",
   "version": "3.5.5"
  }
 },
 "nbformat": 4,
 "nbformat_minor": 2
}
