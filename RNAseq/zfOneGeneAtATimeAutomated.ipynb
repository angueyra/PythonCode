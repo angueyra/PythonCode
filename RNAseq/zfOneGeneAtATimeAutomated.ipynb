{
 "cells": [
  {
   "cell_type": "markdown",
   "metadata": {},
   "source": [
    "## Load required modules"
   ]
  },
  {
   "cell_type": "code",
   "execution_count": 1,
   "metadata": {},
   "outputs": [],
   "source": [
    "# External libraries\n",
    "import numpy as np\n",
    "import pandas as pd\n",
    "import pygal\n",
    "import math\n",
    "import IPython\n",
    "import matplotlib\n",
    "import matplotlib.pyplot as plt\n",
    "import matplotlib.font_manager as font_manager\n",
    "import importlib\n",
    "import svgutils \n",
    "from svgutils.compose import *\n",
    "#import svgwrite\n",
    "\n",
    "# Custom code\n",
    "from fx_RNAseq import *\n",
    "def findgene(genename):\n",
    "    !head -1 ~/Dropbox/LiLab/RNAseq/CSV/zfUVvsS_all.csv > ~/Dropbox/LiLab/RNAseq/CSV/temp.txt\n",
    "    # EXACT MATCH ONLY by matching word (-w) and only at the start of each line (^) which corresponds to the symbol\n",
    "    !grep -w ^$genename ~/Dropbox/LiLab/RNAseq/CSV/zfUVvsS_all.csv >> ~/Dropbox/LiLab/RNAseq/CSV/temp.txt\n",
    "    gdf = pd.read_csv(\"~/Dropbox/LiLab/RNAseq/CSV/temp.txt\")\n",
    "    return gdf\n",
    "\n",
    "def findgenelist(genename):\n",
    "    !head -1 ~/Dropbox/LiLab/RNAseq/CSV/zfUVvsS_all.csv > ~/Dropbox/LiLab/RNAseq/CSV/temp.txt\n",
    "    # EXACT MATCH ONLY by matching word (-w) and only at the start of each line (^) which corresponds to the symbol\n",
    "    !grep ^$genename ~/Dropbox/LiLab/RNAseq/CSV/zfUVvsS_all.csv >> ~/Dropbox/LiLab/RNAseq/CSV/temp.txt\n",
    "    gdf = pd.read_csv(\"~/Dropbox/LiLab/RNAseq/CSV/temp.txt\")\n",
    "    return gdf\n",
    "\n",
    "def plotBars(genename):\n",
    "    gdf = findgene(genename)\n",
    "    n = np.arange(1,5)\n",
    "    n = np.append(n, 4.5 + np.arange(1,5))\n",
    "    h_start = 7\n",
    "    h_end = 15\n",
    "    h = gdf.iloc[0,h_start:h_end]\n",
    "    return n, h\n",
    "\n",
    "def plotBars_list(genelist):\n",
    "    n=[]\n",
    "    h=[]\n",
    "    for i,gene in enumerate(genelist, start=0):\n",
    "        tempn, temph = plotBars(gene)\n",
    "        n = np.append(n,tempn+(10*i))\n",
    "        h = np.append(h,temph)\n",
    "    return n, h\n",
    "\n",
    "def svgreload():\n",
    "    !osascript -e 'tell application \"Google Chrome\" to tell the active tab of second window to reload'\n",
    "\n",
    "from pygal.style import Style\n",
    "custom_style = Style(\n",
    "    background = 'black',\n",
    "    plot_background = '#111111',\n",
    "    foreground = '#999999',\n",
    "    foreground_strong = '#eeeeee',\n",
    "    foreground_subtle = '#555555',\n",
    "    opacity = '.8',\n",
    "    opacity_hover = '.4',\n",
    "    transition = '10ms',\n",
    "    colors = ('#B400FF', '#3232FF'),\n",
    "    label_font_size = 24,\n",
    "    major_label_font_size = 24,\n",
    "    title_font_size = 24,\n",
    "    legend_font_size = 18\n",
    ")"
   ]
  },
  {
   "cell_type": "code",
   "execution_count": 2,
   "metadata": {},
   "outputs": [
    {
     "name": "stdout",
     "output_type": "stream",
     "text": [
      "/Users/angueyraaristjm/Dropbox/LiLab/RNAseq/genePlots/combos\n"
     ]
    }
   ],
   "source": [
    "cd '~/Dropbox/LiLab/RNAseq/genePlots/combos'"
   ]
  },
  {
   "cell_type": "markdown",
   "metadata": {},
   "source": [
    "***\n",
    "# Index <a id='Index'>∮</a>\n",
    "***\n",
    "- [Plot Total Number of Reads](#nReads)\n",
    "- [BarPlot: Opsins](#barOpsins)\n",
    "- [BarPlot: Custom](#barCustom)\n",
    "- [BarPlot: Many Genes](#barMany)\n",
    "- [BarPlot_subPlotsAutomatic: Custom](#barManyAuto)\n",
    "- [Heatmap: Opsins](#heatOpsins)\n",
    "- [Heatmap: Custom](#heatCustom)\n",
    "***"
   ]
  },
  {
   "cell_type": "markdown",
   "metadata": {},
   "source": [
    "***\n",
    "## Total number of reads<a id='nReads'>∮</a>\n",
    "***\n",
    "[Back to Index](#Index)"
   ]
  },
  {
   "cell_type": "code",
   "execution_count": 12,
   "metadata": {},
   "outputs": [
    {
     "data": {
      "text/plain": [
       "2050.516890625"
      ]
     },
     "execution_count": 12,
     "metadata": {},
     "output_type": "execute_result"
    }
   ],
   "source": [
    "hist = pygal.Histogram(\n",
    "    x_title='',\n",
    "    y_title='million reads',\n",
    "    show_x_labels=False,\n",
    "    title='',\n",
    "    style=custom_style,\n",
    "    legend_at_bottom=True,\n",
    "    legend_at_bottom_columns=4,\n",
    "    show_legend=False\n",
    ")\n",
    "\n",
    "hist.add('UV-Cone',[\n",
    "    (15.710882,0.2,0.8),\n",
    "    (10.873172,1.2,1.8),\n",
    "    (17.410638,2.2,2.8),\n",
    "    (15.763850,3.2,3.8),\n",
    "])\n",
    "hist.add('S-Cone',[\n",
    "    (15.390731,4.2,4.8),\n",
    "    (15.557118,5.2,5.8),\n",
    "    (15.617877,6.2,6.8),\n",
    "    (24.908813,7.2,7.8),\n",
    "])\n",
    "\n",
    "hist.render_to_file('test.svg')\n",
    "\n",
    "a = [15.710882,10.873172,17.410638,15.763850,15.390731,15.557118,15.617877,24.908813]\n",
    "[np.average(a),np.std(a)]\n",
    "np.average(a)/(8000/1e6)"
   ]
  },
  {
   "cell_type": "markdown",
   "metadata": {},
   "source": []
  },
  {
   "cell_type": "raw",
   "metadata": {},
   "source": []
  },
  {
   "cell_type": "markdown",
   "metadata": {},
   "source": [
    "***\n",
    "## barPlot: Opsins<a id='barOpsins'>∮</a>\n",
    "***\n",
    "[Back to Index](#Index)"
   ]
  },
  {
   "cell_type": "code",
   "execution_count": null,
   "metadata": {},
   "outputs": [],
   "source": [
    "genename = 'opn1sw1'\n",
    "n,h = plotBars(genename)\n",
    "h = h / 1e6\n",
    "fH, ax = plt.subplots()\n",
    "pH = plt.bar(n, h, width=0.8, bottom=None, align='center', data=None,color=['#B400FF','#B400FF','#B400FF','#B400FF','#3232FF','#3232FF','#3232FF','#3232FF'])\n",
    "formatFigure_Opsins(genename, fH, ax, pH)\n",
    "# plt.savefig(\"{0}.svg\".format(genename), transparent=True, format=\"svg\")"
   ]
  },
  {
   "cell_type": "markdown",
   "metadata": {},
   "source": [
    "***\n",
    "## barPlot: Custom Gene<a id='barCustom'>∮</a>\n",
    "***\n",
    "[Back to Index](#Index)"
   ]
  },
  {
   "cell_type": "markdown",
   "metadata": {},
   "source": [
    "> Genes to pay attention to but still haven't given interesting results\n",
    "> cdh (cadherins)\n",
    "> protocadherins\n",
    "> semaphorins\n",
    "> plexins (plx)\n",
    "> laminins (lamb) and integrins (itg)\n",
    "> dystroglycan (dag), dystrophin (dmd), pikachurin\n",
    "> neurexins\n",
    "> cadm\n",
    "> dscam and sidekicks (sdk)\n",
    "> pappaa\n"
   ]
  },
  {
   "cell_type": "code",
   "execution_count": null,
   "metadata": {},
   "outputs": [],
   "source": [
    "gdf = findgenelist('rdh')\n",
    "gdf"
   ]
  },
  {
   "cell_type": "code",
   "execution_count": null,
   "metadata": {},
   "outputs": [],
   "source": [
    "# genename = 'prickle3'\n",
    "# genename = 'grin1b'\n",
    "genename = 'cdhr1a'\n",
    "n,h = plotBars(genename)\n",
    "fH, ax = plt.subplots()\n",
    "pH = plt.bar(n, h, width=0.8, bottom=None, align='center', data=None,color=['#B400FF','#B400FF','#B400FF','#B400FF','#3232FF','#3232FF','#3232FF','#3232FF'])\n",
    "formatFigure(genename, fH, ax, pH)\n",
    "# plt.savefig(\"{0}.svg\".format(genename), transparent=True, format=\"svg\")"
   ]
  },
  {
   "cell_type": "markdown",
   "metadata": {},
   "source": [
    "***\n",
    "## barPlot: Many Genes Layout<a id='barMany'>∮</a>\n",
    "***\n",
    "[Back to Index](#Index)"
   ]
  },
  {
   "cell_type": "code",
   "execution_count": null,
   "metadata": {},
   "outputs": [],
   "source": [
    "cd '~/Dropbox/LiLab/RNAseq/genePlots/combos'"
   ]
  },
  {
   "cell_type": "code",
   "execution_count": null,
   "metadata": {},
   "outputs": [],
   "source": [
    "genelist = ['gnat1','gnat2']\n",
    "n, h = plotBars_list(genelist)\n",
    "fH, ax = plt.subplots()\n",
    "pH = plt.bar(n, h, width=0.8, bottom=None, align='center', data=None, color=['#B400FF','#B400FF','#B400FF','#B400FF','#3232FF','#3232FF','#3232FF','#3232FF'])\n",
    "formatFigure_list(genelist, fH, ax, pH)\n",
    "# plt.savefig(\"{0}.svg\".format('gnat'), transparent=True, format=\"svg\")"
   ]
  },
  {
   "cell_type": "code",
   "execution_count": null,
   "metadata": {},
   "outputs": [],
   "source": [
    "genelist = ['rho','opn1sw1','opn1sw2','opn1mw1','opn1mw2','opn1mw3','opn1mw4','opn1lw1','opn1lw2']\n",
    "n, h = plotBars_list(genelist)\n",
    "fH, ax = plt.subplots(figsize=[6*len(genelist),4])\n",
    "pH = plt.bar(n, h, width=0.8, bottom=None, align='center', data=None, color=['#B400FF','#B400FF','#B400FF','#B400FF','#3232FF','#3232FF','#3232FF','#3232FF'])\n",
    "formatFigure_list(genelist, fH, ax, pH)\n",
    "plt.xlim(0,len(genelist)*10)\n",
    "plt.savefig(\"{0}.svg\".format('opn1'), transparent=True, format=\"svg\")"
   ]
  },
  {
   "cell_type": "markdown",
   "metadata": {},
   "source": [
    "***\n",
    "## barPlot: Many Genes Layout Using Subplots (proper way)<a id='barManySubPlots'>∮</a>\n",
    "***\n",
    "[Back to Index](#Index)"
   ]
  },
  {
   "cell_type": "code",
   "execution_count": null,
   "metadata": {},
   "outputs": [],
   "source": [
    "genelist = ['gnat1','gnat2']\n",
    "fH, axes = plt.subplots(1,len(genelist),sharey=True,figsize=[6*len(genelist),4])\n",
    "for i,g in enumerate(genelist,start=0):\n",
    "    n, h = plotBars(g)\n",
    "    plt.sca(axes[i]) \n",
    "    pH = plt.bar(n, h, width=0.8, bottom=None, align='center', data=None,\n",
    "                 color=['#B400FF','#B400FF','#B400FF','#B400FF','#3232FF','#3232FF','#3232FF','#3232FF'])\n",
    "    if  i == 0:\n",
    "        formatFigure(g, fH, axes[i], pH)\n",
    "    else:\n",
    "        formatFigure_right(g, fH, axes[i], pH)\n",
    "plt.savefig(\"{0}.svg\".format('gnat'), transparent=True, format=\"svg\")"
   ]
  },
  {
   "cell_type": "code",
   "execution_count": null,
   "metadata": {},
   "outputs": [],
   "source": [
    "genelist = ['rho','rhol']\n",
    "UVline = 1925829.5;\n",
    "Sline = 824782.34;\n",
    "\n",
    "fH, axes = plt.subplots(1,len(genelist),sharey=True,figsize=[6*len(genelist),4])\n",
    "for i,g in enumerate(genelist,start=0):\n",
    "    n, h = plotBars(g)\n",
    "    plt.sca(axes[i])\n",
    "    uvlH = plt.axhline(y=UVline,linewidth=1, linestyle=\"--\", color='#520075', zorder=-1)\n",
    "    slH = plt.axhline(y=Sline,linewidth=1, linestyle=\"--\", color='#000094', zorder=-1)\n",
    "    pH = plt.bar(n, h, width=0.8, bottom=None, align='center', data=None,\n",
    "                 color=['#B400FF','#B400FF','#B400FF','#B400FF','#3232FF','#3232FF','#3232FF','#3232FF'])\n",
    "    if  i == 0:\n",
    "        formatFigure(g, fH, axes[i], pH)\n",
    "    else:\n",
    "        formatFigure_right(g, fH, axes[i], pH)\n",
    "plt.savefig(\"{0}.svg\".format('rho'), transparent=True, format=\"svg\")\n"
   ]
  },
  {
   "cell_type": "code",
   "execution_count": null,
   "metadata": {},
   "outputs": [],
   "source": [
    "# Using svgutils to automatically tile these figures the right way\n",
    "Figure(\"2400\", \"2000\",\n",
    "       SVG(\"opn1sw.svg\").move(0, 290*0),\n",
    "       SVG(\"rho.svg\").move(0, 290*1),\n",
    "       SVG(\"opn1mw.svg\").move(-110, 290*2),\n",
    "       SVG(\"opn1lw.svg\").move(0, 290*3)\n",
    "        ).save(\"OpsinsAll.svg\")\n",
    "svgreload()"
   ]
  },
  {
   "cell_type": "markdown",
   "metadata": {},
   "source": [
    "### Phototransduction"
   ]
  },
  {
   "cell_type": "code",
   "execution_count": null,
   "metadata": {},
   "outputs": [],
   "source": [
    "# genelist = ['saga','sagb','arr3a','arr3b']\n",
    "# plotName = 'arrestins'\n",
    "\n",
    "# genelist = ['gngt1','gngt2a','gngt2b']\n",
    "# plotName = 'gngt'\n",
    "\n",
    "# genelist = ['gnb1a','gnb1b','gnb3a','gnb3b','gnb5b']\n",
    "# plotName = 'gnb'\n",
    "\n",
    "# genelist = ['pde6a','pde6b','pde6d','pde6ga','pde6gb','pde6c','pde6ha']\n",
    "# plotName = 'pde'\n",
    "\n",
    "# genelist = ['gucy2d','gucy2f']\n",
    "# plotName = 'GC'\n",
    "\n",
    "# genelist = ['guca1a','guca1b','guca1c','guca1d','guca1e','guca1g']\n",
    "# plotName = 'GCAP'\n",
    "\n",
    "# genelist = ['cnga1a','cnga1b','cnga3a','cnga3b']\n",
    "# plotName = 'CNGalpha'\n",
    "\n",
    "# genelist = ['cngb1a','cngb3.1','cngb3.2']\n",
    "# plotName = 'CNGbeta'\n",
    "\n",
    "# genelist = ['cngb1a','cngb3.1','cngb3.2']\n",
    "# plotName = 'CNGbeta'\n",
    "\n",
    "# genelist = ['rgs9a','rgs9b','rgs9bp',\n",
    "#             'rgs3a','rgs6',\n",
    "#             'rgs11','rgs12a','rgs16','rgs20']\n",
    "# plotName = 'RGS'\n",
    "\n",
    "# genelist = ['grk1a','grk1b',\n",
    "#             'grk3',\n",
    "#             'grk4','grk5','grk5l',\n",
    "#             'grk6',\n",
    "#             'grk7a','grk7b']\n",
    "# plotName = 'GRK'\n",
    "\n",
    "genelist = ['rcvrna','rcvrnb','rcvrn2','rcvrn3','ncalda','ncaldb']\n",
    "plotName = 'rcvrn'\n",
    "\n",
    "fH, axes = plt.subplots(1,len(genelist),sharey=True,figsize=[6*len(genelist),4])\n",
    "for i,g in enumerate(genelist,start=0):\n",
    "    n, h = plotBars(g)\n",
    "    plt.sca(axes[i])\n",
    "    pH = plt.bar(n, h, width=0.8, bottom=None, align='center', data=None,\n",
    "                 color=['#B400FF','#B400FF','#B400FF','#B400FF','#3232FF','#3232FF','#3232FF','#3232FF'])\n",
    "    if  i == 0:\n",
    "        formatFigure(g, fH, axes[i], pH)\n",
    "    else:\n",
    "        formatFigure_right(g, fH, axes[i], pH)\n",
    "# plt.savefig(\"{0}.svg\".format(plotName), transparent=True, format=\"svg\")"
   ]
  },
  {
   "cell_type": "markdown",
   "metadata": {},
   "source": [
    "### Others"
   ]
  },
  {
   "cell_type": "code",
   "execution_count": null,
   "metadata": {},
   "outputs": [],
   "source": [
    "# genelist = ['ctbp1','ctbp2a']\n",
    "# plotName = 'ctbp'\n",
    "\n",
    "# genelist = ['cadm1a','cadm1b','cadm2a','cadm2b','cadm3','cadm4']\n",
    "# plotName = 'cadm'\n",
    "\n",
    "# genelist = ['tjp1a','tjp1b','tjp2a','tjp2b','tjp3']\n",
    "# plotName = 'tjp'\n",
    "\n",
    "# genelist = ['nrxn1a','nrxn1b','nrxn2a','nrxn2b','nrxn3a','nrxn3b',]\n",
    "# plotName = 'nrxn'\n",
    "\n",
    "# genelist = ['eml1','eml2','eml3','eml5']\n",
    "# plotName = 'eml'\n",
    "\n",
    "# genelist = ['cpne1','cpne2','cpne3','cpne4a','cpne4b','cpne5a','cpne5b','cpne7','cpne8','cpne9']\n",
    "# plotName = 'cpne'\n",
    "\n",
    "# genelist = ['tbx2a','tbx2b']\n",
    "# plotName = 'tbx2'\n",
    "\n",
    "# genelist = ['chn1','chn2']\n",
    "# plotName = 'chn'\n",
    "\n",
    "# genelist = ['ncdn','ncdn']\n",
    "# plotName = 'ztest'\n",
    "\n",
    "# genelist = ['sema7a','sema6a','sema6d','sema4ab','sema4ba','sema3fa','sema3fb']\n",
    "# plotName = 'sema'\n",
    "\n",
    "# genelist = ['cacna1aa','cacna1ab',\n",
    "#             'cacna1da','cacna1db',\n",
    "#             'cacna1fa','cacna1fb',\n",
    "#             'cacna2d1a','cacna2d2a',\n",
    "#             'cacna2d4a','cacna2d4b',\n",
    "#             'cacna1sb',\n",
    "#            ]\n",
    "# plotName = 'CaV'\n",
    "\n",
    "# genelist = ['stxbp1b','stxbp4','stxbp2','stxbp5a','stxbp5b','stxbp5l','stxbp3']\n",
    "# plotName = 'stxBP'\n",
    "\n",
    "genelist = ['stx4','stx12','stx6',\n",
    "            'stx8','stx18',\n",
    "            'stx3a','stx5al']\n",
    "plotName = 'stx'\n",
    "\n",
    "            \n",
    "fH, axes = plt.subplots(1,len(genelist),sharey=True,figsize=[6*len(genelist),4])\n",
    "for i,g in enumerate(genelist,start=0):\n",
    "    n, h = plotBars(g)\n",
    "    plt.sca(axes[i])\n",
    "    pH = plt.bar(n, h, width=0.8, bottom=None, align='center', data=None,\n",
    "                 color=['#B400FF','#B400FF','#B400FF','#B400FF','#3232FF','#3232FF','#3232FF','#3232FF'])\n",
    "    if  i == 0:\n",
    "        formatFigure(g, fH, axes[i], pH)\n",
    "    else:\n",
    "        formatFigure_right(g, fH, axes[i], pH)\n",
    "# plt.savefig(\"{0}.svg\".format(plotName), transparent=True, format=\"svg\")"
   ]
  },
  {
   "cell_type": "code",
   "execution_count": null,
   "metadata": {},
   "outputs": [],
   "source": [
    "gdf = findgenelist('prickle')\n",
    "# gdf = gdf.sort_values(by=['baseMean'], ascending=False)\n",
    "# gdf['symbol']\n",
    "gdf"
   ]
  },
  {
   "cell_type": "markdown",
   "metadata": {},
   "source": [
    "### According to Neuhauss recoverin1a in enriched in rods and UV-cones"
   ]
  },
  {
   "cell_type": "markdown",
   "metadata": {},
   "source": [
    "***\n",
    "## heatMap: Opsins<a id='barManySubPlots'>∮</a>\n",
    "***\n",
    "[Back to Index](#Index)"
   ]
  },
  {
   "cell_type": "code",
   "execution_count": 7,
   "metadata": {},
   "outputs": [
    {
     "data": {
      "image/png": "[encoded data removed]",
      "text/plain": [
       "<Figure size 432x288 with 2 Axes>"
      ]
     },
     "metadata": {
      "needs_background": "dark"
     },
     "output_type": "display_data"
    }
   ],
   "source": [
    "gdf = findgenelist('opn1')\n",
    "gdf2 = findgene('rho')\n",
    "gdf2\n",
    "gdf = gdf.append(gdf2)\n",
    "gdf.index = range(len(gdf))\n",
    "gdf\n",
    "\n",
    "Opsins = [\"UV-opsin (opn1sw1)\", \"S-opsin (opn1sw2)\",\"M-opsin (opn1mw1)\",\"M-opsin (opn1mw2)\",\"M-opsin (opn1mw3)\",\"M-opsin (opn1mw4)\",\"L-opsin (opn1lw1)\",\"L-opsin (opn1lw2)\",\"Rhodopsin (rho)\"]\n",
    "Samples = [\"UV1\",\"UV2\",\"UV3\",\"UV4\",\"S1\",\"S2\",\"S3\",\"S4\"]\n",
    "\n",
    "data = gdf.iloc[0:9,7:15]\n",
    "data = data.reindex([6,7,2,3,4,5,0,1,8])\n",
    "data.index = range(len(data))\n",
    "np.around(np.divide(data.values,1e6),2)\n",
    "opsinData = np.divide(data.values,1e6)\n",
    "\n",
    "# log2 representation does not work well\n",
    "# log2matrix = np.vectorize(log2)\n",
    "# opsinData = log2matrix(opsinData)\n",
    "\n",
    "params = {\"ytick.color\" : \"w\",\n",
    "          \"xtick.color\" : \"w\",\n",
    "          \"axes.labelcolor\" : \"w\",\n",
    "          \"axes.edgecolor\" : \"w\"}\n",
    "plt.rcParams.update(params)\n",
    "\n",
    "plotName = \"opsinHeatMap\"\n",
    "fig, ax = plt.subplots()\n",
    "\n",
    "im, cbar = heatmap(opsinData, Opsins, Samples, ax=ax,\n",
    "                   cmap=\"inferno\", cbarlabel=\"counts per million\")\n",
    "# texts = annotate_heatmap(im, valfmt=\"{x:.1f} t\")\n",
    "\n",
    "# fig.tight_layout()\n",
    "# plt.savefig(\"{0}.svg\".format(plotName), transparent=True, format=\"svg\")"
   ]
  },
  {
   "cell_type": "markdown",
   "metadata": {},
   "source": [
    "***\n",
    "## heatMap: Custom<a id='heatCustom'>∮</a>\n",
    "***\n",
    "[Back to Index](#Index)"
   ]
  },
  {
   "cell_type": "code",
   "execution_count": 5,
   "metadata": {},
   "outputs": [
    {
     "data": {
      "text/html": [
       "<div>\n",
       "<style scoped>\n",
       "    .dataframe tbody tr th:only-of-type {\n",
       "        vertical-align: middle;\n",
       "    }\n",
       "\n",
       "    .dataframe tbody tr th {\n",
       "        vertical-align: top;\n",
       "    }\n",
       "\n",
       "    .dataframe thead th {\n",
       "        text-align: right;\n",
       "    }\n",
       "</style>\n",
       "<table border=\"1\" class=\"dataframe\">\n",
       "  <thead>\n",
       "    <tr style=\"text-align: right;\">\n",
       "      <th></th>\n",
       "      <th>symbol</th>\n",
       "      <th>genename</th>\n",
       "      <th>baseMean</th>\n",
       "      <th>log2FoldChange</th>\n",
       "      <th>lfcSE</th>\n",
       "      <th>pvalue</th>\n",
       "      <th>padj</th>\n",
       "      <th>UV01</th>\n",
       "      <th>UV02</th>\n",
       "      <th>UV03</th>\n",
       "      <th>UV04</th>\n",
       "      <th>S01</th>\n",
       "      <th>S02</th>\n",
       "      <th>S03</th>\n",
       "      <th>S04</th>\n",
       "      <th>chr-rank</th>\n",
       "    </tr>\n",
       "  </thead>\n",
       "  <tbody>\n",
       "    <tr>\n",
       "      <th>0</th>\n",
       "      <td>crmp1</td>\n",
       "      <td>collapsin response mediator protein 1</td>\n",
       "      <td>116.92</td>\n",
       "      <td>-0.2436</td>\n",
       "      <td>1.0003</td>\n",
       "      <td>0.457471</td>\n",
       "      <td>0.999194</td>\n",
       "      <td>17</td>\n",
       "      <td>183</td>\n",
       "      <td>0</td>\n",
       "      <td>0</td>\n",
       "      <td>535</td>\n",
       "      <td>0</td>\n",
       "      <td>37</td>\n",
       "      <td>164</td>\n",
       "      <td>14411</td>\n",
       "    </tr>\n",
       "  </tbody>\n",
       "</table>\n",
       "</div>"
      ],
      "text/plain": [
       "  symbol                               genename  baseMean  log2FoldChange  \\\n",
       "0  crmp1  collapsin response mediator protein 1    116.92         -0.2436   \n",
       "\n",
       "    lfcSE    pvalue      padj  UV01  UV02  UV03  UV04  S01  S02  S03  S04  \\\n",
       "0  1.0003  0.457471  0.999194    17   183     0     0  535    0   37  164   \n",
       "\n",
       "   chr-rank  \n",
       "0     14411  "
      ]
     },
     "execution_count": 5,
     "metadata": {},
     "output_type": "execute_result"
    }
   ],
   "source": [
    "plotName = \"test\"\n",
    "\n",
    "# gdf = findgenelist('sema')\n",
    "# plotName = \"semaHeatMap\"\n",
    "\n",
    "# gdf = findgenelist('cdh')\n",
    "# gdf = gdf.drop([26,27])\n",
    "# gdf = gdf.reindex([0,9,21,22,23,24,25,1,2,3,4,5,6,7,8,10,11,12,13,14,15,16,17,18,19,20])\n",
    "# plotName = \"cdhHeatMap\"\n",
    "\n",
    "# gdf = findgenelist('eph')\n",
    "# gdf = gdf.drop([15,16,17,18])\n",
    "# plotName = \"ephHeatMap\"\n",
    "\n",
    "\n",
    "# gdf = findgenelist('efn')\n",
    "# gdf = gdf.drop([15,16,17,18])\n",
    "# plotName = \"ephHeatMap\"\n",
    "\n",
    "# gdf = findgenelist('pdgf')\n",
    "# gdf = findgenelist('rgr')\n",
    "# gdf = findgenelist('lmo')\n",
    "# gdf.index = range(len(gdf))\n",
    "# gdf.sort_values(by=[\"log2FoldChange\"])\n",
    "\n",
    "\n",
    "## genes in 2019 Papal, Swaroop: # igsf11, epha10, tuft1, prtg, lrfn2, vasn\n",
    "\n",
    "# gdf = findgenelist('igsf')\n",
    "# gdf = findgenelist('tuft')\n",
    "# gdf = findgenelist('prtg')\n",
    "# gdf = findgenelist('lrfn')\n",
    "gdf = findgenelist('vasn')\n",
    "\n",
    "gdf = findgenelist('rdh')\n",
    "gdf = findgenelist('cyp2')\n",
    "gdf = findgenelist('cyb')\n",
    "\n",
    "gdf = findgenelist('sag')\n",
    "\n",
    "gdf = findgenelist('dio')\n",
    "# gdf = gdf.drop(range(3,20))\n",
    "\n",
    "gdf = findgenelist('lrfn')\n",
    "gdf = findgenelist('lrrn')\n",
    "gdf = findgenelist('dnmt')\n",
    "gdf = findgenelist('tet')\n",
    "\n",
    "gdf = findgenelist('isl')\n",
    "gdf = findgenelist('gj')\n",
    "\n",
    "gdf = findgenelist('fgf')\n",
    "gdf = findgenelist('bmp')\n",
    "gdf = findgenelist('fzd')\n",
    "gdf = findgenelist('edar')\n",
    "# gdf = findgenelist('axin')\n",
    "\n",
    "gdf = findgenelist('cadm') # cadm2a in S-Cones probably(?) and cadm3 in all photoreceptors (Hunter, JCN, 2011)\n",
    "# gdf = findgenelist('lrit') # for rods and cones?\n",
    "# gdf = findgenelist('elfn') # for rods\n",
    "# gdf = findgenelist('tenm') # for RGCs in zebrafish (Antinucci, Cell Reports, 2013)\n",
    "\n",
    "# gdf = findgenelist('foxo')\n",
    "\n",
    "gdf = findgenelist('sdk')\n",
    "\n",
    "gdf = findgenelist('crmp')\n",
    "\n",
    "\n",
    "\n",
    "# For Karen Carleton\n",
    "\n",
    "# gdf = findgenelist('rx')\n",
    "# gdf = gdf.drop(range(3,20))\n",
    "# plotName = \"rxHeatMap\"\n",
    "\n",
    "# gdf = findgenelist('tbx')\n",
    "# gdf = gdf.drop(range(17,21))\n",
    "# plotName = \"tbxHeatMap\"\n",
    "\n",
    "# gdf = findgenelist('six')\n",
    "# plotName = \"sixHeatMap\"\n",
    "\n",
    "# gdf = findgenelist('lin')\n",
    "# gdf = gdf.drop(range(9,17))\n",
    "# plotName = \"mitfHeatMap\"\n",
    "\n",
    "gdf"
   ]
  },
  {
   "cell_type": "code",
   "execution_count": 6,
   "metadata": {},
   "outputs": [
    {
     "data": {
      "image/png": "[encoded data removed]",
      "text/plain": [
       "<Figure size 864x864 with 2 Axes>"
      ]
     },
     "metadata": {
      "needs_background": "light"
     },
     "output_type": "display_data"
    }
   ],
   "source": [
    "genenames = gdf['symbol'].values\n",
    "samplenames = [\"UV1\",\"UV2\",\"UV3\",\"UV4\",\"S1\",\"S2\",\"S3\",\"S4\"]\n",
    "log2matrix = np.vectorize(log2)\n",
    "# data = log2matrix(gdf.iloc[0:,7:15].values)\n",
    "data = gdf.iloc[0:,7:15].values\n",
    "\n",
    "fig, ax = plt.subplots(figsize=[12,12])\n",
    "im, cbar = heatmap(data, genenames, samplenames, ax=ax,\n",
    "                   cmap=\"inferno\", cbarlabel=\"counts\")\n",
    "# texts = annotate_heatmap(im, valfmt=\"{x:.1f} t\")\n",
    "\n",
    "# plt.savefig(\"{0}.svg\".format(plotName), transparent=True, format=\"svg\")\n",
    "plt.show()"
   ]
  },
  {
   "cell_type": "code",
   "execution_count": null,
   "metadata": {},
   "outputs": [],
   "source": []
  },
  {
   "cell_type": "code",
   "execution_count": null,
   "metadata": {},
   "outputs": [],
   "source": []
  }
 ],
 "metadata": {
  "kernelspec": {
   "display_name": "Python 3",
   "language": "python",
   "name": "python3"
  },
  "language_info": {
   "codemirror_mode": {
    "name": "ipython",
    "version": 3
   },
   "file_extension": ".py",
   "mimetype": "text/x-python",
   "name": "python",
   "nbconvert_exporter": "python",
   "pygments_lexer": "ipython3",
   "version": "3.7.3"
  }
 },
 "nbformat": 4,
 "nbformat_minor": 4
}
