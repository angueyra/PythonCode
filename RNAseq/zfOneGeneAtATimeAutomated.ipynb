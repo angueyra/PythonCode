{
 "cells": [
  {
   "cell_type": "markdown",
   "metadata": {},
   "source": [
    "### Making plots of gene expression from RNAseq DeSEQ2 csv files"
   ]
  },
  {
   "cell_type": "code",
   "execution_count": 76,
   "metadata": {},
   "outputs": [],
   "source": [
    "import numpy as np\n",
    "import pandas as pd\n",
    "import math\n",
    "import IPython\n",
    "import matplotlib.pyplot as plt\n",
    "import matplotlib.font_manager as font_manager\n",
    "\n",
    "import importlib\n",
    "import svgutils \n",
    "from svgutils.compose import *\n",
    "#import svgwrite\n",
    "\n",
    "def svgreload():\n",
    "    !osascript -e 'tell application \"Google Chrome\" to tell the active tab of second window to reload'"
   ]
  },
  {
   "cell_type": "code",
   "execution_count": 86,
   "metadata": {},
   "outputs": [],
   "source": [
    "def log2(m):\n",
    "    if m>0:\n",
    "        return np.log2(m)\n",
    "    else:\n",
    "        return 0\n",
    "    \n",
    "def log2series(m):\n",
    "    tempseries=m\n",
    "    for i in range(0,len(tempseries)):\n",
    "        tempseries[i]=log2(tempseries[i])\n",
    "    return tempseries\n",
    "\n",
    "def approx(n):\n",
    "    return round(n*100)/100\n",
    "\n",
    "def findgene(genename):\n",
    "    !head -1 ~/Dropbox/LiLab/RNAseq/CSV/zfUVvsS_all.csv > ~/Dropbox/LiLab/RNAseq/CSV/temp.txt\n",
    "    # EXACT MATCH ONLY by matching word (-w) and only at the start of each line (^) which corresponds to the symbol\n",
    "    !grep -w ^$genename ~/Dropbox/LiLab/RNAseq/CSV/zfUVvsS_all.csv >> ~/Dropbox/LiLab/RNAseq/CSV/temp.txt\n",
    "    gdf = pd.read_csv(\"~/Dropbox/LiLab/RNAseq/CSV/temp.txt\")\n",
    "    return gdf\n",
    "\n",
    "def findgenelist(genename):\n",
    "    !head -1 ~/Dropbox/LiLab/RNAseq/CSV/zfUVvsS_all.csv > ~/Dropbox/LiLab/RNAseq/CSV/temp.txt\n",
    "    # EXACT MATCH ONLY by matching word (-w) and only at the start of each line (^) which corresponds to the symbol\n",
    "    !grep ^$genename ~/Dropbox/LiLab/RNAseq/CSV/zfUVvsS_all.csv >> ~/Dropbox/LiLab/RNAseq/CSV/temp.txt\n",
    "    gdf = pd.read_csv(\"~/Dropbox/LiLab/RNAseq/CSV/temp.txt\")\n",
    "    return gdf\n",
    "\n",
    "def formatBars(plotH):\n",
    "    bars = plotH.get_children()\n",
    "    for i in range(0,len(bars)):\n",
    "        if i < 4:\n",
    "            bars[i].set_facecolor('#B400FF')\n",
    "        else:\n",
    "            bars[i].set_facecolor('#3232FF')\n",
    "\n",
    "def formatFigure_Opsins(genename, figH, axH, plotH):\n",
    "    font_path = '/System/Library/Fonts/Avenir.ttc'\n",
    "    fontTicks = font_manager.FontProperties(fname=font_path, size=18)\n",
    "    fontLabels = font_manager.FontProperties(fname=font_path, size=22)\n",
    "    fontTitle = font_manager.FontProperties(fname=font_path, size=28)\n",
    "    \n",
    "    # axH.set_xticks(n)\n",
    "    # axH.set_xticklabels(gdf.iloc[0,h_start:h_end].index);\n",
    "    axH.set_xticks([2.5,7])\n",
    "    axH.set_xticklabels(['UV','S']);\n",
    "    \n",
    "    axH.set_yticks(np.arange(0, 2.5, step=0.5))\n",
    "    # axH.set_yticklabels([str(i) + ' x 10$^6$' for i in np.arange(0, 2.5, step=0.5)]);\n",
    "    axH.set_ylabel('norm. counts x 10$^6$', fontproperties=fontLabels)\n",
    "    \n",
    "    axH.set_title(genename, fontproperties=fontTitle)\n",
    "    axH.spines['top'].set_visible(False)\n",
    "    axH.spines['right'].set_visible(False)\n",
    "    \n",
    "    for label in (ax.get_xticklabels() + ax.get_yticklabels()):\n",
    "        label.set_fontproperties(fontTicks)\n",
    "    \n",
    "#     formatBars(plotH)\n",
    "\n",
    "def formatFigure_right(genename, figH, axH, plotH):\n",
    "    formatFigure(genename, figH, axH, plotH)\n",
    "    axH.set_ylabel('')\n",
    "    \n",
    "\n",
    "def formatFigure(genename, figH, axH, plotH):\n",
    "    font_path = '/System/Library/Fonts/Avenir.ttc'\n",
    "    fontTicks = font_manager.FontProperties(fname=font_path, size=18)\n",
    "    fontLabels = font_manager.FontProperties(fname=font_path, size=22)\n",
    "    fontTitle = font_manager.FontProperties(fname=font_path, size=28)\n",
    "    \n",
    "    axH.set_xticks([2.5,7])\n",
    "    axH.set_xticklabels(['UV','S']);\n",
    "    axH.ticklabel_format(style='sci',axis='y',scilimits=(0,2))\n",
    "    axH.set_ylabel('norm. counts', fontproperties=fontLabels)\n",
    "    axH.set_title(genename, fontproperties=fontTitle)\n",
    "    axH.spines['top'].set_visible(False)\n",
    "    axH.spines['right'].set_visible(False)\n",
    "    \n",
    "    for label in (ax.get_xticklabels() + ax.get_yticklabels()):\n",
    "        label.set_fontproperties(fontTicks)\n",
    "    axH.tick_params(axis = 'both', which = 'major', labelsize = 18)\n",
    "    axH.yaxis.offsetText.set_fontsize(18)\n",
    "\n",
    "def formatFigure_list(genelist, figH, axH, plotH):\n",
    "    font_path = '/System/Library/Fonts/Avenir.ttc'\n",
    "    fontTicks = font_manager.FontProperties(fname=font_path, size=18)\n",
    "    fontLabels = font_manager.FontProperties(fname=font_path, size=22)\n",
    "    fontTitle = font_manager.FontProperties(fname=font_path, size=28)\n",
    "    \n",
    "    xTicks = []\n",
    "    xLabels = []\n",
    "    for i in range(len(genelist)):\n",
    "        xTicks = np.append(xTicks, [2.5+(10*i),7+(10*i)])\n",
    "        xLabels = np.append(xLabels, ['UV','S'])\n",
    "    axH.set_xticks(xTicks)\n",
    "    axH.set_xticklabels(xLabels);\n",
    "    axH.ticklabel_format(style='sci',axis='y',scilimits=(0,2))\n",
    "    axH.set_ylabel('norm. counts', fontproperties=fontLabels)\n",
    "    axH.set_title(genelist, fontproperties=fontTitle)\n",
    "    axH.spines['top'].set_visible(False)\n",
    "    axH.spines['right'].set_visible(False)\n",
    "    \n",
    "    for label in (ax.get_xticklabels() + ax.get_yticklabels()):\n",
    "        label.set_fontproperties(fontTicks)\n",
    "    axH.tick_params(axis = 'both', which = 'major', labelsize = 18)\n",
    "    ax.yaxis.offsetText.set_fontsize(18)\n",
    "    \n",
    "\n",
    "def plotBars(genename):\n",
    "    gdf = findgene(genename)\n",
    "    n = np.arange(1,5)\n",
    "    n = np.append(n, 4.5 + np.arange(1,5))\n",
    "    h_start = 7\n",
    "    h_end = 15\n",
    "    h = gdf.iloc[0,h_start:h_end]\n",
    "    return n, h\n",
    "\n",
    "def plotBars_list(genelist):\n",
    "    n=[]\n",
    "    h=[]\n",
    "    for i,gene in enumerate(genelist, start=0):\n",
    "        tempn, temph = plotBars(gene)\n",
    "        n = np.append(n,tempn+(10*i))\n",
    "        h = np.append(h,temph)\n",
    "    return n, h"
   ]
  },
  {
   "cell_type": "markdown",
   "metadata": {},
   "source": [
    "### Good example for opsins with nice format"
   ]
  },
  {
   "cell_type": "code",
   "execution_count": null,
   "metadata": {},
   "outputs": [],
   "source": [
    "cd '~/Dropbox/LiLab/RNAseq/genePlots/combos'"
   ]
  },
  {
   "cell_type": "code",
   "execution_count": null,
   "metadata": {},
   "outputs": [],
   "source": [
    "genename = 'opn1sw1'\n",
    "n,h = plotBars(genename)\n",
    "h = h / 1e6\n",
    "fH, ax = plt.subplots()\n",
    "pH = plt.bar(n, h, width=0.8, bottom=None, align='center', data=None,color=['#B400FF','#B400FF','#B400FF','#B400FF','#3232FF','#3232FF','#3232FF','#3232FF'])\n",
    "formatFigure_Opsins(genename, fH, ax, pH)\n",
    "# plt.savefig(\"{0}.svg\".format(genename), transparent=True, format=\"svg\")"
   ]
  },
  {
   "cell_type": "markdown",
   "metadata": {},
   "source": [
    "### Generic one (automatic y labels)"
   ]
  },
  {
   "cell_type": "code",
   "execution_count": 88,
   "metadata": {},
   "outputs": [
    {
     "data": {
      "text/html": [
       "<div>\n",
       "<style scoped>\n",
       "    .dataframe tbody tr th:only-of-type {\n",
       "        vertical-align: middle;\n",
       "    }\n",
       "\n",
       "    .dataframe tbody tr th {\n",
       "        vertical-align: top;\n",
       "    }\n",
       "\n",
       "    .dataframe thead th {\n",
       "        text-align: right;\n",
       "    }\n",
       "</style>\n",
       "<table border=\"1\" class=\"dataframe\">\n",
       "  <thead>\n",
       "    <tr style=\"text-align: right;\">\n",
       "      <th></th>\n",
       "      <th>symbol</th>\n",
       "      <th>genename</th>\n",
       "      <th>baseMean</th>\n",
       "      <th>log2FoldChange</th>\n",
       "      <th>lfcSE</th>\n",
       "      <th>pvalue</th>\n",
       "      <th>padj</th>\n",
       "      <th>UV01</th>\n",
       "      <th>UV02</th>\n",
       "      <th>UV03</th>\n",
       "      <th>UV04</th>\n",
       "      <th>S01</th>\n",
       "      <th>S02</th>\n",
       "      <th>S03</th>\n",
       "      <th>S04</th>\n",
       "      <th>chr-rank</th>\n",
       "    </tr>\n",
       "  </thead>\n",
       "  <tbody>\n",
       "    <tr>\n",
       "      <th>0</th>\n",
       "      <td>chn1</td>\n",
       "      <td>chimerin 1</td>\n",
       "      <td>353.66</td>\n",
       "      <td>-0.1168</td>\n",
       "      <td>0.9424</td>\n",
       "      <td>0.743021</td>\n",
       "      <td>0.999194</td>\n",
       "      <td>0</td>\n",
       "      <td>0</td>\n",
       "      <td>292</td>\n",
       "      <td>762</td>\n",
       "      <td>4</td>\n",
       "      <td>613</td>\n",
       "      <td>927</td>\n",
       "      <td>232</td>\n",
       "      <td>27560</td>\n",
       "    </tr>\n",
       "    <tr>\n",
       "      <th>1</th>\n",
       "      <td>chn2</td>\n",
       "      <td>chimerin 2</td>\n",
       "      <td>144.95</td>\n",
       "      <td>-0.5474</td>\n",
       "      <td>1.2608</td>\n",
       "      <td>0.000087</td>\n",
       "      <td>0.005498</td>\n",
       "      <td>0</td>\n",
       "      <td>0</td>\n",
       "      <td>0</td>\n",
       "      <td>0</td>\n",
       "      <td>0</td>\n",
       "      <td>318</td>\n",
       "      <td>98</td>\n",
       "      <td>744</td>\n",
       "      <td>27559</td>\n",
       "    </tr>\n",
       "  </tbody>\n",
       "</table>\n",
       "</div>"
      ],
      "text/plain": [
       "  symbol    genename  baseMean  log2FoldChange   lfcSE    pvalue      padj  \\\n",
       "0   chn1  chimerin 1    353.66         -0.1168  0.9424  0.743021  0.999194   \n",
       "1   chn2  chimerin 2    144.95         -0.5474  1.2608  0.000087  0.005498   \n",
       "\n",
       "   UV01  UV02  UV03  UV04  S01  S02  S03  S04  chr-rank  \n",
       "0     0     0   292   762    4  613  927  232     27560  \n",
       "1     0     0     0     0    0  318   98  744     27559  "
      ]
     },
     "execution_count": 88,
     "metadata": {},
     "output_type": "execute_result"
    }
   ],
   "source": [
    "gdf = findgenelist('chn')\n",
    "gdf"
   ]
  },
  {
   "cell_type": "code",
   "execution_count": 175,
   "metadata": {},
   "outputs": [
    {
     "data": {
      "image/png": "[encoded data removed]",
      "text/plain": [
       "<Figure size 432x288 with 1 Axes>"
      ]
     },
     "metadata": {
      "needs_background": "light"
     },
     "output_type": "display_data"
    }
   ],
   "source": [
    "genename = 'prickle3'\n",
    "n,h = plotBars(genename)\n",
    "fH, ax = plt.subplots()\n",
    "pH = plt.bar(n, h, width=0.8, bottom=None, align='center', data=None,color=['#B400FF','#B400FF','#B400FF','#B400FF','#3232FF','#3232FF','#3232FF','#3232FF'])\n",
    "formatFigure(genename, fH, ax, pH)\n",
    "plt.savefig(\"{0}.svg\".format(genename), transparent=True, format=\"svg\")"
   ]
  },
  {
   "cell_type": "markdown",
   "metadata": {},
   "source": [
    "### Plot several genes in a single plot"
   ]
  },
  {
   "cell_type": "code",
   "execution_count": 31,
   "metadata": {},
   "outputs": [
    {
     "name": "stdout",
     "output_type": "stream",
     "text": [
      "/Users/angueyra/Dropbox/LiLab/RNAseq/genePlots/combos\n"
     ]
    }
   ],
   "source": [
    "cd '~/Dropbox/LiLab/RNAseq/genePlots/combos'"
   ]
  },
  {
   "cell_type": "code",
   "execution_count": 150,
   "metadata": {},
   "outputs": [
    {
     "data": {
      "image/png": "[encoded data removed]",
      "text/plain": [
       "<Figure size 432x288 with 1 Axes>"
      ]
     },
     "metadata": {
      "needs_background": "light"
     },
     "output_type": "display_data"
    }
   ],
   "source": [
    "genelist = ['gnat1','gnat2']\n",
    "n, h = plotBars_list(genelist)\n",
    "fH, ax = plt.subplots()\n",
    "pH = plt.bar(n, h, width=0.8, bottom=None, align='center', data=None, color=['#B400FF','#B400FF','#B400FF','#B400FF','#3232FF','#3232FF','#3232FF','#3232FF'])\n",
    "formatFigure_list(genelist, fH, ax, pH)\n",
    "# plt.savefig(\"{0}.svg\".format('gnat'), transparent=True, format=\"svg\")"
   ]
  },
  {
   "cell_type": "code",
   "execution_count": 24,
   "metadata": {},
   "outputs": [
    {
     "data": {
      "image/png": "[encoded data removed]",
      "text/plain": [
       "<Figure size 3888x288 with 1 Axes>"
      ]
     },
     "metadata": {
      "needs_background": "light"
     },
     "output_type": "display_data"
    }
   ],
   "source": [
    "genelist = ['rho','opn1sw1','opn1sw2','opn1mw1','opn1mw2','opn1mw3','opn1mw4','opn1lw1','opn1lw2']\n",
    "n, h = plotBars_list(genelist)\n",
    "fH, ax = plt.subplots(figsize=[6*len(genelist),4])\n",
    "pH = plt.bar(n, h, width=0.8, bottom=None, align='center', data=None, color=['#B400FF','#B400FF','#B400FF','#B400FF','#3232FF','#3232FF','#3232FF','#3232FF'])\n",
    "formatFigure_list(genelist, fH, ax, pH)\n",
    "plt.xlim(0,len(genelist)*10)\n",
    "plt.savefig(\"{0}.svg\".format('opn1'), transparent=True, format=\"svg\")"
   ]
  },
  {
   "cell_type": "markdown",
   "metadata": {},
   "source": [
    "### Proper (and easier) way to do multiple genes is to actually use the subplots"
   ]
  },
  {
   "cell_type": "code",
   "execution_count": 49,
   "metadata": {},
   "outputs": [
    {
     "data": {
      "image/png": "[encoded data removed]",
      "text/plain": [
       "<Figure size 864x288 with 2 Axes>"
      ]
     },
     "metadata": {
      "needs_background": "light"
     },
     "output_type": "display_data"
    }
   ],
   "source": [
    "genelist = ['gnat1','gnat2']\n",
    "fH, axes = plt.subplots(1,len(genelist),sharey=True,figsize=[6*len(genelist),4])\n",
    "for i,g in enumerate(genelist,start=0):\n",
    "    n, h = plotBars(g)\n",
    "    plt.sca(axes[i]) \n",
    "    pH = plt.bar(n, h, width=0.8, bottom=None, align='center', data=None,\n",
    "                 color=['#B400FF','#B400FF','#B400FF','#B400FF','#3232FF','#3232FF','#3232FF','#3232FF'])\n",
    "    if  i == 0:\n",
    "        formatFigure(g, fH, axes[i], pH)\n",
    "    else:\n",
    "        formatFigure_right(g, fH, axes[i], pH)\n",
    "plt.savefig(\"{0}.svg\".format('gnat'), transparent=True, format=\"svg\")"
   ]
  },
  {
   "cell_type": "code",
   "execution_count": 75,
   "metadata": {},
   "outputs": [
    {
     "data": {
      "image/png": "[encoded data removed]",
      "text/plain": [
       "<Figure size 864x288 with 2 Axes>"
      ]
     },
     "metadata": {
      "needs_background": "light"
     },
     "output_type": "display_data"
    }
   ],
   "source": [
    "genelist = ['rho','rhol']\n",
    "UVline = 1925829.5;\n",
    "Sline = 824782.34;\n",
    "\n",
    "fH, axes = plt.subplots(1,len(genelist),sharey=True,figsize=[6*len(genelist),4])\n",
    "for i,g in enumerate(genelist,start=0):\n",
    "    n, h = plotBars(g)\n",
    "    plt.sca(axes[i])\n",
    "    uvlH = plt.axhline(y=UVline,linewidth=1, linestyle=\"--\", color='#520075', zorder=-1)\n",
    "    slH = plt.axhline(y=Sline,linewidth=1, linestyle=\"--\", color='#000094', zorder=-1)\n",
    "    pH = plt.bar(n, h, width=0.8, bottom=None, align='center', data=None,\n",
    "                 color=['#B400FF','#B400FF','#B400FF','#B400FF','#3232FF','#3232FF','#3232FF','#3232FF'])\n",
    "    if  i == 0:\n",
    "        formatFigure(g, fH, axes[i], pH)\n",
    "    else:\n",
    "        formatFigure_right(g, fH, axes[i], pH)\n",
    "plt.savefig(\"{0}.svg\".format('rho'), transparent=True, format=\"svg\")\n"
   ]
  },
  {
   "cell_type": "code",
   "execution_count": 85,
   "metadata": {},
   "outputs": [],
   "source": [
    "# Using svgutils to automatically tile these figures the right way\n",
    "Figure(\"2400\", \"2000\",\n",
    "       SVG(\"opn1sw.svg\").move(0, 290*0),\n",
    "       SVG(\"rho.svg\").move(0, 290*1),\n",
    "       SVG(\"opn1mw.svg\").move(-110, 290*2),\n",
    "       SVG(\"opn1lw.svg\").move(0, 290*3)\n",
    "        ).save(\"OpsinsAll.svg\")\n",
    "svgreload()"
   ]
  },
  {
   "cell_type": "markdown",
   "metadata": {},
   "source": [
    "### Phototransduction"
   ]
  },
  {
   "cell_type": "code",
   "execution_count": 172,
   "metadata": {},
   "outputs": [
    {
     "data": {
      "image/png": "[encoded data removed]",
      "text/plain": [
       "<Figure size 2592x288 with 6 Axes>"
      ]
     },
     "metadata": {
      "needs_background": "light"
     },
     "output_type": "display_data"
    }
   ],
   "source": [
    "# genelist = ['saga','sagb','arr3a','arr3b']\n",
    "# plotName = 'arrestins'\n",
    "\n",
    "# genelist = ['gngt1','gngt2a','gngt2b']\n",
    "# plotName = 'gngt'\n",
    "\n",
    "# genelist = ['gnb1a','gnb1b','gnb3a','gnb3b','gnb5b']\n",
    "# plotName = 'gnb'\n",
    "\n",
    "# genelist = ['pde6a','pde6b','pde6d','pde6ga','pde6gb','pde6c','pde6ha']\n",
    "# plotName = 'pde'\n",
    "\n",
    "# genelist = ['gucy2d','gucy2f']\n",
    "# plotName = 'GC'\n",
    "\n",
    "# genelist = ['guca1a','guca1b','guca1c','guca1d','guca1e','guca1g']\n",
    "# plotName = 'GCAP'\n",
    "\n",
    "# genelist = ['cnga1a','cnga1b','cnga3a','cnga3b']\n",
    "# plotName = 'CNGalpha'\n",
    "\n",
    "# genelist = ['cngb1a','cngb3.1','cngb3.2']\n",
    "# plotName = 'CNGbeta'\n",
    "\n",
    "# genelist = ['cngb1a','cngb3.1','cngb3.2']\n",
    "# plotName = 'CNGbeta'\n",
    "\n",
    "# genelist = ['rgs9a','rgs9b','rgs9bp',\n",
    "#             'rgs3a','rgs6',\n",
    "#             'rgs11','rgs12a','rgs16','rgs20']\n",
    "# plotName = 'RGS'\n",
    "\n",
    "# genelist = ['grk1a','grk1b',\n",
    "#             'grk3',\n",
    "#             'grk4','grk5','grk5l',\n",
    "#             'grk6',\n",
    "#             'grk7a','grk7b']\n",
    "# plotName = 'GRK'\n",
    "\n",
    "genelist = ['rcvrna','rcvrnb','rcvrn2','rcvrn3','ncalda','ncaldb']\n",
    "plotName = 'rcvrn'\n",
    "\n",
    "fH, axes = plt.subplots(1,len(genelist),sharey=True,figsize=[6*len(genelist),4])\n",
    "for i,g in enumerate(genelist,start=0):\n",
    "    n, h = plotBars(g)\n",
    "    plt.sca(axes[i])\n",
    "    pH = plt.bar(n, h, width=0.8, bottom=None, align='center', data=None,\n",
    "                 color=['#B400FF','#B400FF','#B400FF','#B400FF','#3232FF','#3232FF','#3232FF','#3232FF'])\n",
    "    if  i == 0:\n",
    "        formatFigure(g, fH, axes[i], pH)\n",
    "    else:\n",
    "        formatFigure_right(g, fH, axes[i], pH)\n",
    "plt.savefig(\"{0}.svg\".format(plotName), transparent=True, format=\"svg\")"
   ]
  },
  {
   "cell_type": "markdown",
   "metadata": {},
   "source": [
    "### Others"
   ]
  },
  {
   "cell_type": "code",
   "execution_count": 168,
   "metadata": {},
   "outputs": [
    {
     "data": {
      "image/png": "[encoded data removed]",
      "text/plain": [
       "<Figure size 3024x288 with 7 Axes>"
      ]
     },
     "metadata": {
      "needs_background": "light"
     },
     "output_type": "display_data"
    }
   ],
   "source": [
    "# genelist = ['ctbp1','ctbp2a']\n",
    "# plotName = 'ctbp'\n",
    "\n",
    "# genelist = ['cadm1a','cadm1b','cadm2a','cadm2b','cadm3','cadm4']\n",
    "# plotName = 'cadm'\n",
    "\n",
    "# genelist = ['tjp1a','tjp1b','tjp2a','tjp2b','tjp3']\n",
    "# plotName = 'tjp'\n",
    "\n",
    "# genelist = ['nrxn1a','nrxn1b','nrxn2a','nrxn2b','nrxn3a','nrxn3b',]\n",
    "# plotName = 'nrxn'\n",
    "\n",
    "# genelist = ['eml1','eml2','eml3','eml5']\n",
    "# plotName = 'eml'\n",
    "\n",
    "# genelist = ['cpne1','cpne2','cpne3','cpne4a','cpne4b','cpne5a','cpne5b','cpne7','cpne8','cpne9']\n",
    "# plotName = 'cpne'\n",
    "\n",
    "# genelist = ['tbx2a','tbx2b']\n",
    "# plotName = 'tbx2'\n",
    "\n",
    "# genelist = ['chn1','chn2']\n",
    "# plotName = 'chn'\n",
    "\n",
    "# genelist = ['ncdn','ncdn']\n",
    "# plotName = 'ztest'\n",
    "\n",
    "# genelist = ['sema7a','sema6a','sema6d','sema4ab','sema4ba','sema3fa','sema3fb']\n",
    "# plotName = 'sema'\n",
    "\n",
    "# genelist = ['cacna1aa','cacna1ab',\n",
    "#             'cacna1da','cacna1db',\n",
    "#             'cacna1fa','cacna1fb',\n",
    "#             'cacna2d1a','cacna2d2a',\n",
    "#             'cacna2d4a','cacna2d4b',\n",
    "#             'cacna1sb',\n",
    "#            ]\n",
    "# plotName = 'CaV'\n",
    "\n",
    "# genelist = ['stxbp1b','stxbp4','stxbp2','stxbp5a','stxbp5b','stxbp5l','stxbp3']\n",
    "# plotName = 'stxBP'\n",
    "\n",
    "genelist = ['stx4','stx12','stx6',\n",
    "            'stx8','stx18',\n",
    "            'stx3a','stx5al']\n",
    "plotName = 'stx'\n",
    "\n",
    "            \n",
    "fH, axes = plt.subplots(1,len(genelist),sharey=True,figsize=[6*len(genelist),4])\n",
    "for i,g in enumerate(genelist,start=0):\n",
    "    n, h = plotBars(g)\n",
    "    plt.sca(axes[i])\n",
    "    pH = plt.bar(n, h, width=0.8, bottom=None, align='center', data=None,\n",
    "                 color=['#B400FF','#B400FF','#B400FF','#B400FF','#3232FF','#3232FF','#3232FF','#3232FF'])\n",
    "    if  i == 0:\n",
    "        formatFigure(g, fH, axes[i], pH)\n",
    "    else:\n",
    "        formatFigure_right(g, fH, axes[i], pH)\n",
    "plt.savefig(\"{0}.svg\".format(plotName), transparent=True, format=\"svg\")"
   ]
  },
  {
   "cell_type": "code",
   "execution_count": 174,
   "metadata": {},
   "outputs": [
    {
     "data": {
      "text/html": [
       "<div>\n",
       "<style scoped>\n",
       "    .dataframe tbody tr th:only-of-type {\n",
       "        vertical-align: middle;\n",
       "    }\n",
       "\n",
       "    .dataframe tbody tr th {\n",
       "        vertical-align: top;\n",
       "    }\n",
       "\n",
       "    .dataframe thead th {\n",
       "        text-align: right;\n",
       "    }\n",
       "</style>\n",
       "<table border=\"1\" class=\"dataframe\">\n",
       "  <thead>\n",
       "    <tr style=\"text-align: right;\">\n",
       "      <th></th>\n",
       "      <th>symbol</th>\n",
       "      <th>genename</th>\n",
       "      <th>baseMean</th>\n",
       "      <th>log2FoldChange</th>\n",
       "      <th>lfcSE</th>\n",
       "      <th>pvalue</th>\n",
       "      <th>padj</th>\n",
       "      <th>UV01</th>\n",
       "      <th>UV02</th>\n",
       "      <th>UV03</th>\n",
       "      <th>UV04</th>\n",
       "      <th>S01</th>\n",
       "      <th>S02</th>\n",
       "      <th>S03</th>\n",
       "      <th>S04</th>\n",
       "      <th>chr-rank</th>\n",
       "    </tr>\n",
       "  </thead>\n",
       "  <tbody>\n",
       "    <tr>\n",
       "      <th>0</th>\n",
       "      <td>prickle1a</td>\n",
       "      <td>prickle homolog 1a</td>\n",
       "      <td>0.00</td>\n",
       "      <td>NaN</td>\n",
       "      <td>NaN</td>\n",
       "      <td>NaN</td>\n",
       "      <td>NaN</td>\n",
       "      <td>0</td>\n",
       "      <td>0</td>\n",
       "      <td>0</td>\n",
       "      <td>0</td>\n",
       "      <td>0</td>\n",
       "      <td>0</td>\n",
       "      <td>0</td>\n",
       "      <td>0</td>\n",
       "      <td>23803</td>\n",
       "    </tr>\n",
       "    <tr>\n",
       "      <th>1</th>\n",
       "      <td>prickle1b</td>\n",
       "      <td>prickle homolog 1b</td>\n",
       "      <td>2.89</td>\n",
       "      <td>0.2923</td>\n",
       "      <td>1.0791</td>\n",
       "      <td>0.127760</td>\n",
       "      <td>NaN</td>\n",
       "      <td>23</td>\n",
       "      <td>0</td>\n",
       "      <td>0</td>\n",
       "      <td>0</td>\n",
       "      <td>0</td>\n",
       "      <td>0</td>\n",
       "      <td>0</td>\n",
       "      <td>0</td>\n",
       "      <td>23802</td>\n",
       "    </tr>\n",
       "    <tr>\n",
       "      <th>2</th>\n",
       "      <td>prickle2a</td>\n",
       "      <td>prickle homolog 2a</td>\n",
       "      <td>0.00</td>\n",
       "      <td>NaN</td>\n",
       "      <td>NaN</td>\n",
       "      <td>NaN</td>\n",
       "      <td>NaN</td>\n",
       "      <td>0</td>\n",
       "      <td>0</td>\n",
       "      <td>0</td>\n",
       "      <td>0</td>\n",
       "      <td>0</td>\n",
       "      <td>0</td>\n",
       "      <td>0</td>\n",
       "      <td>0</td>\n",
       "      <td>13183</td>\n",
       "    </tr>\n",
       "    <tr>\n",
       "      <th>3</th>\n",
       "      <td>prickle2b</td>\n",
       "      <td>prickle homolog 2b</td>\n",
       "      <td>35.13</td>\n",
       "      <td>0.3393</td>\n",
       "      <td>1.1057</td>\n",
       "      <td>0.007220</td>\n",
       "      <td>0.132227</td>\n",
       "      <td>0</td>\n",
       "      <td>0</td>\n",
       "      <td>185</td>\n",
       "      <td>96</td>\n",
       "      <td>0</td>\n",
       "      <td>0</td>\n",
       "      <td>0</td>\n",
       "      <td>0</td>\n",
       "      <td>13182</td>\n",
       "    </tr>\n",
       "    <tr>\n",
       "      <th>4</th>\n",
       "      <td>prickle3</td>\n",
       "      <td>prickle homolog 3</td>\n",
       "      <td>55.77</td>\n",
       "      <td>-0.5278</td>\n",
       "      <td>1.2415</td>\n",
       "      <td>0.000734</td>\n",
       "      <td>0.026801</td>\n",
       "      <td>0</td>\n",
       "      <td>0</td>\n",
       "      <td>0</td>\n",
       "      <td>0</td>\n",
       "      <td>0</td>\n",
       "      <td>13</td>\n",
       "      <td>351</td>\n",
       "      <td>82</td>\n",
       "      <td>28271</td>\n",
       "    </tr>\n",
       "  </tbody>\n",
       "</table>\n",
       "</div>"
      ],
      "text/plain": [
       "      symbol            genename  baseMean  log2FoldChange   lfcSE    pvalue  \\\n",
       "0  prickle1a  prickle homolog 1a      0.00             NaN     NaN       NaN   \n",
       "1  prickle1b  prickle homolog 1b      2.89          0.2923  1.0791  0.127760   \n",
       "2  prickle2a  prickle homolog 2a      0.00             NaN     NaN       NaN   \n",
       "3  prickle2b  prickle homolog 2b     35.13          0.3393  1.1057  0.007220   \n",
       "4   prickle3   prickle homolog 3     55.77         -0.5278  1.2415  0.000734   \n",
       "\n",
       "       padj  UV01  UV02  UV03  UV04  S01  S02  S03  S04  chr-rank  \n",
       "0       NaN     0     0     0     0    0    0    0    0     23803  \n",
       "1       NaN    23     0     0     0    0    0    0    0     23802  \n",
       "2       NaN     0     0     0     0    0    0    0    0     13183  \n",
       "3  0.132227     0     0   185    96    0    0    0    0     13182  \n",
       "4  0.026801     0     0     0     0    0   13  351   82     28271  "
      ]
     },
     "execution_count": 174,
     "metadata": {},
     "output_type": "execute_result"
    }
   ],
   "source": [
    "gdf = findgenelist('prickle')\n",
    "# gdf = gdf.sort_values(by=['baseMean'], ascending=False)\n",
    "# gdf['symbol']\n",
    "gdf"
   ]
  },
  {
   "cell_type": "markdown",
   "metadata": {},
   "source": [
    "### According to Neuhauss recoverin1a in enriched in rods and UV-cones"
   ]
  },
  {
   "cell_type": "code",
   "execution_count": 61,
   "metadata": {},
   "outputs": [
    {
     "data": {
      "text/plain": [
       "array([1. , 2. , 3. , 4. , 5.5, 6.5, 7.5, 8.5])"
      ]
     },
     "execution_count": 61,
     "metadata": {},
     "output_type": "execute_result"
    }
   ],
   "source": [
    "n"
   ]
  },
  {
   "cell_type": "code",
   "execution_count": null,
   "metadata": {},
   "outputs": [],
   "source": [
    "\n"
   ]
  },
  {
   "cell_type": "code",
   "execution_count": null,
   "metadata": {},
   "outputs": [],
   "source": []
  },
  {
   "cell_type": "code",
   "execution_count": null,
   "metadata": {},
   "outputs": [],
   "source": []
  },
  {
   "cell_type": "code",
   "execution_count": null,
   "metadata": {},
   "outputs": [],
   "source": []
  }
 ],
 "metadata": {
  "kernelspec": {
   "display_name": "Python 3",
   "language": "python",
   "name": "python3"
  },
  "language_info": {
   "codemirror_mode": {
    "name": "ipython",
    "version": 3
   },
   "file_extension": ".py",
   "mimetype": "text/x-python",
   "name": "python",
   "nbconvert_exporter": "python",
   "pygments_lexer": "ipython3",
   "version": "3.6.6"
  }
 },
 "nbformat": 4,
 "nbformat_minor": 2
}
