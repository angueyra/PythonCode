{
 "cells": [
  {
   "cell_type": "markdown",
   "metadata": {},
   "source": [
    "# Modify __*gtf*__ input to Stringtie to make DESeq2 data more juan-readable"
   ]
  },
  {
   "cell_type": "code",
   "execution_count": 1,
   "metadata": {},
   "outputs": [],
   "source": [
    "import pandas as pd\n",
    "import math\n",
    "# from timeit import default_timer as timer"
   ]
  },
  {
   "cell_type": "markdown",
   "metadata": {},
   "source": [
    "### Modify genome annotation file for easier handling\n",
    "copy gtf file and modify extension to txt"
   ]
  },
  {
   "cell_type": "code",
   "execution_count": null,
   "metadata": {},
   "outputs": [],
   "source": [
    "# ALREADY DID THIS\n",
    "# !cp danRer11_ensembl.txt danRer11_ensembl_mod.txt #mkae new file to be modified\n",
    "# !sed -i '' 's/gene_id //' \"danRer11_ensembl_mod.txt\" # remove gene_id + space\n",
    "# !sed -i '' 's/ transcript_id //' \"danRer11_ensembl_mod.txt\" # remove transcript_id + space\n",
    "# !sed -i '' 's/\";\"/\t/' \"danRer11_ensembl_mod.txt\" #add tab between gene_id and transcript_id\n",
    "# !sed -i '' 's/\"; //' \"danRer11_ensembl_mod.txt\" #remove trailing characters + space\n",
    "# !sed -i '' 's/\"//' \"danRer11_ensembl_mod.txt\" #remove ramining double quotes\n",
    "# !echo \"$(awk '{gsub(/\\..*$/,\"\",$9)}1'  danRer11_ensembl_mod.txt)\" > danRer11_ensembl_mod.txt #remove decimal point and numbers from gene_id\n",
    "# !echo \"$(awk '{gsub(/\\..*$/,\"\",$10)}1'  danRer11_ensembl_mod.txt)\" > danRer11_ensembl_mod.txt #remove decimal point and numbers from transcript_id\n",
    "# !sed -i '' 's/ /\t/g' \"danRer11_ensembl_mod.txt\" #re-introduce tab saparators "
   ]
  },
  {
   "cell_type": "markdown",
   "metadata": {},
   "source": [
    "### GFF format\n",
    "1. Fields must be tab-separated. \n",
    "1. All but the final field in each feature line must contain a value; \"empty\" columns should be denoted with a '.'\n",
    "---\n",
    "Fields\n",
    "\n",
    "- seqname - name of the chromosome or scaffold\n",
    "- source\n",
    "- feature - feature type name, e.g. Gene, Variation, Similarity\n",
    "- start\n",
    "- end\n",
    "- score - A floating point value.\n",
    "- strand - + - \n",
    "- frame - '0', '1' or '2'\n",
    "- attribute - Semicolon-separated list of tag-value pairs, providing additional information about each feature.\n"
   ]
  },
  {
   "cell_type": "markdown",
   "metadata": {},
   "source": [
    "### Load modified gtf and file containing all gene names"
   ]
  },
  {
   "cell_type": "code",
   "execution_count": 3,
   "metadata": {},
   "outputs": [],
   "source": [
    "# gtf = pd.read_csv(\"danRer11_ensembl_mod.txt\", sep='\\t', names = [\"seqname\", \"source\", \"feature\", \"start\", \"end\",\"score\", \"strand\",\"frame\",\"gene_id\",\"transcript_id\"])\n",
    "# gtf.tail(5)"
   ]
  },
  {
   "cell_type": "code",
   "execution_count": 25,
   "metadata": {},
   "outputs": [
    {
     "data": {
      "text/html": [
       "<div>\n",
       "<style scoped>\n",
       "    .dataframe tbody tr th:only-of-type {\n",
       "        vertical-align: middle;\n",
       "    }\n",
       "\n",
       "    .dataframe tbody tr th {\n",
       "        vertical-align: top;\n",
       "    }\n",
       "\n",
       "    .dataframe thead th {\n",
       "        text-align: right;\n",
       "    }\n",
       "</style>\n",
       "<table border=\"1\" class=\"dataframe\">\n",
       "  <thead>\n",
       "    <tr style=\"text-align: right;\">\n",
       "      <th></th>\n",
       "      <th>Gene stable ID</th>\n",
       "      <th>Transcript stable ID</th>\n",
       "      <th>Gene name</th>\n",
       "      <th>Transcript name</th>\n",
       "      <th>Source of gene name</th>\n",
       "      <th>Source of transcript name</th>\n",
       "      <th>Source (gene)</th>\n",
       "      <th>Source (transcript)</th>\n",
       "    </tr>\n",
       "  </thead>\n",
       "  <tbody>\n",
       "    <tr>\n",
       "      <th>0</th>\n",
       "      <td>ENSDARG00000063344</td>\n",
       "      <td>ENSDART00000131829</td>\n",
       "      <td>fam162a</td>\n",
       "      <td>fam162a-201</td>\n",
       "      <td>ZFIN</td>\n",
       "      <td>ZFIN transcript name</td>\n",
       "      <td>ensembl_havana</td>\n",
       "      <td>ensembl_havana</td>\n",
       "    </tr>\n",
       "  </tbody>\n",
       "</table>\n",
       "</div>"
      ],
      "text/plain": [
       "       Gene stable ID Transcript stable ID Gene name Transcript name  \\\n",
       "0  ENSDARG00000063344   ENSDART00000131829   fam162a     fam162a-201   \n",
       "\n",
       "  Source of gene name Source of transcript name   Source (gene)  \\\n",
       "0                ZFIN      ZFIN transcript name  ensembl_havana   \n",
       "\n",
       "  Source (transcript)  \n",
       "0      ensembl_havana  "
      ]
     },
     "execution_count": 25,
     "metadata": {},
     "output_type": "execute_result"
    }
   ],
   "source": [
    "names = pd.read_csv(\"danRer11_ensembl_geneNames.txt\", header=0)\n",
    "names.head(1)"
   ]
  },
  {
   "cell_type": "markdown",
   "metadata": {},
   "source": [
    "### duplicate gtf, keep ensemblID but replace gene_id and transcript_id"
   ]
  },
  {
   "cell_type": "markdown",
   "metadata": {},
   "source": [
    "##### Split gtf into chunks"
   ]
  },
  {
   "cell_type": "code",
   "execution_count": null,
   "metadata": {},
   "outputs": [],
   "source": [
    "# gtf = pd.read_csv(\"danRer11_ensembl_mod.txt\", sep='\\t', names = [\"seqname\", \"source\", \"feature\", \"start\", \"end\",\"score\", \"strand\",\"frame\",\"gene_id\",\"transcript_id\"])\n",
    "# n_file = 100;\n",
    "# genes_per_file = math.ceil(len(gtf.index)/n_file)\n",
    "# for i in range(0,n_file+1):\n",
    "#     gtf.iloc[genes_per_file*(i):genes_per_file*(i+1)].to_csv(path_or_buf=f\"gtfchunks/danRer11_ensembl_mod{i}.txt\",index=False)"
   ]
  },
  {
   "cell_type": "markdown",
   "metadata": {},
   "source": [
    "##### Load each chunk individually, replace names and save again"
   ]
  },
  {
   "cell_type": "code",
   "execution_count": 47,
   "metadata": {},
   "outputs": [
    {
     "name": "stdout",
     "output_type": "stream",
     "text": [
      "2\n"
     ]
    }
   ],
   "source": [
    "for f in range(2,3):\n",
    "    gtf = pd.read_csv(f\"gtfchunks/danRer11_ensembl_mod{f}.txt\")\n",
    "\n",
    "\n",
    "    gtfrep=gtf.copy(); #make a deep copy of data frame\n",
    "    gtfrep['ensembl_id']=gtfrep['gene_id'].values #make new column to preserve ensembl_id\n",
    "    #replace gene_id and transcript_id based on names data frame\n",
    "    for i in range(len(gtf.index)):\n",
    "#     for i in range(3680,3685):\n",
    "        gtfrep.iloc[i,8] = names.loc[names['Transcript stable ID'] == gtf.iloc[i,9], 'Gene name'].tolist()[0]\n",
    "        gtfrep.iloc[i,9] = names.loc[names['Transcript stable ID'] == gtf.iloc[i,9], 'Transcript name'].tolist()[0]\n",
    "\n",
    "    gtfrep.to_csv(path_or_buf=f\"gtfchunks_rep/danRer11_ensembl_rep{f}.txt\",index=False)\n",
    "    print(f)"
   ]
  },
  {
   "cell_type": "markdown",
   "metadata": {},
   "source": [
    "Added to ensemble names on lines 217, because of missing ENSDART00000150235 in file #54, line 3683\n",
    "> ENSDARG00000074253,ENSDART00000150235,olig3,olig3-001,ZFIN,ZFIN transcript name,ensembl,ensembl"
   ]
  },
  {
   "cell_type": "code",
   "execution_count": 58,
   "metadata": {},
   "outputs": [],
   "source": [
    "# Should have saved csv without header to be able to just concatenate files\n",
    "# First will remove all headers from files\n",
    "# for f in range (1,101):\n",
    "#     print(f\"!sed -i '' '1d' gtfchunks_rep/danRer11_ensembl_rep{f}.txt\")\n",
    "# DONE\n",
    "# Now cat files\n",
    "# !cat danRer11_ensembl_rep0.txt danRer11_ensembl_rep1.txt danRer11_ensembl_rep2.txt danRer11_ensembl_rep3.txt danRer11_ensembl_rep4.txt danRer11_ensembl_rep5.txt danRer11_ensembl_rep6.txt danRer11_ensembl_rep7.txt danRer11_ensembl_rep8.txt danRer11_ensembl_rep9.txt danRer11_ensembl_rep10.txt danRer11_ensembl_rep11.txt danRer11_ensembl_rep12.txt danRer11_ensembl_rep13.txt danRer11_ensembl_rep14.txt danRer11_ensembl_rep15.txt danRer11_ensembl_rep16.txt danRer11_ensembl_rep17.txt danRer11_ensembl_rep18.txt danRer11_ensembl_rep19.txt danRer11_ensembl_rep20.txt danRer11_ensembl_rep21.txt danRer11_ensembl_rep22.txt danRer11_ensembl_rep23.txt danRer11_ensembl_rep24.txt danRer11_ensembl_rep25.txt danRer11_ensembl_rep26.txt danRer11_ensembl_rep27.txt danRer11_ensembl_rep28.txt danRer11_ensembl_rep29.txt danRer11_ensembl_rep30.txt danRer11_ensembl_rep31.txt danRer11_ensembl_rep32.txt danRer11_ensembl_rep33.txt danRer11_ensembl_rep34.txt danRer11_ensembl_rep35.txt danRer11_ensembl_rep36.txt danRer11_ensembl_rep37.txt danRer11_ensembl_rep38.txt danRer11_ensembl_rep39.txt danRer11_ensembl_rep40.txt danRer11_ensembl_rep41.txt danRer11_ensembl_rep42.txt danRer11_ensembl_rep43.txt danRer11_ensembl_rep44.txt danRer11_ensembl_rep45.txt danRer11_ensembl_rep46.txt danRer11_ensembl_rep47.txt danRer11_ensembl_rep48.txt danRer11_ensembl_rep49.txt danRer11_ensembl_rep50.txt danRer11_ensembl_rep51.txt danRer11_ensembl_rep52.txt danRer11_ensembl_rep53.txt danRer11_ensembl_rep54.txt danRer11_ensembl_rep55.txt danRer11_ensembl_rep56.txt danRer11_ensembl_rep57.txt danRer11_ensembl_rep58.txt danRer11_ensembl_rep59.txt danRer11_ensembl_rep60.txt danRer11_ensembl_rep61.txt danRer11_ensembl_rep62.txt danRer11_ensembl_rep63.txt danRer11_ensembl_rep64.txt danRer11_ensembl_rep65.txt danRer11_ensembl_rep66.txt danRer11_ensembl_rep67.txt danRer11_ensembl_rep68.txt danRer11_ensembl_rep69.txt danRer11_ensembl_rep70.txt danRer11_ensembl_rep71.txt danRer11_ensembl_rep72.txt danRer11_ensembl_rep73.txt danRer11_ensembl_rep74.txt danRer11_ensembl_rep75.txt danRer11_ensembl_rep76.txt danRer11_ensembl_rep77.txt danRer11_ensembl_rep78.txt danRer11_ensembl_rep79.txt danRer11_ensembl_rep80.txt danRer11_ensembl_rep81.txt danRer11_ensembl_rep82.txt danRer11_ensembl_rep83.txt danRer11_ensembl_rep84.txt danRer11_ensembl_rep85.txt danRer11_ensembl_rep86.txt danRer11_ensembl_rep87.txt danRer11_ensembl_rep88.txt danRer11_ensembl_rep89.txt danRer11_ensembl_rep90.txt danRer11_ensembl_rep91.txt danRer11_ensembl_rep92.txt danRer11_ensembl_rep93.txt danRer11_ensembl_rep94.txt danRer11_ensembl_rep95.txt danRer11_ensembl_rep96.txt danRer11_ensembl_rep97.txt danRer11_ensembl_rep98.txt danRer11_ensembl_rep99.txt danRer11_ensembl_rep100.txt > danRer11_ensembl_rep.txt"
   ]
  },
  {
   "cell_type": "code",
   "execution_count": 59,
   "metadata": {},
   "outputs": [],
   "source": [
    "gtfrep = pd.read_csv(f\"gtfchunks_rep/danRer11_ensembl_rep.txt\")"
   ]
  },
  {
   "cell_type": "code",
   "execution_count": 62,
   "metadata": {},
   "outputs": [
    {
     "data": {
      "text/html": [
       "<div>\n",
       "<style scoped>\n",
       "    .dataframe tbody tr th:only-of-type {\n",
       "        vertical-align: middle;\n",
       "    }\n",
       "\n",
       "    .dataframe tbody tr th {\n",
       "        vertical-align: top;\n",
       "    }\n",
       "\n",
       "    .dataframe thead th {\n",
       "        text-align: right;\n",
       "    }\n",
       "</style>\n",
       "<table border=\"1\" class=\"dataframe\">\n",
       "  <thead>\n",
       "    <tr style=\"text-align: right;\">\n",
       "      <th></th>\n",
       "      <th>seqname</th>\n",
       "      <th>source</th>\n",
       "      <th>feature</th>\n",
       "      <th>start</th>\n",
       "      <th>end</th>\n",
       "      <th>score</th>\n",
       "      <th>strand</th>\n",
       "      <th>frame</th>\n",
       "      <th>gene_id</th>\n",
       "      <th>transcript_id</th>\n",
       "      <th>ensembl_id</th>\n",
       "    </tr>\n",
       "  </thead>\n",
       "  <tbody>\n",
       "    <tr>\n",
       "      <th>994945</th>\n",
       "      <td>chrUn_KZ116065v1</td>\n",
       "      <td>danRer11_ensGene</td>\n",
       "      <td>CDS</td>\n",
       "      <td>19494</td>\n",
       "      <td>19583</td>\n",
       "      <td>0.0</td>\n",
       "      <td>+</td>\n",
       "      <td>0</td>\n",
       "      <td>FO818711.1</td>\n",
       "      <td>FO818711.1-201</td>\n",
       "      <td>ENSDART00000159467</td>\n",
       "    </tr>\n",
       "    <tr>\n",
       "      <th>994946</th>\n",
       "      <td>chrUn_KZ116065v1</td>\n",
       "      <td>danRer11_ensGene</td>\n",
       "      <td>exon</td>\n",
       "      <td>19494</td>\n",
       "      <td>19583</td>\n",
       "      <td>0.0</td>\n",
       "      <td>+</td>\n",
       "      <td>.</td>\n",
       "      <td>FO818711.1</td>\n",
       "      <td>FO818711.1-201</td>\n",
       "      <td>ENSDART00000159467</td>\n",
       "    </tr>\n",
       "    <tr>\n",
       "      <th>994947</th>\n",
       "      <td>chrUn_KZ116065v1</td>\n",
       "      <td>danRer11_ensGene</td>\n",
       "      <td>CDS</td>\n",
       "      <td>19657</td>\n",
       "      <td>19843</td>\n",
       "      <td>0.0</td>\n",
       "      <td>+</td>\n",
       "      <td>0</td>\n",
       "      <td>FO818711.1</td>\n",
       "      <td>FO818711.1-201</td>\n",
       "      <td>ENSDART00000159467</td>\n",
       "    </tr>\n",
       "    <tr>\n",
       "      <th>994948</th>\n",
       "      <td>chrUn_KZ116065v1</td>\n",
       "      <td>danRer11_ensGene</td>\n",
       "      <td>exon</td>\n",
       "      <td>19657</td>\n",
       "      <td>19843</td>\n",
       "      <td>0.0</td>\n",
       "      <td>+</td>\n",
       "      <td>.</td>\n",
       "      <td>FO818711.1</td>\n",
       "      <td>FO818711.1-201</td>\n",
       "      <td>ENSDART00000159467</td>\n",
       "    </tr>\n",
       "    <tr>\n",
       "      <th>994949</th>\n",
       "      <td>chrUn_KZ116065v1</td>\n",
       "      <td>danRer11_ensGene</td>\n",
       "      <td>CDS</td>\n",
       "      <td>19960</td>\n",
       "      <td>20033</td>\n",
       "      <td>0.0</td>\n",
       "      <td>+</td>\n",
       "      <td>2</td>\n",
       "      <td>FO818711.1</td>\n",
       "      <td>FO818711.1-201</td>\n",
       "      <td>ENSDART00000159467</td>\n",
       "    </tr>\n",
       "    <tr>\n",
       "      <th>994950</th>\n",
       "      <td>chrUn_KZ116065v1</td>\n",
       "      <td>danRer11_ensGene</td>\n",
       "      <td>exon</td>\n",
       "      <td>19960</td>\n",
       "      <td>20033</td>\n",
       "      <td>0.0</td>\n",
       "      <td>+</td>\n",
       "      <td>.</td>\n",
       "      <td>FO818711.1</td>\n",
       "      <td>FO818711.1-201</td>\n",
       "      <td>ENSDART00000159467</td>\n",
       "    </tr>\n",
       "    <tr>\n",
       "      <th>994951</th>\n",
       "      <td>chrUn_KZ116065v1</td>\n",
       "      <td>danRer11_ensGene</td>\n",
       "      <td>CDS</td>\n",
       "      <td>20110</td>\n",
       "      <td>20385</td>\n",
       "      <td>0.0</td>\n",
       "      <td>+</td>\n",
       "      <td>0</td>\n",
       "      <td>FO818711.1</td>\n",
       "      <td>FO818711.1-201</td>\n",
       "      <td>ENSDART00000159467</td>\n",
       "    </tr>\n",
       "    <tr>\n",
       "      <th>994952</th>\n",
       "      <td>chrUn_KZ116065v1</td>\n",
       "      <td>danRer11_ensGene</td>\n",
       "      <td>stop_codon</td>\n",
       "      <td>20386</td>\n",
       "      <td>20388</td>\n",
       "      <td>0.0</td>\n",
       "      <td>+</td>\n",
       "      <td>.</td>\n",
       "      <td>FO818711.1</td>\n",
       "      <td>FO818711.1-201</td>\n",
       "      <td>ENSDART00000159467</td>\n",
       "    </tr>\n",
       "    <tr>\n",
       "      <th>994953</th>\n",
       "      <td>chrUn_KZ116065v1</td>\n",
       "      <td>danRer11_ensGene</td>\n",
       "      <td>exon</td>\n",
       "      <td>20110</td>\n",
       "      <td>20619</td>\n",
       "      <td>0.0</td>\n",
       "      <td>+</td>\n",
       "      <td>.</td>\n",
       "      <td>FO818711.1</td>\n",
       "      <td>FO818711.1-201</td>\n",
       "      <td>ENSDART00000159467</td>\n",
       "    </tr>\n",
       "    <tr>\n",
       "      <th>994954</th>\n",
       "      <td>chrUn_KZ116066v1</td>\n",
       "      <td>danRer11_ensGene</td>\n",
       "      <td>exon</td>\n",
       "      <td>46424</td>\n",
       "      <td>46539</td>\n",
       "      <td>0.0</td>\n",
       "      <td>+</td>\n",
       "      <td>.</td>\n",
       "      <td>RF00001</td>\n",
       "      <td>RF00001.1442-201</td>\n",
       "      <td>ENSDART00000180618</td>\n",
       "    </tr>\n",
       "  </tbody>\n",
       "</table>\n",
       "</div>"
      ],
      "text/plain": [
       "                 seqname            source     feature  start    end  score  \\\n",
       "994945  chrUn_KZ116065v1  danRer11_ensGene         CDS  19494  19583    0.0   \n",
       "994946  chrUn_KZ116065v1  danRer11_ensGene        exon  19494  19583    0.0   \n",
       "994947  chrUn_KZ116065v1  danRer11_ensGene         CDS  19657  19843    0.0   \n",
       "994948  chrUn_KZ116065v1  danRer11_ensGene        exon  19657  19843    0.0   \n",
       "994949  chrUn_KZ116065v1  danRer11_ensGene         CDS  19960  20033    0.0   \n",
       "994950  chrUn_KZ116065v1  danRer11_ensGene        exon  19960  20033    0.0   \n",
       "994951  chrUn_KZ116065v1  danRer11_ensGene         CDS  20110  20385    0.0   \n",
       "994952  chrUn_KZ116065v1  danRer11_ensGene  stop_codon  20386  20388    0.0   \n",
       "994953  chrUn_KZ116065v1  danRer11_ensGene        exon  20110  20619    0.0   \n",
       "994954  chrUn_KZ116066v1  danRer11_ensGene        exon  46424  46539    0.0   \n",
       "\n",
       "       strand frame     gene_id     transcript_id          ensembl_id  \n",
       "994945      +     0  FO818711.1    FO818711.1-201  ENSDART00000159467  \n",
       "994946      +     .  FO818711.1    FO818711.1-201  ENSDART00000159467  \n",
       "994947      +     0  FO818711.1    FO818711.1-201  ENSDART00000159467  \n",
       "994948      +     .  FO818711.1    FO818711.1-201  ENSDART00000159467  \n",
       "994949      +     2  FO818711.1    FO818711.1-201  ENSDART00000159467  \n",
       "994950      +     .  FO818711.1    FO818711.1-201  ENSDART00000159467  \n",
       "994951      +     0  FO818711.1    FO818711.1-201  ENSDART00000159467  \n",
       "994952      +     .  FO818711.1    FO818711.1-201  ENSDART00000159467  \n",
       "994953      +     .  FO818711.1    FO818711.1-201  ENSDART00000159467  \n",
       "994954      +     .     RF00001  RF00001.1442-201  ENSDART00000180618  "
      ]
     },
     "execution_count": 62,
     "metadata": {},
     "output_type": "execute_result"
    }
   ],
   "source": [
    "gtfrep.tail(10)"
   ]
  },
  {
   "cell_type": "markdown",
   "metadata": {},
   "source": [
    "##### This takes too long. Will need to split things into chucks and reassemble after"
   ]
  },
  {
   "cell_type": "code",
   "execution_count": null,
   "metadata": {},
   "outputs": [],
   "source": [
    "# gtfrep=gtf.copy(); #make a deep copy of data frame\n",
    "# gtfrep['ensembl_id']=gtfrep['gene_id'].values #make new column to preserve ensembl_id\n",
    "# #replace gene_id and transcript_id based on names data frame\n",
    "# for i in range(len(gtf.index)):\n",
    "#     gtfrep.iloc[i,8] = names.loc[names['Transcript stable ID'] == gtf.iloc[i,9], 'Gene name'].tolist()[0]\n",
    "#     gtfrep.iloc[i,9] = names.loc[names['Transcript stable ID'] == gtf.iloc[i,9], 'Transcript name'].tolist()[0]"
   ]
  },
  {
   "cell_type": "markdown",
   "metadata": {},
   "source": [
    "### remake gtf file"
   ]
  },
  {
   "cell_type": "code",
   "execution_count": 89,
   "metadata": {},
   "outputs": [],
   "source": [
    "# remake in chunks too\n",
    "# n_file = 100;\n",
    "# genes_per_file = math.ceil(len(gtfrep.index)/n_file)\n",
    "# for f in range(1,101):#,n_file+1):\n",
    "#     gtfrep_subset = gtfrep.iloc[genes_per_file*(f):genes_per_file*(f+1),:];\n",
    "#     gtfout=gtfrep_subset.iloc[:,0:8].copy(); #make new copy to overwrite\n",
    "#     gtfout['attributes']=gtfout['seqname'].values\n",
    "#     for i in range(len(gtfrep_subset.index)):\n",
    "#     #     gtfout.iloc[i,8] = 'gene_id \\\"' + gtfrep.iloc[i,8] + \"\\\"; \" + \"transcript_id \\\"\" + gtfrep.iloc[i,9] + \"\\\"; \" + \"ensembl_id \\\"\" + gtfrep.iloc[i,10]\n",
    "#         gtfout.iloc[i,8] = f'gene_id \\\"{gtfrep_subset.iloc[i,8]}\\\"; transcript_id \\\"{gtfrep_subset.iloc[i,9]}\\\"; ensembl_id \\\"{gtfrep_subset.iloc[i,10]}\\\"'\n",
    "#     gtfout.to_csv(path_or_buf=f\"gtfchunk_mod/danRer11_ensembl_out{f}.txt\", sep='\\t', header=False, index=False, index_label=False, mode='w+')\n",
    "#     print(f)"
   ]
  },
  {
   "cell_type": "code",
   "execution_count": null,
   "metadata": {},
   "outputs": [],
   "source": [
    "# !cat danRer11_ensembl_out0.txt danRer11_ensembl_out1.txt danRer11_ensembl_out2.txt danRer11_ensembl_out3.txt danRer11_ensembl_out4.txt danRer11_ensembl_out5.txt danRer11_ensembl_out6.txt danRer11_ensembl_out7.txt danRer11_ensembl_out8.txt danRer11_ensembl_out9.txt danRer11_ensembl_out10.txt danRer11_ensembl_out11.txt danRer11_ensembl_out12.txt danRer11_ensembl_out13.txt danRer11_ensembl_out14.txt danRer11_ensembl_out15.txt danRer11_ensembl_out16.txt danRer11_ensembl_out17.txt danRer11_ensembl_out18.txt danRer11_ensembl_out19.txt danRer11_ensembl_out20.txt danRer11_ensembl_out21.txt danRer11_ensembl_out22.txt danRer11_ensembl_out23.txt danRer11_ensembl_out24.txt danRer11_ensembl_out25.txt danRer11_ensembl_out26.txt danRer11_ensembl_out27.txt danRer11_ensembl_out28.txt danRer11_ensembl_out29.txt danRer11_ensembl_out30.txt danRer11_ensembl_out31.txt danRer11_ensembl_out32.txt danRer11_ensembl_out33.txt danRer11_ensembl_out34.txt danRer11_ensembl_out35.txt danRer11_ensembl_out36.txt danRer11_ensembl_out37.txt danRer11_ensembl_out38.txt danRer11_ensembl_out39.txt danRer11_ensembl_out40.txt danRer11_ensembl_out41.txt danRer11_ensembl_out42.txt danRer11_ensembl_out43.txt danRer11_ensembl_out44.txt danRer11_ensembl_out45.txt danRer11_ensembl_out46.txt danRer11_ensembl_out47.txt danRer11_ensembl_out48.txt danRer11_ensembl_out49.txt danRer11_ensembl_out50.txt danRer11_ensembl_out51.txt danRer11_ensembl_out52.txt danRer11_ensembl_out53.txt danRer11_ensembl_out54.txt danRer11_ensembl_out55.txt danRer11_ensembl_out56.txt danRer11_ensembl_out57.txt danRer11_ensembl_out58.txt danRer11_ensembl_out59.txt danRer11_ensembl_out60.txt danRer11_ensembl_out61.txt danRer11_ensembl_out62.txt danRer11_ensembl_out63.txt danRer11_ensembl_out64.txt danRer11_ensembl_out65.txt danRer11_ensembl_out66.txt danRer11_ensembl_out67.txt danRer11_ensembl_out68.txt danRer11_ensembl_out69.txt danRer11_ensembl_out70.txt danRer11_ensembl_out71.txt danRer11_ensembl_out72.txt danRer11_ensembl_out73.txt danRer11_ensembl_out74.txt danRer11_ensembl_out75.txt danRer11_ensembl_out76.txt danRer11_ensembl_out77.txt danRer11_ensembl_out78.txt danRer11_ensembl_out79.txt danRer11_ensembl_out80.txt danRer11_ensembl_out81.txt danRer11_ensembl_out82.txt danRer11_ensembl_out83.txt danRer11_ensembl_out84.txt danRer11_ensembl_out85.txt danRer11_ensembl_out86.txt danRer11_ensembl_out87.txt danRer11_ensembl_out88.txt danRer11_ensembl_out89.txt danRer11_ensembl_out90.txt danRer11_ensembl_out91.txt danRer11_ensembl_out92.txt danRer11_ensembl_out93.txt danRer11_ensembl_out94.txt danRer11_ensembl_out95.txt danRer11_ensembl_out96.txt danRer11_ensembl_out97.txt danRer11_ensembl_out98.txt danRer11_ensembl_out99.txt danRer11_ensembl_out100.txt > danRer11_ensembl_out.txt"
   ]
  },
  {
   "cell_type": "code",
   "execution_count": 92,
   "metadata": {},
   "outputs": [],
   "source": [
    "# There are problems with quotes, so manually fixing these\n",
    "!sed -i '' 's/\"gene_id/gene_id/' \"danRer11_ensembl_out.txt\" \n",
    "!sed -i '' 's/\"\"\"/\"\"/' \"danRer11_ensembl_out.txt\"\n",
    "!sed -i '' 's/\"\"/\"/g' \"danRer11_ensembl_out.txt\""
   ]
  },
  {
   "cell_type": "code",
   "execution_count": 91,
   "metadata": {},
   "outputs": [
    {
     "name": "stdout",
     "output_type": "stream",
     "text": [
      "/Users/angueyraaristjm/Documents/Python/PythonCode/RNAseq\n"
     ]
    }
   ],
   "source": [
    "!pwd"
   ]
  },
  {
   "cell_type": "code",
   "execution_count": null,
   "metadata": {},
   "outputs": [],
   "source": []
  }
 ],
 "metadata": {
  "kernelspec": {
   "display_name": "Python 3",
   "language": "python",
   "name": "python3"
  },
  "language_info": {
   "codemirror_mode": {
    "name": "ipython",
    "version": 3
   },
   "file_extension": ".py",
   "mimetype": "text/x-python",
   "name": "python",
   "nbconvert_exporter": "python",
   "pygments_lexer": "ipython3",
   "version": "3.6.5"
  }
 },
 "nbformat": 4,
 "nbformat_minor": 2
}
