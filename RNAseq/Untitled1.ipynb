{
 "cells": [
  {
   "cell_type": "code",
   "execution_count": null,
   "metadata": {},
   "outputs": [],
   "source": [
    "%%javascript\n",
    "(function(){\n",
    "    var startTime;\n",
    "    $([Jupyter.events]).on('execute.CodeCell', function(event, target)\n",
    "    {\n",
    "        startTime = performance.now();\n",
    "    });\n",
    "    $([Jupyter.events]).on('finished_iopub.Kernel', function(event, target)\n",
    "    {\n",
    "        var endTime = performance.now();\n",
    "\n",
    "        if(endTime - startTime > 5 * 1000)\n",
    "        {\n",
    "            var audio = new Audio('http://www.soundjay.com/button/beep-07.wav');\n",
    "            audio.play();    \n",
    "        }\n",
    "    });\n",
    "})()"
   ]
  },
  {
   "cell_type": "code",
   "execution_count": null,
   "metadata": {},
   "outputs": [],
   "source": []
  },
  {
   "cell_type": "code",
   "execution_count": null,
   "metadata": {},
   "outputs": [],
   "source": [
    "sleep(6)    # will ring"
   ]
  }
 ],
 "metadata": {
  "kernelspec": {
   "display_name": "Python 3",
   "language": "python",
   "name": "python3"
  },
  "language_info": {
   "codemirror_mode": {
    "name": "ipython",
    "version": 3
   },
   "file_extension": ".py",
   "mimetype": "text/x-python",
   "name": "python",
   "nbconvert_exporter": "python",
   "pygments_lexer": "ipython3",
   "version": "3.6.5"
  }
 },
 "nbformat": 4,
 "nbformat_minor": 2
}
