{
 "cells": [
  {
   "cell_type": "markdown",
   "metadata": {},
   "source": [
    "### Plotter, loader and handler for RNAseq data from other retinal cells in zebrafish\n",
    "\n",
    "Müller Glia: [Charlton-Perkins, 2019](https://www-ncbi-nlm-nih-gov.ezproxy.nihlibrary.nih.gov/pubmed/30924555)  \n",
    "> Issues:\n",
    ">    - in original paper, data aligned to GRCz10 not GRCz11; tried to fix by remapping ENSEMBLIDs in table to GRCz11\n",
    ">    - Considered downloading original files and remapping but not sure it's worth it\n",
    ">    - Most photoreceptor genes are present in alternating samples, which could reflect circadian variations or inconsistencies in collection\n",
    ">    - Decided to modify table to include baseMean (as mean of MG192 samples only), and to de-transform from log2 into linear scale\n",
    ">    - Also included differential expression analysis for 192hpf in new table\n",
    ">    - For heatmaps, will accept that inter-sample variability can be ignored and calculate mean to declutter plot (although 48MG1 is consistently weird)\n",
    "     \n",
    "Rods: [Sun, 2018](https://www-ncbi-nlm-nih-gov.ezproxy.nihlibrary.nih.gov/pubmed/29422031)\n",
    ">\n",
    "> - top50 rod-enriched transcripts are 95% consistent with my RNAseq\n",
    "> - counts are in log2 CPM\n"
   ]
  },
  {
   "cell_type": "code",
   "execution_count": 1,
   "metadata": {},
   "outputs": [
    {
     "name": "stdout",
     "output_type": "stream",
     "text": [
      "LOADED\n"
     ]
    }
   ],
   "source": [
    "# External libraries\n",
    "import numpy as np\n",
    "import pandas as pd\n",
    "import math\n",
    "import IPython\n",
    "import matplotlib\n",
    "import matplotlib.pyplot as plt\n",
    "import matplotlib.font_manager as font_manager\n",
    "import importlib\n",
    "import svgutils\n",
    "from svgutils.compose import *\n",
    "\n",
    "from fx_RNAseq import *\n",
    "def findgene_glia(genename):\n",
    "    dPath = \"~/Documents/LiLab/RNAseq/zfMullerGlia_2018Charlton/\" #directory path\n",
    "#     fPath = \"glia_23615_sup-0006-tables2.csv\" #file path\n",
    "    fPath = \"glia8dpf_DEGcounts.csv\" #file path\n",
    "    tempPath = \"temp.txt\" # temporary file to store values\n",
    "    !head -1 {dPath + fPath} > {dPath + tempPath}\n",
    "    # EXACT MATCH ONLY by matching word (-w) and only at the start of each line (^) which corresponds to the symbol\n",
    "    !grep -w ^$genename {dPath + fPath} >> {dPath + tempPath}\n",
    "    gdf = pd.read_csv(dPath + tempPath)\n",
    "    return gdf\n",
    "\n",
    "def findgenelist_glia(genename):\n",
    "    dPath = \"~/Documents/LiLab/RNAseq/zfMullerGlia_2018Charlton/\" #directory path\n",
    "#     fPath = \"glia_23615_sup-0006-tables2.csv\" #file path\n",
    "    fPath = \"glia8dpf_DEGcounts.csv\" #file path\n",
    "    tempPath = \"temp.txt\" # temporary file to store values\n",
    "    !head -1 {dPath + fPath} > {dPath + tempPath}\n",
    "    # EXACT MATCH ONLY by matching word (-w) and only at the start of each line (^) which corresponds to the symbol\n",
    "    !grep ^$genename {dPath + fPath} >> {dPath + tempPath}\n",
    "    gdf = pd.read_csv(dPath + tempPath)\n",
    "    return gdf\n",
    "\n",
    "def plotBars_glia(genename):\n",
    "    gdf = findgene_glia(genename)\n",
    "    n = np.arange(1,19) # GFP+\n",
    "    n = np.append(n, 19.5 + np.arange(1,19)) # GFP-\n",
    "    h_start = 5\n",
    "    h_end = 41\n",
    "#     h = np.power(2,(gdf.iloc[0,h_start:h_end]))\n",
    "    h = gdf.iloc[0,h_start:h_end]\n",
    "    return n, h\n",
    "\n",
    "#glia Colors\n",
    "gC = {\n",
    "    'm48' : '#c7ffec',\n",
    "    'm60' : '#94ffdb',\n",
    "    'm72' : '#57ffc7',\n",
    "    'm96' : '#2effb9',\n",
    "    'm120': '#05ffac',\n",
    "    'm192': '#00d68f',\n",
    "    \n",
    "    'c48' : '#e3e3e3',\n",
    "    'c60' : '#c9c9c9',\n",
    "    'c72' : '#ababab',\n",
    "    'c96' : '#969696',\n",
    "    'c120': '#828282',\n",
    "    'c192': '#6b6b6b',\n",
    "    \n",
    "    'plt' : '',\n",
    "}\n",
    "\n",
    "gC['plt']=[\n",
    "    gC['m48'],gC['m48'],gC['m48'],\n",
    "    gC['m60'],gC['m60'],gC['m60'],\n",
    "    gC['m72'],gC['m72'],gC['m72'],\n",
    "    gC['m96'],gC['m96'],gC['m96'],\n",
    "    gC['m120'],gC['m120'],gC['m120'],\n",
    "    gC['m192'],gC['m192'],gC['m192'],\n",
    "    gC['c48'],gC['c48'],gC['c48'],\n",
    "    gC['c60'],gC['c60'],gC['c60'],\n",
    "    gC['c72'],gC['c72'],gC['c72'],\n",
    "    gC['c96'],gC['c96'],gC['c96'],\n",
    "    gC['c120'],gC['c120'],gC['c120'],\n",
    "    gC['c192'],gC['c192'],gC['c192'],\n",
    "]\n",
    "\n",
    "def findgene_rods(genename):\n",
    "    dPath = \"~/Documents/LiLab/RNAseq/zfRods_Sun2018/\" #directory path\n",
    "#     fPath = \"glia_23615_sup-0006-tables2.csv\" #file path\n",
    "    fPath = \"zfRods.csv\" #file path\n",
    "    tempPath = \"temp.txt\" # temporary file to store values\n",
    "    !head -1 {dPath + fPath} > {dPath + tempPath}\n",
    "    # EXACT MATCH ONLY by matching word (-w) and only at the start of each line (^) which corresponds to the symbol\n",
    "    !grep -w ^$genename {dPath + fPath} >> {dPath + tempPath}\n",
    "    gdf = pd.read_csv(dPath + tempPath)\n",
    "    return gdf\n",
    "\n",
    "def findgenelist_rods(genename):\n",
    "    dPath = \"~/Documents/LiLab/RNAseq/zfRods_Sun2018/\" #directory path\n",
    "#     fPath = \"glia_23615_sup-0006-tables2.csv\" #file path\n",
    "    fPath = \"zfRods.csv\" #file path\n",
    "    tempPath = \"temp.txt\" # temporary file to store values\n",
    "    !head -1 {dPath + fPath} > {dPath + tempPath}\n",
    "    # EXACT MATCH ONLY by matching word (-w) and only at the start of each line (^) which corresponds to the symbol\n",
    "    !grep ^$genename {dPath + fPath} >> {dPath + tempPath}\n",
    "    gdf = pd.read_csv(dPath + tempPath)\n",
    "    return gdf\n",
    "\n",
    "def plotBars_rods(genename):\n",
    "    gdf = findgene_rods(genename)\n",
    "    n = np.arange(1,5) # GFP+\n",
    "    n = np.append(n, 4.5 + np.arange(1,5)) # GFP-\n",
    "    h_start = 7\n",
    "    h_end = 15\n",
    "#     h = np.power(2,(gdf.iloc[0,h_start:h_end]))\n",
    "    h = gdf.iloc[0,h_start:h_end].values\n",
    "    return n, h\n",
    "\n",
    "#rod Colors\n",
    "rC = {\n",
    "    'r' : '#747474',\n",
    "    'c': '#dac910',\n",
    "    'plt' : '',\n",
    "}\n",
    "\n",
    "rC['plt']=[\n",
    "    rC['r'],rC['r'],rC['r'],rC['r'],\n",
    "    rC['c'],rC['c'],rC['c'],rC['c'],\n",
    "]\n",
    "\n",
    "\n",
    "def findgene_sqcones(genename):\n",
    "    dPath = \"~/Documents/LiLab/RNAseq/sqCones_Kunze/\" #directory path\n",
    "    fPath = \"sqConesAwHib_Adult.csv\" #file path\n",
    "    tempPath = \"temp.txt\" # temporary file to store values\n",
    "    !head -1 {dPath + fPath} > {dPath + tempPath}\n",
    "    # EXACT MATCH ONLY by matching word (-w) and only at the start of each line (^) which corresponds to the symbol\n",
    "    !grep -w ^$genename {dPath + fPath} >> {dPath + tempPath}\n",
    "    gdf = pd.read_csv(dPath + tempPath)\n",
    "    return gdf\n",
    "\n",
    "def findgenelist_sqcones(genename):\n",
    "    dPath = \"~/Documents/LiLab/RNAseq/sqCones_Kunze/\" #directory path\n",
    "    fPath = \"sqConesAwHib_Adult.csv\" #file path\n",
    "    tempPath = \"temp.txt\" # temporary file to store values\n",
    "    !head -1 {dPath + fPath} > {dPath + tempPath}\n",
    "    # EXACT MATCH ONLY by matching word (-w) and only at the start of each line (^) which corresponds to the symbol\n",
    "    !grep ^$genename {dPath + fPath} >> {dPath + tempPath}\n",
    "    gdf = pd.read_csv(dPath + tempPath)\n",
    "    return gdf\n",
    "\n",
    "def plotBars_sqcones(genename):\n",
    "    gdf = findgene_sqcones(genename)\n",
    "    n = np.arange(1,8) # GFP+\n",
    "    n = np.append(n, 7.5 + np.arange(1,7)) # GFP-\n",
    "    h_start = 8\n",
    "    h_end = 21\n",
    "#     h = np.power(2,(gdf.iloc[0,h_start:h_end]))\n",
    "    h = gdf.iloc[0,h_start:h_end].values\n",
    "    return n, h\n",
    "\n",
    "#squirrel Colors\n",
    "sqC = {\n",
    "    's' : '#4669F2',\n",
    "    'sHib' : '#548ced',\n",
    "    'm' : '#04CD22',\n",
    "    'mHib' : '#53e477',\n",
    "    'plt' : '',\n",
    "}\n",
    "\n",
    "sqC['plt']=[\n",
    "    sqC['s'],sqC['s'],sqC['s'],sqC['s'],sqC['s'],\n",
    "    sqC['sHib'],sqC['sHib'],\n",
    "    sqC['m'],sqC['m'],sqC['m'],\n",
    "    sqC['mHib'],sqC['mHib'],sqC['mHib'],\n",
    "]\n",
    "\n",
    "def findgene_haircell(genename):\n",
    "    dPath = \"~/Documents/LiLab/RNAseq/zfHairCells_Mattern2018/\" #directory path\n",
    "    fPath = \"zfHairCells_rpkm.csv\" #file path\n",
    "    tempPath = \"temp.txt\" # temporary file to store values\n",
    "    !head -1 {dPath + fPath} > {dPath + tempPath}\n",
    "    # EXACT MATCH ONLY by matching word (-w) and only at the start of each line (^) which corresponds to the symbol\n",
    "    !grep -w ^$genename {dPath + fPath} >> {dPath + tempPath}\n",
    "    gdf = pd.read_csv(dPath + tempPath)\n",
    "    return gdf\n",
    "\n",
    "def findgenelist_haircell(genename):\n",
    "    dPath = \"~/Documents/LiLab/RNAseq/zfHairCells_Mattern2018/\" #directory path\n",
    "    fPath = \"zfHairCells_rpkm.csv\" #file path\n",
    "    tempPath = \"temp.txt\" # temporary file to store values\n",
    "    !head -1 {dPath + fPath} > {dPath + tempPath}\n",
    "    # EXACT MATCH ONLY by matching word (-w) and only at the start of each line (^) which corresponds to the symbol\n",
    "    !grep ^$genename {dPath + fPath} >> {dPath + tempPath}\n",
    "    gdf = pd.read_csv(dPath + tempPath)\n",
    "    return gdf\n",
    "\n",
    "def plotBars_haircell(genename):\n",
    "    gdf = findgene_sqcones(genename)\n",
    "    n = np.arange(1,4) # riboTagged\n",
    "    n = np.append(n, 3.5 + np.arange(1,4)) # Whatever this is\n",
    "    h_start = 2\n",
    "    h_end = 8\n",
    "#     h = np.power(2,(gdf.iloc[0,h_start:h_end]))\n",
    "    h = gdf.iloc[0,h_start:h_end].values\n",
    "    return n, h\n",
    "\n",
    "#hairCell Colors\n",
    "hcC = {\n",
    "    'h' : '#e147c0',\n",
    "    'c' : '#dac910',\n",
    "    'plt' : '',\n",
    "}\n",
    "\n",
    "hcC['plt']=[\n",
    "    hcC['h'],hcC['h'],hcC['h'],\n",
    "    hcC['c'],hcC['c'],hcC['c'],\n",
    "]\n",
    "\n",
    "# df = pd.read_csv(\"~/Documents/LiLab/RNAseq/zfMullerGlia_2018Charlton/glia8dpf_DEGcounts.csv\")\n",
    "\n",
    "print('LOADED')\n",
    "\n"
   ]
  },
  {
   "cell_type": "code",
   "execution_count": 3,
   "metadata": {},
   "outputs": [],
   "source": []
  },
  {
   "cell_type": "code",
   "execution_count": null,
   "metadata": {},
   "outputs": [],
   "source": []
  },
  {
   "cell_type": "code",
   "execution_count": null,
   "metadata": {},
   "outputs": [],
   "source": [
    "gdf = pd.read_csv(\"~/Documents/LiLab/RNAseq/sqCones_Kunze/\" + \"temp.txt\")\n",
    "gdf"
   ]
  },
  {
   "cell_type": "code",
   "execution_count": null,
   "metadata": {},
   "outputs": [],
   "source": [
    "gdf = findgenelist_haircell('ntm')\n",
    "gdf.iloc[0,2:8]\n",
    "# gdf = gdf.sort_values(by=[\"baseMean\"], ascending=False)\n",
    "# gdf"
   ]
  },
  {
   "cell_type": "code",
   "execution_count": 4,
   "metadata": {},
   "outputs": [
    {
     "data": {
      "text/plain": [
       "array([1. , 2. , 3. , 4.5, 5.5, 6.5])"
      ]
     },
     "execution_count": 4,
     "metadata": {},
     "output_type": "execute_result"
    }
   ],
   "source": [
    "genename = 'ntm'\n",
    "n,h = plotBars_haircell(genename)\n",
    "n"
   ]
  },
  {
   "cell_type": "code",
   "execution_count": 5,
   "metadata": {},
   "outputs": [
    {
     "data": {
      "image/png": "[encoded data removed]",
      "text/plain": [
       "<Figure size 432x288 with 1 Axes>"
      ]
     },
     "metadata": {
      "needs_background": "light"
     },
     "output_type": "display_data"
    }
   ],
   "source": [
    "genename = 'ntm'\n",
    "n,h = plotBars_haircell(genename)\n",
    "fH, ax = plt.subplots()\n",
    "pH = plt.bar(n,h, width=0.8, bottom=None, align='center', data=None, color=hcC['plt'])\n",
    "formatFigure_haircell(genename, fH, ax, pH)"
   ]
  },
  {
   "cell_type": "code",
   "execution_count": 6,
   "metadata": {},
   "outputs": [
    {
     "data": {
      "text/html": [
       "<div>\n",
       "<style scoped>\n",
       "    .dataframe tbody tr th:only-of-type {\n",
       "        vertical-align: middle;\n",
       "    }\n",
       "\n",
       "    .dataframe tbody tr th {\n",
       "        vertical-align: top;\n",
       "    }\n",
       "\n",
       "    .dataframe thead th {\n",
       "        text-align: right;\n",
       "    }\n",
       "</style>\n",
       "<table border=\"1\" class=\"dataframe\">\n",
       "  <thead>\n",
       "    <tr style=\"text-align: right;\">\n",
       "      <th></th>\n",
       "      <th>symbol</th>\n",
       "      <th>genenames</th>\n",
       "      <th>hc01</th>\n",
       "      <th>hc02</th>\n",
       "      <th>hc04</th>\n",
       "      <th>in01</th>\n",
       "      <th>in02</th>\n",
       "      <th>in04</th>\n",
       "      <th>ensemblID</th>\n",
       "    </tr>\n",
       "  </thead>\n",
       "  <tbody>\n",
       "    <tr>\n",
       "      <td>0</td>\n",
       "      <td>nrxn1a</td>\n",
       "      <td>neurexin 1a</td>\n",
       "      <td>0.163254</td>\n",
       "      <td>0.111820</td>\n",
       "      <td>0.192918</td>\n",
       "      <td>0.340423</td>\n",
       "      <td>0.328603</td>\n",
       "      <td>0.291515</td>\n",
       "      <td>ENSDARG00000061647</td>\n",
       "    </tr>\n",
       "    <tr>\n",
       "      <td>1</td>\n",
       "      <td>nrxn1b</td>\n",
       "      <td>neurexin 1b</td>\n",
       "      <td>1.241527</td>\n",
       "      <td>1.319926</td>\n",
       "      <td>1.886197</td>\n",
       "      <td>0.091680</td>\n",
       "      <td>0.089637</td>\n",
       "      <td>0.109226</td>\n",
       "      <td>ENSDARG00000063635</td>\n",
       "    </tr>\n",
       "    <tr>\n",
       "      <td>2</td>\n",
       "      <td>nrxn3a</td>\n",
       "      <td>neurexin 3a</td>\n",
       "      <td>0.082890</td>\n",
       "      <td>0.060999</td>\n",
       "      <td>0.072105</td>\n",
       "      <td>0.085846</td>\n",
       "      <td>0.072469</td>\n",
       "      <td>0.069048</td>\n",
       "      <td>ENSDARG00000043746</td>\n",
       "    </tr>\n",
       "    <tr>\n",
       "      <td>3</td>\n",
       "      <td>nrxn3b</td>\n",
       "      <td>neurexin 3b</td>\n",
       "      <td>0.121000</td>\n",
       "      <td>0.105864</td>\n",
       "      <td>0.121628</td>\n",
       "      <td>0.054063</td>\n",
       "      <td>0.052755</td>\n",
       "      <td>0.048606</td>\n",
       "      <td>ENSDARG00000062693</td>\n",
       "    </tr>\n",
       "    <tr>\n",
       "      <td>4</td>\n",
       "      <td>nrxn2a</td>\n",
       "      <td>neurexin 2a</td>\n",
       "      <td>0.081138</td>\n",
       "      <td>0.071421</td>\n",
       "      <td>0.100172</td>\n",
       "      <td>0.063491</td>\n",
       "      <td>0.057518</td>\n",
       "      <td>0.048887</td>\n",
       "      <td>ENSDARG00000061454</td>\n",
       "    </tr>\n",
       "  </tbody>\n",
       "</table>\n",
       "</div>"
      ],
      "text/plain": [
       "   symbol    genenames      hc01      hc02      hc04      in01      in02  \\\n",
       "0  nrxn1a  neurexin 1a  0.163254  0.111820  0.192918  0.340423  0.328603   \n",
       "1  nrxn1b  neurexin 1b  1.241527  1.319926  1.886197  0.091680  0.089637   \n",
       "2  nrxn3a  neurexin 3a  0.082890  0.060999  0.072105  0.085846  0.072469   \n",
       "3  nrxn3b  neurexin 3b  0.121000  0.105864  0.121628  0.054063  0.052755   \n",
       "4  nrxn2a  neurexin 2a  0.081138  0.071421  0.100172  0.063491  0.057518   \n",
       "\n",
       "       in04           ensemblID  \n",
       "0  0.291515  ENSDARG00000061647  \n",
       "1  0.109226  ENSDARG00000063635  \n",
       "2  0.069048  ENSDARG00000043746  \n",
       "3  0.048606  ENSDARG00000062693  \n",
       "4  0.048887  ENSDARG00000061454  "
      ]
     },
     "execution_count": 6,
     "metadata": {},
     "output_type": "execute_result"
    }
   ],
   "source": [
    "gdf = findgenelist_haircell('nrxn')\n",
    "# gdf = gdf.sort_values(by=[\"baseMean\"],ascending=False)\n",
    "# gdf = gdf[gdf.baseMean > 3]\n",
    "# gdf = gdf.drop(np.arange(20,93))\n",
    "# gdf = gdf.drop([4,24])\n",
    "# gdf = gdf.sort_values(by=[\"symbol\"])\n",
    "# gdf = gdf.sort_values(by=[\"padj\"])\n",
    "gdf"
   ]
  },
  {
   "cell_type": "code",
   "execution_count": 7,
   "metadata": {},
   "outputs": [
    {
     "data": {
      "image/png": "[encoded data removed]",
      "text/plain": [
       "<Figure size 864x864 with 2 Axes>"
      ]
     },
     "metadata": {
      "needs_background": "light"
     },
     "output_type": "display_data"
    }
   ],
   "source": [
    "genenames = gdf['symbol'].values\n",
    "samplenames = [] #skipping names to replace in intaglio\n",
    "data = gdf.iloc[0:,2:8]\n",
    "\n",
    "# log2matrix = np.vectorize(log2)\n",
    "# data.iloc[0:,0:] = log2matrix(gdf.iloc[0:,5:41].values)\n",
    "\n",
    "fig, ax = plt.subplots(figsize=[12,12])\n",
    "im, cbar = heatmap_haircell(data, genenames, samplenames, ax=ax,\n",
    "                   cmap=\"inferno\", cbarlabel=\"tmm\")\n",
    "# texts = annotate_heatmap(im, valfmt=\"{x:.1f} t\")\n",
    "\n",
    "# plt.savefig(\"{0}.svg\".format(plotName), transparent=True, format=\"svg\")\n",
    "plt.show()"
   ]
  },
  {
   "cell_type": "code",
   "execution_count": null,
   "metadata": {},
   "outputs": [],
   "source": [
    "gdf = findgenelist_rods('rho')\n",
    "# gdf = findgenelist_glia('rho')\n",
    "# gdf = findgene_rods('saga')\n",
    "gdf\n",
    "# gdf.iloc[0,7:14]"
   ]
  },
  {
   "cell_type": "code",
   "execution_count": null,
   "metadata": {},
   "outputs": [],
   "source": [
    "genename = 'rho'\n",
    "n,h = plotBars_rods(genename)\n",
    "fH, ax = plt.subplots()\n",
    "pH = plt.bar(n, h, width=0.8, bottom=None, align='center', data=None, color=rC['plt'])\n",
    "formatFigure_rods(genename, fH, ax, pH)\n",
    "\n",
    "# plt.savefig(\"{0}.svg\".format(genename), transparent=True, format=\"svg\")"
   ]
  },
  {
   "cell_type": "code",
   "execution_count": null,
   "metadata": {},
   "outputs": [],
   "source": [
    "genename = 'rho'\n",
    "n,h = plotBars_glia(genename)\n",
    "fH, ax = plt.subplots()\n",
    "pH = plt.bar(n, h, width=0.8, bottom=None, align='center', data=None, color=gC['plt'])\n",
    "\n",
    "formatFigure_glia(genename, fH, ax, pH)"
   ]
  },
  {
   "cell_type": "code",
   "execution_count": null,
   "metadata": {},
   "outputs": [],
   "source": [
    "# gdf = findgenelist('aldh1')\n",
    "gdf = findgenelist_rods('ankrd33')\n",
    "# gdf = gdf.sort_values(by=[\"baseMean\"],ascending=False)\n",
    "# gdf = gdf[gdf.baseMean > 3]\n",
    "# gdf = gdf.drop(np.arange(20,93))\n",
    "# gdf = gdf.drop([4,24])\n",
    "# gdf = gdf.sort_values(by=[\"symbol\"])\n",
    "gdf = gdf.sort_values(by=[\"padj\"])\n",
    "\n",
    "gdf"
   ]
  },
  {
   "cell_type": "code",
   "execution_count": null,
   "metadata": {},
   "outputs": [],
   "source": [
    "genenames = gdf['symbol'].values\n",
    "samplenames = [] #skipping names to replace in intaglio\n",
    "data = gdf.iloc[0:,5:41]\n",
    "\n",
    "# log2matrix = np.vectorize(log2)\n",
    "# data.iloc[0:,0:] = log2matrix(gdf.iloc[0:,5:41].values)\n",
    "\n",
    "fig, ax = plt.subplots(figsize=[12,12])\n",
    "im, cbar = heatmap_glia(data, genenames, samplenames, ax=ax,\n",
    "                   cmap=\"inferno\", cbarlabel=\"tmm\")\n",
    "# texts = annotate_heatmap(im, valfmt=\"{x:.1f} t\")\n",
    "\n",
    "# plt.savefig(\"{0}.svg\".format(plotName), transparent=True, format=\"svg\")\n",
    "plt.show()"
   ]
  },
  {
   "cell_type": "code",
   "execution_count": null,
   "metadata": {},
   "outputs": [],
   "source": [
    "log2matrix(gdf.iloc[0:,5:41].values)"
   ]
  },
  {
   "cell_type": "code",
   "execution_count": null,
   "metadata": {},
   "outputs": [],
   "source": []
  },
  {
   "cell_type": "code",
   "execution_count": null,
   "metadata": {},
   "outputs": [],
   "source": [
    "# gdf = findgenelist('aldh1')\n",
    "gdf = findgenelist_rods('elovl')\n",
    "# gdf = gdf.sort_values(by=[\"baseMean\"],ascending=False)\n",
    "# gdf = gdf[gdf.baseMean > 3]\n",
    "# gdf = gdf.drop(np.arange(20,93))\n",
    "# gdf = gdf.drop([4,24])\n",
    "gdf = gdf.sort_values(by=[\"symbol\"])\n",
    "# gdf = gdf.sort_values(by=[\"padj\"])\n",
    "gdf"
   ]
  },
  {
   "cell_type": "code",
   "execution_count": null,
   "metadata": {},
   "outputs": [],
   "source": [
    "genenames = gdf['symbol'].values\n",
    "samplenames = [] #skipping names to replace in intaglio\n",
    "data = gdf.iloc[0:,7:16]\n",
    "\n",
    "# log2matrix = np.vectorize(log2)\n",
    "# data.iloc[0:,0:] = log2matrix(gdf.iloc[0:,5:41].values)\n",
    "\n",
    "fig, ax = plt.subplots(figsize=[12,12])\n",
    "im, cbar = heatmap_rods(data, genenames, samplenames, ax=ax,\n",
    "                   cmap=\"inferno\", cbarlabel=\"fpkm\")\n",
    "# texts = annotate_heatmap(im, valfmt=\"{x:.1f} t\")\n",
    "\n",
    "# plt.savefig(\"{0}.svg\".format(plotName), transparent=True, format=\"svg\")\n",
    "plt.show()"
   ]
  },
  {
   "cell_type": "code",
   "execution_count": null,
   "metadata": {},
   "outputs": [],
   "source": []
  },
  {
   "cell_type": "code",
   "execution_count": null,
   "metadata": {},
   "outputs": [],
   "source": []
  },
  {
   "cell_type": "code",
   "execution_count": null,
   "metadata": {},
   "outputs": [],
   "source": []
  },
  {
   "cell_type": "code",
   "execution_count": null,
   "metadata": {},
   "outputs": [],
   "source": []
  },
  {
   "cell_type": "code",
   "execution_count": null,
   "metadata": {},
   "outputs": [],
   "source": []
  },
  {
   "cell_type": "code",
   "execution_count": null,
   "metadata": {},
   "outputs": [],
   "source": []
  },
  {
   "cell_type": "code",
   "execution_count": null,
   "metadata": {},
   "outputs": [],
   "source": []
  },
  {
   "cell_type": "code",
   "execution_count": null,
   "metadata": {},
   "outputs": [],
   "source": []
  },
  {
   "cell_type": "code",
   "execution_count": null,
   "metadata": {},
   "outputs": [],
   "source": []
  },
  {
   "cell_type": "markdown",
   "metadata": {},
   "source": [
    "### Script to create modified table with DEG analysis from 192hpf and baseMean using only MG192 samples"
   ]
  },
  {
   "cell_type": "code",
   "execution_count": null,
   "metadata": {},
   "outputs": [],
   "source": [
    "# df_tmm = pd.read_csv(\"~/Documents/LiLab/RNAseq/zfMullerGlia_2018Charlton/glia_23615_sup-0006-tables2.csv\")\n",
    "# # get rid of non-existing symbols\n",
    "# df_tmm.symbol.fillna(df_tmm['symbol_g10'], inplace=True)\n",
    "# df_tmm.symbol.fillna(df_tmm['ensemblID'], inplace=True)\n",
    "\n",
    "# df_deg = pd.read_csv(\"~/Documents/LiLab/RNAseq/zfMullerGlia_2018Charlton/Table1_192hpf.csv\")\n",
    "# # sort DEG frame\n",
    "# df_deg = df_deg.set_index('ensemblID')\n",
    "# df_deg = df_deg.reindex(index=df_tmm['ensemblID'])\n",
    "# df_deg = df_deg.reset_index()\n",
    "\n",
    "\n",
    "# df = df_tmm.copy()\n",
    "\n",
    "# df.drop(columns=['ensemblID', 'symbol_g10','GOid'], inplace=True)\n",
    "# df['log2FoldChange'] = df_deg['logFC']\n",
    "# df['baseMean'] = np.power(2,df_deg['logCPM'])\n",
    "# df['padj'] = df_deg['PValue']\n",
    "\n",
    "# df = df[['symbol', 'genename', 'log2FoldChange','baseMean', 'padj', \n",
    "#            '48MG1', '48MG2', '48MG3', '60MG1', '60MG2', '60MG3', '72MG1',\n",
    "#            '72MG2', '72MG3', '96MG1', '96MG2', '96MG3', '120MG1', '120MG2',\n",
    "#            '120MG3', '192MG1', '192MG2', '192MG3', '48C1', '48C2', '48C3', '60C1',\n",
    "#            '60C2', '60C3', '72C1', '72C2', '72C3', '96C1', '96C2', '96C3', '120C1',\n",
    "#            '120C2', '120C3', '192C1', '192C2', '192C3', \n",
    "#           ]]\n",
    "# df.iloc[:,5:] = np.power(2,df.iloc[:,5:])\n",
    "# df.to_csv('~/Documents/LiLab/RNAseq/zfMullerGlia_2018Charlton/glia8dpf_DEGcounts.csv', index=False)\n",
    "# df.head()\n"
   ]
  },
  {
   "cell_type": "code",
   "execution_count": null,
   "metadata": {},
   "outputs": [],
   "source": []
  },
  {
   "cell_type": "markdown",
   "metadata": {},
   "source": [
    "### Script to create modified table for hair cell riboTAG data from zf 5 dpf (Mattern, 2018)"
   ]
  },
  {
   "cell_type": "code",
   "execution_count": null,
   "metadata": {},
   "outputs": [],
   "source": [
    "# df_hc = pd.read_csv(\"~/Documents/LiLab/RNAseq/zfHairCells_Mattern2018/zfHairCells_rpkm.csv\")\n",
    "# df_hc.symbol.fillna(df_hc['ensemblID'], inplace=True)\n",
    "# df_hc\n",
    "# df_hc.to_csv('~/Documents/LiLab/RNAseq/zfHairCells_Mattern2018/zfHairCells_rpkm.csv', index=False)\n"
   ]
  },
  {
   "cell_type": "code",
   "execution_count": null,
   "metadata": {},
   "outputs": [],
   "source": []
  },
  {
   "cell_type": "markdown",
   "metadata": {},
   "source": [
    "### Script to create modified table with DEG analysis for microglia dataset (Mitchell, 2018)"
   ]
  },
  {
   "cell_type": "code",
   "execution_count": null,
   "metadata": {},
   "outputs": [],
   "source": []
  },
  {
   "cell_type": "code",
   "execution_count": null,
   "metadata": {},
   "outputs": [],
   "source": []
  }
 ],
 "metadata": {
  "kernelspec": {
   "display_name": "Python 3",
   "language": "python",
   "name": "python3"
  },
  "language_info": {
   "codemirror_mode": {
    "name": "ipython",
    "version": 3
   },
   "file_extension": ".py",
   "mimetype": "text/x-python",
   "name": "python",
   "nbconvert_exporter": "python",
   "pygments_lexer": "ipython3",
   "version": "3.7.4"
  }
 },
 "nbformat": 4,
 "nbformat_minor": 4
}
