{
 "cells": [
  {
   "cell_type": "code",
   "execution_count": null,
   "metadata": {},
   "outputs": [],
   "source": [
    "import hcPlot\n",
    "import pandas\n",
    "import importlib\n",
    "import svgwrite\n",
    "import math\n",
    "\n",
    "def svgreload():\n",
    "    !osascript -e 'tell application \"Google Chrome\" to tell the active tab of second window to reload'"
   ]
  },
  {
   "cell_type": "code",
   "execution_count": null,
   "metadata": {},
   "outputs": [],
   "source": [
    "nx=4\n",
    "ny=math.ceil(9/nx)\n",
    "sizeX = str(nx * 325)\n",
    "sizeY = str(ny * 250 + 20)\n",
    "\n",
    "Figure(sizeX, sizeY,\n",
    "       SVG(\"./hcPlots/hc00.svg\").scale(0.5),\n",
    "       SVG(\"./hcPlots/hc03.svg\").scale(0.5),\n",
    "       SVG(\"./hcPlots/hc04.svg\").scale(0.5),\n",
    "       \n",
    "       SVG(\"./hcPlots/hc05.svg\").scale(0.5),\n",
    "       SVG(\"./hcPlots/hc07.svg\").scale(0.5),\n",
    "       SVG(\"./hcPlots/hc13.svg\").scale(0.5),\n",
    "       \n",
    "       SVG(\"./hcPlots/hc14.svg\").scale(0.5),\n",
    "       SVG(\"./hcPlots/hc15.svg\").scale(0.5),\n",
    "              \n",
    "       SVG(\"./hcPlots/hc21.svg\").scale(0.5),\n",
    "       SVG(\"./hcPlots/hc24.svg\").scale(0.5),\n",
    "       SVG(\"./hcPlots/hc29.svg\").scale(0.5),\n",
    "                     \n",
    "       ).tile(nx, ny).save(\"hcH3.svg\")\n",
    "svgreload()"
   ]
  }
 ],
 "metadata": {
  "kernelspec": {
   "display_name": "Python 3",
   "language": "python",
   "name": "python3"
  },
  "language_info": {
   "codemirror_mode": {
    "name": "ipython",
    "version": 3
   },
   "file_extension": ".py",
   "mimetype": "text/x-python",
   "name": "python",
   "nbconvert_exporter": "python",
   "pygments_lexer": "ipython3",
   "version": "3.6.6"
  }
 },
 "nbformat": 4,
 "nbformat_minor": 2
}
