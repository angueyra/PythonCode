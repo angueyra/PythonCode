{
 "cells": [
  {
   "cell_type": "markdown",
   "metadata": {},
   "source": [
    "### Problems with R package installation\n",
    " Seems like a lot of issues stem from c compiler executable in MacOS Mojave [issue here in Aug/2019](https://www.oipapio.com/question-2522095)\n",
    " \n",
    " UPDATE (Aug 2019): Can't get this to work. Problem is with Anaconda C-compiler.\n",
    " As last resort I installed separately R and RStudio, which seems to work.\n",
    " Also I tried to install gcc for anaconda in particular:\n",
    "> conda install -c anaconda gcc \n",
    "\n",
    "This seemed to fix some issues and lead to a lot of updates in R.\n",
    "\n",
    "\n",
    "\n",
    "\n",
    "Aug 2019:\n",
    "\n",
    " Def need to have XCode and CommandLineTools installed. Check with:\n",
    " > xcode-select --install\n",
    "\n",
    " May be worth reintalling these:\n",
    " > (sudo) rm -rf /Library/Developer/CommandLineTools\n",
    " > xcode-select --install\n",
    " \n",
    " > open /Library/Developer/CommandLineTools/Packages/macOS_SDK_headers_for_macOS_10.14.pkg\n",
    " \n",
    " Download old [SDKs](https://github.com/phracker/MacOSX-SDKs/releases)\n",
    " \n",
    "Create a directory /opt\n",
    "> sudo mkdir /opt\n",
    "> sudo cp -r ~/Downloads/MacOSX10.9.sdk /opt/\n",
    "> sudo chmod -R a+rX /opt\n",
    "\n",
    "Create a conda_build_config.yaml file that will be referenced by Conda-build and related software. It should contain the following\n",
    "> open ~/.conda/conda_build_config.yaml\n",
    "\n",
    "\n",
    ">macos_min_version:\n",
    ">  - 10.9\n",
    ">macos_machine:\n",
    ">  - x86_64-apple-darwin13.4.0\n",
    ">MACOSX_DEPLOYMENT_TARGET:\n",
    ">  - 10.9\n",
    ">CONDA_BUILD_SYSROOT:            # [osx]\n",
    ">  - /opt/MacOSX10.9.sdk          # [osx]\n",
    ">In a terminal you can do that with:\n",
    "\n",
    "\n",
    "Tell Conda about your YAML file via your .condarc. It should contain the lines:\n",
    "> open ~/.condarc\n",
    "\n",
    ">conda_build:   \n",
    ">  config_file: ~/.conda/conda_build_config.yaml\n",
    ">which can be accomplished using\n"
   ]
  },
  {
   "cell_type": "code",
   "execution_count": 1,
   "metadata": {},
   "outputs": [
    {
     "name": "stderr",
     "output_type": "stream",
     "text": [
      "Loading required namespace: BiocManager\n",
      "Bioconductor version 3.9 (BiocManager 1.30.4), R 3.6.1 (2019-07-05)\n",
      "Update old packages: 'acepack', 'callr', 'cluster', 'fpc', 'fs', 'genefilter',\n",
      "  'git2r', 'glmnet', 'hexbin', 'Hmisc', 'mclust', 'mvtnorm', 'nlme', 'openssl',\n",
      "  'prabclus', 'processx', 'RcppArmadillo', 'robustbase', 'SparseM', 'topGO',\n",
      "  'usethis', 'XML'\n"
     ]
    }
   ],
   "source": [
    "if (!requireNamespace(\"BiocManager\"))\n",
    " install.packages(\"BiocManager\")\n",
    "BiocManager::install()"
   ]
  },
  {
   "cell_type": "code",
   "execution_count": null,
   "metadata": {},
   "outputs": [],
   "source": [
    "BiocManager::install(version = \"3.9\", ask = FALSE)"
   ]
  },
  {
   "cell_type": "code",
   "execution_count": null,
   "metadata": {},
   "outputs": [],
   "source": [
    "system(\"defaults write org.R-project.R force.LANG en_US.UTF-8\")"
   ]
  },
  {
   "cell_type": "code",
   "execution_count": 7,
   "metadata": {},
   "outputs": [
    {
     "name": "stdin",
     "output_type": "stream",
     "text": [
      "Update? (Yes/no/cancel)  Yes\n",
      "Update? (Yes/no/cancel)  Y\n",
      "Update? (Yes/no/cancel)  Y\n",
      "Update? (Yes/no/cancel)  Y\n",
      "Update? (Yes/no/cancel)  Y\n",
      "Update? (Yes/no/cancel)  Y\n",
      "Update? (Yes/no/cancel)  Y\n",
      "Update? (Yes/no/cancel)  Y\n"
     ]
    },
    {
     "name": "stdout",
     "output_type": "stream",
     "text": [
      "callr :\n",
      " Version 3.2.0 installed in /Users/angueyraaristjm/anaconda3/lib/R/library \n",
      " Version 3.3.1 available at https://cran.r-project.org\n",
      "fs :\n",
      " Version 1.2.7 installed in /Users/angueyraaristjm/anaconda3/lib/R/library \n",
      " Version 1.3.1 available at https://cran.r-project.org\n",
      "git2r :\n",
      " Version 0.25.2 installed in /Users/angueyraaristjm/anaconda3/lib/R/library \n",
      " Version 0.26.1 available at https://cran.r-project.org\n",
      "openssl :\n",
      " Version 1.3 installed in /Users/angueyraaristjm/anaconda3/lib/R/library \n",
      " Version 1.4.1 available at https://cran.r-project.org\n",
      "processx :\n",
      " Version 3.3.0 installed in /Users/angueyraaristjm/anaconda3/lib/R/library \n",
      " Version 3.4.1 available at https://cran.r-project.org\n",
      "RcppArmadillo :\n",
      " Version 0.9.300.2.0 installed in /Users/angueyraaristjm/anaconda3/lib/R/library \n",
      " Version 0.9.600.4.0 available at https://cran.r-project.org\n",
      "usethis :\n",
      " Version 1.5.0 installed in /Users/angueyraaristjm/anaconda3/lib/R/library \n",
      " Version 1.5.1 available at https://cran.r-project.org\n",
      "XML :\n",
      " Version 3.98-1.19 installed in /Users/angueyraaristjm/anaconda3/lib/R/library \n",
      " Version 3.98-1.20 available at https://cran.r-project.org\n"
     ]
    },
    {
     "name": "stderr",
     "output_type": "stream",
     "text": [
      "Warning message in install.packages(update[instlib == l, \"Package\"], l, contriburl = contriburl, :\n",
      "“installation of package ‘fs’ had non-zero exit status”Warning message in install.packages(update[instlib == l, \"Package\"], l, contriburl = contriburl, :\n",
      "“installation of package ‘git2r’ had non-zero exit status”Warning message in install.packages(update[instlib == l, \"Package\"], l, contriburl = contriburl, :\n",
      "“installation of package ‘openssl’ had non-zero exit status”Warning message in install.packages(update[instlib == l, \"Package\"], l, contriburl = contriburl, :\n",
      "“installation of package ‘processx’ had non-zero exit status”Warning message in install.packages(update[instlib == l, \"Package\"], l, contriburl = contriburl, :\n",
      "“installation of package ‘RcppArmadillo’ had non-zero exit status”Warning message in install.packages(update[instlib == l, \"Package\"], l, contriburl = contriburl, :\n",
      "“installation of package ‘XML’ had non-zero exit status”Warning message in install.packages(update[instlib == l, \"Package\"], l, contriburl = contriburl, :\n",
      "“installation of package ‘callr’ had non-zero exit status”Warning message in install.packages(update[instlib == l, \"Package\"], l, contriburl = contriburl, :\n",
      "“installation of package ‘usethis’ had non-zero exit status”Updating HTML index of packages in '.Library'\n",
      "Making 'packages.html' ... done\n"
     ]
    }
   ],
   "source": [
    "# old.packages()\n",
    "# update.packages()\n",
    "# config.log()"
   ]
  },
  {
   "cell_type": "code",
   "execution_count": null,
   "metadata": {},
   "outputs": [],
   "source": [
    "if (!requireNamespace(\"BiocManager\", quietly = TRUE))\n",
    "    install.packages(\"BiocManager\")\n",
    "BiocManager::install(\"GenomicRanges\", version = \"3.8\")"
   ]
  },
  {
   "cell_type": "code",
   "execution_count": 11,
   "metadata": {},
   "outputs": [
    {
     "name": "stderr",
     "output_type": "stream",
     "text": [
      "Bioconductor version 3.9 (BiocManager 1.30.4), R 3.6.1 (2019-07-05)\n",
      "Installing package(s) 'BiocParallel'\n",
      "Warning message in install.packages(pkgs = doing, lib = lib, repos = repos, ...):\n",
      "“installation of package ‘BiocParallel’ had non-zero exit status”Updating HTML index of packages in '.Library'\n",
      "Making 'packages.html' ... done\n",
      "Update old packages: 'callr', 'fs', 'git2r', 'openssl', 'processx',\n",
      "  'RcppArmadillo', 'usethis', 'XML'\n",
      "Warning message:\n",
      "“package ‘BiocParallel’ is not available (for R version 3.6.1)”"
     ]
    }
   ],
   "source": [
    "# BiocManager::install(c(\"digest\", \"evaluate\", \"IRdisplay\",\"Rcpp\",\"repr\"))\n",
    "# BiocManager::install(c(\"ensembldb\"))\n",
    "# BiocManager::install(c(\"DESeq2\"))\n",
    "BiocManager::install(c(\"BiocParallel\"))\n",
    "# BiocManager::install(c(\"GenomicFeatures\"))\n",
    "# # BiocManager::install(c(\"XML\")) # 'annotate',‘genefilter’, ‘geneplotter’\n",
    "# BiocManager::install(c(\"XML\"), update = TRUE) # '',‘genefilter’, ‘geneplotter’\n",
    "# BiocManager::install(c(\"AnnotationDbi\"))\n",
    "# BiocManager::install(c(\"org.Dr.eg.db\"))\n",
    "# BiocManager::install(c(\"apeglm\"))\n",
    "# BiocManager::install(c(\"pheatmap\"))\n",
    "# BiocManager::install(\"ReportingTools\")\n",
    "# BiocManager::install(\"pcaExplorer\")\n",
    "# BiocManager::install(\"purr\")\n",
    "# BiocManager::install(\"GenomicRanges\")\n",
    "# BiocManager::install(\"rtracklayer\")\n",
    "# BiocManager::install(\"Rsamtools\")\n",
    "\n",
    "\n",
    "# BiocManager::install('ensembldb')\n",
    "# BiocManager::install('rtracklayer')\n",
    "# BiocManager::install('edgeR')\n",
    "# BiocManager::install('repr')\n",
    "# BiocManager::install('mgcv')\n",
    "#  'rtracklayer','survival', 'VariantAnnotation', 'XML')\n",
    "# BiocManager::install('BiocParallel', 'ensembldb', 'IRdisplay', 'IRkernel','mclust', 'mgcv', 'openssl', 'RBGL', 'RcppEigen', 'repr', 'rtracklayer','survival', 'VariantAnnotation', 'XML')\n",
    "\n",
    "# BiocManager::install('XML')\n",
    "install.packages(\"BiocParallel\")"
   ]
  },
  {
   "cell_type": "code",
   "execution_count": null,
   "metadata": {},
   "outputs": [],
   "source": [
    "\n",
    "if (!requireNamespace(\"BiocManager\", quietly = TRUE))\n",
    "    install.packages(\"BiocManager\")\n",
    "BiocManager::install(\"DESeq2\", version = \"3.8\")"
   ]
  },
  {
   "cell_type": "code",
   "execution_count": null,
   "metadata": {},
   "outputs": [],
   "source": [
    "library(\"DESeq2\")\n",
    "library(\"apeglm\")\n",
    "library(\"ggplot2\")\n",
    "library(\"org.Dr.eg.db\") \n",
    "library(\"ReportingTools\")\n",
    "library(\"pcaExplorer\")\n",
    "library(\"purrr\")"
   ]
  },
  {
   "cell_type": "code",
   "execution_count": null,
   "metadata": {},
   "outputs": [],
   "source": [
    "setwd(\"/Users/angueyraaristjm/Documents/LiMolec/zfRNAseq/20181018/20181018_DESeq2/\")\n",
    "directory <- \"/Users/angueyraaristjm/Documents/LiMolec/zfRNAseq/20181018/20181018_DESeq2/\"\n",
    "getwd()"
   ]
  },
  {
   "cell_type": "code",
   "execution_count": null,
   "metadata": {},
   "outputs": [],
   "source": [
    "countData <- as.matrix(read.csv(\"gCount.csv\", row.names=\"gene_id\"))\n",
    "colData <- read.csv(\"PHENO_DATA.csv\", sep=\"\\t\", row.names=1)\n",
    "colData"
   ]
  },
  {
   "cell_type": "code",
   "execution_count": null,
   "metadata": {},
   "outputs": [],
   "source": [
    "countData <- countData[, rownames(colData)]\n",
    "all(rownames(colData) == colnames(countData))\n",
    "dds <- DESeqDataSetFromMatrix(countData = countData, colData = colData, design = ~photoreceptor)\n",
    "dds <- DESeq(dds)\n",
    "res <- results(dds)\n",
    "summary(res)\n",
    "# sum(res$padj < 0.1, na.rm=TRUE)\n",
    "# write.csv(res, file = \"/data/angueyraaristjm/20181018_DESeq2/results.csv\")"
   ]
  },
  {
   "cell_type": "code",
   "execution_count": null,
   "metadata": {},
   "outputs": [],
   "source": [
    "resOrdered <- res[order(res$padj),]\n",
    "# write.csv(resOrdered, file = \"results_allversions/results.csv\")"
   ]
  },
  {
   "cell_type": "markdown",
   "metadata": {},
   "source": [
    "### Save results (genenames should have already been fixed before running stringtie2)"
   ]
  },
  {
   "cell_type": "code",
   "execution_count": null,
   "metadata": {},
   "outputs": [],
   "source": [
    "# results + raw counts\n",
    "resdata <- merge(as.data.frame(res), as.data.frame(counts(dds,normalized =FALSE)), by = 'row.names', sort = FALSE)\n",
    "resdata <- resdata[order(resdata$padj),]\n",
    "names(resdata)[1] <- 'symbol'\n",
    "write.csv(resOrdered, file = \"results_allversions/results.csv\")"
   ]
  },
  {
   "cell_type": "code",
   "execution_count": null,
   "metadata": {},
   "outputs": [],
   "source": [
    "# results + normalized counts log2((counts/average sequencing depth across samples)+0.5)\n",
    "resdata <- merge(as.data.frame(res), as.data.frame(counts(dds,normalized =TRUE)), by = 'row.names', sort = FALSE)\n",
    "resdata <- resdata[order(resdata$padj),]\n",
    "names(resdata)[1] <- 'symbol'\n",
    "\n"
   ]
  },
  {
   "cell_type": "code",
   "execution_count": null,
   "metadata": {},
   "outputs": [],
   "source": [
    "head(resdata)"
   ]
  },
  {
   "cell_type": "code",
   "execution_count": null,
   "metadata": {},
   "outputs": [],
   "source": [
    "# Log fold change shrinkage for visualization and ranking\n",
    "# resultsNames(dds)\n",
    "resLFC <- lfcShrink(dds, coef=\"photoreceptor_UV_vs_S\", type=\"apeglm\")\n",
    "resLFC\n",
    "# write.csv(resLFC, file = \"results_LFCestimates.csv\")\n",
    "# REFERENCE: Zhu, A., Ibrahim, J.G., Love, M.I. (2018) Heavy-tailed prior distributions for sequence count data: removing the noise and preserving large differences. bioRxiv. 10.1101/303255"
   ]
  },
  {
   "cell_type": "code",
   "execution_count": null,
   "metadata": {},
   "outputs": [],
   "source": [
    "# results + normalized counts log2((counts/average sequencing depth across samples)+0.5)\n",
    "resdata <- merge(as.data.frame(resLFC), as.data.frame(counts(dds,normalized =TRUE)), by = 'row.names', sort = FALSE)\n",
    "resdata <- resdata[order(resdata$padj),]\n",
    "names(resdata)[1] <- 'symbol'\n"
   ]
  },
  {
   "cell_type": "code",
   "execution_count": null,
   "metadata": {},
   "outputs": [],
   "source": [
    "head(resdata)"
   ]
  },
  {
   "cell_type": "code",
   "execution_count": null,
   "metadata": {},
   "outputs": [],
   "source": [
    "#rounding for excel displaying\n",
    "resrounded <-resdata\n",
    "resrounded[\"baseMean\"] <- purrr::modify_if(resrounded[\"baseMean\"], ~is.numeric(.), ~round(., 2))\n",
    "resrounded[\"log2FoldChange\"] <- purrr::modify_if(resrounded[\"log2FoldChange\"], ~is.numeric(.), ~round(., 4))\n",
    "resrounded[\"lfcSE\"] <- purrr::modify_if(resrounded[\"lfcSE\"], ~is.numeric(.), ~round(., 4))\n",
    "resrounded[\"UV01\"] <- purrr::modify_if(resrounded[\"UV01\"], ~is.numeric(.), ~round(., 0))\n",
    "resrounded[\"UV02\"] <- purrr::modify_if(resrounded[\"UV02\"], ~is.numeric(.), ~round(., 0))\n",
    "resrounded[\"UV03\"] <- purrr::modify_if(resrounded[\"UV03\"], ~is.numeric(.), ~round(., 0))\n",
    "resrounded[\"UV04\"] <- purrr::modify_if(resrounded[\"UV04\"], ~is.numeric(.), ~round(., 0))\n",
    "resrounded[\"S01\"] <- purrr::modify_if(resrounded[\"S01\"], ~is.numeric(.), ~round(., 0))\n",
    "resrounded[\"S02\"] <- purrr::modify_if(resrounded[\"S02\"], ~is.numeric(.), ~round(., 0))\n",
    "resrounded[\"S03\"] <- purrr::modify_if(resrounded[\"S03\"], ~is.numeric(.), ~round(., 0))\n",
    "resrounded[\"S04\"] <- purrr::modify_if(resrounded[\"S04\"], ~is.numeric(.), ~round(., 0))\n",
    "head(resrounded)\n",
    "# write.csv(resrounded, file = \"results_allversions/results_LFC_norm_round.csv\")\n",
    "\n"
   ]
  },
  {
   "cell_type": "code",
   "execution_count": null,
   "metadata": {},
   "outputs": [],
   "source": [
    "## save useful versions\n",
    "# write.csv(resrounded, file = \"results_userfriendly/zfUVvsS_sorted.csv\")\n",
    "# write.csv(resrounded[order(resrounded$symbol),], file = \"results_userfriendly/zfUVvsS_alfabethical.csv\")\n",
    "\n",
    "# respvalue <- subset(resrounded, padj<0.1)\n",
    "# write.csv(respvalue[order(respvalue$log2FoldChange),], file = \"results_userfriendly/zfUVvsS_pvalue_FCsorted.csv\")\n",
    "respvalueS <- subset(respvalue, log2FoldChange<0)\n",
    "write.csv(respvalueS[order(respvalueS$baseMean),], file = \"results_userfriendly/zfUVvsS_pvalue_S.csv\")\n",
    "respvalueU <- subset(respvalue, log2FoldChange>0)\n",
    "write.csv(respvalueU[order(respvalueU$baseMean),], file = \"results_userfriendly/zfUVvsS_pvalue_UV.csv\")"
   ]
  },
  {
   "cell_type": "markdown",
   "metadata": {},
   "source": [
    "# HERE"
   ]
  },
  {
   "cell_type": "code",
   "execution_count": null,
   "metadata": {},
   "outputs": [],
   "source": [
    "dim(subset(resrounded, padj<0.1))"
   ]
  },
  {
   "cell_type": "markdown",
   "metadata": {},
   "source": [
    "#### add gene names to data frames"
   ]
  },
  {
   "cell_type": "code",
   "execution_count": null,
   "metadata": {},
   "outputs": [],
   "source": [
    "columns(org.Dr.eg.db)"
   ]
  },
  {
   "cell_type": "code",
   "execution_count": null,
   "metadata": {},
   "outputs": [],
   "source": [
    "# genenames <- mapIds(org.Dr.eg.db, keys=resdata[,c(\"symbol\")], column=c(\"GENENAME\"), keytype=\"SYMBOL\")\n",
    "# write.csv(genenames, file = \"genenames.csv\", col.names=c(\"symbol\",\"genename\"))\n",
    "genenames <- read.csv(\"genenames.csv\", sep=\",\")\n",
    "colnames(genenames) <- c(\"symbol\",\"genename\")\n",
    "head(genenames)\n",
    "all(genenames$symbol == resdata$symbol)\n",
    "\n",
    "# head(resdata)\n",
    "# entrezid <- mapIds(org.Dr.eg.db, keys=resdata[,c(\"Row.names\")], column=c(\"ZFIN\"), keytype=\"SYMBOL\")\n",
    "# head(entrezid)\n",
    "# merge(res, annots, by.x=0, by.y=\"SYMBOL\")\n",
    "\n",
    "\n",
    "# test <- merge(resdata,genenames)"
   ]
  },
  {
   "cell_type": "code",
   "execution_count": null,
   "metadata": {},
   "outputs": [],
   "source": [
    "tres <- head(resdata)\n",
    "tgn <- head(genenames)\n",
    "tres$genename = tgn$genename\n",
    "# tres <- tres[, colnames(tres)[c(1,ncol(tres),2:ncol(tres)-1)]]\n",
    "# tres <- tres[c(1,ncol(tres),2:ncol(tres)-1)]\n",
    "tres <- tres[c(1,ncol(tres),2:ncol(tres)-1)] #not sure why it's adding symbol again\n",
    "tres <- tres[c(1,2,4:ncol(tres))]\n",
    "tres"
   ]
  },
  {
   "cell_type": "code",
   "execution_count": null,
   "metadata": {},
   "outputs": [],
   "source": [
    "# MA plot\n",
    "#log2 fold changes attributable to a given variable over the mean of normalized counts for all the samples in the DESeqDataSet. Points will be colored red if the adjusted p value is less than 0.1. Points which fall out of the window are plotted as open triangles pointing either up or down.\n",
    "# plotMA(res, ylim=c(-20,20)) \n",
    "# to remove noise from log2 changes, it's better to visualize shrunken version\n",
    "test <- plotMA(resLFC, ylim=c(-20,20))\n",
    "\n",
    "#Plot is supposed to be interactive and genes could be recovered using this:\n",
    "# idx <- identify(res$baseMean, res$log2FoldChange)\n",
    "# rownames(res)[idx]"
   ]
  },
  {
   "cell_type": "code",
   "execution_count": null,
   "metadata": {},
   "outputs": [],
   "source": [
    "# plot a single gene: counts (normalized by seq depth and +0.5 for log plotting)\n",
    "test <- plotCounts(dds, gene=\"rho\", intgroup=\"photoreceptor\", col =c('blue','blue'), fg='white', col.lab ='white', col.main ='white', col.sub ='white', col.axis='white', bg='white')"
   ]
  },
  {
   "cell_type": "code",
   "execution_count": null,
   "metadata": {},
   "outputs": [],
   "source": [
    "# more customizable plot of a single gene: counts (normalized by seq depth and +0.5 for log plotting)\n",
    "data <- plotCounts(dds, gene=\"gnat1\", intgroup=c(\"photoreceptor\"), returnData=TRUE)\n",
    "data\n",
    "ggplot(data, aes(x=photoreceptor, y=count, color=photoreceptor)) +\n",
    "  scale_y_log10() + \n",
    "  geom_point(position=position_jitter(width=.1,height=0))"
   ]
  },
  {
   "cell_type": "code",
   "execution_count": null,
   "metadata": {},
   "outputs": [],
   "source": [
    "# mcols(resLFC)$description\n",
    "head(df)"
   ]
  },
  {
   "cell_type": "code",
   "execution_count": null,
   "metadata": {},
   "outputs": [],
   "source": [
    "# visualize as heatmap\n",
    "n_genes = 10\n",
    "library(\"pheatmap\")\n",
    "ntd <- normTransform(dds)\n",
    "select <- order(rowMeans(counts(dds,normalized=TRUE)),\n",
    "                decreasing=TRUE)[1:n_genes]\n",
    "df <- as.data.frame(colData(dds)[c(\"photoreceptor\")])\n",
    "assay(ntd)[select,]\n",
    "pheatmap(assay(ntd)[select,], cluster_rows=FALSE, show_rownames=FALSE,\n",
    "         cluster_cols=FALSE, annotation_col=df)"
   ]
  },
  {
   "cell_type": "code",
   "execution_count": null,
   "metadata": {},
   "outputs": [],
   "source": [
    "# sampleDists <- dist(t(assay(ntd)))\n",
    "# sampleDists\n",
    "# library(\"RColorBrewer\")\n",
    "# sampleDistMatrix <- as.matrix(sampleDists)\n",
    "# rownames(sampleDistMatrix) <- paste(ntd$photoreceptor, sep=\"-\")\n",
    "# colnames(sampleDistMatrix) <- NULL\n",
    "# colors <- colorRampPalette( rev(brewer.pal(9, \"Blues\")) )(255)\n",
    "# pheatmap(sampleDistMatrix,\n",
    "#          clustering_distance_rows=sampleDists,\n",
    "#          clustering_distance_cols=sampleDists,\n",
    "#          col=colors)\n",
    "pcaData"
   ]
  },
  {
   "cell_type": "code",
   "execution_count": null,
   "metadata": {},
   "outputs": [],
   "source": [
    "#built-in\n",
    "# plotPCA(ntd, intgroup=c(\"photoreceptor\"))\n",
    "\n",
    "##ggplot\n",
    "pcaData <- plotPCA(ntd, intgroup=c(\"photoreceptor\"), returnData=TRUE)\n",
    "percentVar <- round(100 * attr(pcaData, \"percentVar\"))\n",
    "ggplot(pcaData, aes(PC1, PC2, color=photoreceptor)) +\n",
    "  geom_point(size=3) +\n",
    "  xlab(paste0(\"PC1: \",percentVar[1],\"% variance\")) +\n",
    "  ylab(paste0(\"PC2: \",percentVar[2],\"% variance\")) + \n",
    "  coord_fixed()"
   ]
  },
  {
   "cell_type": "code",
   "execution_count": null,
   "metadata": {},
   "outputs": [],
   "source": [
    "plotDispEsts(dds)\n",
    "#probably means that data should be prefiltered. Maybe remove all lines with very low counts"
   ]
  },
  {
   "cell_type": "code",
   "execution_count": null,
   "metadata": {},
   "outputs": [],
   "source": [
    "pcaExplorer(dds = dds)"
   ]
  },
  {
   "cell_type": "code",
   "execution_count": null,
   "metadata": {},
   "outputs": [],
   "source": []
  }
 ],
 "metadata": {
  "kernelspec": {
   "display_name": "R",
   "language": "R",
   "name": "ir"
  },
  "language_info": {
   "codemirror_mode": "r",
   "file_extension": ".r",
   "mimetype": "text/x-r-source",
   "name": "R",
   "pygments_lexer": "r",
   "version": "3.6.1"
  }
 },
 "nbformat": 4,
 "nbformat_minor": 4
}
