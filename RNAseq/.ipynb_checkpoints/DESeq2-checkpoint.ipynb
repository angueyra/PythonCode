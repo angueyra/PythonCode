{
 "cells": [
  {
   "cell_type": "code",
   "execution_count": null,
   "metadata": {},
   "outputs": [],
   "source": [
    "# if (!requireNamespace(\"BiocManager\"))\n",
    "#  install.packages(\"BiocManager\")\n",
    "# BiocManager::install()"
   ]
  },
  {
   "cell_type": "code",
   "execution_count": null,
   "metadata": {},
   "outputs": [],
   "source": [
    "# BiocManager::install(c(\"DESeq2\", \"GenomicFeatures\", \"AnnotationDbi\"))\n",
    "# BiocManager::install(c(\"org.Dr.eg.db\"))\n",
    "# BiocManager::install(c(\"apeglm\"))\n",
    "# BiocManager::install(c(\"pheatmap\"))\n",
    "# BiocManager::install(\"ReportingTools\")\n",
    "# BiocManager::install(\"pcaExplorer\")"
   ]
  },
  {
   "cell_type": "code",
   "execution_count": null,
   "metadata": {},
   "outputs": [],
   "source": []
  },
  {
   "cell_type": "code",
   "execution_count": 2,
   "metadata": {},
   "outputs": [],
   "source": [
    "library(\"DESeq2\")\n",
    "library(\"apeglm\")\n",
    "library(\"ggplot2\")\n",
    "library(\"org.Dr.eg.db\")\n",
    "library(\"ReportingTools\")\n",
    "library(\"pcaExplorer\")"
   ]
  },
  {
   "cell_type": "code",
   "execution_count": 3,
   "metadata": {},
   "outputs": [],
   "source": [
    "setwd(\"/Users/angueyraaristjm/Documents/LiMolec/zfRNAseq/20181018/20181018_DESeq2/\")\n",
    "directory <- \"/Users/angueyraaristjm/Documents/LiMolec/zfRNAseq/20181018/20181018_DESeq2/\""
   ]
  },
  {
   "cell_type": "code",
   "execution_count": 4,
   "metadata": {},
   "outputs": [
    {
     "data": {
      "text/html": [
       "'/Users/angueyraaristjm/Documents/LiMolec/zfRNAseq/20181018/20181018_DESeq2'"
      ],
      "text/latex": [
       "'/Users/angueyraaristjm/Documents/LiMolec/zfRNAseq/20181018/20181018\\_DESeq2'"
      ],
      "text/markdown": [
       "'/Users/angueyraaristjm/Documents/LiMolec/zfRNAseq/20181018/20181018_DESeq2'"
      ],
      "text/plain": [
       "[1] \"/Users/angueyraaristjm/Documents/LiMolec/zfRNAseq/20181018/20181018_DESeq2\""
      ]
     },
     "metadata": {},
     "output_type": "display_data"
    }
   ],
   "source": [
    "getwd()"
   ]
  },
  {
   "cell_type": "code",
   "execution_count": 5,
   "metadata": {},
   "outputs": [],
   "source": [
    "countData <- as.matrix(read.csv(\"gCount.csv\", row.names=\"gene_id\"))\n",
    "colData <- read.csv(\"PHENO_DATA.csv\", sep=\"\\t\", row.names=1)"
   ]
  },
  {
   "cell_type": "code",
   "execution_count": 6,
   "metadata": {},
   "outputs": [
    {
     "data": {
      "text/html": [
       "TRUE"
      ],
      "text/latex": [
       "TRUE"
      ],
      "text/markdown": [
       "TRUE"
      ],
      "text/plain": [
       "[1] TRUE"
      ]
     },
     "metadata": {},
     "output_type": "display_data"
    },
    {
     "name": "stderr",
     "output_type": "stream",
     "text": [
      "estimating size factors\n",
      "estimating dispersions\n",
      "gene-wise dispersion estimates\n",
      "mean-dispersion relationship\n",
      "final dispersion estimates\n",
      "fitting model and testing\n"
     ]
    },
    {
     "name": "stdout",
     "output_type": "stream",
     "text": [
      "\n",
      "out of 13520 with nonzero total read count\n",
      "adjusted p-value < 0.1\n",
      "LFC > 0 (up)       : 211, 1.6%\n",
      "LFC < 0 (down)     : 129, 0.95%\n",
      "outliers [1]       : 3044, 23%\n",
      "low counts [2]     : 2044, 15%\n",
      "(mean count < 4)\n",
      "[1] see 'cooksCutoff' argument of ?results\n",
      "[2] see 'independentFiltering' argument of ?results\n",
      "\n"
     ]
    }
   ],
   "source": [
    "countData <- countData[, rownames(colData)]\n",
    "all(rownames(colData) == colnames(countData))\n",
    "dds <- DESeqDataSetFromMatrix(countData = countData, colData = colData, design = ~photoreceptor)\n",
    "dds <- DESeq(dds)\n",
    "res <- results(dds)\n",
    "summary(res)\n",
    "# sum(res$padj < 0.1, na.rm=TRUE)\n",
    "# write.csv(res, file = \"/data/angueyraaristjm/20181018_DESeq2/results.csv\")\n"
   ]
  },
  {
   "cell_type": "code",
   "execution_count": 17,
   "metadata": {},
   "outputs": [],
   "source": [
    "resOrdered <- res[order(res$padj),]\n",
    "write.csv(resOrdered, file = \"results.csv\")"
   ]
  },
  {
   "cell_type": "code",
   "execution_count": 22,
   "metadata": {},
   "outputs": [],
   "source": [
    "resdata <- merge(as.data.frame(res), as.data.frame(counts(dds,normalized =FALSE)), by = 'row.names', sort = FALSE)\n",
    "resdata <- resdata[order(resdata$padj),]\n",
    "names(resdata)[1] <- 'symbol'\n",
    "write.csv(resdata, file = \"results_rawdata.csv\")\n",
    "\n",
    "resdata <- merge(as.data.frame(res), as.data.frame(counts(dds,normalized =TRUE)), by = 'row.names', sort = FALSE)\n",
    "resdata <- resdata[order(resdata$padj),]\n",
    "names(resdata)[1] <- 'symbol'\n",
    "write.csv(resdata, file = \"results_normdata.csv\")"
   ]
  },
  {
   "cell_type": "code",
   "execution_count": 23,
   "metadata": {},
   "outputs": [
    {
     "data": {
      "text/html": [
       "<table>\n",
       "<thead><tr><th></th><th scope=col>symbol</th><th scope=col>baseMean</th><th scope=col>log2FoldChange</th><th scope=col>lfcSE</th><th scope=col>stat</th><th scope=col>pvalue</th><th scope=col>padj</th><th scope=col>X04_zfUV.gtf</th><th scope=col>X05_zfUV.gtf</th><th scope=col>X06_zfUV.gtf</th><th scope=col>X07_zfUV.gtf</th><th scope=col>X08_zfS.gtf</th><th scope=col>X09_zfS.gtf</th><th scope=col>X10_zfS.gtf</th><th scope=col>X11_zfS.gtf</th></tr></thead>\n",
       "<tbody>\n",
       "\t<tr><th scope=row>1386</th><td>abcc8b           </td><td>142.31274        </td><td> 24.44194        </td><td>3.383648         </td><td> 7.223549        </td><td>5.064821e-13     </td><td>1.767334e-10     </td><td>340.8746         </td><td> 797.6273        </td><td>  0.0000         </td><td>  0.0000         </td><td>0                </td><td>  0.0000         </td><td>  0.0000         </td><td>  0.0000         </td></tr>\n",
       "\t<tr><th scope=row>1770</th><td>hnrnpul1         </td><td>267.56757        </td><td> 25.32257        </td><td>3.383518         </td><td> 7.484095        </td><td>7.204198e-14     </td><td>1.767334e-10     </td><td>  0.0000         </td><td>1457.7327        </td><td>  0.0000         </td><td>682.8079         </td><td>0                </td><td>  0.0000         </td><td>  0.0000         </td><td>  0.0000         </td></tr>\n",
       "\t<tr><th scope=row>2839</th><td>msto1            </td><td>130.28707        </td><td> 24.31773        </td><td>3.383673         </td><td> 7.186784        </td><td>6.633501e-13     </td><td>1.767334e-10     </td><td>  0.0000         </td><td> 581.7179        </td><td>460.5787         </td><td>  0.0000         </td><td>0                </td><td>  0.0000         </td><td>  0.0000         </td><td>  0.0000         </td></tr>\n",
       "\t<tr><th scope=row>4289</th><td>mib2             </td><td> 90.28003        </td><td>-24.29415        </td><td>3.376163         </td><td>-7.195787        </td><td>6.210140e-13     </td><td>1.767334e-10     </td><td>  0.0000         </td><td>   0.0000        </td><td>  0.0000         </td><td>  0.0000         </td><td>0                </td><td>362.2895         </td><td>359.9508         </td><td>  0.0000         </td></tr>\n",
       "\t<tr><th scope=row>5095</th><td>si:ch1073-342h5.2</td><td> 79.75580        </td><td>-24.12568        </td><td>3.346402         </td><td>-7.209438        </td><td>5.618340e-13     </td><td>1.767334e-10     </td><td>  0.0000         </td><td>   0.0000        </td><td>  0.0000         </td><td>  0.0000         </td><td>0                </td><td>395.4993         </td><td>  0.0000         </td><td>242.5471         </td></tr>\n",
       "\t<tr><th scope=row>5213</th><td>fkbp14           </td><td>142.12461        </td><td>-24.91801        </td><td>3.383614         </td><td>-7.364320        </td><td>1.780526e-13     </td><td>1.767334e-10     </td><td>  0.0000         </td><td>   0.0000        </td><td>  0.0000         </td><td>  0.0000         </td><td>0                </td><td>  0.0000         </td><td>412.9668         </td><td>724.0301         </td></tr>\n",
       "</tbody>\n",
       "</table>\n"
      ],
      "text/latex": [
       "\\begin{tabular}{r|lllllllllllllll}\n",
       "  & symbol & baseMean & log2FoldChange & lfcSE & stat & pvalue & padj & X04\\_zfUV.gtf & X05\\_zfUV.gtf & X06\\_zfUV.gtf & X07\\_zfUV.gtf & X08\\_zfS.gtf & X09\\_zfS.gtf & X10\\_zfS.gtf & X11\\_zfS.gtf\\\\\n",
       "\\hline\n",
       "\t1386 & abcc8b            & 142.31274         &  24.44194         & 3.383648          &  7.223549         & 5.064821e-13      & 1.767334e-10      & 340.8746          &  797.6273         &   0.0000          &   0.0000          & 0                 &   0.0000          &   0.0000          &   0.0000         \\\\\n",
       "\t1770 & hnrnpul1          & 267.56757         &  25.32257         & 3.383518          &  7.484095         & 7.204198e-14      & 1.767334e-10      &   0.0000          & 1457.7327         &   0.0000          & 682.8079          & 0                 &   0.0000          &   0.0000          &   0.0000         \\\\\n",
       "\t2839 & msto1             & 130.28707         &  24.31773         & 3.383673          &  7.186784         & 6.633501e-13      & 1.767334e-10      &   0.0000          &  581.7179         & 460.5787          &   0.0000          & 0                 &   0.0000          &   0.0000          &   0.0000         \\\\\n",
       "\t4289 & mib2              &  90.28003         & -24.29415         & 3.376163          & -7.195787         & 6.210140e-13      & 1.767334e-10      &   0.0000          &    0.0000         &   0.0000          &   0.0000          & 0                 & 362.2895          & 359.9508          &   0.0000         \\\\\n",
       "\t5095 & si:ch1073-342h5.2 &  79.75580         & -24.12568         & 3.346402          & -7.209438         & 5.618340e-13      & 1.767334e-10      &   0.0000          &    0.0000         &   0.0000          &   0.0000          & 0                 & 395.4993          &   0.0000          & 242.5471         \\\\\n",
       "\t5213 & fkbp14            & 142.12461         & -24.91801         & 3.383614          & -7.364320         & 1.780526e-13      & 1.767334e-10      &   0.0000          &    0.0000         &   0.0000          &   0.0000          & 0                 &   0.0000          & 412.9668          & 724.0301         \\\\\n",
       "\\end{tabular}\n"
      ],
      "text/markdown": [
       "\n",
       "| <!--/--> | symbol | baseMean | log2FoldChange | lfcSE | stat | pvalue | padj | X04_zfUV.gtf | X05_zfUV.gtf | X06_zfUV.gtf | X07_zfUV.gtf | X08_zfS.gtf | X09_zfS.gtf | X10_zfS.gtf | X11_zfS.gtf | \n",
       "|---|---|---|---|---|---|\n",
       "| 1386 | abcc8b            | 142.31274         |  24.44194         | 3.383648          |  7.223549         | 5.064821e-13      | 1.767334e-10      | 340.8746          |  797.6273         |   0.0000          |   0.0000          | 0                 |   0.0000          |   0.0000          |   0.0000          | \n",
       "| 1770 | hnrnpul1          | 267.56757         |  25.32257         | 3.383518          |  7.484095         | 7.204198e-14      | 1.767334e-10      |   0.0000          | 1457.7327         |   0.0000          | 682.8079          | 0                 |   0.0000          |   0.0000          |   0.0000          | \n",
       "| 2839 | msto1             | 130.28707         |  24.31773         | 3.383673          |  7.186784         | 6.633501e-13      | 1.767334e-10      |   0.0000          |  581.7179         | 460.5787          |   0.0000          | 0                 |   0.0000          |   0.0000          |   0.0000          | \n",
       "| 4289 | mib2              |  90.28003         | -24.29415         | 3.376163          | -7.195787         | 6.210140e-13      | 1.767334e-10      |   0.0000          |    0.0000         |   0.0000          |   0.0000          | 0                 | 362.2895          | 359.9508          |   0.0000          | \n",
       "| 5095 | si:ch1073-342h5.2 |  79.75580         | -24.12568         | 3.346402          | -7.209438         | 5.618340e-13      | 1.767334e-10      |   0.0000          |    0.0000         |   0.0000          |   0.0000          | 0                 | 395.4993          |   0.0000          | 242.5471          | \n",
       "| 5213 | fkbp14            | 142.12461         | -24.91801         | 3.383614          | -7.364320         | 1.780526e-13      | 1.767334e-10      |   0.0000          |    0.0000         |   0.0000          |   0.0000          | 0                 |   0.0000          | 412.9668          | 724.0301          | \n",
       "\n",
       "\n"
      ],
      "text/plain": [
       "     symbol            baseMean  log2FoldChange lfcSE    stat      pvalue      \n",
       "1386 abcc8b            142.31274  24.44194      3.383648  7.223549 5.064821e-13\n",
       "1770 hnrnpul1          267.56757  25.32257      3.383518  7.484095 7.204198e-14\n",
       "2839 msto1             130.28707  24.31773      3.383673  7.186784 6.633501e-13\n",
       "4289 mib2               90.28003 -24.29415      3.376163 -7.195787 6.210140e-13\n",
       "5095 si:ch1073-342h5.2  79.75580 -24.12568      3.346402 -7.209438 5.618340e-13\n",
       "5213 fkbp14            142.12461 -24.91801      3.383614 -7.364320 1.780526e-13\n",
       "     padj         X04_zfUV.gtf X05_zfUV.gtf X06_zfUV.gtf X07_zfUV.gtf\n",
       "1386 1.767334e-10 340.8746      797.6273      0.0000       0.0000    \n",
       "1770 1.767334e-10   0.0000     1457.7327      0.0000     682.8079    \n",
       "2839 1.767334e-10   0.0000      581.7179    460.5787       0.0000    \n",
       "4289 1.767334e-10   0.0000        0.0000      0.0000       0.0000    \n",
       "5095 1.767334e-10   0.0000        0.0000      0.0000       0.0000    \n",
       "5213 1.767334e-10   0.0000        0.0000      0.0000       0.0000    \n",
       "     X08_zfS.gtf X09_zfS.gtf X10_zfS.gtf X11_zfS.gtf\n",
       "1386 0             0.0000      0.0000      0.0000   \n",
       "1770 0             0.0000      0.0000      0.0000   \n",
       "2839 0             0.0000      0.0000      0.0000   \n",
       "4289 0           362.2895    359.9508      0.0000   \n",
       "5095 0           395.4993      0.0000    242.5471   \n",
       "5213 0             0.0000    412.9668    724.0301   "
      ]
     },
     "metadata": {},
     "output_type": "display_data"
    }
   ],
   "source": [
    "head(resdata)"
   ]
  },
  {
   "cell_type": "code",
   "execution_count": 24,
   "metadata": {},
   "outputs": [
    {
     "data": {
      "text/html": [
       "<ol class=list-inline>\n",
       "\t<li>'Intercept'</li>\n",
       "\t<li>'photoreceptor_UV_vs_S'</li>\n",
       "</ol>\n"
      ],
      "text/latex": [
       "\\begin{enumerate*}\n",
       "\\item 'Intercept'\n",
       "\\item 'photoreceptor\\_UV\\_vs\\_S'\n",
       "\\end{enumerate*}\n"
      ],
      "text/markdown": [
       "1. 'Intercept'\n",
       "2. 'photoreceptor_UV_vs_S'\n",
       "\n",
       "\n"
      ],
      "text/plain": [
       "[1] \"Intercept\"             \"photoreceptor_UV_vs_S\""
      ]
     },
     "metadata": {},
     "output_type": "display_data"
    },
    {
     "name": "stderr",
     "output_type": "stream",
     "text": [
      "using 'apeglm' for LFC shrinkage. If used in published research, please cite:\n",
      "    Zhu, A., Ibrahim, J.G., Love, M.I. (2018) Heavy-tailed prior distributions for\n",
      "    sequence count data: removing the noise and preserving large differences.\n",
      "    Bioinformatics. https://doi.org/10.1093/bioinformatics/bty895\n"
     ]
    },
    {
     "data": {
      "text/plain": [
       "log2 fold change (MAP): photoreceptor UV vs S \n",
       "Wald test p-value: photoreceptor UV vs S \n",
       "DataFrame with 28442 rows and 5 columns\n",
       "                         baseMean     log2FoldChange            lfcSE\n",
       "                        <numeric>          <numeric>        <numeric>\n",
       "foxq2            1592.38581303657 -0.724379947935154 1.41423188013175\n",
       "CU657925.1                      0                 NA               NA\n",
       "neurl2                          0                 NA               NA\n",
       "neurl4           22.7952108960837 -0.303278311490007  1.0888752633247\n",
       "lamc2                           0                 NA               NA\n",
       "...                           ...                ...              ...\n",
       "si:ch73-314g15.3                0                 NA               NA\n",
       "ptgdsa                          0                 NA               NA\n",
       "abcb6b                          0                 NA               NA\n",
       "abcb6a            5.1936653738911  0.299499622852028 1.08399975657478\n",
       "ccdc87                          0                 NA               NA\n",
       "                             pvalue              padj\n",
       "                          <numeric>         <numeric>\n",
       "foxq2            0.0212349918871135 0.259122216486456\n",
       "CU657925.1                       NA                NA\n",
       "neurl2                           NA                NA\n",
       "neurl4                           NA                NA\n",
       "lamc2                            NA                NA\n",
       "...                             ...               ...\n",
       "si:ch73-314g15.3                 NA                NA\n",
       "ptgdsa                           NA                NA\n",
       "abcb6b                           NA                NA\n",
       "abcb6a                           NA                NA\n",
       "ccdc87                           NA                NA"
      ]
     },
     "metadata": {},
     "output_type": "display_data"
    }
   ],
   "source": [
    "# Log fold change shrinkage for visualization and ranking\n",
    "# resultsNames(dds)\n",
    "resLFC <- lfcShrink(dds, coef=\"photoreceptor_UV_vs_S\", type=\"apeglm\")\n",
    "resLFC\n",
    "# write.csv(resLFC, file = \"results_LFCestimates.csv\")\n",
    "# REFERENCE: Zhu, A., Ibrahim, J.G., Love, M.I. (2018) Heavy-tailed prior distributions for sequence count data: removing the noise and preserving large differences. bioRxiv. 10.1101/303255"
   ]
  },
  {
   "cell_type": "code",
   "execution_count": 25,
   "metadata": {},
   "outputs": [],
   "source": [
    "resdata <- merge(as.data.frame(resLFC), as.data.frame(counts(dds,normalized =TRUE)), by = 'row.names', sort = FALSE)\n",
    "resdata <- resdata[order(resdata$padj),]\n",
    "names(resdata)[1] <- 'symbol'\n",
    "write.csv(resdata, file = \"results_LFC_normdata.csv\")"
   ]
  },
  {
   "cell_type": "markdown",
   "metadata": {},
   "source": [
    "### Trying to put other into in results"
   ]
  },
  {
   "cell_type": "code",
   "execution_count": 8,
   "metadata": {},
   "outputs": [
    {
     "data": {
      "text/html": [
       "<ol class=list-inline>\n",
       "\t<li>'ACCNUM'</li>\n",
       "\t<li>'ALIAS'</li>\n",
       "\t<li>'ENSEMBL'</li>\n",
       "\t<li>'ENSEMBLPROT'</li>\n",
       "\t<li>'ENSEMBLTRANS'</li>\n",
       "\t<li>'ENTREZID'</li>\n",
       "\t<li>'ENZYME'</li>\n",
       "\t<li>'EVIDENCE'</li>\n",
       "\t<li>'EVIDENCEALL'</li>\n",
       "\t<li>'GENENAME'</li>\n",
       "\t<li>'GO'</li>\n",
       "\t<li>'GOALL'</li>\n",
       "\t<li>'IPI'</li>\n",
       "\t<li>'ONTOLOGY'</li>\n",
       "\t<li>'ONTOLOGYALL'</li>\n",
       "\t<li>'PATH'</li>\n",
       "\t<li>'PFAM'</li>\n",
       "\t<li>'PMID'</li>\n",
       "\t<li>'PROSITE'</li>\n",
       "\t<li>'REFSEQ'</li>\n",
       "\t<li>'SYMBOL'</li>\n",
       "\t<li>'UNIGENE'</li>\n",
       "\t<li>'UNIPROT'</li>\n",
       "\t<li>'ZFIN'</li>\n",
       "</ol>\n"
      ],
      "text/latex": [
       "\\begin{enumerate*}\n",
       "\\item 'ACCNUM'\n",
       "\\item 'ALIAS'\n",
       "\\item 'ENSEMBL'\n",
       "\\item 'ENSEMBLPROT'\n",
       "\\item 'ENSEMBLTRANS'\n",
       "\\item 'ENTREZID'\n",
       "\\item 'ENZYME'\n",
       "\\item 'EVIDENCE'\n",
       "\\item 'EVIDENCEALL'\n",
       "\\item 'GENENAME'\n",
       "\\item 'GO'\n",
       "\\item 'GOALL'\n",
       "\\item 'IPI'\n",
       "\\item 'ONTOLOGY'\n",
       "\\item 'ONTOLOGYALL'\n",
       "\\item 'PATH'\n",
       "\\item 'PFAM'\n",
       "\\item 'PMID'\n",
       "\\item 'PROSITE'\n",
       "\\item 'REFSEQ'\n",
       "\\item 'SYMBOL'\n",
       "\\item 'UNIGENE'\n",
       "\\item 'UNIPROT'\n",
       "\\item 'ZFIN'\n",
       "\\end{enumerate*}\n"
      ],
      "text/markdown": [
       "1. 'ACCNUM'\n",
       "2. 'ALIAS'\n",
       "3. 'ENSEMBL'\n",
       "4. 'ENSEMBLPROT'\n",
       "5. 'ENSEMBLTRANS'\n",
       "6. 'ENTREZID'\n",
       "7. 'ENZYME'\n",
       "8. 'EVIDENCE'\n",
       "9. 'EVIDENCEALL'\n",
       "10. 'GENENAME'\n",
       "11. 'GO'\n",
       "12. 'GOALL'\n",
       "13. 'IPI'\n",
       "14. 'ONTOLOGY'\n",
       "15. 'ONTOLOGYALL'\n",
       "16. 'PATH'\n",
       "17. 'PFAM'\n",
       "18. 'PMID'\n",
       "19. 'PROSITE'\n",
       "20. 'REFSEQ'\n",
       "21. 'SYMBOL'\n",
       "22. 'UNIGENE'\n",
       "23. 'UNIPROT'\n",
       "24. 'ZFIN'\n",
       "\n",
       "\n"
      ],
      "text/plain": [
       " [1] \"ACCNUM\"       \"ALIAS\"        \"ENSEMBL\"      \"ENSEMBLPROT\"  \"ENSEMBLTRANS\"\n",
       " [6] \"ENTREZID\"     \"ENZYME\"       \"EVIDENCE\"     \"EVIDENCEALL\"  \"GENENAME\"    \n",
       "[11] \"GO\"           \"GOALL\"        \"IPI\"          \"ONTOLOGY\"     \"ONTOLOGYALL\" \n",
       "[16] \"PATH\"         \"PFAM\"         \"PMID\"         \"PROSITE\"      \"REFSEQ\"      \n",
       "[21] \"SYMBOL\"       \"UNIGENE\"      \"UNIPROT\"      \"ZFIN\"        "
      ]
     },
     "metadata": {},
     "output_type": "display_data"
    }
   ],
   "source": [
    "columns(org.Dr.eg.db)"
   ]
  },
  {
   "cell_type": "code",
   "execution_count": 26,
   "metadata": {},
   "outputs": [
    {
     "data": {
      "text/plain": [
       "[1] \"abcc8b\"            \"hnrnpul1\"          \"msto1\"            \n",
       "[4] \"mib2\"              \"si:ch1073-342h5.2\" \"fkbp14\"           "
      ]
     },
     "metadata": {},
     "output_type": "display_data"
    }
   ],
   "source": [
    "head(resdata[,c(\"symbol\")])"
   ]
  },
  {
   "cell_type": "code",
   "execution_count": 28,
   "metadata": {},
   "outputs": [
    {
     "name": "stderr",
     "output_type": "stream",
     "text": [
      "'select()' returned 1:many mapping between keys and columns\n"
     ]
    },
    {
     "data": {
      "text/html": [
       "<dl class=dl-horizontal>\n",
       "\t<dt>abcc8b</dt>\n",
       "\t\t<dd>'ATP-binding cassette, sub-family C (CFTR/MRP), member 8b'</dd>\n",
       "\t<dt>hnrnpul1</dt>\n",
       "\t\t<dd>'heterogeneous nuclear ribonucleoprotein U-like 1'</dd>\n",
       "\t<dt>msto1</dt>\n",
       "\t\t<dd>'misato 1, mitochondrial distribution and morphology regulator'</dd>\n",
       "\t<dt>mib2</dt>\n",
       "\t\t<dd>'mindbomb E3 ubiquitin protein ligase 2'</dd>\n",
       "\t<dt>si:ch1073-342h5.2</dt>\n",
       "\t\t<dd>'si:ch1073-342h5.2'</dd>\n",
       "\t<dt>fkbp14</dt>\n",
       "\t\t<dd>'FK506 binding protein 14'</dd>\n",
       "</dl>\n"
      ],
      "text/latex": [
       "\\begin{description*}\n",
       "\\item[abcc8b] 'ATP-binding cassette, sub-family C (CFTR/MRP), member 8b'\n",
       "\\item[hnrnpul1] 'heterogeneous nuclear ribonucleoprotein U-like 1'\n",
       "\\item[msto1] 'misato 1, mitochondrial distribution and morphology regulator'\n",
       "\\item[mib2] 'mindbomb E3 ubiquitin protein ligase 2'\n",
       "\\item[si:ch1073-342h5.2] 'si:ch1073-342h5.2'\n",
       "\\item[fkbp14] 'FK506 binding protein 14'\n",
       "\\end{description*}\n"
      ],
      "text/markdown": [
       "abcc8b\n",
       ":   'ATP-binding cassette, sub-family C (CFTR/MRP), member 8b'hnrnpul1\n",
       ":   'heterogeneous nuclear ribonucleoprotein U-like 1'msto1\n",
       ":   'misato 1, mitochondrial distribution and morphology regulator'mib2\n",
       ":   'mindbomb E3 ubiquitin protein ligase 2'si:ch1073-342h5.2\n",
       ":   'si:ch1073-342h5.2'fkbp14\n",
       ":   'FK506 binding protein 14'\n",
       "\n"
      ],
      "text/plain": [
       "                                                         abcc8b \n",
       "     \"ATP-binding cassette, sub-family C (CFTR/MRP), member 8b\" \n",
       "                                                       hnrnpul1 \n",
       "             \"heterogeneous nuclear ribonucleoprotein U-like 1\" \n",
       "                                                          msto1 \n",
       "\"misato 1, mitochondrial distribution and morphology regulator\" \n",
       "                                                           mib2 \n",
       "                       \"mindbomb E3 ubiquitin protein ligase 2\" \n",
       "                                              si:ch1073-342h5.2 \n",
       "                                            \"si:ch1073-342h5.2\" \n",
       "                                                         fkbp14 \n",
       "                                     \"FK506 binding protein 14\" "
      ]
     },
     "metadata": {},
     "output_type": "display_data"
    }
   ],
   "source": [
    "genenames <- mapIds(org.Dr.eg.db, keys=resdata[,c(\"symbol\")], column=c(\"GENENAME\"), keytype=\"SYMBOL\")\n",
    "head(genenames)\n",
    "# write.csv(genenames, file = \"genenames.csv\")\n",
    "\n",
    "# entrezid <- mapIds(org.Dr.eg.db, keys=resdata[,c(\"Row.names\")], column=c(\"ZFIN\"), keytype=\"SYMBOL\")\n",
    "# head(entrezid)\n",
    "# merge(res, annots, by.x=0, by.y=\"SYMBOL\")\n",
    "\n",
    "# names(resdata)[1] <- 'SYMBOL'\n",
    "# head(resdata)\n",
    "# test <- merge(resdata,genenames)"
   ]
  },
  {
   "cell_type": "code",
   "execution_count": null,
   "metadata": {},
   "outputs": [],
   "source": [
    "# MA plot\n",
    "#log2 fold changes attributable to a given variable over the mean of normalized counts for all the samples in the DESeqDataSet. Points will be colored red if the adjusted p value is less than 0.1. Points which fall out of the window are plotted as open triangles pointing either up or down.\n",
    "plotMA(res, ylim=c(-20,20)) \n",
    "# to remove noise from log2 changes, it's better to visualize shrunken version\n",
    "plotMA(resLFC, ylim=c(-20,20))\n",
    "\n",
    "#Plot is supposed to be interactive and genes could be recovered using this:\n",
    "# idx <- identify(res$baseMean, res$log2FoldChange)\n",
    "# rownames(res)[idx]"
   ]
  },
  {
   "cell_type": "code",
   "execution_count": 31,
   "metadata": {},
   "outputs": [
    {
     "data": {
      "image/png": "[encoded data removed]",
      "text/plain": [
       "Plot with title \"rho\""
      ]
     },
     "metadata": {},
     "output_type": "display_data",
     "source": "R display func"
    }
   ],
   "source": [
    "# plot a single gene: counts (normalized by seq depth and +0.5 for log plotting)\n",
    "plotCounts(dds, gene=\"rho\", intgroup=\"photoreceptor\", col = 'blue')"
   ]
  },
  {
   "cell_type": "code",
   "execution_count": null,
   "metadata": {},
   "outputs": [],
   "source": [
    "# more customizable plot of a single gene: counts (normalized by seq depth and +0.5 for log plotting)\n",
    "data <- plotCounts(dds, gene=\"opn1sw1\", intgroup=c(\"photoreceptor\"), returnData=TRUE)\n",
    "data\n",
    "ggplot(data, aes(x=photoreceptor, y=count, color=photoreceptor)) +\n",
    "  scale_y_log10() + \n",
    "  geom_point(position=position_jitter(width=.1,height=0))"
   ]
  },
  {
   "cell_type": "code",
   "execution_count": null,
   "metadata": {},
   "outputs": [],
   "source": [
    "# mcols(resLFC)$description\n",
    "head(df)"
   ]
  },
  {
   "cell_type": "code",
   "execution_count": null,
   "metadata": {},
   "outputs": [],
   "source": [
    "# visualize as heatmap\n",
    "n_genes = 10\n",
    "library(\"pheatmap\")\n",
    "ntd <- normTransform(dds)\n",
    "select <- order(rowMeans(counts(dds,normalized=TRUE)),\n",
    "                decreasing=TRUE)[1:n_genes]\n",
    "df <- as.data.frame(colData(dds)[c(\"photoreceptor\")])\n",
    "assay(ntd)[select,]\n",
    "pheatmap(assay(ntd)[select,], cluster_rows=FALSE, show_rownames=FALSE,\n",
    "         cluster_cols=FALSE, annotation_col=df)"
   ]
  },
  {
   "cell_type": "code",
   "execution_count": null,
   "metadata": {},
   "outputs": [],
   "source": [
    "# sampleDists <- dist(t(assay(ntd)))\n",
    "# sampleDists\n",
    "# library(\"RColorBrewer\")\n",
    "# sampleDistMatrix <- as.matrix(sampleDists)\n",
    "# rownames(sampleDistMatrix) <- paste(ntd$photoreceptor, sep=\"-\")\n",
    "# colnames(sampleDistMatrix) <- NULL\n",
    "# colors <- colorRampPalette( rev(brewer.pal(9, \"Blues\")) )(255)\n",
    "# pheatmap(sampleDistMatrix,\n",
    "#          clustering_distance_rows=sampleDists,\n",
    "#          clustering_distance_cols=sampleDists,\n",
    "#          col=colors)\n",
    "pcaData"
   ]
  },
  {
   "cell_type": "code",
   "execution_count": null,
   "metadata": {},
   "outputs": [],
   "source": [
    "#built-in\n",
    "# plotPCA(ntd, intgroup=c(\"photoreceptor\"))\n",
    "\n",
    "##ggplot\n",
    "pcaData <- plotPCA(ntd, intgroup=c(\"photoreceptor\"), returnData=TRUE)\n",
    "percentVar <- round(100 * attr(pcaData, \"percentVar\"))\n",
    "ggplot(pcaData, aes(PC1, PC2, color=photoreceptor)) +\n",
    "  geom_point(size=3) +\n",
    "  xlab(paste0(\"PC1: \",percentVar[1],\"% variance\")) +\n",
    "  ylab(paste0(\"PC2: \",percentVar[2],\"% variance\")) + \n",
    "  coord_fixed()"
   ]
  },
  {
   "cell_type": "code",
   "execution_count": null,
   "metadata": {},
   "outputs": [],
   "source": [
    "plotDispEsts(dds)\n",
    "#probably means that data should be prefiltered. Maybe remove all lines with very low counts"
   ]
  },
  {
   "cell_type": "code",
   "execution_count": null,
   "metadata": {},
   "outputs": [
    {
     "name": "stderr",
     "output_type": "stream",
     "text": [
      "Loading required package: shiny\n",
      "\n",
      "Listening on http://127.0.0.1:7462\n",
      "Coordinate system already present. Adding new coordinate system, which will replace the existing one.\n",
      "Loading required package: org.Hs.eg.db\n",
      "Warning message in library(package, lib.loc = lib.loc, character.only = TRUE, logical.return = TRUE, :\n",
      "\"there is no package called 'org.Hs.eg.db'\"Loading required package: org.Mm.eg.db\n",
      "Warning message in library(package, lib.loc = lib.loc, character.only = TRUE, logical.return = TRUE, :\n",
      "\"there is no package called 'org.Mm.eg.db'\""
     ]
    },
    {
     "data": {
      "image/png": "[encoded data removed]",
      "text/plain": [
       "plot without title"
      ]
     },
     "metadata": {},
     "output_type": "display_data",
     "source": "R display func"
    }
   ],
   "source": [
    "pcaExplorer(dds = dds)"
   ]
  },
  {
   "cell_type": "code",
   "execution_count": null,
   "metadata": {},
   "outputs": [],
   "source": []
  }
 ],
 "metadata": {
  "kernelspec": {
   "display_name": "R",
   "language": "R",
   "name": "ir"
  },
  "language_info": {
   "codemirror_mode": "r",
   "file_extension": ".r",
   "mimetype": "text/x-r-source",
   "name": "R",
   "pygments_lexer": "r",
   "version": "3.5.1"
  }
 },
 "nbformat": 4,
 "nbformat_minor": 2
}
