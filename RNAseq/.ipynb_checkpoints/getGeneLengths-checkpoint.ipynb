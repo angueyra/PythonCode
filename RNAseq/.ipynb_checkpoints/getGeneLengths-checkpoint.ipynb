{
 "cells": [
  {
   "cell_type": "markdown",
   "metadata": {},
   "source": [
    "### Stolen from: \n",
    "https://github.com/dpryan79/Answers/blob/master/SEQanswers_42420/GTF2LengthGC.R"
   ]
  },
  {
   "cell_type": "code",
   "execution_count": 1,
   "metadata": {},
   "outputs": [
    {
     "ename": "ERROR",
     "evalue": "Error in library(GenomicRanges): there is no package called ‘GenomicRanges’\n",
     "output_type": "error",
     "traceback": [
      "Error in library(GenomicRanges): there is no package called ‘GenomicRanges’\nTraceback:\n",
      "1. library(GenomicRanges)",
      "2. stop(txt, domain = NA)"
     ]
    }
   ],
   "source": [
    "library(GenomicRanges)\n",
    "library(rtracklayer)\n",
    "library(Rsamtools)"
   ]
  },
  {
   "cell_type": "code",
   "execution_count": null,
   "metadata": {},
   "outputs": [],
   "source": [
    "library(GenomicRanges)\n",
    "library(rtracklayer)\n",
    "library(Rsamtools)\n",
    "\n",
    "GTFfile = \"/home/ryand/Documents/Misc/Mus_musculus/Ensembl/GRCm38.71/Annotation/Mus_musculus.GRCm38.71.gtf\"\n",
    "FASTAfile = \"/home/ryand/Documents/Misc/Mus_musculus/Ensembl/GRCm38.71/Sequence/Mus_musculus.GRCm38.71.dna.toplevel.fa\"\n",
    "\n",
    "#Load the annotation and reduce it\n",
    "GTF <- import.gff(GTFfile, format=\"gtf\", genome=\"GRCm38.71\", asRangedData=F, feature.type=\"exon\")\n",
    "grl <- reduce(split(GTF, elementMetadata(GTF)$gene_id))\n",
    "reducedGTF <- unlist(grl, use.names=T)\n",
    "elementMetadata(reducedGTF)$gene_id <- rep(names(grl), elementLengths(grl))\n",
    "\n",
    "#Open the fasta file\n",
    "FASTA <- FaFile(FASTAfile)\n",
    "open(FASTA)\n",
    "\n",
    "#Add the GC numbers\n",
    "elementMetadata(reducedGTF)$nGCs <- letterFrequency(getSeq(FASTA, reducedGTF), \"GC\")[,1]\n",
    "elementMetadata(reducedGTF)$widths <- width(reducedGTF)\n",
    "\n",
    "#Create a list of the ensembl_id/GC/length\n",
    "calc_GC_length <- function(x) {\n",
    "    nGCs = sum(elementMetadata(x)$nGCs)\n",
    "    width = sum(elementMetadata(x)$widths)\n",
    "    c(width, nGCs/width)\n",
    "}\n",
    "output <- t(sapply(split(reducedGTF, elementMetadata(reducedGTF)$gene_id), calc_GC_length))\n",
    "colnames(output) <- c(\"Length\", \"GC\")\n",
    "\n",
    "write.table(output, file=\"GC_lengths.tsv\", sep=\"\\t\")"
   ]
  }
 ],
 "metadata": {
  "kernelspec": {
   "display_name": "R",
   "language": "R",
   "name": "ir"
  },
  "language_info": {
   "codemirror_mode": "r",
   "file_extension": ".r",
   "mimetype": "text/x-r-source",
   "name": "R",
   "pygments_lexer": "r",
   "version": "3.5.1"
  }
 },
 "nbformat": 4,
 "nbformat_minor": 2
}
