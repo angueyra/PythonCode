{
 "cells": [
  {
   "cell_type": "markdown",
   "metadata": {},
   "source": [
    "### Testing\n",
    "> seems like pygal has extra dependencies, so that it doesn't play well with other software (e.g. Intaglio) and libraries (e.g. svgutils), but can be loaded in Chrome no problem.\n",
    "> Tracked this down a little, and main problem is that Intaglio can't interpret rgba(?,?,?,?), so this has to be replaced by rgb() and then \"opacity = xx%'\n",
    "\n",
    "> probably better to just switch to matplotlib or go back to Igor\n",
    "\n",
    "> Could try to replicate the hdf5 structure of matlab exports"
   ]
  },
  {
   "cell_type": "code",
   "execution_count": 6,
   "metadata": {},
   "outputs": [],
   "source": [
    "import pandas\n",
    "import importlib\n",
    "import svgwrite\n",
    "import math\n",
    "from svgutils.compose import *\n",
    "\n",
    "def svgreload():\n",
    "    !osascript -e 'tell application \"Google Chrome\" to tell the active tab of second window to reload'"
   ]
  },
  {
   "cell_type": "code",
   "execution_count": 24,
   "metadata": {},
   "outputs": [],
   "source": [
    "nx=2\n",
    "ny=1\n",
    "sizeX = str(nx * 325)\n",
    "sizeY = str(ny * 250 + 20)\n",
    "\n",
    "Figure(sizeX, sizeY,\n",
    "       SVG(\"hc00.svg\").scale(0.5),\n",
    "       SVG(\"nrxn3.svg\").scale(0.1),\n",
    "       ).tile(nx, ny).save(\"test.svg\")\n",
    "svgreload()"
   ]
  },
  {
   "cell_type": "code",
   "execution_count": 5,
   "metadata": {},
   "outputs": [
    {
     "name": "stdout",
     "output_type": "stream",
     "text": [
      "Collecting svgutils\n",
      "  Downloading https://files.pythonhosted.org/packages/79/da/4f7a31a55c247e304a338716e75d761f3dc9b50b220fcfaad7398668367e/svgutils-0.3.1-py2.py3-none-any.whl\n",
      "Requirement already satisfied: lxml in /Users/angueyra/anaconda3/lib/python3.6/site-packages (from svgutils) (4.2.5)\n",
      "Installing collected packages: svgutils\n",
      "Successfully installed svgutils-0.3.1\n"
     ]
    }
   ],
   "source": [
    "!pip install svgutils"
   ]
  },
  {
   "cell_type": "code",
   "execution_count": 19,
   "metadata": {},
   "outputs": [
    {
     "data": {
      "text/plain": [
       "'/Users/angueyra/Documents/PythonCode/Testing'"
      ]
     },
     "execution_count": 19,
     "metadata": {},
     "output_type": "execute_result"
    }
   ],
   "source": [
    "pwd"
   ]
  },
  {
   "cell_type": "code",
   "execution_count": 21,
   "metadata": {},
   "outputs": [
    {
     "name": "stdout",
     "output_type": "stream",
     "text": [
      "/Users/angueyra/Documents/PythonCode/RNAseq\n"
     ]
    }
   ],
   "source": [
    "cd '/Users/angueyra/Documents/PythonCode/RNAseq'"
   ]
  },
  {
   "cell_type": "code",
   "execution_count": 14,
   "metadata": {},
   "outputs": [],
   "source": [
    "nx=2\n",
    "ny=1\n",
    "sizeX = str(nx * 325)\n",
    "sizeY = str(ny * 250 + 20)\n",
    "\n",
    "Figure(sizeX, sizeY,\n",
    "       SVG(\"./hcPlots/hc00.svg\").scale(0.5),\n",
    "       SVG(\"./hcPlots/hc01.svg\").scale(0.5),\n",
    "       ).tile(nx, ny).save(\"test.svg\")\n",
    "svgreload()"
   ]
  },
  {
   "cell_type": "code",
   "execution_count": null,
   "metadata": {},
   "outputs": [],
   "source": []
  }
 ],
 "metadata": {
  "kernelspec": {
   "display_name": "Python 3",
   "language": "python",
   "name": "python3"
  },
  "language_info": {
   "codemirror_mode": {
    "name": "ipython",
    "version": 3
   },
   "file_extension": ".py",
   "mimetype": "text/x-python",
   "name": "python",
   "nbconvert_exporter": "python",
   "pygments_lexer": "ipython3",
   "version": "3.7.1"
  }
 },
 "nbformat": 4,
 "nbformat_minor": 2
}
