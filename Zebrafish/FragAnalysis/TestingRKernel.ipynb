{
 "cells": [
  {
   "cell_type": "code",
   "execution_count": 1,
   "metadata": {},
   "outputs": [
    {
     "name": "stderr",
     "output_type": "stream",
     "text": [
      "Bioconductor version 3.9 (BiocManager 1.30.10), R 3.6.1 (2019-07-05)\n",
      "\n",
      "Installing package(s) 'BiocManager'\n",
      "\n",
      "Updating HTML index of packages in '.Library'\n",
      "\n",
      "Making 'packages.html' ...\n",
      " done\n",
      "\n",
      "Old packages: 'askpass', 'backports', 'BH', 'bibtex', 'bit', 'bit64', 'blob',\n",
      "  'boot', 'broom', 'callr', 'caret', 'checkmate', 'class', 'cli', 'clipr',\n",
      "  'curl', 'data.table', 'DBI', 'dbplyr', 'digest', 'dplyr', 'edgeR',\n",
      "  'ellipsis', 'evaluate', 'fansi', 'forcats', 'formatR', 'fpc', 'fs',\n",
      "  'GenomicRanges', 'gh', 'git2r', 'glmnet', 'glue', 'gower', 'grpreg', 'haven',\n",
      "  'hexbin', 'hms', 'htmltools', 'httpuv', 'httr', 'ipred', 'IRanges',\n",
      "  'iterators', 'jsonlite', 'kernlab', 'KernSmooth', 'knitr', 'later',\n",
      "  'lattice', 'lava', 'locfit', 'lubridate', 'MASS', 'Matrix', 'matrixStats',\n",
      "  'mclust', 'mgcv', 'mime', 'ModelMetrics', 'modelr', 'mvtnorm', 'nlme',\n",
      "  'nnet', 'numDeriv', 'openssl', 'pillar', 'pkgbuild', 'pkgconfig', 'pkgload',\n",
      "  'plyr', 'prettyunits', 'processx', 'prodlim', 'progress', 'promises', 'ps',\n",
      "  'purrr', 'quantmod', 'R6', 'rcmdcheck', 'Rcpp', 'RcppArmadillo', 'RcppEigen',\n",
      "  'RcppNumerical', 'RCurl', 'recipes', 'remotes', 'repr', 'reprex', 'reshape2',\n",
      "  'rlang', 'rmarkdown', 'robustbase', 'roxygen2', 'RSQLite', 'rstudioapi',\n",
      "  'rvest', 'S4Vectors', 'scales', 'selectr', 'shiny', 'SparseM', 'spatial',\n",
      "  'SQUAREM', 'stringi', 'survival', 'sys', 'testthat', 'tibble', 'tidyr',\n",
      "  'tidyselect', 'tidyverse', 'tinytex', 'TTR', 'usethis', 'uuid', 'vctrs',\n",
      "  'whisker', 'withr', 'xfun', 'XML', 'xml2', 'xts', 'yaml', 'zoo'\n",
      "\n"
     ]
    }
   ],
   "source": [
    "BiocManager::install(c(\"BiocManager\"))"
   ]
  },
  {
   "cell_type": "code",
   "execution_count": 8,
   "metadata": {},
   "outputs": [
    {
     "name": "stderr",
     "output_type": "stream",
     "text": [
      "Bioconductor version 3.9 (BiocManager 1.30.10), R 3.6.1 (2019-07-05)\n",
      "\n",
      "Installing package(s) 'ggplot2'\n",
      "\n",
      "also installing the dependency ‘isoband’\n",
      "\n",
      "\n",
      "Warning message in install.packages(...):\n",
      "“installation of package ‘isoband’ had non-zero exit status”\n",
      "Warning message in install.packages(...):\n",
      "“installation of package ‘ggplot2’ had non-zero exit status”\n",
      "Updating HTML index of packages in '.Library'\n",
      "\n",
      "Making 'packages.html' ...\n",
      " done\n",
      "\n",
      "Old packages: 'askpass', 'backports', 'BH', 'bibtex', 'bit', 'bit64', 'blob',\n",
      "  'boot', 'broom', 'callr', 'caret', 'checkmate', 'class', 'cli', 'clipr',\n",
      "  'curl', 'data.table', 'DBI', 'dbplyr', 'digest', 'dplyr', 'edgeR',\n",
      "  'ellipsis', 'evaluate', 'fansi', 'forcats', 'formatR', 'fpc', 'fs',\n",
      "  'GenomicRanges', 'gh', 'git2r', 'glmnet', 'glue', 'gower', 'grpreg', 'haven',\n",
      "  'hexbin', 'hms', 'htmltools', 'httpuv', 'httr', 'ipred', 'IRanges',\n",
      "  'iterators', 'jsonlite', 'kernlab', 'KernSmooth', 'knitr', 'later',\n",
      "  'lattice', 'lava', 'locfit', 'lubridate', 'MASS', 'Matrix', 'matrixStats',\n",
      "  'mclust', 'mgcv', 'mime', 'ModelMetrics', 'modelr', 'mvtnorm', 'nlme',\n",
      "  'nnet', 'numDeriv', 'openssl', 'pillar', 'pkgbuild', 'pkgconfig', 'pkgload',\n",
      "  'plyr', 'prettyunits', 'processx', 'prodlim', 'progress', 'promises', 'ps',\n",
      "  'purrr', 'quantmod', 'R6', 'rcmdcheck', 'Rcpp', 'RcppArmadillo', 'RcppEigen',\n",
      "  'RcppNumerical', 'RCurl', 'recipes', 'remotes', 'repr', 'reprex', 'reshape2',\n",
      "  'rlang', 'rmarkdown', 'robustbase', 'roxygen2', 'RSQLite', 'rstudioapi',\n",
      "  'rvest', 'S4Vectors', 'scales', 'selectr', 'shiny', 'SparseM', 'spatial',\n",
      "  'SQUAREM', 'stringi', 'survival', 'sys', 'testthat', 'tibble', 'tidyr',\n",
      "  'tidyselect', 'tidyverse', 'tinytex', 'TTR', 'usethis', 'uuid', 'vctrs',\n",
      "  'whisker', 'withr', 'xfun', 'XML', 'xml2', 'xts', 'yaml', 'zoo'\n",
      "\n"
     ]
    }
   ],
   "source": [
    "BiocManager::install(c(\"ggplot2\"))"
   ]
  },
  {
   "cell_type": "code",
   "execution_count": 9,
   "metadata": {},
   "outputs": [
    {
     "ename": "ERROR",
     "evalue": "Error in library(\"ggplot2\"): there is no package called ‘ggplot2’\n",
     "output_type": "error",
     "traceback": [
      "Error in library(\"ggplot2\"): there is no package called ‘ggplot2’\nTraceback:\n",
      "1. library(\"ggplot2\")"
     ]
    }
   ],
   "source": [
    "library(\"Fragman\")\n",
    "library(\"ggplot2\")"
   ]
  },
  {
   "cell_type": "code",
   "execution_count": 10,
   "metadata": {},
   "outputs": [
    {
     "name": "stderr",
     "output_type": "stream",
     "text": [
      "Warning message in system(\"ls `R RHOME`/library | grep 00LOC\", intern = TRUE):\n",
      "“running command 'ls `R RHOME`/library | grep 00LOC' had status 1”\n"
     ]
    },
    {
     "data": {
      "text/html": [],
      "text/latex": [],
      "text/markdown": [],
      "text/plain": [
       "character(0)\n",
       "attr(,\"status\")\n",
       "[1] 1\n",
       "attr(,\"errmsg\")\n",
       "[1] \"Resource temporarily unavailable\""
      ]
     },
     "metadata": {},
     "output_type": "display_data"
    }
   ],
   "source": [
    "system(\"ls `R RHOME`/library | grep 00LOC\", intern=TRUE)"
   ]
  },
  {
   "cell_type": "code",
   "execution_count": null,
   "metadata": {},
   "outputs": [],
   "source": []
  }
 ],
 "metadata": {
  "kernelspec": {
   "display_name": "R",
   "language": "R",
   "name": "ir"
  },
  "language_info": {
   "codemirror_mode": "r",
   "file_extension": ".r",
   "mimetype": "text/x-r-source",
   "name": "R",
   "pygments_lexer": "r",
   "version": "3.6.1"
  }
 },
 "nbformat": 4,
 "nbformat_minor": 4
}
