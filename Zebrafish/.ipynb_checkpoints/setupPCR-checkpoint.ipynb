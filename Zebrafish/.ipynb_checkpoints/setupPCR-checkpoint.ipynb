{
 "cells": [
  {
   "cell_type": "markdown",
   "metadata": {},
   "source": [
    "DNA lysis"
   ]
  },
  {
   "cell_type": "markdown",
   "metadata": {},
   "source": [
    "###### Phusion PCR setup:\n",
    "    DNA (1:10) dilution = 2 uL\n",
    "    Water = 10.4 uL\n",
    "    F primer (10 uL) = 1 uL\n",
    "    R primer (10 uL) = 1 uL\n",
    "    M13-FAM primer (10 uM) = 1 uL\n",
    "    Phusion polymerase = 0.2 uL\n",
    "    5x buffer = 4 uL\n",
    "    dNTP mix = 0.4 uL\n",
    "    "
   ]
  },
  {
   "cell_type": "code",
   "execution_count": 1,
   "metadata": {
    "collapsed": true
   },
   "outputs": [],
   "source": [
    "import numpy as np\n",
    "import pandas as pd\n",
    "\n",
    "class gene:\n",
    "    def __init__(self, gene_name, id_numbers):\n",
    "        self.name = gene_name\n",
    "        self.ids = id_numbers\n",
    "        self.n = len(self.ids.split(','))\n",
    "        self.string = self.name + '\\n (n='+ str(self.n) + ')'\n",
    "        \n",
    "        tested_Tms = {'tjp2a': 72, #inconsistent results here. Should order new primers. On 2017/06/07, bands present with 72C.\n",
    "                      'tjp2b': 64 ,\n",
    "                      'cadm1a': 64, #tested 67C on 2017/03/30 and bands disappeared\n",
    "                      'cadm1b': 67,\n",
    "                      'eml1': 67,\n",
    "                      'cpne3': 67,\n",
    "                      'nrxn3aS': 72,\n",
    "                      'nrxn3aL': 72,\n",
    "                      'nrxn3bS': 72,\n",
    "                      'nrxn3bL': 72,\n",
    "                     }\n",
    "        self.Tm = tested_Tms.get(self.name, 'default')\n",
    "# NORMAL Phusion\n",
    "# volumes  = [10.4, 4, 0.4, 1, 1, 1, 0.2];\n",
    "# names = ['Water','Buffer5x','dNTP mix','FWD','REV','M13-FAM','Phusion'];\n",
    "# MASTER MIX Phusion\n",
    "volumes  = [5, 1, 1, 1, 10];\n",
    "names = ['Water','FWD','REV','M13-FAM','PhusionMix2x'];\n",
    "PhusionDefault = pd.DataFrame(data=volumes, index=names, columns=['1x']);"
   ]
  },
  {
   "cell_type": "code",
   "execution_count": 2,
   "metadata": {
    "collapsed": true
   },
   "outputs": [],
   "source": [
    "genes=[];\n",
    "genes.append(gene('tjp2a',('6, 9, 13')));\n",
    "genes.append(gene('tjp2b',('6, 9, 13')));\n",
    "genes.append(gene('cadm1a',('13, 14')));\n",
    "genes.append(gene('cadm1b',('13, 14')));\n",
    "genes.append(gene('nrxn3aL',('9, 10, 11, 12, 13, 14, 15, 16')));\n",
    "genes.append(gene('nrxn3bL',('9, 10, 11, 12, 13, 14, 15, 16')));\n",
    "\n",
    "# genes.append(gene('tjp2b',('8, 9, 11')));\n",
    "# genes.append(gene('cadm1a',('10, 11, 12')));\n",
    "# genes.append(gene('cpne3',('11')));\n",
    "\n"
   ]
  },
  {
   "cell_type": "code",
   "execution_count": 8,
   "metadata": {},
   "outputs": [
    {
     "data": {
      "text/html": [
       "<div>\n",
       "<style>\n",
       "    .dataframe thead tr:only-child th {\n",
       "        text-align: right;\n",
       "    }\n",
       "\n",
       "    .dataframe thead th {\n",
       "        text-align: left;\n",
       "    }\n",
       "\n",
       "    .dataframe tbody tr th {\n",
       "        vertical-align: top;\n",
       "    }\n",
       "</style>\n",
       "<table border=\"1\" class=\"dataframe\">\n",
       "  <thead>\n",
       "    <tr style=\"text-align: right;\">\n",
       "      <th>-</th>\n",
       "      <th>1x</th>\n",
       "      <th>cadm1a\n",
       " (n=1)</th>\n",
       "      <th>cadm1b\n",
       " (n=1)</th>\n",
       "      <th>tjp2a\n",
       " (n=13)</th>\n",
       "      <th>nrxn3aL\n",
       " (n=2)</th>\n",
       "    </tr>\n",
       "  </thead>\n",
       "  <tbody>\n",
       "    <tr>\n",
       "      <th>Water</th>\n",
       "      <td>4.50</td>\n",
       "      <td>4.950</td>\n",
       "      <td>4.950</td>\n",
       "      <td>61.650</td>\n",
       "      <td>9.450</td>\n",
       "    </tr>\n",
       "    <tr>\n",
       "      <th>FWD</th>\n",
       "      <td>0.75</td>\n",
       "      <td>0.825</td>\n",
       "      <td>0.825</td>\n",
       "      <td>10.275</td>\n",
       "      <td>1.575</td>\n",
       "    </tr>\n",
       "    <tr>\n",
       "      <th>REV</th>\n",
       "      <td>0.75</td>\n",
       "      <td>0.825</td>\n",
       "      <td>0.825</td>\n",
       "      <td>10.275</td>\n",
       "      <td>1.575</td>\n",
       "    </tr>\n",
       "    <tr>\n",
       "      <th>PhusionMix2x</th>\n",
       "      <td>7.50</td>\n",
       "      <td>8.250</td>\n",
       "      <td>8.250</td>\n",
       "      <td>102.750</td>\n",
       "      <td>15.750</td>\n",
       "    </tr>\n",
       "  </tbody>\n",
       "</table>\n",
       "</div>"
      ],
      "text/plain": [
       "-               1x  cadm1a\\n (n=1)  cadm1b\\n (n=1)  tjp2a\\n (n=13)  \\\n",
       "Water         4.50           4.950           4.950          61.650   \n",
       "FWD           0.75           0.825           0.825          10.275   \n",
       "REV           0.75           0.825           0.825          10.275   \n",
       "PhusionMix2x  7.50           8.250           8.250         102.750   \n",
       "\n",
       "-             nrxn3aL\\n (n=2)  \n",
       "Water                   9.450  \n",
       "FWD                     1.575  \n",
       "REV                     1.575  \n",
       "PhusionMix2x           15.750  "
      ]
     },
     "execution_count": 8,
     "metadata": {},
     "output_type": "execute_result"
    }
   ],
   "source": [
    "# test PCR (half-volume reactions, no M13-FAM)\n",
    "# NORMAL Phusion\n",
    "# volumes  = [11.4, 4, 0.4, 1, 1, 0.2];\n",
    "# volumes=np.ndarray.tolist(np.divide(volumes,2))\n",
    "# names = ['Water','Buffer5x','dNTP mix','FWD','REV','Phusion'];\n",
    "# PhusionDefault = pd.DataFrame(data=volumes, index=names, columns=['1x']);\n",
    "# MASTER MIX Phusion\n",
    "volumes  = [6, 1, 1, 10];\n",
    "volumes=np.ndarray.tolist(np.multiply(volumes,3/4))\n",
    "names = ['Water','FWD','REV','PhusionMix2x'];\n",
    "PhusionDefault = pd.DataFrame(data=volumes, index=names, columns=['1x']);\n",
    "\n",
    "\n",
    "genes=[];\n",
    "genes.append(gene('cadm1a',('11C')));\n",
    "genes.append(gene('cadm1b',('11D')));\n",
    "genes.append(gene('tjp2a',('7B,7G,7H,8A,8E,8F,8G,8H,9B,11D,11F,12F,12G')));\n",
    "genes.append(gene('nrxn3aL',('7F,FG')));\n",
    "\n",
    "\n",
    "PCR = pd.DataFrame.copy(PhusionDefault)\n",
    "for g in genes:\n",
    "    PCR[g.string] = pd.Series(PCR['1x'] * round((g.n*1*1.05),1))\n",
    "PCR.columns.name = '-'\n",
    "PCR"
   ]
  },
  {
   "cell_type": "code",
   "execution_count": 10,
   "metadata": {},
   "outputs": [
    {
     "data": {
      "text/plain": [
       "[4.5, 0.75, 0.75, 7.5]"
      ]
     },
     "execution_count": 10,
     "metadata": {},
     "output_type": "execute_result"
    }
   ],
   "source": [
    "volumes"
   ]
  },
  {
   "cell_type": "code",
   "execution_count": 7,
   "metadata": {},
   "outputs": [
    {
     "data": {
      "text/html": [
       "<div>\n",
       "<style>\n",
       "    .dataframe thead tr:only-child th {\n",
       "        text-align: right;\n",
       "    }\n",
       "\n",
       "    .dataframe thead th {\n",
       "        text-align: left;\n",
       "    }\n",
       "\n",
       "    .dataframe tbody tr th {\n",
       "        vertical-align: top;\n",
       "    }\n",
       "</style>\n",
       "<table border=\"1\" class=\"dataframe\">\n",
       "  <thead>\n",
       "    <tr style=\"text-align: right;\">\n",
       "      <th>-</th>\n",
       "      <th>1x</th>\n",
       "      <th>cadm1a\n",
       " (n=1)</th>\n",
       "      <th>cadm1b\n",
       " (n=1)</th>\n",
       "      <th>tjp2a\n",
       " (n=13)</th>\n",
       "      <th>nrxn3aL\n",
       " (n=2)</th>\n",
       "    </tr>\n",
       "  </thead>\n",
       "  <tbody>\n",
       "    <tr>\n",
       "      <th>Water</th>\n",
       "      <td>4.50</td>\n",
       "      <td>37.8</td>\n",
       "      <td>37.8</td>\n",
       "      <td>491.4</td>\n",
       "      <td>75.6</td>\n",
       "    </tr>\n",
       "    <tr>\n",
       "      <th>FWD</th>\n",
       "      <td>0.75</td>\n",
       "      <td>6.3</td>\n",
       "      <td>6.3</td>\n",
       "      <td>81.9</td>\n",
       "      <td>12.6</td>\n",
       "    </tr>\n",
       "    <tr>\n",
       "      <th>REV</th>\n",
       "      <td>0.75</td>\n",
       "      <td>6.3</td>\n",
       "      <td>6.3</td>\n",
       "      <td>81.9</td>\n",
       "      <td>12.6</td>\n",
       "    </tr>\n",
       "    <tr>\n",
       "      <th>PhusionMix2x</th>\n",
       "      <td>7.50</td>\n",
       "      <td>63.0</td>\n",
       "      <td>63.0</td>\n",
       "      <td>819.0</td>\n",
       "      <td>126.0</td>\n",
       "    </tr>\n",
       "  </tbody>\n",
       "</table>\n",
       "</div>"
      ],
      "text/plain": [
       "-               1x  cadm1a\\n (n=1)  cadm1b\\n (n=1)  tjp2a\\n (n=13)  \\\n",
       "Water         4.50            37.8            37.8           491.4   \n",
       "FWD           0.75             6.3             6.3            81.9   \n",
       "REV           0.75             6.3             6.3            81.9   \n",
       "PhusionMix2x  7.50            63.0            63.0           819.0   \n",
       "\n",
       "-             nrxn3aL\\n (n=2)  \n",
       "Water                    75.6  \n",
       "FWD                      12.6  \n",
       "REV                      12.6  \n",
       "PhusionMix2x            126.0  "
      ]
     },
     "execution_count": 7,
     "metadata": {},
     "output_type": "execute_result"
    }
   ],
   "source": [
    "PCR = pd.DataFrame.copy(PhusionDefault)\n",
    "for g in genes:\n",
    "    PCR[g.string] = pd.Series(PCR['1x'] * round((g.n*8*1.05),1))\n",
    "PCR.columns.name = '-'\n",
    "PCR"
   ]
  },
  {
   "cell_type": "code",
   "execution_count": 9,
   "metadata": {},
   "outputs": [
    {
     "data": {
      "text/html": [
       "<div>\n",
       "<style>\n",
       "    .dataframe thead tr:only-child th {\n",
       "        text-align: right;\n",
       "    }\n",
       "\n",
       "    .dataframe thead th {\n",
       "        text-align: left;\n",
       "    }\n",
       "\n",
       "    .dataframe tbody tr th {\n",
       "        vertical-align: top;\n",
       "    }\n",
       "</style>\n",
       "<table border=\"1\" class=\"dataframe\">\n",
       "  <thead>\n",
       "    <tr style=\"text-align: right;\">\n",
       "      <th>gene</th>\n",
       "      <th>Tm (°C)</th>\n",
       "      <th>id#</th>\n",
       "    </tr>\n",
       "  </thead>\n",
       "  <tbody>\n",
       "    <tr>\n",
       "      <th>cadm1a</th>\n",
       "      <td>64</td>\n",
       "      <td>11C</td>\n",
       "    </tr>\n",
       "    <tr>\n",
       "      <th>cadm1b</th>\n",
       "      <td>67</td>\n",
       "      <td>11D</td>\n",
       "    </tr>\n",
       "    <tr>\n",
       "      <th>tjp2a</th>\n",
       "      <td>72</td>\n",
       "      <td>7B,7G,7H,8A,8E,8F,8G,8H,9B,11D,11F,12F,12G</td>\n",
       "    </tr>\n",
       "    <tr>\n",
       "      <th>nrxn3aL</th>\n",
       "      <td>72</td>\n",
       "      <td>7F,FG</td>\n",
       "    </tr>\n",
       "  </tbody>\n",
       "</table>\n",
       "</div>"
      ],
      "text/plain": [
       "gene     Tm (°C)                                         id#\n",
       "cadm1a        64                                         11C\n",
       "cadm1b        67                                         11D\n",
       "tjp2a         72  7B,7G,7H,8A,8E,8F,8G,8H,9B,11D,11F,12F,12G\n",
       "nrxn3aL       72                                       7F,FG"
      ]
     },
     "execution_count": 9,
     "metadata": {},
     "output_type": "execute_result"
    }
   ],
   "source": [
    "names = [];\n",
    "ids = [];\n",
    "tms = [];\n",
    "for g in genes:\n",
    "    names.append(g.name)\n",
    "    ids.append(g.ids)\n",
    "    tms.append(g.Tm)\n",
    "\n",
    "IDs = pd.DataFrame({'id#': ids, 'Tm (°C)' : tms}, index=names)\n",
    "IDs.columns.name = 'gene'\n",
    "#IDs[['id#','Tm (°C)']]\n",
    "IDs"
   ]
  },
  {
   "cell_type": "code",
   "execution_count": null,
   "metadata": {
    "collapsed": true
   },
   "outputs": [],
   "source": [
    "#Need to create html output into a letter sized\n",
    "PCR.to_html()"
   ]
  },
  {
   "cell_type": "code",
   "execution_count": null,
   "metadata": {
    "collapsed": true
   },
   "outputs": [],
   "source": [
    "IDs.to_html()"
   ]
  },
  {
   "cell_type": "code",
   "execution_count": null,
   "metadata": {
    "collapsed": true
   },
   "outputs": [],
   "source": []
  },
  {
   "cell_type": "code",
   "execution_count": null,
   "metadata": {
    "collapsed": true
   },
   "outputs": [],
   "source": []
  },
  {
   "cell_type": "code",
   "execution_count": 5,
   "metadata": {},
   "outputs": [
    {
     "name": "stdout",
     "output_type": "stream",
     "text": [
      "[ 9 10 11 12 13 14 15]\n"
     ]
    }
   ],
   "source": [
    "a=np.arange(9,16)\n",
    "print(a)"
   ]
  },
  {
   "cell_type": "code",
   "execution_count": 6,
   "metadata": {
    "collapsed": true
   },
   "outputs": [],
   "source": [
    "np.arange?"
   ]
  },
  {
   "cell_type": "code",
   "execution_count": null,
   "metadata": {
    "collapsed": true
   },
   "outputs": [],
   "source": []
  }
 ],
 "metadata": {
  "kernelspec": {
   "display_name": "Python 3",
   "language": "python",
   "name": "python3"
  },
  "language_info": {
   "codemirror_mode": {
    "name": "ipython",
    "version": 3
   },
   "file_extension": ".py",
   "mimetype": "text/x-python",
   "name": "python",
   "nbconvert_exporter": "python",
   "pygments_lexer": "ipython3",
   "version": "3.5.3"
  }
 },
 "nbformat": 4,
 "nbformat_minor": 1
}
