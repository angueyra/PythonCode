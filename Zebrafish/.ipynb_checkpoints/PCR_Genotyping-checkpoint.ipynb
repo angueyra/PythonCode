{
 "cells": [
  {
   "cell_type": "markdown",
   "metadata": {},
   "source": [
    "DNA lysis"
   ]
  },
  {
   "cell_type": "markdown",
   "metadata": {},
   "source": [
    "###### Phusion PCR setup:\n",
    "    DNA (1:10) dilution = 2 uL\n",
    "    Water = 10.4 uL\n",
    "    F primer (10 uL) = 1 uL\n",
    "    R primer (10 uL) = 1 uL\n",
    "    M13-FAM primer (10 uM) = 1 uL\n",
    "    Phusion polymerase = 0.2 uL\n",
    "    5x buffer = 4 uL\n",
    "    dNTP mix = 0.4 uL\n",
    "    \n",
    "    "
   ]
  },
  {
   "cell_type": "code",
   "execution_count": 1,
   "metadata": {
    "collapsed": true
   },
   "outputs": [],
   "source": [
    "import numpy as np\n",
    "import pandas as pd"
   ]
  },
  {
   "cell_type": "code",
   "execution_count": 2,
   "metadata": {
    "collapsed": true
   },
   "outputs": [],
   "source": [
    "volumes  = [10.4, 4, 0.4, 1, 1, 1, 0.2];\n",
    "names = ['Water','Buffer5x','dNTP mix','FWD','REV','M13-FAM','Phusion'];"
   ]
  },
  {
   "cell_type": "code",
   "execution_count": 9,
   "metadata": {
    "collapsed": false
   },
   "outputs": [
    {
     "data": {
      "text/html": [
       "<div>\n",
       "<table border=\"1\" class=\"dataframe\">\n",
       "  <thead>\n",
       "    <tr style=\"text-align: right;\">\n",
       "      <th></th>\n",
       "      <th>1x</th>\n",
       "    </tr>\n",
       "  </thead>\n",
       "  <tbody>\n",
       "    <tr>\n",
       "      <th>Water</th>\n",
       "      <td>10.4</td>\n",
       "    </tr>\n",
       "    <tr>\n",
       "      <th>Buffer5x</th>\n",
       "      <td>4.0</td>\n",
       "    </tr>\n",
       "    <tr>\n",
       "      <th>dNTP mix</th>\n",
       "      <td>0.4</td>\n",
       "    </tr>\n",
       "    <tr>\n",
       "      <th>FWD</th>\n",
       "      <td>1.0</td>\n",
       "    </tr>\n",
       "    <tr>\n",
       "      <th>REV</th>\n",
       "      <td>1.0</td>\n",
       "    </tr>\n",
       "    <tr>\n",
       "      <th>M13-FAM</th>\n",
       "      <td>1.0</td>\n",
       "    </tr>\n",
       "    <tr>\n",
       "      <th>Phusion</th>\n",
       "      <td>0.2</td>\n",
       "    </tr>\n",
       "  </tbody>\n",
       "</table>\n",
       "</div>"
      ],
      "text/plain": [
       "            1x\n",
       "Water     10.4\n",
       "Buffer5x   4.0\n",
       "dNTP mix   0.4\n",
       "FWD        1.0\n",
       "REV        1.0\n",
       "M13-FAM    1.0\n",
       "Phusion    0.2"
      ]
     },
     "execution_count": 9,
     "metadata": {},
     "output_type": "execute_result"
    }
   ],
   "source": [
    "PhusionDefault = pd.DataFrame(data=volumes, index=names, columns=['1x']);\n",
    "PhusionDefault"
   ]
  },
  {
   "cell_type": "code",
   "execution_count": 29,
   "metadata": {
    "collapsed": false
   },
   "outputs": [],
   "source": [
    "genes = ['cadm1a (n=3)','cadm1b (n=3)','cpne3 (n=2)','tjp2a (n=2)','tjp2b (n=2)','nrxn3aS (n=3)','nrxn3aL (n=3)','nrxn3bS (n=3)','nrxn3bL (n=3)'];\n",
    "n_reactions = [(8*3),(8*3),(8*2),(8*2),(8*2),(8*3),(8*3),(8*3),(8*3)];"
   ]
  },
  {
   "cell_type": "code",
   "execution_count": 42,
   "metadata": {
    "collapsed": false
   },
   "outputs": [],
   "source": [
    "PCR = pd.DataFrame.copy(PhusionDefault)\n",
    "for i in range(len(genes)):\n",
    "    PCR[genes[i]] = pd.Series(PCR['1x'] * round((n_reactions[i]*1.1),1))\n",
    "    "
   ]
  },
  {
   "cell_type": "code",
   "execution_count": 43,
   "metadata": {
    "collapsed": false
   },
   "outputs": [
    {
     "data": {
      "text/html": [
       "<div>\n",
       "<table border=\"1\" class=\"dataframe\">\n",
       "  <thead>\n",
       "    <tr style=\"text-align: right;\">\n",
       "      <th></th>\n",
       "      <th>1x</th>\n",
       "      <th>cadm1a (n=3)</th>\n",
       "      <th>cadm1b (n=3)</th>\n",
       "      <th>cpne3 (n=2)</th>\n",
       "      <th>tjp2a (n=2)</th>\n",
       "      <th>tjp2b (n=2)</th>\n",
       "      <th>nrxn3aS (n=3)</th>\n",
       "      <th>nrxn3aL (n=3)</th>\n",
       "      <th>nrxn3bS (n=3)</th>\n",
       "      <th>nrxn3bL (n=3)</th>\n",
       "    </tr>\n",
       "  </thead>\n",
       "  <tbody>\n",
       "    <tr>\n",
       "      <th>Water</th>\n",
       "      <td>10.4</td>\n",
       "      <td>274.56</td>\n",
       "      <td>274.56</td>\n",
       "      <td>183.04</td>\n",
       "      <td>183.04</td>\n",
       "      <td>183.04</td>\n",
       "      <td>274.56</td>\n",
       "      <td>274.56</td>\n",
       "      <td>274.56</td>\n",
       "      <td>274.56</td>\n",
       "    </tr>\n",
       "    <tr>\n",
       "      <th>Buffer5x</th>\n",
       "      <td>4.0</td>\n",
       "      <td>105.60</td>\n",
       "      <td>105.60</td>\n",
       "      <td>70.40</td>\n",
       "      <td>70.40</td>\n",
       "      <td>70.40</td>\n",
       "      <td>105.60</td>\n",
       "      <td>105.60</td>\n",
       "      <td>105.60</td>\n",
       "      <td>105.60</td>\n",
       "    </tr>\n",
       "    <tr>\n",
       "      <th>dNTP mix</th>\n",
       "      <td>0.4</td>\n",
       "      <td>10.56</td>\n",
       "      <td>10.56</td>\n",
       "      <td>7.04</td>\n",
       "      <td>7.04</td>\n",
       "      <td>7.04</td>\n",
       "      <td>10.56</td>\n",
       "      <td>10.56</td>\n",
       "      <td>10.56</td>\n",
       "      <td>10.56</td>\n",
       "    </tr>\n",
       "    <tr>\n",
       "      <th>FWD</th>\n",
       "      <td>1.0</td>\n",
       "      <td>26.40</td>\n",
       "      <td>26.40</td>\n",
       "      <td>17.60</td>\n",
       "      <td>17.60</td>\n",
       "      <td>17.60</td>\n",
       "      <td>26.40</td>\n",
       "      <td>26.40</td>\n",
       "      <td>26.40</td>\n",
       "      <td>26.40</td>\n",
       "    </tr>\n",
       "    <tr>\n",
       "      <th>REV</th>\n",
       "      <td>1.0</td>\n",
       "      <td>26.40</td>\n",
       "      <td>26.40</td>\n",
       "      <td>17.60</td>\n",
       "      <td>17.60</td>\n",
       "      <td>17.60</td>\n",
       "      <td>26.40</td>\n",
       "      <td>26.40</td>\n",
       "      <td>26.40</td>\n",
       "      <td>26.40</td>\n",
       "    </tr>\n",
       "    <tr>\n",
       "      <th>M13-FAM</th>\n",
       "      <td>1.0</td>\n",
       "      <td>26.40</td>\n",
       "      <td>26.40</td>\n",
       "      <td>17.60</td>\n",
       "      <td>17.60</td>\n",
       "      <td>17.60</td>\n",
       "      <td>26.40</td>\n",
       "      <td>26.40</td>\n",
       "      <td>26.40</td>\n",
       "      <td>26.40</td>\n",
       "    </tr>\n",
       "    <tr>\n",
       "      <th>Phusion</th>\n",
       "      <td>0.2</td>\n",
       "      <td>5.28</td>\n",
       "      <td>5.28</td>\n",
       "      <td>3.52</td>\n",
       "      <td>3.52</td>\n",
       "      <td>3.52</td>\n",
       "      <td>5.28</td>\n",
       "      <td>5.28</td>\n",
       "      <td>5.28</td>\n",
       "      <td>5.28</td>\n",
       "    </tr>\n",
       "  </tbody>\n",
       "</table>\n",
       "</div>"
      ],
      "text/plain": [
       "            1x  cadm1a (n=3)  cadm1b (n=3)  cpne3 (n=2)  tjp2a (n=2)  \\\n",
       "Water     10.4        274.56        274.56       183.04       183.04   \n",
       "Buffer5x   4.0        105.60        105.60        70.40        70.40   \n",
       "dNTP mix   0.4         10.56         10.56         7.04         7.04   \n",
       "FWD        1.0         26.40         26.40        17.60        17.60   \n",
       "REV        1.0         26.40         26.40        17.60        17.60   \n",
       "M13-FAM    1.0         26.40         26.40        17.60        17.60   \n",
       "Phusion    0.2          5.28          5.28         3.52         3.52   \n",
       "\n",
       "          tjp2b (n=2)  nrxn3aS (n=3)  nrxn3aL (n=3)  nrxn3bS (n=3)  \\\n",
       "Water          183.04         274.56         274.56         274.56   \n",
       "Buffer5x        70.40         105.60         105.60         105.60   \n",
       "dNTP mix         7.04          10.56          10.56          10.56   \n",
       "FWD             17.60          26.40          26.40          26.40   \n",
       "REV             17.60          26.40          26.40          26.40   \n",
       "M13-FAM         17.60          26.40          26.40          26.40   \n",
       "Phusion          3.52           5.28           5.28           5.28   \n",
       "\n",
       "          nrxn3bL (n=3)  \n",
       "Water            274.56  \n",
       "Buffer5x         105.60  \n",
       "dNTP mix          10.56  \n",
       "FWD               26.40  \n",
       "REV               26.40  \n",
       "M13-FAM           26.40  \n",
       "Phusion            5.28  "
      ]
     },
     "execution_count": 43,
     "metadata": {},
     "output_type": "execute_result"
    }
   ],
   "source": [
    "PCR\n",
    "#PCR = pd.DataFrame(data = n_reactions, columns=genes)"
   ]
  },
  {
   "cell_type": "code",
   "execution_count": 44,
   "metadata": {
    "collapsed": false
   },
   "outputs": [
    {
     "data": {
      "text/plain": [
       "'<table border=\"1\" class=\"dataframe\">\\n  <thead>\\n    <tr style=\"text-align: right;\">\\n      <th></th>\\n      <th>1x</th>\\n      <th>cadm1a (n=3)</th>\\n      <th>cadm1b (n=3)</th>\\n      <th>cpne3 (n=2)</th>\\n      <th>tjp2a (n=2)</th>\\n      <th>tjp2b (n=2)</th>\\n      <th>nrxn3aS (n=3)</th>\\n      <th>nrxn3aL (n=3)</th>\\n      <th>nrxn3bS (n=3)</th>\\n      <th>nrxn3bL (n=3)</th>\\n    </tr>\\n  </thead>\\n  <tbody>\\n    <tr>\\n      <th>Water</th>\\n      <td>10.4</td>\\n      <td>274.56</td>\\n      <td>274.56</td>\\n      <td>183.04</td>\\n      <td>183.04</td>\\n      <td>183.04</td>\\n      <td>274.56</td>\\n      <td>274.56</td>\\n      <td>274.56</td>\\n      <td>274.56</td>\\n    </tr>\\n    <tr>\\n      <th>Buffer5x</th>\\n      <td>4.0</td>\\n      <td>105.60</td>\\n      <td>105.60</td>\\n      <td>70.40</td>\\n      <td>70.40</td>\\n      <td>70.40</td>\\n      <td>105.60</td>\\n      <td>105.60</td>\\n      <td>105.60</td>\\n      <td>105.60</td>\\n    </tr>\\n    <tr>\\n      <th>dNTP mix</th>\\n      <td>0.4</td>\\n      <td>10.56</td>\\n      <td>10.56</td>\\n      <td>7.04</td>\\n      <td>7.04</td>\\n      <td>7.04</td>\\n      <td>10.56</td>\\n      <td>10.56</td>\\n      <td>10.56</td>\\n      <td>10.56</td>\\n    </tr>\\n    <tr>\\n      <th>FWD</th>\\n      <td>1.0</td>\\n      <td>26.40</td>\\n      <td>26.40</td>\\n      <td>17.60</td>\\n      <td>17.60</td>\\n      <td>17.60</td>\\n      <td>26.40</td>\\n      <td>26.40</td>\\n      <td>26.40</td>\\n      <td>26.40</td>\\n    </tr>\\n    <tr>\\n      <th>REV</th>\\n      <td>1.0</td>\\n      <td>26.40</td>\\n      <td>26.40</td>\\n      <td>17.60</td>\\n      <td>17.60</td>\\n      <td>17.60</td>\\n      <td>26.40</td>\\n      <td>26.40</td>\\n      <td>26.40</td>\\n      <td>26.40</td>\\n    </tr>\\n    <tr>\\n      <th>M13-FAM</th>\\n      <td>1.0</td>\\n      <td>26.40</td>\\n      <td>26.40</td>\\n      <td>17.60</td>\\n      <td>17.60</td>\\n      <td>17.60</td>\\n      <td>26.40</td>\\n      <td>26.40</td>\\n      <td>26.40</td>\\n      <td>26.40</td>\\n    </tr>\\n    <tr>\\n      <th>Phusion</th>\\n      <td>0.2</td>\\n      <td>5.28</td>\\n      <td>5.28</td>\\n      <td>3.52</td>\\n      <td>3.52</td>\\n      <td>3.52</td>\\n      <td>5.28</td>\\n      <td>5.28</td>\\n      <td>5.28</td>\\n      <td>5.28</td>\\n    </tr>\\n  </tbody>\\n</table>'"
      ]
     },
     "execution_count": 44,
     "metadata": {},
     "output_type": "execute_result"
    }
   ],
   "source": [
    "#Need to create html output into a letter sized\n",
    "PCR.to_html()"
   ]
  },
  {
   "cell_type": "code",
   "execution_count": 22,
   "metadata": {
    "collapsed": false
   },
   "outputs": [
    {
     "name": "stdout",
     "output_type": "stream",
     "text": [
      "Help on built-in function round in module builtins:\n",
      "\n",
      "round(...)\n",
      "    round(number[, ndigits]) -> number\n",
      "    \n",
      "    Round a number to a given precision in decimal digits (default 0 digits).\n",
      "    This returns an int when called with one argument, otherwise the\n",
      "    same type as the number. ndigits may be negative.\n",
      "\n"
     ]
    }
   ],
   "source": [
    "help(round)"
   ]
  },
  {
   "cell_type": "code",
   "execution_count": null,
   "metadata": {
    "collapsed": true
   },
   "outputs": [],
   "source": []
  }
 ],
 "metadata": {
  "kernelspec": {
   "display_name": "Python 3",
   "language": "python",
   "name": "python3"
  },
  "language_info": {
   "codemirror_mode": {
    "name": "ipython",
    "version": 3
   },
   "file_extension": ".py",
   "mimetype": "text/x-python",
   "name": "python",
   "nbconvert_exporter": "python",
   "pygments_lexer": "ipython3",
   "version": "3.5.2"
  }
 },
 "nbformat": 4,
 "nbformat_minor": 0
}
