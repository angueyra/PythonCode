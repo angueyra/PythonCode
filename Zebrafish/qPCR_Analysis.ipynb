{
 "cells": [
  {
   "cell_type": "markdown",
   "id": "desirable-advancement",
   "metadata": {},
   "source": [
    "# qPCR analysis"
   ]
  },
  {
   "cell_type": "code",
   "execution_count": 1,
   "id": "arranged-question",
   "metadata": {},
   "outputs": [],
   "source": [
    "import numpy as np\n",
    "import pandas as pd\n",
    "from scipy.stats import zscore\n",
    "import pygal\n",
    "import math\n",
    "import IPython\n",
    "import matplotlib\n",
    "import matplotlib.pyplot as plt\n",
    "import matplotlib.font_manager as font_manager\n",
    "import importlib\n",
    "import svgutils\n",
    "from svgutils.compose import *\n",
    "import os.path\n",
    "from cmcrameri import cm #colormaps"
   ]
  },
  {
   "cell_type": "markdown",
   "id": "drawn-andorra",
   "metadata": {},
   "source": [
    "## &Delta;&Delta;C<sub>t</sub> nethod"
   ]
  },
  {
   "cell_type": "code",
   "execution_count": 80,
   "id": "prime-therapy",
   "metadata": {},
   "outputs": [
    {
     "name": "stdout",
     "output_type": "stream",
     "text": [
      "Loaded!\n",
      "\n"
     ]
    }
   ],
   "source": [
    "batlow = cm.vik(range(255))\n",
    "batlow = batlow[0:255:np.int(np.floor(255/8)),:]\n",
    "matplotlib.rcParams['axes.prop_cycle'] = matplotlib.cycler(color=batlow) \n",
    "\n",
    "#gene Colors\n",
    "zfC = {\n",
    "    'rho'  : '#7d7d7d',\n",
    "    'sws1' : '#B73AB9',\n",
    "    'sws2' : '#4364F6',\n",
    "    'mws1' : '#59CB3B',\n",
    "    'mws2' : '#59CB3B',\n",
    "    'mws3' : '#59CB3B',\n",
    "    'mws4' : '#59CB3B',\n",
    "    'lws1' : '#CE2A22',\n",
    "    'lws2' : '#CE2A22',\n",
    "    'actb2': '#926645',\n",
    "    'tbx2a': '#c92675',\n",
    "    'tbx2b': '#7526c9',\n",
    "    'six7' : '#d6ab00',\n",
    "}\n",
    "\n",
    "\n",
    "def formatFigureMain(figH, axH, plotH):\n",
    "    font_path = '/System/Library/Fonts/Avenir.ttc'\n",
    "    fontTicks = font_manager.FontProperties(fname=font_path, size=18)\n",
    "    fontLabels = font_manager.FontProperties(fname=font_path, size=22)\n",
    "    fontTitle = font_manager.FontProperties(fname=font_path, size=28)\n",
    "    axH.set_xscale('linear')\n",
    "    axH.spines['top'].set_visible(False)\n",
    "    axH.spines['right'].set_visible(False)\n",
    "    \n",
    "    for label in (axH.get_xticklabels() + axH.get_yticklabels()):\n",
    "        label.set_fontproperties(fontTicks)\n",
    "    axH.set_xlabel(axH.get_xlabel(), fontproperties = fontTicks)\n",
    "    axH.set_ylabel(axH.get_ylabel(), fontproperties = fontTicks)\n",
    "    return fontLabels\n",
    "\n",
    "def formatFigureCt(figH, axH, plotH):\n",
    "    fontLabels = formatFigureMain(figH, axH, plotH)\n",
    "    axH.set_xlabel('Sample', fontproperties=fontLabels)\n",
    "    axH.set_ylabel('Ct', fontproperties=fontLabels)\n",
    "\n",
    "def formatFigureFD(figH, axH, plotH):\n",
    "    fontLabels = formatFigureMain(figH, axH, plotH)\n",
    "    axH.set_xlabel('Sample', fontproperties=fontLabels)\n",
    "    axH.set_ylabel('Fold. Diff', fontproperties=fontLabels)\n",
    "        \n",
    "def sumstd (a,b):\n",
    "    sd = np.sqrt(np.square(a)+np.square(b))\n",
    "    return sd\n",
    "\n",
    "def getFD(fName,sampleList,wtList,refGene):\n",
    "    df = pd.read_csv(fName)\n",
    "    \n",
    "    geneList = np.unique(df['Target'])\n",
    "    dCt={}\n",
    "    dCt['samples'] = sampleList\n",
    "    for gene in geneList:\n",
    "        dCt[gene] = [np.mean(df[(df['Sample']==s) & (df['Target']==gene)].Cq)-np.mean(df[(df['Sample']==s) & (df['Target']==refGene)].Cq) for s in sampleList]\n",
    "        dCt[(gene+'SD')] = [sumstd(np.std(df[(df['Sample']==s) & (df['Target']==gene)].Cq),np.std(df[(df['Sample']==s) & (df['Target']==refGene)].Cq)) for s in sampleList]\n",
    "    dCt = pd.DataFrame(dCt)\n",
    "\n",
    "    ddCt = {}\n",
    "    ddCt['samples'] = sampleList\n",
    "    for gene in geneList:\n",
    "        ddCt[gene] = [dCt[(dCt['samples']==s)][gene].item() - np.mean(dCt[dCt['samples'].str.contains(\"|\".join(wtList))][gene]) for s in sampleList]\n",
    "        ddCt[(gene+'SD')] = [sumstd(dCt[(dCt['samples']==s)][(gene+'SD')].item(),np.std(dCt[dCt['samples'].str.contains(\"|\".join(wtList))][(gene+'SD')]/np.sqrt(np.size(wtList)))) for s in sampleList]\n",
    "    ddCt = pd.DataFrame(ddCt)\n",
    "\n",
    "    fd = {} #fold differences\n",
    "    fd['samples'] = sampleList\n",
    "    for gene in geneList:\n",
    "        fd[gene] = [np.power(2,-ddCt[(ddCt['samples']==s)][gene].item()) for s in sampleList]\n",
    "        fd[(gene + 'Lo')] = [np.power(2,-(ddCt[(ddCt['samples']==s)][gene].item()-ddCt[(ddCt['samples']==s)][(gene + 'SD')].item())) for s in sampleList]\n",
    "        fd[(gene + 'Hi')] = [np.power(2,-(ddCt[(ddCt['samples']==s)][gene].item()+ddCt[(ddCt['samples']==s)][(gene + 'SD')].item())) for s in sampleList]\n",
    "    return pd.DataFrame(fd)\n",
    "\n",
    "print('Loaded!\\n')"
   ]
  },
  {
   "cell_type": "code",
   "execution_count": null,
   "id": "molecular-animal",
   "metadata": {},
   "outputs": [],
   "source": []
  },
  {
   "cell_type": "code",
   "execution_count": null,
   "id": "virgin-console",
   "metadata": {},
   "outputs": [],
   "source": [
    "\n",
    "# fName = \"/Users/angueyraaristjm/Documents/LiMolec/zfqPCR/BioRad/20210322_CRtbx2aF0_Opsins.csv\"\n",
    "# fName = \"/Users/angueyraaristjm/Documents/LiMolec/zfqPCR/BioRad/20210326_CRtbx2F0s_opsins.csv\"\n",
    "# fName = \"/Users/angueyraaristjm/Documents/LiMolec/zfqPCR/BioRad/20210329_CRtbx2F0s_opsinsAgain.csv\"\n",
    "# fName = \"/Users/angueyraaristjm/Documents/LiMolec/zfqPCR/BioRad/20210402_CRtbx2F0s_m2l2s2.csv\"\n",
    "# fName = \"/Users/angueyraaristjm/Documents/LiMolec/zfqPCR/BioRad/20210402_CRtbx2F0s_tbx2s2.csv\"\n",
    "\n",
    "# fName = \"/Users/angueyraaristjm/Documents/LiMolec/zfqPCR/BioRad/20210416_CRtbx2F0s_rho_stdC.csv\"\n",
    "fName = \"/Users/angueyraaristjm/Documents/LiMolec/zfqPCR/BioRad/20210419_CRtbx2F0s_rhos1_stdCurve.csv\"\n",
    "fName = \"/Users/angueyraaristjm/Documents/LiMolec/zfqPCR/BioRad/20210419_CRtbx2F0s_rhos1_stdCurve.csv\"\n",
    "\n",
    "df = pd.read_csv(fName)\n",
    "df[df['Target']=='actb2']"
   ]
  },
  {
   "cell_type": "code",
   "execution_count": null,
   "id": "radical-aquatic",
   "metadata": {},
   "outputs": [],
   "source": [
    "np.unique(df['Sample'])"
   ]
  },
  {
   "cell_type": "code",
   "execution_count": null,
   "id": "corresponding-update",
   "metadata": {},
   "outputs": [],
   "source": [
    "# define wt samples and reference (\"house-keeping\") gene\n",
    "hkg = 'actb2'\n",
    "\n",
    "samples=['wtL11', 'wtL12', 'wtL13','tbx2aL11', 'tbx2aL12', 'tbx2bL11', 'tbx2bL12',] #re-rorganization\n",
    "wtsamples = ['wtL11', 'wtL12', 'wtL13']\n",
    "fd = getFD(\"/Users/angueyraaristjm/Documents/LiMolec/zfqPCR/BioRad/20210419_CRtbx2F0s_rhos1_stdCurve.csv\",samples,wtsamples,hkg)\n",
    "fd\n"
   ]
  },
  {
   "cell_type": "code",
   "execution_count": null,
   "id": "measured-stuff",
   "metadata": {},
   "outputs": [],
   "source": [
    "samples = np.unique(df['Sample'])\n",
    "samples=['wtL11', 'wtL12', 'wtL13','tbx2aL11', 'tbx2aL12', 'tbx2bL11', 'tbx2bL12'] #re-rorganization\n",
    "\n",
    "geneList = ['actb2','rho','sws1']\n",
    "\n",
    "plotname = ''\n",
    "fH, axH = plt.subplots()\n",
    "\n",
    "relW = np.size(geneList)+2;relD = np.size(geneList)+1;relP = -np.size(geneList)+1;\n",
    "j=relP;\n",
    "for gene in geneList:\n",
    "    i=0;\n",
    "    j=j+1;\n",
    "    for s in samples:\n",
    "        i = i+1;\n",
    "        pH = plt.bar([i+j/relD], fd[(fd['samples']==s)][gene].item(), width=1/relW, color=zfC[gene]);\n",
    "   \n",
    "\n",
    "formatFigureFD(fH, axH, pH)\n",
    "axH.set_xticks(range(1,np.size(samples)+1));\n",
    "axH.set_xticklabels(['wt11','wt12','wt13','2a11','2a12','2b114','2b12']);\n",
    "axH.set_ylim([0,2.5]);"
   ]
  },
  {
   "cell_type": "markdown",
   "id": "nasty-alpha",
   "metadata": {},
   "source": [
    "### tbx2F&empty; from 2021/04/09\n",
    "> Good RNA yield, switched to standard curve, but &Delta;&Delta;C<sub>t</sub> still works\n",
    "\n",
    "Trying to accumulate data across plates"
   ]
  },
  {
   "cell_type": "code",
   "execution_count": 70,
   "id": "nearby-collection",
   "metadata": {},
   "outputs": [
    {
     "data": {
      "image/png": "[encoded data removed]",
      "text/plain": [
       "<Figure size 864x576 with 1 Axes>"
      ]
     },
     "metadata": {
      "needs_background": "light"
     },
     "output_type": "display_data"
    }
   ],
   "source": [
    "hkg = 'actb2'\n",
    "\n",
    "samples=['wtL11', 'wtL12', 'wtL13','tbx2aL11', 'tbx2aL12', 'tbx2bL11', 'tbx2bL12',] #re-rorganization\n",
    "wtsamples = ['wtL11', 'wtL12', 'wtL13']\n",
    "\n",
    "# for now will drop actb2 since it's normalized anyway and I've done error propagation\n",
    "fd0 = getFD(\"/Users/angueyraaristjm/Documents/LiMolec/zfqPCR/BioRad/20210419_CRtbx2F0s_rhos1_stdCurve.csv\",samples,wtsamples,hkg)\n",
    "fd0 = fd0.drop(labels=[\"actb2\",\"actb2Lo\",\"actb2Hi\"], axis=1)\n",
    "fd1 = getFD(\"/Users/angueyraaristjm/Documents/LiMolec/zfqPCR/BioRad/20210419_CRtbx2F0s_m2l2_stdCurve.csv\",samples,wtsamples,hkg)\n",
    "fd1 = fd1.drop(labels=[\"actb2\",\"actb2Lo\",\"actb2Hi\"], axis=1)\n",
    "fd2 = getFD(\"/Users/angueyraaristjm/Documents/LiMolec/zfqPCR/BioRad/20210419_CRtbx2F0s_s2m1_stdCurve.csv\",samples,wtsamples,hkg)\n",
    "fd2 = fd2.drop(labels=[\"actb2\",\"actb2Lo\",\"actb2Hi\"], axis=1)\n",
    "fd3 = getFD(\"/Users/angueyraaristjm/Documents/LiMolec/zfqPCR/BioRad/20210419_CRtbx2F0s_six7l1_stdCurve.csv\",samples,wtsamples,hkg)\n",
    "fd3 = fd3.drop(labels=[\"actb2\",\"actb2Lo\",\"actb2Hi\"], axis=1)\n",
    "\n",
    "fd = pd.merge(fd0, fd1, on=\"samples\")\n",
    "fd = pd.merge(fd, fd2, on=\"samples\")\n",
    "fd = pd.merge(fd, fd3, on=\"samples\")\n",
    "fd\n",
    "\n",
    "\n",
    "geneList = ['rho','sws1','sws2','mws1','mws2','lws1','lws2','six7']\n",
    "plotname = ''\n",
    "fH, axH = plt.subplots(figsize=[12,8])\n",
    "\n",
    "relW = np.size(geneList)+2.5;relD = np.size(geneList)+1;relP = -np.size(geneList)+3.5;\n",
    "j=relP;\n",
    "for gene in geneList:\n",
    "    i=0;\n",
    "    j=j+1;\n",
    "    for s in samples:\n",
    "        i = i+1;\n",
    "        pH = plt.bar([i+j/relD], fd[(fd['samples']==s)][gene].item(), width=1/relW, color=zfC[gene]);\n",
    "   \n",
    "\n",
    "formatFigureFD(fH, axH, pH)\n",
    "axH.set_xticks(range(1,np.size(samples)+1));\n",
    "axH.set_xticklabels(['wt11','wt12','wt13','2a11','2a12','2b11','2b12']);\n",
    "axH.set_ylim([0,2.5]);"
   ]
  },
  {
   "cell_type": "markdown",
   "id": "crude-veteran",
   "metadata": {},
   "source": [
    "### normalize by WT average"
   ]
  },
  {
   "cell_type": "code",
   "execution_count": null,
   "id": "enabling-bailey",
   "metadata": {},
   "outputs": [],
   "source": []
  },
  {
   "cell_type": "code",
   "execution_count": null,
   "id": "academic-guatemala",
   "metadata": {},
   "outputs": [],
   "source": []
  },
  {
   "cell_type": "code",
   "execution_count": 71,
   "id": "green-bhutan",
   "metadata": {},
   "outputs": [
    {
     "ename": "KeyError",
     "evalue": "'actb2'",
     "output_type": "error",
     "traceback": [
      "\u001b[0;31m---------------------------------------------------------------------------\u001b[0m",
      "\u001b[0;31mKeyError\u001b[0m                                  Traceback (most recent call last)",
      "\u001b[0;32m~/anaconda3/lib/python3.7/site-packages/pandas/core/indexes/base.py\u001b[0m in \u001b[0;36mget_loc\u001b[0;34m(self, key, method, tolerance)\u001b[0m\n\u001b[1;32m   2890\u001b[0m             \u001b[0;32mtry\u001b[0m\u001b[0;34m:\u001b[0m\u001b[0;34m\u001b[0m\u001b[0;34m\u001b[0m\u001b[0m\n\u001b[0;32m-> 2891\u001b[0;31m                 \u001b[0;32mreturn\u001b[0m \u001b[0mself\u001b[0m\u001b[0;34m.\u001b[0m\u001b[0m_engine\u001b[0m\u001b[0;34m.\u001b[0m\u001b[0mget_loc\u001b[0m\u001b[0;34m(\u001b[0m\u001b[0mcasted_key\u001b[0m\u001b[0;34m)\u001b[0m\u001b[0;34m\u001b[0m\u001b[0;34m\u001b[0m\u001b[0m\n\u001b[0m\u001b[1;32m   2892\u001b[0m             \u001b[0;32mexcept\u001b[0m \u001b[0mKeyError\u001b[0m \u001b[0;32mas\u001b[0m \u001b[0merr\u001b[0m\u001b[0;34m:\u001b[0m\u001b[0;34m\u001b[0m\u001b[0;34m\u001b[0m\u001b[0m\n",
      "\u001b[0;32mpandas/_libs/index.pyx\u001b[0m in \u001b[0;36mpandas._libs.index.IndexEngine.get_loc\u001b[0;34m()\u001b[0m\n",
      "\u001b[0;32mpandas/_libs/index.pyx\u001b[0m in \u001b[0;36mpandas._libs.index.IndexEngine.get_loc\u001b[0;34m()\u001b[0m\n",
      "\u001b[0;32mpandas/_libs/hashtable_class_helper.pxi\u001b[0m in \u001b[0;36mpandas._libs.hashtable.PyObjectHashTable.get_item\u001b[0;34m()\u001b[0m\n",
      "\u001b[0;32mpandas/_libs/hashtable_class_helper.pxi\u001b[0m in \u001b[0;36mpandas._libs.hashtable.PyObjectHashTable.get_item\u001b[0;34m()\u001b[0m\n",
      "\u001b[0;31mKeyError\u001b[0m: 'actb2'",
      "\nThe above exception was the direct cause of the following exception:\n",
      "\u001b[0;31mKeyError\u001b[0m                                  Traceback (most recent call last)",
      "\u001b[0;32m<ipython-input-71-d56a04c1c546>\u001b[0m in \u001b[0;36m<module>\u001b[0;34m\u001b[0m\n\u001b[1;32m     21\u001b[0m     \u001b[0;32mfor\u001b[0m \u001b[0ms\u001b[0m \u001b[0;32min\u001b[0m \u001b[0msamples\u001b[0m\u001b[0;34m:\u001b[0m\u001b[0;34m\u001b[0m\u001b[0;34m\u001b[0m\u001b[0m\n\u001b[1;32m     22\u001b[0m         \u001b[0mi\u001b[0m \u001b[0;34m=\u001b[0m \u001b[0mi\u001b[0m\u001b[0;34m+\u001b[0m\u001b[0;36m1\u001b[0m\u001b[0;34m;\u001b[0m\u001b[0;34m\u001b[0m\u001b[0;34m\u001b[0m\u001b[0m\n\u001b[0;32m---> 23\u001b[0;31m         \u001b[0mpH\u001b[0m \u001b[0;34m=\u001b[0m \u001b[0mplt\u001b[0m\u001b[0;34m.\u001b[0m\u001b[0mbar\u001b[0m\u001b[0;34m(\u001b[0m\u001b[0;34m[\u001b[0m\u001b[0mi\u001b[0m\u001b[0;34m+\u001b[0m\u001b[0mj\u001b[0m\u001b[0;34m/\u001b[0m\u001b[0mrelD\u001b[0m\u001b[0;34m]\u001b[0m\u001b[0;34m,\u001b[0m \u001b[0mfd\u001b[0m\u001b[0;34m[\u001b[0m\u001b[0;34m(\u001b[0m\u001b[0mfd\u001b[0m\u001b[0;34m[\u001b[0m\u001b[0;34m'samples'\u001b[0m\u001b[0;34m]\u001b[0m\u001b[0;34m==\u001b[0m\u001b[0ms\u001b[0m\u001b[0;34m)\u001b[0m\u001b[0;34m]\u001b[0m\u001b[0;34m[\u001b[0m\u001b[0mgene\u001b[0m\u001b[0;34m]\u001b[0m\u001b[0;34m.\u001b[0m\u001b[0mitem\u001b[0m\u001b[0;34m(\u001b[0m\u001b[0;34m)\u001b[0m\u001b[0;34m,\u001b[0m \u001b[0mwidth\u001b[0m\u001b[0;34m=\u001b[0m\u001b[0;36m1\u001b[0m\u001b[0;34m/\u001b[0m\u001b[0mrelW\u001b[0m\u001b[0;34m,\u001b[0m \u001b[0mcolor\u001b[0m\u001b[0;34m=\u001b[0m\u001b[0mzfC\u001b[0m\u001b[0;34m[\u001b[0m\u001b[0mgene\u001b[0m\u001b[0;34m]\u001b[0m\u001b[0;34m)\u001b[0m\u001b[0;34m;\u001b[0m\u001b[0;34m\u001b[0m\u001b[0;34m\u001b[0m\u001b[0m\n\u001b[0m\u001b[1;32m     24\u001b[0m \u001b[0;34m\u001b[0m\u001b[0m\n\u001b[1;32m     25\u001b[0m \u001b[0;34m\u001b[0m\u001b[0m\n",
      "\u001b[0;32m~/anaconda3/lib/python3.7/site-packages/pandas/core/frame.py\u001b[0m in \u001b[0;36m__getitem__\u001b[0;34m(self, key)\u001b[0m\n\u001b[1;32m   2900\u001b[0m             \u001b[0;32mif\u001b[0m \u001b[0mself\u001b[0m\u001b[0;34m.\u001b[0m\u001b[0mcolumns\u001b[0m\u001b[0;34m.\u001b[0m\u001b[0mnlevels\u001b[0m \u001b[0;34m>\u001b[0m \u001b[0;36m1\u001b[0m\u001b[0;34m:\u001b[0m\u001b[0;34m\u001b[0m\u001b[0;34m\u001b[0m\u001b[0m\n\u001b[1;32m   2901\u001b[0m                 \u001b[0;32mreturn\u001b[0m \u001b[0mself\u001b[0m\u001b[0;34m.\u001b[0m\u001b[0m_getitem_multilevel\u001b[0m\u001b[0;34m(\u001b[0m\u001b[0mkey\u001b[0m\u001b[0;34m)\u001b[0m\u001b[0;34m\u001b[0m\u001b[0;34m\u001b[0m\u001b[0m\n\u001b[0;32m-> 2902\u001b[0;31m             \u001b[0mindexer\u001b[0m \u001b[0;34m=\u001b[0m \u001b[0mself\u001b[0m\u001b[0;34m.\u001b[0m\u001b[0mcolumns\u001b[0m\u001b[0;34m.\u001b[0m\u001b[0mget_loc\u001b[0m\u001b[0;34m(\u001b[0m\u001b[0mkey\u001b[0m\u001b[0;34m)\u001b[0m\u001b[0;34m\u001b[0m\u001b[0;34m\u001b[0m\u001b[0m\n\u001b[0m\u001b[1;32m   2903\u001b[0m             \u001b[0;32mif\u001b[0m \u001b[0mis_integer\u001b[0m\u001b[0;34m(\u001b[0m\u001b[0mindexer\u001b[0m\u001b[0;34m)\u001b[0m\u001b[0;34m:\u001b[0m\u001b[0;34m\u001b[0m\u001b[0;34m\u001b[0m\u001b[0m\n\u001b[1;32m   2904\u001b[0m                 \u001b[0mindexer\u001b[0m \u001b[0;34m=\u001b[0m \u001b[0;34m[\u001b[0m\u001b[0mindexer\u001b[0m\u001b[0;34m]\u001b[0m\u001b[0;34m\u001b[0m\u001b[0;34m\u001b[0m\u001b[0m\n",
      "\u001b[0;32m~/anaconda3/lib/python3.7/site-packages/pandas/core/indexes/base.py\u001b[0m in \u001b[0;36mget_loc\u001b[0;34m(self, key, method, tolerance)\u001b[0m\n\u001b[1;32m   2891\u001b[0m                 \u001b[0;32mreturn\u001b[0m \u001b[0mself\u001b[0m\u001b[0;34m.\u001b[0m\u001b[0m_engine\u001b[0m\u001b[0;34m.\u001b[0m\u001b[0mget_loc\u001b[0m\u001b[0;34m(\u001b[0m\u001b[0mcasted_key\u001b[0m\u001b[0;34m)\u001b[0m\u001b[0;34m\u001b[0m\u001b[0;34m\u001b[0m\u001b[0m\n\u001b[1;32m   2892\u001b[0m             \u001b[0;32mexcept\u001b[0m \u001b[0mKeyError\u001b[0m \u001b[0;32mas\u001b[0m \u001b[0merr\u001b[0m\u001b[0;34m:\u001b[0m\u001b[0;34m\u001b[0m\u001b[0;34m\u001b[0m\u001b[0m\n\u001b[0;32m-> 2893\u001b[0;31m                 \u001b[0;32mraise\u001b[0m \u001b[0mKeyError\u001b[0m\u001b[0;34m(\u001b[0m\u001b[0mkey\u001b[0m\u001b[0;34m)\u001b[0m \u001b[0;32mfrom\u001b[0m \u001b[0merr\u001b[0m\u001b[0;34m\u001b[0m\u001b[0;34m\u001b[0m\u001b[0m\n\u001b[0m\u001b[1;32m   2894\u001b[0m \u001b[0;34m\u001b[0m\u001b[0m\n\u001b[1;32m   2895\u001b[0m         \u001b[0;32mif\u001b[0m \u001b[0mtolerance\u001b[0m \u001b[0;32mis\u001b[0m \u001b[0;32mnot\u001b[0m \u001b[0;32mNone\u001b[0m\u001b[0;34m:\u001b[0m\u001b[0;34m\u001b[0m\u001b[0;34m\u001b[0m\u001b[0m\n",
      "\u001b[0;31mKeyError\u001b[0m: 'actb2'"
     ]
    },
    {
     "data": {
      "image/png": "[encoded data removed]",
      "text/plain": [
       "<Figure size 432x288 with 1 Axes>"
      ]
     },
     "metadata": {
      "needs_background": "light"
     },
     "output_type": "display_data"
    }
   ],
   "source": [
    "hkg = 'actb2'\n",
    "\n",
    "samples=['wtL11', 'wtL12', 'wtL13','tbx2aL11', 'tbx2aL12', 'tbx2bL11', 'tbx2bL12',] #re-rorganization\n",
    "wtsamples = ['wtL11', 'wtL12', 'wtL13']\n",
    "fdm2l2 = getFD(\"/Users/angueyraaristjm/Documents/LiMolec/zfqPCR/BioRad/20210419_CRtbx2F0s_m2l2_stdCurve.csv\",samples,wtsamples,hkg)\n",
    "\n",
    "\n",
    "samples = np.unique(df['Sample'])\n",
    "samples=['wtL11', 'wtL12', 'wtL13','tbx2aL11', 'tbx2aL12', 'tbx2bL11', 'tbx2bL12'] #re-rorganization\n",
    "\n",
    "geneList = ['actb2','mws2','lws2']\n",
    "\n",
    "plotname = ''\n",
    "fH, axH = plt.subplots()\n",
    "\n",
    "relW = np.size(geneList)+2;relD = np.size(geneList)+1;relP = -np.size(geneList)+1;\n",
    "j=relP;\n",
    "for gene in geneList:\n",
    "    i=0;\n",
    "    j=j+1;\n",
    "    for s in samples:\n",
    "        i = i+1;\n",
    "        pH = plt.bar([i+j/relD], fd[(fd['samples']==s)][gene].item(), width=1/relW, color=zfC[gene]);\n",
    "   \n",
    "\n",
    "formatFigureFD(fH, axH, pH)\n",
    "axH.set_xticks(range(1,np.size(samples)+1));\n",
    "axH.set_xticklabels(['wt11','wt12','wt13','2a11','2a12','2b114','2b12']);\n",
    "axH.set_ylim([0,2.5]);"
   ]
  },
  {
   "cell_type": "code",
   "execution_count": 72,
   "id": "proof-personality",
   "metadata": {},
   "outputs": [
    {
     "data": {
      "image/png": "[encoded data removed]",
      "text/plain": [
       "<Figure size 432x288 with 1 Axes>"
      ]
     },
     "metadata": {
      "needs_background": "light"
     },
     "output_type": "display_data"
    }
   ],
   "source": [
    "# define wt samples and reference (\"house-keeping\") gene\n",
    "hkg = 'actb2'\n",
    "\n",
    "samples=['wtL11', 'wtL12', 'wtL13','tbx2aL11', 'tbx2aL12', 'tbx2bL11', 'tbx2bL12',] #re-rorganization\n",
    "wtsamples = ['wtL11', 'wtL12', 'wtL13']\n",
    "fd = getFD(\"/Users/angueyraaristjm/Documents/LiMolec/zfqPCR/BioRad/20210419_CRtbx2F0s_s2m1_stdCurve.csv\",samples,wtsamples,hkg)\n",
    "\n",
    "\n",
    "samples = np.unique(df['Sample'])\n",
    "samples=['wtL11', 'wtL12', 'wtL13','tbx2aL11', 'tbx2aL12', 'tbx2bL11', 'tbx2bL12'] #re-rorganization\n",
    "\n",
    "geneList = ['actb2','sws2','mws1']\n",
    "\n",
    "plotname = ''\n",
    "fH, axH = plt.subplots()\n",
    "\n",
    "relW = np.size(geneList)+2;relD = np.size(geneList)+1;relP = -np.size(geneList)+1;\n",
    "j=relP;\n",
    "for gene in geneList:\n",
    "    i=0;\n",
    "    j=j+1;\n",
    "    for s in samples:\n",
    "        i = i+1;\n",
    "        pH = plt.bar([i+j/relD], fd[(fd['samples']==s)][gene].item(), width=1/relW, color=zfC[gene]);\n",
    "   \n",
    "\n",
    "formatFigureFD(fH, axH, pH)\n",
    "axH.set_xticks(range(1,np.size(samples)+1));\n",
    "axH.set_xticklabels(['wt11','wt12','wt13','2a11','2a12','2b114','2b12']);\n",
    "axH.set_ylim([0,2.5]);"
   ]
  },
  {
   "cell_type": "code",
   "execution_count": null,
   "id": "greek-comment",
   "metadata": {},
   "outputs": [],
   "source": [
    "# define wt samples and reference (\"house-keeping\") gene\n",
    "hkg = 'actb2'\n",
    "\n",
    "samples=['wtL11', 'wtL12', 'wtL13','tbx2aL11', 'tbx2aL12', 'tbx2bL11', 'tbx2bL12',] #re-rorganization\n",
    "wtsamples = ['wtL11', 'wtL12', 'wtL13']\n",
    "fd = getFD(\"/Users/angueyraaristjm/Documents/LiMolec/zfqPCR/BioRad/20210419_CRtbx2F0s_six7l1_stdCurve.csv\",samples,wtsamples,hkg)\n",
    "\n",
    "\n",
    "samples = np.unique(df['Sample'])\n",
    "samples=['wtL11', 'wtL12', 'wtL13','tbx2aL11', 'tbx2aL12', 'tbx2bL11', 'tbx2bL12'] #re-rorganization\n",
    "\n",
    "geneList = ['actb2','six7','lws1']\n",
    "\n",
    "plotname = ''\n",
    "fH, axH = plt.subplots()\n",
    "\n",
    "relW = np.size(geneList)+2;relD = np.size(geneList)+1;relP = -np.size(geneList)+1;\n",
    "j=relP;\n",
    "for gene in geneList:\n",
    "    i=0;\n",
    "    j=j+1;\n",
    "    for s in samples:\n",
    "        i = i+1;\n",
    "        pH = plt.bar([i+j/relD], fd[(fd['samples']==s)][gene].item(), width=1/relW, color=zfC[gene]);\n",
    "   \n",
    "\n",
    "formatFigureFD(fH, axH, pH)\n",
    "axH.set_xticks(range(1,np.size(samples)+1));\n",
    "axH.set_xticklabels(['wt11','wt12','wt13','2a11','2a12','2b114','2b12']);\n",
    "axH.set_ylim([0,2.5]);"
   ]
  },
  {
   "cell_type": "markdown",
   "id": "blocked-durham",
   "metadata": {},
   "source": [
    "## Standard Curve Method: already checked/cured datasets"
   ]
  },
  {
   "cell_type": "code",
   "execution_count": 140,
   "id": "loaded-behalf",
   "metadata": {},
   "outputs": [
    {
     "data": {
      "text/html": [
       "<div>\n",
       "<style scoped>\n",
       "    .dataframe tbody tr th:only-of-type {\n",
       "        vertical-align: middle;\n",
       "    }\n",
       "\n",
       "    .dataframe tbody tr th {\n",
       "        vertical-align: top;\n",
       "    }\n",
       "\n",
       "    .dataframe thead th {\n",
       "        text-align: right;\n",
       "    }\n",
       "</style>\n",
       "<table border=\"1\" class=\"dataframe\">\n",
       "  <thead>\n",
       "    <tr style=\"text-align: right;\">\n",
       "      <th></th>\n",
       "      <th>wtL11</th>\n",
       "      <th>wtL12</th>\n",
       "      <th>wtL13</th>\n",
       "      <th>tbx2aL11</th>\n",
       "      <th>tbx2aL12</th>\n",
       "      <th>tbx2bL11</th>\n",
       "      <th>tbx2bL12</th>\n",
       "    </tr>\n",
       "  </thead>\n",
       "  <tbody>\n",
       "    <tr>\n",
       "      <th>actb2</th>\n",
       "      <td>1.000000</td>\n",
       "      <td>1.000000</td>\n",
       "      <td>1.000000</td>\n",
       "      <td>1.000000</td>\n",
       "      <td>1.000000</td>\n",
       "      <td>1.000000</td>\n",
       "      <td>1.000000</td>\n",
       "    </tr>\n",
       "    <tr>\n",
       "      <th>rho</th>\n",
       "      <td>0.464684</td>\n",
       "      <td>0.304591</td>\n",
       "      <td>0.330871</td>\n",
       "      <td>0.296354</td>\n",
       "      <td>0.254794</td>\n",
       "      <td>0.505078</td>\n",
       "      <td>0.677107</td>\n",
       "    </tr>\n",
       "    <tr>\n",
       "      <th>sws1</th>\n",
       "      <td>0.835359</td>\n",
       "      <td>0.817612</td>\n",
       "      <td>0.950179</td>\n",
       "      <td>0.071920</td>\n",
       "      <td>0.142351</td>\n",
       "      <td>0.257378</td>\n",
       "      <td>0.359683</td>\n",
       "    </tr>\n",
       "    <tr>\n",
       "      <th>sws2</th>\n",
       "      <td>0.207223</td>\n",
       "      <td>0.272371</td>\n",
       "      <td>0.288774</td>\n",
       "      <td>0.191167</td>\n",
       "      <td>0.213638</td>\n",
       "      <td>0.450520</td>\n",
       "      <td>0.386515</td>\n",
       "    </tr>\n",
       "    <tr>\n",
       "      <th>mws1</th>\n",
       "      <td>0.289608</td>\n",
       "      <td>0.275113</td>\n",
       "      <td>0.307422</td>\n",
       "      <td>0.215199</td>\n",
       "      <td>0.242305</td>\n",
       "      <td>0.566804</td>\n",
       "      <td>0.640038</td>\n",
       "    </tr>\n",
       "    <tr>\n",
       "      <th>mws2</th>\n",
       "      <td>0.196347</td>\n",
       "      <td>0.156931</td>\n",
       "      <td>0.165197</td>\n",
       "      <td>0.359181</td>\n",
       "      <td>0.291435</td>\n",
       "      <td>0.724456</td>\n",
       "      <td>0.996096</td>\n",
       "    </tr>\n",
       "    <tr>\n",
       "      <th>lws1</th>\n",
       "      <td>0.244348</td>\n",
       "      <td>0.245637</td>\n",
       "      <td>0.542528</td>\n",
       "      <td>0.146758</td>\n",
       "      <td>0.169532</td>\n",
       "      <td>0.294938</td>\n",
       "      <td>0.289600</td>\n",
       "    </tr>\n",
       "    <tr>\n",
       "      <th>lws2</th>\n",
       "      <td>0.692235</td>\n",
       "      <td>0.567123</td>\n",
       "      <td>0.492031</td>\n",
       "      <td>0.577594</td>\n",
       "      <td>0.490503</td>\n",
       "      <td>1.298681</td>\n",
       "      <td>0.817382</td>\n",
       "    </tr>\n",
       "    <tr>\n",
       "      <th>six7</th>\n",
       "      <td>0.645434</td>\n",
       "      <td>1.038581</td>\n",
       "      <td>0.761928</td>\n",
       "      <td>0.630991</td>\n",
       "      <td>0.644180</td>\n",
       "      <td>0.601282</td>\n",
       "      <td>1.024450</td>\n",
       "    </tr>\n",
       "    <tr>\n",
       "      <th>tbx2a</th>\n",
       "      <td>0.000000</td>\n",
       "      <td>0.000000</td>\n",
       "      <td>0.000000</td>\n",
       "      <td>0.000000</td>\n",
       "      <td>0.000000</td>\n",
       "      <td>0.000000</td>\n",
       "      <td>0.000000</td>\n",
       "    </tr>\n",
       "    <tr>\n",
       "      <th>tbx2b</th>\n",
       "      <td>0.000000</td>\n",
       "      <td>0.000000</td>\n",
       "      <td>0.000000</td>\n",
       "      <td>0.000000</td>\n",
       "      <td>0.000000</td>\n",
       "      <td>0.000000</td>\n",
       "      <td>0.000000</td>\n",
       "    </tr>\n",
       "  </tbody>\n",
       "</table>\n",
       "</div>"
      ],
      "text/plain": [
       "          wtL11     wtL12     wtL13  tbx2aL11  tbx2aL12  tbx2bL11  tbx2bL12\n",
       "actb2  1.000000  1.000000  1.000000  1.000000  1.000000  1.000000  1.000000\n",
       "rho    0.464684  0.304591  0.330871  0.296354  0.254794  0.505078  0.677107\n",
       "sws1   0.835359  0.817612  0.950179  0.071920  0.142351  0.257378  0.359683\n",
       "sws2   0.207223  0.272371  0.288774  0.191167  0.213638  0.450520  0.386515\n",
       "mws1   0.289608  0.275113  0.307422  0.215199  0.242305  0.566804  0.640038\n",
       "mws2   0.196347  0.156931  0.165197  0.359181  0.291435  0.724456  0.996096\n",
       "lws1   0.244348  0.245637  0.542528  0.146758  0.169532  0.294938  0.289600\n",
       "lws2   0.692235  0.567123  0.492031  0.577594  0.490503  1.298681  0.817382\n",
       "six7   0.645434  1.038581  0.761928  0.630991  0.644180  0.601282  1.024450\n",
       "tbx2a  0.000000  0.000000  0.000000  0.000000  0.000000  0.000000  0.000000\n",
       "tbx2b  0.000000  0.000000  0.000000  0.000000  0.000000  0.000000  0.000000"
      ]
     },
     "execution_count": 140,
     "metadata": {},
     "output_type": "execute_result"
    }
   ],
   "source": [
    "dName = \"/Users/angueyraaristjm/Documents/LiMolec/zfqPCR/BioRad/\"\n",
    "\n",
    "fNames = [\"20210419_CRtbx2F0s_rhos1_stdCurve.csv\",\n",
    "          \"20210419_CRtbx2F0s_m2l2_stdCurve.csv\",\n",
    "          \"20210419_CRtbx2F0s_s2m1_stdCurve.csv\",\n",
    "          \"20210419_CRtbx2F0s_six7l1_stdCurve.csv\",\n",
    "         ]\n",
    "          \n",
    "superGeneList = ['actb2','rho','sws1','sws2','mws1','mws2','lws1','lws2','six7','tbx2a','tbx2b']\n",
    "\n",
    "superSampleList=['wtL11', 'wtL12', 'wtL13','tbx2aL11', 'tbx2aL12', 'tbx2bL11', 'tbx2bL12'] #re-rorganization\n",
    "\n",
    "# FD = pd.DataFrame(index=superGeneList, columns=[superSampleList + [s + \"SD\" for s in superSampleList]])\n",
    "FD = pd.DataFrame(index=superGeneList, columns=superSampleList)\n",
    "FD_sd = pd.DataFrame(index=superGeneList, columns=superSampleList)\n",
    "\n",
    "\n",
    "hkg = 'actb2'\n",
    "\n",
    "for fName in fNames:\n",
    "    df = pd.read_csv(dName + fName)\n",
    "    df = df[df[\"Content\"]!=\"NTC\"]\n",
    "    geneList = np.unique(df[df['Sample']==sampleList[0]][\"Target\"]);\n",
    "    sampleList  = np.unique(df[df['Sample']!='std01'][\"Sample\"]);\n",
    "\n",
    "    stdc={}\n",
    "    stdc['gene'] = geneList\n",
    "    stdc['dilutions'] = np.log10([1/30,1/1e2,1/1e3,1/1e4,1/1e5,1/30,1/1e2,1/1e3,1/1e4,1/1e5])\n",
    "    stdCt={}\n",
    "    for g in geneList:\n",
    "        # standard data\n",
    "        stdc[g] = df[(df['Sample']=='std01') & (df['Target']==g)].Cq.values\n",
    "        # linear fit and ignoring NaN\n",
    "        stdc[g + 'm'], stdc[g + 'p'] = np.polyfit(stdc['dilutions'][~np.isnan(stdc[g])], stdc[g][~np.isnan(stdc[g])], 1)\n",
    "        for s in sampleList:\n",
    "            # interpolation of each data point to standard dilution\n",
    "            stdCt[s + g] = df[(df['Sample']==s) & (df['Target']==g)].Cq.values\n",
    "            stdCt[s + g + 'std'] = (stdCt[s + g]-stdc[g + 'p'])/stdc[g + 'm']\n",
    "            #calculation of fold-difference compared to house-keeping gene\n",
    "            FD[s][g] = np.power(10,np.nanmean(stdCt[s + g + 'std']))/np.power(10,np.nanmean(stdCt[s + hkg + 'std']))\n",
    "            FD_sd[s][g] = 0 #missing calculation here\n",
    "            \n",
    "FD = FD.fillna(0) #for now remove missing data\n",
    "FD"
   ]
  },
  {
   "cell_type": "code",
   "execution_count": 141,
   "id": "desperate-token",
   "metadata": {},
   "outputs": [
    {
     "data": {
      "image/png": "[encoded data removed]",
      "text/plain": [
       "<Figure size 1152x576 with 1 Axes>"
      ]
     },
     "metadata": {
      "needs_background": "light"
     },
     "output_type": "display_data"
    }
   ],
   "source": [
    "# grouping by sample\n",
    "relW = np.size(superGeneList)+2;relD = np.size(superGeneList);relP = -np.size(superGeneList)/2;\n",
    "j=relP;\n",
    "\n",
    "plotname = ''\n",
    "fH, axH = plt.subplots(figsize=(16,8))\n",
    "for g in superGeneList:\n",
    "    i=0;\n",
    "    j=j+1;\n",
    "    for s in superSampleList:\n",
    "        i = i+1;\n",
    "        pH = plt.bar([i+j/relD], FD[s][g], width=1/relW, color=zfC[g]);\n",
    "\n",
    "formatFigureFD(fH, axH, pH);\n",
    "axH.set_xticks(range(1,np.size(superSampleList)+1));\n",
    "axH.set_xticklabels(superSampleList);"
   ]
  },
  {
   "cell_type": "code",
   "execution_count": 143,
   "id": "compatible-creature",
   "metadata": {},
   "outputs": [
    {
     "data": {
      "image/png": "[encoded data removed]",
      "text/plain": [
       "<Figure size 1152x576 with 1 Axes>"
      ]
     },
     "metadata": {
      "needs_background": "light"
     },
     "output_type": "display_data"
    }
   ],
   "source": [
    "# grouping by gene\n",
    "relW = np.size(superSampleList)+2;relD = np.size(superSampleList)+1;relP = np.floor(-np.size(superSampleList)/2);\n",
    "j=relP;\n",
    "\n",
    "plotname = ''\n",
    "fH, axH = plt.subplots(figsize=(16,8))\n",
    "for s in superSampleList:\n",
    "    i=0;\n",
    "    j=j+1;\n",
    "    for g in superGeneList:\n",
    "        i = i+1;\n",
    "        pH = plt.bar([i+j/relD], FD[s][g], width=1/relW, color=zfC[g]);\n",
    "\n",
    "formatFigureFD(fH, axH, pH)\n",
    "axH.set_xticks(range(1,np.size(superGeneList)+1));\n",
    "axH.set_xticklabels(superGeneList);"
   ]
  },
  {
   "cell_type": "code",
   "execution_count": 173,
   "id": "fluid-action",
   "metadata": {},
   "outputs": [
    {
     "data": {
      "image/png": "[encoded data removed]",
      "text/plain": [
       "<Figure size 1152x576 with 1 Axes>"
      ]
     },
     "metadata": {
      "needs_background": "light"
     },
     "output_type": "display_data"
    }
   ],
   "source": [
    "# finally averaging by genotype\n",
    "gTypes = ['wt','tbx2a','tbx2b']\n",
    "\n",
    "relW = np.size(gTypes)+2;relD = np.size(gTypes)+1;relP = np.floor(-np.size(gTypes)/2);\n",
    "j=relP;\n",
    "\n",
    "plotname = ''\n",
    "fH, axH = plt.subplots(figsize=(16,8))\n",
    "for gT in gTypes:\n",
    "    i=0;\n",
    "    j=j+1;\n",
    "    gTS = list(filter(lambda x: gT in x, superSampleList))\n",
    "    \n",
    "    for g in superGeneList:\n",
    "        i = i+1;\n",
    "        pH = plt.bar([i+j/relD], np.mean(FD[gTS].loc[g]), width=1/relW, color=zfC[g], zorder=0);\n",
    "        pH = plt.scatter(np.ones([1,len(gTS)])*[i+j/relD], FD[gTS].loc[g], color='#000000', zorder=1)\n",
    "\n",
    "formatFigureFD(fH, axH, pH)\n",
    "axH.set_xticks(range(1,np.size(superGeneList)+1));\n",
    "axH.set_xticklabels(superGeneList);"
   ]
  },
  {
   "cell_type": "code",
   "execution_count": 172,
   "id": "coupled-technical",
   "metadata": {},
   "outputs": [
    {
     "data": {
      "text/plain": [
       "tbx2bL11    0.505078\n",
       "tbx2bL12    0.677107\n",
       "Name: rho, dtype: float64"
      ]
     },
     "execution_count": 172,
     "metadata": {},
     "output_type": "execute_result"
    }
   ],
   "source": []
  },
  {
   "cell_type": "markdown",
   "id": "leading-control",
   "metadata": {},
   "source": [
    "## Standard Curve Method: step-by-step analysis for Quality Control"
   ]
  },
  {
   "cell_type": "markdown",
   "id": "whole-activation",
   "metadata": {},
   "source": [
    "### Load data, extract standard samples and fit to line (in log10(dilutions) space)"
   ]
  },
  {
   "cell_type": "code",
   "execution_count": null,
   "id": "sudden-patio",
   "metadata": {},
   "outputs": [],
   "source": [
    "dName = \"/Users/angueyraaristjm/Documents/LiMolec/zfqPCR/BioRad/\"\n",
    "\n",
    "fName = \"20210419_CRtbx2F0s_rhos1_stdCurve.csv\"\n",
    "geneList = ['actb2','rho','sws1']\n",
    "fName = \"20210419_CRtbx2F0s_m2l2_stdCurve.csv\"\n",
    "geneList = ['actb2','mws2','lws2']\n",
    "fName = \"20210419_CRtbx2F0s_s2m1_stdCurve.csv\"\n",
    "geneList = ['actb2','sws2','mws1']\n",
    "fName = \"20210419_CRtbx2F0s_six7l1_stdCurve.csv\"\n",
    "geneList = ['actb2','six7','lws1']\n",
    "\n",
    "\n",
    "\n",
    "df = pd.read_csv(dName + fName)\n",
    "# df[df['Sample']=='std01']\n",
    "\n",
    "plotname = ''\n",
    "fH, ax = plt.subplots()\n",
    "\n",
    "stdc={}\n",
    "stdc['gene'] = geneList\n",
    "stdc['dLin'] = np.linspace(-5,-1,10)\n",
    "# stdc['dilutions'] = np.log10([1/10,1/30,1/100,1/300,1/1000,1/3000,1/10,1/30,1/100,1/300,1/1000,1/3000])\n",
    "stdc['dilutions'] = np.log10([1/30,1/1e2,1/1e3,1/1e4,1/1e5,1/30,1/1e2,1/1e3,1/1e4,1/1e5])\n",
    "for g in geneList:\n",
    "    stdc[g] = df[(df['Sample']=='std01') & (df['Target']==g)].Cq.values\n",
    "    # linear fit and ignoring NaN\n",
    "    stdc[g + 'm'], stdc[g + 'p'] = np.polyfit(stdc['dilutions'][~np.isnan(stdc[g])], stdc[g][~np.isnan(stdc[g])], 1)\n",
    "    pH = plt.scatter(stdc['dilutions'], stdc[g], color = zfC[g])\n",
    "    pH = plt.plot(stdc['dLin'], stdc[g + 'm']*stdc['dLin']+stdc[g + 'p'], color = zfC[g])\n",
    "\n",
    "ax.set_xlabel('log(Dilution)')\n",
    "ax.set_ylabel('Ct')\n",
    "ax.legend(geneList, frameon=False)\n",
    "formatFigureMain(fH, ax, pH);\n",
    "# stdc"
   ]
  },
  {
   "cell_type": "markdown",
   "id": "adjustable-snowboard",
   "metadata": {},
   "source": [
    "### Interpolate StdDilution for each sample (and check consistency)"
   ]
  },
  {
   "cell_type": "code",
   "execution_count": null,
   "id": "guilty-lobby",
   "metadata": {},
   "outputs": [],
   "source": [
    "# interpolation of dilution relative to standard diltuion curve\n",
    "sampleList=['wtL11', 'wtL12', 'wtL13','tbx2aL11', 'tbx2aL12', 'tbx2bL11', 'tbx2bL12'] #re-rorganization\n",
    "\n",
    "stdCt={}\n",
    "stdCt['samples'] = sampleList\n",
    "\n",
    "plotname = ''\n",
    "fH, ax = plt.subplots(1,len(sampleList),figsize = (5*len(sampleList),6))\n",
    "ax[0].set_ylabel('Ct')\n",
    "for g in geneList:\n",
    "    for a in ax:\n",
    "        pH = a.plot(stdc['dLin'], stdc[g + 'm']*stdc['dLin']+stdc[g + 'p'], color = zfC[g]) #plot only lines of stdCurve\n",
    "    a = -1;\n",
    "    for s in samples:\n",
    "        a = a+1;\n",
    "        stdCt[s + g] = df[(df['Sample']==s) & (df['Target']==g)].Cq.values\n",
    "        stdCt[s + g + 'std'] = (stdCt[s + g]-stdc[g + 'p'])/stdc[g + 'm']\n",
    "        pH = ax[a].scatter((stdCt[s + g + 'std']), (stdCt[s + g]), color=zfC[g])\n",
    "        ax[a].set_xlabel('log(Dilution)')\n",
    "        fontP = formatFigureMain(fH, ax[a], pH);\n",
    "        ax[a].set_title(s, fontproperties = fontP)\n",
    "ax[a].legend(geneList, frameon=False);\n",
    "\n",
    "# stdCt       "
   ]
  },
  {
   "cell_type": "markdown",
   "id": "cubic-census",
   "metadata": {},
   "source": [
    "### Check results (fold-difference expression to selected house-keeping gene)"
   ]
  },
  {
   "cell_type": "code",
   "execution_count": null,
   "id": "governmental-accommodation",
   "metadata": {},
   "outputs": [],
   "source": [
    "# Normalization to house keeping gene (using averages now)\n",
    "hkg = 'actb2'\n",
    "\n",
    "plotname = ''\n",
    "fH, axH = plt.subplots()\n",
    "\n",
    "relW = np.size(geneList)+2;relD = np.size(geneList)+1;relP = -np.size(geneList)+1;\n",
    "j=relP;\n",
    "\n",
    "FD={}\n",
    "\n",
    "for g in geneList:\n",
    "    i=0;\n",
    "    j=j+1;\n",
    "    for s in samples:\n",
    "        i = i+1;\n",
    "        FD[s + g ] = np.power(10,np.nanmean(stdCt[s + g + 'std']))/np.power(10,np.nanmean(stdCt[s + hkg + 'std']))\n",
    "        FD[s + g + 'SD'] = 0 #missing calculation here\n",
    "        pH = plt.bar([i+j/relD], FD[s + g], width=1/relW, color=zfC[g]);\n",
    "     \n",
    "formatFigureFD(fH, axH, pH)\n",
    "axH.set_xticks(range(1,np.size(samples)+1));\n",
    "axH.set_xticklabels(['wt11','wt12','wt13','2a11','2a12','2b11','2b12']);\n",
    "# axH.set_ylim([0,2.5]);"
   ]
  },
  {
   "cell_type": "code",
   "execution_count": null,
   "id": "national-celebrity",
   "metadata": {},
   "outputs": [],
   "source": []
  },
  {
   "cell_type": "code",
   "execution_count": null,
   "id": "bibliographic-interest",
   "metadata": {},
   "outputs": [],
   "source": [
    "plotname = ''\n",
    "fH, ax = plt.subplots()\n",
    "\n",
    "# ax.legend((pH1, pH2, pH3,pH4,pH5,pH6,pH7,pH8),('wt3','wt4','wt5','2a3','2a4','2a5','2b1','2b2'),loc='best',ncol=2)"
   ]
  },
  {
   "cell_type": "code",
   "execution_count": null,
   "id": "forced-soccer",
   "metadata": {},
   "outputs": [],
   "source": []
  },
  {
   "cell_type": "markdown",
   "id": "suburban-happiness",
   "metadata": {},
   "source": [
    "## Std curve to figure out dilutions"
   ]
  },
  {
   "cell_type": "code",
   "execution_count": null,
   "id": "crazy-summit",
   "metadata": {},
   "outputs": [],
   "source": []
  },
  {
   "cell_type": "code",
   "execution_count": null,
   "id": "accepted-zimbabwe",
   "metadata": {},
   "outputs": [],
   "source": [
    "batlow = cm.vik(range(255))\n",
    "batlow = batlow[0:255:np.int(np.floor(255/8)),:]\n",
    "matplotlib.rcParams['axes.prop_cycle'] = matplotlib.cycler(color=batlow) \n",
    "\n",
    "\n",
    "def formatFigure(figH, axH, plotH):\n",
    "    font_path = '/System/Library/Fonts/Avenir.ttc'\n",
    "    fontTicks = font_manager.FontProperties(fname=font_path, size=18)\n",
    "    fontLabels = font_manager.FontProperties(fname=font_path, size=22)\n",
    "    fontTitle = font_manager.FontProperties(fname=font_path, size=28)\n",
    "    axH.set_xscale('linear')\n",
    "    axH.set_ylabel('Ct', fontproperties=fontLabels)\n",
    "    axH.set_ylabel('Dilution', fontproperties=fontLabels)\n",
    "    axH.spines['top'].set_visible(False)\n",
    "    axH.spines['right'].set_visible(False)\n",
    "    \n",
    "    \n",
    "\n",
    "    for label in (axH.get_xticklabels() + axH.get_yticklabels()):\n",
    "        label.set_fontproperties(fontTicks)"
   ]
  },
  {
   "cell_type": "code",
   "execution_count": null,
   "id": "broadband-knitting",
   "metadata": {},
   "outputs": [],
   "source": [
    "df = pd.read_csv(\"/Users/angueyraaristjm/Documents/LiMolec/zfqPCR/BioRad/20210324_CRtbx2F0_stdCurve_actb2_six7.csv\")\n",
    "df[df['Target']=='actb2']"
   ]
  },
  {
   "cell_type": "code",
   "execution_count": null,
   "id": "retired-prayer",
   "metadata": {},
   "outputs": [],
   "source": [
    "wtL03 = df[(df['Sample']=='wtL03') & (df['Target']=='actb2')].Cq\n",
    "wtL04 = df[(df['Sample']=='wtL04') & (df['Target']=='actb2')].Cq\n",
    "wtL05 = df[(df['Sample']=='wtL05') & (df['Target']=='actb2')].Cq\n",
    "tbx2aL03 = df[(df['Sample']=='tbx2aL03') & (df['Target']=='actb2')].Cq\n",
    "tbx2aL04 = df[(df['Sample']=='tbx2aL04') & (df['Target']=='actb2')].Cq\n",
    "tbx2aL05 = df[(df['Sample']=='tbx2aL05') & (df['Target']=='actb2')].Cq\n",
    "tbx2bL01 = df[(df['Sample']=='tbx2bL01') & (df['Target']=='actb2')].Cq\n",
    "tbx2bL02 = df[(df['Sample']=='tbx2bL02') & (df['Target']=='actb2')].Cq\n",
    "\n"
   ]
  },
  {
   "cell_type": "code",
   "execution_count": null,
   "id": "present-match",
   "metadata": {},
   "outputs": [],
   "source": [
    "mwtL03, bwtL03 = np.polyfit(dilutions, wtL03 , 1)\n",
    "mwtL04, bwtL04 = np.polyfit(dilutions, wtL04 , 1)\n",
    "mwtL05, bwtL05 = np.polyfit(dilutions, wtL05 , 1)\n",
    "mtbx2aL03, btbx2aL03 = np.polyfit(dilutions[~np.isnan(tbx2aL03)], tbx2aL03[~np.isnan(tbx2aL03)] , 1)\n",
    "mtbx2aL04, btbx2aL04 = np.polyfit(dilutions, tbx2aL04 , 1)\n",
    "mtbx2aL05, btbx2aL05 = np.polyfit(dilutions, tbx2aL05 , 1)\n",
    "mtbx2bL01, btbx2bL01 = np.polyfit(dilutions, tbx2bL01 , 1)\n",
    "mtbx2bL02, btbx2bL02 = np.polyfit(dilutions, tbx2bL02 , 1)"
   ]
  },
  {
   "cell_type": "code",
   "execution_count": null,
   "id": "requested-legislation",
   "metadata": {},
   "outputs": [],
   "source": [
    "#pyplot version (Sep_2019)\n",
    "plotname = ''\n",
    "fH, ax = plt.subplots()\n",
    "pH1 = plt.scatter(dilutions, wtL03)\n",
    "pH2 = plt.scatter(dilutions, wtL04)\n",
    "pH3 = plt.scatter(dilutions, wtL05)\n",
    "pH4 = plt.scatter(dilutions, tbx2aL03)\n",
    "pH5 = plt.scatter(dilutions, tbx2aL04)\n",
    "pH6 = plt.scatter(dilutions, tbx2aL05)\n",
    "pH7 = plt.scatter(dilutions, tbx2bL01)\n",
    "pH8 = plt.scatter(dilutions, tbx2bL02)\n",
    "pH9 = plt.plot(dilutions, mwtL03*dilutions + bwtL03)\n",
    "pH = plt.plot(dilutions, mwtL04*dilutions + bwtL04)\n",
    "pH = plt.plot(dilutions, mwtL05*dilutions + bwtL05)\n",
    "pH = plt.plot(dilutions, mtbx2aL03*dilutions + btbx2aL03)\n",
    "pH = plt.plot(dilutions, mtbx2aL04*dilutions + btbx2aL04)\n",
    "pH = plt.plot(dilutions, mtbx2aL05*dilutions + btbx2aL05)\n",
    "pH = plt.plot(dilutions, mtbx2bL01*dilutions + btbx2bL01)\n",
    "pH = plt.plot(dilutions, mtbx2bL02*dilutions + btbx2bL02)\n",
    "formatFigure(fH, ax, pH)\n",
    "ax.legend((pH1, pH2, pH3,pH4,pH5,pH6,pH7,pH8),('wt3','wt4','wt5','2a3','2a4','2a5','2b1','2b2'),loc='best',ncol=2)\n",
    "# plt.tight_layout()"
   ]
  },
  {
   "cell_type": "code",
   "execution_count": null,
   "id": "wireless-bearing",
   "metadata": {},
   "outputs": [],
   "source": [
    "[mwtL03,mwtL04,mwtL05,mtbx2aL03,mtbx2aL04,mtbx2aL05,mtbx2bL01,mtbx2bL02]"
   ]
  },
  {
   "cell_type": "code",
   "execution_count": null,
   "id": "junior-field",
   "metadata": {},
   "outputs": [],
   "source": []
  }
 ],
 "metadata": {
  "kernelspec": {
   "display_name": "Python 3",
   "language": "python",
   "name": "python3"
  },
  "language_info": {
   "codemirror_mode": {
    "name": "ipython",
    "version": 3
   },
   "file_extension": ".py",
   "mimetype": "text/x-python",
   "name": "python",
   "nbconvert_exporter": "python",
   "pygments_lexer": "ipython3",
   "version": "3.7.4"
  }
 },
 "nbformat": 4,
 "nbformat_minor": 5
}
