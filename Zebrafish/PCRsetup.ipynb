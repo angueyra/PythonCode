{
 "cells": [
  {
   "cell_type": "markdown",
   "metadata": {},
   "source": [
    "DNA lysis"
   ]
  },
  {
   "cell_type": "markdown",
   "metadata": {},
   "source": [
    "###### Phusion PCR setup:\n",
    "    DNA (1:10) dilution = 2 uL\n",
    "    Water = 10.4 uL\n",
    "    F primer (10 uL) = 1 uL\n",
    "    R primer (10 uL) = 1 uL\n",
    "    M13-FAM primer (10 uM) = 1 uL\n",
    "    Phusion polymerase = 0.2 uL\n",
    "    5x buffer = 4 uL\n",
    "    dNTP mix = 0.4 uL\n",
    "    "
   ]
  },
  {
   "cell_type": "code",
   "execution_count": 1,
   "metadata": {},
   "outputs": [],
   "source": [
    "import numpy as np\n",
    "import pandas as pd\n",
    "\n",
    "class gene:\n",
    "    def __init__(self, gene_name, id_numbers):\n",
    "        self.name = gene_name\n",
    "        self.ids = id_numbers\n",
    "        self.n = len(self.ids.split(','))\n",
    "        self.string = self.name + '\\n (n='+ str(self.n) + ')'\n",
    "        \n",
    "        tested_Tms = {'tjp2a': 72, #inconsistent results here. Should order new primers. On 2017/06/07, bands present with 72C.\n",
    "                      'tjp2b': 64 ,\n",
    "                      'cadm1a': 64, #tested 67C on 2017/03/30 and bands disappeared\n",
    "                      'cadm1b': 67,\n",
    "                      'eml1': 67,\n",
    "                      'cpne3': 67,\n",
    "                      'nrxn3aS': 72,\n",
    "                      'nrxn3aL': 72,\n",
    "                      'nrxn3bS': 72,\n",
    "                      'nrxn3bL': 72,\n",
    "                      'eml1⼆': 72,\n",
    "                      'cpne3⼆': 72,\n",
    "                      'cpne3_sa9988': 67,\n",
    "                      'eml1_sa14062': 66,\n",
    "                      'nrxn3a_sa11330': 67,\n",
    "                      'nrxn3b_sa36960': 66,\n",
    "                     }\n",
    "        self.Tm = tested_Tms.get(self.name, 'default')\n",
    "\n",
    "def array2list(thearray):\n",
    "    d=(\",\".join(map(str,thearray)))\n",
    "    return d\n",
    "# NORMAL Phusion\n",
    "# volumes  = [10.4, 4, 0.4, 1, 1, 1, 0.2];\n",
    "# names = ['Water','Buffer5x','dNTP mix','FWD','REV','M13-FAM','Phusion'];\n",
    "# MASTER MIX Phusion\n",
    "volumes  = [5, 1, 1, 1, 10];\n",
    "volumes = np.append(volumes,np.sum(volumes));\n",
    "names = ['Water','FWD','REV','M13-FAM','PhusionMix2x','Total'];\n",
    "PhusionDefault = pd.DataFrame(data=volumes, index=names, columns=['1x']);\n",
    "\n",
    "### test PCR (half-volume reactions, no M13-FAM)\n",
    "### NORMAL Phusion half-volume\n",
    "# volumes  = [11.4, 4, 0.4, 1, 1, 0.2];\n",
    "# volumes=np.ndarray.tolist(np.divide(volumes,2))\n",
    "# volumes = np.append(volumes,np.sum(volumes));\n",
    "# names = ['Water','Buffer5x','dNTP mix','FWD','REV','Phusion','Total'];\n",
    "# PhusionDefault = pd.DataFrame(data=volumes, index=names, columns=['1x']);\n",
    "# OR\n",
    "### MASTER MIX Phusion three quarters-volume no M13-FAM\n",
    "# volumes  = [6, 1, 1, 10];\n",
    "# volumes=np.ndarray.tolist(np.multiply(volumes,3/4))\n",
    "# volumes = np.append(volumes,np.sum(volumes));\n",
    "# names = ['Water','FWD','REV','PhusionMix2x','Total'];\n",
    "# PhusionDefault = pd.DataFrame(data=volumes, index=names, columns=['1x']);"
   ]
  },
  {
   "cell_type": "code",
   "execution_count": 2,
   "metadata": {},
   "outputs": [],
   "source": [
    "genes=[];\n",
    "# genes.append(gene('tjp2a',('2Si_1,2Si_2,2Sii_1,2Sii_2,21,22')));\n",
    "# genes.append(gene('tjp2b',('21,22')));\n",
    "# genes.append(gene('cadm1a',('1a,1b,1c,1d,1e,1f,2a,2b,2c,2d,2e,2f')));\n",
    "# genes.append(gene('cadm1a',('2')));\n",
    "# genes.append(gene('cadm1b',('19')));\n",
    "# genes.append(gene('cpne3⼆',('1a,1b,2')));\n",
    "genes.append(gene('nrxn3a',('1,2,3')));\n",
    "# genes.append(gene('eml1⼆',('2a,2b,3,4')));\n",
    "\n"
   ]
  },
  {
   "cell_type": "code",
   "execution_count": 22,
   "metadata": {},
   "outputs": [
    {
     "data": {
      "text/plain": [
       "array([  4.5 ,   0.75,   0.75,   7.5 ,  13.5 ])"
      ]
     },
     "execution_count": 22,
     "metadata": {},
     "output_type": "execute_result"
    }
   ],
   "source": []
  },
  {
   "cell_type": "code",
   "execution_count": 3,
   "metadata": {},
   "outputs": [
    {
     "data": {
      "text/html": [
       "<div>\n",
       "<style scoped>\n",
       "    .dataframe tbody tr th:only-of-type {\n",
       "        vertical-align: middle;\n",
       "    }\n",
       "\n",
       "    .dataframe tbody tr th {\n",
       "        vertical-align: top;\n",
       "    }\n",
       "\n",
       "    .dataframe thead th {\n",
       "        text-align: right;\n",
       "    }\n",
       "</style>\n",
       "<table border=\"1\" class=\"dataframe\">\n",
       "  <thead>\n",
       "    <tr style=\"text-align: right;\">\n",
       "      <th>-</th>\n",
       "      <th>1x</th>\n",
       "      <th>nrxn3a_sa11330\n",
       " (n=23)</th>\n",
       "    </tr>\n",
       "  </thead>\n",
       "  <tbody>\n",
       "    <tr>\n",
       "      <th>Water</th>\n",
       "      <td>4.00</td>\n",
       "      <td>96.60</td>\n",
       "    </tr>\n",
       "    <tr>\n",
       "      <th>FWD</th>\n",
       "      <td>0.75</td>\n",
       "      <td>18.11</td>\n",
       "    </tr>\n",
       "    <tr>\n",
       "      <th>REV</th>\n",
       "      <td>0.75</td>\n",
       "      <td>18.11</td>\n",
       "    </tr>\n",
       "    <tr>\n",
       "      <th>PhusionMix2x</th>\n",
       "      <td>7.50</td>\n",
       "      <td>181.13</td>\n",
       "    </tr>\n",
       "    <tr>\n",
       "      <th>Total</th>\n",
       "      <td>13.00</td>\n",
       "      <td>313.95</td>\n",
       "    </tr>\n",
       "  </tbody>\n",
       "</table>\n",
       "</div>"
      ],
      "text/plain": [
       "-                1x  nrxn3a_sa11330\\n (n=23)\n",
       "Water          4.00                    96.60\n",
       "FWD            0.75                    18.11\n",
       "REV            0.75                    18.11\n",
       "PhusionMix2x   7.50                   181.13\n",
       "Total         13.00                   313.95"
      ]
     },
     "execution_count": 3,
     "metadata": {},
     "output_type": "execute_result"
    }
   ],
   "source": [
    "## For sequencing\n",
    "### MASTER MIX Phusion three quarters-volume no M13-FAM\n",
    "volumes  = [5.3333333, 1, 1, 10];\n",
    "volumes=np.ndarray.tolist(np.multiply(volumes,3/4))\n",
    "volumes = np.append(volumes,np.sum(volumes));\n",
    "names = ['Water','FWD','REV','PhusionMix2x','Total'];\n",
    "PhusionDefault = pd.DataFrame(data=volumes, index=names, columns=['1x']);\n",
    "#######\n",
    "genes=[];\n",
    "# genes.append(gene('cpne3⼆',('1E,1H,1WT')));\n",
    "# genes.append(gene('cpne3_sa9988',(array2list(np.arange(1,25,1)))));\n",
    "# genes.append(gene('tjp2a',(array2list(np.arange(1,25,1)))));\n",
    "# genes.append(gene('eml1_sa14062',('1wt,2wt,3wt')));\n",
    "# genes.append(gene('eml1_FR',(array2list(np.arange(9,13,1)))));\n",
    "# genes.append(gene('eml1_FRii',(array2list(np.arange(9,13,1)))));\n",
    "# genes.append(gene('eml1_FiiR',(array2list(np.arange(9,13,1)))));\n",
    "# genes.append(gene('eml1_FiiRii',(array2list(np.arange(9,13,1)))));\n",
    "# genes.append(gene('tjp2a_FR',(array2list(np.arange(17,21,1)))));\n",
    "# genes.append(gene('tjp2a_FRii',(array2list(np.arange(17,21,1)))));\n",
    "# genes.append(gene('tjp2a_FiiRii',(array2list(np.arange(17,21,1)))));\n",
    "# genes.append(gene('NoDNA',(array2list(np.arange(0,1,1)))));\n",
    "# genes.append(gene('Nothing',(array2list(np.arange(0,1,1)))));\n",
    "genes.append(gene('nrxn3a_sa11330',(array2list(np.arange(1,24,1)))));\n",
    "# genes.append(gene('cadm1a',(array2list(np.arange(1,26,1)))));\n",
    "# genes.append(gene('nrxn3a_sa11330',(array2list(np.arange(1,8,1)))));\n",
    "\n",
    "# genes.append(gene('nrxn3b_sa36960',('1wt,2wt,3wt')));\n",
    "# genes.append(gene('cadm1a',('16B,10A,10B,10C,10D,10E,10F,10G,10H,10I,10J,10K,10L,10M,10N,10O,10P,10Q,10R,10S,10T')));\n",
    "# genes.append(gene('tjp2a',('8D,8E,8F,8G,14G,14H,18F,18G,18H,18I,18wt,2A,2B,2C,2D,2E,2F,2G,2H,2I,2J,2K,2L,2M,2N,2O,2P,2Q,2R,2S,2T')));\n",
    "# genes.append(gene('tjp2b',('8I,18I,18wt')));\n",
    "# genes.append(gene('nrxn3aL',('7F,FG')));\n",
    "\n",
    "PCR = pd.DataFrame.copy(PhusionDefault)\n",
    "for g in genes:\n",
    "    PCR[g.string] = round(pd.Series(PCR['1x'] * (g.n*1*1.05)),2)\n",
    "PCR.columns.name = '-'\n",
    "PCR"
   ]
  },
  {
   "cell_type": "code",
   "execution_count": 8,
   "metadata": {},
   "outputs": [
    {
     "data": {
      "text/html": [
       "<div>\n",
       "<style scoped>\n",
       "    .dataframe tbody tr th:only-of-type {\n",
       "        vertical-align: middle;\n",
       "    }\n",
       "\n",
       "    .dataframe tbody tr th {\n",
       "        vertical-align: top;\n",
       "    }\n",
       "\n",
       "    .dataframe thead th {\n",
       "        text-align: right;\n",
       "    }\n",
       "</style>\n",
       "<table border=\"1\" class=\"dataframe\">\n",
       "  <thead>\n",
       "    <tr style=\"text-align: right;\">\n",
       "      <th>-</th>\n",
       "      <th>1x</th>\n",
       "      <th>cpne3⼆\n",
       " (n=3)</th>\n",
       "    </tr>\n",
       "  </thead>\n",
       "  <tbody>\n",
       "    <tr>\n",
       "      <th>Water</th>\n",
       "      <td>5</td>\n",
       "      <td>126.0</td>\n",
       "    </tr>\n",
       "    <tr>\n",
       "      <th>FWD</th>\n",
       "      <td>1</td>\n",
       "      <td>25.2</td>\n",
       "    </tr>\n",
       "    <tr>\n",
       "      <th>REV</th>\n",
       "      <td>1</td>\n",
       "      <td>25.2</td>\n",
       "    </tr>\n",
       "    <tr>\n",
       "      <th>M13-FAM</th>\n",
       "      <td>1</td>\n",
       "      <td>25.2</td>\n",
       "    </tr>\n",
       "    <tr>\n",
       "      <th>PhusionMix2x</th>\n",
       "      <td>10</td>\n",
       "      <td>252.0</td>\n",
       "    </tr>\n",
       "    <tr>\n",
       "      <th>Total</th>\n",
       "      <td>18</td>\n",
       "      <td>453.6</td>\n",
       "    </tr>\n",
       "  </tbody>\n",
       "</table>\n",
       "</div>"
      ],
      "text/plain": [
       "-             1x  cpne3⼆\\n (n=3)\n",
       "Water          5           126.0\n",
       "FWD            1            25.2\n",
       "REV            1            25.2\n",
       "M13-FAM        1            25.2\n",
       "PhusionMix2x  10           252.0\n",
       "Total         18           453.6"
      ]
     },
     "execution_count": 8,
     "metadata": {},
     "output_type": "execute_result"
    }
   ],
   "source": [
    "# PCR table for fragment analysis screen (8 larvae per founder)\n",
    "PCR = pd.DataFrame.copy(PhusionDefault)\n",
    "for g in genes:\n",
    "    PCR[g.string] = pd.Series(PCR['1x'] * round((g.n*8*1.05),1))\n",
    "PCR.columns.name = '-'\n",
    "PCR"
   ]
  },
  {
   "cell_type": "code",
   "execution_count": 4,
   "metadata": {
    "scrolled": true
   },
   "outputs": [
    {
     "data": {
      "text/html": [
       "<div>\n",
       "<style scoped>\n",
       "    .dataframe tbody tr th:only-of-type {\n",
       "        vertical-align: middle;\n",
       "    }\n",
       "\n",
       "    .dataframe tbody tr th {\n",
       "        vertical-align: top;\n",
       "    }\n",
       "\n",
       "    .dataframe thead th {\n",
       "        text-align: right;\n",
       "    }\n",
       "</style>\n",
       "<table border=\"1\" class=\"dataframe\">\n",
       "  <thead>\n",
       "    <tr style=\"text-align: right;\">\n",
       "      <th>gene</th>\n",
       "      <th>Tm (°C)</th>\n",
       "      <th>id#</th>\n",
       "    </tr>\n",
       "  </thead>\n",
       "  <tbody>\n",
       "    <tr>\n",
       "      <th>nrxn3a_sa11330</th>\n",
       "      <td>67</td>\n",
       "      <td>1,2,3,4,5,6,7,8,9,10,11,12,13,14,15,16,17,18,1...</td>\n",
       "    </tr>\n",
       "  </tbody>\n",
       "</table>\n",
       "</div>"
      ],
      "text/plain": [
       "gene            Tm (°C)                                                id#\n",
       "nrxn3a_sa11330       67  1,2,3,4,5,6,7,8,9,10,11,12,13,14,15,16,17,18,1..."
      ]
     },
     "execution_count": 4,
     "metadata": {},
     "output_type": "execute_result"
    }
   ],
   "source": [
    "names = [];\n",
    "ids = [];\n",
    "tms = [];\n",
    "for g in genes:\n",
    "    names.append(g.name)\n",
    "    ids.append(g.ids)\n",
    "    tms.append(g.Tm)\n",
    "\n",
    "IDs = pd.DataFrame({'id#': ids, 'Tm (°C)' : tms}, index=names)\n",
    "IDs.columns.name = 'gene'\n",
    "#IDs[['id#','Tm (°C)']]\n",
    "IDs"
   ]
  },
  {
   "cell_type": "code",
   "execution_count": 9,
   "metadata": {},
   "outputs": [
    {
     "data": {
      "text/plain": [
       "'<table border=\"1\" class=\"dataframe\">\\n  <thead>\\n    <tr style=\"text-align: right;\">\\n      <th>-</th>\\n      <th>1x</th>\\n      <th>tjp2a\\n (n=1)</th>\\n      <th>tjp2b\\n (n=1)</th>\\n      <th>cadm1a\\n (n=2)</th>\\n      <th>cadm1b\\n (n=2)</th>\\n      <th>nrxn3aL\\n (n=1)</th>\\n      <th>nrxn3bL\\n (n=1)</th>\\n    </tr>\\n  </thead>\\n  <tbody>\\n    <tr>\\n      <th>Water</th>\\n      <td>5</td>\\n      <td>42.0</td>\\n      <td>42.0</td>\\n      <td>84.0</td>\\n      <td>84.0</td>\\n      <td>42.0</td>\\n      <td>42.0</td>\\n    </tr>\\n    <tr>\\n      <th>FWD</th>\\n      <td>1</td>\\n      <td>8.4</td>\\n      <td>8.4</td>\\n      <td>16.8</td>\\n      <td>16.8</td>\\n      <td>8.4</td>\\n      <td>8.4</td>\\n    </tr>\\n    <tr>\\n      <th>REV</th>\\n      <td>1</td>\\n      <td>8.4</td>\\n      <td>8.4</td>\\n      <td>16.8</td>\\n      <td>16.8</td>\\n      <td>8.4</td>\\n      <td>8.4</td>\\n    </tr>\\n    <tr>\\n      <th>M13-FAM</th>\\n      <td>1</td>\\n      <td>8.4</td>\\n      <td>8.4</td>\\n      <td>16.8</td>\\n      <td>16.8</td>\\n      <td>8.4</td>\\n      <td>8.4</td>\\n    </tr>\\n    <tr>\\n      <th>PhusionMix2x</th>\\n      <td>10</td>\\n      <td>84.0</td>\\n      <td>84.0</td>\\n      <td>168.0</td>\\n      <td>168.0</td>\\n      <td>84.0</td>\\n      <td>84.0</td>\\n    </tr>\\n  </tbody>\\n</table>'"
      ]
     },
     "execution_count": 9,
     "metadata": {},
     "output_type": "execute_result"
    }
   ],
   "source": [
    "#Need to create html output into a letter sized\n",
    "PCR.to_html()"
   ]
  },
  {
   "cell_type": "code",
   "execution_count": 10,
   "metadata": {},
   "outputs": [
    {
     "data": {
      "text/plain": [
       "'<table border=\"1\" class=\"dataframe\">\\n  <thead>\\n    <tr style=\"text-align: right;\">\\n      <th>gene</th>\\n      <th>Tm (°C)</th>\\n      <th>id#</th>\\n    </tr>\\n  </thead>\\n  <tbody>\\n    <tr>\\n      <th>tjp2a</th>\\n      <td>72</td>\\n      <td>14</td>\\n    </tr>\\n    <tr>\\n      <th>tjp2b</th>\\n      <td>64</td>\\n      <td>14</td>\\n    </tr>\\n    <tr>\\n      <th>cadm1a</th>\\n      <td>64</td>\\n      <td>16, 17</td>\\n    </tr>\\n    <tr>\\n      <th>cadm1b</th>\\n      <td>67</td>\\n      <td>16, 17</td>\\n    </tr>\\n    <tr>\\n      <th>nrxn3aL</th>\\n      <td>72</td>\\n      <td>17</td>\\n    </tr>\\n    <tr>\\n      <th>nrxn3bL</th>\\n      <td>72</td>\\n      <td>17</td>\\n    </tr>\\n  </tbody>\\n</table>'"
      ]
     },
     "execution_count": 10,
     "metadata": {},
     "output_type": "execute_result"
    }
   ],
   "source": [
    "IDs.to_html()"
   ]
  },
  {
   "cell_type": "code",
   "execution_count": null,
   "metadata": {
    "collapsed": true
   },
   "outputs": [],
   "source": []
  },
  {
   "cell_type": "code",
   "execution_count": 10,
   "metadata": {},
   "outputs": [
    {
     "ename": "TypeError",
     "evalue": "unsupported operand type(s) for -: 'str' and 'str'",
     "output_type": "error",
     "traceback": [
      "\u001b[0;31m---------------------------------------------------------------------------\u001b[0m",
      "\u001b[0;31mTypeError\u001b[0m                                 Traceback (most recent call last)",
      "\u001b[0;32m<ipython-input-10-4852d54e7002>\u001b[0m in \u001b[0;36m<module>\u001b[0;34m()\u001b[0m\n\u001b[0;32m----> 1\u001b[0;31m \u001b[0ma\u001b[0m\u001b[0;34m=\u001b[0m\u001b[0mnp\u001b[0m\u001b[0;34m.\u001b[0m\u001b[0marange\u001b[0m\u001b[0;34m(\u001b[0m\u001b[0;34m'a'\u001b[0m\u001b[0;34m,\u001b[0m\u001b[0;34m'd'\u001b[0m\u001b[0;34m)\u001b[0m\u001b[0;34m\u001b[0m\u001b[0m\n\u001b[0m",
      "\u001b[0;31mTypeError\u001b[0m: unsupported operand type(s) for -: 'str' and 'str'"
     ]
    }
   ],
   "source": [
    "a=np.arange('a','d')"
   ]
  },
  {
   "cell_type": "code",
   "execution_count": 14,
   "metadata": {},
   "outputs": [
    {
     "name": "stdout",
     "output_type": "stream",
     "text": [
      "[ 9 10 11 12 13 14 15]\n"
     ]
    }
   ],
   "source": [
    "a=np.arange(9,16)\n",
    "print(a)"
   ]
  },
  {
   "cell_type": "code",
   "execution_count": 6,
   "metadata": {
    "collapsed": true
   },
   "outputs": [],
   "source": [
    "np.arange?"
   ]
  },
  {
   "cell_type": "code",
   "execution_count": null,
   "metadata": {
    "collapsed": true
   },
   "outputs": [],
   "source": []
  }
 ],
 "metadata": {
  "kernelspec": {
   "display_name": "Python 3",
   "language": "python",
   "name": "python3"
  },
  "language_info": {
   "codemirror_mode": {
    "name": "ipython",
    "version": 3
   },
   "file_extension": ".py",
   "mimetype": "text/x-python",
   "name": "python",
   "nbconvert_exporter": "python",
   "pygments_lexer": "ipython3",
   "version": "3.5.5"
  }
 },
 "nbformat": 4,
 "nbformat_minor": 1
}
