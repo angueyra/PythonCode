{
 "cells": [
  {
   "cell_type": "markdown",
   "metadata": {},
   "source": [
    "### Setup for PCR for genotyping, fragment analysis, sequencing, etc."
   ]
  },
  {
   "cell_type": "code",
   "execution_count": 13,
   "metadata": {},
   "outputs": [],
   "source": [
    "# !pip install PyQt5 --upgrade"
   ]
  },
  {
   "cell_type": "markdown",
   "metadata": {},
   "source": [
    "###### Phusion PCR setup:\n",
    "    DNA (1:10) dilution = 2 uL\n",
    "    Water = 10.4 uL\n",
    "    F primer (10 uL) = 1 uL\n",
    "    R primer (10 uL) = 1 uL\n",
    "    M13-FAM primer (10 uM) = 1 uL\n",
    "    Phusion polymerase = 0.2 uL\n",
    "    5x buffer = 4 uL\n",
    "    dNTP mix = 0.4 uL\n",
    "    "
   ]
  },
  {
   "cell_type": "code",
   "execution_count": 11,
   "metadata": {},
   "outputs": [
    {
     "name": "stdout",
     "output_type": "stream",
     "text": [
      "LOADED: 13 uL reaction\n"
     ]
    }
   ],
   "source": [
    "import numpy as np\n",
    "import pandas as pd\n",
    "\n",
    "class gene:\n",
    "    def __init__(self, gene_name, id_numbers):\n",
    "        self.name = gene_name\n",
    "        self.ids = id_numbers\n",
    "        self.n = len(self.ids.split(','))\n",
    "        self.string = self.name + ' (n='+ str(self.n) + ')'\n",
    "        \n",
    "        tested_Tms = {'tjp2a': 72, #inconsistent results here. Should order new primers. On 2017/06/07, bands present with 72C.\n",
    "                      'tjp2b': 64 ,\n",
    "                      'cadm1a': 64, #tested 67C on 2017/03/30 and bands disappeared\n",
    "                      'cadm1b': 67,\n",
    "                      'eml1': 67,\n",
    "                      'cpne3': 67,\n",
    "                      'nrxn3aS': 72,\n",
    "                      'nrxn3aL': 72,\n",
    "                      'nrxn3bS': 72,\n",
    "                      'nrxn3bL': 72,\n",
    "                      'eml1⼆': 72,\n",
    "                      'cpne3⼆': 72,\n",
    "                      'cpne3_sa9988': 67,\n",
    "                      'eml1_sa14062': 66,\n",
    "                      'nrxn3a_sa11330': 67,\n",
    "                      'nrxn3b_sa36960': 66,\n",
    "#                       'syt5a': 00, #F and R primers that don't work NEB Tm = 61; 2020/02/03: tested 59 & 67: no bands; 62: extremely faint band\n",
    "                      'syt5a': 67, #Fii and Rii New primers: NEB Tm = 62; 2020/02/03: tested 59 & 67: no bands; 62: extremely faint band\n",
    "                      'gnat2': 67, #NEB Tm = 64; 2020/02/03: tested 62 and 67: both work;\n",
    "                      'sema7a': 67, #NEB Tm = 62; 2020/02/03: tested 62 and 67: both work;\n",
    "                      'efna1b': 70, #NEB Tm = 63; 2020/02/03: tested 59, 62 and 67: 3 extra bands at lower weight; tested 69: much cleaner\n",
    "                      'tbx2a': 67, #NEB Tm = 59; \n",
    "                      'tbx2b': 67, #NEB Tm = 61; \n",
    "                      'ntng2b': 67, #NEB Tm = 61; \n",
    "                      'foxq2' : 64,\n",
    "                     }\n",
    "                                    # 2020/06/26:  tested 62 and 67: only 62 has good bands; 67 had weak bands in some samples, but not all;\n",
    "        self.Tm = tested_Tms.get(self.name, 'default')\n",
    "        \n",
    "        tested_seqPrimer = {'tjp2a': 'none', #inconsistent results here. Should order new primers. On 2017/06/07, bands present with 72C.\n",
    "                      'tjp2b': 'none' ,\n",
    "                      'cadm1a': 'F',\n",
    "                      'cadm1b': 'none',\n",
    "                      'eml1': 'none',\n",
    "                      'cpne3': 'none',\n",
    "                      'nrxn3aS': 'none',\n",
    "                      'nrxn3aL': 'none',\n",
    "                      'nrxn3bS': 'none',\n",
    "                      'nrxn3bL': 'none',\n",
    "                      'eml1⼆': 'none',\n",
    "                      'cpne3⼆': 'none',\n",
    "                      'cpne3_sa9988': 'none',\n",
    "                      'eml1_sa14062': 'none',\n",
    "                      'nrxn3a_sa11330': 'R',\n",
    "                      'nrxn3b_sa36960': 'none',\n",
    "                      'syt5a':  'idk', # trying Fii (200/07/31)\n",
    "                      'gnat2': 'idk',\n",
    "                      'sema7a': 'idk', # trying F (200/07/31)\n",
    "                      'efna1b': 'idk',\n",
    "                      'tbx2a': 'idk',\n",
    "                      'tbx2b': 'idk',\n",
    "                      'ntng2': 'idk',\n",
    "                      'foxq2': 'idk',\n",
    "                     }\n",
    "        self.seqPrimer = tested_seqPrimer.get(self.name, 'default')\n",
    "\n",
    "def array2list(thearray):\n",
    "    d=(\",\".join(map(str,thearray)))\n",
    "    return d\n",
    "# NORMAL Phusion\n",
    "# volumes  = [10.4, 4, 0.4, 1, 1, 1, 0.2];\n",
    "# names = ['Water','Buffer5x','dNTP mix','FWD','REV','M13-FAM','Phusion'];\n",
    "# MASTER MIX Phusion\n",
    "# volumes  = [5, 1, 1, 1, 10];\n",
    "# MASTER MIX Phusion using Kate Pinter's ratios (May, 2021)\n",
    "volumes  = [6.42, 0.316, 0.632, 0.632, 10];\n",
    "volumes = np.append(volumes,np.sum(volumes)); alertString = \"20 uL reaction\";\n",
    "volumes=np.ndarray.tolist(np.multiply(volumes,2/3));  alertString = \"13 uL reaction\";# for Fo-screen and no sequencing plans\n",
    "names = ['Water','FWD','REV','M13-FAM','PhusionMix2x','Total'];\n",
    "PhusionDefault = pd.DataFrame(data=volumes, index=names, columns=['1x']);\n",
    "\n",
    "### test PCR (half-volume reactions, no M13-FAM)\n",
    "### NORMAL Phusion half-volume\n",
    "# volumes  = [11.4, 4, 0.4, 1, 1, 0.2];\n",
    "# volumes=np.ndarray.tolist(np.divide(volumes,2))\n",
    "# volumes = np.append(volumes,np.sum(volumes));\n",
    "# names = ['Water','Buffer5x','dNTP mix','FWD','REV','Phusion','Total'];\n",
    "# PhusionDefault = pd.DataFrame(data=volumes, index=names, columns=['1x']);\n",
    "# OR\n",
    "### MASTER MIX Phusion three quarters-volume no M13-FAM\n",
    "# volumes  = [6, 1, 1, 10];\n",
    "# volumes=np.ndarray.tolist(np.multiply(volumes,3/4))\n",
    "# volumes = np.append(volumes,np.sum(volumes));\n",
    "# names = ['Water','FWD','REV','PhusionMix2x','Total'];\n",
    "# PhusionDefault = pd.DataFrame(data=volumes, index=names, columns=['1x']);\n",
    "\n",
    "# ### For sequencing\n",
    "# volumes  = [6, 1, 1, 10];\n",
    "# volumes=np.ndarray.tolist(np.multiply(volumes,1/2)); alertString = \"10 uL reaction\";\n",
    "# volumes = np.append(volumes,np.sum(volumes));\n",
    "# names = ['Water','FWD','REV','PhusionMix2x','Total'];\n",
    "# PhusionDefault = pd.DataFrame(data=volumes, index=names, columns=['1x']);\n",
    "\n",
    "print('LOADED: ' + alertString)\n",
    "# volumes"
   ]
  },
  {
   "cell_type": "code",
   "execution_count": 12,
   "metadata": {},
   "outputs": [
    {
     "data": {
      "text/html": [
       "<div>\n",
       "<style scoped>\n",
       "    .dataframe tbody tr th:only-of-type {\n",
       "        vertical-align: middle;\n",
       "    }\n",
       "\n",
       "    .dataframe tbody tr th {\n",
       "        vertical-align: top;\n",
       "    }\n",
       "\n",
       "    .dataframe thead th {\n",
       "        text-align: right;\n",
       "    }\n",
       "</style>\n",
       "<table border=\"1\" class=\"dataframe\">\n",
       "  <thead>\n",
       "    <tr style=\"text-align: right;\">\n",
       "      <th>-</th>\n",
       "      <th>1x</th>\n",
       "      <th>tbx2a (n=40)</th>\n",
       "      <th>foxq2 (n=40)</th>\n",
       "    </tr>\n",
       "  </thead>\n",
       "  <tbody>\n",
       "    <tr>\n",
       "      <th>Water</th>\n",
       "      <td>4.28</td>\n",
       "      <td>188.32</td>\n",
       "      <td>188.32</td>\n",
       "    </tr>\n",
       "    <tr>\n",
       "      <th>FWD</th>\n",
       "      <td>0.21</td>\n",
       "      <td>9.27</td>\n",
       "      <td>9.27</td>\n",
       "    </tr>\n",
       "    <tr>\n",
       "      <th>REV</th>\n",
       "      <td>0.42</td>\n",
       "      <td>18.54</td>\n",
       "      <td>18.54</td>\n",
       "    </tr>\n",
       "    <tr>\n",
       "      <th>M13-FAM</th>\n",
       "      <td>0.42</td>\n",
       "      <td>18.54</td>\n",
       "      <td>18.54</td>\n",
       "    </tr>\n",
       "    <tr>\n",
       "      <th>PhusionMix2x</th>\n",
       "      <td>6.67</td>\n",
       "      <td>293.33</td>\n",
       "      <td>293.33</td>\n",
       "    </tr>\n",
       "    <tr>\n",
       "      <th>Total</th>\n",
       "      <td>12.00</td>\n",
       "      <td>528.00</td>\n",
       "      <td>528.00</td>\n",
       "    </tr>\n",
       "  </tbody>\n",
       "</table>\n",
       "</div>"
      ],
      "text/plain": [
       "-                1x  tbx2a (n=40)  foxq2 (n=40)\n",
       "Water          4.28        188.32        188.32\n",
       "FWD            0.21          9.27          9.27\n",
       "REV            0.42         18.54         18.54\n",
       "M13-FAM        0.42         18.54         18.54\n",
       "PhusionMix2x   6.67        293.33        293.33\n",
       "Total         12.00        528.00        528.00"
      ]
     },
     "execution_count": 12,
     "metadata": {},
     "output_type": "execute_result"
    }
   ],
   "source": [
    "\n",
    "# ### MASTER MIX Phusion three quarters-volume no M13-FAM\n",
    "# volumes=np.ndarray.tolist(np.multiply(volumes,3/4))\n",
    "\n",
    "### MASTER MIX Phusion half-volume no M13-FAM\n",
    "# volumes=np.ndarray.tolist(np.multiply(volumes,1/2))\n",
    "# volumes = np.append(volumes,np.sum(volumes));\n",
    "# names = ['Water','FWD','REV','PhusionMix2x','Total'];\n",
    "# PhusionDefault = pd.DataFrame(data=volumes, index=names, columns=['1x']);\n",
    "\n",
    "#######\n",
    "genes=[];\n",
    "# genes.append(gene('sema7a',array2list(np.arange(0,8*2,1))));\n",
    "# genes.append(gene('gnat2',array2list(np.arange(0,8,1))));\n",
    "# genes.append(gene('syt5a',array2list(np.arange(0,8*4,1))));\n",
    "# genes.append(gene('efna1b',array2list(np.arange(0,8*3,1))));\n",
    "# genes.append(gene('syt5a',array2list(np.arange(0,8*2,1))));\n",
    "\n",
    "# genes.append(gene('eml1',(array2list(np.arange(0,16,1)))));\n",
    "# genes.append(gene('ntng2b',(array2list(np.arange(0,8*5,1)))));\n",
    "genes.append(gene('tbx2a',(array2list(np.arange(0,8*5,1)))));\n",
    "genes.append(gene('foxq2',(array2list(np.arange(0,8*5,1)))));\n",
    "# genes.append(gene('tbx2a',(array2list(np.arange(0,8,1)))));\n",
    "\n",
    "\n",
    "# genes.append(gene('eml1ii',(array2list(np.arange(0,12,1)))));\n",
    "\n",
    "PCR = pd.DataFrame.copy(PhusionDefault)\n",
    "for g in genes:\n",
    "    PCR[g.string] = round(pd.Series(PCR['1x'] * (g.n*1*1.1)),2)\n",
    "PCR.columns.name = '-'\n",
    "PCR.round(decimals=2)"
   ]
  },
  {
   "cell_type": "code",
   "execution_count": 13,
   "metadata": {
    "scrolled": true
   },
   "outputs": [
    {
     "data": {
      "text/html": [
       "<div>\n",
       "<style scoped>\n",
       "    .dataframe tbody tr th:only-of-type {\n",
       "        vertical-align: middle;\n",
       "    }\n",
       "\n",
       "    .dataframe tbody tr th {\n",
       "        vertical-align: top;\n",
       "    }\n",
       "\n",
       "    .dataframe thead th {\n",
       "        text-align: right;\n",
       "    }\n",
       "</style>\n",
       "<table border=\"1\" class=\"dataframe\">\n",
       "  <thead>\n",
       "    <tr style=\"text-align: right;\">\n",
       "      <th>gene</th>\n",
       "      <th>id#</th>\n",
       "      <th>Tm (°C)</th>\n",
       "      <th>seqPrimer</th>\n",
       "    </tr>\n",
       "  </thead>\n",
       "  <tbody>\n",
       "    <tr>\n",
       "      <th>tbx2a</th>\n",
       "      <td>0,1,2,3,4,5,6,7,8,9,10,11,12,13,14,15,16,17,18...</td>\n",
       "      <td>67</td>\n",
       "      <td>idk</td>\n",
       "    </tr>\n",
       "    <tr>\n",
       "      <th>foxq2</th>\n",
       "      <td>0,1,2,3,4,5,6,7,8,9,10,11,12,13,14,15,16,17,18...</td>\n",
       "      <td>64</td>\n",
       "      <td>idk</td>\n",
       "    </tr>\n",
       "  </tbody>\n",
       "</table>\n",
       "</div>"
      ],
      "text/plain": [
       "gene                                                 id#  Tm (°C) seqPrimer\n",
       "tbx2a  0,1,2,3,4,5,6,7,8,9,10,11,12,13,14,15,16,17,18...       67       idk\n",
       "foxq2  0,1,2,3,4,5,6,7,8,9,10,11,12,13,14,15,16,17,18...       64       idk"
      ]
     },
     "execution_count": 13,
     "metadata": {},
     "output_type": "execute_result"
    }
   ],
   "source": [
    "names = [];\n",
    "ids = [];\n",
    "tms = [];\n",
    "seqPrimer =[];\n",
    "for g in genes:\n",
    "    names.append(g.name)\n",
    "    ids.append(g.ids)\n",
    "    tms.append(g.Tm)\n",
    "    seqPrimer.append(g.seqPrimer)\n",
    "\n",
    "IDs = pd.DataFrame({'id#': ids, 'Tm (°C)' : tms, 'seqPrimer' : seqPrimer}, index=names)\n",
    "IDs.columns.name = 'gene'\n",
    "#IDs[['id#','Tm (°C)']]\n",
    "IDs"
   ]
  },
  {
   "cell_type": "code",
   "execution_count": 14,
   "metadata": {},
   "outputs": [
    {
     "name": "stdout",
     "output_type": "stream",
     "text": [
      "|              |    1x |   tbx2a (n=40) |   foxq2 (n=40) |\n",
      "|:-------------|------:|---------------:|---------------:|\n",
      "| Water        |  4.28 |         188.32 |         188.32 |\n",
      "| FWD          |  0.21 |           9.27 |           9.27 |\n",
      "| REV          |  0.42 |          18.54 |          18.54 |\n",
      "| M13-FAM      |  0.42 |          18.54 |          18.54 |\n",
      "| PhusionMix2x |  6.67 |         293.33 |         293.33 |\n",
      "| Total        | 12    |         528    |         528    |\n"
     ]
    }
   ],
   "source": [
    "#\n",
    "print(PCR.round(decimals=2).to_markdown())"
   ]
  },
  {
   "cell_type": "code",
   "execution_count": 15,
   "metadata": {},
   "outputs": [
    {
     "name": "stdout",
     "output_type": "stream",
     "text": [
      "|       | id#                                                                                                           |   Tm (°C) | seqPrimer   |\n",
      "|:------|:--------------------------------------------------------------------------------------------------------------|----------:|:------------|\n",
      "| tbx2a | 0,1,2,3,4,5,6,7,8,9,10,11,12,13,14,15,16,17,18,19,20,21,22,23,24,25,26,27,28,29,30,31,32,33,34,35,36,37,38,39 |        67 | idk         |\n",
      "| foxq2 | 0,1,2,3,4,5,6,7,8,9,10,11,12,13,14,15,16,17,18,19,20,21,22,23,24,25,26,27,28,29,30,31,32,33,34,35,36,37,38,39 |        64 | idk         |\n"
     ]
    }
   ],
   "source": [
    "print(IDs.to_markdown())"
   ]
  },
  {
   "cell_type": "code",
   "execution_count": null,
   "metadata": {
    "collapsed": true,
    "jupyter": {
     "outputs_hidden": true
    }
   },
   "outputs": [],
   "source": []
  },
  {
   "cell_type": "code",
   "execution_count": 7,
   "metadata": {},
   "outputs": [
    {
     "data": {
      "text/plain": [
       "16.0"
      ]
     },
     "execution_count": 7,
     "metadata": {},
     "output_type": "execute_result"
    }
   ],
   "source": [
    "64/4"
   ]
  },
  {
   "cell_type": "code",
   "execution_count": null,
   "metadata": {},
   "outputs": [],
   "source": []
  },
  {
   "cell_type": "code",
   "execution_count": null,
   "metadata": {
    "collapsed": true,
    "jupyter": {
     "outputs_hidden": true
    }
   },
   "outputs": [],
   "source": []
  },
  {
   "cell_type": "code",
   "execution_count": null,
   "metadata": {
    "collapsed": true,
    "jupyter": {
     "outputs_hidden": true
    }
   },
   "outputs": [],
   "source": []
  },
  {
   "cell_type": "code",
   "execution_count": null,
   "metadata": {},
   "outputs": [],
   "source": []
  }
 ],
 "metadata": {
  "kernelspec": {
   "display_name": "Python 3",
   "language": "python",
   "name": "python3"
  },
  "language_info": {
   "codemirror_mode": {
    "name": "ipython",
    "version": 3
   },
   "file_extension": ".py",
   "mimetype": "text/x-python",
   "name": "python",
   "nbconvert_exporter": "python",
   "pygments_lexer": "ipython3",
   "version": "3.7.4"
  }
 },
 "nbformat": 4,
 "nbformat_minor": 4
}
