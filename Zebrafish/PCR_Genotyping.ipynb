{
 "cells": [
  {
   "cell_type": "markdown",
   "metadata": {},
   "source": [
    "DNA lysis"
   ]
  },
  {
   "cell_type": "markdown",
   "metadata": {},
   "source": [
    "###### Phusion PCR setup:\n",
    "    DNA (1:10) dilution = 2 uL\n",
    "    Water = 10.4 uL\n",
    "    F primer (10 uL) = 1 uL\n",
    "    R primer (10 uL) = 1 uL\n",
    "    M13-FAM primer (10 uM) = 1 uL\n",
    "    Phusion polymerase = 0.2 uL\n",
    "    5x buffer = 4 uL\n",
    "    dNTP mix = 0.4 uL\n",
    "    "
   ]
  },
  {
   "cell_type": "code",
   "execution_count": 2,
   "metadata": {},
   "outputs": [],
   "source": [
    "import numpy as np\n",
    "import pandas as pd\n",
    "\n",
    "class gene:\n",
    "    def __init__(self, gene_name, id_numbers):\n",
    "        self.name = gene_name\n",
    "        self.ids = id_numbers\n",
    "        self.n = len(self.ids.split(','))\n",
    "        self.string = self.name + '\\n (n='+ str(self.n) + ')'\n",
    "        \n",
    "        tested_Tms = {'tjp2a': 58, #inconsistent results here. Should order new primers\n",
    "                      'tjp2b': 64 ,\n",
    "                      'cadm1a': 64, #tested 67C on 2017/03/30 and bands disappeared\n",
    "                      'cadm1b': 67,\n",
    "                      'eml1': 67,\n",
    "                      'cpne3': 67,\n",
    "                      'nrxn3aS': 72,\n",
    "                      'nrxn3aL': 72,\n",
    "                      'nrxn3bS': 72,\n",
    "                      'nrxn3bL': 72,\n",
    "                     }\n",
    "        self.Tm = tested_Tms.get(self.name, 'default')\n",
    "\n",
    "volumes  = [10.4, 4, 0.4, 1, 1, 1, 0.2];\n",
    "names = ['Water','Buffer5x','dNTP mix','FWD','REV','M13-FAM','Phusion'];\n",
    "PhusionDefault = pd.DataFrame(data=volumes, index=names, columns=['1x']);"
   ]
  },
  {
   "cell_type": "code",
   "execution_count": 120,
   "metadata": {},
   "outputs": [],
   "source": [
    "genes=[];\n",
    "genes.append(gene('nrxn3aS',('2, 3, 4, 6, 7, 8')));\n",
    "genes.append(gene('nrxn3aL',('2, 3, 4, 6, 7, 8')));\n",
    "genes.append(gene('nrxn3bS',('2, 3, 4, 6, 7, 8')));\n",
    "genes.append(gene('nrxn3bL',('2, 3, 4, 6, 7, 8')));\n",
    "genes.append(gene('tjp2a',('8, 9, 11, 6')));\n",
    "genes.append(gene('tjp2b',('8, 9, 11')));\n",
    "genes.append(gene('cadm1a',('10, 11, 12')));\n",
    "genes.append(gene('cpne3',('11')));\n",
    "\n"
   ]
  },
  {
   "cell_type": "code",
   "execution_count": 29,
   "metadata": {
    "collapsed": true
   },
   "outputs": [],
   "source": [
    "# test PCR (half-volume reactions, no M13-FAM)\n",
    "volumes  = [11.4, 4, 0.4, 1, 1, 0.2];\n",
    "volumes=np.ndarray.tolist(np.divide(volumes,2))\n",
    "names = ['Water','Buffer5x','dNTP mix','FWD','REV','Phusion'];\n",
    "PhusionDefault = pd.DataFrame(data=volumes, index=names, columns=['1x']);\n",
    "\n",
    "genes=[];\n",
    "genes.append(gene('nrxn3aS',('2,2')));\n",
    "genes.append(gene('nrxn3aL',('2,2')));\n",
    "genes.append(gene('nrxn3bS',('2,2')));\n",
    "genes.append(gene('nrxn3bL',('2,2')));\n",
    "genes.append(gene('tjp2a',('7,8,7,8')));\n",
    "\n"
   ]
  },
  {
   "cell_type": "code",
   "execution_count": 30,
   "metadata": {},
   "outputs": [
    {
     "data": {
      "text/html": [
       "<div>\n",
       "<style>\n",
       "    .dataframe thead tr:only-child th {\n",
       "        text-align: right;\n",
       "    }\n",
       "\n",
       "    .dataframe thead th {\n",
       "        text-align: left;\n",
       "    }\n",
       "\n",
       "    .dataframe tbody tr th {\n",
       "        vertical-align: top;\n",
       "    }\n",
       "</style>\n",
       "<table border=\"1\" class=\"dataframe\">\n",
       "  <thead>\n",
       "    <tr style=\"text-align: right;\">\n",
       "      <th>-</th>\n",
       "      <th>1x</th>\n",
       "      <th>nrxn3aS\n",
       " (n=2)</th>\n",
       "      <th>nrxn3aL\n",
       " (n=2)</th>\n",
       "      <th>nrxn3bS\n",
       " (n=2)</th>\n",
       "      <th>nrxn3bL\n",
       " (n=2)</th>\n",
       "      <th>tjp2a\n",
       " (n=4)</th>\n",
       "    </tr>\n",
       "  </thead>\n",
       "  <tbody>\n",
       "    <tr>\n",
       "      <th>Water</th>\n",
       "      <td>5.7</td>\n",
       "      <td>100.32</td>\n",
       "      <td>100.32</td>\n",
       "      <td>100.32</td>\n",
       "      <td>100.32</td>\n",
       "      <td>200.64</td>\n",
       "    </tr>\n",
       "    <tr>\n",
       "      <th>Buffer5x</th>\n",
       "      <td>2.0</td>\n",
       "      <td>35.20</td>\n",
       "      <td>35.20</td>\n",
       "      <td>35.20</td>\n",
       "      <td>35.20</td>\n",
       "      <td>70.40</td>\n",
       "    </tr>\n",
       "    <tr>\n",
       "      <th>dNTP mix</th>\n",
       "      <td>0.2</td>\n",
       "      <td>3.52</td>\n",
       "      <td>3.52</td>\n",
       "      <td>3.52</td>\n",
       "      <td>3.52</td>\n",
       "      <td>7.04</td>\n",
       "    </tr>\n",
       "    <tr>\n",
       "      <th>FWD</th>\n",
       "      <td>0.5</td>\n",
       "      <td>8.80</td>\n",
       "      <td>8.80</td>\n",
       "      <td>8.80</td>\n",
       "      <td>8.80</td>\n",
       "      <td>17.60</td>\n",
       "    </tr>\n",
       "    <tr>\n",
       "      <th>REV</th>\n",
       "      <td>0.5</td>\n",
       "      <td>8.80</td>\n",
       "      <td>8.80</td>\n",
       "      <td>8.80</td>\n",
       "      <td>8.80</td>\n",
       "      <td>17.60</td>\n",
       "    </tr>\n",
       "    <tr>\n",
       "      <th>Phusion</th>\n",
       "      <td>0.1</td>\n",
       "      <td>1.76</td>\n",
       "      <td>1.76</td>\n",
       "      <td>1.76</td>\n",
       "      <td>1.76</td>\n",
       "      <td>3.52</td>\n",
       "    </tr>\n",
       "  </tbody>\n",
       "</table>\n",
       "</div>"
      ],
      "text/plain": [
       "-          1x  nrxn3aS\\n (n=2)  nrxn3aL\\n (n=2)  nrxn3bS\\n (n=2)  \\\n",
       "Water     5.7           100.32           100.32           100.32   \n",
       "Buffer5x  2.0            35.20            35.20            35.20   \n",
       "dNTP mix  0.2             3.52             3.52             3.52   \n",
       "FWD       0.5             8.80             8.80             8.80   \n",
       "REV       0.5             8.80             8.80             8.80   \n",
       "Phusion   0.1             1.76             1.76             1.76   \n",
       "\n",
       "-         nrxn3bL\\n (n=2)  tjp2a\\n (n=4)  \n",
       "Water              100.32         200.64  \n",
       "Buffer5x            35.20          70.40  \n",
       "dNTP mix             3.52           7.04  \n",
       "FWD                  8.80          17.60  \n",
       "REV                  8.80          17.60  \n",
       "Phusion              1.76           3.52  "
      ]
     },
     "execution_count": 30,
     "metadata": {},
     "output_type": "execute_result"
    }
   ],
   "source": [
    "PCR = pd.DataFrame.copy(PhusionDefault)\n",
    "for g in genes:\n",
    "    PCR[g.string] = pd.Series(PCR['1x'] * round((g.n*8*1.1),1))\n",
    "\n",
    "PCR.rename_axis('_')\n",
    "PCR.columns.name = '-'\n",
    "PCR"
   ]
  },
  {
   "cell_type": "code",
   "execution_count": 31,
   "metadata": {},
   "outputs": [
    {
     "data": {
      "text/plain": [
       "'<table border=\"1\" class=\"dataframe\">\\n  <thead>\\n    <tr style=\"text-align: right;\">\\n      <th>-</th>\\n      <th>1x</th>\\n      <th>nrxn3aS\\n (n=2)</th>\\n      <th>nrxn3aL\\n (n=2)</th>\\n      <th>nrxn3bS\\n (n=2)</th>\\n      <th>nrxn3bL\\n (n=2)</th>\\n      <th>tjp2a\\n (n=4)</th>\\n    </tr>\\n  </thead>\\n  <tbody>\\n    <tr>\\n      <th>Water</th>\\n      <td>5.7</td>\\n      <td>100.32</td>\\n      <td>100.32</td>\\n      <td>100.32</td>\\n      <td>100.32</td>\\n      <td>200.64</td>\\n    </tr>\\n    <tr>\\n      <th>Buffer5x</th>\\n      <td>2.0</td>\\n      <td>35.20</td>\\n      <td>35.20</td>\\n      <td>35.20</td>\\n      <td>35.20</td>\\n      <td>70.40</td>\\n    </tr>\\n    <tr>\\n      <th>dNTP mix</th>\\n      <td>0.2</td>\\n      <td>3.52</td>\\n      <td>3.52</td>\\n      <td>3.52</td>\\n      <td>3.52</td>\\n      <td>7.04</td>\\n    </tr>\\n    <tr>\\n      <th>FWD</th>\\n      <td>0.5</td>\\n      <td>8.80</td>\\n      <td>8.80</td>\\n      <td>8.80</td>\\n      <td>8.80</td>\\n      <td>17.60</td>\\n    </tr>\\n    <tr>\\n      <th>REV</th>\\n      <td>0.5</td>\\n      <td>8.80</td>\\n      <td>8.80</td>\\n      <td>8.80</td>\\n      <td>8.80</td>\\n      <td>17.60</td>\\n    </tr>\\n    <tr>\\n      <th>Phusion</th>\\n      <td>0.1</td>\\n      <td>1.76</td>\\n      <td>1.76</td>\\n      <td>1.76</td>\\n      <td>1.76</td>\\n      <td>3.52</td>\\n    </tr>\\n  </tbody>\\n</table>'"
      ]
     },
     "execution_count": 31,
     "metadata": {},
     "output_type": "execute_result"
    }
   ],
   "source": [
    "#Need to create html output into a letter sized\n",
    "PCR.to_html()"
   ]
  },
  {
   "cell_type": "code",
   "execution_count": 32,
   "metadata": {},
   "outputs": [
    {
     "data": {
      "text/html": [
       "<div>\n",
       "<style>\n",
       "    .dataframe thead tr:only-child th {\n",
       "        text-align: right;\n",
       "    }\n",
       "\n",
       "    .dataframe thead th {\n",
       "        text-align: left;\n",
       "    }\n",
       "\n",
       "    .dataframe tbody tr th {\n",
       "        vertical-align: top;\n",
       "    }\n",
       "</style>\n",
       "<table border=\"1\" class=\"dataframe\">\n",
       "  <thead>\n",
       "    <tr style=\"text-align: right;\">\n",
       "      <th>gene</th>\n",
       "      <th>Tm (°C)</th>\n",
       "      <th>id#</th>\n",
       "    </tr>\n",
       "  </thead>\n",
       "  <tbody>\n",
       "    <tr>\n",
       "      <th>nrxn3aS</th>\n",
       "      <td>72</td>\n",
       "      <td>2,2</td>\n",
       "    </tr>\n",
       "    <tr>\n",
       "      <th>nrxn3aL</th>\n",
       "      <td>72</td>\n",
       "      <td>2,2</td>\n",
       "    </tr>\n",
       "    <tr>\n",
       "      <th>nrxn3bS</th>\n",
       "      <td>72</td>\n",
       "      <td>2,2</td>\n",
       "    </tr>\n",
       "    <tr>\n",
       "      <th>nrxn3bL</th>\n",
       "      <td>72</td>\n",
       "      <td>2,2</td>\n",
       "    </tr>\n",
       "    <tr>\n",
       "      <th>tjp2a</th>\n",
       "      <td>58</td>\n",
       "      <td>7,8,7,8</td>\n",
       "    </tr>\n",
       "  </tbody>\n",
       "</table>\n",
       "</div>"
      ],
      "text/plain": [
       "gene     Tm (°C)      id#\n",
       "nrxn3aS       72      2,2\n",
       "nrxn3aL       72      2,2\n",
       "nrxn3bS       72      2,2\n",
       "nrxn3bL       72      2,2\n",
       "tjp2a         58  7,8,7,8"
      ]
     },
     "execution_count": 32,
     "metadata": {},
     "output_type": "execute_result"
    }
   ],
   "source": [
    "names = [];\n",
    "ids = [];\n",
    "tms = [];\n",
    "for g in genes:\n",
    "    names.append(g.name)\n",
    "    ids.append(g.ids)\n",
    "    tms.append(g.Tm)\n",
    "\n",
    "IDs = pd.DataFrame({'id#': ids, 'Tm (°C)' : tms}, index=names)\n",
    "IDs.columns.name = 'gene'\n",
    "#IDs[['id#','Tm (°C)']]\n",
    "IDs"
   ]
  },
  {
   "cell_type": "code",
   "execution_count": null,
   "metadata": {
    "collapsed": true
   },
   "outputs": [],
   "source": [
    "IDs.to_html()"
   ]
  },
  {
   "cell_type": "code",
   "execution_count": 15,
   "metadata": {},
   "outputs": [],
   "source": []
  },
  {
   "cell_type": "code",
   "execution_count": 24,
   "metadata": {},
   "outputs": [],
   "source": []
  },
  {
   "cell_type": "code",
   "execution_count": null,
   "metadata": {},
   "outputs": [],
   "source": []
  },
  {
   "cell_type": "code",
   "execution_count": null,
   "metadata": {
    "collapsed": true
   },
   "outputs": [],
   "source": []
  }
 ],
 "metadata": {
  "kernelspec": {
   "display_name": "Python 3",
   "language": "python",
   "name": "python3"
  },
  "language_info": {
   "codemirror_mode": {
    "name": "ipython",
    "version": 3
   },
   "file_extension": ".py",
   "mimetype": "text/x-python",
   "name": "python",
   "nbconvert_exporter": "python",
   "pygments_lexer": "ipython3",
   "version": "3.5.3"
  }
 },
 "nbformat": 4,
 "nbformat_minor": 1
}
