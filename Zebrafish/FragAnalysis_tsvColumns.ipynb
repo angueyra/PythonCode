{
 "cells": [
  {
   "cell_type": "code",
   "execution_count": 1,
   "metadata": {},
   "outputs": [],
   "source": [
    "import numpy as np\n",
    "def printNames(nameDict):\n",
    "    for i in range(len(nameDict)):\n",
    "        gname = (nameDict[i]['gene'])\n",
    "        for j in range(len(nameDict[i]['idnumbers'])):\n",
    "            gidn = gname + '.' + str(nameDict[i]['idnumbers'][j])\n",
    "            for k in range(len(nameDict[i]['letters'])):\n",
    "                print (gidn + nameDict[i]['letters'][k])"
   ]
  },
  {
   "cell_type": "markdown",
   "metadata": {},
   "source": [
    "### Example\n",
    "d1 = {'gene': 'eml1', 'idnumbers': [5,6,7,9,10,11,12,13], 'letters': ['wt','B','C','D','E','F','G','H']}\n",
    "\n",
    "d2 = {'gene': 'cpne3', 'idnumbers': [1,2,3,5], 'letters': ['wt','B','C','D','E','F','G','H']}\n",
    "\n",
    "metad = [d1,d2]"
   ]
  },
  {
   "cell_type": "code",
   "execution_count": 5,
   "metadata": {},
   "outputs": [
    {
     "name": "stdout",
     "output_type": "stream",
     "text": [
      "sema7a.01\n",
      "sema7a.02\n",
      "sema7a.03\n",
      "sema7a.04\n",
      "sema7a.01\n",
      "sema7a.02\n",
      "sema7a.03\n",
      "sema7a.04\n",
      "sema7a.01\n",
      "sema7a.02\n",
      "sema7a.03\n",
      "sema7a.04\n",
      "sema7a.01\n",
      "sema7a.02\n",
      "sema7a.03\n",
      "sema7a.04\n"
     ]
    }
   ],
   "source": [
    "d0 = {'gene': 'syt5aFiiRii', 'idnumbers': [], 'letters': ['wt1','wt2','wt3','wt4']}\n",
    "d1 = {'gene': 'sema7a', 'idnumbers': [0], 'letters': ['1','2','3','4']}\n",
    "d2 = {'gene': 'sema7a', 'idnumbers': [], 'letters': ['10','11','12']}\n",
    "d3 = {'gene': 'sema7a', 'idnumbers': [0], 'letters': ['1','2','3','4']}\n",
    "d4 = {'gene': 'sema7a', 'idnumbers': [0], 'letters': ['1','2','3','4']}\n",
    "d5 = {'gene': 'sema7a', 'idnumbers': [0], 'letters': ['1','2','3','4']}\n",
    "# d1 = {'gene': 'gnat2', 'idnumbers': [1,2,3,4,5], 'letters': ['A','B','C','D','E','F','G','H']}\n",
    "# d2 = {'gene': 'sema7a', 'idnumbers': [1], 'letters': ['A','B','C','D','E','F','G','H']}\n",
    "# d3 = {'gene': 'sema7a', 'idnumbers': [2], 'letters': ['wtA','wtB','wtC','wtD','E','F','G','H']}\n",
    "# d4 = {'gene': 'eml1', 'idnumbers': [1,2,3,4], 'letters': ['A','B','C','D','E','F','G','H']}\n",
    "# d4 = {'gene': 'cadm1a', 'idnumbers': [11,12,13,14,21,22,23,24], 'letters': ['wt','B','C','D','E','F','G','H']}\n",
    "# d5 = {'gene': 'cadm1b', 'idnumbers': [19], 'letters': ['wt','B','C','D','E','F','G','H']}\n",
    "# d6 = {'gene': 'cpne3v2', 'idnumbers': [1,2], 'letters': ['wt','B','C','D','E','F','G','H']}\n",
    "printNames([d0,d1,d2,d3,d4,d5])"
   ]
  },
  {
   "cell_type": "code",
   "execution_count": null,
   "metadata": {},
   "outputs": [],
   "source": [
    "d1a = {'gene': 'tjp2a', 'idnumbers': [15], 'letters': ['wt','B','C','D','E','F','G','H']}\n",
    "d1b = {'gene': 'tjp2a', 'idnumbers': [15], 'letters': ['I','J','K','L','M','N','O','P']}\n",
    "d1c = {'gene': 'tjp2a', 'idnumbers': [17], 'letters': ['wt','B','C']}\n",
    "d1d = {'gene': 'tjp2a', 'idnumbers': [18], 'letters': ['I','J','K','L','M']}\n",
    "d1e = {'gene': 'tjp2a', 'idnumbers': [18], 'letters': ['wt','B','C','D','E','F','G','H']}\n",
    "\n",
    "d2a = {'gene': 'tjp2b', 'idnumbers': [15], 'letters': ['wt','B','C','D','E','F','G','H']}\n",
    "d2b = {'gene': 'tjp2b', 'idnumbers': [15], 'letters': ['I','J','K','L','M','N','O','P']}\n",
    "d2c = {'gene': 'tjp2b', 'idnumbers': [17], 'letters': ['wt','B','C']}\n",
    "d2d = {'gene': 'tjp2b', 'idnumbers': [18], 'letters': ['I','J','K','L','M']}\n",
    "d2e = {'gene': 'tjp2b', 'idnumbers': [18], 'letters': ['wt','B','C','D','E','F','G','H']}\n",
    "\n",
    "d3a = {'gene': 'nrxn3aL', 'idnumbers': [17], 'letters': ['wt','B','C','D','E','F','G','H']}\n",
    "d3b = {'gene': 'nrxn3aL', 'idnumbers': [17], 'letters': ['I','J','K','L','M','N','O','P']}\n",
    "d4a = {'gene': 'nrxn3bS', 'idnumbers': [17], 'letters': ['wt','B','C','D','E','F','G','H']}\n",
    "d4b = {'gene': 'nrxn3bS', 'idnumbers': [17], 'letters': ['I','J','K','L','M','N','O','P']}\n",
    "\n",
    "printNames([d1a,d1b,d1c,d1d,d1e,d2a,d2b,d2c,d2d,d2e,d3a,d3b,d4a,d4b])"
   ]
  },
  {
   "cell_type": "code",
   "execution_count": null,
   "metadata": {},
   "outputs": [],
   "source": [
    "d1i = {'gene': 'tjp2a', 'idnumbers': [6,7,8,9,11,12], 'letters': ['wti','Bi','Ci','Di','Ei','Fi','Gi','Hi']}\n",
    "d1ii = {'gene': 'tjp2a', 'idnumbers': [6,7,8,9,11,12], 'letters': ['wtii','Bii','Cii','Dii','Eii','Fii','Gii','Hii']}\n",
    "# d2 = {'gene': 'tjp2b', 'idnumbers': [8,11,12], 'letters': ['wt','B','C','D','E','F','G','H']}\n",
    "# d3 = {'gene': 'cadm1a', 'idnumbers': [10,11,12], 'letters': ['wt','B','C','D','E','F','G','H']}\n",
    "# d4 = {'gene': 'cpne3', 'idnumbers': [11], 'letters': ['wt','B','C','D','E','F','G','H']}\n",
    "# d5 = {'gene': 'tjp2a_bis', 'idnumbers': [8,11], 'letters': ['wt','B','C','D','E','F','G','H']}\n",
    "# metad = [d1,d2,d3,d4,d5]\n",
    "metad = [d1i,d1ii]\n",
    "printNames(metad)"
   ]
  },
  {
   "cell_type": "code",
   "execution_count": null,
   "metadata": {},
   "outputs": [],
   "source": []
  },
  {
   "cell_type": "code",
   "execution_count": null,
   "metadata": {},
   "outputs": [],
   "source": []
  }
 ],
 "metadata": {
  "kernelspec": {
   "display_name": "Python 3",
   "language": "python",
   "name": "python3"
  },
  "language_info": {
   "codemirror_mode": {
    "name": "ipython",
    "version": 3
   },
   "file_extension": ".py",
   "mimetype": "text/x-python",
   "name": "python",
   "nbconvert_exporter": "python",
   "pygments_lexer": "ipython3",
   "version": "3.7.4"
  }
 },
 "nbformat": 4,
 "nbformat_minor": 4
}
