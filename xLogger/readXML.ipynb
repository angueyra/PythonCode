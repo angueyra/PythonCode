{
 "cells": [
  {
   "cell_type": "code",
   "execution_count": 3,
   "metadata": {},
   "outputs": [],
   "source": [
    "import xml.etree.ElementTree as ET"
   ]
  },
  {
   "cell_type": "code",
   "execution_count": null,
   "metadata": {},
   "outputs": [],
   "source": []
  },
  {
   "cell_type": "code",
   "execution_count": 4,
   "metadata": {},
   "outputs": [],
   "source": [
    "def getEmail(xmlfile):\n",
    "    tree = ET.parse(xmltest)\n",
    "    root = tree.getroot()\n",
    "    for e in root.findall('experimenter'):\n",
    "        for child in e:\n",
    "            if child.tag == 'email':\n",
    "                print(child.text)"
   ]
  },
  {
   "cell_type": "code",
   "execution_count": 5,
   "metadata": {},
   "outputs": [
    {
     "name": "stdout",
     "output_type": "stream",
     "text": [
      "angueyra@nih.gov\n",
      "jball@nih.gov\n"
     ]
    }
   ],
   "source": [
    "xmltest = \"xmltest.xml\";\n",
    "getEmail(xmltest);"
   ]
  },
  {
   "cell_type": "code",
   "execution_count": 7,
   "metadata": {},
   "outputs": [
    {
     "data": {
      "image/png": "[encoded data removed]",
      "text/plain": [
       "<Figure size 432x288 with 1 Axes>"
      ]
     },
     "metadata": {
      "needs_background": "light"
     },
     "output_type": "display_data"
    }
   ],
   "source": [
    "import numpy as np\n",
    "import matplotlib.pyplot as plt\n",
    "x = np.linspace(0, 10)\n",
    "y = 2 * x\n",
    "plt.plot(x, y)\n",
    "plt.show()"
   ]
  },
  {
   "cell_type": "code",
   "execution_count": 2,
   "metadata": {},
   "outputs": [
    {
     "name": "stdout",
     "output_type": "stream",
     "text": [
      "Loading channels: done\n",
      "# Name                       Version           Build  Channel             \n",
      "python                        2.7.13     h32f5f24_13  pkgs/main           \n",
      "python                        2.7.13     h89fad4f_16  pkgs/main           \n",
      "python                        2.7.13     hdada7c8_15  pkgs/main           \n",
      "python                        2.7.14     h001abdc_23  pkgs/main           \n",
      "python                        2.7.14     h138c1fe_30  pkgs/main           \n",
      "python                        2.7.14     h138c1fe_31  pkgs/main           \n",
      "python                        2.7.14     h50fefbe_18  pkgs/main           \n",
      "python                        2.7.14     ha6acbcf_22  pkgs/main           \n",
      "python                        2.7.14     ha7e29e4_26  pkgs/main           \n",
      "python                        2.7.14     hd74e306_15  pkgs/main           \n",
      "python                        2.7.14     hde5916a_29  pkgs/main           \n",
      "python                        2.7.14     he768d2d_19  pkgs/main           \n",
      "python                        2.7.14     hed931fe_16  pkgs/main           \n",
      "python                        2.7.15      h138c1fe_0  pkgs/main           \n",
      "python                        2.7.15      h8f8e585_2  pkgs/main           \n",
      "python                        2.7.15      h8f8e585_4  pkgs/main           \n",
      "python                        2.7.15      h8f8e585_6  pkgs/main           \n",
      "python                        2.7.16      h97142e2_0  pkgs/main           \n",
      "python                        2.7.16      h97142e2_1  pkgs/main           \n",
      "python                        2.7.16      h97142e2_2  pkgs/main           \n",
      "python                        2.7.16      h97142e2_3  pkgs/main           \n",
      "python                        2.7.16      h97142e2_4  pkgs/main           \n",
      "python                        2.7.16      h97142e2_5  pkgs/main           \n",
      "python                        2.7.16      h97142e2_6  pkgs/main           \n",
      "python                        2.7.16      h97142e2_7  pkgs/main           \n",
      "python                        2.7.17      h97142e2_0  pkgs/main           \n",
      "python                        2.7.18      h47d645e_1  pkgs/main           \n",
      "python                        2.7.18      hc817775_0  pkgs/main           \n",
      "python                         3.5.4     h4bd9b1b_18  pkgs/main           \n",
      "python                         3.5.4     h821eb87_14  pkgs/main           \n",
      "python                         3.5.4     h8f450c2_22  pkgs/main           \n",
      "python                         3.5.4     hb8880cc_19  pkgs/main           \n",
      "python                         3.5.4     hc167b69_27  pkgs/main           \n",
      "python                         3.5.4     hdd9bdb2_21  pkgs/main           \n",
      "python                         3.5.4     he1de2d4_12  pkgs/main           \n",
      "python                         3.5.4     he720263_23  pkgs/main           \n",
      "python                         3.5.4     hf91e954_15  pkgs/main           \n",
      "python                         3.5.5      h0a44026_3  pkgs/main           \n",
      "python                         3.5.5      hc167b69_0  pkgs/main           \n",
      "python                         3.5.5      hc167b69_1  pkgs/main           \n",
      "python                         3.5.6      hc167b69_0  pkgs/main           \n",
      "python                         3.6.2     h26d10c0_12  pkgs/main           \n",
      "python                         3.6.2     h9e63aee_14  pkgs/main           \n",
      "python                         3.6.2     ha11d96e_18  pkgs/main           \n",
      "python                         3.6.2     hd04bb42_19  pkgs/main           \n",
      "python                         3.6.2     hd0bf7f1_15  pkgs/main           \n",
      "python                         3.6.3      h47c878a_7  pkgs/main           \n",
      "python                         3.6.3      h5ce8c04_4  pkgs/main           \n",
      "python                         3.6.3      h6804ab2_0  pkgs/main           \n",
      "python                         3.6.3      h794556d_2  pkgs/main           \n",
      "python                         3.6.3      hc655967_3  pkgs/main           \n",
      "python                         3.6.4      hc167b69_0  pkgs/main           \n",
      "python                         3.6.4      hc167b69_1  pkgs/main           \n",
      "python                         3.6.4      hc167b69_3  pkgs/main           \n",
      "python                         3.6.5      hc167b69_0  pkgs/main           \n",
      "python                         3.6.5      hc167b69_1  pkgs/main           \n",
      "python                         3.6.6      hc167b69_0  pkgs/main           \n",
      "python                         3.6.7      haf84260_0  pkgs/main           \n",
      "python                         3.6.8      haf84260_0  pkgs/main           \n",
      "python                         3.6.9      h359304d_0  pkgs/main           \n",
      "python                        3.6.10      h359304d_0  pkgs/main           \n",
      "python                        3.6.10      hc70fcce_1  pkgs/main           \n",
      "python                        3.6.10      hfe9666f_1  pkgs/main           \n",
      "python                         3.7.0      hc167b69_0  pkgs/main           \n",
      "python                         3.7.1      haf84260_3  pkgs/main           \n",
      "python                         3.7.1      haf84260_7  pkgs/main           \n",
      "python                         3.7.2      haf84260_0  pkgs/main           \n",
      "python                         3.7.3      h359304d_0  pkgs/main           \n",
      "python                         3.7.4      h359304d_0  pkgs/main           \n",
      "python                         3.7.4      h359304d_1  pkgs/main           \n",
      "python                         3.7.5      h359304d_0  pkgs/main           \n",
      "python                         3.7.6      h359304d_2  pkgs/main           \n",
      "python                         3.7.7 hc70fcce_0_cpython  pkgs/main           \n",
      "python                         3.7.7 hfe9666f_0_cpython  pkgs/main           \n",
      "python                         3.8.0      h359304d_0  pkgs/main           \n",
      "python                         3.8.0      h359304d_1  pkgs/main           \n",
      "python                         3.8.0      h359304d_2  pkgs/main           \n",
      "python                         3.8.1      h359304d_1  pkgs/main           \n",
      "python                         3.8.2      hc70fcce_0  pkgs/main           \n",
      "python                         3.8.2      hfe9666f_0  pkgs/main           \n"
     ]
    }
   ],
   "source": []
  },
  {
   "cell_type": "code",
   "execution_count": null,
   "metadata": {},
   "outputs": [],
   "source": []
  }
 ],
 "metadata": {
  "kernelspec": {
   "display_name": "Python 3",
   "language": "python",
   "name": "python3"
  },
  "language_info": {
   "codemirror_mode": {
    "name": "ipython",
    "version": 3
   },
   "file_extension": ".py",
   "mimetype": "text/x-python",
   "name": "python",
   "nbconvert_exporter": "python",
   "pygments_lexer": "ipython3",
   "version": "3.7.4"
  }
 },
 "nbformat": 4,
 "nbformat_minor": 4
}
