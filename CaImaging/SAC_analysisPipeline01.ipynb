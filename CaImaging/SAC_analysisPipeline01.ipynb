{
 "cells": [
  {
   "cell_type": "markdown",
   "metadata": {},
   "source": [
    "## Trying to get some sort of automated analysis"
   ]
  },
  {
   "cell_type": "code",
   "execution_count": null,
   "metadata": {},
   "outputs": [],
   "source": [
    "# !pip install suite2p\n",
    "# !pip install scanimage-tiff-reader\n",
    "# !pip install -U scikit-image\n",
    "# !pip install tiffile"
   ]
  },
  {
   "cell_type": "markdown",
   "metadata": {},
   "source": [
    "### Load tiff file"
   ]
  },
  {
   "cell_type": "code",
   "execution_count": 1,
   "metadata": {},
   "outputs": [
    {
     "name": "stdout",
     "output_type": "stream",
     "text": [
      "/Users/angueyraaristjm/Documents/LiImaging/TwoPhoton/ChAT_gCaMP6s_example2\n"
     ]
    }
   ],
   "source": [
    "cd '/Users/angueyraaristjm/Documents/LiImaging/TwoPhoton/ChAT_gCaMP6s_example2/'"
   ]
  },
  {
   "cell_type": "code",
   "execution_count": 61,
   "metadata": {},
   "outputs": [
    {
     "name": "stderr",
     "output_type": "stream",
     "text": [
      "/Users/angueyraaristjm/anaconda3/lib/python3.7/site-packages/skimage/viewer/utils/core.py:10: UserWarning: Recommended matplotlib backend is `Agg` for full skimage.viewer functionality.\n",
      "  warn(\"Recommended matplotlib backend is `Agg` for full \"\n"
     ]
    }
   ],
   "source": [
    "from ScanImageTiffReader import ScanImageTiffReader as sitr\n",
    "from tifffile import TiffFile, imwrite, xml2dict\n",
    "import numpy as np\n",
    "import os\n",
    "from skimage.viewer import ImageViewer"
   ]
  },
  {
   "cell_type": "markdown",
   "metadata": {},
   "source": [
    "Sould define a tif object:\n",
    "* load tif only once\n",
    "* im just call tif.data()"
   ]
  },
  {
   "cell_type": "code",
   "execution_count": 17,
   "metadata": {},
   "outputs": [],
   "source": [
    "class tiffStack:\n",
    "    \"\"\"Loader for tiff stack obtained from 2P rig using SciScan into Python\"\"\"\n",
    "    def __init__(self, filepath, filename):\n",
    "        ### directories and paths ###\n",
    "        self.basedir = '/Users/angueyraaristjm/Documents/LiImaging/TwoPhoton/'\n",
    "        self.filepath = filepath + '/'\n",
    "        self.filename = filename \n",
    "        self.savename = 'rg_' + filename \n",
    "        self.savepath = self.basedir + self.filepath + \"analysis/\"\n",
    "        self.loadpath = self.basedir + self.filepath + self.filename + \".tif\"\n",
    "        ### Load tif file\n",
    "        self.tif = sitr(self.loadpath)\n",
    "        ### Run default methods\n",
    "        self.metadata = self.pull_metadata()\n",
    "    \n",
    "    def pull_metadata(self):\n",
    "        imgDescription = self.getImageDescription()\n",
    "        metadata = {\n",
    "            'Lt' : imgDescription['OME']['Image']['Pixels']['SizeT'],\n",
    "            'Lx' : imgDescription['OME']['Image']['Pixels']['SizeX'],\n",
    "            'Ly' : imgDescription['OME']['Image']['Pixels']['SizeY'],\n",
    "            'nChannels' :  imgDescription['OME']['Image']['Pixels']['SizeC'],\n",
    "            'realX' : np.multiply(imgDescription['OME']['StructuredAnnotations']['XMLAnnotation'][3]['Value']['ImagePhysicalDimensions']['PhysicalSizeX'],1e6), # in um\n",
    "            'realY' : np.multiply(imgDescription['OME']['StructuredAnnotations']['XMLAnnotation'][3]['Value']['ImagePhysicalDimensions']['PhysicalSizeY'],1e6), # in um\n",
    "            'realT' : imgDescription['OME']['StructuredAnnotations']['XMLAnnotation'][3]['Value']['ImagePhysicalDimensions']['PhysicalSizeT'], # in s\n",
    "            'samplingRate' : 0,\n",
    "        }\n",
    "        metadata['samplingRate'] = np.divide(metadata['Lt'],metadata['realT'])\n",
    "        return metadata\n",
    "    \n",
    "    def getImageDescription(self):\n",
    "        from tiffile import xml2dict\n",
    "        imgDescription = xml2dict(self.tif.description(0))\n",
    "        return imgDescription\n",
    "    \n",
    "    def getData(self):\n",
    "        img = self.tif.data();\n",
    "        return img\n",
    "    \n",
    "    def rescale():\n",
    "        \n",
    "\n",
    "    @staticmethod\n",
    "    def emptymethod(var):\n",
    "        out = var\n",
    "        return out"
   ]
  },
  {
   "cell_type": "code",
   "execution_count": 69,
   "metadata": {},
   "outputs": [
    {
     "data": {
      "text/plain": [
       "34814"
      ]
     },
     "execution_count": 69,
     "metadata": {},
     "output_type": "execute_result"
    }
   ],
   "source": [
    "fpath = 'ChAT_gCaMP6s_example2';\n",
    "fname = '20190520_L03_04Bars_Original';\n",
    "\n",
    "fpath = '20190502_ChATgCaMP6s_6dpf_partial';\n",
    "fname = 'testOriginal';\n",
    "ts = tiffStack(fpath,fname);\n",
    "ts.metadata\n",
    "# np.max(np.subtract(ts.getData(),np.power(2,15)))\n",
    "np.max(ts.getData())\n"
   ]
  },
  {
   "cell_type": "code",
   "execution_count": 68,
   "metadata": {},
   "outputs": [
    {
     "data": {
      "text/plain": [
       "34814"
      ]
     },
     "execution_count": 68,
     "metadata": {},
     "output_type": "execute_result"
    }
   ],
   "source": [
    "# np.max((np.ones(np.shape(ts.getData()))*np.power(2,15))-32766)\n",
    "# d = ts.getData();\n",
    "# d = d[1,:,:]\n",
    "np.max(d)\n",
    "# viewer = ImageViewer(d-32768)\n",
    "# viewer.show()"
   ]
  },
  {
   "cell_type": "code",
   "execution_count": 64,
   "metadata": {},
   "outputs": [
    {
     "data": {
      "text/plain": [
       "{'OME': {'Experiment': {'Description': 'Calcium Imaging',\n",
       "   'ExperimenterRef': {'ID': 'urn:lsid::Experimenter:1'},\n",
       "   'ID': 'urn:lsid::Experiment:OWS345',\n",
       "   'Type': 'Other'},\n",
       "  'Experimenter': {'Email': 'jane.doe@scientifica.uk.com',\n",
       "   'FirstName': 'Jane',\n",
       "   'ID': 'urn:lsid::Experimenter:1',\n",
       "   'Institution': 'Scientifica',\n",
       "   'LastName': 'Doe'},\n",
       "  'Instrument': {'Microscope': {'Manufacturer': 'Scientifica',\n",
       "    'Model': 'MP1000'},\n",
       "   'LightSource': {'Laser': {'LaserMedium': 'TiSapphire',\n",
       "     'Type': 'SolidState'},\n",
       "    'ID': 'urn:lsid:loci.wisc.edu:LightSource:OWS1',\n",
       "    'Manufacturer': 'Spectral Physics',\n",
       "    'Model': 'MaiTai'},\n",
       "   'Detector': [{'ID': 'Detector:0:1',\n",
       "     'Manufacturer': 'Hamamatsu',\n",
       "     'Model': 'xxxxxx',\n",
       "     'Type': 'PMT'},\n",
       "    {'ID': 'Detector:0:3',\n",
       "     'Manufacturer': 'New Manufacturer',\n",
       "     'Model': 'yyyyyy',\n",
       "     'Type': 'PMT'}],\n",
       "   'Objective': {'ID': 'Objective:1',\n",
       "    'Immersion': 'Water',\n",
       "    'LensNA': 0.4,\n",
       "    'Manufacturer': 'Olympus',\n",
       "    'Model': '10x'},\n",
       "   'ID': 'Instrument:0'},\n",
       "  'Image': {'AcquisitionDate': '2019-05-20T15:54:23',\n",
       "   'Pixels': {'Channel': [{'DetectorSettings': {'Gain': 0.0,\n",
       "       'ID': 'Detector:0:1'},\n",
       "      'EmissionWavelength': 6.1e-07,\n",
       "      'ExcitationWavelength': 1.05e-06,\n",
       "      'Fluor': 'mCherry',\n",
       "      'ID': 'Channel:0:1',\n",
       "      'IlluminationType': 'NonLinear',\n",
       "      'Name': 'Red',\n",
       "      'SamplesPerPixel': 20},\n",
       "     {'DetectorSettings': {'Gain': 0.0, 'ID': 'Detector:0:3'},\n",
       "      'EmissionWavelength': 1e-07,\n",
       "      'ExcitationWavelength': 8e-07,\n",
       "      'Fluor': '',\n",
       "      'ID': 'Channel:0:3',\n",
       "      'IlluminationType': 'NonLinear',\n",
       "      'Name': '',\n",
       "      'SamplesPerPixel': 20}],\n",
       "    'MetadataOnly': None,\n",
       "    'BigEndian': False,\n",
       "    'DimensionOrder': 'XYCZT',\n",
       "    'ID': 'Pixels:0',\n",
       "    'PhysicalSizeX': 2.97852e-07,\n",
       "    'PhysicalSizeXUnit': 'm',\n",
       "    'PhysicalSizeY': 2.97852e-07,\n",
       "    'PhysicalSizeYUnit': 'm',\n",
       "    'SignificantBits': 16,\n",
       "    'SizeC': 1,\n",
       "    'SizeT': 840,\n",
       "    'SizeX': 256,\n",
       "    'SizeY': 128,\n",
       "    'SizeZ': 1,\n",
       "    'Type': 'uint16'},\n",
       "   'AnnotationRef': {'ID': 'Annotation:3'},\n",
       "   'ID': 'Image:0',\n",
       "   'Name': '5dpf_nrxn3ahet_ChATgCaMP6s_L03'},\n",
       "  'StructuredAnnotations': {'XMLAnnotation': [{'Value': {'Sample': {'Age': 10,\n",
       "       'Description': 'C57BL/6',\n",
       "       'ID': 1}},\n",
       "     'ID': 'Annotation:1'},\n",
       "    {'Value': {'DAQ': {'Description': 'NI DAQ system...(edit this description1)',\n",
       "       'AIRange': '',\n",
       "       'AcquisitionRate': ''}},\n",
       "     'ID': 'Annotation:2'},\n",
       "    {'Value': {'File': {'Format': '16bit multi-tiff (separate)',\n",
       "       'ID': '20190520_15_54_23_5dpf_nrxn3ahet_ChATgCaMP6s_L03_XYT.tif',\n",
       "       'Name': '20190520_15_54_23_5dpf_nrxn3ahet_ChATgCaMP6s_L03_XYT.tif',\n",
       "       'absPath': 'D:\\\\Data\\\\Imaging\\\\Angueyra\\\\2019_05_20\\\\20190520_15_54_23_5dpf_nrxn3ahet_ChATgCaMP6s_L03\\\\20190520_15_54_23_5dpf_nrxn3ahet_ChATgCaMP6s_L03_XYT.tif',\n",
       "       'relPath': '\\\\\\\\2019_05_20\\\\20190520_15_54_23_5dpf_nrxn3ahet_ChATgCaMP6s_L03\\\\20190520_15_54_23_5dpf_nrxn3ahet_ChATgCaMP6s_L03_XYT.tif',\n",
       "       'rootPath': 'D:\\\\Data\\\\Imaging\\\\Angueyra'}},\n",
       "     'ID': 'Annotation:3'},\n",
       "    {'Value': {'ImagePhysicalDimensions': {'PhysicalSizeT': 137.6256,\n",
       "       'PhysicalSizeTUnit': 'seconds',\n",
       "       'PhysicalSizeX': 7.625e-05,\n",
       "       'PhysicalSizeY': 3.8125e-05,\n",
       "       'PhysicalSizeZ': '',\n",
       "       'PhysicalSizeZUnit': 'm'}},\n",
       "     'ID': 'Annotation:4'},\n",
       "    {'Value': {'PixelDwellTime': 0}, 'ID': 'Annotation:5'},\n",
       "    {'Value': {'LaserPower': 20}, 'ID': 'Annotation:6'},\n",
       "    {'Value': {'MacroFilePath': None}, 'ID': 'Annotation:7'}]},\n",
       "  '{http://www.w3.org/2001/XMLSchema-instance}schemaLocation': 'http://www.openmicroscopy.org/Schemas/OME/2015-01                         http://www.openmicroscopy.org/Schemas/OME/2015-01/ome.xsd'}}"
      ]
     },
     "execution_count": 64,
     "metadata": {},
     "output_type": "execute_result"
    }
   ],
   "source": [
    "ts.getImageDescription()"
   ]
  },
  {
   "cell_type": "code",
   "execution_count": null,
   "metadata": {},
   "outputs": [],
   "source": [
    "os.path.join(tifroot, fname + '.tif')\n",
    "# io.imsave(os.path.join(tifroot, fname), dwrite)\n"
   ]
  },
  {
   "cell_type": "markdown",
   "metadata": {},
   "source": [
    "### Run with code"
   ]
  },
  {
   "cell_type": "markdown",
   "metadata": {},
   "source": [
    "> Notes:\n",
    "\n",
    "> Would be great to extract things from tiff files beforehand including:\n",
    "\n",
    "> fs (sampling rate)\n",
    "\n",
    "> length (to inform nimg_init)\n",
    "\n",
    "> number of channels \n",
    "\n",
    "SciScan Tiff Reader does not support compressed data. Make sure to save as uncompressed OME-TIFF from ImageJ/FIJI"
   ]
  },
  {
   "cell_type": "code",
   "execution_count": null,
   "metadata": {},
   "outputs": [],
   "source": [
    "import numpy as np\n",
    "import sys\n",
    "import suite2p\n",
    "from suite2p.run_s2p import run_s2p\n",
    "\n",
    "# set your options for running\n",
    "# overwrites the run_s2p.default_ops\n",
    "ops = {\n",
    "        'fast_disk': [], # used to store temporary binary file, defaults to save_path0 (set as a string NOT a list)\n",
    "        'save_path0': [], # stores results, defaults to first item in data_path\n",
    "        'delete_bin': False, # whether to delete binary file after processing\n",
    "        # main settings\n",
    "        'nplanes' : 1, # each tiff has these many planes in sequence\n",
    "        'nchannels' : 1, # each tiff has these many channels per plane\n",
    "        'functional_chan' : 1, # this channel is used to extract functional ROIs (1-based)\n",
    "        'diameter':4.5, # this is the main parameter for cell detection, 2-dimensional if Y and X are different (e.g. [6 12])\n",
    "        'tau':  2.0, # this is the main parameter for deconvolution (GCaMP6f = 0.7; GCaMP6m = 1.25; GCaMP6s = 2.0)\n",
    "        'fs': 6.1,  # sampling rate (total across planes) (128 x 128 = 12.2; 256 x 128 = 6.1)\n",
    "        # output settings\n",
    "        'save_mat': False, # whether to save output as matlab files\n",
    "        'combined': True, # combine multiple planes into a single result /single canvas for GUI\n",
    "        # parallel settings\n",
    "        'num_workers': 0, # 0 to select num_cores, -1 to disable parallelism, N to enforce value\n",
    "        'num_workers_roi': -1, # 0 to select number of planes, -1 to disable parallelism, N to enforce value\n",
    "        # registration settings\n",
    "        'do_registration': True, # whether to register data\n",
    "        'nimg_init': 200, # subsampled frames for finding reference image\n",
    "        'batch_size': 200, # number of frames per batch\n",
    "        'maxregshift': 0.1, # max allowed registration shift, as a fraction of frame max(width and height)\n",
    "        'align_by_chan' : 1, # when multi-channel, you can align by non-functional channel (1-based)\n",
    "        'reg_tif': True, # whether to save registered tiffs\n",
    "        'subpixel' : 10, # precision of subpixel registration (1/subpixel steps)\n",
    "        'nonrigid': False, # wheter to perform non-rigid registration\n",
    "        # cell detection settings\n",
    "        'connected': False, # whether or not to keep ROIs fully connected (set to 0 for dendrites)\n",
    "        'navg_frames_svd': 5000, # max number of binned frames for the SVD\n",
    "        'nsvd_for_roi': 1000, # max number of SVD components to keep for ROI detection\n",
    "        'max_iterations': 20, # maximum number of iterations to do cell detection\n",
    "        'ratio_neuropil': 6., # ratio between neuropil basis size and cell radius\n",
    "        'ratio_neuropil_to_cell': 3, # minimum ratio between neuropil radius and cell radius\n",
    "        'tile_factor': 1., # use finer (>1) or coarser (<1) tiles for neuropil estimation during cell detection\n",
    "        'threshold_scaling': 1., # adjust the automatically determined threshold by this scalar multiplier\n",
    "        'max_overlap': 0.75, # cells with more overlap than this get removed during triage, before refinement\n",
    "        'inner_neuropil_radius': 2, # number of pixels to keep between ROI and neuropil donut\n",
    "        'outer_neuropil_radius': np.inf, # maximum neuropil radius\n",
    "        'min_neuropil_pixels': 350, # minimum number of pixels in the neuropil\n",
    "        # deconvolution settings\n",
    "        'baseline': 'maximin', # baselining mode\n",
    "        'win_baseline': 60., # window for maximin\n",
    "        'sig_baseline': 10., # smoothing constant for gaussian filter\n",
    "        'prctile_baseline': 8.,# optional (whether to use a percentile baseline)\n",
    "        'neucoeff': .7,  # neuropil coefficient\n",
    "      }"
   ]
  },
  {
   "cell_type": "code",
   "execution_count": null,
   "metadata": {},
   "outputs": [],
   "source": [
    "# provide an h5 path in 'h5py' or a tiff path in 'data_path'\n",
    "# db overwrites any ops (allows for experiment specific settings)\n",
    "db = {\n",
    "      'h5py': [], # a single h5 file path\n",
    "      'h5py_key': 'data',\n",
    "      'look_one_level_down': False, # whether to look in ALL subfolders when searching for tiffs\n",
    "#       'data_path': ['/Users/angueyraaristjm/Documents/LiImaging/TwoPhoton/20190502_ChATgCaMP6s_6dpf_partial/test'], # a list of folders with tiffs \n",
    "      'data_path': ['/Users/angueyraaristjm/Documents/LiImaging/TwoPhoton/ChAT_gCaMP6s_example2'], # a list of folders with tiffs \n",
    "                                             # (or folder of folders with tiffs if look_one_level_down is True, or subfolders is not empty)\n",
    "                                            \n",
    "      'subfolders': [], # choose subfolders of 'data_path' to look in (optional)\n",
    "      'fast_disk': [], # string which specifies where the binary file will be stored (should be an SSD)\n",
    "    }\n",
    "\n",
    "# run one experiment\n",
    "opsEnd=run_s2p(ops=ops,db=db)"
   ]
  },
  {
   "cell_type": "code",
   "execution_count": null,
   "metadata": {},
   "outputs": [],
   "source": [
    "# make a list of db's and loop over them\n",
    "db = []\n",
    "db.append({'data_path': ['C:/Users/carse/github/tiffs']})\n",
    "db.append({'data_path': ['C:/Users/carse/github/tiffs2']})\n",
    "\n",
    "for dbi in db:\n",
    "    opsEnd=run_s2p(ops=ops,db=dbi)"
   ]
  },
  {
   "cell_type": "code",
   "execution_count": null,
   "metadata": {},
   "outputs": [],
   "source": [
    "# only run on specified tiffs\n",
    "db = {\n",
    "      'h5py': [], # a single h5 file path\n",
    "      'h5py_key': 'data',\n",
    "      'look_one_level_down': False, # whether to look in ALL subfolders when searching for tiffs\n",
    "      'data_path': ['C:/Users/carse/github/tiffs/'], \n",
    "                            # a list of folders with tiffs \n",
    "                            # (or folder of folders with tiffs if look_one_level_down is True, or subfolders is not empty)\n",
    "                            \n",
    "      'subfolders': [], # choose subfolders of 'data_path' to look in (optional)\n",
    "      'fast_disk': 'C:/BIN', # string which specifies where the binary file will be stored (should be an SSD)\n",
    "      'tiff_list': ['file022.tif', 'file023.tif'] # list of tiffs in folder * data_path *!\n",
    "    }\n",
    "\n",
    "\n",
    "# run one experiment\n",
    "opsEnd=run_s2p(ops=ops,db=db)"
   ]
  },
  {
   "cell_type": "code",
   "execution_count": null,
   "metadata": {},
   "outputs": [],
   "source": []
  },
  {
   "cell_type": "code",
   "execution_count": null,
   "metadata": {},
   "outputs": [],
   "source": [
    "def get_nFrames(ops):\n",
    "    nbytes = os.path.getsize(ops['reg_file'])\n",
    "    nFrames = int(nbytes/(2* ops['Ly'] *  ops['Lx']))\n",
    "    return nFrames"
   ]
  },
  {
   "cell_type": "code",
   "execution_count": null,
   "metadata": {},
   "outputs": [],
   "source": [
    "ops1 = np.load('/Users/angueyraaristjm/Documents/LiImaging/TwoPhoton/20190502_ChATgCaMP6s_6dpf_partial/test/suite2p/ops1.npy')\n",
    "ops = np.load('/Users/angueyraaristjm/Documents/LiImaging/TwoPhoton/20190502_ChATgCaMP6s_6dpf_partial/test/suite2p/plane0/ops.npy')"
   ]
  },
  {
   "cell_type": "code",
   "execution_count": null,
   "metadata": {},
   "outputs": [],
   "source": [
    "ops"
   ]
  },
  {
   "cell_type": "code",
   "execution_count": null,
   "metadata": {},
   "outputs": [],
   "source": [
    "ops.shape"
   ]
  },
  {
   "cell_type": "code",
   "execution_count": null,
   "metadata": {},
   "outputs": [],
   "source": [
    "import os\n",
    "os.path.getsize(ops['reg_file'])"
   ]
  },
  {
   "cell_type": "code",
   "execution_count": null,
   "metadata": {},
   "outputs": [],
   "source": []
  },
  {
   "cell_type": "code",
   "execution_count": null,
   "metadata": {},
   "outputs": [],
   "source": []
  },
  {
   "cell_type": "code",
   "execution_count": null,
   "metadata": {},
   "outputs": [],
   "source": []
  },
  {
   "cell_type": "markdown",
   "metadata": {},
   "source": [
    "### Use BeautifulSoup to parse tiff ImageDescription"
   ]
  },
  {
   "cell_type": "code",
   "execution_count": null,
   "metadata": {},
   "outputs": [],
   "source": [
    "from bs4 import BeautifulSoup as bs\n",
    "metadata = bs(tif.description(0),'xml')\n",
    "Lt = float(metadata.Pixels.get_attribute_list('SizeT')[0])\n",
    "Lx = float(metadata.Pixels.get_attribute_list('SizeX')[0])\n",
    "Ly = float(metadata.Pixels.get_attribute_list('SizeY')[0])\n",
    "nChannels = float(metadata.Pixels.get_attribute_list('SizeC')[0])\n",
    "realX = np.multiply(float(metadata.ImagePhysicalDimensions.get_attribute_list('PhysicalSizeX')[0]),1e6)\n",
    "realXUnit = 'um'\n",
    "realY = np.multiply(float(metadata.ImagePhysicalDimensions.get_attribute_list('PhysicalSizeY')[0]),1e6)\n",
    "realYUnit = 'um'\n",
    "realT = float(metadata.ImagePhysicalDimensions.get_attribute_list('PhysicalSizeT')[0])\n",
    "realXUnit = 's'\n",
    "samplingRate = np.divide(Lt,realT)\n",
    "# print (bs.prettify(metadata))"
   ]
  }
 ],
 "metadata": {
  "kernelspec": {
   "display_name": "Python 3",
   "language": "python",
   "name": "python3"
  },
  "language_info": {
   "codemirror_mode": {
    "name": "ipython",
    "version": 3
   },
   "file_extension": ".py",
   "mimetype": "text/x-python",
   "name": "python",
   "nbconvert_exporter": "python",
   "pygments_lexer": "ipython3",
   "version": "3.7.0"
  }
 },
 "nbformat": 4,
 "nbformat_minor": 2
}
