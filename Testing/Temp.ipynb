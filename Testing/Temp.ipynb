{
 "cells": [
  {
   "cell_type": "code",
   "execution_count": null,
   "metadata": {
    "collapsed": true
   },
   "outputs": [],
   "source": [
    "from tkinter import *"
   ]
  },
  {
   "cell_type": "code",
   "execution_count": null,
   "metadata": {
    "collapsed": true
   },
   "outputs": [],
   "source": [
    "#label\n",
    "counter = 0 \n",
    "def counter_label(label):\n",
    "  def count():\n",
    "    global counter\n",
    "    counter += 1\n",
    "    label.config(text=str(counter))\n",
    "    label.after(1000, count)\n",
    "  count()\n",
    " \n",
    " \n",
    "root = tk.Tk()\n",
    "root.title(\"Counting Seconds\")\n",
    "label = tk.Label(root, fg=\"green\")\n",
    "label.pack()\n",
    "counter_label(label)\n",
    "button = tk.Button(root, text='Stop', width=25, command=root.destroy)\n",
    "button.pack()\n",
    "root.mainloop()"
   ]
  },
  {
   "cell_type": "code",
   "execution_count": null,
   "metadata": {
    "collapsed": false
   },
   "outputs": [],
   "source": [
    "#buttons\n",
    "class App:\n",
    "  def __init__(self, master):\n",
    "    frame = Frame(master)\n",
    "    frame.pack()\n",
    "    self.button = Button(frame, \n",
    "                         text=\"QUIT\", fg=\"red\",\n",
    "                         command=frame.quit)\n",
    "    self.button.pack(side=LEFT)\n",
    "    self.slogan = Button(frame,\n",
    "                         text=\"Hello\",\n",
    "                         command=self.write_slogan)\n",
    "    self.slogan.pack(side=LEFT)\n",
    "  def write_slogan(self):\n",
    "    print (\"Tkinter is easy to use!\")\n",
    "\n",
    "root = Tk()\n",
    "app = App(root)\n",
    "root.mainloop()"
   ]
  },
  {
   "cell_type": "code",
   "execution_count": null,
   "metadata": {
    "collapsed": true
   },
   "outputs": [],
   "source": []
  },
  {
   "cell_type": "code",
   "execution_count": null,
   "metadata": {
    "collapsed": false
   },
   "outputs": [],
   "source": [
    "#Radio buttons \n",
    "root = Tk()\n",
    "\n",
    "v = IntVar()\n",
    "v.set(1)  # initializing the choice, i.e. Python\n",
    "\n",
    "selection = [(\"ON\",1),(\"OFF\",2)]\n",
    "\n",
    "def ShowChoice():\n",
    "    print(v.get())\n",
    "\n",
    "Label(root, \n",
    "      text=\"\"\"Trial screening:\"\"\",\n",
    "      justify = LEFT,\n",
    "      padx = 20).pack()\n",
    "\n",
    "for txt, val in selection:\n",
    "    Radiobutton(root, \n",
    "                text=txt,\n",
    "                indicatoron=0,\n",
    "                width=5,\n",
    "                height=2,\n",
    "                padx = 5, \n",
    "                variable=v, \n",
    "                command=ShowChoice,\n",
    "                value=val).pack(anchor=W)\n",
    "\n",
    "mainloop()"
   ]
  },
  {
   "cell_type": "code",
   "execution_count": null,
   "metadata": {
    "collapsed": true
   },
   "outputs": [],
   "source": [
    "#interest calculator\n",
    "from tkinter import *\n",
    "fields = ('Annual Rate', 'Number of Payments', 'Loan Principle', 'Monthly Payment', 'Remaining Loan')\n",
    "\n",
    "def monthly_payment(entries):\n",
    "   # period rate:\n",
    "   r = (float(entries['Annual Rate'].get()) / 100) / 12\n",
    "   print(\"r\", r)\n",
    "   # principal loan:\n",
    "   loan = float(entries['Loan Principle'].get())\n",
    "   n =  float(entries['Number of Payments'].get())\n",
    "   remaining_loan = float(entries['Remaining Loan'].get())\n",
    "   q = (1 + r)** n\n",
    "   monthly = r * ( (q * loan - remaining_loan) / ( q - 1 ))\n",
    "   monthly = (\"%8.2f\" % monthly).strip()\n",
    "   entries['Monthly Payment'].delete(0,END)\n",
    "   entries['Monthly Payment'].insert(0, monthly )\n",
    "   print(\"Monthly Payment: %f\" % float(monthly))\n",
    "\n",
    "def final_balance(entries):\n",
    "   # period rate:\n",
    "   r = (float(entries['Annual Rate'].get()) / 100) / 12\n",
    "   print(\"r\", r)\n",
    "   # principal loan:\n",
    "   loan = float(entries['Loan Principle'].get())\n",
    "   n =  float(entries['Number of Payments'].get()) \n",
    "   q = (1 + r)** n\n",
    "   monthly = float(entries['Monthly Payment'].get())\n",
    "   q = (1 + r)** n\n",
    "   remaining = q * loan  - ( (q - 1) / r) * monthly\n",
    "   remaining = (\"%8.2f\" % remaining).strip()\n",
    "   entries['Remaining Loan'].delete(0,END)\n",
    "   entries['Remaining Loan'].insert(0, remaining )\n",
    "   print(\"Remaining Loan: %f\" % float(remaining))\n",
    "\n",
    "def makeform(root, fields):\n",
    "   entries = {}\n",
    "   for field in fields:\n",
    "      row = Frame(root)\n",
    "      lab = Label(row, width=22, text=field+\": \", anchor='w')\n",
    "      ent = Entry(row)\n",
    "      ent.insert(0,\"0\")\n",
    "      row.pack(side=TOP, fill=X, padx=5, pady=5)\n",
    "      lab.pack(side=LEFT)\n",
    "      ent.pack(side=RIGHT, expand=YES, fill=X)\n",
    "      entries[field] = ent\n",
    "   return entries\n",
    "\n",
    "if __name__ == '__main__':\n",
    "   root = Tk()\n",
    "   ents = makeform(root, fields)\n",
    "   root.bind('', (lambda event, e=ents: fetch(e)))   \n",
    "   b1 = Button(root, text='Final Balance',\n",
    "          command=(lambda e=ents: final_balance(e)))\n",
    "   b1.pack(side=LEFT, padx=5, pady=5)\n",
    "   b2 = Button(root, text='Monthly Payment',\n",
    "          command=(lambda e=ents: monthly_payment(e)))\n",
    "   b2.pack(side=LEFT, padx=5, pady=5)\n",
    "   b3 = Button(root, text='Quit', command=root.quit)\n",
    "   b3.pack(side=LEFT, padx=5, pady=5)\n",
    "   root.mainloop()"
   ]
  },
  {
   "cell_type": "code",
   "execution_count": null,
   "metadata": {
    "collapsed": false
   },
   "outputs": [],
   "source": [
    "class Checkbar(Frame):\n",
    "   def __init__(self, parent=None, picks=[], side=LEFT, anchor=W):\n",
    "      Frame.__init__(self, parent)\n",
    "      self.vars = []\n",
    "      for pick in picks:\n",
    "         var = IntVar()\n",
    "         chk = Checkbutton(self, text=pick, variable=var)\n",
    "         chk.pack(side=side, anchor=anchor, expand=YES)\n",
    "         self.vars.append(var)\n",
    "   def state(self):\n",
    "      return map((lambda var: var.get()), self.vars)\n",
    "if __name__ == '__main__':\n",
    "   root = Tk()\n",
    "   selL1_1 = Checkbar(root, ['On','Off'])\n",
    "   selL1_2 = Checkbar(root, ['On','Off'])\n",
    "   selL1_1.pack(side=TOP,  fill=X)\n",
    "   selL1_2.pack(side=LEFT)\n",
    "   selL1_1.config(relief=GROOVE, bd=2)\n",
    "\n",
    "   def allstates(): \n",
    "      print(list(selL1_1.state()), list(selL1_2.state()))\n",
    "   Button(root, text='Quit', command=root.quit).pack(side=RIGHT)\n",
    "   Button(root, text='Peek', command=allstates).pack(side=RIGHT)\n",
    "   root.mainloop()"
   ]
  },
  {
   "cell_type": "code",
   "execution_count": 4,
   "metadata": {
    "collapsed": false
   },
   "outputs": [
    {
     "name": "stdout",
     "output_type": "stream",
     "text": [
      "/Users/angueyraaristjm/Documents/LiData/invivoERG/20150529/1sec green.csv\n"
     ]
    }
   ],
   "source": [
    "from tkinter import *\n",
    "from tkinter.filedialog import askopenfilename\n",
    "\n",
    "def callback():\n",
    "    name= askopenfilename(initialdir = \"~/Documents/LiData/invivoERG/\",title = \"choose your file\",filetypes = ((\"csvs\",\"*.csv\"),(\"all files\",\"*.*\")))\n",
    "    print (name)\n",
    "    \n",
    "errmsg = 'Error!'\n",
    "Button(text='File Open', command=callback).pack(fill=X)\n",
    "mainloop()"
   ]
  },
  {
   "cell_type": "code",
   "execution_count": null,
   "metadata": {
    "collapsed": false
   },
   "outputs": [],
   "source": [
    "#grid layout\n",
    "colours = ['red','green','orange','white','yellow','blue']\n",
    "\n",
    "r = 0\n",
    "for c in colours:\n",
    "    Label(text=c, relief=RIDGE,width=15).grid(row=r,column=0)\n",
    "    Entry(bg=c, relief=SUNKEN,width=10).grid(row=r,column=1)\n",
    "    r = r + 1\n",
    "\n",
    "mainloop()"
   ]
  },
  {
   "cell_type": "code",
   "execution_count": 5,
   "metadata": {
    "collapsed": false
   },
   "outputs": [
    {
     "name": "stdout",
     "output_type": "stream",
     "text": [
      "/Users/angueyraaristjm/Documents/LiData/invivoERG/20160420/02_ISeriesG.csv\n",
      "This is a simple example of a menu\n"
     ]
    }
   ],
   "source": [
    "from tkinter import *\n",
    "from tkinter.filedialog import askopenfilename\n",
    "\n",
    "def OpenFile():\n",
    "    name= askopenfilename(initialdir = \"~/Documents/LiData/invivoERG/\",title = \"choose your file\",filetypes = ((\"csvs\",\"*.csv\"),(\"all files\",\"*.*\")))\n",
    "    print (name)\n",
    "def About():\n",
    "    print(\"This is a simple example of a menu\")\n",
    "    \n",
    "root = Tk()\n",
    "menu = Menu(root)\n",
    "root.config(menu=menu)\n",
    "filemenu = Menu(menu)\n",
    "menu.add_cascade(label=\"File\", menu=filemenu)\n",
    "filemenu.add_command(label=\"Open...\", command=OpenFile)\n",
    "filemenu.add_separator()\n",
    "filemenu.add_command(label=\"Exit\", command=root.quit)\n",
    "\n",
    "helpmenu = Menu(menu)\n",
    "menu.add_cascade(label=\"Help\", menu=helpmenu)\n",
    "helpmenu.add_command(label=\"About...\", command=About)\n",
    "\n",
    "mainloop()"
   ]
  },
  {
   "cell_type": "code",
   "execution_count": null,
   "metadata": {
    "collapsed": false
   },
   "outputs": [],
   "source": []
  }
 ],
 "metadata": {
  "kernelspec": {
   "display_name": "Python 3",
   "language": "python",
   "name": "python3"
  },
  "language_info": {
   "codemirror_mode": {
    "name": "ipython",
    "version": 3
   },
   "file_extension": ".py",
   "mimetype": "text/x-python",
   "name": "python",
   "nbconvert_exporter": "python",
   "pygments_lexer": "ipython3",
   "version": "3.5.1"
  }
 },
 "nbformat": 4,
 "nbformat_minor": 0
}
