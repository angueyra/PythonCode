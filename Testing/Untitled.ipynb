{
 "cells": [
  {
   "cell_type": "code",
   "execution_count": 1,
   "metadata": {
    "collapsed": false
   },
   "outputs": [
    {
     "name": "stdout",
     "output_type": "stream",
     "text": [
      "Collecting git+git://github.com/jupyter/notebook.git@master\n",
      "  Cloning git://github.com/jupyter/notebook.git (to master) to /var/folders/vk/wl4_mct13fz8gyf_fw_7fnpxfbkcj_/T/pip-0boucy2n-build\n",
      "Requirement already up-to-date: jinja2 in /Users/angueyraaristjm/anaconda/lib/python3.5/site-packages (from notebook==5.0.0.dev0)\n",
      "Requirement already up-to-date: tornado>=4 in /Users/angueyraaristjm/anaconda/lib/python3.5/site-packages (from notebook==5.0.0.dev0)\n",
      "Requirement already up-to-date: ipython_genutils in /Users/angueyraaristjm/anaconda/lib/python3.5/site-packages (from notebook==5.0.0.dev0)\n",
      "Requirement already up-to-date: traitlets>=4.2.1 in /Users/angueyraaristjm/anaconda/lib/python3.5/site-packages (from notebook==5.0.0.dev0)\n",
      "Requirement already up-to-date: jupyter_core in /Users/angueyraaristjm/anaconda/lib/python3.5/site-packages (from notebook==5.0.0.dev0)\n",
      "Collecting jupyter_client (from notebook==5.0.0.dev0)\n",
      "  Using cached jupyter_client-4.3.0-py2.py3-none-any.whl\n",
      "Requirement already up-to-date: nbformat in /Users/angueyraaristjm/anaconda/lib/python3.5/site-packages (from notebook==5.0.0.dev0)\n",
      "Requirement already up-to-date: nbconvert in /Users/angueyraaristjm/anaconda/lib/python3.5/site-packages (from notebook==5.0.0.dev0)\n",
      "Requirement already up-to-date: ipykernel in /Users/angueyraaristjm/anaconda/lib/python3.5/site-packages (from notebook==5.0.0.dev0)\n",
      "Collecting terminado>=0.3.3 (from notebook==5.0.0.dev0)\n",
      "Requirement already up-to-date: MarkupSafe in /Users/angueyraaristjm/anaconda/lib/python3.5/site-packages (from jinja2->notebook==5.0.0.dev0)\n",
      "Requirement already up-to-date: decorator in /Users/angueyraaristjm/anaconda/lib/python3.5/site-packages (from traitlets>=4.2.1->notebook==5.0.0.dev0)\n",
      "Collecting pyzmq>=13 (from jupyter_client->notebook==5.0.0.dev0)\n",
      "  Using cached pyzmq-15.3.0-cp35-cp35m-macosx_10_6_intel.whl\n",
      "Requirement already up-to-date: pygments in /Users/angueyraaristjm/anaconda/lib/python3.5/site-packages (from nbconvert->notebook==5.0.0.dev0)\n",
      "Requirement already up-to-date: entrypoints in /Users/angueyraaristjm/anaconda/lib/python3.5/site-packages (from nbconvert->notebook==5.0.0.dev0)\n",
      "Requirement already up-to-date: mistune!=0.6 in /Users/angueyraaristjm/anaconda/lib/python3.5/site-packages (from nbconvert->notebook==5.0.0.dev0)\n",
      "Collecting ptyprocess (from terminado>=0.3.3->notebook==5.0.0.dev0)\n",
      "  Using cached ptyprocess-0.5.1-py2.py3-none-any.whl\n",
      "Installing collected packages: pyzmq, jupyter-client, ptyprocess, terminado, notebook\n",
      "  Found existing installation: pyzmq 15.2.0\n",
      "\u001b[33m    DEPRECATION: Uninstalling a distutils installed project (pyzmq) has been deprecated and will be removed in a future version. This is due to the fact that uninstalling a distutils project will only partially uninstall the project.\u001b[0m\n",
      "    Uninstalling pyzmq-15.2.0:\n",
      "      Successfully uninstalled pyzmq-15.2.0\n",
      "  Found existing installation: jupyter-client 4.2.2\n",
      "\u001b[33m    DEPRECATION: Uninstalling a distutils installed project (jupyter-client) has been deprecated and will be removed in a future version. This is due to the fact that uninstalling a distutils project will only partially uninstall the project.\u001b[0m\n",
      "    Uninstalling jupyter-client-4.2.2:\n",
      "      Successfully uninstalled jupyter-client-4.2.2\n",
      "  Found existing installation: ptyprocess 0.5\n",
      "\u001b[33m    DEPRECATION: Uninstalling a distutils installed project (ptyprocess) has been deprecated and will be removed in a future version. This is due to the fact that uninstalling a distutils project will only partially uninstall the project.\u001b[0m\n",
      "    Uninstalling ptyprocess-0.5:\n",
      "      Successfully uninstalled ptyprocess-0.5\n",
      "  Found existing installation: terminado 0.5\n",
      "\u001b[33m    DEPRECATION: Uninstalling a distutils installed project (terminado) has been deprecated and will be removed in a future version. This is due to the fact that uninstalling a distutils project will only partially uninstall the project.\u001b[0m\n",
      "    Uninstalling terminado-0.5:\n",
      "      Successfully uninstalled terminado-0.5\n",
      "  Found existing installation: notebook 5.0.0.dev0\n",
      "    Uninstalling notebook-5.0.0.dev0:\n",
      "      Successfully uninstalled notebook-5.0.0.dev0\n",
      "  Running setup.py install for notebook ... \u001b[?25ldone\n",
      "\u001b[?25hSuccessfully installed jupyter-client-4.3.0 notebook-5.0.0.dev0 ptyprocess-0.5.1 pyzmq-15.3.0 terminado-0.6\n"
     ]
    }
   ],
   "source": [
    "!pip install git+git://github.com/jupyter/notebook.git@master --upgrade"
   ]
  },
  {
   "cell_type": "code",
   "execution_count": 2,
   "metadata": {
    "collapsed": false
   },
   "outputs": [
    {
     "name": "stdout",
     "output_type": "stream",
     "text": [
      "Collecting pip\n",
      "  Downloading pip-8.1.2-py2.py3-none-any.whl (1.2MB)\n",
      "\u001b[K    100% |████████████████████████████████| 1.2MB 644kB/s \n",
      "\u001b[?25hInstalling collected packages: pip\n",
      "  Found existing installation: pip 8.1.1\n",
      "    Uninstalling pip-8.1.1:\n",
      "      Successfully uninstalled pip-8.1.1\n",
      "Successfully installed pip-8.1.2\n"
     ]
    }
   ],
   "source": [
    "!pip install --upgrade pip"
   ]
  },
  {
   "cell_type": "code",
   "execution_count": 3,
   "metadata": {
    "collapsed": false
   },
   "outputs": [
    {
     "data": {
      "text/plain": [
       "'/Users/angueyraaristjm/Documents/Python/PythonCode/Testing'"
      ]
     },
     "execution_count": 3,
     "metadata": {},
     "output_type": "execute_result"
    }
   ],
   "source": [
    "pwd"
   ]
  },
  {
   "cell_type": "code",
   "execution_count": 4,
   "metadata": {
    "collapsed": false
   },
   "outputs": [
    {
     "name": "stdout",
     "output_type": "stream",
     "text": [
      "/Users/angueyraaristjm/Documents/Python/PythonCode\n"
     ]
    }
   ],
   "source": [
    "cd .."
   ]
  },
  {
   "cell_type": "code",
   "execution_count": 2,
   "metadata": {
    "collapsed": false
   },
   "outputs": [
    {
     "name": "stdout",
     "output_type": "stream",
     "text": [
      "Collecting git+git://github.com/adl/RISE.git@master\n",
      "  Cloning git://github.com/adl/RISE.git (to master) to /var/folders/vk/wl4_mct13fz8gyf_fw_7fnpxfbkcj_/T/pip-brrx71fb-build\n",
      "    Complete output from command python setup.py egg_info:\n",
      "    /Users/angueyraaristjm/anaconda/lib/python3.5/site-packages/IPython/html.py:14: ShimWarning: The `IPython.html` package has been deprecated. You should import from `notebook` instead. `IPython.html.widgets` has moved to `ipywidgets`.\n",
      "      \"`IPython.html.widgets` has moved to `ipywidgets`.\", ShimWarning)\n",
      "    usage: -c [-h] {install} ...\n",
      "    -c: error: invalid choice: 'egg_info' (choose from 'install')\n",
      "    \n",
      "    ----------------------------------------\n",
      "\u001b[31mCommand \"python setup.py egg_info\" failed with error code 2 in /var/folders/vk/wl4_mct13fz8gyf_fw_7fnpxfbkcj_/T/pip-brrx71fb-build/\u001b[0m\n"
     ]
    }
   ],
   "source": [
    "!pip install git+git://github.com/adl/RISE.git@master --upgrade"
   ]
  },
  {
   "cell_type": "code",
   "execution_count": 16,
   "metadata": {
    "collapsed": false
   },
   "outputs": [
    {
     "name": "stdout",
     "output_type": "stream",
     "text": [
      "/Users/angueyraaristjm/Documents/zzRepositories/RISE\n"
     ]
    }
   ],
   "source": [
    "cd ~/Documents/zzRepositories/RISE/"
   ]
  },
  {
   "cell_type": "code",
   "execution_count": 17,
   "metadata": {
    "collapsed": false
   },
   "outputs": [
    {
     "name": "stdout",
     "output_type": "stream",
     "text": [
      "Traceback (most recent call last):\r\n",
      "  File \"setup.py\", line 2, in <module>\r\n",
      "    from notebook.nbextensions import install_nbextension\r\n",
      "ImportError: No module named notebook.nbextensions\r\n"
     ]
    }
   ],
   "source": [
    "!python setup.py install"
   ]
  },
  {
   "cell_type": "code",
   "execution_count": 15,
   "metadata": {
    "collapsed": false
   },
   "outputs": [
    {
     "name": "stdout",
     "output_type": "stream",
     "text": [
      "Using Anaconda Cloud api site https://api.anaconda.org\n",
      "Fetching package metadata: ......\n",
      "Solving package specifications: ....\n",
      "\n",
      "The following specifications were found to be in conflict:\n",
      "  - alabaster (target=alabaster-0.7.7-py35_0.tar.bz2) -> python 2.6*|2.7*|3.3*|3.4*|3.5*\n",
      "  - anaconda (target=anaconda-4.0.0-np110py35_0.tar.bz2) -> appscript 1.0.1 py26_0|1.0.1 py27_0|1.0.1 py33_0|1.0.1 py34_0|1.0.1 py35_0\n",
      "  - anaconda (target=anaconda-4.0.0-np110py35_0.tar.bz2) -> beautifulsoup4 4.4.1 py27_0|4.4.1 py34_0|4.4.1 py35_0\n",
      "  - anaconda (target=anaconda-4.0.0-np110py35_0.tar.bz2) -> bitarray 0.8.1 py26_0|0.8.1 py27_0|0.8.1 py33_0|0.8.1 py34_0|0.8.1 py35_0\n",
      "  - anaconda (target=anaconda-4.0.0-np110py35_0.tar.bz2) -> blaze 0.10.1 py27_0|0.10.1 py34_0|0.10.1 py35_0|0.3 np17py27_0|0.4.1 np18py26_0|0.4.1 np18py27_0|0.4.1 np18py33_0|0.4.2 np18py26_0|0.4.2 np18py27_0|0.4.2 np18py33_0|0.5.0 np18py26_0|0.5.0 np18py26_1|0.5.0 np18py27_0|0.5.0 np18py27_1|0.5.0 np18py33_0|0.5.0 np18py33_1|0.5.0 np18py34_0|0.5.0 np18py34_1|0.6.3 np19py26_0|0.6.3 np19py27_0|0.6.3 np19py33_0|0.6.3 np19py34_0|0.9.1 py27_0|0.9.1 py34_0|0.9.1 py35_0\n",
      "  - anaconda (target=anaconda-4.0.0-np110py35_0.tar.bz2) -> boto 2.12.0 py26_0|2.12.0 py27_0|2.15.0 py26_0|2.15.0 py27_0|2.24.0 py26_0|2.24.0 py27_0|2.25.0 py26_0|2.25.0 py27_0|2.28.0 py26_0|2.28.0 py27_0|2.32.1 py26_0|2.32.1 py27_0|2.32.1 py33_0|2.32.1 py34_0|2.36.0 py26_0|2.36.0 py27_0|2.36.0 py33_0|2.36.0 py34_0|2.38.0 py26_0|2.38.0 py27_0|2.38.0 py33_0|2.38.0 py34_0|2.38.0 py35_0|2.39.0 py27_0|2.39.0 py34_0|2.39.0 py35_0|2.40.0 py27_0|2.40.0 py34_0|2.40.0 py35_0|2.9.6 py26_0|2.9.6 py27_0\n",
      "  - anaconda (target=anaconda-4.0.0-np110py35_0.tar.bz2) -> bottleneck 1.0.0 np110py27_0|1.0.0 np110py34_0|1.0.0 np110py35_0|1.0.0 np111py27_1|1.0.0 np111py34_1|1.0.0 np111py35_1|1.0.0 np19py27_0|1.0.0 np19py34_0|1.1.0 np111py27_0|1.1.0 np111py34_0|1.1.0 np111py35_0\n",
      "  - anaconda (target=anaconda-4.0.0-np110py35_0.tar.bz2) -> chest 0.2.3 py27_0|0.2.3 py34_0|0.2.3 py35_0\n",
      "  - anaconda (target=anaconda-4.0.0-np110py35_0.tar.bz2) -> colorama 0.2.7 py26_0|0.2.7 py27_0|0.2.7 py33_0|0.2.7 py34_0|0.3.1 py26_0|0.3.1 py27_0|0.3.1 py33_0|0.3.1 py34_0|0.3.3 py26_0|0.3.3 py27_0|0.3.3 py33_0|0.3.3 py34_0|0.3.3 py35_0|0.3.6 py27_0|0.3.6 py34_0|0.3.6 py35_0|0.3.7 py27_0|0.3.7 py34_0|0.3.7 py35_0\n",
      "  - anaconda (target=anaconda-4.0.0-np110py35_0.tar.bz2) -> configobj 4.7.2 py26_0|4.7.2 py27_0|5.0.5 py26_0|5.0.5 py27_0|5.0.5 py33_0|5.0.5 py34_0|5.0.6 py26_0|5.0.6 py27_0|5.0.6 py33_0|5.0.6 py34_0|5.0.6 py35_0\n",
      "  - anaconda (target=anaconda-4.0.0-np110py35_0.tar.bz2) -> cycler 0.10.0 py27_0|0.10.0 py34_0|0.10.0 py35_0|0.9.0 py27_0|0.9.0 py34_0|0.9.0 py35_0\n",
      "  - anaconda (target=anaconda-4.0.0-np110py35_0.tar.bz2) -> cython 0.19.1 py26_0|0.19.1 py27_0|0.19.1 py33_0|0.19.2 py26_0|0.19.2 py27_0|0.19.2 py33_0|0.20 py26_0|0.20 py27_0|0.20 py33_0|0.20.1 py26_0|0.20.1 py27_0|0.20.1 py33_0|0.20.1 py34_0|0.21 py26_0|0.21 py27_0|0.21 py33_0|0.21 py34_0|0.22 py26_0|0.22 py27_0|0.22 py33_0|0.22 py34_0|0.22.1 py26_0|0.22.1 py27_0|0.22.1 py33_0|0.22.1 py34_0|0.23.4 py27_0|0.23.4 py27_1|0.23.4 py34_0|0.23.4 py34_1|0.23.4 py35_0|0.23.4 py35_1|0.24 py27_0|0.24 py34_0|0.24 py35_0\n",
      "  - anaconda (target=anaconda-4.0.0-np110py35_0.tar.bz2) -> datashape 0.1.0 np18py26_0|0.1.0 np18py27_0|0.1.0 np18py33_0|0.1.1 np18py26_0|0.1.1 np18py27_0|0.1.1 np18py33_0|0.2.0 np18py26_1|0.2.0 np18py27_1|0.2.0 np18py33_1|0.2.0 np18py34_1|0.3.0 np19py26_1|0.3.0 np19py27_1|0.3.0 np19py33_1|0.3.0 np19py34_1|0.4.4 np19py26_1|0.4.4 np19py27_1|0.4.4 np19py33_1|0.4.4 np19py34_1|0.4.5 np19py26_0|0.4.5 np19py27_0|0.4.5 np19py33_0|0.4.5 np19py34_0|0.4.7 np110py27_1|0.4.7 np110py34_1|0.4.7 np110py35_1|0.5.0 py27_0|0.5.0 py34_0|0.5.0 py35_0|0.5.1 py27_0|0.5.1 py34_0|0.5.1 py35_0|0.5.2 py27_0|0.5.2 py34_0|0.5.2 py35_0\n",
      "  - anaconda (target=anaconda-4.0.0-np110py35_0.tar.bz2) -> decorator 3.4.0 py26_0|3.4.0 py27_0|3.4.0 py33_0|3.4.0 py34_0|3.4.2 py26_0|3.4.2 py27_0|3.4.2 py33_0|3.4.2 py34_0|4.0.10 py27_0|4.0.10 py34_0|4.0.10 py35_0|4.0.4 py27_0|4.0.4 py34_0|4.0.4 py35_0|4.0.6 py27_0|4.0.6 py34_0|4.0.6 py35_0|4.0.9 py27_0|4.0.9 py34_0|4.0.9 py35_0\n",
      "  - anaconda (target=anaconda-4.0.0-np110py35_0.tar.bz2) -> docutils 0.10 py26_0|0.10 py27_0|0.10 py33_0|0.11 py26_0|0.11 py27_0|0.11 py33_0|0.11 py34_0|0.12 py26_0|0.12 py27_0|0.12 py27_2|0.12 py33_0|0.12 py34_0|0.12 py34_2|0.12 py35_0|0.12 py35_2\n",
      "  - anaconda (target=anaconda-4.0.0-np110py35_0.tar.bz2) -> fastcache 1.0.2 py26_0|1.0.2 py27_0|1.0.2 py27_1|1.0.2 py33_0|1.0.2 py34_0|1.0.2 py34_1|1.0.2 py35_0|1.0.2 py35_1\n",
      "  - anaconda (target=anaconda-4.0.0-np110py35_0.tar.bz2) -> flask 0.10.1 py26_0|0.10.1 py26_1|0.10.1 py27_0|0.10.1 py27_1|0.10.1 py33_1|0.10.1 py34_1|0.10.1 py35_1|0.11.1 py27_0|0.11.1 py34_0|0.11.1 py35_0\n",
      "  - anaconda (target=anaconda-4.0.0-np110py35_0.tar.bz2) -> gevent 0.13.8 py26_0|0.13.8 py27_0|1.0 py26_0|1.0 py27_0|1.0.1 py26_0|1.0.1 py27_0|1.0.2 py27_0|1.1.0 py27_0|1.1.0 py34_0|1.1.0 py35_0|1.1.1 py27_0|1.1.1 py34_0|1.1.1 py35_0\n",
      "  - anaconda (target=anaconda-4.0.0-np110py35_0.tar.bz2) -> ipykernel 4.1.1 py27_0|4.1.1 py34_0|4.1.1 py35_0|4.2.2 py27_0|4.2.2 py34_0|4.2.2 py35_0|4.3.1 py27_0|4.3.1 py34_0|4.3.1 py35_0\n",
      "  - anaconda (target=anaconda-4.0.0-np110py35_0.tar.bz2) -> ipython 0.13.2 py26_0|0.13.2 py27_0|0.13.2 py33_0|1.0.0 py26_0|1.0.0 py27_0|1.0.0 py33_0|1.1.0 py26_0|1.1.0 py27_0|1.1.0 py33_0|2.1.0 py27_0|2.1.0 py27_2|2.1.0 py33_0|2.1.0 py33_2|2.1.0 py34_0|2.1.0 py34_2|2.2.0 py27_1|2.2.0 py33_1|2.2.0 py34_1|3.0.0 py27_0|3.0.0 py33_0|3.0.0 py34_0|3.2.0 py27_0|3.2.0 py33_0|3.2.0 py34_0\n",
      "  - anaconda (target=anaconda-4.0.0-np110py35_0.tar.bz2) -> jinja2 2.6 py26_0|2.6 py33_0|2.7.1 py26_0|2.7.1 py33_0|2.7.2 py26_0|2.7.2 py33_0|2.7.3 py26_1|2.7.3 py33_1\n",
      "  - anaconda (target=anaconda-4.0.0-np110py35_0.tar.bz2) -> jsonschema 2.4.0 py26_0|2.4.0 py33_0\n",
      "  - anaconda (target=anaconda-4.0.0-np110py35_0.tar.bz2) -> jupyter_client 4.1.1 py27_0|4.1.1 py34_0|4.1.1 py35_0|4.2.2 py27_0|4.2.2 py34_0|4.2.2 py35_0|4.3.0 py27_0|4.3.0 py34_0|4.3.0 py35_0\n",
      "  - anaconda (target=anaconda-4.0.0-np110py35_0.tar.bz2) -> jupyter_core 4.0.6 py27_0|4.0.6 py34_0|4.0.6 py35_0|4.1.0 py27_0|4.1.0 py34_0|4.1.0 py35_0\n",
      "  - anaconda (target=anaconda-4.0.0-np110py35_0.tar.bz2) -> locket 0.2.0 py27_0|0.2.0 py27_1|0.2.0 py34_0|0.2.0 py34_1|0.2.0 py35_0|0.2.0 py35_1\n",
      "  - anaconda (target=anaconda-4.0.0-np110py35_0.tar.bz2) -> lxml 3.2.1 py26_0|3.2.1 py27_0|3.2.1 py33_0|3.2.3 py26_0|3.2.3 py27_0|3.2.3 py33_0|3.3.1 py26_0|3.3.1 py27_0|3.3.1 py33_0|3.3.5 py26_0|3.3.5 py27_0|3.3.5 py33_0|3.3.5 py34_0|3.4.0 py26_0|3.4.0 py27_0|3.4.0 py33_0|3.4.0 py34_0|3.4.2 py26_0|3.4.2 py27_0|3.4.2 py33_0|3.4.2 py34_0|3.4.4 py26_0|3.4.4 py27_0|3.4.4 py33_0|3.4.4 py34_0|3.4.4 py35_0|3.5.0 py27_0|3.5.0 py34_0|3.5.0 py35_0|3.6.0 py27_0|3.6.0 py34_0|3.6.0 py35_0\n",
      "  - anaconda (target=anaconda-4.0.0-np110py35_0.tar.bz2) -> mistune 0.5.1 py26_0|0.5.1 py26_1|0.5.1 py33_0|0.5.1 py33_1\n",
      "  - anaconda (target=anaconda-4.0.0-np110py35_0.tar.bz2) -> nbformat 4.0.1 py27_0|4.0.1 py34_0|4.0.1 py35_0\n",
      "  - anaconda (target=anaconda-4.0.0-np110py35_0.tar.bz2) -> networkx 1.10 py27_0|1.10 py34_0|1.10 py35_0|1.11 py27_0|1.11 py34_0|1.11 py35_0|1.7 py26_0|1.7 py27_0|1.7 py33_0|1.8.1 py26_0|1.8.1 py27_0|1.8.1 py33_0|1.8.1 py34_0|1.9.1 py26_0|1.9.1 py27_0|1.9.1 py33_0|1.9.1 py34_0\n",
      "  - anaconda (target=anaconda-4.0.0-np110py35_0.tar.bz2) -> nose 1.3.0 py26_0|1.3.0 py27_0|1.3.0 py33_0|1.3.3 py26_0|1.3.3 py27_0|1.3.3 py33_0|1.3.3 py34_0|1.3.4 py26_0|1.3.4 py26_1|1.3.4 py27_0|1.3.4 py27_1|1.3.4 py33_0|1.3.4 py33_1|1.3.4 py34_0|1.3.4 py34_1|1.3.7 py26_0|1.3.7 py27_0|1.3.7 py27_1|1.3.7 py33_0|1.3.7 py34_0|1.3.7 py34_1|1.3.7 py35_0|1.3.7 py35_1\n",
      "  - anaconda (target=anaconda-4.0.0-np110py35_0.tar.bz2) -> numba 0.10.2 np16py26_0|0.10.2 np16py27_0|0.10.2 np17py26_0|0.10.2 np17py27_0|0.10.2 np17py33_0|0.11.0 np16py26_0|0.11.0 np16py27_0|0.11.0 np17py26_0|0.11.0 np17py27_0|0.11.0 np17py33_0|0.12.0 np18py26_0|0.12.0 np18py27_0|0.12.0 np18py33_0|0.12.1 np18py26_0|0.12.1 np18py27_0|0.12.1 np18py33_0|0.13.1 np18py26_0|0.13.1 np18py27_0|0.13.1 np18py33_0|0.13.1 np18py34_0|0.13.2 np18py26_0|0.13.2 np18py27_0|0.13.2 np18py33_0|0.13.2 np18py34_0|0.14.0 np19py26_0|0.14.0 np19py27_0|0.14.0 np19py33_0|0.14.0 np19py34_0|0.17.0 np19py26_0|0.17.0 np19py27_0|0.17.0 np19py33_0|0.17.0 np19py34_0|0.19.1 np19py26_0|0.19.1 np19py27_0|0.19.1 np19py33_0|0.19.1 np19py34_0|0.21.0 np110py27_0|0.21.0 np110py34_0|0.22.1 np110py27_0|0.22.1 np110py34_0|0.22.1 np110py35_0|0.23.1 np110py27_0|0.23.1 np110py34_0|0.23.1 np110py35_0|0.24.0 np110py27_0|0.24.0 np110py34_0|0.24.0 np110py35_0|0.26.0 np111py27_0|0.26.0 np111py34_0|0.26.0 np111py35_0|0.9.0 np16py26_0|0.9.0 np16py27_0|0.9.0 np17py26_0|0.9.0 np17py27_0|0.9.0 np17py33_0\n",
      "  - anaconda (target=anaconda-4.0.0-np110py35_0.tar.bz2) -> patsy 0.2.1 np16py26_0|0.2.1 np16py27_0|0.2.1 np17py26_0|0.2.1 np17py27_0|0.2.1 np17py33_0|0.2.1 np18py26_0|0.2.1 np18py27_0|0.2.1 np18py33_0|0.2.1 np18py34_0|0.3.0 np19py26_0|0.3.0 np19py27_0|0.3.0 np19py33_0|0.3.0 np19py34_0|0.4.0 np110py27_0|0.4.0 np110py34_0|0.4.0 np110py35_0|0.4.1 py27_0|0.4.1 py34_0|0.4.1 py35_0\n",
      "  - anaconda (target=anaconda-4.0.0-np110py35_0.tar.bz2) -> pexpect 3.3 py27_0|3.3 py34_0|3.3 py35_0|4.0.1 py27_0|4.0.1 py34_0|4.0.1 py35_0\n",
      "  - anaconda (target=anaconda-4.0.0-np110py35_0.tar.bz2) -> pip 1.3.1 py26_2|1.3.1 py27_2|1.3.1 py33_2|1.4.1 py26_0|1.4.1 py27_0|1.4.1 py33_0|1.5.2 py26_0|1.5.2 py27_0|1.5.2 py33_0|1.5.6 py26_0|1.5.6 py27_0|1.5.6 py33_0|6.0.8 py26_0|6.0.8 py27_0|6.0.8 py33_0|7.0.3 py26_0|7.0.3 py27_0|7.0.3 py33_0|7.1.2 py27_0|7.1.2 py35_0|8.0.2 py27_0|8.0.2 py35_0|8.1.1 py27_1|8.1.1 py35_1|8.1.2 py27_0|8.1.2 py35_0\n",
      "  - anaconda (target=anaconda-4.0.0-np110py35_0.tar.bz2) -> ply 3.4 py26_0|3.4 py27_0|3.4 py33_0|3.4 py34_0|3.6 py26_0|3.6 py27_0|3.6 py33_0|3.6 py34_0|3.8 py27_0|3.8 py34_0|3.8 py35_0\n",
      "  - anaconda (target=anaconda-4.0.0-np110py35_0.tar.bz2) -> psutil 0.7.1 py26_0|0.7.1 py27_0|0.7.1 py33_0|1.0.1 py26_0|1.0.1 py27_0|1.0.1 py33_0|1.1.2 py26_0|1.1.2 py27_0|1.1.2 py33_0|1.2.1 py26_0|1.2.1 py27_0|1.2.1 py33_0|2.1.1 py26_0|2.1.1 py27_0|2.1.1 py33_0|2.1.1 py34_0|2.2.1 py26_0|2.2.1 py27_0|2.2.1 py33_0|2.2.1 py34_0|3.2.2 py27_0|3.2.2 py34_0|3.2.2 py35_0|3.3.0 py27_0|3.3.0 py34_0|3.3.0 py35_0|3.4.2 py27_0|3.4.2 py34_0|3.4.2 py35_0|4.1.0 py27_1|4.1.0 py34_1|4.1.0 py35_1|4.3.0 py27_0|4.3.0 py34_0|4.3.0 py35_0\n",
      "  - anaconda (target=anaconda-4.0.0-np110py35_0.tar.bz2) -> ptyprocess 0.4 py33_0\n",
      "  - anaconda (target=anaconda-4.0.0-np110py35_0.tar.bz2) -> py 1.4.14 py26_0|1.4.14 py27_0|1.4.17 py26_0|1.4.17 py27_0|1.4.20 py26_0|1.4.20 py27_0|1.4.20 py33_0|1.4.20 py34_0|1.4.25 py26_0|1.4.25 py27_0|1.4.25 py33_0|1.4.25 py34_0|1.4.26 py26_0|1.4.26 py27_0|1.4.26 py33_0|1.4.26 py34_0|1.4.27 py26_0|1.4.27 py27_0|1.4.27 py33_0|1.4.27 py34_0|1.4.30 py27_0|1.4.30 py34_0|1.4.30 py35_0|1.4.31 py27_0|1.4.31 py34_0|1.4.31 py35_0\n",
      "  - anaconda (target=anaconda-4.0.0-np110py35_0.tar.bz2) -> pycosat 0.6.0 py26_0|0.6.0 py27_0|0.6.0 py33_0|0.6.1 py26_0|0.6.1 py27_0|0.6.1 py27_1|0.6.1 py33_0|0.6.1 py35_0|0.6.1 py35_1\n",
      "  - anaconda (target=anaconda-4.0.0-np110py35_0.tar.bz2) -> pytables 2.4.0 np16py26_0|2.4.0 np16py27_0|2.4.0 np17py26_0|2.4.0 np17py27_0|3.0.0 np16py26_1|3.0.0 np16py27_1|3.0.0 np17py26_1|3.0.0 np17py27_1|3.0.0 np17py33_1|3.1.0 np18py26_0|3.1.0 np18py27_0|3.1.0 np18py33_0|3.1.1 np18py26_0|3.1.1 np18py27_0|3.1.1 np18py33_0|3.1.1 np18py34_0|3.1.1 np19py26_0|3.1.1 np19py26_2|3.1.1 np19py27_0|3.1.1 np19py27_2|3.1.1 np19py33_0|3.1.1 np19py33_2|3.1.1 np19py34_0|3.1.1 np19py34_2|3.2.0 np19py26_0|3.2.0 np19py27_0|3.2.0 np19py33_0|3.2.0 np19py34_0|3.2.2 np110py27_0|3.2.2 np110py27_1|3.2.2 np110py34_0|3.2.2 np110py34_1|3.2.2 np110py35_0|3.2.2 np110py35_1|3.2.2 np111py27_4|3.2.2 np111py34_4|3.2.2 np111py35_4\n",
      "  - anaconda (target=anaconda-4.0.0-np110py35_0.tar.bz2) -> pytest 2.3.5 py26_0|2.3.5 py27_0|2.4.2 py26_0|2.4.2 py27_0|2.5.2 py26_0|2.5.2 py27_0|2.5.2 py33_0|2.5.2 py34_0|2.6.3 py26_0|2.6.3 py27_0|2.6.3 py33_0|2.6.3 py34_0|2.6.4 py26_0|2.6.4 py27_0|2.6.4 py33_0|2.6.4 py34_0|2.7.1 py26_0|2.7.1 py27_0|2.7.1 py33_0|2.7.1 py34_0|2.8.1 py27_0|2.8.1 py34_0|2.8.1 py35_0|2.8.5 py27_0|2.8.5 py34_0|2.8.5 py35_0|2.9.2 py27_0|2.9.2 py34_0|2.9.2 py35_0\n",
      "  - anaconda (target=anaconda-4.0.0-np110py35_0.tar.bz2) -> python 2.6.8 8|2.6.8 9|2.6.9 0|2.6.9 1|2.7*|2.7.10 0|2.7.10 2|2.7.11 0|2.7.11 5|2.7.12 1|2.7.5 1|2.7.5 2|2.7.5 3|2.7.6 1|2.7.6 2|2.7.7 0|2.7.8 1|2.7.9 1|3.3.2 0|3.3.2 1|3.3.3 1|3.3.4 0|3.3.5 0|3.3.5 3|3.4*|3.4.1 0|3.4.1 4|3.4.3 0|3.4.3 2|3.4.4 0|3.4.4 5|3.4.5 0|3.5*|3.5.0 1|3.5.1 0|3.5.1 5|3.5.2 0\n",
      "  - anaconda (target=anaconda-4.0.0-np110py35_0.tar.bz2) -> pytz 2013b py26_0|2013b py27_0|2013b py33_0|2014.3 py26_0|2014.3 py27_0|2014.3 py33_0|2014.3 py34_0|2014.7 py26_0|2014.7 py27_0|2014.7 py33_0|2014.7 py34_0|2015.2 py26_0|2015.2 py27_0|2015.2 py33_0|2015.2 py34_0|2015.4 py26_0|2015.4 py27_0|2015.4 py33_0|2015.4 py34_0|2015.6 py27_0|2015.6 py34_0|2015.6 py35_0|2015.7 py27_0|2015.7 py34_0|2015.7 py35_0|2016.2 py27_0|2016.2 py34_0|2016.2 py35_0|2016.4 py27_0|2016.4 py34_0|2016.4 py35_0\n",
      "  - anaconda (target=anaconda-4.0.0-np110py35_0.tar.bz2) -> pyyaml 3.10 py26_0|3.10 py27_0|3.10 py33_0|3.11 py26_0|3.11 py26_1|3.11 py27_0|3.11 py27_1|3.11 py27_4|3.11 py33_0|3.11 py33_1|3.11 py35_1|3.11 py35_4\n",
      "  - anaconda (target=anaconda-4.0.0-np110py35_0.tar.bz2) -> pyzmq 14.3.0 py26_0|14.3.0 py33_0|14.3.1 py26_0|14.3.1 py33_0|14.5.0 py26_0|14.5.0 py33_0|14.7.0 py26_0|14.7.0 py33_0|2.2.0.1 py26_1|2.2.0.1 py33_1\n",
      "  - anaconda (target=anaconda-4.0.0-np110py35_0.tar.bz2) -> qtconsole 4.1.0 py27_0|4.1.0 py34_0|4.1.0 py35_0|4.1.1 py27_0|4.1.1 py34_0|4.1.1 py35_0|4.2.0 py27_0|4.2.0 py34_0|4.2.0 py35_0|4.2.1 py27_0|4.2.1 py34_0|4.2.1 py35_0\n",
      "  - anaconda (target=anaconda-4.0.0-np110py35_0.tar.bz2) -> setuptools 14.3 py26_0|14.3 py27_0|14.3 py33_0|17.1.1 py26_0|17.1.1 py27_0|17.1.1 py33_0|18.4 py27_0|18.4 py35_0|18.5 py27_0|18.5 py35_0|19.6.2 py27_0|19.6.2 py35_0|2.1 py26_0|2.1 py27_0|2.1 py33_0|2.2 py26_0|2.2 py27_0|2.2 py33_0|20.3 py27_0|20.3 py35_0|23.0.0 py27_0|23.0.0 py35_0|3.6 py26_0|3.6 py27_0|3.6 py33_0|5.8 py26_0|5.8 py27_0|5.8 py33_0\n",
      "  - anaconda (target=anaconda-4.0.0-np110py35_0.tar.bz2) -> sphinx_rtd_theme 0.1.7 py26_0|0.1.7 py27_0|0.1.7 py33_0|0.1.7 py34_0|0.1.7 py35_0|0.1.9 py27_0|0.1.9 py34_0|0.1.9 py35_0\n",
      "  - anaconda (target=anaconda-4.0.0-np110py35_0.tar.bz2) -> spyder 2.2.0 py27_1|2.2.4 py27_0|2.2.5 py27_0|2.3.0rc1 py27_0|2.3.0rc1 py34_0|2.3.1 py27_1|2.3.1 py34_1|2.3.4 py27_1|2.3.4 py34_1|2.3.5.2 py27_0|2.3.5.2 py34_0|2.3.7 py27_1|2.3.7 py34_1|2.3.7 py35_1|2.3.8 py27_0|2.3.8 py27_1|2.3.8 py34_0|2.3.8 py34_1|2.3.8 py35_0|2.3.8 py35_1|2.3.9 py27_0|2.3.9 py34_0|2.3.9 py35_0\n",
      "  - anaconda (target=anaconda-4.0.0-np110py35_0.tar.bz2) -> terminado 0.5 py27_0|0.5 py27_1|0.5 py33_0|0.5 py34_0|0.5 py34_1|0.5 py35_1|0.6 py27_0|0.6 py34_0|0.6 py35_0\n",
      "  - anaconda (target=anaconda-4.0.0-np110py35_0.tar.bz2) -> tornado 3.1 py26_0|3.1 py33_0|3.1.1 py26_0|3.1.1 py33_0|3.2.0 py26_0|3.2.0 py33_0|3.2.1 py26_0|3.2.1 py33_0|4.0.2 py26_0|4.0.2 py33_0|4.1 py26_0|4.1 py33_0|4.2 py26_0|4.2 py33_0\n",
      "  - anaconda (target=anaconda-4.0.0-np110py35_0.tar.bz2) -> werkzeug 0.10.1 py26_0|0.10.1 py27_0|0.10.1 py33_0|0.10.1 py34_0|0.10.4 py26_0|0.10.4 py27_0|0.10.4 py33_0|0.10.4 py34_0|0.10.4 py35_0|0.11.10 py27_0|0.11.10 py34_0|0.11.10 py35_0|0.11.2 py27_0|0.11.2 py34_0|0.11.2 py35_0|0.11.3 py27_0|0.11.3 py34_0|0.11.3 py35_0|0.11.4 py27_0|0.11.4 py34_0|0.11.4 py35_0|0.9.1 py26_0|0.9.1 py27_0|0.9.4 py26_0|0.9.4 py27_0|0.9.4 py33_0|0.9.4 py34_0|0.9.6 py26_0|0.9.6 py26_1|0.9.6 py27_0|0.9.6 py27_1|0.9.6 py33_0|0.9.6 py33_1|0.9.6 py34_0|0.9.6 py34_1\n",
      "  - anaconda (target=anaconda-4.0.0-np110py35_0.tar.bz2) -> wheel 0.26.0 py27_1|0.26.0 py34_1|0.26.0 py35_1|0.29.0 py27_0|0.29.0 py34_0|0.29.0 py35_0\n",
      "  - anaconda (target=anaconda-4.0.0-np110py35_0.tar.bz2) -> xlsxwriter 0.5.2 py26_0|0.5.2 py27_0|0.5.2 py33_0|0.5.5 py26_0|0.5.5 py27_0|0.5.5 py33_0|0.5.5 py34_0|0.5.7 py26_0|0.5.7 py27_0|0.5.7 py33_0|0.5.7 py34_0|0.6.7 py26_0|0.6.7 py27_0|0.6.7 py33_0|0.6.7 py34_0|0.7.3 py26_0|0.7.3 py27_0|0.7.3 py33_0|0.7.3 py34_0|0.7.7 py27_0|0.7.7 py34_0|0.7.7 py35_0|0.8.4 py27_0|0.8.4 py34_0|0.8.4 py35_0|0.9.2 py27_0|0.9.2 py34_0|0.9.2 py35_0\n",
      "  - anaconda-client (target=anaconda-client-1.4.0-py35_0.tar.bz2) -> clyent\n",
      "  - anaconda-client (target=anaconda-client-1.4.0-py35_0.tar.bz2) -> python 2.7*|3.3*|3.4*|3.5*\n",
      "  - anaconda-client (target=anaconda-client-1.4.0-py35_0.tar.bz2) -> python-dateutil\n",
      "  - anaconda-client (target=anaconda-client-1.4.0-py35_0.tar.bz2) -> pytz\n",
      "  - anaconda-client (target=anaconda-client-1.4.0-py35_0.tar.bz2) -> setuptools\n",
      "  - anaconda-navigator (target=anaconda-navigator-1.1.0-py35_0.tar.bz2) -> anaconda-client >=1.4.0\n",
      "  - anaconda-navigator (target=anaconda-navigator-1.1.0-py35_0.tar.bz2) -> conda-manager >=0.3.1|>=0.4.0\n",
      "  - anaconda-navigator (target=anaconda-navigator-1.1.0-py35_0.tar.bz2) -> jinja2\n",
      "  - anaconda-navigator (target=anaconda-navigator-1.1.0-py35_0.tar.bz2) -> python 2.7*|3.4*|3.5*\n",
      "  - anaconda-navigator (target=anaconda-navigator-1.1.0-py35_0.tar.bz2) -> pyyaml\n",
      "  - anaconda-navigator (target=anaconda-navigator-1.1.0-py35_0.tar.bz2) -> qtawesome >=0.3.2\n",
      "  - anaconda-navigator (target=anaconda-navigator-1.1.0-py35_0.tar.bz2) -> qtpy >=1.0\n",
      "  - appnope (target=appnope-0.1.0-py35_0.tar.bz2) -> python 2.7*|3.4*|3.5*\n",
      "  - appscript (target=appscript-1.0.1-py35_0.tar.bz2) -> python 2.6*|2.7*|3.3*|3.4*|3.5*\n",
      "  - argcomplete (target=argcomplete-1.0.0-py35_1.tar.bz2) -> python 2.6*|2.7*|3.3*|3.4*|3.5*\n",
      "  - argcomplete (target=argcomplete-1.0.0-py35_1.tar.bz2) -> setuptools\n",
      "  - astropy (target=astropy-1.1.2-np110py35_0.tar.bz2) -> python 2.6*|2.7*|3.3*|3.4*|3.5*\n",
      "  - babel (target=babel-2.2.0-py35_0.tar.bz2) -> python 2.6*|2.7*|3.3*|3.4*|3.5*\n",
      "  - babel (target=babel-2.2.0-py35_0.tar.bz2) -> pytz\n",
      "  - beautifulsoup4 (target=beautifulsoup4-4.4.1-py35_0.tar.bz2) -> python 2.7*|3.4*|3.5*\n",
      "  - bitarray (target=bitarray-0.8.1-py35_0.tar.bz2) -> python 2.6*|2.7*|3.3*|3.4*|3.5*\n",
      "  - blaze (target=blaze-0.9.1-py35_0.tar.bz2) -> datashape\n",
      "  - blaze (target=blaze-0.9.1-py35_0.tar.bz2) -> flask *|0.10.1\n",
      "  - blaze (target=blaze-0.9.1-py35_0.tar.bz2) -> numba *|0.11.0|0.11.1|0.12.0|0.12.1|0.13.1|0.17.0|0.18.2|0.20.0\n",
      "  - blaze (target=blaze-0.9.1-py35_0.tar.bz2) -> ply 3.4\n",
      "  - blaze (target=blaze-0.9.1-py35_0.tar.bz2) -> psutil\n",
      "  - blaze (target=blaze-0.9.1-py35_0.tar.bz2) -> pytables *|3.1.0|3.1.1|3.2.0|>=3.0.0\n",
      "  - blaze (target=blaze-0.9.1-py35_0.tar.bz2) -> python 2.6*|2.7*|3.3*|3.4*|3.5*\n",
      "  - bokeh (target=bokeh-0.11.1-py35_0.tar.bz2) -> colorama\n",
      "  - bokeh (target=bokeh-0.11.1-py35_0.tar.bz2) -> flask 0.10.1|>=0.10.1\n",
      "  - bokeh (target=bokeh-0.11.1-py35_0.tar.bz2) -> gevent 1.0.1\n",
      "  - bokeh (target=bokeh-0.11.1-py35_0.tar.bz2) -> greenlet 0.4*\n",
      "  - bokeh (target=bokeh-0.11.1-py35_0.tar.bz2) -> jinja2 *|>=2.7\n",
      "  - bokeh (target=bokeh-0.11.1-py35_0.tar.bz2) -> pandas *|>=0.11.0\n",
      "  - bokeh (target=bokeh-0.11.1-py35_0.tar.bz2) -> pygments\n",
      "  - bokeh (target=bokeh-0.11.1-py35_0.tar.bz2) -> python 2.7*|3.3*|3.4*|3.5*\n",
      "  - bokeh (target=bokeh-0.11.1-py35_0.tar.bz2) -> python-dateutil *|>=2.1\n",
      "  - bokeh (target=bokeh-0.11.1-py35_0.tar.bz2) -> pytz\n",
      "  - bokeh (target=bokeh-0.11.1-py35_0.tar.bz2) -> pyyaml *|>=3.10\n",
      "  - bokeh (target=bokeh-0.11.1-py35_0.tar.bz2) -> pyzmq 14.*|>=14.3.1\n",
      "  - bokeh (target=bokeh-0.11.1-py35_0.tar.bz2) -> redis-py 2.7.2|2.9.1\n",
      "  - bokeh (target=bokeh-0.11.1-py35_0.tar.bz2) -> requests *|>=1.2.3\n",
      "  - bokeh (target=bokeh-0.11.1-py35_0.tar.bz2) -> six *|>=1.5.2\n",
      "  - bokeh (target=bokeh-0.11.1-py35_0.tar.bz2) -> tornado *|>=4.0.1|>=4.3\n",
      "  - bokeh (target=bokeh-0.11.1-py35_0.tar.bz2) -> werkzeug\n",
      "  - boto (target=boto-2.39.0-py35_0.tar.bz2) -> python 2.6*|2.7*|3.3*|3.4*|3.5*\n",
      "  - bottleneck (target=bottleneck-1.0.0-np110py35_0.tar.bz2) -> python 2.7*|3.4*|3.5*\n",
      "  - cffi (target=cffi-1.5.2-py35_0.tar.bz2) -> python 2.6*|2.7*|3.3*|3.4*|3.5*\n",
      "  - chest (target=chest-0.2.3-py35_0.tar.bz2) -> python 2.6*|2.7*|3.3*|3.4*|3.5*\n",
      "  - cloudpickle (target=cloudpickle-0.1.1-py35_0.tar.bz2) -> python 2.6*|2.7*|3.3*|3.4*|3.5*\n",
      "  - clyent (target=clyent-1.2.1-py35_0.tar.bz2) -> python 2.7*|3.3*|3.4*|3.5*\n",
      "  - colorama (target=colorama-0.3.7-py35_0.tar.bz2) -> python 2.6*|2.7*|3.3*|3.4*|3.5*\n",
      "  - conda -> conda-env *|<2.5|>=2.5.0\n",
      "  - conda -> pycosat\n",
      "  - conda -> python 3.4*\n",
      "  - conda -> pyyaml\n",
      "  - conda -> requests\n",
      "  - conda-build (target=conda-build-1.20.0-py35_0.tar.bz2) -> python 2.7*|3.3*|3.4*|3.5*\n",
      "  - conda-env (target=conda-env-2.4.5-py35_0.tar.bz2) -> python 2.7*|3.3*|3.4*|3.5*\n",
      "  - conda-manager (target=conda-manager-0.3.1-py35_0.tar.bz2) -> anaconda-client\n",
      "  - conda-manager (target=conda-manager-0.3.1-py35_0.tar.bz2) -> pip\n",
      "  - conda-manager (target=conda-manager-0.3.1-py35_0.tar.bz2) -> python 2.7*|3.4*|3.5*\n",
      "  - conda-manager (target=conda-manager-0.3.1-py35_0.tar.bz2) -> pyyaml\n",
      "  - conda-manager (target=conda-manager-0.3.1-py35_0.tar.bz2) -> qtawesome\n",
      "  - conda-manager (target=conda-manager-0.3.1-py35_0.tar.bz2) -> requests\n",
      "  - configobj (target=configobj-5.0.6-py35_0.tar.bz2) -> python 2.6*|2.7*|3.3*|3.4*|3.5*\n",
      "  - cryptography (target=cryptography-1.3-py35_0.tar.bz2) -> cffi *|>=1.4.1\n",
      "  - cryptography (target=cryptography-1.3-py35_0.tar.bz2) -> idna 2.0|2.1|>=2.0\n",
      "  - cryptography (target=cryptography-1.3-py35_0.tar.bz2) -> python 2.6*|2.7*|3.3*|3.4*|3.5*\n",
      "  - cryptography (target=cryptography-1.3-py35_0.tar.bz2) -> setuptools\n",
      "  - cryptography (target=cryptography-1.3-py35_0.tar.bz2) -> six *|>=1.4.1\n",
      "  - cycler (target=cycler-0.10.0-py35_0.tar.bz2) -> python 2.7*|3.4*|3.5*\n",
      "  - cython (target=cython-0.23.4-py35_1.tar.bz2) -> python 2.6*|2.7*|3.3*|3.4*|3.5*\n",
      "  - cytoolz (target=cytoolz-0.7.5-py35_0.tar.bz2) -> python 2.6*|2.7*|3.3*|3.4*|3.5*\n",
      "  - cytoolz (target=cytoolz-0.7.5-py35_0.tar.bz2) -> toolz >=0.8.0\n",
      "  - dask (target=dask-0.8.1-py35_0.tar.bz2) -> chest *|0.2.2|0.2.3\n",
      "  - dask (target=dask-0.8.1-py35_0.tar.bz2) -> psutil\n",
      "  - dask (target=dask-0.8.1-py35_0.tar.bz2) -> python 2.6*|2.7*|3.3*|3.4*|3.5*\n",
      "  - datashape (target=datashape-0.5.1-py35_0.tar.bz2) -> python 2.6*|2.7*|3.3*|3.4*|3.5*\n",
      "  - decorator (target=decorator-4.0.9-py35_0.tar.bz2) -> python 2.7*|3.4*|3.5*\n",
      "  - dill (target=dill-0.2.4-py35_0.tar.bz2) -> python 2.6*|2.7*|3.3*|3.4*|3.5*\n",
      "  - docutils (target=docutils-0.12-py35_0.tar.bz2) -> python 2.6*|2.7*|3.3*|3.4*|3.5*\n",
      "  - et_xmlfile (target=et_xmlfile-1.0.1-py35_0.tar.bz2) -> python 2.7*|3.4*|3.5*\n",
      "  - fastcache (target=fastcache-1.0.2-py35_0.tar.bz2) -> python 2.6*|2.7*|3.3*|3.4*|3.5*\n",
      "  - flask (target=flask-0.10.1-py35_1.tar.bz2) -> python 2.6*|2.7*|3.3*|3.4*|3.5*\n",
      "  - flask-cors (target=flask-cors-2.1.2-py35_0.tar.bz2) -> flask >=0.9\n",
      "  - flask-cors (target=flask-cors-2.1.2-py35_0.tar.bz2) -> python 2.7*|3.4*|3.5*\n",
      "  - flask-cors (target=flask-cors-2.1.2-py35_0.tar.bz2) -> six\n",
      "  - gevent (target=gevent-1.1.0-py35_0.tar.bz2) -> python 2.6*|2.7*|3.4*|3.5*\n",
      "  - greenlet (target=greenlet-0.4.9-py35_0.tar.bz2) -> python 2.6*|2.7*|3.3*|3.4*|3.5*\n",
      "  - h5py (target=h5py-2.5.0-np110py35_4.tar.bz2) -> cython 0.22\n",
      "  - h5py (target=h5py-2.5.0-np110py35_4.tar.bz2) -> python 2.6*|2.7*|3.3*|3.4*|3.5*\n",
      "  - heapdict (target=heapdict-1.0.0-py35_0.tar.bz2) -> python 2.6*|2.7*|3.3*|3.4*|3.5*\n",
      "  - idna (target=idna-2.0-py35_0.tar.bz2) -> python 2.6*|2.7*|3.3*|3.4*|3.5*\n",
      "  - ipykernel (target=ipykernel-4.3.1-py35_0.tar.bz2) -> jupyter_client\n",
      "  - ipykernel (target=ipykernel-4.3.1-py35_0.tar.bz2) -> python 2.7*|3.4*|3.5*\n",
      "  - ipython (target=ipython-4.1.2-py35_1.tar.bz2) -> appnope *|0.1.0\n",
      "  - ipython (target=ipython-4.1.2-py35_1.tar.bz2) -> decorator\n",
      "  - ipython (target=ipython-4.1.2-py35_1.tar.bz2) -> pexpect *|3.3\n",
      "  - ipython (target=ipython-4.1.2-py35_1.tar.bz2) -> pickleshare\n",
      "  - ipython (target=ipython-4.1.2-py35_1.tar.bz2) -> pygments\n",
      "  - ipython (target=ipython-4.1.2-py35_1.tar.bz2) -> python 2.7*|3.4*|3.5*\n",
      "  - ipython (target=ipython-4.1.2-py35_1.tar.bz2) -> traitlets *|>=4.2\n",
      "  - ipython_genutils (target=ipython_genutils-0.1.0-py35_0.tar.bz2) -> python 2.7*|3.4*|3.5*\n",
      "  - ipywidgets (target=ipywidgets-4.1.1-py35_0.tar.bz2) -> ipykernel\n",
      "  - ipywidgets (target=ipywidgets-4.1.1-py35_0.tar.bz2) -> notebook\n",
      "  - ipywidgets (target=ipywidgets-4.1.1-py35_0.tar.bz2) -> python 2.7*|3.4*|3.5*\n",
      "  - itsdangerous (target=itsdangerous-0.24-py35_0.tar.bz2) -> python 2.6*|2.7*|3.3*|3.4*|3.5*\n",
      "  - jdcal (target=jdcal-1.2-py35_0.tar.bz2) -> python 2.6*|2.7*|3.3*|3.4*|3.5*\n",
      "  - jedi (target=jedi-0.9.0-py35_0.tar.bz2) -> python 2.6*|2.7*|3.3*|3.4*|3.5*\n",
      "  - jinja2 (target=jinja2-2.8-py35_0.tar.bz2) -> python 2.7*|3.4*|3.5*\n",
      "  - jinja2 (target=jinja2-2.8-py35_0.tar.bz2) -> setuptools\n",
      "  - jsonschema (target=jsonschema-2.4.0-py35_0.tar.bz2) -> python 2.7*|3.4*|3.5*\n",
      "  - jupyter (target=jupyter-1.0.0-py35_2.tar.bz2) -> ipykernel\n",
      "  - jupyter (target=jupyter-1.0.0-py35_2.tar.bz2) -> ipywidgets\n",
      "  - jupyter (target=jupyter-1.0.0-py35_2.tar.bz2) -> nbconvert\n",
      "  - jupyter (target=jupyter-1.0.0-py35_2.tar.bz2) -> notebook\n",
      "  - jupyter (target=jupyter-1.0.0-py35_2.tar.bz2) -> python 2.7*|3.4*|3.5*\n",
      "  - jupyter (target=jupyter-1.0.0-py35_2.tar.bz2) -> qtconsole\n",
      "  - jupyter_client (target=jupyter_client-4.2.2-py35_0.tar.bz2) -> python 2.7*|3.4*|3.5*\n",
      "  - jupyter_console (target=jupyter_console-4.1.1-py35_0.tar.bz2) -> ipykernel\n",
      "  - jupyter_console (target=jupyter_console-4.1.1-py35_0.tar.bz2) -> ipython\n",
      "  - jupyter_console (target=jupyter_console-4.1.1-py35_0.tar.bz2) -> jupyter_client\n",
      "  - jupyter_console (target=jupyter_console-4.1.1-py35_0.tar.bz2) -> pygments\n",
      "  - jupyter_console (target=jupyter_console-4.1.1-py35_0.tar.bz2) -> python 2.7*|3.4*|3.5*\n",
      "  - jupyter_core (target=jupyter_core-4.1.0-py35_0.tar.bz2) -> python 2.7*|3.4*|3.5*\n",
      "  - llvmlite (target=llvmlite-0.9.0-py35_0.tar.bz2) -> python 2.6*|2.7*|3.3*|3.4*|3.5*\n",
      "  - locket (target=locket-0.2.0-py35_0.tar.bz2) -> python 2.6*|2.7*|3.3*|3.4*|3.5*\n",
      "  - lxml (target=lxml-3.6.0-py35_0.tar.bz2) -> python 2.6*|2.7*|3.3*|3.4*|3.5*\n",
      "  - markupsafe (target=markupsafe-0.23-py35_0.tar.bz2) -> python 2.6*|2.7*|3.3*|3.4*|3.5*\n",
      "  - matplotlib (target=matplotlib-1.5.1-np110py35_0.tar.bz2) -> cycler\n",
      "  - matplotlib (target=matplotlib-1.5.1-np110py35_0.tar.bz2) -> numpy 1.10*|1.11*|1.5*|1.6*|1.7*|1.8*|1.9*\n",
      "  - matplotlib (target=matplotlib-1.5.1-np110py35_0.tar.bz2) -> pyparsing *|1.5.6|2.0.1|2.0.3\n",
      "  - matplotlib (target=matplotlib-1.5.1-np110py35_0.tar.bz2) -> pyqt\n",
      "  - matplotlib (target=matplotlib-1.5.1-np110py35_0.tar.bz2) -> python 2.6*|2.7*|3.3*|3.4*|3.5*\n",
      "  - matplotlib (target=matplotlib-1.5.1-np110py35_0.tar.bz2) -> python-dateutil\n",
      "  - matplotlib (target=matplotlib-1.5.1-np110py35_0.tar.bz2) -> pytz\n",
      "  - mistune (target=mistune-0.7.2-py35_1.tar.bz2) -> python 2.7*|3.4*|3.5*\n",
      "  - mkl-service (target=mkl-service-1.1.2-py35_0.tar.bz2) -> python 2.6*|2.7*|3.3*|3.4*|3.5*\n",
      "  - mpmath (target=mpmath-0.19-py35_0.tar.bz2) -> python 2.6*|2.7*|3.3*|3.4*|3.5*\n",
      "  - multipledispatch (target=multipledispatch-0.4.8-py35_0.tar.bz2) -> python 2.6*|2.7*|3.3*|3.4*|3.5*\n",
      "  - nbconvert (target=nbconvert-4.1.0-py35_0.tar.bz2) -> jupyter_core\n",
      "  - nbconvert (target=nbconvert-4.1.0-py35_0.tar.bz2) -> nbformat\n",
      "  - nbconvert (target=nbconvert-4.1.0-py35_0.tar.bz2) -> pygments\n",
      "  - nbconvert (target=nbconvert-4.1.0-py35_0.tar.bz2) -> python 2.7*|3.4*|3.5*\n",
      "  - nbconvert (target=nbconvert-4.1.0-py35_0.tar.bz2) -> traitlets\n",
      "  - nbextensions -> ipython >=4\n",
      "  - nbextensions -> jupyter_client\n",
      "  - nbextensions -> jupyter_core\n",
      "  - nbextensions -> nbconvert\n",
      "  - nbextensions -> nbformat\n",
      "  - nbextensions -> notebook\n",
      "  - nbextensions -> python 3.4*\n",
      "  - nbextensions -> traitlets\n",
      "  - nbformat (target=nbformat-4.0.1-py35_0.tar.bz2) -> python 2.7*|3.4*|3.5*\n",
      "  - networkx (target=networkx-1.11-py35_0.tar.bz2) -> decorator *|>=3.4\n",
      "  - networkx (target=networkx-1.11-py35_0.tar.bz2) -> python 2.6*|2.7*|3.3*|3.4*|3.5*\n",
      "  - nltk (target=nltk-3.2-py35_0.tar.bz2) -> python 2.6*|2.7*|3.3*|3.4*|3.5*\n",
      "  - nltk (target=nltk-3.2-py35_0.tar.bz2) -> pyyaml\n",
      "  - nose (target=nose-1.3.7-py35_0.tar.bz2) -> python 2.6*|2.7*|3.3*|3.4*|3.5*\n",
      "  - notebook (target=notebook-4.1.0-py35_2.tar.bz2) -> ipykernel\n",
      "  - notebook (target=notebook-4.1.0-py35_2.tar.bz2) -> jupyter_client\n",
      "  - notebook (target=notebook-4.1.0-py35_2.tar.bz2) -> jupyter_core\n",
      "  - notebook (target=notebook-4.1.0-py35_2.tar.bz2) -> nbformat\n",
      "  - notebook (target=notebook-4.1.0-py35_2.tar.bz2) -> python 2.7*|3.4*|3.5*\n",
      "  - notebook (target=notebook-4.1.0-py35_2.tar.bz2) -> terminado *|0.5\n",
      "  - numba (target=numba-0.24.0-np110py35_0.tar.bz2) -> python 2.6*|2.7*|3.3*|3.4*|3.5*\n",
      "  - numexpr (target=numexpr-2.5-np110py35_0.tar.bz2) -> python 2.6*|2.7*|3.3*|3.4*|3.5*\n",
      "  - numpy (target=numpy-1.10.4-py35_0.tar.bz2) -> nose\n",
      "  - numpy (target=numpy-1.10.4-py35_0.tar.bz2) -> python 2.6*|2.7*|3.3*|3.4*|3.5*\n",
      "  - odo (target=odo-0.4.2-py35_0.tar.bz2) -> datashape *|>=0.5\n",
      "  - odo (target=odo-0.4.2-py35_0.tar.bz2) -> networkx\n",
      "  - odo (target=odo-0.4.2-py35_0.tar.bz2) -> numpy *|1.9*|>=1.7\n",
      "  - odo (target=odo-0.4.2-py35_0.tar.bz2) -> pandas *|>=0.15\n",
      "  - odo (target=odo-0.4.2-py35_0.tar.bz2) -> python 2.6*|2.7*|3.3*|3.4*|3.5*\n",
      "  - odo (target=odo-0.4.2-py35_0.tar.bz2) -> toolz *|>=0.7.3\n",
      "  - openpyxl (target=openpyxl-2.3.2-py35_0.tar.bz2) -> lxml\n",
      "  - openpyxl (target=openpyxl-2.3.2-py35_0.tar.bz2) -> python 2.7*|3.3*|3.4*|3.5*\n",
      "  - pandas (target=pandas-0.18.0-np110py35_0.tar.bz2) -> python 2.6*|2.7*|3.3*|3.4*|3.5*\n",
      "  - pandas (target=pandas-0.18.0-np110py35_0.tar.bz2) -> python-dateutil\n",
      "  - pandas (target=pandas-0.18.0-np110py35_0.tar.bz2) -> pytz\n",
      "  - pandas (target=pandas-0.18.0-np110py35_0.tar.bz2) -> scipy\n",
      "  - pandas (target=pandas-0.18.0-np110py35_0.tar.bz2) -> setuptools\n",
      "  - partd (target=partd-0.3.2-py35_1.tar.bz2) -> locket *|0.2.0\n",
      "  - partd (target=partd-0.3.2-py35_1.tar.bz2) -> python 2.6*|2.7*|3.3*|3.4*|3.5*\n",
      "  - path.py (target=path.py-8.1.2-py35_1.tar.bz2) -> python 2.7*|3.4*|3.5*\n",
      "  - patsy (target=patsy-0.4.0-np110py35_0.tar.bz2) -> python 2.6*|2.7*|3.3*|3.4*|3.5*\n",
      "  - pep8 (target=pep8-1.7.0-py35_0.tar.bz2) -> python 2.6*|2.7*|3.3*|3.4*|3.5*\n",
      "  - pexpect (target=pexpect-4.0.1-py35_0.tar.bz2) -> python 2.7*|3.4*|3.5*\n",
      "  - pickleshare (target=pickleshare-0.5-py35_0.tar.bz2) -> python 2.7*|3.4*|3.5*\n",
      "  - pillow (target=pillow-3.1.1-py35_0.tar.bz2) -> python 2.6*|2.7*|3.3*|3.4*|3.5*\n",
      "  - pip (target=pip-8.1.1-py35_1.tar.bz2) -> python 3.4*\n",
      "  - pip (target=pip-8.1.1-py35_1.tar.bz2) -> wheel\n",
      "  - ply (target=ply-3.8-py35_0.tar.bz2) -> python 2.6*|2.7*|3.3*|3.4*|3.5*\n",
      "  - psutil (target=psutil-4.1.0-py35_1.tar.bz2) -> python 2.6*|2.7*|3.3*|3.4*|3.5*\n",
      "  - ptyprocess (target=ptyprocess-0.5-py35_0.tar.bz2) -> python 2.7*|3.4*|3.5*\n",
      "  - py (target=py-1.4.31-py35_0.tar.bz2) -> python 2.6*|2.7*|3.3*|3.4*|3.5*\n",
      "  - pyasn1 (target=pyasn1-0.1.9-py35_0.tar.bz2) -> python 2.6*|2.7*|3.3*|3.4*|3.5*\n",
      "  - pycosat (target=pycosat-0.6.1-py35_0.tar.bz2) -> python 3.4*\n",
      "  - pycparser (target=pycparser-2.14-py35_0.tar.bz2) -> python 2.6*|2.7*|3.3*|3.4*|3.5*\n",
      "  - pycrypto (target=pycrypto-2.6.1-py35_0.tar.bz2) -> python 2.6*|2.7*|3.3*|3.4*|3.5*\n",
      "  - pycurl (target=pycurl-7.19.5.3-py35_0.tar.bz2) -> python 2.6*|2.7*|3.3*|3.4*|3.5*\n",
      "  - pyflakes (target=pyflakes-1.1.0-py35_0.tar.bz2) -> python 2.6*|2.7*|3.3*|3.4*|3.5*\n",
      "  - pygments (target=pygments-2.1.1-py35_0.tar.bz2) -> python 2.6*|2.7*|3.3*|3.4*|3.5*\n",
      "  - pyopenssl (target=pyopenssl-0.15.1-py35_2.tar.bz2) -> python 2.6*|2.7*|3.3*|3.4*|3.5*\n",
      "  - pyopenssl (target=pyopenssl-0.15.1-py35_2.tar.bz2) -> six *|>=1.5.2\n",
      "  - pyparsing (target=pyparsing-2.0.3-py35_0.tar.bz2) -> python 2.6*|2.7*|3.3*|3.4*|3.5*\n",
      "  - pyqt (target=pyqt-4.11.4-py35_1.tar.bz2) -> python 2.6*|2.7*|3.3*|3.4*|3.5*\n",
      "  - pyqt (target=pyqt-4.11.4-py35_1.tar.bz2) -> sip *|4.16.5|4.18|>=4.16.4\n",
      "  - pytables (target=pytables-3.2.2-np110py35_1.tar.bz2) -> python 2.6*|2.7*|3.3*|3.4*|3.5*\n",
      "  - pytest (target=pytest-2.8.5-py35_0.tar.bz2) -> py *|>=1.4.29\n",
      "  - pytest (target=pytest-2.8.5-py35_0.tar.bz2) -> python 2.6*|2.7*|3.3*|3.4*|3.5*\n",
      "  - python 3.5*\n",
      "  - python-dateutil (target=python-dateutil-2.5.1-py35_0.tar.bz2) -> python 2.6*|2.7*|3.3*|3.4*|3.5*\n",
      "  - python.app (target=python.app-1.2-py35_4.tar.bz2) -> python 2.6*|2.7*|3.3*|3.4*|3.5*\n",
      "  - pytz (target=pytz-2016.2-py35_0.tar.bz2) -> python 2.6*|2.7*|3.3*|3.4*|3.5*\n",
      "  - pyyaml (target=pyyaml-3.11-py35_1.tar.bz2) -> python 3.4*\n",
      "  - pyzmq (target=pyzmq-15.2.0-py35_0.tar.bz2) -> python 2.7*|3.4*|3.5*\n",
      "  - qtawesome (target=qtawesome-0.3.2-py35_0.tar.bz2) -> python 2.7*|3.4*|3.5*\n",
      "  - qtconsole (target=qtconsole-4.2.0-py35_0.tar.bz2) -> jupyter_client *|>=4.1\n",
      "  - qtconsole (target=qtconsole-4.2.0-py35_0.tar.bz2) -> python 2.7*|3.4*|3.5*\n",
      "  - qtpy (target=qtpy-1.0-py35_0.tar.bz2) -> python 2.7*|3.4*|3.5*\n",
      "  - redis-py (target=redis-py-2.10.3-py35_0.tar.bz2) -> python 2.6*|2.7*|3.3*|3.4*|3.5*\n",
      "  - requests (target=requests-2.9.1-py35_0.tar.bz2) -> python 2.6*|2.7*|3.3*|3.4*|3.5*\n",
      "  - rope (target=rope-0.9.4-py35_1.tar.bz2) -> python 2.6*|2.7*|3.3*|3.4*|3.5*\n",
      "  - scikit-image (target=scikit-image-0.12.3-np110py35_0.tar.bz2) -> networkx *|>=1.8\n",
      "  - scikit-image (target=scikit-image-0.12.3-np110py35_0.tar.bz2) -> python 2.6*|2.7*|3.3*|3.4*|3.5*\n",
      "  - scikit-image (target=scikit-image-0.12.3-np110py35_0.tar.bz2) -> six *|>=1.7.3\n",
      "  - scikit-learn (target=scikit-learn-0.17.1-np110py35_0.tar.bz2) -> nose\n",
      "  - scikit-learn (target=scikit-learn-0.17.1-np110py35_0.tar.bz2) -> python 2.6*|2.7*|3.3*|3.4*|3.5*\n",
      "  - scipy (target=scipy-0.17.0-np110py35_0.tar.bz2) -> python 2.6*|2.7*|3.3*|3.4*|3.5*\n",
      "  - seaborn (target=seaborn-0.7.0-py35_0.tar.bz2) -> numpy *|1.10*|1.9*\n",
      "  - seaborn (target=seaborn-0.7.0-py35_0.tar.bz2) -> pandas\n",
      "  - seaborn (target=seaborn-0.7.0-py35_0.tar.bz2) -> python 2.7*|3.3*|3.4*|3.5*\n",
      "  - seaborn (target=seaborn-0.7.0-py35_0.tar.bz2) -> scipy\n",
      "  - setuptools (target=setuptools-20.3-py35_0.tar.bz2) -> python 3.4*\n",
      "  - simplegeneric (target=simplegeneric-0.8.1-py35_0.tar.bz2) -> python 2.7*|3.4*|3.5*\n",
      "  - singledispatch (target=singledispatch-3.4.0.3-py35_0.tar.bz2) -> python 2.7*|3.4*|3.5*\n",
      "  - singledispatch (target=singledispatch-3.4.0.3-py35_0.tar.bz2) -> six\n",
      "  - sip (target=sip-4.16.9-py35_0.tar.bz2) -> python 2.6*|2.7*|3.3*|3.4*|3.5*\n",
      "  - six (target=six-1.10.0-py35_0.tar.bz2) -> python 2.6*|2.7*|3.3*|3.4*|3.5*\n",
      "  - snowballstemmer (target=snowballstemmer-1.2.1-py35_0.tar.bz2) -> python 2.6*|2.7*|3.3*|3.4*|3.5*\n",
      "  - sockjs-tornado (target=sockjs-tornado-1.0.1-py35_0.tar.bz2) -> python 2.6*|2.7*|3.3*|3.4*|3.5*\n",
      "  - sockjs-tornado (target=sockjs-tornado-1.0.1-py35_0.tar.bz2) -> tornado *|>=2.1.1\n",
      "  - sphinx (target=sphinx-1.3.5-py35_0.tar.bz2) -> alabaster *|>=0.7,<0.8\n",
      "  - sphinx (target=sphinx-1.3.5-py35_0.tar.bz2) -> babel *|>=1.3,!=2.0\n",
      "  - sphinx (target=sphinx-1.3.5-py35_0.tar.bz2) -> docutils *|>=0.11\n",
      "  - sphinx (target=sphinx-1.3.5-py35_0.tar.bz2) -> jinja2\n",
      "  - sphinx (target=sphinx-1.3.5-py35_0.tar.bz2) -> pip\n",
      "  - sphinx (target=sphinx-1.3.5-py35_0.tar.bz2) -> pygments *|>=2.0\n",
      "  - sphinx (target=sphinx-1.3.5-py35_0.tar.bz2) -> python 2.6*|2.7*|3.3*|3.4*|3.5*\n",
      "  - sphinx (target=sphinx-1.3.5-py35_0.tar.bz2) -> six\n",
      "  - sphinx (target=sphinx-1.3.5-py35_0.tar.bz2) -> snowballstemmer 1.2.0|>=1.1\n",
      "  - sphinx (target=sphinx-1.3.5-py35_0.tar.bz2) -> sphinx_rtd_theme *|>=0.1,<2.0\n",
      "  - sphinx_rtd_theme (target=sphinx_rtd_theme-0.1.9-py35_0.tar.bz2) -> python 2.6*|2.7*|3.3*|3.4*|3.5*\n",
      "  - spyder (target=spyder-2.3.8-py35_1.tar.bz2) -> docutils\n",
      "  - spyder (target=spyder-2.3.8-py35_1.tar.bz2) -> psutil\n",
      "  - spyder (target=spyder-2.3.8-py35_1.tar.bz2) -> python 2.7*|3.4*|3.5*\n",
      "  - sqlalchemy (target=sqlalchemy-1.0.12-py35_0.tar.bz2) -> python 2.6*|2.7*|3.3*|3.4*|3.5*\n",
      "  - statsmodels (target=statsmodels-0.6.1-np110py35_0.tar.bz2) -> patsy\n",
      "  - statsmodels (target=statsmodels-0.6.1-np110py35_0.tar.bz2) -> python 2.6*|2.7*|3.3*|3.4*|3.5*\n",
      "  - statsmodels (target=statsmodels-0.6.1-np110py35_0.tar.bz2) -> scipy\n",
      "  - sympy (target=sympy-1.0-py35_0.tar.bz2) -> fastcache\n",
      "  - sympy (target=sympy-1.0-py35_0.tar.bz2) -> python 2.6*|2.7*|3.3*|3.4*|3.5*\n",
      "  - terminado (target=terminado-0.5-py35_1.tar.bz2) -> python 2.7*|3.4*|3.5*\n",
      "  - toolz (target=toolz-0.7.4-py35_0.tar.bz2) -> python 2.6*|2.7*|3.3*|3.4*|3.5*\n",
      "  - tornado (target=tornado-4.3-py35_0.tar.bz2) -> python 2.7*|3.4*|3.5*\n",
      "  - traitlets (target=traitlets-4.2.1-py35_0.tar.bz2) -> decorator\n",
      "  - traitlets (target=traitlets-4.2.1-py35_0.tar.bz2) -> python 2.7*|3.4*|3.5*\n",
      "  - unicodecsv (target=unicodecsv-0.14.1-py35_0.tar.bz2) -> python 2.6*|2.7*|3.4*|3.5*\n",
      "  - werkzeug (target=werkzeug-0.11.4-py35_0.tar.bz2) -> python 2.6*|2.7*|3.3*|3.4*|3.5*\n",
      "  - wheel (target=wheel-0.29.0-py35_0.tar.bz2) -> python 2.7*|3.3*|3.4*|3.5*\n",
      "  - xlrd (target=xlrd-0.9.4-py35_0.tar.bz2) -> python 2.6*|2.7*|3.3*|3.4*|3.5*\n",
      "  - xlsxwriter (target=xlsxwriter-0.8.4-py35_0.tar.bz2) -> python 2.6*|2.7*|3.3*|3.4*|3.5*\n",
      "  - xlwings (target=xlwings-0.7.0-py35_0.tar.bz2) -> appscript *|1.0.1\n",
      "  - xlwings (target=xlwings-0.7.0-py35_0.tar.bz2) -> psutil\n",
      "  - xlwings (target=xlwings-0.7.0-py35_0.tar.bz2) -> python 2.6*|2.7*|3.3*|3.4*|3.5*\n",
      "  - xlwings (target=xlwings-0.7.0-py35_0.tar.bz2) -> pytz\n",
      "  - xlwt (target=xlwt-1.0.0-py35_0.tar.bz2) -> python 2.6*|2.7*|3.3*|3.4*|3.5*\n",
      "Use \"conda info <package>\" to see the dependencies for each package.\n"
     ]
    }
   ],
   "source": []
  },
  {
   "cell_type": "code",
   "execution_count": 18,
   "metadata": {
    "collapsed": false
   },
   "outputs": [
    {
     "name": "stdout",
     "output_type": "stream",
     "text": [
      "Collecting https://github.com/ipython-contrib/IPython-notebook-extensions/tarball/master\n",
      "  Downloading https://github.com/ipython-contrib/IPython-notebook-extensions/tarball/master\n",
      "\u001b[K     - 12.7MB 79.4MB/s\n",
      "Requirement already satisfied (use --upgrade to upgrade): jupyter_core in /Users/angueyraaristjm/anaconda/lib/python3.5/site-packages (from Python-contrib-nbextensions===alpha)\n",
      "Collecting jupyter_nbextensions_configurator (from Python-contrib-nbextensions===alpha)\n",
      "  Downloading jupyter_nbextensions_configurator-0.2.1-py2.py3-none-any.whl (547kB)\n",
      "\u001b[K    100% |████████████████████████████████| 552kB 1.5MB/s \n",
      "\u001b[?25hRequirement already satisfied (use --upgrade to upgrade): nbconvert in /Users/angueyraaristjm/anaconda/lib/python3.5/site-packages (from Python-contrib-nbextensions===alpha)\n",
      "Requirement already satisfied (use --upgrade to upgrade): notebook in /Users/angueyraaristjm/anaconda/lib/python3.5/site-packages (from Python-contrib-nbextensions===alpha)\n",
      "Requirement already satisfied (use --upgrade to upgrade): psutil>=2.2.1 in /Users/angueyraaristjm/anaconda/lib/python3.5/site-packages (from Python-contrib-nbextensions===alpha)\n",
      "Requirement already satisfied (use --upgrade to upgrade): pyyaml in /Users/angueyraaristjm/anaconda/lib/python3.5/site-packages (from Python-contrib-nbextensions===alpha)\n",
      "Requirement already satisfied (use --upgrade to upgrade): tornado in /Users/angueyraaristjm/anaconda/lib/python3.5/site-packages (from Python-contrib-nbextensions===alpha)\n",
      "Requirement already satisfied (use --upgrade to upgrade): traitlets in /Users/angueyraaristjm/anaconda/lib/python3.5/site-packages (from Python-contrib-nbextensions===alpha)\n",
      "Collecting jupyter-contrib-core>=0.2 (from jupyter_nbextensions_configurator->Python-contrib-nbextensions===alpha)\n",
      "  Downloading jupyter_contrib_core-0.3.0-py2.py3-none-any.whl\n",
      "Requirement already satisfied (use --upgrade to upgrade): jinja2 in /Users/angueyraaristjm/anaconda/lib/python3.5/site-packages (from notebook->Python-contrib-nbextensions===alpha)\n",
      "Requirement already satisfied (use --upgrade to upgrade): ipython_genutils in /Users/angueyraaristjm/anaconda/lib/python3.5/site-packages (from notebook->Python-contrib-nbextensions===alpha)\n",
      "Requirement already satisfied (use --upgrade to upgrade): jupyter_client in /Users/angueyraaristjm/anaconda/lib/python3.5/site-packages (from notebook->Python-contrib-nbextensions===alpha)\n",
      "Requirement already satisfied (use --upgrade to upgrade): nbformat in /Users/angueyraaristjm/anaconda/lib/python3.5/site-packages (from notebook->Python-contrib-nbextensions===alpha)\n",
      "Requirement already satisfied (use --upgrade to upgrade): ipykernel in /Users/angueyraaristjm/anaconda/lib/python3.5/site-packages (from notebook->Python-contrib-nbextensions===alpha)\n",
      "Requirement already satisfied (use --upgrade to upgrade): terminado>=0.3.3 in /Users/angueyraaristjm/anaconda/lib/python3.5/site-packages (from notebook->Python-contrib-nbextensions===alpha)\n",
      "Requirement already satisfied (use --upgrade to upgrade): setuptools in /Users/angueyraaristjm/anaconda/lib/python3.5/site-packages/setuptools-20.3-py3.5.egg (from jupyter-contrib-core>=0.2->jupyter_nbextensions_configurator->Python-contrib-nbextensions===alpha)\n",
      "Requirement already satisfied (use --upgrade to upgrade): MarkupSafe in /Users/angueyraaristjm/anaconda/lib/python3.5/site-packages (from jinja2->notebook->Python-contrib-nbextensions===alpha)\n",
      "Installing collected packages: jupyter-contrib-core, jupyter-nbextensions-configurator, Python-contrib-nbextensions\n",
      "  Running setup.py install for Python-contrib-nbextensions ... \u001b[?25l-\b \b\\\b \b|\b \bdone\n",
      "\u001b[?25hSuccessfully installed Python-contrib-nbextensions-alpha jupyter-contrib-core-0.3.0 jupyter-nbextensions-configurator-0.2.1\n"
     ]
    }
   ],
   "source": [
    "!pip install https://github.com/ipython-contrib/IPython-notebook-extensions/tarball/master"
   ]
  },
  {
   "cell_type": "code",
   "execution_count": 2,
   "metadata": {
    "collapsed": false
   },
   "outputs": [
    {
     "name": "stdout",
     "output_type": "stream",
     "text": [
      "/bin/sh: -c: line 0: syntax error near unexpected token `'codefolding','\r\n",
      "/bin/sh: -c: line 0: `notebook.nbextensions.check_nbextension('codefolding', user=True)'\r\n"
     ]
    }
   ],
   "source": [
    "!notebook.nbextensions.check_nbextension('codefolding', user=True)"
   ]
  },
  {
   "cell_type": "code",
   "execution_count": 4,
   "metadata": {
    "collapsed": false
   },
   "outputs": [
    {
     "ename": "SyntaxError",
     "evalue": "invalid syntax (<ipython-input-4-2485a112f55f>, line 1)",
     "output_type": "error",
     "traceback": [
      "\u001b[0;36m  File \u001b[0;32m\"<ipython-input-4-2485a112f55f>\"\u001b[0;36m, line \u001b[0;32m1\u001b[0m\n\u001b[0;31m    read (~/.jupyter/nbconfig/notebook.json)\u001b[0m\n\u001b[0m           ^\u001b[0m\n\u001b[0;31mSyntaxError\u001b[0m\u001b[0;31m:\u001b[0m invalid syntax\n"
     ]
    }
   ],
   "source": [
    "~/.jupyter/nbconfig/notebook.json"
   ]
  },
  {
   "cell_type": "code",
   "execution_count": null,
   "metadata": {
    "collapsed": true
   },
   "outputs": [],
   "source": []
  }
 ],
 "metadata": {
  "kernelspec": {
   "display_name": "Python 3",
   "language": "python",
   "name": "python3"
  },
  "language_info": {
   "codemirror_mode": {
    "name": "ipython",
    "version": 3
   },
   "file_extension": ".py",
   "mimetype": "text/x-python",
   "name": "python",
   "nbconvert_exporter": "python",
   "pygments_lexer": "ipython3",
   "version": "3.5.1"
  },
  "latex_envs": {
   "bibliofile": "biblio.bib",
   "cite_by": "apalike",
   "current_citInitial": 1,
   "eqLabelWithNumbers": true,
   "eqNumInitial": 0
  }
 },
 "nbformat": 4,
 "nbformat_minor": 1
}
