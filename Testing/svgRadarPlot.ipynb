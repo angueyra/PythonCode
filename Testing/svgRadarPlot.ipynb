{
 "cells": [
  {
   "cell_type": "markdown",
   "metadata": {
    "slideshow": {
     "slide_type": "slide"
    }
   },
   "source": [
    "--- \n",
    "## SVG Radar plot\n",
    "---\n",
    ">Almost generalized radar plot\n",
    ">Intended to visualize zf_hC and zf_bC specificity for photoreceptor subtypes.\n",
    "---\n",
    "\n",
    "This script:\n",
    "1. Creates all the axis\n",
    "1. Creates relevant polygons (every 5 units)\n",
    "1. Creates colored dots for each data point\n",
    "1. Creates cell contour\n",
    "1. Creates a side plot for the unassigned data\n",
    "\n"
   ]
  },
  {
   "cell_type": "code",
   "execution_count": null,
   "metadata": {},
   "outputs": [],
   "source": []
  },
  {
   "cell_type": "code",
   "execution_count": 43,
   "metadata": {
    "slideshow": {
     "slide_type": "subslide"
    }
   },
   "outputs": [],
   "source": [
    "import hcPlot\n",
    "import pandas\n",
    "import importlib\n",
    "import svgwrite\n",
    "import math\n",
    "\n",
    "def svgreload():\n",
    "    !osascript -e 'tell application \"Google Chrome\" to tell the active tab of second window to reload'"
   ]
  },
  {
   "cell_type": "code",
   "execution_count": 44,
   "metadata": {
    "slideshow": {
     "slide_type": "subslide"
    }
   },
   "outputs": [],
   "source": [
    "# hcDF=pandas.read_csv(\"/Users/angueyra/Dropbox/LiLab/hCAnalysis/201808_hcQuant_Nia.csv\")\n",
    "hcDF=pandas.read_csv(\"~/Dropbox/LiLab/hCAnalysis/201808_hcQuant_Nia.csv\")\n",
    "hcData=hcDF[['uv','s','m','l','r','z']].values\n",
    "hcType=hcDF['type'].values"
   ]
  },
  {
   "cell_type": "code",
   "execution_count": 50,
   "metadata": {},
   "outputs": [
    {
     "ename": "NameError",
     "evalue": "name 'np' is not defined",
     "output_type": "error",
     "traceback": [
      "\u001b[0;31m---------------------------------------------------------------------------\u001b[0m",
      "\u001b[0;31mNameError\u001b[0m                                 Traceback (most recent call last)",
      "\u001b[0;32m<ipython-input-50-6cdd116c50f5>\u001b[0m in \u001b[0;36m<module>\u001b[0;34m()\u001b[0m\n\u001b[1;32m      1\u001b[0m \u001b[0mhcData\u001b[0m\u001b[0;34m[\u001b[0m\u001b[0mi\u001b[0m\u001b[0;34m]\u001b[0m\u001b[0;34m\u001b[0m\u001b[0m\n\u001b[0;32m----> 2\u001b[0;31m \u001b[0mnp\u001b[0m\u001b[0;34m.\u001b[0m\u001b[0marray\u001b[0m\u001b[0;34m(\u001b[0m\u001b[0;34m[\u001b[0m\u001b[0;36m15.10\u001b[0m\u001b[0;34m,\u001b[0m\u001b[0;36m0\u001b[0m\u001b[0;34m,\u001b[0m\u001b[0;36m0\u001b[0m\u001b[0;34m,\u001b[0m\u001b[0;36m0\u001b[0m\u001b[0;34m,\u001b[0m\u001b[0;36m2\u001b[0m\u001b[0;34m]\u001b[0m\u001b[0;34m)\u001b[0m\u001b[0;34m\u001b[0m\u001b[0m\n\u001b[0m",
      "\u001b[0;31mNameError\u001b[0m: name 'np' is not defined"
     ]
    }
   ],
   "source": [
    "hcData[i]\n",
    "np.array([15.10,0,0,0,2])"
   ]
  },
  {
   "cell_type": "markdown",
   "metadata": {
    "slideshow": {
     "slide_type": "slide"
    }
   },
   "source": [
    "### Plot a single cell"
   ]
  },
  {
   "cell_type": "code",
   "execution_count": 51,
   "metadata": {
    "scrolled": true,
    "slideshow": {
     "slide_type": "subslide"
    }
   },
   "outputs": [],
   "source": [
    "importlib.reload(hcPlot);\n",
    "i=0;\n",
    "dwg = hcPlot.hcCanvas('test-svgwrite',hcType[i]);\n",
    "# realCell = hcPlot.plotCell(dwg,hcData[i])\n",
    "realCell = hcPlot.plotCell(dwg,[15,10,0,0,0,2])\n",
    "dwg.canvas.save()\n",
    "# print(dwg.canvas.tostring())\n",
    "svgreload()"
   ]
  },
  {
   "cell_type": "markdown",
   "metadata": {
    "slideshow": {
     "slide_type": "slide"
    }
   },
   "source": [
    "### Make and save plots all cells"
   ]
  },
  {
   "cell_type": "code",
   "execution_count": 41,
   "metadata": {
    "slideshow": {
     "slide_type": "subslide"
    }
   },
   "outputs": [],
   "source": [
    "importlib.reload(hcPlot)\n",
    "for i in range(hcData.shape[0]):\n",
    "    svgfilename='./hcPlots/hc' + str(i).zfill(2)\n",
    "    dwg = hcPlot.hcCanvas(svgfilename,'');\n",
    "#     dwg = hcPlot.hcCanvas(svgfilename,hcType[i]);\n",
    "    realCell = hcPlot.plotCell(dwg,hcData[i])\n",
    "    dwg.canvas.save()"
   ]
  },
  {
   "cell_type": "markdown",
   "metadata": {
    "slideshow": {
     "slide_type": "slide"
    }
   },
   "source": [
    "### Make a compound svg with all of them"
   ]
  },
  {
   "cell_type": "code",
   "execution_count": 42,
   "metadata": {
    "slideshow": {
     "slide_type": "subslide"
    }
   },
   "outputs": [],
   "source": [
    "from svgutils.compose import *\n",
    "\n",
    "nx=7\n",
    "ny=math.ceil(34/nx)\n",
    "\n",
    "sizeX = str(int(nx * 325))\n",
    "sizeY = str(int(ny * 250 + 20))\n",
    "\n",
    "Figure(sizeX, sizeY,\n",
    "       SVG(\"./hcPlots/hc00.svg\").scale(0.5),\n",
    "       SVG(\"./hcPlots/hc01.svg\").scale(0.5),\n",
    "       SVG(\"./hcPlots/hc02.svg\").scale(0.5),\n",
    "       \n",
    "       SVG(\"./hcPlots/hc03.svg\").scale(0.5),\n",
    "       SVG(\"./hcPlots/hc04.svg\").scale(0.5),\n",
    "       SVG(\"./hcPlots/hc05.svg\").scale(0.5),\n",
    "       \n",
    "       SVG(\"./hcPlots/hc06.svg\").scale(0.5),\n",
    "       SVG(\"./hcPlots/hc07.svg\").scale(0.5),\n",
    "       SVG(\"./hcPlots/hc08.svg\").scale(0.5),\n",
    "       \n",
    "       SVG(\"./hcPlots/hc09.svg\").scale(0.5),\n",
    "       SVG(\"./hcPlots/hc10.svg\").scale(0.5),\n",
    "       SVG(\"./hcPlots/hc11.svg\").scale(0.5),\n",
    "       \n",
    "       SVG(\"./hcPlots/hc12.svg\").scale(0.5),\n",
    "       SVG(\"./hcPlots/hc13.svg\").scale(0.5),\n",
    "       SVG(\"./hcPlots/hc14.svg\").scale(0.5),\n",
    "       \n",
    "       SVG(\"./hcPlots/hc15.svg\").scale(0.5),\n",
    "       SVG(\"./hcPlots/hc16.svg\").scale(0.5),\n",
    "       SVG(\"./hcPlots/hc17.svg\").scale(0.5),\n",
    "       \n",
    "       SVG(\"./hcPlots/hc18.svg\").scale(0.5),\n",
    "       SVG(\"./hcPlots/hc19.svg\").scale(0.5),\n",
    "       SVG(\"./hcPlots/hc20.svg\").scale(0.5),\n",
    "              \n",
    "       SVG(\"./hcPlots/hc21.svg\").scale(0.5),\n",
    "       SVG(\"./hcPlots/hc22.svg\").scale(0.5),\n",
    "       SVG(\"./hcPlots/hc23.svg\").scale(0.5),\n",
    "              \n",
    "       SVG(\"./hcPlots/hc24.svg\").scale(0.5),\n",
    "       SVG(\"./hcPlots/hc25.svg\").scale(0.5),\n",
    "       SVG(\"./hcPlots/hc26.svg\").scale(0.5),\n",
    "                     \n",
    "       SVG(\"./hcPlots/hc27.svg\").scale(0.5),\n",
    "       SVG(\"./hcPlots/hc28.svg\").scale(0.5),\n",
    "       SVG(\"./hcPlots/hc29.svg\").scale(0.5),\n",
    "                     \n",
    "       SVG(\"./hcPlots/hc30.svg\").scale(0.5),\n",
    "       SVG(\"./hcPlots/hc31.svg\").scale(0.5),\n",
    "       SVG(\"./hcPlots/hc32.svg\").scale(0.5),\n",
    "                            \n",
    "       SVG(\"./hcPlots/hc33.svg\").scale(0.5),\n",
    "\n",
    "#        ).tile(nx, ny).save(\"test-svgwrite.svg\")\n",
    "    ).tile(nx, ny).save(\"hcAll.svg\")\n",
    "#     ).tile(nx, ny).save(\"hcAll_Borders.svg\")\n",
    "svgreload()\n"
   ]
  },
  {
   "cell_type": "markdown",
   "metadata": {
    "slideshow": {
     "slide_type": "slide"
    }
   },
   "source": [
    "#### Things to do\n",
    "1. Make an svg for each cell - DONE!\n",
    "1. Make wrapper to make gallery - DONE! (using svgutils)\n",
    "1. Allow wrapper to change opacity of individual panels and change color accordingly to type\n",
    "    1. think I need to put an id handle in individual svgs to do this\n",
    "    1. try to put id according to cell type (H1, H2, H3 or Other)"
   ]
  },
  {
   "cell_type": "code",
   "execution_count": 34,
   "metadata": {},
   "outputs": [],
   "source": [
    "nx=4\n",
    "ny=math.ceil(15/nx)\n",
    "sizeX = str(nx * 325)\n",
    "sizeY = str(ny * 250 + 20)\n",
    "\n",
    "Figure(sizeX, sizeY,\n",
    "       SVG(\"./hcPlots/hc08.svg\").scale(0.5),       \n",
    "       SVG(\"./hcPlots/hc09.svg\").scale(0.5),\n",
    "       SVG(\"./hcPlots/hc10.svg\").scale(0.5),\n",
    "\n",
    "       SVG(\"./hcPlots/hc11.svg\").scale(0.5),\n",
    "       SVG(\"./hcPlots/hc12.svg\").scale(0.5),\n",
    "       SVG(\"./hcPlots/hc16.svg\").scale(0.5),       \n",
    "       \n",
    "       SVG(\"./hcPlots/hc18.svg\").scale(0.5),\n",
    "       SVG(\"./hcPlots/hc19.svg\").scale(0.5),\n",
    "       SVG(\"./hcPlots/hc20.svg\").scale(0.5),\n",
    "       \n",
    "       SVG(\"./hcPlots/hc22.svg\").scale(0.5),\n",
    "       SVG(\"./hcPlots/hc23.svg\").scale(0.5),       \n",
    "       SVG(\"./hcPlots/hc28.svg\").scale(0.5),\n",
    "\n",
    "       SVG(\"./hcPlots/hc30.svg\").scale(0.5),\n",
    "       SVG(\"./hcPlots/hc31.svg\").scale(0.5),\n",
    "       SVG(\"./hcPlots/hc32.svg\").scale(0.5),\n",
    "                            \n",
    "       ).tile(nx, ny).save(\"hcH1.svg\")\n",
    "svgreload()"
   ]
  },
  {
   "cell_type": "code",
   "execution_count": 35,
   "metadata": {},
   "outputs": [],
   "source": [
    "nx=4\n",
    "ny=math.ceil(7/nx)\n",
    "sizeX = str(nx * 325)\n",
    "sizeY = str(ny * 250 + 20)\n",
    "\n",
    "Figure(sizeX, sizeY,\n",
    "       SVG(\"./hcPlots/hc01.svg\").scale(0.5),\n",
    "       SVG(\"./hcPlots/hc02.svg\").scale(0.5),\n",
    "       SVG(\"./hcPlots/hc06.svg\").scale(0.5),\n",
    "       \n",
    "       SVG(\"./hcPlots/hc17.svg\").scale(0.5),\n",
    "       \n",
    "       SVG(\"./hcPlots/hc26.svg\").scale(0.5),\n",
    "       SVG(\"./hcPlots/hc27.svg\").scale(0.5),                     \n",
    "       SVG(\"./hcPlots/hc33.svg\").scale(0.5),\n",
    "\n",
    "       ).tile(nx, ny).save(\"hcH2.svg\")\n",
    "svgreload()"
   ]
  },
  {
   "cell_type": "code",
   "execution_count": 36,
   "metadata": {},
   "outputs": [
    {
     "data": {
      "text/plain": [
       "Int64Index([1, 2, 6, 17, 26, 27, 33], dtype='int64')"
      ]
     },
     "execution_count": 36,
     "metadata": {},
     "output_type": "execute_result"
    }
   ],
   "source": [
    "hcDF.index[hcDF.type=='H2']"
   ]
  },
  {
   "cell_type": "code",
   "execution_count": 37,
   "metadata": {},
   "outputs": [],
   "source": [
    "nx=4\n",
    "ny=math.ceil(9/nx)\n",
    "sizeX = str(nx * 325)\n",
    "sizeY = str(ny * 250 + 20)\n",
    "\n",
    "Figure(sizeX, sizeY,\n",
    "       SVG(\"./hcPlots/hc00.svg\").scale(0.5),\n",
    "       SVG(\"./hcPlots/hc03.svg\").scale(0.5),\n",
    "       SVG(\"./hcPlots/hc04.svg\").scale(0.5),\n",
    "       \n",
    "       SVG(\"./hcPlots/hc05.svg\").scale(0.5),\n",
    "       SVG(\"./hcPlots/hc07.svg\").scale(0.5),\n",
    "       SVG(\"./hcPlots/hc13.svg\").scale(0.5),\n",
    "       \n",
    "       SVG(\"./hcPlots/hc14.svg\").scale(0.5),\n",
    "       SVG(\"./hcPlots/hc15.svg\").scale(0.5),\n",
    "              \n",
    "       SVG(\"./hcPlots/hc21.svg\").scale(0.5),\n",
    "       SVG(\"./hcPlots/hc24.svg\").scale(0.5),\n",
    "       SVG(\"./hcPlots/hc29.svg\").scale(0.5),\n",
    "                     \n",
    "       ).tile(nx, ny).save(\"hcH3.svg\")\n",
    "svgreload()"
   ]
  },
  {
   "cell_type": "markdown",
   "metadata": {
    "slideshow": {
     "slide_type": "slide"
    }
   },
   "source": []
  },
  {
   "cell_type": "code",
   "execution_count": null,
   "metadata": {},
   "outputs": [],
   "source": []
  },
  {
   "cell_type": "code",
   "execution_count": null,
   "metadata": {},
   "outputs": [],
   "source": []
  },
  {
   "cell_type": "code",
   "execution_count": null,
   "metadata": {},
   "outputs": [],
   "source": []
  }
 ],
 "metadata": {
  "kernelspec": {
   "display_name": "Python 3",
   "language": "python",
   "name": "python3"
  },
  "language_info": {
   "codemirror_mode": {
    "name": "ipython",
    "version": 3
   },
   "file_extension": ".py",
   "mimetype": "text/x-python",
   "name": "python",
   "nbconvert_exporter": "python",
   "pygments_lexer": "ipython3",
   "version": "3.6.6"
  }
 },
 "nbformat": 4,
 "nbformat_minor": 2
}
