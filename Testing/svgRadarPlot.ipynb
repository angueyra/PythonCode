{
 "cells": [
  {
   "cell_type": "markdown",
   "metadata": {},
   "source": [
    "--- \n",
    "## SVG Radar plot\n",
    "---\n",
    ">Almost generalized radar plot\n",
    ">Intended to visualize zf_hC and zf_bC specificity for photoreceptor subtypes.\n",
    "---\n",
    "\n",
    "This script:\n",
    "1. Creates all the axis\n",
    "1. Creates relevant polygons (every 5 units)\n",
    "1. Creates colored dots for each data point\n",
    "1. Creates cell contour\n",
    "1. Creates a side plot for the unassigned data\n",
    "\n"
   ]
  },
  {
   "cell_type": "code",
   "execution_count": 6,
   "metadata": {},
   "outputs": [],
   "source": [
    "import hcPlot\n",
    "import pandas\n",
    "import importlib\n",
    "import svgwrite\n",
    "\n",
    "def svgreload():\n",
    "    !osascript -e 'tell application \"Google Chrome\" to tell the active tab of second window to reload'"
   ]
  },
  {
   "cell_type": "code",
   "execution_count": 9,
   "metadata": {},
   "outputs": [],
   "source": [
    "hcDF=pandas.read_csv(\"/Users/angueyra/Dropbox/LiLab/hCAnalysis/201808_hcQuant_Nia.csv\")\n",
    "hcData=hcDF[['uv','s','m','l','r','z']].values"
   ]
  },
  {
   "cell_type": "code",
   "execution_count": 10,
   "metadata": {},
   "outputs": [
    {
     "data": {
      "text/plain": [
       "array([[12,  7,  0,  0,  0,  1],\n",
       "       [ 4,  4, 11,  2,  0,  0],\n",
       "       [ 5,  6, 12,  0,  0,  0],\n",
       "       [15, 11,  0,  0,  0,  0],\n",
       "       [19, 11,  0,  0,  0,  0],\n",
       "       [15, 13,  0,  0,  0,  0],\n",
       "       [ 5,  5, 10,  0,  0,  0],\n",
       "       [15, 13,  0,  0,  0,  1],\n",
       "       [ 3,  1,  8,  3,  0,  4],\n",
       "       [ 1,  1,  7,  6,  0,  1],\n",
       "       [ 0,  2,  7,  5,  0,  0],\n",
       "       [ 4,  4,  9, 10,  0,  1],\n",
       "       [ 0,  2,  7,  9,  0,  0],\n",
       "       [11,  7,  0,  1,  0,  1],\n",
       "       [15,  8,  0,  0,  0,  0],\n",
       "       [16,  9,  0,  0,  0,  0],\n",
       "       [ 1,  2,  8,  6,  0,  0],\n",
       "       [ 4,  5,  7,  0,  0,  0],\n",
       "       [ 0,  2,  8, 11,  0,  2],\n",
       "       [ 0,  2,  6, 12,  0,  0],\n",
       "       [ 0,  2,  9, 10,  0,  1],\n",
       "       [13, 12,  0,  0,  0,  2],\n",
       "       [ 0,  2,  9,  6,  0,  0],\n",
       "       [ 0,  1,  8, 10,  0,  3],\n",
       "       [15, 12,  0,  0,  0,  0],\n",
       "       [ 0,  0,  0,  0,  0,  0],\n",
       "       [ 3,  5,  8,  3,  0,  0],\n",
       "       [ 5,  7,  8,  2,  0,  0],\n",
       "       [ 0,  2,  7,  8,  0,  0],\n",
       "       [13, 11,  1,  1,  0,  0],\n",
       "       [ 0,  0,  3,  5,  0,  0],\n",
       "       [ 0,  3,  7,  8,  0,  0],\n",
       "       [ 0,  1,  6, 10,  0,  0],\n",
       "       [ 5,  3,  6,  0,  0,  0]])"
      ]
     },
     "execution_count": 10,
     "metadata": {},
     "output_type": "execute_result"
    }
   ],
   "source": [
    "hcData"
   ]
  },
  {
   "cell_type": "markdown",
   "metadata": {},
   "source": [
    "### Plot a single cell"
   ]
  },
  {
   "cell_type": "code",
   "execution_count": 11,
   "metadata": {
    "scrolled": true
   },
   "outputs": [
    {
     "name": "stdout",
     "output_type": "stream",
     "text": [
      "<svg baseProfile=\"full\" height=\"500\" version=\"1.1\" width=\"650\" xmlns=\"http://www.w3.org/2000/svg\" xmlns:ev=\"http://www.w3.org/2001/xml-events\" xmlns:xlink=\"http://www.w3.org/1999/xlink\"><defs /><polygon fill=\"rgb(230,230,230)\" id=\"axGonMinor\" points=\"265.0,41.66666666666666 463.13677422815704,185.62145950521926 387.4552608942653,418.54520716144737 142.54473910573478,418.54520716144737 66.86322577184299,185.62145950521932\" stroke=\"rgb(200,200,200)\" stroke-width=\"1\" /><polygon fill=\"rgb(255,255,255)\" id=\"axGon\" points=\"265.0,83.33333333333331 423.5094193825256,198.49716760417542 362.9642087154122,384.83616572915787 167.03579128458782,384.8361657291579 106.49058061747436,198.49716760417544\" stroke=\"rgb(200,200,200)\" stroke-width=\"1\" /><polygon fill=\"rgb(230,230,230)\" id=\"axGonMinor\" points=\"265.0,124.99999999999999 383.8820645368942,211.37287570313157 338.47315653655915,351.12712429686843 191.52684346344085,351.12712429686843 146.11793546310577,211.3728757031316\" stroke=\"rgb(200,200,200)\" stroke-width=\"1\" /><polygon fill=\"rgb(255,255,255)\" id=\"axGon\" points=\"265.0,166.66666666666666 344.2547096912628,224.2485838020877 313.98210435770613,317.41808286457893 216.01789564229392,317.418082864579 185.7452903087372,224.24858380208772\" stroke=\"rgb(200,200,200)\" stroke-width=\"1\" /><polygon fill=\"rgb(230,230,230)\" id=\"axGonMinor\" points=\"265.0,208.33333333333331 304.62735484563143,237.12429190104385 289.49105217885307,283.7090414322895 240.50894782114693,283.7090414322895 225.37264515436857,237.12429190104385\" stroke=\"rgb(200,200,200)\" stroke-width=\"1\" /><rect fill=\"rgb(230,230,230)\" height=\"208.33333333333334\" id=\"zaxGonMinor\" stroke=\"rgb(200,200,200)\" stroke-width=\"1\" width=\"40\" x=\"580.8333333333334\" y=\"209.92599560969722\" /><rect fill=\"rgb(255,255,255)\" height=\"166.66666666666669\" id=\"zaxGon\" stroke=\"rgb(200,200,200)\" stroke-width=\"1\" width=\"40\" x=\"580.8333333333334\" y=\"251.5926622763639\" /><rect fill=\"rgb(230,230,230)\" height=\"125.00000000000001\" id=\"zaxGonMinor\" stroke=\"rgb(200,200,200)\" stroke-width=\"1\" width=\"40\" x=\"580.8333333333334\" y=\"293.2593289430306\" /><rect fill=\"rgb(255,255,255)\" height=\"83.33333333333334\" id=\"zaxGon\" stroke=\"rgb(200,200,200)\" stroke-width=\"1\" width=\"40\" x=\"580.8333333333334\" y=\"334.9259956096972\" /><rect fill=\"rgb(230,230,230)\" height=\"41.66666666666667\" id=\"zaxGonMinor\" stroke=\"rgb(200,200,200)\" stroke-width=\"1\" width=\"40\" x=\"580.8333333333334\" y=\"376.5926622763639\" /><line id=\"ax\" stroke=\"rgb(200,200,200)\" stroke-dasharray=\"4\" stroke-width=\"2\" x1=\"600.8333333333334\" x2=\"600.8333333333334\" y1=\"418.2593289430306\" y2=\"209.92599560969722\" /><text fill=\"rgb(253,189,64)\" font-family=\"sans-serif\" font-size=\"20\" text-anchor=\"middle\" transform=\"translate(0,-10)\" x=\"600.8333333333334\" y=\"209.92599560969722\">?</text><line id=\"ax\" stroke=\"rgb(200,200,200)\" stroke-dasharray=\"4\" stroke-width=\"2\" transform=\"rotate(0.0,265.0,250.0)\" x1=\"265.0\" x2=\"265.0\" y1=\"250.0\" y2=\"41.66666666666666\" /><text alignment-baseline=\"middle\" fill=\"rgb(127,15,126)\" font-family=\"sans-serif\" font-size=\"20\" text-anchor=\"middle\" transform=\"translate(0,-10)\" x=\"265.0\" y=\"41.66666666666666\">UV</text><line id=\"ax\" stroke=\"rgb(200,200,200)\" stroke-dasharray=\"4\" stroke-width=\"2\" transform=\"rotate(72.0,265.0,250.0)\" x1=\"265.0\" x2=\"265.0\" y1=\"250.0\" y2=\"41.66666666666666\" /><text alignment-baseline=\"middle\" fill=\"rgb(11,36,251)\" font-family=\"sans-serif\" font-size=\"20\" text-anchor=\"start\" transform=\"translate(+5,0)\" x=\"463.13677422815704\" y=\"185.62145950521926\">S</text><line id=\"ax\" stroke=\"rgb(200,200,200)\" stroke-dasharray=\"4\" stroke-width=\"2\" transform=\"rotate(144.0,265.0,250.0)\" x1=\"265.0\" x2=\"265.0\" y1=\"250.0\" y2=\"41.66666666666666\" /><text alignment-baseline=\"middle\" fill=\"rgb(15,127,18)\" font-family=\"sans-serif\" font-size=\"20\" text-anchor=\"start\" transform=\"translate(2,10)\" x=\"387.4552608942653\" y=\"418.54520716144737\">M</text><line id=\"ax\" stroke=\"rgb(200,200,200)\" stroke-dasharray=\"4\" stroke-width=\"2\" transform=\"rotate(216.0,265.0,250.0)\" x1=\"265.0\" x2=\"265.0\" y1=\"250.0\" y2=\"41.66666666666666\" /><text alignment-baseline=\"middle\" fill=\"rgb(252,13,27)\" font-family=\"sans-serif\" font-size=\"20\" text-anchor=\"end\" transform=\"translate(-2,10)\" x=\"142.54473910573478\" y=\"418.54520716144737\">L</text><line id=\"ax\" stroke=\"rgb(200,200,200)\" stroke-dasharray=\"4\" stroke-width=\"2\" transform=\"rotate(288.0,265.0,250.0)\" x1=\"265.0\" x2=\"265.0\" y1=\"250.0\" y2=\"41.66666666666666\" /><text alignment-baseline=\"middle\" fill=\"rgb(0,0,0)\" font-family=\"sans-serif\" font-size=\"20\" text-anchor=\"end\" transform=\"translate(-5,0)\" x=\"66.86322577184299\" y=\"185.62145950521932\">Rod</text><path d=\"M267,208 L315,234 L326,330 L267,250 L267,250 Z\" fill=\"none\" id=\"cellGon\" stroke=\"rgb(0,0,0)\" stroke-linecap=\"round\" stroke-opacity=\"1\" stroke-width=\"3\" /><circle cx=\"267.5\" cy=\"208.33333333333331\" fill=\"rgb(127,15,126)\" id=\"uDat\" r=\"5\" stroke=\"none\" stroke-width=\"4\" transform=\"rotate(0.0,267.5,250.0)\" /><circle cx=\"267.5\" cy=\"200.0\" fill=\"rgb(11,36,251)\" id=\"sDat\" r=\"5\" stroke=\"none\" stroke-width=\"4\" transform=\"rotate(72.0,267.5,250.0)\" /><circle cx=\"267.5\" cy=\"150.0\" fill=\"rgb(15,127,18)\" id=\"mDat\" r=\"5\" stroke=\"none\" stroke-width=\"4\" transform=\"rotate(144.0,267.5,250.0)\" /><circle cx=\"267.5\" cy=\"250.0\" fill=\"rgb(252,13,27)\" id=\"lDat\" r=\"5\" stroke=\"none\" stroke-width=\"4\" transform=\"rotate(216.0,267.5,250.0)\" /><circle cx=\"267.5\" cy=\"250.0\" fill=\"rgb(0,0,0)\" id=\"rDat\" r=\"5\" stroke=\"none\" stroke-width=\"4\" transform=\"rotate(288.0,267.5,250.0)\" /><circle cx=\"600.8333333333334\" cy=\"418.2593289430306\" fill=\"rgb(253,189,64)\" id=\"zDat\" r=\"5\" stroke=\"none\" stroke-width=\"4\" transform=\"rotate(0,600.8333333333334,250.0)\" /></svg>\n"
     ]
    }
   ],
   "source": [
    "importlib.reload(hcPlot)\n",
    "dwg = hcPlot.hcCanvas('test-svgwrite');\n",
    "realCell = hcPlot.plotCell(dwg,hcData[2])\n",
    "dwg.canvas.save()\n",
    "print(dwg.canvas.tostring())\n",
    "svgreload()"
   ]
  },
  {
   "cell_type": "markdown",
   "metadata": {},
   "source": [
    "### Make and save plots all cells"
   ]
  },
  {
   "cell_type": "code",
   "execution_count": 188,
   "metadata": {
    "collapsed": true
   },
   "outputs": [],
   "source": [
    "importlib.reload(hcPlot)\n",
    "for i in range(hcData.shape[0]):\n",
    "    svgfilename='./hcPlots/hc' + str(i).zfill(2)\n",
    "    dwg = hcPlot.hcCanvas(svgfilename);\n",
    "    realCell = hcPlot.plotCell(dwg,hcData[i])\n",
    "    dwg.canvas.save()"
   ]
  },
  {
   "cell_type": "markdown",
   "metadata": {},
   "source": [
    "### Make a compound svg with all of them"
   ]
  },
  {
   "cell_type": "code",
   "execution_count": 189,
   "metadata": {
    "collapsed": true
   },
   "outputs": [],
   "source": [
    "from svgutils.compose import *\n",
    "\n",
    "nx=6\n",
    "ny=math.ceil(34/nx)\n",
    "\n",
    "sizeX = str(nx * 325)\n",
    "sizeY = str(ny * 250)\n",
    "\n",
    "Figure(sizeX, sizeY,\n",
    "       SVG(\"./hcPlots/hc00.svg\").scale(0.5),\n",
    "       SVG(\"./hcPlots/hc01.svg\").scale(0.5),\n",
    "       SVG(\"./hcPlots/hc02.svg\").scale(0.5),\n",
    "       \n",
    "       SVG(\"./hcPlots/hc03.svg\").scale(0.5),\n",
    "       SVG(\"./hcPlots/hc04.svg\").scale(0.5),\n",
    "       SVG(\"./hcPlots/hc05.svg\").scale(0.5),\n",
    "       \n",
    "       SVG(\"./hcPlots/hc06.svg\").scale(0.5),\n",
    "       SVG(\"./hcPlots/hc07.svg\").scale(0.5),\n",
    "       SVG(\"./hcPlots/hc08.svg\").scale(0.5),\n",
    "       \n",
    "       SVG(\"./hcPlots/hc09.svg\").scale(0.5),\n",
    "       SVG(\"./hcPlots/hc10.svg\").scale(0.5),\n",
    "       SVG(\"./hcPlots/hc11.svg\").scale(0.5),\n",
    "       \n",
    "       SVG(\"./hcPlots/hc12.svg\").scale(0.5),\n",
    "       SVG(\"./hcPlots/hc13.svg\").scale(0.5),\n",
    "       SVG(\"./hcPlots/hc14.svg\").scale(0.5),\n",
    "       \n",
    "       SVG(\"./hcPlots/hc15.svg\").scale(0.5),\n",
    "       SVG(\"./hcPlots/hc16.svg\").scale(0.5),\n",
    "       SVG(\"./hcPlots/hc17.svg\").scale(0.5),\n",
    "       \n",
    "       SVG(\"./hcPlots/hc18.svg\").scale(0.5),\n",
    "       SVG(\"./hcPlots/hc19.svg\").scale(0.5),\n",
    "       SVG(\"./hcPlots/hc20.svg\").scale(0.5),\n",
    "              \n",
    "       SVG(\"./hcPlots/hc21.svg\").scale(0.5),\n",
    "       SVG(\"./hcPlots/hc22.svg\").scale(0.5),\n",
    "       SVG(\"./hcPlots/hc23.svg\").scale(0.5),\n",
    "              \n",
    "       SVG(\"./hcPlots/hc24.svg\").scale(0.5),\n",
    "       SVG(\"./hcPlots/hc25.svg\").scale(0.5),\n",
    "       SVG(\"./hcPlots/hc26.svg\").scale(0.5),\n",
    "                     \n",
    "       SVG(\"./hcPlots/hc27.svg\").scale(0.5),\n",
    "       SVG(\"./hcPlots/hc28.svg\").scale(0.5),\n",
    "       SVG(\"./hcPlots/hc29.svg\").scale(0.5),\n",
    "                     \n",
    "       SVG(\"./hcPlots/hc30.svg\").scale(0.5),\n",
    "       SVG(\"./hcPlots/hc31.svg\").scale(0.5),\n",
    "       SVG(\"./hcPlots/hc32.svg\").scale(0.5),\n",
    "                            \n",
    "       SVG(\"./hcPlots/hc33.svg\").scale(0.5),\n",
    "\n",
    "       ).tile(nx, ny).save(\"test-svgwrite.svg\")\n",
    "svgreload()\n"
   ]
  },
  {
   "cell_type": "markdown",
   "metadata": {},
   "source": [
    "###### Things to do\n",
    "1. Make an svg for each cell - DONE!\n",
    "1. Make wrapper to make gallery - DONE! (using svgutils)\n",
    "1. Allow wrapper to change opacity of individual panels and change color accordingly to type\n",
    "    1. think I need to put an id handle in individual svgs to do this\n",
    "    1. try to put id according to cell type (H1, H2, H3 or Other)"
   ]
  },
  {
   "cell_type": "code",
   "execution_count": 169,
   "metadata": {},
   "outputs": [
    {
     "data": {
      "text/plain": [
       "'hc01'"
      ]
     },
     "execution_count": 169,
     "metadata": {},
     "output_type": "execute_result"
    }
   ],
   "source": []
  },
  {
   "cell_type": "code",
   "execution_count": 9,
   "metadata": {},
   "outputs": [
    {
     "data": {
      "text/plain": [
       "45.0"
      ]
     },
     "execution_count": 9,
     "metadata": {},
     "output_type": "execute_result"
    }
   ],
   "source": [
    "hcPlot.xy_angle(0,0,100,100)"
   ]
  },
  {
   "cell_type": "code",
   "execution_count": 165,
   "metadata": {
    "collapsed": true
   },
   "outputs": [],
   "source": [
    "\n",
    "\n",
    "# Figure(\"16cm\", \"6.5cm\",\n",
    "#        SVG(\"sigmoid_fit.svg\"),\n",
    "#        SVG(\"anscombe.svg\").scale(0.5)\n",
    "#        ).tile(2, 1)"
   ]
  },
  {
   "cell_type": "code",
   "execution_count": null,
   "metadata": {
    "collapsed": true
   },
   "outputs": [],
   "source": [
    "math.pow"
   ]
  },
  {
   "cell_type": "markdown",
   "metadata": {},
   "source": []
  },
  {
   "cell_type": "code",
   "execution_count": null,
   "metadata": {
    "collapsed": true
   },
   "outputs": [],
   "source": []
  },
  {
   "cell_type": "code",
   "execution_count": null,
   "metadata": {
    "collapsed": true
   },
   "outputs": [],
   "source": []
  },
  {
   "cell_type": "code",
   "execution_count": null,
   "metadata": {
    "collapsed": true
   },
   "outputs": [],
   "source": []
  }
 ],
 "metadata": {
  "kernelspec": {
   "display_name": "Python 3",
   "language": "python",
   "name": "python3"
  },
  "language_info": {
   "codemirror_mode": {
    "name": "ipython",
    "version": 3
   },
   "file_extension": ".py",
   "mimetype": "text/x-python",
   "name": "python",
   "nbconvert_exporter": "python",
   "pygments_lexer": "ipython3",
   "version": "3.6.3"
  }
 },
 "nbformat": 4,
 "nbformat_minor": 2
}
