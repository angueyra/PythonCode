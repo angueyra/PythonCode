{
 "cells": [
  {
   "cell_type": "markdown",
   "metadata": {},
   "source": [
    "--- \n",
    "## SVG Radar plot\n",
    "---\n",
    ">Would like this to make a generalized and fully customizable radar plot\n",
    ">Initially intended for zf_hC quantification and visualization.\n",
    "---\n",
    "\n",
    "Probably steps should be:\n",
    "1. Create unit polygon\n",
    "1. Create max polygon\n",
    "1. Create all the axis\n",
    "1. Create relevant polygons (every 4? 5? units)\n",
    "1. Create colored dots for each data point\n",
    "1. Create cell contour\n",
    "\n"
   ]
  },
  {
   "cell_type": "markdown",
   "metadata": {},
   "source": [
    ">Will first try to make very simple bars form data and export an svg first"
   ]
  },
  {
   "cell_type": "code",
   "execution_count": 50,
   "metadata": {},
   "outputs": [
    {
     "data": {
      "text/plain": [
       "18"
      ]
     },
     "execution_count": 50,
     "metadata": {},
     "output_type": "execute_result"
    }
   ],
   "source": [
    "import svgwrite\n",
    "\n",
    "mockData=[18,12,5,1,0]"
   ]
  },
  {
   "cell_type": "code",
   "execution_count": 53,
   "metadata": {},
   "outputs": [],
   "source": [
    "class Bar:\n",
    "    #Class attributes\n",
    "    scalar = 5;\n",
    "    w = 10 * scalar;\n",
    "    y_origin = 200;\n",
    "    def __init__(self,canvas,x,y,h,stroke=\"black\",fill=\"none\", stroke_width=4):\n",
    "        self.canvas = canvas\n",
    "        self.x = x\n",
    "        self.y = y\n",
    "        self.h = h * self.scalar\n",
    "        self.stroke = stroke\n",
    "        self.stroke_width = stroke_width\n",
    "        self.fill = fill\n",
    "    \n",
    "    def add(self):\n",
    "        self.canvas.add(self.canvas.rect(\n",
    "            insert = (self.x,self.y_origin - self.y),\n",
    "            size = (self.w, self.h),\n",
    "            stroke_width = self.stroke_width,\n",
    "            stroke = self.stroke,\n",
    "            fill = self.fill\n",
    "        ))\n",
    "\n",
    "class uvBar(Bar):\n",
    "    x = 50;\n",
    "    y = 20;\n",
    "    h = 20;\n",
    "    def run(self):\n",
    "        return \"{} runs {}\".format(blah, bluh)"
   ]
  },
  {
   "cell_type": "code",
   "execution_count": 49,
   "metadata": {},
   "outputs": [
    {
     "name": "stdout",
     "output_type": "stream",
     "text": [
      "<svg baseProfile=\"full\" height=\"1000px\" version=\"1.1\" width=\"1000px\" xmlns=\"http://www.w3.org/2000/svg\" xmlns:ev=\"http://www.w3.org/2001/xml-events\" xmlns:xlink=\"http://www.w3.org/1999/xlink\"><defs /><rect fill=\"rgb(240,240,240)\" height=\"500\" stroke=\"black\" width=\"500\" x=\"0\" y=\"0\" /><rect fill=\"red\" height=\"90\" stroke=\"green\" stroke-width=\"4\" width=\"50\" x=\"50\" y=\"180\" /></svg>\n"
     ]
    }
   ],
   "source": [
    "dwg = svgwrite.Drawing(filename = \"test-svgwrite.svg\",size = (\"1000px\", \"1000px\"))\n",
    "dwg.add(dwg.rect(insert = (0,0),size = (500,500),stroke=\"black\",fill=\"rgb(240,240,240)\"))\n",
    "\n",
    "testBar = Bar(dwg,50,20,mockData[0],\"green\",\"red\")\n",
    "testBar.add();\n",
    "print(dwg.tostring())\n",
    "dwg.save()"
   ]
  },
  {
   "cell_type": "code",
   "execution_count": 54,
   "metadata": {},
   "outputs": [
    {
     "ename": "TypeError",
     "evalue": "__init__() missing 4 required positional arguments: 'canvas', 'x', 'y', and 'h'",
     "output_type": "error",
     "traceback": [
      "\u001b[0;31m---------------------------------------------------------------------------\u001b[0m",
      "\u001b[0;31mTypeError\u001b[0m                                 Traceback (most recent call last)",
      "\u001b[0;32m<ipython-input-54-c0028913fb9d>\u001b[0m in \u001b[0;36m<module>\u001b[0;34m()\u001b[0m\n\u001b[0;32m----> 1\u001b[0;31m \u001b[0mtestBar\u001b[0m\u001b[0;34m=\u001b[0m\u001b[0muvBar\u001b[0m\u001b[0;34m(\u001b[0m\u001b[0;34m)\u001b[0m\u001b[0;34m;\u001b[0m\u001b[0;34m\u001b[0m\u001b[0m\n\u001b[0m",
      "\u001b[0;31mTypeError\u001b[0m: __init__() missing 4 required positional arguments: 'canvas', 'x', 'y', and 'h'"
     ]
    }
   ],
   "source": [
    "testBar=uvBar();"
   ]
  },
  {
   "cell_type": "code",
   "execution_count": null,
   "metadata": {},
   "outputs": [],
   "source": [
    "dwg = svgwrite.Drawing(filename = \"test-svgwrite.svg\",size = (\"100px\", \"100px\"))\n",
    "dwg.add(dwg.line(start=(0, 0), end=(50, 50), stroke=\"black\"))\n",
    "dwg.add(dwg.text('Test', insert=(0, 20), fill='red'))\n",
    "dwg.add(dwg.rect(insert = (20, 20),size = (\"40px\", \"40px\"),))\n",
    "print(dwg.tostring())\n",
    "dwg.save()"
   ]
  },
  {
   "cell_type": "code",
   "execution_count": null,
   "metadata": {},
   "outputs": [],
   "source": [
    "#this will work with svgwrite\n",
    "svg_doc = svgwrite.Drawing(filename = \"test-svgwrite.svg\",size = (\"100px\", \"100px\"))\n",
    "svg_doc.add(svg_doc.rect(insert = (20, 20),size = (\"40px\", \"40px\"),stroke_width = \"4\",stroke = \"green\",fill = \"rgb(255,255,0)\"))\n",
    "print(svg_doc.tostring())\n",
    "svg_doc.save()"
   ]
  },
  {
   "cell_type": "code",
   "execution_count": null,
   "metadata": {},
   "outputs": [],
   "source": [
    "# Parent class\n",
    "class Dog:\n",
    "\n",
    "    # Class attribute\n",
    "    species = 'mammal'\n",
    "\n",
    "    # Initializer / Instance attributes\n",
    "    def __init__(self, name, age):\n",
    "        self.name = name\n",
    "        self.age = age\n",
    "\n",
    "    # instance method\n",
    "    def description(self):\n",
    "        return \"{} is {} years old\".format(self.name, self.age)\n",
    "\n",
    "    # instance method\n",
    "    def speak(self, sound):\n",
    "        return \"{} says {}\".format(self.name, sound)\n",
    "\n",
    "\n",
    "# Child class (inherits from Dog() class)\n",
    "class RussellTerrier(Dog):\n",
    "    def run(self, speed):\n",
    "        return \"{} runs {}\".format(self.name, speed)\n",
    "\n",
    "\n",
    "# Child class (inherits from Dog() class)\n",
    "class Bulldog(Dog):\n",
    "    def run(self, speed):\n",
    "        return \"{} runs {}\".format(self.name, speed)"
   ]
  }
 ],
 "metadata": {
  "kernelspec": {
   "display_name": "Python 3",
   "language": "python",
   "name": "python3"
  },
  "language_info": {
   "codemirror_mode": {
    "name": "ipython",
    "version": 3
   },
   "file_extension": ".py",
   "mimetype": "text/x-python",
   "name": "python",
   "nbconvert_exporter": "python",
   "pygments_lexer": "ipython3",
   "version": "3.5.5"
  }
 },
 "nbformat": 4,
 "nbformat_minor": 2
}
