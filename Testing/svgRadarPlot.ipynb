{
 "cells": [
  {
   "cell_type": "markdown",
   "metadata": {},
   "source": [
    "--- \n",
    "## SVG Radar plot\n",
    "---\n",
    ">Almost generalized radar plot\n",
    ">Intended to visualize zf_hC and zf_bC specificity for photoreceptor subtypes.\n",
    "---\n",
    "\n",
    "This script:\n",
    "1. Creates all the axis\n",
    "1. Creates relevant polygons (every 5 units)\n",
    "1. Creates colored dots for each data point\n",
    "1. Creates cell contour\n",
    "1. Creates a side plot for the unassigned data\n",
    "\n"
   ]
  },
  {
   "cell_type": "code",
   "execution_count": 185,
   "metadata": {},
   "outputs": [],
   "source": [
    "import hcPlot\n",
    "import pandas\n",
    "import importlib\n",
    "\n",
    "def svgreload():\n",
    "    !osascript -e 'tell application \"Google Chrome\" to tell the active tab of second window to reload'"
   ]
  },
  {
   "cell_type": "code",
   "execution_count": 186,
   "metadata": {},
   "outputs": [],
   "source": [
    "hcDF=pandas.read_csv(\"/Users/angueyraaristjm/Dropbox/LiLab/hCAnalysis/201808_hcQuant_Nia.csv\")\n",
    "hcData=hcDF[['uv','s','m','l','r','z']].values"
   ]
  },
  {
   "cell_type": "code",
   "execution_count": 187,
   "metadata": {},
   "outputs": [
    {
     "data": {
      "text/plain": [
       "array([[12,  7,  0,  0,  0,  1],\n",
       "       [ 4,  4, 11,  2,  0,  0],\n",
       "       [ 5,  6, 12,  0,  0,  0],\n",
       "       [15, 11,  0,  0,  0,  0],\n",
       "       [19, 11,  0,  0,  0,  0],\n",
       "       [15, 13,  0,  0,  0,  0],\n",
       "       [ 5,  5, 10,  0,  0,  0],\n",
       "       [15, 13,  0,  0,  0,  1],\n",
       "       [ 3,  1,  8,  3,  0,  4],\n",
       "       [ 1,  1,  7,  6,  0,  1],\n",
       "       [ 0,  2,  7,  5,  0,  0],\n",
       "       [ 4,  4,  9, 10,  0,  1],\n",
       "       [ 0,  2,  7,  9,  0,  0],\n",
       "       [11,  7,  0,  1,  0,  1],\n",
       "       [15,  8,  0,  0,  0,  0],\n",
       "       [16,  9,  0,  0,  0,  0],\n",
       "       [ 1,  2,  8,  6,  0,  0],\n",
       "       [ 4,  5,  7,  0,  0,  0],\n",
       "       [ 0,  2,  8, 11,  0,  2],\n",
       "       [ 0,  2,  6, 12,  0,  0],\n",
       "       [ 0,  2,  9, 10,  0,  1],\n",
       "       [13, 12,  0,  0,  0,  2],\n",
       "       [ 0,  2,  9,  6,  0,  0],\n",
       "       [ 0,  1,  8, 10,  0,  3],\n",
       "       [15, 12,  0,  0,  0,  0],\n",
       "       [ 0,  0,  0,  0,  0,  0],\n",
       "       [ 3,  5,  8,  3,  0,  0],\n",
       "       [ 5,  7,  8,  2,  0,  0],\n",
       "       [ 0,  2,  7,  8,  0,  0],\n",
       "       [13, 11,  1,  1,  0,  0],\n",
       "       [ 0,  0,  3,  5,  0,  0],\n",
       "       [ 0,  3,  7,  8,  0,  0],\n",
       "       [ 0,  1,  6, 10,  0,  0],\n",
       "       [ 5,  3,  6,  0,  0,  0]])"
      ]
     },
     "execution_count": 187,
     "metadata": {},
     "output_type": "execute_result"
    }
   ],
   "source": [
    "hcData"
   ]
  },
  {
   "cell_type": "markdown",
   "metadata": {},
   "source": [
    "### Plot a single cell"
   ]
  },
  {
   "cell_type": "code",
   "execution_count": 166,
   "metadata": {},
   "outputs": [],
   "source": [
    "importlib.reload(hcPlot)\n",
    "dwg = hcPlot.hcCanvas('test-svgwrite');\n",
    "realCell = hcPlot.plotCell(dwg,hcData[2])\n",
    "dwg.canvas.save()\n",
    "print(dwg.canvas.tostring())\n",
    "svgreload()"
   ]
  },
  {
   "cell_type": "markdown",
   "metadata": {},
   "source": [
    "### Make and save plots all cells"
   ]
  },
  {
   "cell_type": "code",
   "execution_count": 188,
   "metadata": {},
   "outputs": [],
   "source": [
    "importlib.reload(hcPlot)\n",
    "for i in range(hcData.shape[0]):\n",
    "    svgfilename='./hcPlots/hc' + str(i).zfill(2)\n",
    "    dwg = hcPlot.hcCanvas(svgfilename);\n",
    "    realCell = hcPlot.plotCell(dwg,hcData[i])\n",
    "    dwg.canvas.save()"
   ]
  },
  {
   "cell_type": "markdown",
   "metadata": {},
   "source": [
    "### Make a compound svg with all of them"
   ]
  },
  {
   "cell_type": "code",
   "execution_count": 189,
   "metadata": {},
   "outputs": [],
   "source": [
    "from svgutils.compose import *\n",
    "\n",
    "nx=6\n",
    "ny=math.ceil(34/nx)\n",
    "\n",
    "sizeX = str(nx * 325)\n",
    "sizeY = str(ny * 250)\n",
    "\n",
    "Figure(sizeX, sizeY,\n",
    "       SVG(\"./hcPlots/hc00.svg\").scale(0.5),\n",
    "       SVG(\"./hcPlots/hc01.svg\").scale(0.5),\n",
    "       SVG(\"./hcPlots/hc02.svg\").scale(0.5),\n",
    "       \n",
    "       SVG(\"./hcPlots/hc03.svg\").scale(0.5),\n",
    "       SVG(\"./hcPlots/hc04.svg\").scale(0.5),\n",
    "       SVG(\"./hcPlots/hc05.svg\").scale(0.5),\n",
    "       \n",
    "       SVG(\"./hcPlots/hc06.svg\").scale(0.5),\n",
    "       SVG(\"./hcPlots/hc07.svg\").scale(0.5),\n",
    "       SVG(\"./hcPlots/hc08.svg\").scale(0.5),\n",
    "       \n",
    "       SVG(\"./hcPlots/hc09.svg\").scale(0.5),\n",
    "       SVG(\"./hcPlots/hc10.svg\").scale(0.5),\n",
    "       SVG(\"./hcPlots/hc11.svg\").scale(0.5),\n",
    "       \n",
    "       SVG(\"./hcPlots/hc12.svg\").scale(0.5),\n",
    "       SVG(\"./hcPlots/hc13.svg\").scale(0.5),\n",
    "       SVG(\"./hcPlots/hc14.svg\").scale(0.5),\n",
    "       \n",
    "       SVG(\"./hcPlots/hc15.svg\").scale(0.5),\n",
    "       SVG(\"./hcPlots/hc16.svg\").scale(0.5),\n",
    "       SVG(\"./hcPlots/hc17.svg\").scale(0.5),\n",
    "       \n",
    "       SVG(\"./hcPlots/hc18.svg\").scale(0.5),\n",
    "       SVG(\"./hcPlots/hc19.svg\").scale(0.5),\n",
    "       SVG(\"./hcPlots/hc20.svg\").scale(0.5),\n",
    "              \n",
    "       SVG(\"./hcPlots/hc21.svg\").scale(0.5),\n",
    "       SVG(\"./hcPlots/hc22.svg\").scale(0.5),\n",
    "       SVG(\"./hcPlots/hc23.svg\").scale(0.5),\n",
    "              \n",
    "       SVG(\"./hcPlots/hc24.svg\").scale(0.5),\n",
    "       SVG(\"./hcPlots/hc25.svg\").scale(0.5),\n",
    "       SVG(\"./hcPlots/hc26.svg\").scale(0.5),\n",
    "                     \n",
    "       SVG(\"./hcPlots/hc27.svg\").scale(0.5),\n",
    "       SVG(\"./hcPlots/hc28.svg\").scale(0.5),\n",
    "       SVG(\"./hcPlots/hc29.svg\").scale(0.5),\n",
    "                     \n",
    "       SVG(\"./hcPlots/hc30.svg\").scale(0.5),\n",
    "       SVG(\"./hcPlots/hc31.svg\").scale(0.5),\n",
    "       SVG(\"./hcPlots/hc32.svg\").scale(0.5),\n",
    "                            \n",
    "       SVG(\"./hcPlots/hc33.svg\").scale(0.5),\n",
    "\n",
    "       ).tile(nx, ny).save(\"test-svgwrite.svg\")\n",
    "svgreload()\n"
   ]
  },
  {
   "cell_type": "markdown",
   "metadata": {},
   "source": [
    "###### Things to do\n",
    "1. Make an svg for each cell\n",
    "1. Make wrapper to make gallery\n",
    "1. Allow wrapper to change opacity of individual panels and change color accordingly to type"
   ]
  },
  {
   "cell_type": "code",
   "execution_count": 169,
   "metadata": {},
   "outputs": [
    {
     "data": {
      "text/plain": [
       "'hc01'"
      ]
     },
     "execution_count": 169,
     "metadata": {},
     "output_type": "execute_result"
    }
   ],
   "source": []
  },
  {
   "cell_type": "code",
   "execution_count": 9,
   "metadata": {},
   "outputs": [
    {
     "data": {
      "text/plain": [
       "45.0"
      ]
     },
     "execution_count": 9,
     "metadata": {},
     "output_type": "execute_result"
    }
   ],
   "source": [
    "hcPlot.xy_angle(0,0,100,100)"
   ]
  },
  {
   "cell_type": "code",
   "execution_count": 165,
   "metadata": {},
   "outputs": [],
   "source": [
    "\n",
    "\n",
    "# Figure(\"16cm\", \"6.5cm\",\n",
    "#        SVG(\"sigmoid_fit.svg\"),\n",
    "#        SVG(\"anscombe.svg\").scale(0.5)\n",
    "#        ).tile(2, 1)"
   ]
  },
  {
   "cell_type": "code",
   "execution_count": null,
   "metadata": {},
   "outputs": [],
   "source": [
    "math.pow"
   ]
  },
  {
   "cell_type": "markdown",
   "metadata": {},
   "source": []
  },
  {
   "cell_type": "code",
   "execution_count": null,
   "metadata": {},
   "outputs": [],
   "source": []
  },
  {
   "cell_type": "code",
   "execution_count": null,
   "metadata": {},
   "outputs": [],
   "source": []
  },
  {
   "cell_type": "code",
   "execution_count": null,
   "metadata": {},
   "outputs": [],
   "source": []
  }
 ],
 "metadata": {
  "kernelspec": {
   "display_name": "Python 3",
   "language": "python",
   "name": "python3"
  },
  "language_info": {
   "codemirror_mode": {
    "name": "ipython",
    "version": 3
   },
   "file_extension": ".py",
   "mimetype": "text/x-python",
   "name": "python",
   "nbconvert_exporter": "python",
   "pygments_lexer": "ipython3",
   "version": "3.5.5"
  }
 },
 "nbformat": 4,
 "nbformat_minor": 2
}
