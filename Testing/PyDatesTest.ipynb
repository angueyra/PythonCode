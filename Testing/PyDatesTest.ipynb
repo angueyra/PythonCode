{
 "cells": [
  {
   "cell_type": "code",
   "execution_count": 2,
   "metadata": {
    "collapsed": false,
    "slideshow": {
     "slide_type": "-"
    }
   },
   "outputs": [
    {
     "name": "stdout",
     "output_type": "stream",
     "text": [
      "-June\n",
      "\t- June 00th - 04th\n",
      "\t\t- Monday 00th\n",
      "\t\t- Tuesday 00th\n",
      "\t\t- Wednesday 00th\n",
      "\t\t- Thursday 01st\n",
      "\t\t- Friday 02nd\n",
      "\t\t- Saturday 03rd\n",
      "\t\t- Sunday 04th\n",
      "\t- June 05th - 11th\n",
      "\t\t- Monday 05th\n",
      "\t\t- Tuesday 06th\n",
      "\t\t- Wednesday 07th\n",
      "\t\t- Thursday 08th\n",
      "\t\t- Friday 09th\n",
      "\t\t- Saturday 10th\n",
      "\t\t- Sunday 11th\n",
      "\t- June 12th - 18th\n",
      "\t\t- Monday 12th\n",
      "\t\t- Tuesday 13th\n",
      "\t\t- Wednesday 14th\n",
      "\t\t- Thursday 15th\n",
      "\t\t- Friday 16th\n",
      "\t\t- Saturday 17th\n",
      "\t\t- Sunday 18th\n",
      "\t- June 19th - 25th\n",
      "\t\t- Monday 19th\n",
      "\t\t- Tuesday 20th\n",
      "\t\t- Wednesday 21th\n",
      "\t\t- Thursday 22th\n",
      "\t\t- Friday 23th\n",
      "\t\t- Saturday 24th\n",
      "\t\t- Sunday 25th\n",
      "\t- June 26th - 00th\n",
      "\t\t- Monday 26th\n",
      "\t\t- Tuesday 27th\n",
      "\t\t- Wednesday 28th\n",
      "\t\t- Thursday 29th\n",
      "\t\t- Friday 30th\n",
      "\t\t- Saturday 00th\n",
      "\t\t- Sunday 00th\n"
     ]
    }
   ],
   "source": [
    "import calendar\n",
    "st_week=['Monday', 'Tuesday', 'Wednesday', 'Thursday', 'Friday', 'Saturday', 'Sunday']\n",
    "st_months=['January','February','March','April','May','June','July','August','September','October','November','December']\n",
    "def dprint(dnumber):\n",
    "    if dnumber==1:\n",
    "        ith = 'st'\n",
    "    elif dnumber==2:\n",
    "        ith = 'nd'\n",
    "    elif dnumber==3:\n",
    "        ith = 'rd'\n",
    "    else:\n",
    "        ith='th'\n",
    "    d='{:02g}'.format(dnumber) + ith\n",
    "    return d\n",
    "\n",
    "monthi=6\n",
    "month=st_months[monthi-1]\n",
    "calmonth=calendar.monthcalendar(2017,monthi)\n",
    "print ('-' + month)\n",
    "for i in range(len(calmonth)):\n",
    "    print ('\\t- '+ month + ' ' + dprint(calmonth[i][0]) + ' - ' + dprint(calmonth[i][6]))\n",
    "    for d in range(len(st_week)):\n",
    "        print ('\\t\\t- ' + st_week[d] + ' ' + dprint(calmonth[i][d]))\n"
   ]
  },
  {
   "cell_type": "code",
   "execution_count": null,
   "metadata": {
    "collapsed": true
   },
   "outputs": [],
   "source": []
  },
  {
   "cell_type": "code",
   "execution_count": null,
   "metadata": {
    "collapsed": true
   },
   "outputs": [],
   "source": []
  }
 ],
 "metadata": {
  "celltoolbar": "Slideshow",
  "kernelspec": {
   "display_name": "Python 3",
   "language": "python",
   "name": "python3"
  },
  "language_info": {
   "codemirror_mode": {
    "name": "ipython",
    "version": 3
   },
   "file_extension": ".py",
   "mimetype": "text/x-python",
   "name": "python",
   "nbconvert_exporter": "python",
   "pygments_lexer": "ipython3",
   "version": "3.5.2"
  }
 },
 "nbformat": 4,
 "nbformat_minor": 1
}
