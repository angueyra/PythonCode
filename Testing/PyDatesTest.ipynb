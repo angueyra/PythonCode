{
 "cells": [
  {
   "cell_type": "code",
   "execution_count": 3,
   "metadata": {
    "slideshow": {
     "slide_type": "-"
    }
   },
   "outputs": [
    {
     "name": "stdout",
     "output_type": "stream",
     "text": [
      "-August\n",
      "\t- August 00th - 06th\n",
      "\t\t- Monday 00th\n",
      "\t\t- Tuesday 01st\n",
      "\t\t- Wednesday 02nd\n",
      "\t\t- Thursday 03rd\n",
      "\t\t- Friday 04th\n",
      "\t\t- Saturday 05th\n",
      "\t\t- Sunday 06th\n",
      "\t- August 07th - 13th\n",
      "\t\t- Monday 07th\n",
      "\t\t- Tuesday 08th\n",
      "\t\t- Wednesday 09th\n",
      "\t\t- Thursday 10th\n",
      "\t\t- Friday 11th\n",
      "\t\t- Saturday 12th\n",
      "\t\t- Sunday 13th\n",
      "\t- August 14th - 20th\n",
      "\t\t- Monday 14th\n",
      "\t\t- Tuesday 15th\n",
      "\t\t- Wednesday 16th\n",
      "\t\t- Thursday 17th\n",
      "\t\t- Friday 18th\n",
      "\t\t- Saturday 19th\n",
      "\t\t- Sunday 20th\n",
      "\t- August 21th - 27th\n",
      "\t\t- Monday 21th\n",
      "\t\t- Tuesday 22th\n",
      "\t\t- Wednesday 23th\n",
      "\t\t- Thursday 24th\n",
      "\t\t- Friday 25th\n",
      "\t\t- Saturday 26th\n",
      "\t\t- Sunday 27th\n",
      "\t- August 28th - 00th\n",
      "\t\t- Monday 28th\n",
      "\t\t- Tuesday 29th\n",
      "\t\t- Wednesday 30th\n",
      "\t\t- Thursday 31th\n",
      "\t\t- Friday 00th\n",
      "\t\t- Saturday 00th\n",
      "\t\t- Sunday 00th\n"
     ]
    }
   ],
   "source": [
    "import calendar\n",
    "st_week=['Monday', 'Tuesday', 'Wednesday', 'Thursday', 'Friday', 'Saturday', 'Sunday']\n",
    "st_months=['January','February','March','April','May','June','July','August','September','October','November','December']\n",
    "def dprint(dnumber):\n",
    "    if dnumber==1:\n",
    "        ith = 'st'\n",
    "    elif dnumber==2:\n",
    "        ith = 'nd'\n",
    "    elif dnumber==3:\n",
    "        ith = 'rd'\n",
    "    else:\n",
    "        ith='th'\n",
    "    d='{:02g}'.format(dnumber) + ith\n",
    "    return d\n",
    "\n",
    "monthi=8\n",
    "month=st_months[monthi-1]\n",
    "calmonth=calendar.monthcalendar(2017,monthi)\n",
    "print ('-' + month)\n",
    "for i in range(len(calmonth)):\n",
    "    print ('\\t- '+ month + ' ' + dprint(calmonth[i][0]) + ' - ' + dprint(calmonth[i][6]))\n",
    "    for d in range(len(st_week)):\n",
    "        print ('\\t\\t- ' + st_week[d] + ' ' + dprint(calmonth[i][d]))\n"
   ]
  },
  {
   "cell_type": "code",
   "execution_count": null,
   "metadata": {
    "collapsed": true
   },
   "outputs": [],
   "source": []
  },
  {
   "cell_type": "code",
   "execution_count": null,
   "metadata": {
    "collapsed": true
   },
   "outputs": [],
   "source": []
  }
 ],
 "metadata": {
  "celltoolbar": "Slideshow",
  "kernelspec": {
   "display_name": "Python 3",
   "language": "python",
   "name": "python3"
  },
  "language_info": {
   "codemirror_mode": {
    "name": "ipython",
    "version": 3
   },
   "file_extension": ".py",
   "mimetype": "text/x-python",
   "name": "python",
   "nbconvert_exporter": "python",
   "pygments_lexer": "ipython3",
   "version": "3.5.3"
  }
 },
 "nbformat": 4,
 "nbformat_minor": 1
}
