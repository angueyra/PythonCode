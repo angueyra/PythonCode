{
 "cells": [
  {
   "cell_type": "markdown",
   "metadata": {},
   "source": [
    "## Example Sequence Alignment Viewer\n",
    "\n",
    "Links \n",
    "\n",
    "* https://bokeh.pydata.org/en/latest/docs/user_guide.html\n",
    "* https://realpython.com/python-data-visualization-bokeh/"
   ]
  },
  {
   "cell_type": "code",
   "execution_count": null,
   "metadata": {},
   "outputs": [],
   "source": [
    "# !pip install panel"
   ]
  },
  {
   "cell_type": "code",
   "execution_count": null,
   "metadata": {},
   "outputs": [],
   "source": [
    "import os, io, random\n",
    "import string\n",
    "import numpy as np\n",
    "\n",
    "from Bio.Seq import Seq\n",
    "from Bio.SeqRecord import SeqRecord\n",
    "from Bio.Align import MultipleSeqAlignment\n",
    "from Bio import AlignIO, SeqIO\n",
    "\n",
    "from IPython.display import HTML\n",
    "import panel as pn\n",
    "import panel.widgets as pnw\n",
    "pn.extension()\n",
    "\n",
    "from bokeh.plotting import figure\n",
    "from bokeh.models import ColumnDataSource, Plot, LinearAxis, Grid, Range1d\n",
    "from bokeh.models.glyphs import Text, Rect\n",
    "from bokeh.layouts import gridplot, column"
   ]
  },
  {
   "cell_type": "code",
   "execution_count": null,
   "metadata": {},
   "outputs": [],
   "source": [
    "def muscle_alignment(seqs):\n",
    "    \"\"\"Align 2 sequences with muscle\"\"\"\n",
    "\n",
    "    filename = 'temp.faa'\n",
    "    SeqIO.write(seqs, filename, \"fasta\")\n",
    "    name = os.path.splitext(filename)[0]\n",
    "    from Bio.Align.Applications import MuscleCommandline\n",
    "    cline = MuscleCommandline(input=filename, out=name+'.txt')\n",
    "    stdout, stderr = cline()\n",
    "    align = AlignIO.read(name+'.txt', 'fasta')\n",
    "    return align\n"
   ]
  },
  {
   "cell_type": "markdown",
   "metadata": {},
   "source": [
    "## helper functions"
   ]
  },
  {
   "cell_type": "code",
   "execution_count": null,
   "metadata": {},
   "outputs": [],
   "source": [
    "def make_seq(length=40):    \n",
    "    return ''.join([random.choice(['A','C','T','G']) for i in range(length)])\n",
    "\n",
    "def mutate_seq(seq):\n",
    "    #mutate a sequence randomly\n",
    "    seq = list(seq)\n",
    "    pos = np.random.randint(1,len(seq),6)    \n",
    "    for i in pos:\n",
    "        seq[i] = random.choice(['A','C','T','G'])\n",
    "    return ''.join(seq)\n",
    "\n",
    "def get_colors(seqs):\n",
    "    #make colors for bases in sequence\n",
    "    text = [i for s in list(seqs) for i in s]\n",
    "    clrs =  {'A':'red','T':'green','G':'orange','C':'blue','-':'white'}\n",
    "    colors = [clrs[i] for i in text]\n",
    "    return colors\n",
    "\n",
    "seq = 'AGTCCGTTTT'\n",
    "mutate_seq(seq)"
   ]
  },
  {
   "cell_type": "markdown",
   "metadata": {},
   "source": [
    "## plot sequence method"
   ]
  },
  {
   "cell_type": "code",
   "execution_count": null,
   "metadata": {},
   "outputs": [],
   "source": [
    "def view_alignment(aln, fontsize=\"9pt\", plot_width=800):\n",
    "    \"\"\"Bokeh sequence alignment view\"\"\"\n",
    "    \n",
    "    seqs = [rec.seq for rec in (aln)]\n",
    "    ids = [rec.id for rec in aln]    \n",
    "    text = [i for s in list(seqs) for i in s]\n",
    "    colors = get_colors(seqs)    \n",
    "    N = len(seqs[0])\n",
    "    S = len(seqs)    \n",
    "    width = .4\n",
    "    \n",
    "    x = np.arange(1, N+1)\n",
    "    y = np.arange(0,S,1)    \n",
    "    xx, yy = np.meshgrid(x, y)\n",
    "    gx = xx.ravel()\n",
    "    gy = yy.flatten()\n",
    "    recty = gy+.5\n",
    "    h= 1/S\n",
    "\n",
    "    source = ColumnDataSource(dict(x=gx, y=gy, recty=recty, text=text, colors=colors))\n",
    "    plot_height = len(seqs)*15+50\n",
    "    x_range = Range1d(0,N+1, bounds='auto')\n",
    "    if N>100:\n",
    "        viewlen=100\n",
    "    else:\n",
    "        viewlen=N\n",
    "    view_range = (0,viewlen)\n",
    "    tools=\"xpan, xwheel_zoom, reset, save\"\n",
    "\n",
    "    #entire sequence view (no text, with zoom)\n",
    "    p = figure(title=None, plot_width= plot_width, plot_height=50, x_range=x_range, y_range=(0,S), tools=tools, \n",
    "                    min_border=0, toolbar_location='below')\n",
    "    rects = Rect(x=\"x\", y=\"recty\",  width=1, height=1, fill_color=\"colors\", line_color=None, fill_alpha=0.6)\n",
    "    p.add_glyph(source, rects)\n",
    "    p.yaxis.visible = False\n",
    "    p.grid.visible = False  \n",
    "    \n",
    "    #sequence text view with ability to scroll along x axis\n",
    "    p1 = figure(title=None, plot_width=plot_width, plot_height=plot_height, x_range=view_range, y_range=ids, tools=\"xpan,reset\", \n",
    "                    min_border=0, toolbar_location='below')#, lod_factor=1)          \n",
    "    glyph = Text(x=\"x\", y=\"y\", text=\"text\", text_align='center',text_color=\"black\", text_font=\"monospace\",text_font_size=fontsize)\n",
    "    rects = Rect(x=\"x\", y=\"recty\",  width=1, height=1, fill_color=\"colors\", line_color=None, fill_alpha=0.4)\n",
    "    p1.add_glyph(source, glyph)\n",
    "    p1.add_glyph(source, rects)\n",
    "  \n",
    "    p1.grid.visible = False\n",
    "    p1.xaxis.major_label_text_font_style = \"bold\"\n",
    "    p1.yaxis.minor_tick_line_width = 0\n",
    "    p1.yaxis.major_tick_line_width = 0\n",
    "        \n",
    "    p = gridplot([[p],[p1]], toolbar_location='below')\n",
    "    return p\n",
    "\n",
    "seqs = ['TATAAACCGCATAACACGCAAGAACCG','CATACACGTCATAACACGCAAGAAA-A']\n",
    "\n",
    "aln = AlignIO.read('test.aln','fasta')\n",
    "p = view_alignment(aln, plot_width=900)\n",
    "pn.pane.Bokeh(p)\n"
   ]
  },
  {
   "cell_type": "markdown",
   "metadata": {},
   "source": [
    "## sequence aligner app"
   ]
  },
  {
   "cell_type": "code",
   "execution_count": null,
   "metadata": {},
   "outputs": [],
   "source": [
    "title = pn.pane.Markdown('## Sequence aligner')\n",
    "load_btn = pn.widgets.FileInput()\n",
    "aln_btn = pn.widgets.Button(name='align',width=100,button_type='primary')\n",
    "randomseq_btn = pn.widgets.Button(name='random seqs',width=100,button_type='primary')\n",
    "numseqs_input = pn.widgets.IntSlider(name='sequences',start=2,end=50,value=5,width=200)\n",
    "length_input = pn.widgets.IntSlider(name='length',start=10,end=500,value=50,width=200)\n",
    "\n",
    "seq_pane = pn.pane.Str(name='sequences',height=300)\n",
    "result = pn.pane.Str(\"empty\",width=600)\n",
    "bokeh_pane = pn.pane.Bokeh(height=100,margin=10)\n",
    "\n",
    "def create_sequences(event):\n",
    "    s=''\n",
    "    seqlen = length_input.value\n",
    "    startseq = make_seq(seqlen)\n",
    "    num = numseqs_input.value\n",
    "    for i in range(num):\n",
    "        seq = mutate_seq(startseq)\n",
    "        name = ''.join([random.choice(string.ascii_lowercase) for i in range(10)])\n",
    "        s+='>%s\\n' %name + seq+'\\n'\n",
    "    seq_pane.object = s\n",
    "    return \n",
    "\n",
    "def align(event):\n",
    "    #this function does the alignment using the textinput values    \n",
    "    #aln = pairwise2.align.globalxx(seq1.value, seq2.value)\n",
    "    #s1=SeqRecord(Seq(seq1.value),id='a');\n",
    "    #print (s1)\n",
    "    \n",
    "    s = seq_pane.object\n",
    "    sequences = SeqIO.parse(io.StringIO(s),format='fasta')\n",
    "    sequences = [rec for rec in sequences]\n",
    "    aln = muscle_alignment(sequences)    \n",
    "    #the result widget is then updated    \n",
    "    result.object = aln\n",
    "    #aligned = [rec.seq for rec in (aln)]\n",
    "    bokeh_pane.object = view_alignment(aln,fontsize=\"7pt\",plot_width=600)\n",
    "    return \n",
    "\n",
    "aln_btn.param.watch(align, 'clicks')\n",
    "randomseq_btn.param.watch(create_sequences, 'clicks')\n",
    "\n",
    "top = pn.Row(aln_btn,randomseq_btn,length_input,numseqs_input)\n",
    "bottom = pn.Row(seq_pane,bokeh_pane, sizing_mode='stretch_height')\n",
    "app2 = pn.Column(title,top,bottom)\n",
    "app2"
   ]
  },
  {
   "cell_type": "code",
   "execution_count": null,
   "metadata": {},
   "outputs": [],
   "source": []
  }
 ],
 "metadata": {
  "kernelspec": {
   "display_name": "Python 3",
   "language": "python",
   "name": "python3"
  },
  "language_info": {
   "codemirror_mode": {
    "name": "ipython",
    "version": 3
   },
   "file_extension": ".py",
   "mimetype": "text/x-python",
   "name": "python",
   "nbconvert_exporter": "python",
   "pygments_lexer": "ipython3",
   "version": "3.7.4"
  }
 },
 "nbformat": 4,
 "nbformat_minor": 4
}
