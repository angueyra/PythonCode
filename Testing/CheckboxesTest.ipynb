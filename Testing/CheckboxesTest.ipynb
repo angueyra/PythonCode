{
 "cells": [
  {
   "cell_type": "code",
   "execution_count": 9,
   "metadata": {
    "collapsed": true
   },
   "outputs": [],
   "source": [
    "import pandas\n",
    "import h5py"
   ]
  },
  {
   "cell_type": "code",
   "execution_count": 10,
   "metadata": {
    "collapsed": false
   },
   "outputs": [],
   "source": [
    "class espion_file:\n",
    "    \"\"\"Loader for erg ESPION CSV files into Python\"\"\"\n",
    "    def __init__(self, filepath, filename, species):\n",
    "        self.basedir = \"/Users/angueyraaristjm/Documents/LiData/invivoERG/\"\n",
    "        self.filepath = filepath\n",
    "        self.filename = filename\n",
    "        self.savepath = self.basedir + self.filepath + \"/\"\n",
    "        self.fullpath = self.savepath + self.filename + \".csv\"\n",
    "        self.species = species\n",
    "        self.metadata = self.pull_metadata()\n",
    "        self.datatable = self.pull_datatable()\n",
    "        self.data = self.pull_data()\n",
    "        self.HDF5remap()\n",
    "    \n",
    "    def pull_metadata(self):\n",
    "        # pull and parse metadata information\n",
    "        csvparams = pandas.read_csv(self.fullpath, header=1, usecols=[0, 1], nrows=10)\n",
    "        csvparams = csvparams.dropna()\n",
    "        metadata = dict()\n",
    "        intfields = [\"Steps\", \"Channels\"]\n",
    "        datefields = [\"DOB\", \"Date performed\"]\n",
    "        for i in range(1, 10):\n",
    "            if csvparams.Parameter[i] in intfields:\n",
    "                metadata[csvparams.Parameter[i]] = int(csvparams.Value[i])\n",
    "            elif csvparams.Parameter[i] in datefields:\n",
    "                metadata[csvparams.Parameter[i]] = pandas.to_datetime(csvparams.Value[i])\n",
    "            elif csvparams.Parameter[i] == \"Family Name\":\n",
    "                metadata[\"ID\"] = csvparams.Value[i]\n",
    "            else: \n",
    "                metadata[csvparams.Parameter[i]] = csvparams.Value[i]\n",
    "        metadata['Species'] = self.species\n",
    "        return metadata\n",
    "                \n",
    "    def pull_datatable(self):\n",
    "        # pull datatable to parse data\n",
    "        fullcsv = pandas.read_csv(self.fullpath, header=0)\n",
    "        if \"Data Table\" in fullcsv:\n",
    "            # print(\"Data Table is Right\")\n",
    "            datatable = pandas.read_csv(self.fullpath, header=1, usecols=[3, 4, 5, 8])\n",
    "            datatable = datatable.dropna()\n",
    "            datatable = datatable.astype(int)\n",
    "        if fullcsv.ix[12, 0] == \"Data Table\":\n",
    "            # print(\"Data Table is Below\")\n",
    "            datatable = pandas.read_csv(self.fullpath, header=1, usecols=[0, 1, 2, 5], skiprows=13)\n",
    "            datatable = datatable.dropna()\n",
    "            datatable = datatable.astype(int)\n",
    "        return datatable\n",
    "    \n",
    "    def pull_data(self):\n",
    "        # parse data based on data table\n",
    "        fullcsv = pandas.read_csv(self.fullpath, header=0)\n",
    "        data = dict()\n",
    "        for step in range(self.metadata['Steps']):\n",
    "            stepname = \"Step\" + str(step+1).zfill(2)\n",
    "            # print(stepname)\n",
    "            ch1start = self.datatable.Column[(self.datatable.Step==(int(step+1))) & (self.datatable.Chan==1)]\n",
    "            ch2start = self.datatable.Column[(self.datatable.Step==(int(step+1))) & (self.datatable.Chan==2)]\n",
    "            ntrials = self.datatable.Trials[(self.datatable.Step==(int(step+1))) & (self.datatable.Chan==1)]\n",
    "            if len(ch1start)==1:\n",
    "                #normally each step runs only once but if it's repeated, ESPION doubles the entries\n",
    "                ch1start = int(ch1start)\n",
    "                ch2start = int(ch2start-1)\n",
    "                ntrials = int(ntrials)\n",
    "            elif len(ch1start.unique())==1:\n",
    "                #found duplicates but all have the same column start\n",
    "                ch1start = int(ch1start.unique())\n",
    "                ch2start = int(ch2start.unique()-1)\n",
    "                ntrials = int(ntrials.sum())\n",
    "            data[stepname] = self.espion_step(ch1start=ch1start, ch2start=ch2start, ntrials=ntrials, csvtable=fullcsv)\n",
    "        return data\n",
    "    \n",
    "    @staticmethod\n",
    "    def espion_step(ch1start, ch2start, ntrials, csvtable):\n",
    "        \"\"\"Loader for a single erg ESPION step\"\"\"\n",
    "        colstart = ch1start-1\n",
    "        colend = colstart+1+(ntrials*2)\n",
    "        currcsv = csvtable.ix[0:, colstart:colend].copy(deep=0)\n",
    "        currcsv = currcsv.dropna().reset_index(drop=True)\n",
    "        currcsv = currcsv.drop(0).reset_index(drop=True)\n",
    "        colnames = []\n",
    "        ch1cnt = 0\n",
    "        ch2cnt = 0\n",
    "        for i in range(0, len(currcsv.columns)):\n",
    "            currcsv.ix[0:, i] = pandas.to_numeric(currcsv.ix[0:, i])\n",
    "            if i == 0:\n",
    "                colnames.append('t')\n",
    "            elif 1 <= i < 1+ntrials:\n",
    "                ch1cnt += 1\n",
    "                colnames.append('L' + str(ch1cnt).zfill(2))\n",
    "            elif 1+ntrials <= i < 1+(ntrials*2):\n",
    "                ch2cnt += 1\n",
    "                colnames.append('R' + str(ch2cnt).zfill(2))\n",
    "        currcsv.columns = colnames\n",
    "        currcsv = currcsv.divide(1000)\n",
    "        csvoutput = currcsv.copy()\n",
    "        return csvoutput\n",
    "\n",
    "    def HDF5remap(self):\n",
    "        dt = h5py.special_dtype(vlen=bytes)\n",
    "        intfields = [\"Steps\", \"Channels\"]\n",
    "        \n",
    "        h5name = self.savepath + self.filename + \".h5\"\n",
    "        # print('\\nSaving h5 file...')\n",
    "        with h5py.File(h5name, 'w') as hfile:\n",
    "#             print('\\tFrom datatable:')\n",
    "            for col in self.datatable.columns:\n",
    "                hfile.create_dataset(col.replace(' ','_'), data=self.datatable.get(col))\n",
    "#                 print('\\t\\t'+ col)\n",
    "#             print('\\tFrom metadata:')\n",
    "            for key in self.metadata:\n",
    "                if key in intfields:\n",
    "                    hfile.attrs.create(key.replace(' ','_'), data=self.metadata[key])\n",
    "                else:\n",
    "                    hfile.attrs.create(key.replace(' ','_'), data=str(self.metadata[key]), dtype=dt)\n",
    "#                 print('\\t\\t' + key)\n",
    "            # print('\\tFrom data:')\n",
    "            for step in self.data:\n",
    "                group = hfile.create_group(step)\n",
    "                group.create_dataset('t', data=self.data[step].filter(regex = 't'))\n",
    "                group.create_dataset('L', data=self.data[step].filter(regex = 'L'))\n",
    "                group.create_dataset('R', data=self.data[step].filter(regex = 'R'))\n",
    "                # print('\\t\\t' + step)\n",
    "        print('Saved to: ' + h5name)"
   ]
  },
  {
   "cell_type": "code",
   "execution_count": 12,
   "metadata": {
    "collapsed": false
   },
   "outputs": [
    {
     "name": "stdout",
     "output_type": "stream",
     "text": [
      "Saved to: /Users/angueyraaristjm/Documents/LiData/invivoERG/20160422/01_1sG.h5\n"
     ]
    }
   ],
   "source": [
    "a = espion_file(\"20160422\", \"01_1sG\", \"Squirrel\")\n",
    "# a = espion_file(\"20160422\", \"02_IseriesXe\", \"Squirrel\")\n",
    "# print(\"a.datatable is \" + str(len(a.datatable.axes[0])) + \" x \" + str(len(a.datatable.axes[1])))\n",
    "#b = espion_file(\"20160422\", \"02_IseriesXe\", \"Squirrel\")\n",
    "#print(\"b.datatable is \" + str(len(b.datatable.axes[0])) + \" x \" + str(len(b.datatable.axes[1])))"
   ]
  },
  {
   "cell_type": "code",
   "execution_count": null,
   "metadata": {
    "collapsed": false
   },
   "outputs": [],
   "source": [
    "print(a.metadata)\n",
    "\n",
    "# print(str(format(aa,'%2f'))\n",
    "# print(a.datatable)\n",
    "# print(a.data['Step2'].head())\n",
    "# print(a.data['Step1'].filter(regex = \"R\"))"
   ]
  },
  {
   "cell_type": "code",
   "execution_count": 6,
   "metadata": {
    "collapsed": false
   },
   "outputs": [
    {
     "name": "stdout",
     "output_type": "stream",
     "text": [
      "Data_p\n"
     ]
    }
   ],
   "source": [
    "s=str('Data p').replace(' ','_')\n",
    "print(s)"
   ]
  },
  {
   "cell_type": "code",
   "execution_count": null,
   "metadata": {
    "collapsed": false
   },
   "outputs": [],
   "source": []
  },
  {
   "cell_type": "code",
   "execution_count": null,
   "metadata": {
    "collapsed": false
   },
   "outputs": [],
   "source": []
  },
  {
   "cell_type": "code",
   "execution_count": null,
   "metadata": {
    "collapsed": true
   },
   "outputs": [],
   "source": []
  },
  {
   "cell_type": "code",
   "execution_count": null,
   "metadata": {
    "collapsed": true
   },
   "outputs": [],
   "source": [
    "import matplotlib\n",
    "import matplotlib.pyplot as plt\n",
    "from ipywidgets import interact, ToggleButton, Checkbox\n",
    "\n",
    "plt.style.use('ggplot')\n",
    "%matplotlib inline\n",
    "%matplotlib notebook\n",
    "matplotlib.rc('axes', labelcolor='white') \n",
    "matplotlib.rc('xtick', color='white')\n",
    "matplotlib.rc('ytick', color='white')\n",
    "matplotlib.rc('font', size=8)\n",
    "matplotlib.rc('figure', dpi=100)"
   ]
  },
  {
   "cell_type": "code",
   "execution_count": null,
   "metadata": {
    "collapsed": false
   },
   "outputs": [],
   "source": [
    "fig = plt.figure(figsize=(6, 5))\n",
    "aH = fig.add_subplot(111)\n",
    "#fig = plt.figure()\n",
    "#aH = fig.add_axes([0.01, 0.01, 1.0, 1.0]) # left, bottom, width, height (range 0 to 1)\n",
    "aH.title.set_color('white')\n",
    "\n",
    "aH.set_title(\"1sG\")\n",
    "aH.set_ylabel(\"Potential ($\\mu$V)\")\n",
    "aH.set_xlabel(\"Time (s)\")\n",
    "\n",
    "def plot_trial(pdcsv, axishandle, trialname, pbool):\n",
    "    pdcsv.data.currcsv.plot(x=\"t\", y=trialname, ax=axishandle, ls=\":\", alpha=pbool, label=trialname)\n",
    "    return axishandle.lines[-1]\n",
    "\n",
    "lH1 = plot_trial(a, aH, \"L1_1\", True)\n",
    "lH2 = plot_trial(a, aH, \"L1_2\", True)\n",
    "lH3 = plot_trial(a, aH, \"L1_3\", True)\n",
    "#lH4 = plot_trial(a, aH, \"L1_4\", True)\n",
    "#lH5 = plot_trial(a, aH, \"L1_5\", True)\n",
    "\n",
    "# alpha_slider = FloatSlider(min=0, max=1, step=.1, value=5)\n",
    "# @interact(alpha=alpha_slider)\n",
    "# def modalpha(alpha):\n",
    "#     print(alpha)\n",
    "#     lH1.lines[0]set_alpha(alpha)\n",
    "#a.data.currcsv.plot(x=\"t\", y=\"R1_1\", ax=aH, ls=\":\")\n",
    "\n",
    "\n",
    "tme = a.data.currcsv.t\n",
    "mean = a.data.currcsv[[\"L1_1\", \"L1_2\", \"L1_3\", \"L1_4\", \"L1_5\"]].mean(axis=1)\n",
    "lH = aH.plot(tme, mean, label=\"Mean\", color=[0, 0, 0], lw=2)"
   ]
  },
  {
   "cell_type": "code",
   "execution_count": null,
   "metadata": {
    "collapsed": false
   },
   "outputs": [],
   "source": [
    "selected = ToggleButton(True, description='L1_1')\n",
    "@interact(Selection=selected)\n",
    "def modalpha(Selection):\n",
    "    lH1.set_alpha(Selection)\n",
    "\n",
    "selected2 = ToggleButton(True, description='L1_2')\n",
    "@interact(Selection=selected2)\n",
    "def modalpha2(Selection):\n",
    "    lH2.set_alpha(Selection)\n",
    "\n",
    "selected3 = ToggleButton(True, description='L1_3')\n",
    "@interact(Selection=selected3)\n",
    "def modalpha3(Selection):\n",
    "    lH3.set_alpha(Selection)\n",
    "    "
   ]
  },
  {
   "cell_type": "code",
   "execution_count": null,
   "metadata": {
    "collapsed": false
   },
   "outputs": [],
   "source": []
  },
  {
   "cell_type": "code",
   "execution_count": null,
   "metadata": {
    "collapsed": false
   },
   "outputs": [],
   "source": [
    "ToggleButton?"
   ]
  },
  {
   "cell_type": "code",
   "execution_count": null,
   "metadata": {
    "collapsed": false
   },
   "outputs": [],
   "source": [
    "%matplotlib inline\n",
    "import numpy as np\n",
    "import matplotlib.pyplot as plt\n",
    "import matplotlib as mpl\n",
    "from ipywidgets import interact, FloatSlider, RadioButtons, ToggleButton\n",
    "\n",
    "alpha_slider = ToggleButton(True)\n",
    "# decorate the plot function with an environment from the UIs:\n",
    "@interact(alpha=alpha_slider)\n",
    "def plot(alpha):\n",
    "    fig, ax = plt.subplots(figsize=(4, 3),\n",
    "                       subplot_kw={'axisbg':'#EEEEEE',\n",
    "                                   'axisbelow':True})\n",
    "    ax.grid(color='w', linewidth=2, linestyle='solid')\n",
    "    tme = a.data.currcsv.t\n",
    "    mean = a.data.currcsv[[\"L1_1\", \"L1_2\", \"L1_3\", \"L1_4\", \"L1_5\"]].mean(axis=1)\n",
    "    lH = ax.plot(tme, mean, label=\"Mean\", color=[0, 0, 0], lw=2, alpha=alpha)\n",
    "    \n",
    "    T1 = a.data.currcsv.L1_1\n",
    "    lH = ax.plot(tme, T1, label=\"L1_1\", color=[1, 0, 0], lw=1, alpha=alpha)\n",
    "    "
   ]
  },
  {
   "cell_type": "code",
   "execution_count": null,
   "metadata": {
    "collapsed": false
   },
   "outputs": [],
   "source": [
    "from ipywidgets import interact, ToggleButton\n",
    "\n",
    "interact(plot, color=ToggleButton(value = False))"
   ]
  },
  {
   "cell_type": "code",
   "execution_count": null,
   "metadata": {
    "collapsed": false
   },
   "outputs": [],
   "source": []
  },
  {
   "cell_type": "code",
   "execution_count": null,
   "metadata": {
    "collapsed": true
   },
   "outputs": [],
   "source": []
  }
 ],
 "metadata": {
  "kernelspec": {
   "display_name": "Python 3",
   "language": "python",
   "name": "python3"
  },
  "language_info": {
   "codemirror_mode": {
    "name": "ipython",
    "version": 3
   },
   "file_extension": ".py",
   "mimetype": "text/x-python",
   "name": "python",
   "nbconvert_exporter": "python",
   "pygments_lexer": "ipython3",
   "version": "3.5.1"
  }
 },
 "nbformat": 4,
 "nbformat_minor": 0
}
