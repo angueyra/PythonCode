{
 "cells": [
  {
   "cell_type": "code",
   "execution_count": 2,
   "metadata": {
    "slideshow": {
     "slide_type": "-"
    }
   },
   "outputs": [
    {
     "name": "stdout",
     "output_type": "stream",
     "text": [
      "-September\n",
      "\t- September 00th - 02nd\n",
      "\t\t- Monday 00th\n",
      "\t\t- Tuesday 00th\n",
      "\t\t- Wednesday 00th\n",
      "\t\t- Thursday 00th\n",
      "\t\t- Friday 00th\n",
      "\t\t- Saturday 01st\n",
      "\t\t- Sunday 02nd\n",
      "\t- September 03rd - 09th\n",
      "\t\t- Monday 03rd\n",
      "\t\t- Tuesday 04th\n",
      "\t\t- Wednesday 05th\n",
      "\t\t- Thursday 06th\n",
      "\t\t- Friday 07th\n",
      "\t\t- Saturday 08th\n",
      "\t\t- Sunday 09th\n",
      "\t- September 10th - 16th\n",
      "\t\t- Monday 10th\n",
      "\t\t- Tuesday 11th\n",
      "\t\t- Wednesday 12th\n",
      "\t\t- Thursday 13th\n",
      "\t\t- Friday 14th\n",
      "\t\t- Saturday 15th\n",
      "\t\t- Sunday 16th\n",
      "\t- September 17th - 23th\n",
      "\t\t- Monday 17th\n",
      "\t\t- Tuesday 18th\n",
      "\t\t- Wednesday 19th\n",
      "\t\t- Thursday 20th\n",
      "\t\t- Friday 21th\n",
      "\t\t- Saturday 22th\n",
      "\t\t- Sunday 23th\n",
      "\t- September 24th - 30th\n",
      "\t\t- Monday 24th\n",
      "\t\t- Tuesday 25th\n",
      "\t\t- Wednesday 26th\n",
      "\t\t- Thursday 27th\n",
      "\t\t- Friday 28th\n",
      "\t\t- Saturday 29th\n",
      "\t\t- Sunday 30th\n"
     ]
    }
   ],
   "source": [
    "import calendar\n",
    "st_week=['Monday', 'Tuesday', 'Wednesday', 'Thursday', 'Friday', 'Saturday', 'Sunday']\n",
    "st_months=['January','February','March','April','May','June','July','August','September','October','November','December']\n",
    "def dprint(dnumber):\n",
    "    if dnumber==1:\n",
    "        ith = 'st'\n",
    "    elif dnumber==2:\n",
    "        ith = 'nd'\n",
    "    elif dnumber==3:\n",
    "        ith = 'rd'\n",
    "    else:\n",
    "        ith='th'\n",
    "    d='{:02g}'.format(dnumber) + ith\n",
    "    return d\n",
    "\n",
    "monthi=9\n",
    "month=st_months[monthi-1]\n",
    "calmonth=calendar.monthcalendar(2018,monthi)\n",
    "print ('-' + month)\n",
    "for i in range(len(calmonth)):\n",
    "    print ('\\t- '+ month + ' ' + dprint(calmonth[i][0]) + ' - ' + dprint(calmonth[i][6]))\n",
    "    for d in range(len(st_week)):\n",
    "        print ('\\t\\t- ' + st_week[d] + ' ' + dprint(calmonth[i][d]))\n"
   ]
  },
  {
   "cell_type": "code",
   "execution_count": null,
   "metadata": {
    "collapsed": true
   },
   "outputs": [],
   "source": []
  },
  {
   "cell_type": "code",
   "execution_count": null,
   "metadata": {
    "collapsed": true
   },
   "outputs": [],
   "source": []
  }
 ],
 "metadata": {
  "celltoolbar": "Slideshow",
  "kernelspec": {
   "display_name": "Python 3",
   "language": "python",
   "name": "python3"
  },
  "language_info": {
   "codemirror_mode": {
    "name": "ipython",
    "version": 3
   },
   "file_extension": ".py",
   "mimetype": "text/x-python",
   "name": "python",
   "nbconvert_exporter": "python",
   "pygments_lexer": "ipython3",
   "version": "3.5.5"
  }
 },
 "nbformat": 4,
 "nbformat_minor": 1
}
