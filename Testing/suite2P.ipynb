{
 "cells": [
  {
   "cell_type": "code",
   "execution_count": 4,
   "metadata": {},
   "outputs": [],
   "source": [
    "# !pip install suite2p"
   ]
  },
  {
   "cell_type": "code",
   "execution_count": 2,
   "metadata": {},
   "outputs": [
    {
     "name": "stdout",
     "output_type": "stream",
     "text": [
      "loaded default ops\n",
      "objc[71862]: Class FIFinderSyncExtensionHost is implemented in both /System/Library/PrivateFrameworks/FinderKit.framework/Versions/A/FinderKit (0x7fff8f820210) and /System/Library/PrivateFrameworks/FileProvider.framework/OverrideBundles/FinderSyncCollaborationFileProviderOverride.bundle/Contents/MacOS/FinderSyncCollaborationFileProviderOverride (0x1c2d348dc8). One of the two will be used. Which one is undefined.\n",
      "/Users/angueyraaristjm/Documents/LiImaging/TwoPhoton/ChAT_gCaMP6s_example/20190128_13_34_43\n",
      "Running suite2p!\n",
      "starting process\n",
      "{'data_path': ['/Users/angueyraaristjm/Documents/LiImaging/TwoPhoton/ChAT_gCaMP6s_example/20190128_13_34_43'], 'subfolders': [], 'save_path0': '/Users/angueyraaristjm/Documents/LiImaging/TwoPhoton/ChAT_gCaMP6s_example/20190128_13_34_43', 'fast_disk': '/Users/angueyraaristjm/Documents/LiImaging/TwoPhoton/ChAT_gCaMP6s_example/20190128_13_34_43'}\n",
      "/Users/angueyraaristjm/Documents/LiImaging/TwoPhoton/ChAT_gCaMP6s_example/20190128_13_34_43/suite2p/plane0/stat.npy\n",
      "no channel 2 labels found (redcell.npy)\n",
      "0\n",
      "/Users/angueyraaristjm/anaconda3/lib/python3.7/site-packages/suite2p/fig.py:134: RuntimeWarning: invalid value encountered in true_divide\n",
      "  istat = istat / (istat99-istat1)\n",
      "/Users/angueyraaristjm/anaconda3/lib/python3.7/site-packages/suite2p/fig.py:135: RuntimeWarning: invalid value encountered in minimum\n",
      "  istat = np.maximum(0, np.minimum(1, istat))\n",
      "/Users/angueyraaristjm/anaconda3/lib/python3.7/site-packages/suite2p/fig.py:135: RuntimeWarning: invalid value encountered in maximum\n",
      "  istat = np.maximum(0, np.minimum(1, istat))\n",
      "0.050331830978393555\n"
     ]
    }
   ],
   "source": [
    "!python -m suite2p"
   ]
  },
  {
   "cell_type": "code",
   "execution_count": null,
   "metadata": {},
   "outputs": [],
   "source": []
  }
 ],
 "metadata": {
  "kernelspec": {
   "display_name": "Python 3",
   "language": "python",
   "name": "python3"
  },
  "language_info": {
   "codemirror_mode": {
    "name": "ipython",
    "version": 3
   },
   "file_extension": ".py",
   "mimetype": "text/x-python",
   "name": "python",
   "nbconvert_exporter": "python",
   "pygments_lexer": "ipython3",
   "version": "3.7.1"
  }
 },
 "nbformat": 4,
 "nbformat_minor": 2
}
