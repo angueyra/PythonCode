{
 "cells": [
  {
   "cell_type": "code",
   "execution_count": 1,
   "metadata": {},
   "outputs": [
    {
     "name": "stderr",
     "output_type": "stream",
     "text": [
      "also installing the dependencies ‘colorspace’, ‘assertthat’, ‘utf8’, ‘ps’, ‘labeling’, ‘munsell’, ‘RColorBrewer’, ‘cli’, ‘fansi’, ‘pillar’, ‘pkgconfig’, ‘processx’, ‘BH’, ‘gtable’, ‘MASS’, ‘plyr’, ‘reshape2’, ‘scales’, ‘tibble’, ‘viridisLite’, ‘withr’, ‘callr’, ‘spatstat.data’, ‘nlme’, ‘rpart’, ‘spatstat.utils’, ‘mgcv’, ‘Matrix’, ‘deldir’, ‘abind’, ‘tensor’, ‘polyclip’, ‘goftest’, ‘yaml’, ‘highr’, ‘markdown’, ‘xfun’, ‘httpuv’, ‘mime’, ‘xtable’, ‘R6’, ‘sourcetools’, ‘later’, ‘promises’, ‘rlang’, ‘lazyeval’, ‘ggplot2’, ‘miniUI’, ‘codetools’, ‘webshot’, ‘spatstat’, ‘lattice’, ‘magic’, ‘htmlwidgets’, ‘knitr’, ‘shiny’, ‘crosstalk’, ‘manipulateWidget’, ‘R.methodsS3’, ‘R.oo’, ‘R.utils’, ‘foreign’, ‘RImageJROI’, ‘png’, ‘ttutils’, ‘sp’, ‘geometry’, ‘RTriangle’, ‘rgl’, ‘R.matlab’\n",
      "\n",
      "Warning message in install.packages(\"retistruct\"):\n",
      "“installation of package ‘ps’ had non-zero exit status”Warning message in install.packages(\"retistruct\"):\n",
      "“installation of package ‘polyclip’ had non-zero exit status”Warning message in install.packages(\"retistruct\"):\n",
      "“installation of package ‘processx’ had non-zero exit status”Warning message in install.packages(\"retistruct\"):\n",
      "“installation of package ‘callr’ had non-zero exit status”Warning message in install.packages(\"retistruct\"):\n",
      "“installation of package ‘httpuv’ had non-zero exit status”Warning message in install.packages(\"retistruct\"):\n",
      "“installation of package ‘webshot’ had non-zero exit status”Warning message in install.packages(\"retistruct\"):\n",
      "“installation of package ‘spatstat’ had non-zero exit status”Warning message in install.packages(\"retistruct\"):\n",
      "“installation of package ‘shiny’ had non-zero exit status”Warning message in install.packages(\"retistruct\"):\n",
      "“installation of package ‘RImageJROI’ had non-zero exit status”Warning message in install.packages(\"retistruct\"):\n",
      "“installation of package ‘miniUI’ had non-zero exit status”Warning message in install.packages(\"retistruct\"):\n",
      "“installation of package ‘crosstalk’ had non-zero exit status”Warning message in install.packages(\"retistruct\"):\n",
      "“installation of package ‘manipulateWidget’ had non-zero exit status”Warning message in install.packages(\"retistruct\"):\n",
      "“installation of package ‘rgl’ had non-zero exit status”Warning message in install.packages(\"retistruct\"):\n",
      "“installation of package ‘retistruct’ had non-zero exit status”Updating HTML index of packages in '.Library'\n",
      "Making 'packages.html' ... done\n"
     ]
    }
   ],
   "source": [
    "install.packages(\"retistruct\")"
   ]
  },
  {
   "cell_type": "code",
   "execution_count": 3,
   "metadata": {},
   "outputs": [
    {
     "name": "stderr",
     "output_type": "stream",
     "text": [
      "Warning message in install.packages(\"polyclip\"):\n",
      "“installation of package ‘polyclip’ had non-zero exit status”Updating HTML index of packages in '.Library'\n",
      "Making 'packages.html' ... done\n"
     ]
    }
   ],
   "source": [
    "install.packages(\"polyclip\")"
   ]
  },
  {
   "cell_type": "code",
   "execution_count": null,
   "metadata": {},
   "outputs": [],
   "source": []
  }
 ],
 "metadata": {
  "kernelspec": {
   "display_name": "R",
   "language": "R",
   "name": "ir"
  },
  "language_info": {
   "codemirror_mode": "r",
   "file_extension": ".r",
   "mimetype": "text/x-r-source",
   "name": "R",
   "pygments_lexer": "r",
   "version": "3.5.1"
  }
 },
 "nbformat": 4,
 "nbformat_minor": 2
}
